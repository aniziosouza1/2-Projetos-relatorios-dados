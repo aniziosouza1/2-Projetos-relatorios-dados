{
 "cells": [
  {
   "cell_type": "markdown",
   "id": "56c1f2eb-d924-49db-ba30-b7a30aef543d",
   "metadata": {},
   "source": [
    "# DATA 1"
   ]
  },
  {
   "cell_type": "code",
   "execution_count": null,
   "id": "43d9e11b-763a-4ebe-9768-215f5349167c",
   "metadata": {},
   "outputs": [],
   "source": []
  },
  {
   "cell_type": "code",
   "execution_count": null,
   "id": "e7e24293-973e-4ba8-abdc-e6bef7a36fba",
   "metadata": {},
   "outputs": [],
   "source": []
  },
  {
   "cell_type": "code",
   "execution_count": null,
   "id": "edcd7fda-2306-43cf-8587-a73d14786a18",
   "metadata": {},
   "outputs": [],
   "source": []
  },
  {
   "cell_type": "markdown",
   "id": "37b03a77-b8a2-4794-a53a-edc21f0dc774",
   "metadata": {},
   "source": [
    "### Importação das Bibliotecas"
   ]
  },
  {
   "cell_type": "markdown",
   "id": "38b38210-4b2f-4b0b-8dc0-02de0f5b1a3d",
   "metadata": {},
   "source": [
    "Run ALL Cels: Quando você executa o comando \"Run All Cells\" no JupyterLab (ou no Jupyter Notebook), as células não são executadas simultaneamente. Elas são executadas em sequência, de cima para baixo."
   ]
  },
  {
   "cell_type": "markdown",
   "id": "44b73f9a-34b6-45cd-82e3-3a52ad3cf52c",
   "metadata": {},
   "source": [
    "Sim, o Pandas é inteligente o suficiente para reconhecer e concatenar colunas com o mesmo nome, mesmo que elas estejam em ordens diferentes nos DataFrames que você está tentando juntar."
   ]
  },
  {
   "cell_type": "markdown",
   "id": "ad598e91-b3df-4c18-b647-66eac08bb274",
   "metadata": {},
   "source": [
    "Se um dos DataFrames que você está concatenando possui colunas que não existem no outro, o Pandas irá preencher os valores correspondentes nessas colunas com NaN (Not a Number) para as linhas do DataFrame que não continha essas colunas."
   ]
  },
  {
   "cell_type": "code",
   "execution_count": 1,
   "id": "bbdae580-185a-498c-ad55-934b06874187",
   "metadata": {},
   "outputs": [
    {
     "name": "stderr",
     "output_type": "stream",
     "text": [
      "C:\\Users\\Anizio\\anaconda3\\lib\\site-packages\\pandas\\core\\arrays\\masked.py:60: UserWarning: Pandas requires version '1.3.6' or newer of 'bottleneck' (version '1.3.5' currently installed).\n",
      "  from pandas.core import (\n"
     ]
    }
   ],
   "source": [
    "import pandas as pd\n",
    "import plotly.express as px"
   ]
  },
  {
   "cell_type": "markdown",
   "id": "bec5b941-908f-41a7-8aef-63cff52e4ada",
   "metadata": {},
   "source": [
    "### Inicio: Aprender a ter acesso a cada aba do excel com o código abaixo. \n",
    "- If your Excel file has multiple sheets, you might need to specify the sheet name\n",
    "- Sempre subtraia o número de linhas puladas pelo o total de linhas do dataset"
   ]
  },
  {
   "cell_type": "code",
   "execution_count": null,
   "id": "32220a8f-4477-4861-9250-f4801ee99462",
   "metadata": {},
   "outputs": [],
   "source": []
  },
  {
   "cell_type": "code",
   "execution_count": null,
   "id": "4068c4af-b211-4a47-af47-2806ba514c93",
   "metadata": {},
   "outputs": [],
   "source": []
  },
  {
   "cell_type": "code",
   "execution_count": null,
   "id": "ae70eebc-7f13-418f-81ea-0bc773238a93",
   "metadata": {},
   "outputs": [],
   "source": []
  },
  {
   "cell_type": "markdown",
   "id": "32871820-c655-49bd-b9ab-ef1293b723f9",
   "metadata": {},
   "source": [
    "# Messejana [MES] - PREPROCESSING 1"
   ]
  },
  {
   "cell_type": "code",
   "execution_count": 2,
   "id": "2ca05092-8c0b-4cba-ad0b-0c7d165bb535",
   "metadata": {},
   "outputs": [],
   "source": [
    "data1 = pd.read_excel('3.2 Mapa de Ocupação - OUT 2024.xlsx', sheet_name='MES', skiprows=1, nrows=98)"
   ]
  },
  {
   "cell_type": "code",
   "execution_count": 3,
   "id": "b83a756f-743f-4a8d-8d6d-33cf86a1168c",
   "metadata": {},
   "outputs": [],
   "source": [
    "dataMES= data1.copy()"
   ]
  },
  {
   "cell_type": "code",
   "execution_count": 4,
   "id": "2bd1f0c5-0d6a-4e77-b073-eaf654a6243c",
   "metadata": {},
   "outputs": [
    {
     "data": {
      "text/html": [
       "<div>\n",
       "<style scoped>\n",
       "    .dataframe tbody tr th:only-of-type {\n",
       "        vertical-align: middle;\n",
       "    }\n",
       "\n",
       "    .dataframe tbody tr th {\n",
       "        vertical-align: top;\n",
       "    }\n",
       "\n",
       "    .dataframe thead th {\n",
       "        text-align: right;\n",
       "    }\n",
       "</style>\n",
       "<table border=\"1\" class=\"dataframe\">\n",
       "  <thead>\n",
       "    <tr style=\"text-align: right;\">\n",
       "      <th></th>\n",
       "      <th>Unnamed: 0</th>\n",
       "      <th>Unnamed: 1</th>\n",
       "      <th>Unnamed: 2</th>\n",
       "      <th>CATEGORIA</th>\n",
       "      <th>MODALIDADE</th>\n",
       "      <th>DIA DA SEMANA</th>\n",
       "      <th>HORÁRIO</th>\n",
       "      <th>AUX.1</th>\n",
       "      <th>TURNO</th>\n",
       "      <th>AUX 2</th>\n",
       "      <th>...</th>\n",
       "      <th>2024-10-25 00:00:00</th>\n",
       "      <th>2024-10-28 00:00:00</th>\n",
       "      <th>2024-10-29 00:00:00</th>\n",
       "      <th>2024-10-30 00:00:00</th>\n",
       "      <th>2024-10-31 00:00:00</th>\n",
       "      <th>Média alunos p/ professor</th>\n",
       "      <th>Média</th>\n",
       "      <th>Alunos/professor</th>\n",
       "      <th>Ocupação Máxima</th>\n",
       "      <th>Professor</th>\n",
       "    </tr>\n",
       "  </thead>\n",
       "  <tbody>\n",
       "    <tr>\n",
       "      <th>0</th>\n",
       "      <td>NaN</td>\n",
       "      <td>NaN</td>\n",
       "      <td>NaN</td>\n",
       "      <td>QUADRA</td>\n",
       "      <td>BEACH TENNIS - INICIANTE</td>\n",
       "      <td>seg, qua, sex</td>\n",
       "      <td>05:30:00</td>\n",
       "      <td>05:30</td>\n",
       "      <td>MANHÃ</td>\n",
       "      <td>BEACH TENNIS - INICIANTE - 05:30</td>\n",
       "      <td>...</td>\n",
       "      <td>0</td>\n",
       "      <td>0</td>\n",
       "      <td>x</td>\n",
       "      <td>3</td>\n",
       "      <td>x</td>\n",
       "      <td>13.0</td>\n",
       "      <td>0.923077</td>\n",
       "      <td>NaN</td>\n",
       "      <td>NaN</td>\n",
       "      <td>NaN</td>\n",
       "    </tr>\n",
       "    <tr>\n",
       "      <th>1</th>\n",
       "      <td>NaN</td>\n",
       "      <td>NaN</td>\n",
       "      <td>NaN</td>\n",
       "      <td>QUADRA</td>\n",
       "      <td>BEACH TENNIS - INTERMEDIÁRIO</td>\n",
       "      <td>ter, qui</td>\n",
       "      <td>05:30:00</td>\n",
       "      <td>05:30</td>\n",
       "      <td>MANHÃ</td>\n",
       "      <td>BEACH TENNIS - INTERMEDIÁRIO - 05:30</td>\n",
       "      <td>...</td>\n",
       "      <td>x</td>\n",
       "      <td>x</td>\n",
       "      <td>5</td>\n",
       "      <td>x</td>\n",
       "      <td>6</td>\n",
       "      <td>11.0</td>\n",
       "      <td>4.636364</td>\n",
       "      <td>NaN</td>\n",
       "      <td>NaN</td>\n",
       "      <td>NaN</td>\n",
       "    </tr>\n",
       "    <tr>\n",
       "      <th>2</th>\n",
       "      <td>NaN</td>\n",
       "      <td>NaN</td>\n",
       "      <td>NaN</td>\n",
       "      <td>ADULTO</td>\n",
       "      <td>GREEN BIKE</td>\n",
       "      <td>seg, qua,sex</td>\n",
       "      <td>06:00:00</td>\n",
       "      <td>06:00</td>\n",
       "      <td>MANHÃ</td>\n",
       "      <td>GREEN BIKE - 06:00</td>\n",
       "      <td>...</td>\n",
       "      <td>10</td>\n",
       "      <td>7</td>\n",
       "      <td>x</td>\n",
       "      <td>10</td>\n",
       "      <td>x</td>\n",
       "      <td>11.0</td>\n",
       "      <td>7.454545</td>\n",
       "      <td>NaN</td>\n",
       "      <td>NaN</td>\n",
       "      <td>0.0</td>\n",
       "    </tr>\n",
       "    <tr>\n",
       "      <th>3</th>\n",
       "      <td>NaN</td>\n",
       "      <td>NaN</td>\n",
       "      <td>NaN</td>\n",
       "      <td>ADULTO</td>\n",
       "      <td>CROSSFIT</td>\n",
       "      <td>seg, ter,  qua, qui, sex</td>\n",
       "      <td>06:00:00</td>\n",
       "      <td>06:00</td>\n",
       "      <td>MANHÃ</td>\n",
       "      <td>CROSSFIT - 06:00</td>\n",
       "      <td>...</td>\n",
       "      <td>x</td>\n",
       "      <td>1</td>\n",
       "      <td>3</td>\n",
       "      <td>3</td>\n",
       "      <td>4</td>\n",
       "      <td>21.0</td>\n",
       "      <td>1.904762</td>\n",
       "      <td>NaN</td>\n",
       "      <td>NaN</td>\n",
       "      <td>0.0</td>\n",
       "    </tr>\n",
       "    <tr>\n",
       "      <th>4</th>\n",
       "      <td>NaN</td>\n",
       "      <td>NaN</td>\n",
       "      <td>NaN</td>\n",
       "      <td>MUSC - C/P</td>\n",
       "      <td>A - MUSCULAÇÃO COM PERSONAL</td>\n",
       "      <td>seg, ter, qua, qui, sex</td>\n",
       "      <td>06:00:00</td>\n",
       "      <td>06:00</td>\n",
       "      <td>MANHÃ</td>\n",
       "      <td>A - MUSCULAÇÃO COM PERSONAL - 06:00</td>\n",
       "      <td>...</td>\n",
       "      <td>8</td>\n",
       "      <td>8</td>\n",
       "      <td>2</td>\n",
       "      <td>10</td>\n",
       "      <td>8</td>\n",
       "      <td>23.0</td>\n",
       "      <td>6.608696</td>\n",
       "      <td>NaN</td>\n",
       "      <td>NaN</td>\n",
       "      <td>NaN</td>\n",
       "    </tr>\n",
       "  </tbody>\n",
       "</table>\n",
       "<p>5 rows × 40 columns</p>\n",
       "</div>"
      ],
      "text/plain": [
       "  Unnamed: 0  Unnamed: 1  Unnamed: 2   CATEGORIA  \\\n",
       "0        NaN         NaN         NaN      QUADRA   \n",
       "1        NaN         NaN         NaN      QUADRA   \n",
       "2        NaN         NaN         NaN      ADULTO   \n",
       "3        NaN         NaN         NaN      ADULTO   \n",
       "4        NaN         NaN         NaN  MUSC - C/P   \n",
       "\n",
       "                     MODALIDADE             DIA DA SEMANA   HORÁRIO  AUX.1  \\\n",
       "0      BEACH TENNIS - INICIANTE             seg, qua, sex  05:30:00  05:30   \n",
       "1  BEACH TENNIS - INTERMEDIÁRIO                  ter, qui  05:30:00  05:30   \n",
       "2                    GREEN BIKE              seg, qua,sex  06:00:00  06:00   \n",
       "3                      CROSSFIT  seg, ter,  qua, qui, sex  06:00:00  06:00   \n",
       "4   A - MUSCULAÇÃO COM PERSONAL   seg, ter, qua, qui, sex  06:00:00  06:00   \n",
       "\n",
       "   TURNO                                 AUX 2  ... 2024-10-25 00:00:00  \\\n",
       "0  MANHÃ      BEACH TENNIS - INICIANTE - 05:30  ...                   0   \n",
       "1  MANHÃ  BEACH TENNIS - INTERMEDIÁRIO - 05:30  ...                   x   \n",
       "2  MANHÃ                    GREEN BIKE - 06:00  ...                  10   \n",
       "3  MANHÃ                      CROSSFIT - 06:00  ...                   x   \n",
       "4  MANHÃ   A - MUSCULAÇÃO COM PERSONAL - 06:00  ...                   8   \n",
       "\n",
       "  2024-10-28 00:00:00 2024-10-29 00:00:00 2024-10-30 00:00:00  \\\n",
       "0                   0                   x                   3   \n",
       "1                   x                   5                   x   \n",
       "2                   7                   x                  10   \n",
       "3                   1                   3                   3   \n",
       "4                   8                   2                  10   \n",
       "\n",
       "  2024-10-31 00:00:00 Média alunos p/ professor     Média Alunos/professor  \\\n",
       "0                   x                      13.0  0.923077              NaN   \n",
       "1                   6                      11.0  4.636364              NaN   \n",
       "2                   x                      11.0  7.454545              NaN   \n",
       "3                   4                      21.0  1.904762              NaN   \n",
       "4                   8                      23.0  6.608696              NaN   \n",
       "\n",
       "  Ocupação Máxima Professor  \n",
       "0             NaN       NaN  \n",
       "1             NaN       NaN  \n",
       "2             NaN       0.0  \n",
       "3             NaN       0.0  \n",
       "4             NaN       NaN  \n",
       "\n",
       "[5 rows x 40 columns]"
      ]
     },
     "execution_count": 4,
     "metadata": {},
     "output_type": "execute_result"
    }
   ],
   "source": [
    "dataMES.head()"
   ]
  },
  {
   "cell_type": "code",
   "execution_count": null,
   "id": "8a3edfac-b32c-4e62-88af-d6d2262e676d",
   "metadata": {},
   "outputs": [],
   "source": []
  },
  {
   "cell_type": "code",
   "execution_count": null,
   "id": "fddce606-ef11-4435-8e5d-1448fa689376",
   "metadata": {},
   "outputs": [],
   "source": []
  },
  {
   "cell_type": "code",
   "execution_count": null,
   "id": "a7f7cb98-267e-40f0-95a2-ad1aa5bffeb4",
   "metadata": {},
   "outputs": [],
   "source": []
  },
  {
   "cell_type": "markdown",
   "id": "7836f40a-8ce1-42e2-8ccf-4a44be756d10",
   "metadata": {},
   "source": [
    "### 1 PASSO: Removendo colunas desnecessárias"
   ]
  },
  {
   "cell_type": "code",
   "execution_count": 5,
   "id": "1627a12f-bfb7-408e-83ca-8f5b90045a1e",
   "metadata": {},
   "outputs": [],
   "source": [
    "del dataMES['Unnamed: 0']\n",
    "del dataMES['Unnamed: 1']\n",
    "del dataMES['Unnamed: 2']"
   ]
  },
  {
   "cell_type": "code",
   "execution_count": 6,
   "id": "12714e1f-338e-4d7b-b91b-4468f687e49a",
   "metadata": {},
   "outputs": [],
   "source": [
    "del dataMES['HORÁRIO']\n",
    "del dataMES['AUX 2']\n",
    "del dataMES['AUX 3']"
   ]
  },
  {
   "cell_type": "markdown",
   "id": "11285bfb-034e-40a3-9d28-33f974a36f06",
   "metadata": {},
   "source": [
    "- PRECISAMOS RENOMEAR A COLUNA AUX1 COMO HORÁRIO"
   ]
  },
  {
   "cell_type": "code",
   "execution_count": 7,
   "id": "907333e6-a37f-4ddb-a314-f4b8c8f8a8d4",
   "metadata": {},
   "outputs": [],
   "source": [
    "dataMES.rename(columns={'AUX 1': 'HORÁRIO'}, inplace=True)"
   ]
  },
  {
   "cell_type": "code",
   "execution_count": null,
   "id": "096c682e-131d-4b00-8bc8-55d27c2b13d5",
   "metadata": {},
   "outputs": [],
   "source": []
  },
  {
   "cell_type": "code",
   "execution_count": null,
   "id": "0ea09586-be35-487e-95c8-2736bc05da40",
   "metadata": {},
   "outputs": [],
   "source": []
  },
  {
   "cell_type": "code",
   "execution_count": null,
   "id": "a88e8101-187c-4647-88b6-caa1dd7b9d0e",
   "metadata": {},
   "outputs": [],
   "source": []
  },
  {
   "cell_type": "code",
   "execution_count": null,
   "id": "f82543c6-88ca-46dd-a5b2-65d641c3d6cf",
   "metadata": {},
   "outputs": [],
   "source": []
  },
  {
   "cell_type": "markdown",
   "id": "cfac43a9-84aa-4fe9-a57c-550f2641632d",
   "metadata": {},
   "source": [
    "### 2 PASSO: Renomeando strings de datas, para que o pandas possa aceitar como colunas"
   ]
  },
  {
   "cell_type": "code",
   "execution_count": 8,
   "id": "be6878b6-bcd8-4438-8ca5-77b698baaf29",
   "metadata": {},
   "outputs": [
    {
     "name": "stdout",
     "output_type": "stream",
     "text": [
      "CATEGORIA\n",
      "MODALIDADE\n",
      "DIA DA SEMANA\n",
      "AUX.1\n",
      "TURNO\n",
      "PROFESSOR\n",
      "2024-10-01 00:00:00\n",
      "2024-10-02 00:00:00\n",
      "2024-10-03 00:00:00\n",
      "2024-10-04 00:00:00\n",
      "2024-10-07 00:00:00\n",
      "2024-10-08 00:00:00\n",
      "2024-10-09 00:00:00\n",
      "2024-10-10 00:00:00\n",
      "2024-10-11 00:00:00\n",
      "2024-10-14 00:00:00\n",
      "2024-10-15 00:00:00\n",
      "2024-10-16 00:00:00\n",
      "2024-10-17 00:00:00\n",
      "2024-10-18 00:00:00\n",
      "2024-10-21 00:00:00\n",
      "2024-10-22 00:00:00\n",
      "2024-10-23 00:00:00\n",
      "2024-10-24 00:00:00\n",
      "2024-10-25 00:00:00\n",
      "2024-10-28 00:00:00\n",
      "2024-10-29 00:00:00\n",
      "2024-10-30 00:00:00\n",
      "2024-10-31 00:00:00\n",
      "Média alunos p/ professor\n",
      "Média\n",
      "Alunos/professor\n",
      "Ocupação Máxima\n",
      "Professor\n"
     ]
    }
   ],
   "source": [
    "for i in dataMES.columns:\n",
    "    print(i)"
   ]
  },
  {
   "cell_type": "code",
   "execution_count": 9,
   "id": "ea2c3752-d787-4fd0-956b-afaf5bd820c8",
   "metadata": {},
   "outputs": [],
   "source": [
    "dataMES.columns = [\n",
    "'CATEGORIA',\n",
    "'MODALIDADE',\n",
    "'DIA DA SEMANA',\n",
    "'HORÁRIO',\n",
    "'TURNO',\n",
    "'PROFESSOR',\n",
    "'2024-10-01 00:00:00',\n",
    "'2024-10-02 00:00:00',\n",
    "'2024-10-03 00:00:00',\n",
    "'2024-10-04 00:00:00',\n",
    "'2024-10-07 00:00:00',\n",
    "'2024-10-08 00:00:00',\n",
    "'2024-10-09 00:00:00',\n",
    "'2024-10-10 00:00:00',\n",
    "'2024-10-11 00:00:00',\n",
    "'2024-10-14 00:00:00',\n",
    "'2024-10-15 00:00:00',\n",
    "'2024-10-16 00:00:00',\n",
    "'2024-10-17 00:00:00',\n",
    "'2024-10-18 00:00:00',\n",
    "'2024-10-21 00:00:00',\n",
    "'2024-10-22 00:00:00',\n",
    "'2024-10-23 00:00:00',\n",
    "'2024-10-24 00:00:00',\n",
    "'2024-10-25 00:00:00',\n",
    "'2024-10-28 00:00:00',\n",
    "'2024-10-29 00:00:00',\n",
    "'2024-10-30 00:00:00',\n",
    "'2024-10-31 00:00:00',\n",
    "'Média alunos p/ professor',\n",
    "'Média',\n",
    "'Alunos/professor',\n",
    "'Ocupação Máxima',\n",
    "'Professor']"
   ]
  },
  {
   "cell_type": "code",
   "execution_count": 10,
   "id": "ed08ad72-9d97-4acb-ba7a-80c6cfdfdeb3",
   "metadata": {},
   "outputs": [
    {
     "data": {
      "text/plain": [
       "Index(['CATEGORIA', 'MODALIDADE', 'DIA DA SEMANA', 'HORÁRIO', 'TURNO',\n",
       "       'PROFESSOR', '2024-10-01 00:00:00', '2024-10-02 00:00:00',\n",
       "       '2024-10-03 00:00:00', '2024-10-04 00:00:00', '2024-10-07 00:00:00',\n",
       "       '2024-10-08 00:00:00', '2024-10-09 00:00:00', '2024-10-10 00:00:00',\n",
       "       '2024-10-11 00:00:00', '2024-10-14 00:00:00', '2024-10-15 00:00:00',\n",
       "       '2024-10-16 00:00:00', '2024-10-17 00:00:00', '2024-10-18 00:00:00',\n",
       "       '2024-10-21 00:00:00', '2024-10-22 00:00:00', '2024-10-23 00:00:00',\n",
       "       '2024-10-24 00:00:00', '2024-10-25 00:00:00', '2024-10-28 00:00:00',\n",
       "       '2024-10-29 00:00:00', '2024-10-30 00:00:00', '2024-10-31 00:00:00',\n",
       "       'Média alunos p/ professor', 'Média', 'Alunos/professor',\n",
       "       'Ocupação Máxima', 'Professor'],\n",
       "      dtype='object')"
      ]
     },
     "execution_count": 10,
     "metadata": {},
     "output_type": "execute_result"
    }
   ],
   "source": [
    "dataMES.columns"
   ]
  },
  {
   "cell_type": "code",
   "execution_count": null,
   "id": "4fff05b4-7506-4148-af2c-08ae7052d54f",
   "metadata": {},
   "outputs": [],
   "source": []
  },
  {
   "cell_type": "code",
   "execution_count": null,
   "id": "22cf40ea-4d11-485a-84fd-ae27eadeb0df",
   "metadata": {},
   "outputs": [],
   "source": []
  },
  {
   "cell_type": "code",
   "execution_count": null,
   "id": "559f4e0d-774c-48e3-b45f-867902ecbfc9",
   "metadata": {},
   "outputs": [],
   "source": []
  },
  {
   "cell_type": "code",
   "execution_count": null,
   "id": "abc3c6e8-434a-405d-911b-48ba6fe17018",
   "metadata": {},
   "outputs": [],
   "source": []
  },
  {
   "cell_type": "code",
   "execution_count": null,
   "id": "d09c1ec5-c18b-4fa5-b065-6047622a4bda",
   "metadata": {},
   "outputs": [],
   "source": []
  },
  {
   "cell_type": "markdown",
   "id": "65aa97ef-b2a5-41c4-86ef-6e03e477d587",
   "metadata": {},
   "source": [
    "### PASSO 3: Escolhendo colunas com o nome de 'datas', para renomear pelo o tipo dia, mês e ano. e removendo os 00 de horas"
   ]
  },
  {
   "cell_type": "code",
   "execution_count": 11,
   "id": "c3c07ea8-069d-4751-a65f-a2b966a35145",
   "metadata": {},
   "outputs": [],
   "source": [
    "colunas = ['2024-10-01 00:00:00',\n",
    "'2024-10-02 00:00:00',\n",
    "'2024-10-03 00:00:00',\n",
    "'2024-10-04 00:00:00',\n",
    "'2024-10-07 00:00:00',\n",
    "'2024-10-08 00:00:00',\n",
    "'2024-10-09 00:00:00',\n",
    "'2024-10-10 00:00:00',\n",
    "'2024-10-11 00:00:00',\n",
    "'2024-10-14 00:00:00',\n",
    "'2024-10-15 00:00:00',\n",
    "'2024-10-16 00:00:00',\n",
    "'2024-10-17 00:00:00',\n",
    "'2024-10-18 00:00:00',\n",
    "'2024-10-21 00:00:00',\n",
    "'2024-10-22 00:00:00',\n",
    "'2024-10-23 00:00:00',\n",
    "'2024-10-24 00:00:00',\n",
    "'2024-10-25 00:00:00',\n",
    "'2024-10-28 00:00:00',\n",
    "'2024-10-29 00:00:00',\n",
    "'2024-10-30 00:00:00',\n",
    "'2024-10-31 00:00:00',]"
   ]
  },
  {
   "cell_type": "markdown",
   "id": "0a73144e-7a01-42a1-badc-f8dd28d19297",
   "metadata": {},
   "source": [
    "Usando o loop for para mudar remover os zeros das colunas e alterar o nome para o dia, mês e ano"
   ]
  },
  {
   "cell_type": "code",
   "execution_count": 12,
   "id": "f1a475dd-5302-48f7-87be-60e921e9f0d3",
   "metadata": {},
   "outputs": [],
   "source": [
    "novas_colunas = []"
   ]
  },
  {
   "cell_type": "code",
   "execution_count": 13,
   "id": "b46e29a0-7e6b-4402-b2b9-65b07fccdb30",
   "metadata": {},
   "outputs": [],
   "source": [
    "for columns in colunas:\n",
    "    # Remove a parte da hora\n",
    "    data_sem_hora = columns.split(' ')[0]\n",
    "    \n",
    "    # Formata para o formato DD-MM-YYYY\n",
    "    ano, mes, dia = data_sem_hora.split('-')\n",
    "    novo_nome = f'{dia}-{mes}-{ano}'\n",
    "    novas_colunas.append(novo_nome)"
   ]
  },
  {
   "cell_type": "markdown",
   "id": "c973f318-f853-49d2-9bb0-754b93844c7c",
   "metadata": {},
   "source": [
    "colunas renomeadas com sucesso!"
   ]
  },
  {
   "cell_type": "code",
   "execution_count": 14,
   "id": "10b88405-a097-4da6-8c2a-4f9875b53380",
   "metadata": {},
   "outputs": [
    {
     "data": {
      "text/plain": [
       "['01-10-2024',\n",
       " '02-10-2024',\n",
       " '03-10-2024',\n",
       " '04-10-2024',\n",
       " '07-10-2024',\n",
       " '08-10-2024',\n",
       " '09-10-2024',\n",
       " '10-10-2024',\n",
       " '11-10-2024',\n",
       " '14-10-2024',\n",
       " '15-10-2024',\n",
       " '16-10-2024',\n",
       " '17-10-2024',\n",
       " '18-10-2024',\n",
       " '21-10-2024',\n",
       " '22-10-2024',\n",
       " '23-10-2024',\n",
       " '24-10-2024',\n",
       " '25-10-2024',\n",
       " '28-10-2024',\n",
       " '29-10-2024',\n",
       " '30-10-2024',\n",
       " '31-10-2024']"
      ]
     },
     "execution_count": 14,
     "metadata": {},
     "output_type": "execute_result"
    }
   ],
   "source": [
    "novas_colunas"
   ]
  },
  {
   "cell_type": "code",
   "execution_count": null,
   "id": "e588784c-ca90-4a75-a55c-9522cc4c4fbd",
   "metadata": {},
   "outputs": [],
   "source": []
  },
  {
   "cell_type": "code",
   "execution_count": null,
   "id": "a8c0e229-317a-43d0-af4a-5605f920a64c",
   "metadata": {},
   "outputs": [],
   "source": []
  },
  {
   "cell_type": "code",
   "execution_count": null,
   "id": "77063f4c-2633-4ba5-adb9-07f653f47ceb",
   "metadata": {},
   "outputs": [],
   "source": []
  },
  {
   "cell_type": "code",
   "execution_count": null,
   "id": "d90f6250-37a5-496f-b78e-4f66f19449c0",
   "metadata": {},
   "outputs": [],
   "source": []
  },
  {
   "cell_type": "code",
   "execution_count": null,
   "id": "58185132-3433-4fb3-8d20-c6a8ef65e1b7",
   "metadata": {},
   "outputs": [],
   "source": []
  },
  {
   "cell_type": "code",
   "execution_count": null,
   "id": "77106925-6c63-41e2-9a7c-81f49342e729",
   "metadata": {},
   "outputs": [],
   "source": []
  },
  {
   "cell_type": "markdown",
   "id": "0f5ee4c2-bbf6-4e9e-966b-663fa70b7ebd",
   "metadata": {},
   "source": [
    "### PASSO 4 renomeando colunas e acrescentando o novo formato "
   ]
  },
  {
   "cell_type": "markdown",
   "id": "28f60051-0722-4b06-afe2-cdbc8483e286",
   "metadata": {},
   "source": [
    "copie as colunas que escolheu para renomear, e cole o formato novo no lugar das velhas"
   ]
  },
  {
   "cell_type": "code",
   "execution_count": 15,
   "id": "e44c318d-4763-435d-a2c0-e4d8c31a94dd",
   "metadata": {},
   "outputs": [],
   "source": [
    "dataMES.columns = [\n",
    "'CATEGORIA',\n",
    "'MODALIDADE',\n",
    "'DIA DA SEMANA',\n",
    "'HORÁRIO',\n",
    "'TURNO',\n",
    "'PROFESSOR',\n",
    "'01-10-2024',\n",
    "'02-10-2024',\n",
    "'03-10-2024',\n",
    "'04-10-2024',\n",
    "'07-10-2024',\n",
    "'08-10-2024',\n",
    "'09-10-2024',\n",
    "'10-10-2024',\n",
    "'11-10-2024',\n",
    "'14-10-2024',\n",
    "'15-10-2024',\n",
    "'16-10-2024',\n",
    "'17-10-2024',\n",
    "'18-10-2024',\n",
    "'21-10-2024',\n",
    "'22-10-2024',\n",
    "'23-10-2024',\n",
    "'24-10-2024',\n",
    "'25-10-2024',\n",
    "'28-10-2024',\n",
    "'29-10-2024',\n",
    "'30-10-2024',\n",
    "'31-10-2024',\n",
    "'Média alunos p/ professor',\n",
    "'Média',\n",
    "'Alunos/professor',\n",
    "'Ocupação Máxima',\n",
    "'Professor']"
   ]
  },
  {
   "cell_type": "code",
   "execution_count": null,
   "id": "593dab4e-86bd-4b7e-bec5-4a322ea2edbd",
   "metadata": {},
   "outputs": [],
   "source": []
  },
  {
   "cell_type": "code",
   "execution_count": null,
   "id": "3f3f2c02-844f-4016-b9a4-4c44441eb3f9",
   "metadata": {},
   "outputs": [],
   "source": []
  },
  {
   "cell_type": "code",
   "execution_count": null,
   "id": "236634d0-dd4e-484d-bdc6-ef7d905e3e45",
   "metadata": {},
   "outputs": [],
   "source": []
  },
  {
   "cell_type": "markdown",
   "id": "3893aa0f-7c4e-4bbb-a288-9765415016e3",
   "metadata": {},
   "source": [
    "### 5 PASSO: Usar o Loop for para substitituir os valores das frequencia de 'x' e 'X' por zero, com o método do pd.to_numeric) "
   ]
  },
  {
   "cell_type": "markdown",
   "id": "eea37cff-3ce1-488b-b24d-6313f179f4b2",
   "metadata": {},
   "source": [
    "Escolhendo apenas as colunas de datas"
   ]
  },
  {
   "cell_type": "code",
   "execution_count": 16,
   "id": "06f530ca-f2e7-448a-9aa5-569bb9d24d1f",
   "metadata": {},
   "outputs": [],
   "source": [
    "colunas = ['01-10-2024',\n",
    "'02-10-2024',\n",
    "'03-10-2024',\n",
    "'04-10-2024',\n",
    "'07-10-2024',\n",
    "'08-10-2024',\n",
    "'09-10-2024',\n",
    "'10-10-2024',\n",
    "'11-10-2024',\n",
    "'14-10-2024',\n",
    "'15-10-2024',\n",
    "'16-10-2024',\n",
    "'17-10-2024',\n",
    "'18-10-2024',\n",
    "'21-10-2024',\n",
    "'22-10-2024',\n",
    "'23-10-2024',\n",
    "'24-10-2024',\n",
    "'25-10-2024',\n",
    "'28-10-2024',\n",
    "'29-10-2024',\n",
    "'30-10-2024',\n",
    "'31-10-2024']"
   ]
  },
  {
   "cell_type": "markdown",
   "id": "81bbd04a-71c7-4e76-b537-9a6e627015c4",
   "metadata": {},
   "source": [
    "Fazendo a limpeza profunda, formatando valores para numeros, preenchendo com zeros os nulos e transformando em inteiros"
   ]
  },
  {
   "cell_type": "code",
   "execution_count": 17,
   "id": "46ad72f7-eec1-4dab-8a55-f14aeb7669c0",
   "metadata": {},
   "outputs": [],
   "source": [
    "for columns in colunas:\n",
    "    # dataMES[columns] = pd.to_numeric(dataMES[columns], errors='coerce')\n",
    "    dataMES[columns] = pd.to_numeric(dataMES[columns], errors='coerce').fillna(0).astype(int)"
   ]
  },
  {
   "cell_type": "code",
   "execution_count": 18,
   "id": "52be2d70-9eb6-4c3c-bc4f-f57b854dd753",
   "metadata": {},
   "outputs": [
    {
     "data": {
      "text/plain": [
       "Index(['CATEGORIA', 'MODALIDADE', 'DIA DA SEMANA', 'HORÁRIO', 'TURNO',\n",
       "       'PROFESSOR', '01-10-2024', '02-10-2024', '03-10-2024', '04-10-2024',\n",
       "       '07-10-2024', '08-10-2024', '09-10-2024', '10-10-2024', '11-10-2024',\n",
       "       '14-10-2024', '15-10-2024', '16-10-2024', '17-10-2024', '18-10-2024',\n",
       "       '21-10-2024', '22-10-2024', '23-10-2024', '24-10-2024', '25-10-2024',\n",
       "       '28-10-2024', '29-10-2024', '30-10-2024', '31-10-2024',\n",
       "       'Média alunos p/ professor', 'Média', 'Alunos/professor',\n",
       "       'Ocupação Máxima', 'Professor'],\n",
       "      dtype='object')"
      ]
     },
     "execution_count": 18,
     "metadata": {},
     "output_type": "execute_result"
    }
   ],
   "source": [
    "dataMES.columns"
   ]
  },
  {
   "cell_type": "code",
   "execution_count": null,
   "id": "6838d904-9bac-44ed-8740-9bcab02988bd",
   "metadata": {},
   "outputs": [],
   "source": []
  },
  {
   "cell_type": "code",
   "execution_count": null,
   "id": "0e2feed4-39af-400c-982e-797f140516ee",
   "metadata": {},
   "outputs": [],
   "source": []
  },
  {
   "cell_type": "code",
   "execution_count": null,
   "id": "f16f22f3-0e9f-4c7c-899f-61b5d8d7c3aa",
   "metadata": {},
   "outputs": [],
   "source": []
  },
  {
   "cell_type": "markdown",
   "id": "1fe86457-3f40-446f-977a-265bdbd6adaf",
   "metadata": {},
   "source": [
    "### PASSO 6: MELT derretendo as colunas em formato de datas"
   ]
  },
  {
   "cell_type": "markdown",
   "id": "7aac0ddf-d147-4c7a-9058-53d9ad34fcf3",
   "metadata": {},
   "source": [
    "o MELT ele pega as colunas que estão na horizontal e cria uma coluna de categorias, e depois ele cria outra coluna com os valores dessas colunas que foram transformadas em dados categóricos"
   ]
  },
  {
   "cell_type": "code",
   "execution_count": null,
   "id": "62de385e-5921-45d2-8b47-88d8bdf88ba4",
   "metadata": {},
   "outputs": [],
   "source": []
  },
  {
   "cell_type": "markdown",
   "id": "038e4283-c133-4815-8a4d-bc62f3ef6158",
   "metadata": {},
   "source": [
    "#### Selecionando colunas para o MELT"
   ]
  },
  {
   "cell_type": "code",
   "execution_count": 19,
   "id": "d0921dcf-047e-4874-af98-23c5957de201",
   "metadata": {},
   "outputs": [],
   "source": [
    "colunas_para_melt = [\n",
    "    '01-10-2024',\n",
    "    '02-10-2024',\n",
    "    '03-10-2024',\n",
    "    '04-10-2024',\n",
    "    '07-10-2024',\n",
    "    '08-10-2024',\n",
    "    '09-10-2024',\n",
    "    '10-10-2024',\n",
    "    '11-10-2024',\n",
    "    '14-10-2024',\n",
    "    '15-10-2024',\n",
    "    '16-10-2024',\n",
    "    '17-10-2024',\n",
    "    '18-10-2024',\n",
    "    '21-10-2024',\n",
    "    '22-10-2024',\n",
    "    '23-10-2024',\n",
    "    '24-10-2024',\n",
    "    '25-10-2024',\n",
    "    '28-10-2024',\n",
    "    '29-10-2024',\n",
    "    '30-10-2024',\n",
    "    '31-10-2024']"
   ]
  },
  {
   "cell_type": "code",
   "execution_count": null,
   "id": "76d548b1-6f20-43f5-a8fb-02901d2411c7",
   "metadata": {},
   "outputs": [],
   "source": []
  },
  {
   "cell_type": "code",
   "execution_count": null,
   "id": "b43d8538-3483-4bd5-9e35-af140eb572bd",
   "metadata": {},
   "outputs": [],
   "source": []
  },
  {
   "cell_type": "code",
   "execution_count": null,
   "id": "870de5a9-ab3d-425c-8826-3d53388835ce",
   "metadata": {},
   "outputs": [],
   "source": []
  },
  {
   "cell_type": "code",
   "execution_count": null,
   "id": "08833c68-82e9-4753-a8f9-06e01d829dd2",
   "metadata": {},
   "outputs": [],
   "source": []
  },
  {
   "cell_type": "markdown",
   "id": "be71967a-50a6-40d7-8c1d-20e56bc1fcc8",
   "metadata": {},
   "source": [
    "#### Indentificando as colunas que Eu quero manter em meu dataframe"
   ]
  },
  {
   "cell_type": "code",
   "execution_count": 20,
   "id": "2aa99a52-67bf-4d09-93cc-de8f9c2bcb11",
   "metadata": {},
   "outputs": [],
   "source": [
    "# Identifica as colunas que você quer manter como identificadoras (id_vars)\n",
    "# São as colunas que não serão \"unpivoted\"\n",
    "id_vars_cols = [columns for columns in dataMES.columns if columns not in colunas_para_melt]"
   ]
  },
  {
   "cell_type": "code",
   "execution_count": null,
   "id": "b0c15854-1511-409d-9584-f1df328dc407",
   "metadata": {},
   "outputs": [],
   "source": []
  },
  {
   "cell_type": "code",
   "execution_count": null,
   "id": "353ebc03-de08-402c-937d-fcdf2a7cfff0",
   "metadata": {},
   "outputs": [],
   "source": []
  },
  {
   "cell_type": "code",
   "execution_count": null,
   "id": "b9bbd1bf-e5cd-4047-a3b6-ff0db68f33b9",
   "metadata": {},
   "outputs": [],
   "source": []
  },
  {
   "cell_type": "markdown",
   "id": "dd9ee5ed-6fdd-435b-9828-66fe1a84657a",
   "metadata": {},
   "source": [
    "#### Realiza o melt apenas nas colunas de datas"
   ]
  },
  {
   "cell_type": "code",
   "execution_count": 21,
   "id": "ebf1862c-99cf-4bab-a825-c1e0e344c2e1",
   "metadata": {},
   "outputs": [],
   "source": [
    "dataMES_melted = pd.melt(dataMES,\n",
    "                      id_vars=id_vars_cols, #colunas que Eu deixei, que ficaram.\n",
    "                      value_vars=colunas_para_melt, #colunas que vão se transformar.\n",
    "                      var_name='Dias de Aulas', # nome da coluna categorica\n",
    "                      value_name='Frequencia de Alunos') # nome da coluna de valores"
   ]
  },
  {
   "cell_type": "code",
   "execution_count": 22,
   "id": "706863de-a48e-4457-bbdf-e8866f16097d",
   "metadata": {},
   "outputs": [
    {
     "data": {
      "text/html": [
       "<div>\n",
       "<style scoped>\n",
       "    .dataframe tbody tr th:only-of-type {\n",
       "        vertical-align: middle;\n",
       "    }\n",
       "\n",
       "    .dataframe tbody tr th {\n",
       "        vertical-align: top;\n",
       "    }\n",
       "\n",
       "    .dataframe thead th {\n",
       "        text-align: right;\n",
       "    }\n",
       "</style>\n",
       "<table border=\"1\" class=\"dataframe\">\n",
       "  <thead>\n",
       "    <tr style=\"text-align: right;\">\n",
       "      <th></th>\n",
       "      <th>CATEGORIA</th>\n",
       "      <th>MODALIDADE</th>\n",
       "      <th>DIA DA SEMANA</th>\n",
       "      <th>HORÁRIO</th>\n",
       "      <th>TURNO</th>\n",
       "      <th>PROFESSOR</th>\n",
       "      <th>Média alunos p/ professor</th>\n",
       "      <th>Média</th>\n",
       "      <th>Alunos/professor</th>\n",
       "      <th>Ocupação Máxima</th>\n",
       "      <th>Professor</th>\n",
       "      <th>Dias de Aulas</th>\n",
       "      <th>Frequencia de Alunos</th>\n",
       "    </tr>\n",
       "  </thead>\n",
       "  <tbody>\n",
       "    <tr>\n",
       "      <th>0</th>\n",
       "      <td>QUADRA</td>\n",
       "      <td>BEACH TENNIS - INICIANTE</td>\n",
       "      <td>seg, qua, sex</td>\n",
       "      <td>05:30</td>\n",
       "      <td>MANHÃ</td>\n",
       "      <td>KELY</td>\n",
       "      <td>13.0</td>\n",
       "      <td>0.923077</td>\n",
       "      <td>NaN</td>\n",
       "      <td>NaN</td>\n",
       "      <td>NaN</td>\n",
       "      <td>01-10-2024</td>\n",
       "      <td>0</td>\n",
       "    </tr>\n",
       "    <tr>\n",
       "      <th>1</th>\n",
       "      <td>QUADRA</td>\n",
       "      <td>BEACH TENNIS - INTERMEDIÁRIO</td>\n",
       "      <td>ter, qui</td>\n",
       "      <td>05:30</td>\n",
       "      <td>MANHÃ</td>\n",
       "      <td>KELY</td>\n",
       "      <td>11.0</td>\n",
       "      <td>4.636364</td>\n",
       "      <td>NaN</td>\n",
       "      <td>NaN</td>\n",
       "      <td>NaN</td>\n",
       "      <td>01-10-2024</td>\n",
       "      <td>4</td>\n",
       "    </tr>\n",
       "    <tr>\n",
       "      <th>2</th>\n",
       "      <td>ADULTO</td>\n",
       "      <td>GREEN BIKE</td>\n",
       "      <td>seg, qua,sex</td>\n",
       "      <td>06:00</td>\n",
       "      <td>MANHÃ</td>\n",
       "      <td>LINDY</td>\n",
       "      <td>11.0</td>\n",
       "      <td>7.454545</td>\n",
       "      <td>NaN</td>\n",
       "      <td>NaN</td>\n",
       "      <td>0.0</td>\n",
       "      <td>01-10-2024</td>\n",
       "      <td>0</td>\n",
       "    </tr>\n",
       "  </tbody>\n",
       "</table>\n",
       "</div>"
      ],
      "text/plain": [
       "  CATEGORIA                    MODALIDADE  DIA DA SEMANA HORÁRIO  TURNO  \\\n",
       "0    QUADRA      BEACH TENNIS - INICIANTE  seg, qua, sex   05:30  MANHÃ   \n",
       "1    QUADRA  BEACH TENNIS - INTERMEDIÁRIO       ter, qui   05:30  MANHÃ   \n",
       "2    ADULTO                    GREEN BIKE   seg, qua,sex   06:00  MANHÃ   \n",
       "\n",
       "  PROFESSOR  Média alunos p/ professor     Média  Alunos/professor  \\\n",
       "0      KELY                       13.0  0.923077               NaN   \n",
       "1      KELY                       11.0  4.636364               NaN   \n",
       "2     LINDY                       11.0  7.454545               NaN   \n",
       "\n",
       "   Ocupação Máxima  Professor Dias de Aulas  Frequencia de Alunos  \n",
       "0              NaN        NaN    01-10-2024                     0  \n",
       "1              NaN        NaN    01-10-2024                     4  \n",
       "2              NaN        0.0    01-10-2024                     0  "
      ]
     },
     "execution_count": 22,
     "metadata": {},
     "output_type": "execute_result"
    }
   ],
   "source": [
    "dataMES_melted.head(3)"
   ]
  },
  {
   "cell_type": "code",
   "execution_count": 23,
   "id": "2a280553-08b5-4ae3-a8e8-b2a3f53c88bb",
   "metadata": {},
   "outputs": [
    {
     "data": {
      "text/plain": [
       "26782"
      ]
     },
     "execution_count": 23,
     "metadata": {},
     "output_type": "execute_result"
    }
   ],
   "source": [
    "dataMES_melted['Frequencia de Alunos'].sum()"
   ]
  },
  {
   "cell_type": "code",
   "execution_count": null,
   "id": "4a228a7f-c075-4009-b74e-d2abab3b3cbe",
   "metadata": {},
   "outputs": [],
   "source": []
  },
  {
   "cell_type": "markdown",
   "id": "0e755724-1db0-4d29-b8ac-90a18f126538",
   "metadata": {},
   "source": [
    "___"
   ]
  },
  {
   "cell_type": "code",
   "execution_count": null,
   "id": "3cf96aa6-03cc-4e35-9334-89a0fbc257c2",
   "metadata": {},
   "outputs": [],
   "source": []
  },
  {
   "cell_type": "code",
   "execution_count": null,
   "id": "d1696692-6570-42e3-9737-043bfe4211ca",
   "metadata": {},
   "outputs": [],
   "source": []
  },
  {
   "cell_type": "code",
   "execution_count": null,
   "id": "626cba88-765b-4f08-b31b-9bb755facbc9",
   "metadata": {},
   "outputs": [],
   "source": []
  },
  {
   "cell_type": "markdown",
   "id": "96dde6cd-583d-4af7-bf27-6f121df5b3c4",
   "metadata": {},
   "source": [
    "___"
   ]
  },
  {
   "cell_type": "markdown",
   "id": "519f7139-2ec7-48ac-8403-14ee3944ccf7",
   "metadata": {},
   "source": [
    "# Aldeota [ALD] - PREPROCESSING 2"
   ]
  },
  {
   "cell_type": "code",
   "execution_count": 24,
   "id": "7b5ba781-3f2c-44c3-b784-cd2522d18b8e",
   "metadata": {},
   "outputs": [],
   "source": [
    "data2 = pd.read_excel('3.2 Mapa de Ocupação - OUT 2024.xlsx', sheet_name='ALD', skiprows=1, nrows=204)"
   ]
  },
  {
   "cell_type": "code",
   "execution_count": 25,
   "id": "c1d4d70c-fdbf-4bbf-b458-6e81055f001b",
   "metadata": {},
   "outputs": [],
   "source": [
    "dataALD= data2.copy()"
   ]
  },
  {
   "cell_type": "code",
   "execution_count": null,
   "id": "7f4974fa-b9fa-4ff0-9ab9-dc2391c5e852",
   "metadata": {},
   "outputs": [],
   "source": []
  },
  {
   "cell_type": "code",
   "execution_count": null,
   "id": "c679529b-55a6-4cbb-989d-2ac296b8dfa4",
   "metadata": {},
   "outputs": [],
   "source": []
  },
  {
   "cell_type": "code",
   "execution_count": null,
   "id": "ee0747b3-ba02-49a7-8723-b3f31c72e3e9",
   "metadata": {},
   "outputs": [],
   "source": []
  },
  {
   "cell_type": "markdown",
   "id": "60da4852-9333-408a-bb19-0b18510c9767",
   "metadata": {},
   "source": [
    "### 1 PASSO: Removendo colunas desnecessárias"
   ]
  },
  {
   "cell_type": "code",
   "execution_count": 26,
   "id": "3a28d5b1-5639-4415-b5fc-252d334da40c",
   "metadata": {},
   "outputs": [
    {
     "data": {
      "text/html": [
       "<div>\n",
       "<style scoped>\n",
       "    .dataframe tbody tr th:only-of-type {\n",
       "        vertical-align: middle;\n",
       "    }\n",
       "\n",
       "    .dataframe tbody tr th {\n",
       "        vertical-align: top;\n",
       "    }\n",
       "\n",
       "    .dataframe thead th {\n",
       "        text-align: right;\n",
       "    }\n",
       "</style>\n",
       "<table border=\"1\" class=\"dataframe\">\n",
       "  <thead>\n",
       "    <tr style=\"text-align: right;\">\n",
       "      <th></th>\n",
       "      <th></th>\n",
       "      <th>CATEGORIA</th>\n",
       "      <th>MODALIDADE</th>\n",
       "      <th>DIA DA SEMANA</th>\n",
       "      <th>HORÁRIO</th>\n",
       "      <th>TURNO</th>\n",
       "      <th>AUX 1</th>\n",
       "      <th>AUX 2</th>\n",
       "      <th>PROFESSOR</th>\n",
       "      <th>AUX 3</th>\n",
       "      <th>...</th>\n",
       "      <th>2024-10-25 00:00:00</th>\n",
       "      <th>2024-10-28 00:00:00</th>\n",
       "      <th>2024-10-29 00:00:00</th>\n",
       "      <th>2024-10-30 00:00:00</th>\n",
       "      <th>2024-10-31 00:00:00</th>\n",
       "      <th>Média alunos p/ professor</th>\n",
       "      <th>Média</th>\n",
       "      <th>Alunos/professor</th>\n",
       "      <th>Ocupação Máxima</th>\n",
       "      <th>Professor</th>\n",
       "    </tr>\n",
       "  </thead>\n",
       "  <tbody>\n",
       "    <tr>\n",
       "      <th>0</th>\n",
       "      <td>NaN</td>\n",
       "      <td>ADULTO</td>\n",
       "      <td>BEACH GYM</td>\n",
       "      <td>seg, ter, qua, qui, sex</td>\n",
       "      <td>06:00:00</td>\n",
       "      <td>06:00</td>\n",
       "      <td>MANHÃ</td>\n",
       "      <td>BEACH GYM - 06:00</td>\n",
       "      <td>ISABELLE VERMONTT</td>\n",
       "      <td>BEACH GYM - ISABELLE VERMONTT</td>\n",
       "      <td>...</td>\n",
       "      <td>0</td>\n",
       "      <td>0</td>\n",
       "      <td>2</td>\n",
       "      <td>0</td>\n",
       "      <td>2</td>\n",
       "      <td>17</td>\n",
       "      <td>1.470588</td>\n",
       "      <td>NaN</td>\n",
       "      <td>NaN</td>\n",
       "      <td>NaN</td>\n",
       "    </tr>\n",
       "    <tr>\n",
       "      <th>1</th>\n",
       "      <td>NaN</td>\n",
       "      <td>ADULTO</td>\n",
       "      <td>GREEN BIKE</td>\n",
       "      <td>seg, qua, sex</td>\n",
       "      <td>06:00:00</td>\n",
       "      <td>06:00</td>\n",
       "      <td>MANHÃ</td>\n",
       "      <td>GREEN BIKE - 06:00</td>\n",
       "      <td>GIL</td>\n",
       "      <td>GREEN BIKE - GIL</td>\n",
       "      <td>...</td>\n",
       "      <td>12</td>\n",
       "      <td>10</td>\n",
       "      <td>x</td>\n",
       "      <td>10</td>\n",
       "      <td>x</td>\n",
       "      <td>11</td>\n",
       "      <td>14.181818</td>\n",
       "      <td>NaN</td>\n",
       "      <td>NaN</td>\n",
       "      <td>0.0</td>\n",
       "    </tr>\n",
       "    <tr>\n",
       "      <th>2</th>\n",
       "      <td>NaN</td>\n",
       "      <td>QUADRA</td>\n",
       "      <td>BEACH TENIS</td>\n",
       "      <td>seg, ter, qua, qui, sex</td>\n",
       "      <td>06:00:00</td>\n",
       "      <td>06:00</td>\n",
       "      <td>MANHÃ</td>\n",
       "      <td>BEACH TENIS - 06:00</td>\n",
       "      <td>LUCAS</td>\n",
       "      <td>BEACH TENIS - LUCAS</td>\n",
       "      <td>...</td>\n",
       "      <td>4</td>\n",
       "      <td>2</td>\n",
       "      <td>8</td>\n",
       "      <td>3</td>\n",
       "      <td>8</td>\n",
       "      <td>20</td>\n",
       "      <td>5.400000</td>\n",
       "      <td>NaN</td>\n",
       "      <td>NaN</td>\n",
       "      <td>0.0</td>\n",
       "    </tr>\n",
       "  </tbody>\n",
       "</table>\n",
       "<p>3 rows × 38 columns</p>\n",
       "</div>"
      ],
      "text/plain": [
       "       CATEGORIA   MODALIDADE            DIA DA SEMANA   HORÁRIO  TURNO  \\\n",
       "0  NaN    ADULTO    BEACH GYM  seg, ter, qua, qui, sex  06:00:00  06:00   \n",
       "1  NaN    ADULTO   GREEN BIKE            seg, qua, sex  06:00:00  06:00   \n",
       "2  NaN    QUADRA  BEACH TENIS  seg, ter, qua, qui, sex  06:00:00  06:00   \n",
       "\n",
       "   AUX 1                AUX 2           PROFESSOR  \\\n",
       "0  MANHÃ    BEACH GYM - 06:00  ISABELLE VERMONTT    \n",
       "1  MANHÃ   GREEN BIKE - 06:00                 GIL   \n",
       "2  MANHÃ  BEACH TENIS - 06:00               LUCAS   \n",
       "\n",
       "                            AUX 3  ... 2024-10-25 00:00:00  \\\n",
       "0  BEACH GYM - ISABELLE VERMONTT   ...                   0   \n",
       "1                GREEN BIKE - GIL  ...                  12   \n",
       "2             BEACH TENIS - LUCAS  ...                   4   \n",
       "\n",
       "  2024-10-28 00:00:00 2024-10-29 00:00:00 2024-10-30 00:00:00  \\\n",
       "0                   0                   2                   0   \n",
       "1                  10                   x                  10   \n",
       "2                   2                   8                   3   \n",
       "\n",
       "  2024-10-31 00:00:00 Média alunos p/ professor      Média Alunos/professor  \\\n",
       "0                   2                        17   1.470588              NaN   \n",
       "1                   x                        11  14.181818              NaN   \n",
       "2                   8                        20   5.400000              NaN   \n",
       "\n",
       "  Ocupação Máxima Professor  \n",
       "0             NaN       NaN  \n",
       "1             NaN       0.0  \n",
       "2             NaN       0.0  \n",
       "\n",
       "[3 rows x 38 columns]"
      ]
     },
     "execution_count": 26,
     "metadata": {},
     "output_type": "execute_result"
    }
   ],
   "source": [
    "dataALD.head(3)"
   ]
  },
  {
   "cell_type": "code",
   "execution_count": null,
   "id": "ac8fd653-c279-4836-8d16-8d37131256b2",
   "metadata": {},
   "outputs": [],
   "source": []
  },
  {
   "cell_type": "code",
   "execution_count": null,
   "id": "5bb879eb-cd07-4954-afff-c26984df0ac8",
   "metadata": {},
   "outputs": [],
   "source": []
  },
  {
   "cell_type": "code",
   "execution_count": null,
   "id": "8c8d259d-2094-450d-ac7e-3b97513b1acb",
   "metadata": {},
   "outputs": [],
   "source": []
  },
  {
   "cell_type": "code",
   "execution_count": 27,
   "id": "316786df-e223-4782-a68e-75256578ee15",
   "metadata": {},
   "outputs": [],
   "source": [
    "del dataALD[' ']\n",
    "del dataALD['HORÁRIO']\n",
    "del dataALD['AUX 2']\n",
    "del dataALD['AUX 3']"
   ]
  },
  {
   "cell_type": "markdown",
   "id": "7351ff8b-ebfd-4057-bce1-4d54a8b02f73",
   "metadata": {},
   "source": [
    "- PRECISAMOS RENOMEAR A COLUNA TURNO COMO HORARIO, DEPOIS\n",
    "- PRECISAMOS RENOMEAR A COLUNA AUX1 COMO TURNO"
   ]
  },
  {
   "cell_type": "code",
   "execution_count": 28,
   "id": "f258a846-433a-4c49-a233-d7cc500fabc1",
   "metadata": {},
   "outputs": [],
   "source": [
    "\n",
    "dataALD.rename(columns={'TURNO': 'HORÁRIO',\n",
    "                    'AUX 1': 'TURNO'}, inplace=True)"
   ]
  },
  {
   "cell_type": "code",
   "execution_count": 29,
   "id": "d643a115-fd6d-4708-9c2a-8efe64399692",
   "metadata": {},
   "outputs": [
    {
     "data": {
      "text/html": [
       "<div>\n",
       "<style scoped>\n",
       "    .dataframe tbody tr th:only-of-type {\n",
       "        vertical-align: middle;\n",
       "    }\n",
       "\n",
       "    .dataframe tbody tr th {\n",
       "        vertical-align: top;\n",
       "    }\n",
       "\n",
       "    .dataframe thead th {\n",
       "        text-align: right;\n",
       "    }\n",
       "</style>\n",
       "<table border=\"1\" class=\"dataframe\">\n",
       "  <thead>\n",
       "    <tr style=\"text-align: right;\">\n",
       "      <th></th>\n",
       "      <th>CATEGORIA</th>\n",
       "      <th>MODALIDADE</th>\n",
       "      <th>DIA DA SEMANA</th>\n",
       "      <th>HORÁRIO</th>\n",
       "      <th>TURNO</th>\n",
       "      <th>PROFESSOR</th>\n",
       "      <th>2024-10-01 00:00:00</th>\n",
       "      <th>2024-10-02 00:00:00</th>\n",
       "      <th>2024-10-03 00:00:00</th>\n",
       "      <th>2024-10-04 00:00:00</th>\n",
       "      <th>...</th>\n",
       "      <th>2024-10-25 00:00:00</th>\n",
       "      <th>2024-10-28 00:00:00</th>\n",
       "      <th>2024-10-29 00:00:00</th>\n",
       "      <th>2024-10-30 00:00:00</th>\n",
       "      <th>2024-10-31 00:00:00</th>\n",
       "      <th>Média alunos p/ professor</th>\n",
       "      <th>Média</th>\n",
       "      <th>Alunos/professor</th>\n",
       "      <th>Ocupação Máxima</th>\n",
       "      <th>Professor</th>\n",
       "    </tr>\n",
       "  </thead>\n",
       "  <tbody>\n",
       "    <tr>\n",
       "      <th>0</th>\n",
       "      <td>ADULTO</td>\n",
       "      <td>BEACH GYM</td>\n",
       "      <td>seg, ter, qua, qui, sex</td>\n",
       "      <td>06:00</td>\n",
       "      <td>MANHÃ</td>\n",
       "      <td>ISABELLE VERMONTT</td>\n",
       "      <td>s/p</td>\n",
       "      <td>0</td>\n",
       "      <td>4</td>\n",
       "      <td>1</td>\n",
       "      <td>...</td>\n",
       "      <td>0</td>\n",
       "      <td>0</td>\n",
       "      <td>2</td>\n",
       "      <td>0</td>\n",
       "      <td>2</td>\n",
       "      <td>17</td>\n",
       "      <td>1.470588</td>\n",
       "      <td>NaN</td>\n",
       "      <td>NaN</td>\n",
       "      <td>NaN</td>\n",
       "    </tr>\n",
       "    <tr>\n",
       "      <th>1</th>\n",
       "      <td>ADULTO</td>\n",
       "      <td>GREEN BIKE</td>\n",
       "      <td>seg, qua, sex</td>\n",
       "      <td>06:00</td>\n",
       "      <td>MANHÃ</td>\n",
       "      <td>GIL</td>\n",
       "      <td>x</td>\n",
       "      <td>14</td>\n",
       "      <td>x</td>\n",
       "      <td>20</td>\n",
       "      <td>...</td>\n",
       "      <td>12</td>\n",
       "      <td>10</td>\n",
       "      <td>x</td>\n",
       "      <td>10</td>\n",
       "      <td>x</td>\n",
       "      <td>11</td>\n",
       "      <td>14.181818</td>\n",
       "      <td>NaN</td>\n",
       "      <td>NaN</td>\n",
       "      <td>0.0</td>\n",
       "    </tr>\n",
       "    <tr>\n",
       "      <th>2</th>\n",
       "      <td>QUADRA</td>\n",
       "      <td>BEACH TENIS</td>\n",
       "      <td>seg, ter, qua, qui, sex</td>\n",
       "      <td>06:00</td>\n",
       "      <td>MANHÃ</td>\n",
       "      <td>LUCAS</td>\n",
       "      <td>6</td>\n",
       "      <td>6</td>\n",
       "      <td>8</td>\n",
       "      <td>5</td>\n",
       "      <td>...</td>\n",
       "      <td>4</td>\n",
       "      <td>2</td>\n",
       "      <td>8</td>\n",
       "      <td>3</td>\n",
       "      <td>8</td>\n",
       "      <td>20</td>\n",
       "      <td>5.400000</td>\n",
       "      <td>NaN</td>\n",
       "      <td>NaN</td>\n",
       "      <td>0.0</td>\n",
       "    </tr>\n",
       "  </tbody>\n",
       "</table>\n",
       "<p>3 rows × 34 columns</p>\n",
       "</div>"
      ],
      "text/plain": [
       "  CATEGORIA   MODALIDADE            DIA DA SEMANA HORÁRIO  TURNO  \\\n",
       "0    ADULTO    BEACH GYM  seg, ter, qua, qui, sex   06:00  MANHÃ   \n",
       "1    ADULTO   GREEN BIKE            seg, qua, sex   06:00  MANHÃ   \n",
       "2    QUADRA  BEACH TENIS  seg, ter, qua, qui, sex   06:00  MANHÃ   \n",
       "\n",
       "            PROFESSOR 2024-10-01 00:00:00 2024-10-02 00:00:00  \\\n",
       "0  ISABELLE VERMONTT                  s/p                   0   \n",
       "1                 GIL                   x                  14   \n",
       "2               LUCAS                   6                   6   \n",
       "\n",
       "  2024-10-03 00:00:00 2024-10-04 00:00:00  ... 2024-10-25 00:00:00  \\\n",
       "0                   4                   1  ...                   0   \n",
       "1                   x                  20  ...                  12   \n",
       "2                   8                   5  ...                   4   \n",
       "\n",
       "  2024-10-28 00:00:00 2024-10-29 00:00:00 2024-10-30 00:00:00  \\\n",
       "0                   0                   2                   0   \n",
       "1                  10                   x                  10   \n",
       "2                   2                   8                   3   \n",
       "\n",
       "  2024-10-31 00:00:00 Média alunos p/ professor      Média Alunos/professor  \\\n",
       "0                   2                        17   1.470588              NaN   \n",
       "1                   x                        11  14.181818              NaN   \n",
       "2                   8                        20   5.400000              NaN   \n",
       "\n",
       "  Ocupação Máxima Professor  \n",
       "0             NaN       NaN  \n",
       "1             NaN       0.0  \n",
       "2             NaN       0.0  \n",
       "\n",
       "[3 rows x 34 columns]"
      ]
     },
     "execution_count": 29,
     "metadata": {},
     "output_type": "execute_result"
    }
   ],
   "source": [
    "dataALD.head(3)"
   ]
  },
  {
   "cell_type": "code",
   "execution_count": null,
   "id": "bd220fac-3144-488c-a885-7bb3115a23b6",
   "metadata": {},
   "outputs": [],
   "source": []
  },
  {
   "cell_type": "code",
   "execution_count": null,
   "id": "d45f06cd-c9eb-41b2-a2ec-8e691872b069",
   "metadata": {},
   "outputs": [],
   "source": []
  },
  {
   "cell_type": "code",
   "execution_count": null,
   "id": "6e7f8b31-4ae8-4a55-974c-b70e616fb2c6",
   "metadata": {},
   "outputs": [],
   "source": []
  },
  {
   "cell_type": "markdown",
   "id": "1ba73df3-656b-4f52-845c-f53635be59d7",
   "metadata": {},
   "source": [
    "### 2 PASSO: Renomeando strings de datas, para que o pandas possa aceitar como colunas"
   ]
  },
  {
   "cell_type": "code",
   "execution_count": 30,
   "id": "216aa572-b472-4f00-8181-f879a9911703",
   "metadata": {},
   "outputs": [
    {
     "name": "stdout",
     "output_type": "stream",
     "text": [
      "CATEGORIA\n",
      "MODALIDADE\n",
      "DIA DA SEMANA\n",
      "HORÁRIO\n",
      "TURNO\n",
      "PROFESSOR\n",
      "2024-10-01 00:00:00\n",
      "2024-10-02 00:00:00\n",
      "2024-10-03 00:00:00\n",
      "2024-10-04 00:00:00\n",
      "2024-10-07 00:00:00\n",
      "2024-10-08 00:00:00\n",
      "2024-10-09 00:00:00\n",
      "2024-10-10 00:00:00\n",
      "2024-10-11 00:00:00\n",
      "2024-10-14 00:00:00\n",
      "2024-10-15 00:00:00\n",
      "2024-10-16 00:00:00\n",
      "2024-10-17 00:00:00\n",
      "2024-10-18 00:00:00\n",
      "2024-10-21 00:00:00\n",
      "2024-10-22 00:00:00\n",
      "2024-10-23 00:00:00\n",
      "2024-10-24 00:00:00\n",
      "2024-10-25 00:00:00\n",
      "2024-10-28 00:00:00\n",
      "2024-10-29 00:00:00\n",
      "2024-10-30 00:00:00\n",
      "2024-10-31 00:00:00\n",
      "Média alunos p/ professor\n",
      "Média\n",
      "Alunos/professor\n",
      "Ocupação Máxima\n",
      "Professor\n"
     ]
    }
   ],
   "source": [
    "for columns in dataALD.columns:\n",
    "    print(columns)"
   ]
  },
  {
   "cell_type": "code",
   "execution_count": 31,
   "id": "6cf63a6e-1a94-47f9-afe0-0004c2df06ad",
   "metadata": {},
   "outputs": [],
   "source": [
    "dataALD.columns = [\n",
    "'CATEGORIA',\n",
    "'MODALIDADE',\n",
    "'DIA DA SEMANA',\n",
    "'HORÁRIO',\n",
    "'TURNO',\n",
    "'PROFESSOR',\n",
    "'2024-10-01 00:00:00',\n",
    "'2024-10-02 00:00:00',\n",
    "'2024-10-03 00:00:00',\n",
    "'2024-10-04 00:00:00',\n",
    "'2024-10-07 00:00:00',\n",
    "'2024-10-08 00:00:00',\n",
    "'2024-10-09 00:00:00',\n",
    "'2024-10-10 00:00:00',\n",
    "'2024-10-11 00:00:00',\n",
    "'2024-10-14 00:00:00',\n",
    "'2024-10-15 00:00:00',\n",
    "'2024-10-16 00:00:00',\n",
    "'2024-10-17 00:00:00',\n",
    "'2024-10-18 00:00:00',\n",
    "'2024-10-21 00:00:00',\n",
    "'2024-10-22 00:00:00',\n",
    "'2024-10-23 00:00:00',\n",
    "'2024-10-24 00:00:00',\n",
    "'2024-10-25 00:00:00',\n",
    "'2024-10-28 00:00:00',\n",
    "'2024-10-29 00:00:00',\n",
    "'2024-10-30 00:00:00',\n",
    "'2024-10-31 00:00:00',\n",
    "'Média alunos p/ professor',\n",
    "'Média',\n",
    "'Alunos/professor',\n",
    "'Ocupação Máxima',\n",
    "'Professor'\n",
    "]"
   ]
  },
  {
   "cell_type": "code",
   "execution_count": 32,
   "id": "3d4ff43b-3217-4ef7-8800-63478d44afb5",
   "metadata": {},
   "outputs": [
    {
     "data": {
      "text/plain": [
       "Index(['CATEGORIA', 'MODALIDADE', 'DIA DA SEMANA', 'HORÁRIO', 'TURNO',\n",
       "       'PROFESSOR', '2024-10-01 00:00:00', '2024-10-02 00:00:00',\n",
       "       '2024-10-03 00:00:00', '2024-10-04 00:00:00', '2024-10-07 00:00:00',\n",
       "       '2024-10-08 00:00:00', '2024-10-09 00:00:00', '2024-10-10 00:00:00',\n",
       "       '2024-10-11 00:00:00', '2024-10-14 00:00:00', '2024-10-15 00:00:00',\n",
       "       '2024-10-16 00:00:00', '2024-10-17 00:00:00', '2024-10-18 00:00:00',\n",
       "       '2024-10-21 00:00:00', '2024-10-22 00:00:00', '2024-10-23 00:00:00',\n",
       "       '2024-10-24 00:00:00', '2024-10-25 00:00:00', '2024-10-28 00:00:00',\n",
       "       '2024-10-29 00:00:00', '2024-10-30 00:00:00', '2024-10-31 00:00:00',\n",
       "       'Média alunos p/ professor', 'Média', 'Alunos/professor',\n",
       "       'Ocupação Máxima', 'Professor'],\n",
       "      dtype='object')"
      ]
     },
     "execution_count": 32,
     "metadata": {},
     "output_type": "execute_result"
    }
   ],
   "source": [
    "dataALD.columns"
   ]
  },
  {
   "cell_type": "code",
   "execution_count": null,
   "id": "97a66173-e589-495a-aa95-a1a9a66f0691",
   "metadata": {},
   "outputs": [],
   "source": []
  },
  {
   "cell_type": "code",
   "execution_count": null,
   "id": "fbfc81a1-efa3-4875-88ea-2c2d13ce9855",
   "metadata": {},
   "outputs": [],
   "source": []
  },
  {
   "cell_type": "code",
   "execution_count": null,
   "id": "37008c03-e4b1-4626-96e0-4cc3f9d752c2",
   "metadata": {},
   "outputs": [],
   "source": []
  },
  {
   "cell_type": "markdown",
   "id": "680518fe-8a12-4dd1-8865-4bae7f626fb0",
   "metadata": {},
   "source": [
    "### PASSO 3: Escolhendo colunas com o nome de 'datas', para renomear pelo o tipo dia, mês e ano. e removendo os 00 de horas"
   ]
  },
  {
   "cell_type": "code",
   "execution_count": 33,
   "id": "11008dce-49f0-4d98-a755-83170e152783",
   "metadata": {},
   "outputs": [],
   "source": [
    "colunas = ['2024-10-01 00:00:00',\n",
    "'2024-10-02 00:00:00',\n",
    "'2024-10-03 00:00:00',\n",
    "'2024-10-04 00:00:00',\n",
    "'2024-10-07 00:00:00',\n",
    "'2024-10-08 00:00:00',\n",
    "'2024-10-09 00:00:00',\n",
    "'2024-10-10 00:00:00',\n",
    "'2024-10-11 00:00:00',\n",
    "'2024-10-14 00:00:00',\n",
    "'2024-10-15 00:00:00',\n",
    "'2024-10-16 00:00:00',\n",
    "'2024-10-17 00:00:00',\n",
    "'2024-10-18 00:00:00',\n",
    "'2024-10-21 00:00:00',\n",
    "'2024-10-22 00:00:00',\n",
    "'2024-10-23 00:00:00',\n",
    "'2024-10-24 00:00:00',\n",
    "'2024-10-25 00:00:00',\n",
    "'2024-10-28 00:00:00',\n",
    "'2024-10-29 00:00:00',\n",
    "'2024-10-30 00:00:00',\n",
    "'2024-10-31 00:00:00'\n",
    "]"
   ]
  },
  {
   "cell_type": "code",
   "execution_count": 34,
   "id": "bcb6cd46-c8df-416d-892d-152d4ca9ea1a",
   "metadata": {},
   "outputs": [],
   "source": [
    "novas_colunas_ALD = []"
   ]
  },
  {
   "cell_type": "code",
   "execution_count": 35,
   "id": "20479440-e6bb-429f-bda6-56460afc016b",
   "metadata": {},
   "outputs": [],
   "source": [
    "for columns in colunas:\n",
    "    # Remove a parte da hora\n",
    "    data_sem_hora = columns.split(' ')[0]\n",
    "    \n",
    "    # Formata para o formato DD-MM-YYYY\n",
    "    ano, mes, dia = data_sem_hora.split('-')\n",
    "    novo_nome = f'{dia}-{mes}-{ano}'\n",
    "    novas_colunas_ALD.append(novo_nome)"
   ]
  },
  {
   "cell_type": "code",
   "execution_count": null,
   "id": "8f662656-b04b-4b9d-8232-89984edd7e04",
   "metadata": {},
   "outputs": [],
   "source": []
  },
  {
   "cell_type": "code",
   "execution_count": null,
   "id": "106d34de-63a2-4e3a-aa07-c47f59185a8e",
   "metadata": {},
   "outputs": [],
   "source": []
  },
  {
   "cell_type": "code",
   "execution_count": null,
   "id": "dae3cda3-7279-478f-9907-47c0d5feaf2c",
   "metadata": {},
   "outputs": [],
   "source": []
  },
  {
   "cell_type": "markdown",
   "id": "98d93826-42b6-441b-a28a-f313b3a29e3f",
   "metadata": {},
   "source": [
    "### PASSO 4 renomeando colunas e acrescentando o novo formato "
   ]
  },
  {
   "cell_type": "markdown",
   "id": "65718a0a-8f90-4a30-a5e0-9745c335c544",
   "metadata": {},
   "source": [
    "copie as colunas que escolheu para renomear, e cole o formato novo no lugar das velhas"
   ]
  },
  {
   "cell_type": "code",
   "execution_count": 36,
   "id": "0dd77089-6bf3-4f34-893f-c83793e594bf",
   "metadata": {},
   "outputs": [
    {
     "name": "stdout",
     "output_type": "stream",
     "text": [
      "CATEGORIA\n",
      "MODALIDADE\n",
      "DIA DA SEMANA\n",
      "HORÁRIO\n",
      "TURNO\n",
      "PROFESSOR\n",
      "2024-10-01 00:00:00\n",
      "2024-10-02 00:00:00\n",
      "2024-10-03 00:00:00\n",
      "2024-10-04 00:00:00\n",
      "2024-10-07 00:00:00\n",
      "2024-10-08 00:00:00\n",
      "2024-10-09 00:00:00\n",
      "2024-10-10 00:00:00\n",
      "2024-10-11 00:00:00\n",
      "2024-10-14 00:00:00\n",
      "2024-10-15 00:00:00\n",
      "2024-10-16 00:00:00\n",
      "2024-10-17 00:00:00\n",
      "2024-10-18 00:00:00\n",
      "2024-10-21 00:00:00\n",
      "2024-10-22 00:00:00\n",
      "2024-10-23 00:00:00\n",
      "2024-10-24 00:00:00\n",
      "2024-10-25 00:00:00\n",
      "2024-10-28 00:00:00\n",
      "2024-10-29 00:00:00\n",
      "2024-10-30 00:00:00\n",
      "2024-10-31 00:00:00\n",
      "Média alunos p/ professor\n",
      "Média\n",
      "Alunos/professor\n",
      "Ocupação Máxima\n",
      "Professor\n"
     ]
    }
   ],
   "source": [
    "for columns in dataALD.columns:\n",
    "    print (columns)"
   ]
  },
  {
   "cell_type": "code",
   "execution_count": 37,
   "id": "703ad0df-5418-433c-93a2-1e6d81df5b22",
   "metadata": {},
   "outputs": [],
   "source": [
    "dataALD.columns= [\n",
    "'CATEGORIA',\n",
    "'MODALIDADE',\n",
    "'DIA DA SEMANA',\n",
    "'HORÁRIO',\n",
    "'TURNO',\n",
    "'PROFESSOR',\n",
    "'01-10-2024',\n",
    "'02-10-2024',\n",
    "'03-10-2024',\n",
    "'04-10-2024',\n",
    "'07-10-2024',\n",
    "'08-10-2024',\n",
    "'09-10-2024',\n",
    "'10-10-2024',\n",
    "'11-10-2024',\n",
    "'14-10-2024',\n",
    "'15-10-2024',\n",
    "'16-10-2024',\n",
    "'17-10-2024',\n",
    "'18-10-2024',\n",
    "'21-10-2024',\n",
    "'22-10-2024',\n",
    "'23-10-2024',\n",
    "'24-10-2024',\n",
    "'25-10-2024',\n",
    "'28-10-2024',\n",
    "'29-10-2024',\n",
    "'30-10-2024',\n",
    "'31-10-2024',\n",
    "'Média alunos p/ professor',\n",
    "'Média',\n",
    "'Alunos/professor',\n",
    "'Ocupação Máxima',\n",
    "'Professor']"
   ]
  },
  {
   "cell_type": "code",
   "execution_count": null,
   "id": "0036b0bd-8bd3-4d24-a666-3d791276698d",
   "metadata": {},
   "outputs": [],
   "source": []
  },
  {
   "cell_type": "code",
   "execution_count": 38,
   "id": "d88c26d7-42bb-44a9-9fd5-ccb40ab1b8e2",
   "metadata": {},
   "outputs": [
    {
     "data": {
      "text/plain": [
       "['01-10-2024',\n",
       " '02-10-2024',\n",
       " '03-10-2024',\n",
       " '04-10-2024',\n",
       " '07-10-2024',\n",
       " '08-10-2024',\n",
       " '09-10-2024',\n",
       " '10-10-2024',\n",
       " '11-10-2024',\n",
       " '14-10-2024',\n",
       " '15-10-2024',\n",
       " '16-10-2024',\n",
       " '17-10-2024',\n",
       " '18-10-2024',\n",
       " '21-10-2024',\n",
       " '22-10-2024',\n",
       " '23-10-2024',\n",
       " '24-10-2024',\n",
       " '25-10-2024',\n",
       " '28-10-2024',\n",
       " '29-10-2024',\n",
       " '30-10-2024',\n",
       " '31-10-2024']"
      ]
     },
     "execution_count": 38,
     "metadata": {},
     "output_type": "execute_result"
    }
   ],
   "source": [
    "# Novas colunas\n",
    "novas_colunas_ALD"
   ]
  },
  {
   "cell_type": "code",
   "execution_count": null,
   "id": "ec9a25cf-e5c9-44b6-be1d-81448faa3259",
   "metadata": {},
   "outputs": [],
   "source": []
  },
  {
   "cell_type": "code",
   "execution_count": null,
   "id": "e499b710-573b-429f-bc9a-6f0c22258742",
   "metadata": {},
   "outputs": [],
   "source": []
  },
  {
   "cell_type": "code",
   "execution_count": null,
   "id": "8146ddb5-7095-4db6-a37e-4442b80da017",
   "metadata": {},
   "outputs": [],
   "source": []
  },
  {
   "cell_type": "markdown",
   "id": "6a1079dc-131f-4dc6-bc2d-646884631408",
   "metadata": {},
   "source": [
    "### 5 PASSO: Usar o Loop for para substitituir os valores das frequencia de 'x' e 'X' por zero, com o método do pd.to_numeric) "
   ]
  },
  {
   "cell_type": "markdown",
   "id": "9f095107-7a24-483e-bd79-8cd72b2f5092",
   "metadata": {},
   "source": [
    "Escolhendo apenas as colunas de datas"
   ]
  },
  {
   "cell_type": "code",
   "execution_count": 39,
   "id": "7dde4749-160c-4a86-bc35-29c948e351fa",
   "metadata": {},
   "outputs": [],
   "source": [
    "colunas = [\n",
    "'01-10-2024',\n",
    "'02-10-2024',\n",
    "'03-10-2024',\n",
    "'04-10-2024',\n",
    "'07-10-2024',\n",
    "'08-10-2024',\n",
    "'09-10-2024',\n",
    "'10-10-2024',\n",
    "'11-10-2024',\n",
    "'14-10-2024',\n",
    "'15-10-2024',\n",
    "'16-10-2024',\n",
    "'17-10-2024',\n",
    "'18-10-2024',\n",
    "'21-10-2024',\n",
    "'22-10-2024',\n",
    "'23-10-2024',\n",
    "'24-10-2024',\n",
    "'25-10-2024',\n",
    "'28-10-2024',\n",
    "'29-10-2024',\n",
    "'30-10-2024',\n",
    "'31-10-2024'\n",
    "]"
   ]
  },
  {
   "cell_type": "markdown",
   "id": "4550d3f1-f057-4276-b5fb-a175fdcfa4df",
   "metadata": {},
   "source": [
    "Fazendo a limpeza profunda, formatando valores para numeros, preenchendo com zeros os nulos e transformando em inteiros"
   ]
  },
  {
   "cell_type": "code",
   "execution_count": 40,
   "id": "0e6deba3-a691-42d1-aa5d-20e9cb7c6603",
   "metadata": {},
   "outputs": [],
   "source": [
    "for columns in colunas:\n",
    "    # dataMES[columns] = pd.to_numeric(dataMES[columns], errors='coerce')\n",
    "    dataALD[columns] = pd.to_numeric(dataALD[columns], errors='coerce').fillna(0).astype(int)"
   ]
  },
  {
   "cell_type": "code",
   "execution_count": null,
   "id": "7a932ca0-3d1a-4b71-9f23-1142610cefa4",
   "metadata": {},
   "outputs": [],
   "source": []
  },
  {
   "cell_type": "code",
   "execution_count": null,
   "id": "afd58da4-a8a6-41e8-8981-78ee32602215",
   "metadata": {},
   "outputs": [],
   "source": []
  },
  {
   "cell_type": "code",
   "execution_count": null,
   "id": "51b7d1ac-ffed-4f67-b13f-2077c274a93d",
   "metadata": {},
   "outputs": [],
   "source": []
  },
  {
   "cell_type": "markdown",
   "id": "ab16325c-9527-4c3a-b6c0-ad48e72b2986",
   "metadata": {},
   "source": [
    "### PASSO 6: MELT derretendo as colunas em formato de datas"
   ]
  },
  {
   "cell_type": "markdown",
   "id": "8c348286-80cc-4e62-a757-82ee16c427cb",
   "metadata": {},
   "source": [
    "o MELT ele pega as colunas que estão na horizontal e cria uma coluna de categorias, e depois ele cria outra coluna com os valores dessas colunas que foram transformadas em dados categóricos"
   ]
  },
  {
   "cell_type": "code",
   "execution_count": 41,
   "id": "ffdaa6bc-6bf9-42f0-8f08-e56656d24939",
   "metadata": {},
   "outputs": [],
   "source": [
    "colunas_para_melt = [\n",
    "'01-10-2024',\n",
    "'02-10-2024',\n",
    "'03-10-2024',\n",
    "'04-10-2024',\n",
    "'07-10-2024',\n",
    "'08-10-2024',\n",
    "'09-10-2024',\n",
    "'10-10-2024',\n",
    "'11-10-2024',\n",
    "'14-10-2024',\n",
    "'15-10-2024',\n",
    "'16-10-2024',\n",
    "'17-10-2024',\n",
    "'18-10-2024',\n",
    "'21-10-2024',\n",
    "'22-10-2024',\n",
    "'23-10-2024',\n",
    "'24-10-2024',\n",
    "'25-10-2024',\n",
    "'28-10-2024',\n",
    "'29-10-2024',\n",
    "'30-10-2024',\n",
    "'31-10-2024'\n",
    "]"
   ]
  },
  {
   "cell_type": "code",
   "execution_count": null,
   "id": "ad63f1c9-aab1-4ea1-83f8-8dfb0dc40798",
   "metadata": {},
   "outputs": [],
   "source": []
  },
  {
   "cell_type": "code",
   "execution_count": null,
   "id": "d5a823a7-1a0b-43c3-ae28-f936710f30d6",
   "metadata": {},
   "outputs": [],
   "source": []
  },
  {
   "cell_type": "code",
   "execution_count": null,
   "id": "ce4b2ddf-bd0a-4b91-abe6-a31837e2e016",
   "metadata": {},
   "outputs": [],
   "source": []
  },
  {
   "cell_type": "markdown",
   "id": "e2fc86ae-d26c-4c17-8cea-d0fcefff0389",
   "metadata": {},
   "source": [
    "#### Indentificando as colunas que Eu quero manter em meu dataframe"
   ]
  },
  {
   "cell_type": "code",
   "execution_count": 42,
   "id": "4dc5b859-05ee-48c5-ab93-9d56f8c74da2",
   "metadata": {},
   "outputs": [],
   "source": [
    "# Identifica as colunas que você quer manter como identificadoras (id_vars)\n",
    "# São as colunas que não serão \"unpivoted\"\n",
    "id_vars_cols = [columns for columns in dataALD.columns if columns not in colunas_para_melt]"
   ]
  },
  {
   "cell_type": "code",
   "execution_count": null,
   "id": "f57e6462-4ca3-40d0-b480-49c9e35e45ef",
   "metadata": {},
   "outputs": [],
   "source": []
  },
  {
   "cell_type": "code",
   "execution_count": null,
   "id": "b9feda19-8050-4766-b457-965e57b5d348",
   "metadata": {},
   "outputs": [],
   "source": []
  },
  {
   "cell_type": "code",
   "execution_count": null,
   "id": "ec1acc4d-340d-487c-b431-58a3b2b4f80a",
   "metadata": {},
   "outputs": [],
   "source": []
  },
  {
   "cell_type": "markdown",
   "id": "52ef1b78-5007-41ea-a76a-2cf6784af174",
   "metadata": {},
   "source": [
    "#### Realiza o melt apenas nas colunas de datas"
   ]
  },
  {
   "cell_type": "code",
   "execution_count": 43,
   "id": "3b8afb4b-d3b9-4d31-963c-adc38e62b453",
   "metadata": {},
   "outputs": [],
   "source": [
    "dataALD_melted = pd.melt(dataALD,\n",
    "                      id_vars=id_vars_cols, #colunas que Eu deixei, que ficaram.\n",
    "                      value_vars=colunas_para_melt, #colunas que vão se transformar.\n",
    "                      var_name='Dias de Aulas', # nome da coluna categorica\n",
    "                      value_name='Frequencia de Alunos') # nome da coluna de valores"
   ]
  },
  {
   "cell_type": "code",
   "execution_count": 44,
   "id": "c8574433-5f79-4be8-9ed2-973e9868ae2d",
   "metadata": {},
   "outputs": [
    {
     "data": {
      "text/html": [
       "<div>\n",
       "<style scoped>\n",
       "    .dataframe tbody tr th:only-of-type {\n",
       "        vertical-align: middle;\n",
       "    }\n",
       "\n",
       "    .dataframe tbody tr th {\n",
       "        vertical-align: top;\n",
       "    }\n",
       "\n",
       "    .dataframe thead th {\n",
       "        text-align: right;\n",
       "    }\n",
       "</style>\n",
       "<table border=\"1\" class=\"dataframe\">\n",
       "  <thead>\n",
       "    <tr style=\"text-align: right;\">\n",
       "      <th></th>\n",
       "      <th>CATEGORIA</th>\n",
       "      <th>MODALIDADE</th>\n",
       "      <th>DIA DA SEMANA</th>\n",
       "      <th>HORÁRIO</th>\n",
       "      <th>TURNO</th>\n",
       "      <th>PROFESSOR</th>\n",
       "      <th>Média alunos p/ professor</th>\n",
       "      <th>Média</th>\n",
       "      <th>Alunos/professor</th>\n",
       "      <th>Ocupação Máxima</th>\n",
       "      <th>Professor</th>\n",
       "      <th>Dias de Aulas</th>\n",
       "      <th>Frequencia de Alunos</th>\n",
       "    </tr>\n",
       "  </thead>\n",
       "  <tbody>\n",
       "    <tr>\n",
       "      <th>0</th>\n",
       "      <td>ADULTO</td>\n",
       "      <td>BEACH GYM</td>\n",
       "      <td>seg, ter, qua, qui, sex</td>\n",
       "      <td>06:00</td>\n",
       "      <td>MANHÃ</td>\n",
       "      <td>ISABELLE VERMONTT</td>\n",
       "      <td>17</td>\n",
       "      <td>1.470588</td>\n",
       "      <td>NaN</td>\n",
       "      <td>NaN</td>\n",
       "      <td>NaN</td>\n",
       "      <td>01-10-2024</td>\n",
       "      <td>0</td>\n",
       "    </tr>\n",
       "    <tr>\n",
       "      <th>1</th>\n",
       "      <td>ADULTO</td>\n",
       "      <td>GREEN BIKE</td>\n",
       "      <td>seg, qua, sex</td>\n",
       "      <td>06:00</td>\n",
       "      <td>MANHÃ</td>\n",
       "      <td>GIL</td>\n",
       "      <td>11</td>\n",
       "      <td>14.181818</td>\n",
       "      <td>NaN</td>\n",
       "      <td>NaN</td>\n",
       "      <td>0.0</td>\n",
       "      <td>01-10-2024</td>\n",
       "      <td>0</td>\n",
       "    </tr>\n",
       "    <tr>\n",
       "      <th>2</th>\n",
       "      <td>QUADRA</td>\n",
       "      <td>BEACH TENIS</td>\n",
       "      <td>seg, ter, qua, qui, sex</td>\n",
       "      <td>06:00</td>\n",
       "      <td>MANHÃ</td>\n",
       "      <td>LUCAS</td>\n",
       "      <td>20</td>\n",
       "      <td>5.400000</td>\n",
       "      <td>NaN</td>\n",
       "      <td>NaN</td>\n",
       "      <td>0.0</td>\n",
       "      <td>01-10-2024</td>\n",
       "      <td>6</td>\n",
       "    </tr>\n",
       "  </tbody>\n",
       "</table>\n",
       "</div>"
      ],
      "text/plain": [
       "  CATEGORIA   MODALIDADE            DIA DA SEMANA HORÁRIO  TURNO  \\\n",
       "0    ADULTO    BEACH GYM  seg, ter, qua, qui, sex   06:00  MANHÃ   \n",
       "1    ADULTO   GREEN BIKE            seg, qua, sex   06:00  MANHÃ   \n",
       "2    QUADRA  BEACH TENIS  seg, ter, qua, qui, sex   06:00  MANHÃ   \n",
       "\n",
       "            PROFESSOR  Média alunos p/ professor      Média  Alunos/professor  \\\n",
       "0  ISABELLE VERMONTT                          17   1.470588               NaN   \n",
       "1                 GIL                         11  14.181818               NaN   \n",
       "2               LUCAS                         20   5.400000               NaN   \n",
       "\n",
       "   Ocupação Máxima  Professor Dias de Aulas  Frequencia de Alunos  \n",
       "0              NaN        NaN    01-10-2024                     0  \n",
       "1              NaN        0.0    01-10-2024                     0  \n",
       "2              NaN        0.0    01-10-2024                     6  "
      ]
     },
     "execution_count": 44,
     "metadata": {},
     "output_type": "execute_result"
    }
   ],
   "source": [
    "dataALD_melted.head(3)"
   ]
  },
  {
   "cell_type": "code",
   "execution_count": 45,
   "id": "fa4d12bf-b3f2-410d-907d-b176bb3f32da",
   "metadata": {},
   "outputs": [
    {
     "data": {
      "text/plain": [
       "40971"
      ]
     },
     "execution_count": 45,
     "metadata": {},
     "output_type": "execute_result"
    }
   ],
   "source": [
    "dataALD_melted['Frequencia de Alunos'].sum()"
   ]
  },
  {
   "cell_type": "markdown",
   "id": "006e31f7-01fd-458d-b7ee-219db24f6a88",
   "metadata": {},
   "source": [
    "____"
   ]
  },
  {
   "cell_type": "code",
   "execution_count": null,
   "id": "23fbbd4b-84fc-4104-a713-1b7e9a3abefa",
   "metadata": {},
   "outputs": [],
   "source": []
  },
  {
   "cell_type": "code",
   "execution_count": null,
   "id": "e5c09f0b-f07e-41ed-9911-217e843e5c3b",
   "metadata": {},
   "outputs": [],
   "source": []
  },
  {
   "cell_type": "code",
   "execution_count": null,
   "id": "1fa3dda0-d03f-422f-b9db-604cad35d00a",
   "metadata": {},
   "outputs": [],
   "source": []
  },
  {
   "cell_type": "markdown",
   "id": "73e363b3-3caa-4800-880f-318c7581a81c",
   "metadata": {},
   "source": [
    "____"
   ]
  },
  {
   "cell_type": "markdown",
   "id": "dba4ed48-a96d-4397-a314-fabd709f3459",
   "metadata": {},
   "source": [
    "# Fatima [FAT] - PREPROCESSING 3"
   ]
  },
  {
   "cell_type": "code",
   "execution_count": 46,
   "id": "beab34bb-5abb-4d30-a09c-e1aa2414ba35",
   "metadata": {},
   "outputs": [],
   "source": [
    "data3 = pd.read_excel('3.2 Mapa de Ocupação - OUT 2024.xlsx', sheet_name='FAT', skiprows=1, nrows=88)"
   ]
  },
  {
   "cell_type": "code",
   "execution_count": 47,
   "id": "d5167ddb-052f-49a1-88f2-8491c7aaf831",
   "metadata": {},
   "outputs": [],
   "source": [
    "dataFAT = data3.copy()"
   ]
  },
  {
   "cell_type": "code",
   "execution_count": null,
   "id": "06541b71-f712-49f6-b672-383b524fc35f",
   "metadata": {},
   "outputs": [],
   "source": []
  },
  {
   "cell_type": "code",
   "execution_count": null,
   "id": "6a27ec47-e763-4485-b11e-87ba21c16061",
   "metadata": {},
   "outputs": [],
   "source": []
  },
  {
   "cell_type": "code",
   "execution_count": null,
   "id": "837c881e-7e97-4d2d-befc-df427114b51e",
   "metadata": {},
   "outputs": [],
   "source": []
  },
  {
   "cell_type": "markdown",
   "id": "a807e7e2-2f4c-4f48-9cdb-d9bb141406c8",
   "metadata": {},
   "source": [
    "### 1 PASSO: Removendo colunas desnecessárias"
   ]
  },
  {
   "cell_type": "code",
   "execution_count": 48,
   "id": "91f89634-2217-4469-a9b5-81f5c00c5106",
   "metadata": {},
   "outputs": [
    {
     "data": {
      "text/html": [
       "<div>\n",
       "<style scoped>\n",
       "    .dataframe tbody tr th:only-of-type {\n",
       "        vertical-align: middle;\n",
       "    }\n",
       "\n",
       "    .dataframe tbody tr th {\n",
       "        vertical-align: top;\n",
       "    }\n",
       "\n",
       "    .dataframe thead th {\n",
       "        text-align: right;\n",
       "    }\n",
       "</style>\n",
       "<table border=\"1\" class=\"dataframe\">\n",
       "  <thead>\n",
       "    <tr style=\"text-align: right;\">\n",
       "      <th></th>\n",
       "      <th>Unnamed: 0</th>\n",
       "      <th>Unnamed: 1</th>\n",
       "      <th>Unnamed: 2</th>\n",
       "      <th>CATEGORIA</th>\n",
       "      <th>MODALIDADE</th>\n",
       "      <th>DIA DA SEMANA</th>\n",
       "      <th>HORÁRIO</th>\n",
       "      <th>AUX.1</th>\n",
       "      <th>TURNO</th>\n",
       "      <th>AUX 2</th>\n",
       "      <th>...</th>\n",
       "      <th>2024-10-25 00:00:00</th>\n",
       "      <th>2024-10-28 00:00:00</th>\n",
       "      <th>2024-10-29 00:00:00</th>\n",
       "      <th>2024-10-30 00:00:00</th>\n",
       "      <th>2024-10-31 00:00:00</th>\n",
       "      <th>Aulas/mês</th>\n",
       "      <th>Média</th>\n",
       "      <th>Alunos/professor</th>\n",
       "      <th>Ocupação Máxima</th>\n",
       "      <th>Professor</th>\n",
       "    </tr>\n",
       "  </thead>\n",
       "  <tbody>\n",
       "    <tr>\n",
       "      <th>0</th>\n",
       "      <td>NaN</td>\n",
       "      <td>NaN</td>\n",
       "      <td>NaN</td>\n",
       "      <td>MUSC - C/P</td>\n",
       "      <td>A - MUSCULAÇÃO COM PERSONAL</td>\n",
       "      <td>seg, ter, qua, qui, sex</td>\n",
       "      <td>06:00:00</td>\n",
       "      <td>06:00</td>\n",
       "      <td>MANHÃ</td>\n",
       "      <td>A - MUSCULAÇÃO COM PERSONAL - 06:00</td>\n",
       "      <td>...</td>\n",
       "      <td>36</td>\n",
       "      <td>30</td>\n",
       "      <td>36</td>\n",
       "      <td>47</td>\n",
       "      <td>37</td>\n",
       "      <td>23</td>\n",
       "      <td>35.913043</td>\n",
       "      <td>NaN</td>\n",
       "      <td>NaN</td>\n",
       "      <td>0.0</td>\n",
       "    </tr>\n",
       "    <tr>\n",
       "      <th>1</th>\n",
       "      <td>NaN</td>\n",
       "      <td>NaN</td>\n",
       "      <td>NaN</td>\n",
       "      <td>MUSC - S/P</td>\n",
       "      <td>A - MUSCULAÇÃO SEM PERSONAL</td>\n",
       "      <td>seg, ter, qua, qui, sex</td>\n",
       "      <td>06:00:00</td>\n",
       "      <td>06:00</td>\n",
       "      <td>MANHÃ</td>\n",
       "      <td>A - MUSCULAÇÃO SEM PERSONAL - 06:00</td>\n",
       "      <td>...</td>\n",
       "      <td>50</td>\n",
       "      <td>44</td>\n",
       "      <td>71</td>\n",
       "      <td>40</td>\n",
       "      <td>44</td>\n",
       "      <td>23</td>\n",
       "      <td>44.565217</td>\n",
       "      <td>11.5</td>\n",
       "      <td>NaN</td>\n",
       "      <td>2.0</td>\n",
       "    </tr>\n",
       "    <tr>\n",
       "      <th>2</th>\n",
       "      <td>NaN</td>\n",
       "      <td>NaN</td>\n",
       "      <td>NaN</td>\n",
       "      <td>ADULTO</td>\n",
       "      <td>CROSSFIT</td>\n",
       "      <td>seg, qua, sex</td>\n",
       "      <td>06:00:00</td>\n",
       "      <td>06:00</td>\n",
       "      <td>MANHÃ</td>\n",
       "      <td>CROSSFIT - 06:00</td>\n",
       "      <td>...</td>\n",
       "      <td>7</td>\n",
       "      <td>6</td>\n",
       "      <td>x</td>\n",
       "      <td>4</td>\n",
       "      <td>x</td>\n",
       "      <td>13</td>\n",
       "      <td>7.153846</td>\n",
       "      <td>NaN</td>\n",
       "      <td>NaN</td>\n",
       "      <td>0.0</td>\n",
       "    </tr>\n",
       "  </tbody>\n",
       "</table>\n",
       "<p>3 rows × 40 columns</p>\n",
       "</div>"
      ],
      "text/plain": [
       "   Unnamed: 0  Unnamed: 1  Unnamed: 2   CATEGORIA  \\\n",
       "0         NaN         NaN         NaN  MUSC - C/P   \n",
       "1         NaN         NaN         NaN  MUSC - S/P   \n",
       "2         NaN         NaN         NaN      ADULTO   \n",
       "\n",
       "                    MODALIDADE            DIA DA SEMANA   HORÁRIO  AUX.1  \\\n",
       "0  A - MUSCULAÇÃO COM PERSONAL  seg, ter, qua, qui, sex  06:00:00  06:00   \n",
       "1  A - MUSCULAÇÃO SEM PERSONAL  seg, ter, qua, qui, sex  06:00:00  06:00   \n",
       "2                     CROSSFIT            seg, qua, sex  06:00:00  06:00   \n",
       "\n",
       "   TURNO                                AUX 2  ... 2024-10-25 00:00:00  \\\n",
       "0  MANHÃ  A - MUSCULAÇÃO COM PERSONAL - 06:00  ...                  36   \n",
       "1  MANHÃ  A - MUSCULAÇÃO SEM PERSONAL - 06:00  ...                  50   \n",
       "2  MANHÃ                     CROSSFIT - 06:00  ...                   7   \n",
       "\n",
       "  2024-10-28 00:00:00 2024-10-29 00:00:00 2024-10-30 00:00:00  \\\n",
       "0                  30                  36                  47   \n",
       "1                  44                  71                  40   \n",
       "2                   6                   x                   4   \n",
       "\n",
       "  2024-10-31 00:00:00 Aulas/mês      Média Alunos/professor Ocupação Máxima  \\\n",
       "0                  37        23  35.913043              NaN             NaN   \n",
       "1                  44        23  44.565217             11.5             NaN   \n",
       "2                   x        13   7.153846              NaN             NaN   \n",
       "\n",
       "  Professor  \n",
       "0       0.0  \n",
       "1       2.0  \n",
       "2       0.0  \n",
       "\n",
       "[3 rows x 40 columns]"
      ]
     },
     "execution_count": 48,
     "metadata": {},
     "output_type": "execute_result"
    }
   ],
   "source": [
    "dataFAT.head(3)"
   ]
  },
  {
   "cell_type": "code",
   "execution_count": null,
   "id": "61846626-6cbf-4aba-9d48-c5ce3b6b0f6e",
   "metadata": {},
   "outputs": [],
   "source": []
  },
  {
   "cell_type": "code",
   "execution_count": null,
   "id": "74066907-50bb-4039-b00d-65f46fd7f6fc",
   "metadata": {},
   "outputs": [],
   "source": []
  },
  {
   "cell_type": "code",
   "execution_count": null,
   "id": "e824e5c1-7406-4b42-b52e-32a9ac848436",
   "metadata": {},
   "outputs": [],
   "source": []
  },
  {
   "cell_type": "code",
   "execution_count": 49,
   "id": "8e4ce178-6130-4adf-a4e4-96be27e36205",
   "metadata": {},
   "outputs": [],
   "source": [
    "del dataFAT['Unnamed: 0']\n",
    "del dataFAT['Unnamed: 1']\n",
    "del dataFAT['Unnamed: 2']"
   ]
  },
  {
   "cell_type": "code",
   "execution_count": 50,
   "id": "b31877f4-5f03-4f0a-9871-6d577e0e5e2d",
   "metadata": {},
   "outputs": [],
   "source": [
    "del dataFAT['HORÁRIO']\n",
    "del dataFAT['AUX 2']\n",
    "del dataFAT['AUX 3']"
   ]
  },
  {
   "cell_type": "markdown",
   "id": "e17c9903-58ad-47b3-884e-be9cd4804ad9",
   "metadata": {},
   "source": [
    "- PRECISAMOS RENOMEAR A COLUNA AUX.1 COMO HORARIO"
   ]
  },
  {
   "cell_type": "code",
   "execution_count": 51,
   "id": "3ce043a9-2c10-4f71-b64d-c11ffd9791d0",
   "metadata": {},
   "outputs": [],
   "source": [
    "dataFAT.rename(columns={'AUX.1': 'HORÁRIO'}, inplace=True)"
   ]
  },
  {
   "cell_type": "code",
   "execution_count": null,
   "id": "714ce1da-14a5-4c5c-9a3b-ccc50e751f67",
   "metadata": {},
   "outputs": [],
   "source": []
  },
  {
   "cell_type": "code",
   "execution_count": 52,
   "id": "34d88247-21a1-4228-abdb-050a11d97226",
   "metadata": {},
   "outputs": [
    {
     "data": {
      "text/html": [
       "<div>\n",
       "<style scoped>\n",
       "    .dataframe tbody tr th:only-of-type {\n",
       "        vertical-align: middle;\n",
       "    }\n",
       "\n",
       "    .dataframe tbody tr th {\n",
       "        vertical-align: top;\n",
       "    }\n",
       "\n",
       "    .dataframe thead th {\n",
       "        text-align: right;\n",
       "    }\n",
       "</style>\n",
       "<table border=\"1\" class=\"dataframe\">\n",
       "  <thead>\n",
       "    <tr style=\"text-align: right;\">\n",
       "      <th></th>\n",
       "      <th>CATEGORIA</th>\n",
       "      <th>MODALIDADE</th>\n",
       "      <th>DIA DA SEMANA</th>\n",
       "      <th>HORÁRIO</th>\n",
       "      <th>TURNO</th>\n",
       "      <th>PROFESSOR</th>\n",
       "      <th>2024-10-01 00:00:00</th>\n",
       "      <th>2024-10-02 00:00:00</th>\n",
       "      <th>2024-10-03 00:00:00</th>\n",
       "      <th>2024-10-04 00:00:00</th>\n",
       "      <th>...</th>\n",
       "      <th>2024-10-25 00:00:00</th>\n",
       "      <th>2024-10-28 00:00:00</th>\n",
       "      <th>2024-10-29 00:00:00</th>\n",
       "      <th>2024-10-30 00:00:00</th>\n",
       "      <th>2024-10-31 00:00:00</th>\n",
       "      <th>Aulas/mês</th>\n",
       "      <th>Média</th>\n",
       "      <th>Alunos/professor</th>\n",
       "      <th>Ocupação Máxima</th>\n",
       "      <th>Professor</th>\n",
       "    </tr>\n",
       "  </thead>\n",
       "  <tbody>\n",
       "    <tr>\n",
       "      <th>0</th>\n",
       "      <td>MUSC - C/P</td>\n",
       "      <td>A - MUSCULAÇÃO COM PERSONAL</td>\n",
       "      <td>seg, ter, qua, qui, sex</td>\n",
       "      <td>06:00</td>\n",
       "      <td>MANHÃ</td>\n",
       "      <td>LEONARDO JOSE</td>\n",
       "      <td>24</td>\n",
       "      <td>39</td>\n",
       "      <td>38</td>\n",
       "      <td>40</td>\n",
       "      <td>...</td>\n",
       "      <td>36</td>\n",
       "      <td>30</td>\n",
       "      <td>36</td>\n",
       "      <td>47</td>\n",
       "      <td>37</td>\n",
       "      <td>23</td>\n",
       "      <td>35.913043</td>\n",
       "      <td>NaN</td>\n",
       "      <td>NaN</td>\n",
       "      <td>0.0</td>\n",
       "    </tr>\n",
       "    <tr>\n",
       "      <th>1</th>\n",
       "      <td>MUSC - S/P</td>\n",
       "      <td>A - MUSCULAÇÃO SEM PERSONAL</td>\n",
       "      <td>seg, ter, qua, qui, sex</td>\n",
       "      <td>06:00</td>\n",
       "      <td>MANHÃ</td>\n",
       "      <td>LEONARDO JOSE</td>\n",
       "      <td>38</td>\n",
       "      <td>41</td>\n",
       "      <td>48</td>\n",
       "      <td>32</td>\n",
       "      <td>...</td>\n",
       "      <td>50</td>\n",
       "      <td>44</td>\n",
       "      <td>71</td>\n",
       "      <td>40</td>\n",
       "      <td>44</td>\n",
       "      <td>23</td>\n",
       "      <td>44.565217</td>\n",
       "      <td>11.5</td>\n",
       "      <td>NaN</td>\n",
       "      <td>2.0</td>\n",
       "    </tr>\n",
       "    <tr>\n",
       "      <th>2</th>\n",
       "      <td>ADULTO</td>\n",
       "      <td>CROSSFIT</td>\n",
       "      <td>seg, qua, sex</td>\n",
       "      <td>06:00</td>\n",
       "      <td>MANHÃ</td>\n",
       "      <td>EVELINE CASTRO</td>\n",
       "      <td>x</td>\n",
       "      <td>10</td>\n",
       "      <td>x</td>\n",
       "      <td>7</td>\n",
       "      <td>...</td>\n",
       "      <td>7</td>\n",
       "      <td>6</td>\n",
       "      <td>x</td>\n",
       "      <td>4</td>\n",
       "      <td>x</td>\n",
       "      <td>13</td>\n",
       "      <td>7.153846</td>\n",
       "      <td>NaN</td>\n",
       "      <td>NaN</td>\n",
       "      <td>0.0</td>\n",
       "    </tr>\n",
       "  </tbody>\n",
       "</table>\n",
       "<p>3 rows × 34 columns</p>\n",
       "</div>"
      ],
      "text/plain": [
       "    CATEGORIA                   MODALIDADE            DIA DA SEMANA HORÁRIO  \\\n",
       "0  MUSC - C/P  A - MUSCULAÇÃO COM PERSONAL  seg, ter, qua, qui, sex   06:00   \n",
       "1  MUSC - S/P  A - MUSCULAÇÃO SEM PERSONAL  seg, ter, qua, qui, sex   06:00   \n",
       "2      ADULTO                     CROSSFIT            seg, qua, sex   06:00   \n",
       "\n",
       "   TURNO       PROFESSOR 2024-10-01 00:00:00 2024-10-02 00:00:00  \\\n",
       "0  MANHÃ   LEONARDO JOSE                  24                  39   \n",
       "1  MANHÃ   LEONARDO JOSE                  38                  41   \n",
       "2  MANHÃ  EVELINE CASTRO                   x                  10   \n",
       "\n",
       "  2024-10-03 00:00:00 2024-10-04 00:00:00  ... 2024-10-25 00:00:00  \\\n",
       "0                  38                  40  ...                  36   \n",
       "1                  48                  32  ...                  50   \n",
       "2                   x                   7  ...                   7   \n",
       "\n",
       "  2024-10-28 00:00:00 2024-10-29 00:00:00 2024-10-30 00:00:00  \\\n",
       "0                  30                  36                  47   \n",
       "1                  44                  71                  40   \n",
       "2                   6                   x                   4   \n",
       "\n",
       "  2024-10-31 00:00:00 Aulas/mês      Média Alunos/professor Ocupação Máxima  \\\n",
       "0                  37        23  35.913043              NaN             NaN   \n",
       "1                  44        23  44.565217             11.5             NaN   \n",
       "2                   x        13   7.153846              NaN             NaN   \n",
       "\n",
       "  Professor  \n",
       "0       0.0  \n",
       "1       2.0  \n",
       "2       0.0  \n",
       "\n",
       "[3 rows x 34 columns]"
      ]
     },
     "execution_count": 52,
     "metadata": {},
     "output_type": "execute_result"
    }
   ],
   "source": [
    "dataFAT.head(3)"
   ]
  },
  {
   "cell_type": "code",
   "execution_count": null,
   "id": "c0f9b850-47fc-4723-9898-45707e02eb5e",
   "metadata": {},
   "outputs": [],
   "source": []
  },
  {
   "cell_type": "code",
   "execution_count": null,
   "id": "0257701f-f52b-4c9d-9685-c60bc627f8a0",
   "metadata": {},
   "outputs": [],
   "source": []
  },
  {
   "cell_type": "code",
   "execution_count": null,
   "id": "7a80857e-ef7b-4366-a8ef-1483e605ec5a",
   "metadata": {},
   "outputs": [],
   "source": []
  },
  {
   "cell_type": "markdown",
   "id": "2ec4f9ad-bc44-4ba2-842b-726e03604a4b",
   "metadata": {},
   "source": [
    "### 2 PASSO: Renomeando strings de datas, para que o pandas possa aceitar como colunas"
   ]
  },
  {
   "cell_type": "code",
   "execution_count": 53,
   "id": "e27ae539-3abd-4066-bd4d-f53ae89557f0",
   "metadata": {},
   "outputs": [
    {
     "name": "stdout",
     "output_type": "stream",
     "text": [
      "CATEGORIA\n",
      "MODALIDADE\n",
      "DIA DA SEMANA\n",
      "HORÁRIO\n",
      "TURNO\n",
      "PROFESSOR\n",
      "2024-10-01 00:00:00\n",
      "2024-10-02 00:00:00\n",
      "2024-10-03 00:00:00\n",
      "2024-10-04 00:00:00\n",
      "2024-10-07 00:00:00\n",
      "2024-10-08 00:00:00\n",
      "2024-10-09 00:00:00\n",
      "2024-10-10 00:00:00\n",
      "2024-10-11 00:00:00\n",
      "2024-10-14 00:00:00\n",
      "2024-10-15 00:00:00\n",
      "2024-10-16 00:00:00\n",
      "2024-10-17 00:00:00\n",
      "2024-10-18 00:00:00\n",
      "2024-10-21 00:00:00\n",
      "2024-10-22 00:00:00\n",
      "2024-10-23 00:00:00\n",
      "2024-10-24 00:00:00\n",
      "2024-10-25 00:00:00\n",
      "2024-10-28 00:00:00\n",
      "2024-10-29 00:00:00\n",
      "2024-10-30 00:00:00\n",
      "2024-10-31 00:00:00\n",
      "Aulas/mês\n",
      "Média\n",
      "Alunos/professor\n",
      "Ocupação Máxima\n",
      "Professor\n"
     ]
    }
   ],
   "source": [
    "for columns in dataFAT.columns:\n",
    "    print(columns)"
   ]
  },
  {
   "cell_type": "code",
   "execution_count": 54,
   "id": "bdd39022-08de-4657-8fb0-de35f4cf76ad",
   "metadata": {},
   "outputs": [],
   "source": [
    "dataFAT.columns = [\n",
    "'CATEGORIA',\n",
    "'MODALIDADE',\n",
    "'DIA DA SEMANA',\n",
    "'HORÁRIO',\n",
    "'TURNO',\n",
    "'PROFESSOR',\n",
    "'2024-10-01 00:00:00',\n",
    "'2024-10-02 00:00:00',\n",
    "'2024-10-03 00:00:00',\n",
    "'2024-10-04 00:00:00',\n",
    "'2024-10-07 00:00:00',\n",
    "'2024-10-08 00:00:00',\n",
    "'2024-10-09 00:00:00',\n",
    "'2024-10-10 00:00:00',\n",
    "'2024-10-11 00:00:00',\n",
    "'2024-10-14 00:00:00',\n",
    "'2024-10-15 00:00:00',\n",
    "'2024-10-16 00:00:00',\n",
    "'2024-10-17 00:00:00',\n",
    "'2024-10-18 00:00:00',\n",
    "'2024-10-21 00:00:00',\n",
    "'2024-10-22 00:00:00',\n",
    "'2024-10-23 00:00:00',\n",
    "'2024-10-24 00:00:00',\n",
    "'2024-10-25 00:00:00',\n",
    "'2024-10-28 00:00:00',\n",
    "'2024-10-29 00:00:00',\n",
    "'2024-10-30 00:00:00',\n",
    "'2024-10-31 00:00:00',\n",
    "'Aulas/mês',\n",
    "'Média',\n",
    "'Alunos/professor',\n",
    "'Ocupação Máxima',\n",
    "'Professor']"
   ]
  },
  {
   "cell_type": "code",
   "execution_count": 55,
   "id": "eafe6b76-c814-49b7-9d3e-e9a04d3d2746",
   "metadata": {},
   "outputs": [
    {
     "data": {
      "text/plain": [
       "Index(['CATEGORIA', 'MODALIDADE', 'DIA DA SEMANA', 'HORÁRIO', 'TURNO',\n",
       "       'PROFESSOR', '2024-10-01 00:00:00', '2024-10-02 00:00:00',\n",
       "       '2024-10-03 00:00:00', '2024-10-04 00:00:00', '2024-10-07 00:00:00',\n",
       "       '2024-10-08 00:00:00', '2024-10-09 00:00:00', '2024-10-10 00:00:00',\n",
       "       '2024-10-11 00:00:00', '2024-10-14 00:00:00', '2024-10-15 00:00:00',\n",
       "       '2024-10-16 00:00:00', '2024-10-17 00:00:00', '2024-10-18 00:00:00',\n",
       "       '2024-10-21 00:00:00', '2024-10-22 00:00:00', '2024-10-23 00:00:00',\n",
       "       '2024-10-24 00:00:00', '2024-10-25 00:00:00', '2024-10-28 00:00:00',\n",
       "       '2024-10-29 00:00:00', '2024-10-30 00:00:00', '2024-10-31 00:00:00',\n",
       "       'Aulas/mês', 'Média', 'Alunos/professor', 'Ocupação Máxima',\n",
       "       'Professor'],\n",
       "      dtype='object')"
      ]
     },
     "execution_count": 55,
     "metadata": {},
     "output_type": "execute_result"
    }
   ],
   "source": [
    "dataFAT.columns"
   ]
  },
  {
   "cell_type": "code",
   "execution_count": null,
   "id": "6ba18168-b641-49e0-b6ac-ec6eebc05460",
   "metadata": {},
   "outputs": [],
   "source": []
  },
  {
   "cell_type": "code",
   "execution_count": null,
   "id": "1b70561d-5464-44f8-bf42-10d69b0c81a0",
   "metadata": {},
   "outputs": [],
   "source": []
  },
  {
   "cell_type": "code",
   "execution_count": null,
   "id": "d7ae7238-96a9-4c76-80b2-1a9ae258095b",
   "metadata": {},
   "outputs": [],
   "source": []
  },
  {
   "cell_type": "markdown",
   "id": "c3cf5782-f2dd-4e62-9abc-f15f49c07db5",
   "metadata": {},
   "source": [
    "### PASSO 3: Escolhendo colunas com o nome de 'datas', para renomear pelo o tipo dia, mês e ano. e removendo os 00 de horas"
   ]
  },
  {
   "cell_type": "code",
   "execution_count": 56,
   "id": "78679603-2562-4063-a62c-5b5e9a944f19",
   "metadata": {},
   "outputs": [],
   "source": [
    "colunas = [\n",
    "'2024-10-01 00:00:00',\n",
    "'2024-10-02 00:00:00',\n",
    "'2024-10-03 00:00:00',\n",
    "'2024-10-04 00:00:00',\n",
    "'2024-10-07 00:00:00',\n",
    "'2024-10-08 00:00:00',\n",
    "'2024-10-09 00:00:00',\n",
    "'2024-10-10 00:00:00',\n",
    "'2024-10-11 00:00:00',\n",
    "'2024-10-14 00:00:00',\n",
    "'2024-10-15 00:00:00',\n",
    "'2024-10-16 00:00:00',\n",
    "'2024-10-17 00:00:00',\n",
    "'2024-10-18 00:00:00',\n",
    "'2024-10-21 00:00:00',\n",
    "'2024-10-22 00:00:00',\n",
    "'2024-10-23 00:00:00',\n",
    "'2024-10-24 00:00:00',\n",
    "'2024-10-25 00:00:00',\n",
    "'2024-10-28 00:00:00',\n",
    "'2024-10-29 00:00:00',\n",
    "'2024-10-30 00:00:00',\n",
    "'2024-10-31 00:00:00']"
   ]
  },
  {
   "cell_type": "code",
   "execution_count": 57,
   "id": "02943baa-5335-4e9a-8e2a-5553ade2f5da",
   "metadata": {},
   "outputs": [],
   "source": [
    "novas_colunas_FAT = []"
   ]
  },
  {
   "cell_type": "code",
   "execution_count": 58,
   "id": "18ad9d22-c269-4bbd-aa72-94d597e56b3f",
   "metadata": {},
   "outputs": [],
   "source": [
    "for columns in colunas:\n",
    "    # Remove a parte da hora\n",
    "    data_sem_hora = columns.split(' ')[0]\n",
    "    \n",
    "    # Formata para o formato DD-MM-YYYY\n",
    "    ano, mes, dia = data_sem_hora.split('-')\n",
    "    novo_nome = f'{dia}-{mes}-{ano}'\n",
    "    novas_colunas_FAT.append(novo_nome)"
   ]
  },
  {
   "cell_type": "code",
   "execution_count": 59,
   "id": "1ad02430-7459-4de3-b005-943bd004cb25",
   "metadata": {},
   "outputs": [
    {
     "data": {
      "text/plain": [
       "['01-10-2024',\n",
       " '02-10-2024',\n",
       " '03-10-2024',\n",
       " '04-10-2024',\n",
       " '07-10-2024',\n",
       " '08-10-2024',\n",
       " '09-10-2024',\n",
       " '10-10-2024',\n",
       " '11-10-2024',\n",
       " '14-10-2024',\n",
       " '15-10-2024',\n",
       " '16-10-2024',\n",
       " '17-10-2024',\n",
       " '18-10-2024',\n",
       " '21-10-2024',\n",
       " '22-10-2024',\n",
       " '23-10-2024',\n",
       " '24-10-2024',\n",
       " '25-10-2024',\n",
       " '28-10-2024',\n",
       " '29-10-2024',\n",
       " '30-10-2024',\n",
       " '31-10-2024']"
      ]
     },
     "execution_count": 59,
     "metadata": {},
     "output_type": "execute_result"
    }
   ],
   "source": [
    "novas_colunas_FAT"
   ]
  },
  {
   "cell_type": "code",
   "execution_count": null,
   "id": "2257caeb-459c-46ff-8cae-472118254a9c",
   "metadata": {},
   "outputs": [],
   "source": []
  },
  {
   "cell_type": "code",
   "execution_count": null,
   "id": "58618aa1-c522-44b0-95df-1c5d325a7459",
   "metadata": {},
   "outputs": [],
   "source": []
  },
  {
   "cell_type": "code",
   "execution_count": null,
   "id": "db299542-7804-49bb-b07d-30a3d14ae745",
   "metadata": {},
   "outputs": [],
   "source": []
  },
  {
   "cell_type": "markdown",
   "id": "5ec9173d-deed-4001-aee8-6c1409d6529c",
   "metadata": {},
   "source": [
    "### PASSO 4 renomeando colunas e acrescentando o novo formato "
   ]
  },
  {
   "cell_type": "markdown",
   "id": "c5fb8ce2-ab76-44d4-9c64-234d142e050a",
   "metadata": {},
   "source": [
    "copie as colunas que escolheu para renomear, e cole o formato novo no lugar das velhas"
   ]
  },
  {
   "cell_type": "code",
   "execution_count": 60,
   "id": "b6a17498-e501-4971-9373-628356d557bf",
   "metadata": {},
   "outputs": [
    {
     "name": "stdout",
     "output_type": "stream",
     "text": [
      "CATEGORIA\n",
      "MODALIDADE\n",
      "DIA DA SEMANA\n",
      "HORÁRIO\n",
      "TURNO\n",
      "PROFESSOR\n",
      "2024-10-01 00:00:00\n",
      "2024-10-02 00:00:00\n",
      "2024-10-03 00:00:00\n",
      "2024-10-04 00:00:00\n",
      "2024-10-07 00:00:00\n",
      "2024-10-08 00:00:00\n",
      "2024-10-09 00:00:00\n",
      "2024-10-10 00:00:00\n",
      "2024-10-11 00:00:00\n",
      "2024-10-14 00:00:00\n",
      "2024-10-15 00:00:00\n",
      "2024-10-16 00:00:00\n",
      "2024-10-17 00:00:00\n",
      "2024-10-18 00:00:00\n",
      "2024-10-21 00:00:00\n",
      "2024-10-22 00:00:00\n",
      "2024-10-23 00:00:00\n",
      "2024-10-24 00:00:00\n",
      "2024-10-25 00:00:00\n",
      "2024-10-28 00:00:00\n",
      "2024-10-29 00:00:00\n",
      "2024-10-30 00:00:00\n",
      "2024-10-31 00:00:00\n",
      "Aulas/mês\n",
      "Média\n",
      "Alunos/professor\n",
      "Ocupação Máxima\n",
      "Professor\n"
     ]
    }
   ],
   "source": [
    "for columns in dataFAT.columns:\n",
    "    print (columns)"
   ]
  },
  {
   "cell_type": "code",
   "execution_count": null,
   "id": "b0030a04-70bc-4e91-8f06-3d049bff3a16",
   "metadata": {},
   "outputs": [],
   "source": []
  },
  {
   "cell_type": "code",
   "execution_count": 61,
   "id": "f452cc38-799f-4f3d-9782-ee5888394fd3",
   "metadata": {},
   "outputs": [],
   "source": [
    "# Adicionando as datas formatadas as colunas, copiando e colando"
   ]
  },
  {
   "cell_type": "code",
   "execution_count": 62,
   "id": "00a4eb65-ce9d-40cf-9c23-cb92c2dbe7c9",
   "metadata": {},
   "outputs": [],
   "source": [
    "dataFAT.columns = [\n",
    "'CATEGORIA',\n",
    "'MODALIDADE',\n",
    "'DIA DA SEMANA',\n",
    "'HORÁRIO',\n",
    "'TURNO',\n",
    "'PROFESSOR',\n",
    "'01-10-2024',\n",
    "'02-10-2024',\n",
    "'03-10-2024',\n",
    "'04-10-2024',\n",
    "'07-10-2024',\n",
    "'08-10-2024',\n",
    "'09-10-2024',\n",
    "'10-10-2024',\n",
    "'11-10-2024',\n",
    "'14-10-2024',\n",
    "'15-10-2024',\n",
    "'16-10-2024',\n",
    "'17-10-2024',\n",
    "'18-10-2024',\n",
    "'21-10-2024',\n",
    "'22-10-2024',\n",
    "'23-10-2024',\n",
    "'24-10-2024',\n",
    "'25-10-2024',\n",
    "'28-10-2024',\n",
    "'29-10-2024',\n",
    "'30-10-2024',\n",
    "'31-10-2024',\n",
    "'Aulas/mês',\n",
    "'Média',\n",
    "'Alunos/professor',\n",
    "'Ocupação Máxima0',\n",
    "'Professor'\n",
    "]"
   ]
  },
  {
   "cell_type": "code",
   "execution_count": null,
   "id": "b8f0f9bd-7bf8-43f5-93b1-ef483ab0ee58",
   "metadata": {},
   "outputs": [],
   "source": []
  },
  {
   "cell_type": "code",
   "execution_count": null,
   "id": "035e8a43-f597-4652-bc2c-df14bd44b4b1",
   "metadata": {},
   "outputs": [],
   "source": []
  },
  {
   "cell_type": "code",
   "execution_count": null,
   "id": "fa2339dd-3008-4ef9-bba4-48564ae67ab1",
   "metadata": {},
   "outputs": [],
   "source": []
  },
  {
   "cell_type": "markdown",
   "id": "f8a2e1c9-bcfc-4970-923d-6238223902db",
   "metadata": {},
   "source": [
    "### 5 PASSO: Usar o Loop for para substitituir os valores das frequencia de 'x' e 'X' por zero, com o método do pd.to_numeric) "
   ]
  },
  {
   "cell_type": "markdown",
   "id": "3c3ff16a-cc1a-4000-bb01-cbb50857f7c0",
   "metadata": {},
   "source": [
    "Escolhendo apenas as colunas de datas"
   ]
  },
  {
   "cell_type": "code",
   "execution_count": 63,
   "id": "e35400e2-bf1d-4e36-914a-24b35b67e8c4",
   "metadata": {},
   "outputs": [],
   "source": [
    "colunas = [\n",
    "'01-10-2024',\n",
    "'02-10-2024',\n",
    "'03-10-2024',\n",
    "'04-10-2024',\n",
    "'07-10-2024',\n",
    "'08-10-2024',\n",
    "'09-10-2024',\n",
    "'10-10-2024',\n",
    "'11-10-2024',\n",
    "'14-10-2024',\n",
    "'15-10-2024',\n",
    "'16-10-2024',\n",
    "'17-10-2024',\n",
    "'18-10-2024',\n",
    "'21-10-2024',\n",
    "'22-10-2024',\n",
    "'23-10-2024',\n",
    "'24-10-2024',\n",
    "'25-10-2024',\n",
    "'28-10-2024',\n",
    "'29-10-2024',\n",
    "'30-10-2024',\n",
    "'31-10-2024'\n",
    "]"
   ]
  },
  {
   "cell_type": "markdown",
   "id": "c95e679b-2873-433c-b74a-ecf7bcc03862",
   "metadata": {},
   "source": [
    "Fazendo a limpeza profunda, formatando valores para numeros, preenchendo com zeros os nulos e transformando em inteiros"
   ]
  },
  {
   "cell_type": "code",
   "execution_count": 64,
   "id": "8498fe9c-8495-489c-ace8-168b96a99b58",
   "metadata": {},
   "outputs": [],
   "source": [
    "for columns in colunas:\n",
    "    # dataMES[columns] = pd.to_numeric(dataMES[columns], errors='coerce')\n",
    "    dataFAT[columns] = pd.to_numeric(dataFAT[columns], errors='coerce').fillna(0).astype(int)"
   ]
  },
  {
   "cell_type": "code",
   "execution_count": null,
   "id": "f156cca1-b3b0-49f4-8013-a3432cef0c5a",
   "metadata": {},
   "outputs": [],
   "source": []
  },
  {
   "cell_type": "code",
   "execution_count": null,
   "id": "8fad1e05-d9d8-46d2-b04d-0eb2e950bb29",
   "metadata": {},
   "outputs": [],
   "source": []
  },
  {
   "cell_type": "code",
   "execution_count": null,
   "id": "269b1ee0-9ce7-4584-8bec-53dfb947cbbe",
   "metadata": {},
   "outputs": [],
   "source": []
  },
  {
   "cell_type": "markdown",
   "id": "3f6054d4-a1bf-4b53-977d-f68b9a36aa98",
   "metadata": {},
   "source": [
    "### PASSO 6: MELT derretendo as colunas em formato de datas"
   ]
  },
  {
   "cell_type": "markdown",
   "id": "4d721ca5-689d-4379-96df-5549012bf2db",
   "metadata": {},
   "source": [
    "o MELT ele pega as colunas que estão na horizontal e cria uma coluna de categorias, e depois ele cria outra coluna com os valores dessas colunas que foram transformadas em dados categóricos"
   ]
  },
  {
   "cell_type": "code",
   "execution_count": 65,
   "id": "276a5e63-dde1-43ee-aa5b-91222cb7d235",
   "metadata": {},
   "outputs": [],
   "source": [
    "colunas_para_melt = [\n",
    "'01-10-2024',\n",
    "'02-10-2024',\n",
    "'03-10-2024',\n",
    "'04-10-2024',\n",
    "'07-10-2024',\n",
    "'08-10-2024',\n",
    "'09-10-2024',\n",
    "'10-10-2024',\n",
    "'11-10-2024',\n",
    "'14-10-2024',\n",
    "'15-10-2024',\n",
    "'16-10-2024',\n",
    "'17-10-2024',\n",
    "'18-10-2024',\n",
    "'21-10-2024',\n",
    "'22-10-2024',\n",
    "'23-10-2024',\n",
    "'24-10-2024',\n",
    "'25-10-2024',\n",
    "'28-10-2024',\n",
    "'29-10-2024',\n",
    "'30-10-2024',\n",
    "'31-10-2024'\n",
    "]"
   ]
  },
  {
   "cell_type": "code",
   "execution_count": null,
   "id": "d47ffaf1-6a8a-4121-b686-b6d21b75a8a7",
   "metadata": {},
   "outputs": [],
   "source": []
  },
  {
   "cell_type": "code",
   "execution_count": null,
   "id": "11605692-f310-4db9-adb8-424858c0ff74",
   "metadata": {},
   "outputs": [],
   "source": []
  },
  {
   "cell_type": "code",
   "execution_count": null,
   "id": "8dfd8fd0-e6c5-4879-a8fe-f48b42bb66d5",
   "metadata": {},
   "outputs": [],
   "source": []
  },
  {
   "cell_type": "markdown",
   "id": "7570c34f-3baf-4fa9-872a-8bf3a6b6dabf",
   "metadata": {},
   "source": [
    "#### Indentificando as colunas que Eu quero manter em meu dataframe"
   ]
  },
  {
   "cell_type": "code",
   "execution_count": 66,
   "id": "003631f6-ff54-4284-9a01-a1460a49c429",
   "metadata": {},
   "outputs": [],
   "source": [
    "# Identifica as colunas que você quer manter como identificadoras (id_vars)\n",
    "# São as colunas que não serão \"unpivoted\"\n",
    "id_vars_cols = [columns for columns in dataFAT.columns if columns not in colunas_para_melt]"
   ]
  },
  {
   "cell_type": "code",
   "execution_count": null,
   "id": "36ffd19d-4b9d-427f-b662-cadef820fdda",
   "metadata": {},
   "outputs": [],
   "source": []
  },
  {
   "cell_type": "code",
   "execution_count": null,
   "id": "2365f474-0241-4109-9dcb-45c5455ef383",
   "metadata": {},
   "outputs": [],
   "source": []
  },
  {
   "cell_type": "code",
   "execution_count": null,
   "id": "964ccf7c-8232-481c-ad39-d4a3df2a9166",
   "metadata": {},
   "outputs": [],
   "source": []
  },
  {
   "cell_type": "markdown",
   "id": "950f66b0-66c6-4419-ac1a-8f70d23a6720",
   "metadata": {},
   "source": [
    "#### Realiza o melt apenas nas colunas de datas"
   ]
  },
  {
   "cell_type": "code",
   "execution_count": 67,
   "id": "66529be3-e617-4f88-b84e-107449f057d3",
   "metadata": {},
   "outputs": [],
   "source": [
    "dataFAT_melted = pd.melt(dataFAT,\n",
    "                      id_vars=id_vars_cols, #colunas que Eu deixei, que ficaram.\n",
    "                      value_vars=colunas_para_melt, #colunas que vão se transformar.\n",
    "                      var_name='Dias de Aulas', # nome da coluna categorica\n",
    "                      value_name='Frequencia de Alunos') # nome da coluna de valores"
   ]
  },
  {
   "cell_type": "code",
   "execution_count": 68,
   "id": "e8816f24-6cb6-40a2-894e-2fed263a7a11",
   "metadata": {},
   "outputs": [
    {
     "data": {
      "text/html": [
       "<div>\n",
       "<style scoped>\n",
       "    .dataframe tbody tr th:only-of-type {\n",
       "        vertical-align: middle;\n",
       "    }\n",
       "\n",
       "    .dataframe tbody tr th {\n",
       "        vertical-align: top;\n",
       "    }\n",
       "\n",
       "    .dataframe thead th {\n",
       "        text-align: right;\n",
       "    }\n",
       "</style>\n",
       "<table border=\"1\" class=\"dataframe\">\n",
       "  <thead>\n",
       "    <tr style=\"text-align: right;\">\n",
       "      <th></th>\n",
       "      <th>CATEGORIA</th>\n",
       "      <th>MODALIDADE</th>\n",
       "      <th>DIA DA SEMANA</th>\n",
       "      <th>HORÁRIO</th>\n",
       "      <th>TURNO</th>\n",
       "      <th>PROFESSOR</th>\n",
       "      <th>Aulas/mês</th>\n",
       "      <th>Média</th>\n",
       "      <th>Alunos/professor</th>\n",
       "      <th>Ocupação Máxima0</th>\n",
       "      <th>Professor</th>\n",
       "      <th>Dias de Aulas</th>\n",
       "      <th>Frequencia de Alunos</th>\n",
       "    </tr>\n",
       "  </thead>\n",
       "  <tbody>\n",
       "    <tr>\n",
       "      <th>0</th>\n",
       "      <td>MUSC - C/P</td>\n",
       "      <td>A - MUSCULAÇÃO COM PERSONAL</td>\n",
       "      <td>seg, ter, qua, qui, sex</td>\n",
       "      <td>06:00</td>\n",
       "      <td>MANHÃ</td>\n",
       "      <td>LEONARDO JOSE</td>\n",
       "      <td>23</td>\n",
       "      <td>35.913043</td>\n",
       "      <td>NaN</td>\n",
       "      <td>NaN</td>\n",
       "      <td>0.0</td>\n",
       "      <td>01-10-2024</td>\n",
       "      <td>24</td>\n",
       "    </tr>\n",
       "    <tr>\n",
       "      <th>1</th>\n",
       "      <td>MUSC - S/P</td>\n",
       "      <td>A - MUSCULAÇÃO SEM PERSONAL</td>\n",
       "      <td>seg, ter, qua, qui, sex</td>\n",
       "      <td>06:00</td>\n",
       "      <td>MANHÃ</td>\n",
       "      <td>LEONARDO JOSE</td>\n",
       "      <td>23</td>\n",
       "      <td>44.565217</td>\n",
       "      <td>11.5</td>\n",
       "      <td>NaN</td>\n",
       "      <td>2.0</td>\n",
       "      <td>01-10-2024</td>\n",
       "      <td>38</td>\n",
       "    </tr>\n",
       "    <tr>\n",
       "      <th>2</th>\n",
       "      <td>ADULTO</td>\n",
       "      <td>CROSSFIT</td>\n",
       "      <td>seg, qua, sex</td>\n",
       "      <td>06:00</td>\n",
       "      <td>MANHÃ</td>\n",
       "      <td>EVELINE CASTRO</td>\n",
       "      <td>13</td>\n",
       "      <td>7.153846</td>\n",
       "      <td>NaN</td>\n",
       "      <td>NaN</td>\n",
       "      <td>0.0</td>\n",
       "      <td>01-10-2024</td>\n",
       "      <td>0</td>\n",
       "    </tr>\n",
       "  </tbody>\n",
       "</table>\n",
       "</div>"
      ],
      "text/plain": [
       "    CATEGORIA                   MODALIDADE            DIA DA SEMANA HORÁRIO  \\\n",
       "0  MUSC - C/P  A - MUSCULAÇÃO COM PERSONAL  seg, ter, qua, qui, sex   06:00   \n",
       "1  MUSC - S/P  A - MUSCULAÇÃO SEM PERSONAL  seg, ter, qua, qui, sex   06:00   \n",
       "2      ADULTO                     CROSSFIT            seg, qua, sex   06:00   \n",
       "\n",
       "   TURNO       PROFESSOR  Aulas/mês      Média  Alunos/professor  \\\n",
       "0  MANHÃ   LEONARDO JOSE         23  35.913043               NaN   \n",
       "1  MANHÃ   LEONARDO JOSE         23  44.565217              11.5   \n",
       "2  MANHÃ  EVELINE CASTRO         13   7.153846               NaN   \n",
       "\n",
       "   Ocupação Máxima0  Professor Dias de Aulas  Frequencia de Alunos  \n",
       "0               NaN        0.0    01-10-2024                    24  \n",
       "1               NaN        2.0    01-10-2024                    38  \n",
       "2               NaN        0.0    01-10-2024                     0  "
      ]
     },
     "execution_count": 68,
     "metadata": {},
     "output_type": "execute_result"
    }
   ],
   "source": [
    "dataFAT_melted.head(3)"
   ]
  },
  {
   "cell_type": "code",
   "execution_count": 69,
   "id": "1dd408ff-bd89-4440-8f31-c68007040e3a",
   "metadata": {},
   "outputs": [
    {
     "data": {
      "text/plain": [
       "26660"
      ]
     },
     "execution_count": 69,
     "metadata": {},
     "output_type": "execute_result"
    }
   ],
   "source": [
    "dataFAT_melted['Frequencia de Alunos'].sum()"
   ]
  },
  {
   "cell_type": "markdown",
   "id": "7d016085-0818-4efa-aef1-b3e0a30e35a8",
   "metadata": {},
   "source": [
    "____"
   ]
  },
  {
   "cell_type": "code",
   "execution_count": null,
   "id": "61343779-a573-4766-a7c2-c19ca117434e",
   "metadata": {},
   "outputs": [],
   "source": []
  },
  {
   "cell_type": "code",
   "execution_count": null,
   "id": "88f210c0-f93d-4fd3-9c55-ec69c5ba5929",
   "metadata": {},
   "outputs": [],
   "source": []
  },
  {
   "cell_type": "code",
   "execution_count": null,
   "id": "07d4b409-08d4-42dd-b68f-d3c6107cb365",
   "metadata": {},
   "outputs": [],
   "source": []
  },
  {
   "cell_type": "markdown",
   "id": "865951f0-e7d2-4f1b-8ebb-7042f1c2ffcb",
   "metadata": {},
   "source": [
    "____"
   ]
  },
  {
   "cell_type": "markdown",
   "id": "85051b72-da87-4f47-b12c-2ef1ea0c6b37",
   "metadata": {},
   "source": [
    "# BOOTCAMP [BOOT] - PREPROCESSING 4"
   ]
  },
  {
   "cell_type": "code",
   "execution_count": 70,
   "id": "0a7a5b25-2654-430d-a5c8-cbebfc9b3bb2",
   "metadata": {},
   "outputs": [],
   "source": [
    "data4 = pd.read_excel('3.2 Mapa de Ocupação - OUT 2024.xlsx', sheet_name='BOOTCAMP', skiprows=1, nrows=41)"
   ]
  },
  {
   "cell_type": "code",
   "execution_count": 71,
   "id": "1bb1411f-17eb-4036-8c44-e88d915db23f",
   "metadata": {},
   "outputs": [],
   "source": [
    "dataBOOT = data4.copy()"
   ]
  },
  {
   "cell_type": "code",
   "execution_count": null,
   "id": "acb5a5e2-57ff-4a33-8385-f121964a4560",
   "metadata": {},
   "outputs": [],
   "source": []
  },
  {
   "cell_type": "code",
   "execution_count": null,
   "id": "b5c54b05-5e5b-4b31-ad15-a61625e9ed08",
   "metadata": {},
   "outputs": [],
   "source": []
  },
  {
   "cell_type": "code",
   "execution_count": null,
   "id": "f07f6dce-5c9c-478b-afd6-a3471c82012b",
   "metadata": {},
   "outputs": [],
   "source": []
  },
  {
   "cell_type": "markdown",
   "id": "4fe1d05e-e070-4a02-bf5c-41246063dbe3",
   "metadata": {},
   "source": [
    "### 1 PASSO: Removendo colunas desnecessárias"
   ]
  },
  {
   "cell_type": "code",
   "execution_count": 72,
   "id": "c6a55cb1-fd4e-4faa-a093-32b37f757f00",
   "metadata": {},
   "outputs": [
    {
     "data": {
      "text/html": [
       "<div>\n",
       "<style scoped>\n",
       "    .dataframe tbody tr th:only-of-type {\n",
       "        vertical-align: middle;\n",
       "    }\n",
       "\n",
       "    .dataframe tbody tr th {\n",
       "        vertical-align: top;\n",
       "    }\n",
       "\n",
       "    .dataframe thead th {\n",
       "        text-align: right;\n",
       "    }\n",
       "</style>\n",
       "<table border=\"1\" class=\"dataframe\">\n",
       "  <thead>\n",
       "    <tr style=\"text-align: right;\">\n",
       "      <th></th>\n",
       "      <th>Unnamed: 0</th>\n",
       "      <th>Unnamed: 1</th>\n",
       "      <th>Unnamed: 2</th>\n",
       "      <th>MODALIDADE</th>\n",
       "      <th>DIA DA SEMANA</th>\n",
       "      <th>HORÁRIO</th>\n",
       "      <th>AUX1</th>\n",
       "      <th>2024-10-01 00:00:00</th>\n",
       "      <th>2024-10-02 00:00:00</th>\n",
       "      <th>2024-10-03 00:00:00</th>\n",
       "      <th>...</th>\n",
       "      <th>2024-10-24 00:00:00</th>\n",
       "      <th>2024-10-25 00:00:00</th>\n",
       "      <th>2024-10-26 00:00:00</th>\n",
       "      <th>2024-10-27 00:00:00</th>\n",
       "      <th>2024-10-28 00:00:00</th>\n",
       "      <th>2024-10-29 00:00:00</th>\n",
       "      <th>2024-10-30 00:00:00</th>\n",
       "      <th>2024-10-31 00:00:00</th>\n",
       "      <th>MÉDIA</th>\n",
       "      <th>Unnamed: 39</th>\n",
       "    </tr>\n",
       "  </thead>\n",
       "  <tbody>\n",
       "    <tr>\n",
       "      <th>0</th>\n",
       "      <td>NaN</td>\n",
       "      <td>NaN</td>\n",
       "      <td>NaN</td>\n",
       "      <td>A - MUSCULAÇÃO</td>\n",
       "      <td>seg, ter, qua, qui, sex</td>\n",
       "      <td>05:30:00</td>\n",
       "      <td>05:30</td>\n",
       "      <td>4</td>\n",
       "      <td>3</td>\n",
       "      <td>4</td>\n",
       "      <td>...</td>\n",
       "      <td>0</td>\n",
       "      <td>2</td>\n",
       "      <td>x</td>\n",
       "      <td>x</td>\n",
       "      <td>NaN</td>\n",
       "      <td>4</td>\n",
       "      <td>4</td>\n",
       "      <td>NaN</td>\n",
       "      <td>2.333333</td>\n",
       "      <td>NaN</td>\n",
       "    </tr>\n",
       "    <tr>\n",
       "      <th>1</th>\n",
       "      <td>NaN</td>\n",
       "      <td>NaN</td>\n",
       "      <td>NaN</td>\n",
       "      <td>BOOTCAMP</td>\n",
       "      <td>seg, ter, qua, sex</td>\n",
       "      <td>05:30:00</td>\n",
       "      <td>05:30</td>\n",
       "      <td>2</td>\n",
       "      <td>0</td>\n",
       "      <td>0</td>\n",
       "      <td>...</td>\n",
       "      <td>8</td>\n",
       "      <td>1</td>\n",
       "      <td>x</td>\n",
       "      <td>x</td>\n",
       "      <td>NaN</td>\n",
       "      <td>2</td>\n",
       "      <td>3</td>\n",
       "      <td>NaN</td>\n",
       "      <td>2.666667</td>\n",
       "      <td>NaN</td>\n",
       "    </tr>\n",
       "    <tr>\n",
       "      <th>2</th>\n",
       "      <td>NaN</td>\n",
       "      <td>NaN</td>\n",
       "      <td>NaN</td>\n",
       "      <td>HIGH FORCE</td>\n",
       "      <td>qui</td>\n",
       "      <td>05:30:00</td>\n",
       "      <td>05:30</td>\n",
       "      <td>x</td>\n",
       "      <td>x</td>\n",
       "      <td>4</td>\n",
       "      <td>...</td>\n",
       "      <td>0</td>\n",
       "      <td>x</td>\n",
       "      <td>x</td>\n",
       "      <td>x</td>\n",
       "      <td>x</td>\n",
       "      <td>x</td>\n",
       "      <td>x</td>\n",
       "      <td>NaN</td>\n",
       "      <td>0.000000</td>\n",
       "      <td>NaN</td>\n",
       "    </tr>\n",
       "  </tbody>\n",
       "</table>\n",
       "<p>3 rows × 40 columns</p>\n",
       "</div>"
      ],
      "text/plain": [
       "   Unnamed: 0  Unnamed: 1  Unnamed: 2      MODALIDADE  \\\n",
       "0         NaN         NaN         NaN  A - MUSCULAÇÃO   \n",
       "1         NaN         NaN         NaN        BOOTCAMP   \n",
       "2         NaN         NaN         NaN      HIGH FORCE   \n",
       "\n",
       "             DIA DA SEMANA   HORÁRIO   AUX1 2024-10-01 00:00:00  \\\n",
       "0  seg, ter, qua, qui, sex  05:30:00  05:30                   4   \n",
       "1       seg, ter, qua, sex  05:30:00  05:30                   2   \n",
       "2                      qui  05:30:00  05:30                   x   \n",
       "\n",
       "  2024-10-02 00:00:00 2024-10-03 00:00:00  ... 2024-10-24 00:00:00  \\\n",
       "0                   3                   4  ...                   0   \n",
       "1                   0                   0  ...                   8   \n",
       "2                   x                   4  ...                   0   \n",
       "\n",
       "  2024-10-25 00:00:00 2024-10-26 00:00:00 2024-10-27 00:00:00  \\\n",
       "0                   2                   x                   x   \n",
       "1                   1                   x                   x   \n",
       "2                   x                   x                   x   \n",
       "\n",
       "  2024-10-28 00:00:00 2024-10-29 00:00:00 2024-10-30 00:00:00  \\\n",
       "0                 NaN                   4                   4   \n",
       "1                 NaN                   2                   3   \n",
       "2                   x                   x                   x   \n",
       "\n",
       "  2024-10-31 00:00:00     MÉDIA Unnamed: 39  \n",
       "0                 NaN  2.333333         NaN  \n",
       "1                 NaN  2.666667         NaN  \n",
       "2                 NaN  0.000000         NaN  \n",
       "\n",
       "[3 rows x 40 columns]"
      ]
     },
     "execution_count": 72,
     "metadata": {},
     "output_type": "execute_result"
    }
   ],
   "source": [
    "dataBOOT.head(3)"
   ]
  },
  {
   "cell_type": "code",
   "execution_count": 73,
   "id": "159fac55-3931-4580-af38-68df1115f1a3",
   "metadata": {},
   "outputs": [
    {
     "data": {
      "text/plain": [
       "Unnamed: 0                                 NaN\n",
       "Unnamed: 1                                 NaN\n",
       "Unnamed: 2                                 NaN\n",
       "MODALIDADE                      A - MUSCULAÇÃO\n",
       "DIA DA SEMANA          seg, ter, qua, qui, sex\n",
       "HORÁRIO                               05:30:00\n",
       "AUX1                                     05:30\n",
       "2024-10-01 00:00:00                          4\n",
       "2024-10-02 00:00:00                          3\n",
       "2024-10-03 00:00:00                          4\n",
       "2024-10-04 00:00:00                          3\n",
       "2024-10-05 00:00:00                          x\n",
       "2024-10-06 00:00:00                          x\n",
       "2024-10-07 00:00:00                          3\n",
       "2024-10-08 00:00:00                          3\n",
       "2024-10-09 00:00:00                          3\n",
       "2024-10-10 00:00:00                          2\n",
       "2024-10-11 00:00:00                          1\n",
       "2024-10-12 00:00:00                          x\n",
       "2024-10-13 00:00:00                          x\n",
       "2024-10-14 00:00:00                          1\n",
       "2024-10-15 00:00:00                          3\n",
       "2024-10-16 00:00:00                          2\n",
       "2024-10-17 00:00:00                          1\n",
       "2024-10-18 00:00:00                          1\n",
       "2024-10-19 00:00:00                          x\n",
       "2024-10-20 00:00:00                          x\n",
       "2024-10-21 00:00:00                          4\n",
       "2024-10-22 00:00:00                          3\n",
       "2024-10-23 00:00:00                          3\n",
       "2024-10-24 00:00:00                          0\n",
       "2024-10-25 00:00:00                          2\n",
       "2024-10-26 00:00:00                          x\n",
       "2024-10-27 00:00:00                          x\n",
       "2024-10-28 00:00:00                        NaN\n",
       "2024-10-29 00:00:00                          4\n",
       "2024-10-30 00:00:00                          4\n",
       "2024-10-31 00:00:00                        NaN\n",
       "MÉDIA                                 2.333333\n",
       "Unnamed: 39                                NaN\n",
       "Name: 0, dtype: object"
      ]
     },
     "execution_count": 73,
     "metadata": {},
     "output_type": "execute_result"
    }
   ],
   "source": [
    "dataBOOT.iloc[0]"
   ]
  },
  {
   "cell_type": "code",
   "execution_count": 74,
   "id": "372d2b81-746d-4531-bc0b-1ef10def8c27",
   "metadata": {},
   "outputs": [
    {
     "data": {
      "text/plain": [
       "Unnamed: 0                                  NaN\n",
       "Unnamed: 1                                  NaN\n",
       "Unnamed: 2                                  NaN\n",
       "MODALIDADE                             BOOTCAMP\n",
       "DIA DA SEMANA          seg, ter, qua, qui, sex,\n",
       "HORÁRIO                                20:30:00\n",
       "AUX1                                      20:30\n",
       "2024-10-01 00:00:00                           0\n",
       "2024-10-02 00:00:00                           0\n",
       "2024-10-03 00:00:00                           1\n",
       "2024-10-04 00:00:00                           0\n",
       "2024-10-05 00:00:00                           x\n",
       "2024-10-06 00:00:00                           x\n",
       "2024-10-07 00:00:00                           2\n",
       "2024-10-08 00:00:00                           0\n",
       "2024-10-09 00:00:00                           1\n",
       "2024-10-10 00:00:00                           0\n",
       "2024-10-11 00:00:00                           1\n",
       "2024-10-12 00:00:00                           x\n",
       "2024-10-13 00:00:00                           x\n",
       "2024-10-14 00:00:00                           3\n",
       "2024-10-15 00:00:00                         NaN\n",
       "2024-10-16 00:00:00                           2\n",
       "2024-10-17 00:00:00                           0\n",
       "2024-10-18 00:00:00                         NaN\n",
       "2024-10-19 00:00:00                           x\n",
       "2024-10-20 00:00:00                           x\n",
       "2024-10-21 00:00:00                           2\n",
       "2024-10-22 00:00:00                           0\n",
       "2024-10-23 00:00:00                           1\n",
       "2024-10-24 00:00:00                         NaN\n",
       "2024-10-25 00:00:00                           0\n",
       "2024-10-26 00:00:00                           x\n",
       "2024-10-27 00:00:00                           x\n",
       "2024-10-28 00:00:00                           1\n",
       "2024-10-29 00:00:00                           0\n",
       "2024-10-30 00:00:00                           0\n",
       "2024-10-31 00:00:00                         NaN\n",
       "MÉDIA                                       0.9\n",
       "Unnamed: 39                                 NaN\n",
       "Name: 38, dtype: object"
      ]
     },
     "execution_count": 74,
     "metadata": {},
     "output_type": "execute_result"
    }
   ],
   "source": [
    "dataBOOT.iloc[-1]"
   ]
  },
  {
   "cell_type": "code",
   "execution_count": null,
   "id": "cd65cd83-4f71-4b21-a52d-2c9532b62d79",
   "metadata": {},
   "outputs": [],
   "source": []
  },
  {
   "cell_type": "code",
   "execution_count": 75,
   "id": "15eef118-4c45-4d20-873d-23a90b229490",
   "metadata": {},
   "outputs": [
    {
     "data": {
      "text/plain": [
       "Index([       'Unnamed: 0',        'Unnamed: 1',        'Unnamed: 2',\n",
       "              'MODALIDADE',     'DIA DA SEMANA',           'HORÁRIO',\n",
       "                    'AUX1', 2024-10-01 00:00:00, 2024-10-02 00:00:00,\n",
       "       2024-10-03 00:00:00, 2024-10-04 00:00:00, 2024-10-05 00:00:00,\n",
       "       2024-10-06 00:00:00, 2024-10-07 00:00:00, 2024-10-08 00:00:00,\n",
       "       2024-10-09 00:00:00, 2024-10-10 00:00:00, 2024-10-11 00:00:00,\n",
       "       2024-10-12 00:00:00, 2024-10-13 00:00:00, 2024-10-14 00:00:00,\n",
       "       2024-10-15 00:00:00, 2024-10-16 00:00:00, 2024-10-17 00:00:00,\n",
       "       2024-10-18 00:00:00, 2024-10-19 00:00:00, 2024-10-20 00:00:00,\n",
       "       2024-10-21 00:00:00, 2024-10-22 00:00:00, 2024-10-23 00:00:00,\n",
       "       2024-10-24 00:00:00, 2024-10-25 00:00:00, 2024-10-26 00:00:00,\n",
       "       2024-10-27 00:00:00, 2024-10-28 00:00:00, 2024-10-29 00:00:00,\n",
       "       2024-10-30 00:00:00, 2024-10-31 00:00:00,             'MÉDIA',\n",
       "             'Unnamed: 39'],\n",
       "      dtype='object')"
      ]
     },
     "execution_count": 75,
     "metadata": {},
     "output_type": "execute_result"
    }
   ],
   "source": [
    "dataBOOT.columns"
   ]
  },
  {
   "cell_type": "code",
   "execution_count": null,
   "id": "f1379eb5-8d42-4baa-a9b0-bc77e1ca793f",
   "metadata": {},
   "outputs": [],
   "source": []
  },
  {
   "cell_type": "code",
   "execution_count": null,
   "id": "9d3ae4d7-7445-41f2-b056-ab8b441dd58f",
   "metadata": {},
   "outputs": [],
   "source": []
  },
  {
   "cell_type": "code",
   "execution_count": null,
   "id": "36c1c905-6123-45d7-8c25-d8df420ab16f",
   "metadata": {},
   "outputs": [],
   "source": []
  },
  {
   "cell_type": "code",
   "execution_count": 76,
   "id": "3853a646-3dd8-4886-8612-480b805db79e",
   "metadata": {},
   "outputs": [],
   "source": [
    "del dataBOOT['Unnamed: 0']\n",
    "del dataBOOT['Unnamed: 1']\n",
    "del dataBOOT['Unnamed: 2']\n",
    "del dataBOOT['Unnamed: 39']"
   ]
  },
  {
   "cell_type": "code",
   "execution_count": 77,
   "id": "f974e243-8772-4d46-9482-10d195fe583a",
   "metadata": {},
   "outputs": [],
   "source": [
    "del dataBOOT['HORÁRIO']"
   ]
  },
  {
   "cell_type": "markdown",
   "id": "bc1c8739-3fcd-4815-9299-94a8a3fde656",
   "metadata": {},
   "source": [
    "- PRECISAMOS RENOMEAR A COLUNA AUX.1 COMO HORARIO"
   ]
  },
  {
   "cell_type": "code",
   "execution_count": 78,
   "id": "63901f5a-650e-48c5-a7a8-71a1468b7969",
   "metadata": {},
   "outputs": [],
   "source": [
    "dataBOOT.rename(columns={'AUX1': 'HORÁRIO'}, inplace=True)\n",
    "# Ajeitando o nome da média\n",
    "dataBOOT.rename(columns={'MÉDIA': 'Média'}, inplace=True)"
   ]
  },
  {
   "cell_type": "code",
   "execution_count": null,
   "id": "365c9174-f205-447a-a34c-48692123afea",
   "metadata": {},
   "outputs": [],
   "source": []
  },
  {
   "cell_type": "code",
   "execution_count": 79,
   "id": "e7cd371d-e5f9-4151-960a-563afee9c10c",
   "metadata": {},
   "outputs": [
    {
     "data": {
      "text/html": [
       "<div>\n",
       "<style scoped>\n",
       "    .dataframe tbody tr th:only-of-type {\n",
       "        vertical-align: middle;\n",
       "    }\n",
       "\n",
       "    .dataframe tbody tr th {\n",
       "        vertical-align: top;\n",
       "    }\n",
       "\n",
       "    .dataframe thead th {\n",
       "        text-align: right;\n",
       "    }\n",
       "</style>\n",
       "<table border=\"1\" class=\"dataframe\">\n",
       "  <thead>\n",
       "    <tr style=\"text-align: right;\">\n",
       "      <th></th>\n",
       "      <th>MODALIDADE</th>\n",
       "      <th>DIA DA SEMANA</th>\n",
       "      <th>HORÁRIO</th>\n",
       "      <th>2024-10-01 00:00:00</th>\n",
       "      <th>2024-10-02 00:00:00</th>\n",
       "      <th>2024-10-03 00:00:00</th>\n",
       "      <th>2024-10-04 00:00:00</th>\n",
       "      <th>2024-10-05 00:00:00</th>\n",
       "      <th>2024-10-06 00:00:00</th>\n",
       "      <th>2024-10-07 00:00:00</th>\n",
       "      <th>...</th>\n",
       "      <th>2024-10-23 00:00:00</th>\n",
       "      <th>2024-10-24 00:00:00</th>\n",
       "      <th>2024-10-25 00:00:00</th>\n",
       "      <th>2024-10-26 00:00:00</th>\n",
       "      <th>2024-10-27 00:00:00</th>\n",
       "      <th>2024-10-28 00:00:00</th>\n",
       "      <th>2024-10-29 00:00:00</th>\n",
       "      <th>2024-10-30 00:00:00</th>\n",
       "      <th>2024-10-31 00:00:00</th>\n",
       "      <th>Média</th>\n",
       "    </tr>\n",
       "  </thead>\n",
       "  <tbody>\n",
       "    <tr>\n",
       "      <th>0</th>\n",
       "      <td>A - MUSCULAÇÃO</td>\n",
       "      <td>seg, ter, qua, qui, sex</td>\n",
       "      <td>05:30</td>\n",
       "      <td>4</td>\n",
       "      <td>3</td>\n",
       "      <td>4</td>\n",
       "      <td>3</td>\n",
       "      <td>x</td>\n",
       "      <td>x</td>\n",
       "      <td>3</td>\n",
       "      <td>...</td>\n",
       "      <td>3</td>\n",
       "      <td>0</td>\n",
       "      <td>2</td>\n",
       "      <td>x</td>\n",
       "      <td>x</td>\n",
       "      <td>NaN</td>\n",
       "      <td>4</td>\n",
       "      <td>4</td>\n",
       "      <td>NaN</td>\n",
       "      <td>2.333333</td>\n",
       "    </tr>\n",
       "    <tr>\n",
       "      <th>1</th>\n",
       "      <td>BOOTCAMP</td>\n",
       "      <td>seg, ter, qua, sex</td>\n",
       "      <td>05:30</td>\n",
       "      <td>2</td>\n",
       "      <td>0</td>\n",
       "      <td>0</td>\n",
       "      <td>0</td>\n",
       "      <td>x</td>\n",
       "      <td>x</td>\n",
       "      <td>5</td>\n",
       "      <td>...</td>\n",
       "      <td>3</td>\n",
       "      <td>8</td>\n",
       "      <td>1</td>\n",
       "      <td>x</td>\n",
       "      <td>x</td>\n",
       "      <td>NaN</td>\n",
       "      <td>2</td>\n",
       "      <td>3</td>\n",
       "      <td>NaN</td>\n",
       "      <td>2.666667</td>\n",
       "    </tr>\n",
       "    <tr>\n",
       "      <th>2</th>\n",
       "      <td>HIGH FORCE</td>\n",
       "      <td>qui</td>\n",
       "      <td>05:30</td>\n",
       "      <td>x</td>\n",
       "      <td>x</td>\n",
       "      <td>4</td>\n",
       "      <td>x</td>\n",
       "      <td>x</td>\n",
       "      <td>x</td>\n",
       "      <td>x</td>\n",
       "      <td>...</td>\n",
       "      <td>x</td>\n",
       "      <td>0</td>\n",
       "      <td>x</td>\n",
       "      <td>x</td>\n",
       "      <td>x</td>\n",
       "      <td>x</td>\n",
       "      <td>x</td>\n",
       "      <td>x</td>\n",
       "      <td>NaN</td>\n",
       "      <td>0.000000</td>\n",
       "    </tr>\n",
       "  </tbody>\n",
       "</table>\n",
       "<p>3 rows × 35 columns</p>\n",
       "</div>"
      ],
      "text/plain": [
       "       MODALIDADE            DIA DA SEMANA HORÁRIO 2024-10-01 00:00:00  \\\n",
       "0  A - MUSCULAÇÃO  seg, ter, qua, qui, sex   05:30                   4   \n",
       "1        BOOTCAMP       seg, ter, qua, sex   05:30                   2   \n",
       "2      HIGH FORCE                      qui   05:30                   x   \n",
       "\n",
       "  2024-10-02 00:00:00 2024-10-03 00:00:00 2024-10-04 00:00:00  \\\n",
       "0                   3                   4                   3   \n",
       "1                   0                   0                   0   \n",
       "2                   x                   4                   x   \n",
       "\n",
       "  2024-10-05 00:00:00 2024-10-06 00:00:00 2024-10-07 00:00:00  ...  \\\n",
       "0                   x                   x                   3  ...   \n",
       "1                   x                   x                   5  ...   \n",
       "2                   x                   x                   x  ...   \n",
       "\n",
       "  2024-10-23 00:00:00 2024-10-24 00:00:00 2024-10-25 00:00:00  \\\n",
       "0                   3                   0                   2   \n",
       "1                   3                   8                   1   \n",
       "2                   x                   0                   x   \n",
       "\n",
       "  2024-10-26 00:00:00 2024-10-27 00:00:00 2024-10-28 00:00:00  \\\n",
       "0                   x                   x                 NaN   \n",
       "1                   x                   x                 NaN   \n",
       "2                   x                   x                   x   \n",
       "\n",
       "  2024-10-29 00:00:00 2024-10-30 00:00:00 2024-10-31 00:00:00     Média  \n",
       "0                   4                   4                 NaN  2.333333  \n",
       "1                   2                   3                 NaN  2.666667  \n",
       "2                   x                   x                 NaN  0.000000  \n",
       "\n",
       "[3 rows x 35 columns]"
      ]
     },
     "execution_count": 79,
     "metadata": {},
     "output_type": "execute_result"
    }
   ],
   "source": [
    "dataBOOT.head(3)"
   ]
  },
  {
   "cell_type": "code",
   "execution_count": null,
   "id": "f1b9d808-ada1-4fe1-b86e-fb5716fe98dc",
   "metadata": {},
   "outputs": [],
   "source": []
  },
  {
   "cell_type": "code",
   "execution_count": null,
   "id": "bf36e54a-c318-4493-b3e4-d45c47b80118",
   "metadata": {},
   "outputs": [],
   "source": []
  },
  {
   "cell_type": "code",
   "execution_count": null,
   "id": "ab134d83-cc51-4b39-a908-b11c1bb3daa2",
   "metadata": {},
   "outputs": [],
   "source": []
  },
  {
   "cell_type": "markdown",
   "id": "8d697497-a872-44f8-ad52-2e4ea5235d85",
   "metadata": {},
   "source": [
    "### 2 PASSO: Renomeando strings de datas, para que o pandas possa aceitar como colunas"
   ]
  },
  {
   "cell_type": "code",
   "execution_count": 80,
   "id": "ecf137cc-4da2-46cc-a9df-721613256bc7",
   "metadata": {},
   "outputs": [
    {
     "name": "stdout",
     "output_type": "stream",
     "text": [
      "MODALIDADE\n",
      "DIA DA SEMANA\n",
      "HORÁRIO\n",
      "2024-10-01 00:00:00\n",
      "2024-10-02 00:00:00\n",
      "2024-10-03 00:00:00\n",
      "2024-10-04 00:00:00\n",
      "2024-10-05 00:00:00\n",
      "2024-10-06 00:00:00\n",
      "2024-10-07 00:00:00\n",
      "2024-10-08 00:00:00\n",
      "2024-10-09 00:00:00\n",
      "2024-10-10 00:00:00\n",
      "2024-10-11 00:00:00\n",
      "2024-10-12 00:00:00\n",
      "2024-10-13 00:00:00\n",
      "2024-10-14 00:00:00\n",
      "2024-10-15 00:00:00\n",
      "2024-10-16 00:00:00\n",
      "2024-10-17 00:00:00\n",
      "2024-10-18 00:00:00\n",
      "2024-10-19 00:00:00\n",
      "2024-10-20 00:00:00\n",
      "2024-10-21 00:00:00\n",
      "2024-10-22 00:00:00\n",
      "2024-10-23 00:00:00\n",
      "2024-10-24 00:00:00\n",
      "2024-10-25 00:00:00\n",
      "2024-10-26 00:00:00\n",
      "2024-10-27 00:00:00\n",
      "2024-10-28 00:00:00\n",
      "2024-10-29 00:00:00\n",
      "2024-10-30 00:00:00\n",
      "2024-10-31 00:00:00\n",
      "Média\n"
     ]
    }
   ],
   "source": [
    "for columns in dataBOOT.columns:\n",
    "    print(columns)"
   ]
  },
  {
   "cell_type": "code",
   "execution_count": 81,
   "id": "bf6f4c82-ee41-42ac-83b0-538b37b51237",
   "metadata": {},
   "outputs": [],
   "source": [
    "dataBOOT.columns = [\n",
    "'MODALIDADE',\n",
    "'DIA DA SEMANA',\n",
    "'HORÁRIO',\n",
    "'2024-10-01 00:00:00',\n",
    "'2024-10-02 00:00:00',\n",
    "'2024-10-03 00:00:00',\n",
    "'2024-10-04 00:00:00',\n",
    "'2024-10-05 00:00:00',\n",
    "'2024-10-06 00:00:00',\n",
    "'2024-10-07 00:00:00',\n",
    "'2024-10-08 00:00:00',\n",
    "'2024-10-09 00:00:00',\n",
    "'2024-10-10 00:00:00',\n",
    "'2024-10-11 00:00:00',\n",
    "'2024-10-12 00:00:00',\n",
    "'2024-10-13 00:00:00',\n",
    "'2024-10-14 00:00:00',\n",
    "'2024-10-15 00:00:00',\n",
    "'2024-10-16 00:00:00',\n",
    "'2024-10-17 00:00:00',\n",
    "'2024-10-18 00:00:00',\n",
    "'2024-10-19 00:00:00',\n",
    "'2024-10-20 00:00:00',\n",
    "'2024-10-21 00:00:00',\n",
    "'2024-10-22 00:00:00',\n",
    "'2024-10-23 00:00:00',\n",
    "'2024-10-24 00:00:00',\n",
    "'2024-10-25 00:00:00',\n",
    "'2024-10-26 00:00:00',\n",
    "'2024-10-27 00:00:00',\n",
    "'2024-10-28 00:00:00',\n",
    "'2024-10-29 00:00:00',\n",
    "'2024-10-30 00:00:00',\n",
    "'2024-10-31 00:00:00',\n",
    "'Média'\n",
    "]"
   ]
  },
  {
   "cell_type": "code",
   "execution_count": 82,
   "id": "d6f20cc4-7d9d-4eb7-99bc-444c17187757",
   "metadata": {},
   "outputs": [
    {
     "data": {
      "text/plain": [
       "Index(['MODALIDADE', 'DIA DA SEMANA', 'HORÁRIO', '2024-10-01 00:00:00',\n",
       "       '2024-10-02 00:00:00', '2024-10-03 00:00:00', '2024-10-04 00:00:00',\n",
       "       '2024-10-05 00:00:00', '2024-10-06 00:00:00', '2024-10-07 00:00:00',\n",
       "       '2024-10-08 00:00:00', '2024-10-09 00:00:00', '2024-10-10 00:00:00',\n",
       "       '2024-10-11 00:00:00', '2024-10-12 00:00:00', '2024-10-13 00:00:00',\n",
       "       '2024-10-14 00:00:00', '2024-10-15 00:00:00', '2024-10-16 00:00:00',\n",
       "       '2024-10-17 00:00:00', '2024-10-18 00:00:00', '2024-10-19 00:00:00',\n",
       "       '2024-10-20 00:00:00', '2024-10-21 00:00:00', '2024-10-22 00:00:00',\n",
       "       '2024-10-23 00:00:00', '2024-10-24 00:00:00', '2024-10-25 00:00:00',\n",
       "       '2024-10-26 00:00:00', '2024-10-27 00:00:00', '2024-10-28 00:00:00',\n",
       "       '2024-10-29 00:00:00', '2024-10-30 00:00:00', '2024-10-31 00:00:00',\n",
       "       'Média'],\n",
       "      dtype='object')"
      ]
     },
     "execution_count": 82,
     "metadata": {},
     "output_type": "execute_result"
    }
   ],
   "source": [
    "dataBOOT.columns"
   ]
  },
  {
   "cell_type": "code",
   "execution_count": null,
   "id": "2d85666a-480d-4a61-a773-c62f2763efcf",
   "metadata": {},
   "outputs": [],
   "source": []
  },
  {
   "cell_type": "code",
   "execution_count": null,
   "id": "2d4fe121-2bff-41b5-8188-589f828f6a47",
   "metadata": {},
   "outputs": [],
   "source": []
  },
  {
   "cell_type": "code",
   "execution_count": null,
   "id": "c2e37e2c-4f01-4568-9fe1-276cc95f9207",
   "metadata": {},
   "outputs": [],
   "source": []
  },
  {
   "cell_type": "markdown",
   "id": "ed560528-62a3-4db6-84cd-c350a4332e6e",
   "metadata": {},
   "source": [
    "### PASSO 3: Escolhendo colunas com o nome de 'datas', para renomear pelo o tipo dia, mês e ano. e removendo os 00 de horas"
   ]
  },
  {
   "cell_type": "code",
   "execution_count": 83,
   "id": "af9fcd00-43c1-4e43-b365-9ce7d715d2e7",
   "metadata": {},
   "outputs": [],
   "source": [
    "colunas = [\n",
    "'2024-10-01 00:00:00',\n",
    "'2024-10-02 00:00:00',\n",
    "'2024-10-03 00:00:00',\n",
    "'2024-10-04 00:00:00',\n",
    "'2024-10-05 00:00:00',\n",
    "'2024-10-06 00:00:00',\n",
    "'2024-10-07 00:00:00',\n",
    "'2024-10-08 00:00:00',\n",
    "'2024-10-09 00:00:00',\n",
    "'2024-10-10 00:00:00',\n",
    "'2024-10-11 00:00:00',\n",
    "'2024-10-12 00:00:00',\n",
    "'2024-10-13 00:00:00',\n",
    "'2024-10-14 00:00:00',\n",
    "'2024-10-15 00:00:00',\n",
    "'2024-10-16 00:00:00',\n",
    "'2024-10-17 00:00:00',\n",
    "'2024-10-18 00:00:00',\n",
    "'2024-10-19 00:00:00',\n",
    "'2024-10-20 00:00:00',\n",
    "'2024-10-21 00:00:00',\n",
    "'2024-10-22 00:00:00',\n",
    "'2024-10-23 00:00:00',\n",
    "'2024-10-24 00:00:00',\n",
    "'2024-10-25 00:00:00',\n",
    "'2024-10-26 00:00:00',\n",
    "'2024-10-27 00:00:00',\n",
    "'2024-10-28 00:00:00',\n",
    "'2024-10-29 00:00:00',\n",
    "'2024-10-30 00:00:00',\n",
    "'2024-10-31 00:00:00',\n",
    "]"
   ]
  },
  {
   "cell_type": "code",
   "execution_count": 84,
   "id": "5db1c6d8-e69d-4334-ab7b-750c00a6c21d",
   "metadata": {},
   "outputs": [],
   "source": [
    "novas_colunas_BOOT = []"
   ]
  },
  {
   "cell_type": "code",
   "execution_count": 85,
   "id": "fbed4f27-151b-4977-bb9e-b36b5c03f23e",
   "metadata": {},
   "outputs": [],
   "source": [
    "for columns in colunas:\n",
    "    # Remove a parte da hora\n",
    "    data_sem_hora = columns.split(' ')[0]\n",
    "    \n",
    "    # Formata para o formato DD-MM-YYYY\n",
    "    ano, mes, dia = data_sem_hora.split('-')\n",
    "    novo_nome = f'{dia}-{mes}-{ano}'\n",
    "    novas_colunas_BOOT.append(novo_nome)"
   ]
  },
  {
   "cell_type": "code",
   "execution_count": 86,
   "id": "b2768632-c1f9-46ba-a1a0-df437773d58e",
   "metadata": {},
   "outputs": [
    {
     "data": {
      "text/plain": [
       "['01-10-2024',\n",
       " '02-10-2024',\n",
       " '03-10-2024',\n",
       " '04-10-2024',\n",
       " '05-10-2024',\n",
       " '06-10-2024',\n",
       " '07-10-2024',\n",
       " '08-10-2024',\n",
       " '09-10-2024',\n",
       " '10-10-2024',\n",
       " '11-10-2024',\n",
       " '12-10-2024',\n",
       " '13-10-2024',\n",
       " '14-10-2024',\n",
       " '15-10-2024',\n",
       " '16-10-2024',\n",
       " '17-10-2024',\n",
       " '18-10-2024',\n",
       " '19-10-2024',\n",
       " '20-10-2024',\n",
       " '21-10-2024',\n",
       " '22-10-2024',\n",
       " '23-10-2024',\n",
       " '24-10-2024',\n",
       " '25-10-2024',\n",
       " '26-10-2024',\n",
       " '27-10-2024',\n",
       " '28-10-2024',\n",
       " '29-10-2024',\n",
       " '30-10-2024',\n",
       " '31-10-2024']"
      ]
     },
     "execution_count": 86,
     "metadata": {},
     "output_type": "execute_result"
    }
   ],
   "source": [
    "novas_colunas_BOOT"
   ]
  },
  {
   "cell_type": "code",
   "execution_count": null,
   "id": "ddfbb306-ed3c-4567-b96a-637777c7180b",
   "metadata": {},
   "outputs": [],
   "source": []
  },
  {
   "cell_type": "code",
   "execution_count": null,
   "id": "b52d232b-75a1-4d35-b1f0-ddad7a7c9f02",
   "metadata": {},
   "outputs": [],
   "source": []
  },
  {
   "cell_type": "code",
   "execution_count": null,
   "id": "b04cd472-084c-43b3-b81d-ef43f79f2132",
   "metadata": {},
   "outputs": [],
   "source": []
  },
  {
   "cell_type": "markdown",
   "id": "e665811f-d401-4e8d-b89b-7e3cd95a8872",
   "metadata": {},
   "source": [
    "### PASSO 4 renomeando colunas e acrescentando o novo formato "
   ]
  },
  {
   "cell_type": "markdown",
   "id": "760c6290-cf06-4af9-b5a2-740257dc9301",
   "metadata": {},
   "source": [
    "copie as colunas que escolheu para renomear, e cole o formato novo no lugar das velhas"
   ]
  },
  {
   "cell_type": "code",
   "execution_count": 87,
   "id": "0a2210ed-3e58-4063-91c4-d9f01f7c1007",
   "metadata": {},
   "outputs": [
    {
     "name": "stdout",
     "output_type": "stream",
     "text": [
      "MODALIDADE\n",
      "DIA DA SEMANA\n",
      "HORÁRIO\n",
      "2024-10-01 00:00:00\n",
      "2024-10-02 00:00:00\n",
      "2024-10-03 00:00:00\n",
      "2024-10-04 00:00:00\n",
      "2024-10-05 00:00:00\n",
      "2024-10-06 00:00:00\n",
      "2024-10-07 00:00:00\n",
      "2024-10-08 00:00:00\n",
      "2024-10-09 00:00:00\n",
      "2024-10-10 00:00:00\n",
      "2024-10-11 00:00:00\n",
      "2024-10-12 00:00:00\n",
      "2024-10-13 00:00:00\n",
      "2024-10-14 00:00:00\n",
      "2024-10-15 00:00:00\n",
      "2024-10-16 00:00:00\n",
      "2024-10-17 00:00:00\n",
      "2024-10-18 00:00:00\n",
      "2024-10-19 00:00:00\n",
      "2024-10-20 00:00:00\n",
      "2024-10-21 00:00:00\n",
      "2024-10-22 00:00:00\n",
      "2024-10-23 00:00:00\n",
      "2024-10-24 00:00:00\n",
      "2024-10-25 00:00:00\n",
      "2024-10-26 00:00:00\n",
      "2024-10-27 00:00:00\n",
      "2024-10-28 00:00:00\n",
      "2024-10-29 00:00:00\n",
      "2024-10-30 00:00:00\n",
      "2024-10-31 00:00:00\n",
      "Média\n"
     ]
    }
   ],
   "source": [
    "for columns in dataBOOT.columns:\n",
    "    print (columns)"
   ]
  },
  {
   "cell_type": "code",
   "execution_count": null,
   "id": "7defc415-5270-4ab0-be4e-6e0122c1e2b0",
   "metadata": {},
   "outputs": [],
   "source": []
  },
  {
   "cell_type": "code",
   "execution_count": 88,
   "id": "be1ebadc-0f8a-41ad-9e90-e7a0b896bede",
   "metadata": {},
   "outputs": [],
   "source": [
    "# Adicionando as datas formatadas as colunas, copiando e colando"
   ]
  },
  {
   "cell_type": "code",
   "execution_count": 89,
   "id": "ef3a67fe-82d7-4ce5-8c19-8e5e41f5b491",
   "metadata": {},
   "outputs": [],
   "source": [
    "dataBOOT.columns = [\n",
    "'MODALIDADE',\n",
    "'DIA DA SEMANA',\n",
    "'HORÁRIO',\n",
    "'01-10-2024',\n",
    "'02-10-2024',\n",
    "'03-10-2024',\n",
    "'04-10-2024',\n",
    "'05-10-2024',\n",
    "'06-10-2024',\n",
    "'07-10-2024',\n",
    "'08-10-2024',\n",
    "'09-10-2024',\n",
    "'10-10-2024',\n",
    "'11-10-2024',\n",
    "'12-10-2024',\n",
    "'13-10-2024',\n",
    "'14-10-2024',\n",
    "'15-10-2024',\n",
    "'16-10-2024',\n",
    "'17-10-2024',\n",
    "'18-10-2024',\n",
    "'19-10-2024',\n",
    "'20-10-2024',\n",
    "'21-10-2024',\n",
    "'22-10-2024',\n",
    "'23-10-2024',\n",
    "'24-10-2024',\n",
    "'25-10-2024',\n",
    "'26-10-2024',\n",
    "'27-10-2024',\n",
    "'28-10-2024',\n",
    "'29-10-2024',\n",
    "'30-10-2024',\n",
    "'31-10-2024',\n",
    "'Média'\n",
    "]"
   ]
  },
  {
   "cell_type": "code",
   "execution_count": null,
   "id": "4e97dde3-5171-4449-a141-f74bc670ba93",
   "metadata": {},
   "outputs": [],
   "source": []
  },
  {
   "cell_type": "code",
   "execution_count": null,
   "id": "840dd812-f03e-4a63-8394-853fcef6fbcc",
   "metadata": {},
   "outputs": [],
   "source": []
  },
  {
   "cell_type": "code",
   "execution_count": null,
   "id": "57f78405-58e2-4f50-98f0-746ee69d565d",
   "metadata": {},
   "outputs": [],
   "source": []
  },
  {
   "cell_type": "markdown",
   "id": "b5a66cdd-e093-4b07-9775-a5e4f78fd519",
   "metadata": {},
   "source": [
    "### 5 PASSO: Usar o Loop for para substitituir os valores das frequencia de 'x' e 'X' por zero, com o método do pd.to_numeric) "
   ]
  },
  {
   "cell_type": "markdown",
   "id": "1304da5b-8409-4334-b0c3-180fcc913863",
   "metadata": {},
   "source": [
    "Escolhendo apenas as colunas de datas"
   ]
  },
  {
   "cell_type": "code",
   "execution_count": 90,
   "id": "83ba2480-97af-4fda-b20f-2aeb48dc5629",
   "metadata": {},
   "outputs": [],
   "source": [
    "colunas = [\n",
    "'01-10-2024',\n",
    "'02-10-2024',\n",
    "'03-10-2024',\n",
    "'04-10-2024',\n",
    "'05-10-2024',\n",
    "'06-10-2024',\n",
    "'07-10-2024',\n",
    "'08-10-2024',\n",
    "'09-10-2024',\n",
    "'10-10-2024',\n",
    "'11-10-2024',\n",
    "'12-10-2024',\n",
    "'13-10-2024',\n",
    "'14-10-2024',\n",
    "'15-10-2024',\n",
    "'16-10-2024',\n",
    "'17-10-2024',\n",
    "'18-10-2024',\n",
    "'19-10-2024',\n",
    "'20-10-2024',\n",
    "'21-10-2024',\n",
    "'22-10-2024',\n",
    "'23-10-2024',\n",
    "'24-10-2024',\n",
    "'25-10-2024',\n",
    "'26-10-2024',\n",
    "'27-10-2024',\n",
    "'28-10-2024',\n",
    "'29-10-2024',\n",
    "'30-10-2024',\n",
    "'31-10-2024',\n",
    "]"
   ]
  },
  {
   "cell_type": "markdown",
   "id": "34938ccc-210e-4b91-ac9d-02e14317ff90",
   "metadata": {},
   "source": [
    "Fazendo a limpeza profunda, formatando valores para numeros, preenchendo com zeros os nulos e transformando em inteiros"
   ]
  },
  {
   "cell_type": "code",
   "execution_count": 91,
   "id": "f10e274e-d16c-42aa-bf29-2638b5991a08",
   "metadata": {},
   "outputs": [],
   "source": [
    "for columns in colunas:\n",
    "    # dataMES[columns] = pd.to_numeric(dataMES[columns], errors='coerce')\n",
    "    dataBOOT[columns] = pd.to_numeric(dataBOOT[columns], errors='coerce').fillna(0).astype(int)"
   ]
  },
  {
   "cell_type": "code",
   "execution_count": null,
   "id": "1574282a-62d5-48be-b380-30072ba6c36d",
   "metadata": {},
   "outputs": [],
   "source": []
  },
  {
   "cell_type": "code",
   "execution_count": null,
   "id": "9c4ac0bc-8903-43ee-9005-8e7069b13b80",
   "metadata": {},
   "outputs": [],
   "source": []
  },
  {
   "cell_type": "code",
   "execution_count": null,
   "id": "5085e250-7afc-4c83-88f5-c90017887a45",
   "metadata": {},
   "outputs": [],
   "source": []
  },
  {
   "cell_type": "markdown",
   "id": "1df55daf-ebe5-4e53-9806-fd745cd49b05",
   "metadata": {},
   "source": [
    "### PASSO 6: MELT derretendo as colunas em formato de datas"
   ]
  },
  {
   "cell_type": "markdown",
   "id": "16db611e-21a4-4707-b0a9-72041d1da079",
   "metadata": {},
   "source": [
    "o MELT ele pega as colunas que estão na horizontal e cria uma coluna de categorias, e depois ele cria outra coluna com os valores dessas colunas que foram transformadas em dados categóricos"
   ]
  },
  {
   "cell_type": "code",
   "execution_count": 92,
   "id": "5a21b2fe-4170-4697-9abd-71463e51e838",
   "metadata": {},
   "outputs": [],
   "source": [
    "colunas_para_melt = [\n",
    "'01-10-2024',\n",
    "'02-10-2024',\n",
    "'03-10-2024',\n",
    "'04-10-2024',\n",
    "'05-10-2024',\n",
    "'06-10-2024',\n",
    "'07-10-2024',\n",
    "'08-10-2024',\n",
    "'09-10-2024',\n",
    "'10-10-2024',\n",
    "'11-10-2024',\n",
    "'12-10-2024',\n",
    "'13-10-2024',\n",
    "'14-10-2024',\n",
    "'15-10-2024',\n",
    "'16-10-2024',\n",
    "'17-10-2024',\n",
    "'18-10-2024',\n",
    "'19-10-2024',\n",
    "'20-10-2024',\n",
    "'21-10-2024',\n",
    "'22-10-2024',\n",
    "'23-10-2024',\n",
    "'24-10-2024',\n",
    "'25-10-2024',\n",
    "'26-10-2024',\n",
    "'27-10-2024',\n",
    "'28-10-2024',\n",
    "'29-10-2024',\n",
    "'30-10-2024',\n",
    "'31-10-2024',\n",
    "] "
   ]
  },
  {
   "cell_type": "code",
   "execution_count": null,
   "id": "e4f41ab3-e4bd-4f3e-a69a-027014420320",
   "metadata": {},
   "outputs": [],
   "source": []
  },
  {
   "cell_type": "code",
   "execution_count": null,
   "id": "151d851a-d5d6-4e59-95e8-6267945f4d55",
   "metadata": {},
   "outputs": [],
   "source": []
  },
  {
   "cell_type": "code",
   "execution_count": null,
   "id": "de361fa1-6e2c-4fc6-b989-73e20d5e11ce",
   "metadata": {},
   "outputs": [],
   "source": []
  },
  {
   "cell_type": "markdown",
   "id": "d8a0bd47-ae08-42ea-b16c-87aa92b6479a",
   "metadata": {},
   "source": [
    "#### Indentificando as colunas que Eu quero manter em meu dataframe"
   ]
  },
  {
   "cell_type": "code",
   "execution_count": 93,
   "id": "8d2fa714-665d-4285-88ae-85c55c1ca630",
   "metadata": {},
   "outputs": [],
   "source": [
    "# Identifica as colunas que você quer manter como identificadoras (id_vars)\n",
    "# São as colunas que não serão \"unpivoted\"\n",
    "id_vars_cols = [columns for columns in dataBOOT.columns if columns not in colunas_para_melt]"
   ]
  },
  {
   "cell_type": "code",
   "execution_count": null,
   "id": "5e980ee3-384a-4659-8814-13a1dc6d8c60",
   "metadata": {},
   "outputs": [],
   "source": []
  },
  {
   "cell_type": "code",
   "execution_count": null,
   "id": "60f696fe-a1b7-4c61-9180-8af06cbe505d",
   "metadata": {},
   "outputs": [],
   "source": []
  },
  {
   "cell_type": "code",
   "execution_count": null,
   "id": "562a2fdb-7560-4012-a728-9ebd820533b3",
   "metadata": {},
   "outputs": [],
   "source": []
  },
  {
   "cell_type": "markdown",
   "id": "6c2f7046-76dc-4ea0-a497-363d24d35c82",
   "metadata": {},
   "source": [
    "#### Realiza o melt apenas nas colunas de datas"
   ]
  },
  {
   "cell_type": "code",
   "execution_count": 94,
   "id": "37461d57-a8ac-4e50-b265-91d355a39e91",
   "metadata": {},
   "outputs": [],
   "source": [
    "dataBOOT_melted = pd.melt(dataBOOT,\n",
    "                      id_vars=id_vars_cols, #colunas que Eu deixei, que ficaram.\n",
    "                      value_vars=colunas_para_melt, #colunas que vão se transformar.\n",
    "                      var_name='Dias de Aulas', # nome da coluna categorica\n",
    "                      value_name='Frequencia de Alunos') # nome da coluna de valores"
   ]
  },
  {
   "cell_type": "code",
   "execution_count": 95,
   "id": "969c3727-b466-420f-92b0-c0db73b5b8ef",
   "metadata": {},
   "outputs": [
    {
     "data": {
      "text/html": [
       "<div>\n",
       "<style scoped>\n",
       "    .dataframe tbody tr th:only-of-type {\n",
       "        vertical-align: middle;\n",
       "    }\n",
       "\n",
       "    .dataframe tbody tr th {\n",
       "        vertical-align: top;\n",
       "    }\n",
       "\n",
       "    .dataframe thead th {\n",
       "        text-align: right;\n",
       "    }\n",
       "</style>\n",
       "<table border=\"1\" class=\"dataframe\">\n",
       "  <thead>\n",
       "    <tr style=\"text-align: right;\">\n",
       "      <th></th>\n",
       "      <th>MODALIDADE</th>\n",
       "      <th>DIA DA SEMANA</th>\n",
       "      <th>HORÁRIO</th>\n",
       "      <th>Média</th>\n",
       "      <th>Dias de Aulas</th>\n",
       "      <th>Frequencia de Alunos</th>\n",
       "    </tr>\n",
       "  </thead>\n",
       "  <tbody>\n",
       "    <tr>\n",
       "      <th>0</th>\n",
       "      <td>A - MUSCULAÇÃO</td>\n",
       "      <td>seg, ter, qua, qui, sex</td>\n",
       "      <td>05:30</td>\n",
       "      <td>2.333333</td>\n",
       "      <td>01-10-2024</td>\n",
       "      <td>4</td>\n",
       "    </tr>\n",
       "    <tr>\n",
       "      <th>1</th>\n",
       "      <td>BOOTCAMP</td>\n",
       "      <td>seg, ter, qua, sex</td>\n",
       "      <td>05:30</td>\n",
       "      <td>2.666667</td>\n",
       "      <td>01-10-2024</td>\n",
       "      <td>2</td>\n",
       "    </tr>\n",
       "    <tr>\n",
       "      <th>2</th>\n",
       "      <td>HIGH FORCE</td>\n",
       "      <td>qui</td>\n",
       "      <td>05:30</td>\n",
       "      <td>0.000000</td>\n",
       "      <td>01-10-2024</td>\n",
       "      <td>0</td>\n",
       "    </tr>\n",
       "  </tbody>\n",
       "</table>\n",
       "</div>"
      ],
      "text/plain": [
       "       MODALIDADE            DIA DA SEMANA HORÁRIO     Média Dias de Aulas  \\\n",
       "0  A - MUSCULAÇÃO  seg, ter, qua, qui, sex   05:30  2.333333    01-10-2024   \n",
       "1        BOOTCAMP       seg, ter, qua, sex   05:30  2.666667    01-10-2024   \n",
       "2      HIGH FORCE                      qui   05:30  0.000000    01-10-2024   \n",
       "\n",
       "   Frequencia de Alunos  \n",
       "0                     4  \n",
       "1                     2  \n",
       "2                     0  "
      ]
     },
     "execution_count": 95,
     "metadata": {},
     "output_type": "execute_result"
    }
   ],
   "source": [
    "dataBOOT_melted.head(3)"
   ]
  },
  {
   "cell_type": "code",
   "execution_count": 96,
   "id": "e6e40198-bc1c-43e0-8f16-bc514f65797f",
   "metadata": {},
   "outputs": [
    {
     "data": {
      "text/plain": [
       "1310"
      ]
     },
     "execution_count": 96,
     "metadata": {},
     "output_type": "execute_result"
    }
   ],
   "source": [
    "dataBOOT_melted['Frequencia de Alunos'].sum()"
   ]
  },
  {
   "cell_type": "markdown",
   "id": "f29a8d4b-9302-4e2b-9505-4bc75a33f773",
   "metadata": {},
   "source": [
    "### Adicionando colunas Faltantes"
   ]
  },
  {
   "cell_type": "markdown",
   "id": "8f4e4e38-02fe-45ae-b5b8-ca3e8c433538",
   "metadata": {},
   "source": [
    "Adicionando uma colunas condicional para o TURNO no BOOTCAMPE"
   ]
  },
  {
   "cell_type": "code",
   "execution_count": 97,
   "id": "dfb861f1-13fc-49af-b205-4d48944bcb81",
   "metadata": {},
   "outputs": [],
   "source": [
    "# Aplica a lógica condicional para criar a coluna 'TURNO' usando .loc e comparação de strings\n",
    "dataBOOT_melted.loc[dataBOOT_melted['HORÁRIO'] <= '12:30', 'TURNO'] = 'MANHÃ'\n",
    "dataBOOT_melted.loc[dataBOOT_melted['HORÁRIO'] > '12:30', 'TURNO'] = 'NOITE'"
   ]
  },
  {
   "cell_type": "code",
   "execution_count": 98,
   "id": "20d9973a-37bd-494c-b724-f99cdf695b37",
   "metadata": {},
   "outputs": [],
   "source": [
    "# Adicionando a coluna de PROFESSOR\n",
    "dataBOOT_melted['PROFESSOR'] = 'SEM NOME'"
   ]
  },
  {
   "cell_type": "code",
   "execution_count": 99,
   "id": "204a3059-0663-4a0a-8f24-32a75170f41e",
   "metadata": {},
   "outputs": [
    {
     "data": {
      "text/html": [
       "<div>\n",
       "<style scoped>\n",
       "    .dataframe tbody tr th:only-of-type {\n",
       "        vertical-align: middle;\n",
       "    }\n",
       "\n",
       "    .dataframe tbody tr th {\n",
       "        vertical-align: top;\n",
       "    }\n",
       "\n",
       "    .dataframe thead th {\n",
       "        text-align: right;\n",
       "    }\n",
       "</style>\n",
       "<table border=\"1\" class=\"dataframe\">\n",
       "  <thead>\n",
       "    <tr style=\"text-align: right;\">\n",
       "      <th></th>\n",
       "      <th>MODALIDADE</th>\n",
       "      <th>DIA DA SEMANA</th>\n",
       "      <th>HORÁRIO</th>\n",
       "      <th>Média</th>\n",
       "      <th>Dias de Aulas</th>\n",
       "      <th>Frequencia de Alunos</th>\n",
       "      <th>TURNO</th>\n",
       "      <th>PROFESSOR</th>\n",
       "    </tr>\n",
       "  </thead>\n",
       "  <tbody>\n",
       "    <tr>\n",
       "      <th>0</th>\n",
       "      <td>A - MUSCULAÇÃO</td>\n",
       "      <td>seg, ter, qua, qui, sex</td>\n",
       "      <td>05:30</td>\n",
       "      <td>2.333333</td>\n",
       "      <td>01-10-2024</td>\n",
       "      <td>4</td>\n",
       "      <td>MANHÃ</td>\n",
       "      <td>SEM NOME</td>\n",
       "    </tr>\n",
       "    <tr>\n",
       "      <th>1</th>\n",
       "      <td>BOOTCAMP</td>\n",
       "      <td>seg, ter, qua, sex</td>\n",
       "      <td>05:30</td>\n",
       "      <td>2.666667</td>\n",
       "      <td>01-10-2024</td>\n",
       "      <td>2</td>\n",
       "      <td>MANHÃ</td>\n",
       "      <td>SEM NOME</td>\n",
       "    </tr>\n",
       "  </tbody>\n",
       "</table>\n",
       "</div>"
      ],
      "text/plain": [
       "       MODALIDADE            DIA DA SEMANA HORÁRIO     Média Dias de Aulas  \\\n",
       "0  A - MUSCULAÇÃO  seg, ter, qua, qui, sex   05:30  2.333333    01-10-2024   \n",
       "1        BOOTCAMP       seg, ter, qua, sex   05:30  2.666667    01-10-2024   \n",
       "\n",
       "   Frequencia de Alunos  TURNO PROFESSOR  \n",
       "0                     4  MANHÃ  SEM NOME  \n",
       "1                     2  MANHÃ  SEM NOME  "
      ]
     },
     "execution_count": 99,
     "metadata": {},
     "output_type": "execute_result"
    }
   ],
   "source": [
    "dataBOOT_melted.head(2)"
   ]
  },
  {
   "cell_type": "markdown",
   "id": "bc5826c5-93b7-44b2-b80a-82cb24246a88",
   "metadata": {},
   "source": [
    "____"
   ]
  },
  {
   "cell_type": "code",
   "execution_count": null,
   "id": "afc2590a-9075-4ae7-8cf0-f3f32624dd03",
   "metadata": {},
   "outputs": [],
   "source": []
  },
  {
   "cell_type": "code",
   "execution_count": null,
   "id": "ec32b4c3-1b70-479f-8210-af976aa28ab9",
   "metadata": {},
   "outputs": [],
   "source": []
  },
  {
   "cell_type": "code",
   "execution_count": null,
   "id": "3b61d000-4600-46b8-91c6-5266c9d0a098",
   "metadata": {},
   "outputs": [],
   "source": []
  },
  {
   "cell_type": "markdown",
   "id": "09bb5cd5-c144-44b6-98ad-eb4ffff52aa6",
   "metadata": {},
   "source": [
    "____"
   ]
  },
  {
   "cell_type": "markdown",
   "id": "df45b2f8-49e7-475b-a4cd-a5853fd14525",
   "metadata": {},
   "source": [
    "# CAMBEBA [CAMB] - PREPROCESSING 5"
   ]
  },
  {
   "cell_type": "code",
   "execution_count": 100,
   "id": "25c130d7-a0f1-4e1e-a56d-16e61d127512",
   "metadata": {},
   "outputs": [],
   "source": [
    "data5 = pd.read_excel('3.2 Mapa de Ocupação - OUT 2024.xlsx', sheet_name='CAMB', skiprows=1, nrows=88)"
   ]
  },
  {
   "cell_type": "code",
   "execution_count": 101,
   "id": "ea6d66a4-f9d4-40c4-9273-e1d7c353e1db",
   "metadata": {},
   "outputs": [],
   "source": [
    "dataCAMB = data5.copy()"
   ]
  },
  {
   "cell_type": "code",
   "execution_count": null,
   "id": "4eb584fa-f102-4261-8f59-e76d2f6dca54",
   "metadata": {},
   "outputs": [],
   "source": []
  },
  {
   "cell_type": "code",
   "execution_count": null,
   "id": "ad9b5558-748e-4c1b-8f2f-5a1d85c24615",
   "metadata": {},
   "outputs": [],
   "source": []
  },
  {
   "cell_type": "code",
   "execution_count": null,
   "id": "15ed68c5-7311-44bd-802a-a77ad4edb7f5",
   "metadata": {},
   "outputs": [],
   "source": []
  },
  {
   "cell_type": "markdown",
   "id": "53fab99f-9b9c-45aa-993b-f628959d0a60",
   "metadata": {},
   "source": [
    "### 1 PASSO: Removendo colunas desnecessárias"
   ]
  },
  {
   "cell_type": "code",
   "execution_count": 102,
   "id": "58fdb748-2f18-4d23-aa12-0628becc8332",
   "metadata": {},
   "outputs": [
    {
     "data": {
      "text/html": [
       "<div>\n",
       "<style scoped>\n",
       "    .dataframe tbody tr th:only-of-type {\n",
       "        vertical-align: middle;\n",
       "    }\n",
       "\n",
       "    .dataframe tbody tr th {\n",
       "        vertical-align: top;\n",
       "    }\n",
       "\n",
       "    .dataframe thead th {\n",
       "        text-align: right;\n",
       "    }\n",
       "</style>\n",
       "<table border=\"1\" class=\"dataframe\">\n",
       "  <thead>\n",
       "    <tr style=\"text-align: right;\">\n",
       "      <th></th>\n",
       "      <th>Unnamed: 0</th>\n",
       "      <th>Unnamed: 1</th>\n",
       "      <th>Unnamed: 2</th>\n",
       "      <th>CATEGORIA</th>\n",
       "      <th>MODALIDADE</th>\n",
       "      <th>DIA DA SEMANA</th>\n",
       "      <th>HORÁRIO</th>\n",
       "      <th>AUX.1</th>\n",
       "      <th>TURNO</th>\n",
       "      <th>AUX 2</th>\n",
       "      <th>...</th>\n",
       "      <th>Ocupação Máxima</th>\n",
       "      <th>Professor</th>\n",
       "      <th>Unnamed: 40</th>\n",
       "      <th>Unnamed: 41</th>\n",
       "      <th>Unnamed: 42</th>\n",
       "      <th>Unnamed: 43</th>\n",
       "      <th>Unnamed: 44</th>\n",
       "      <th>Unnamed: 45</th>\n",
       "      <th>Unnamed: 46</th>\n",
       "      <th>Unnamed: 47</th>\n",
       "    </tr>\n",
       "  </thead>\n",
       "  <tbody>\n",
       "    <tr>\n",
       "      <th>82</th>\n",
       "      <td>NaN</td>\n",
       "      <td>NaN</td>\n",
       "      <td>NaN</td>\n",
       "      <td>MUSC - C/P</td>\n",
       "      <td>A - MUSCULAÇÃO COM PERSONAL</td>\n",
       "      <td>seg, ter, qua, qui, sex</td>\n",
       "      <td>21:00:00</td>\n",
       "      <td>21:00</td>\n",
       "      <td>NOITE</td>\n",
       "      <td>A - MUSCULAÇÃO COM PERSONAL - 21:00</td>\n",
       "      <td>...</td>\n",
       "      <td>NaN</td>\n",
       "      <td>NaN</td>\n",
       "      <td>NaN</td>\n",
       "      <td>NaN</td>\n",
       "      <td>NaN</td>\n",
       "      <td>NaN</td>\n",
       "      <td>NaN</td>\n",
       "      <td>NaN</td>\n",
       "      <td>NaN</td>\n",
       "      <td>NaN</td>\n",
       "    </tr>\n",
       "    <tr>\n",
       "      <th>83</th>\n",
       "      <td>NaN</td>\n",
       "      <td>NaN</td>\n",
       "      <td>NaN</td>\n",
       "      <td>MUSC - S/P</td>\n",
       "      <td>A - MUSCULAÇÃO SEM PERSONAL</td>\n",
       "      <td>seg, ter, qua, qui, sex</td>\n",
       "      <td>21:00:00</td>\n",
       "      <td>21:00</td>\n",
       "      <td>NOITE</td>\n",
       "      <td>A - MUSCULAÇÃO SEM PERSONAL - 21:00</td>\n",
       "      <td>...</td>\n",
       "      <td>NaN</td>\n",
       "      <td>NaN</td>\n",
       "      <td>NaN</td>\n",
       "      <td>NaN</td>\n",
       "      <td>NaN</td>\n",
       "      <td>NaN</td>\n",
       "      <td>NaN</td>\n",
       "      <td>NaN</td>\n",
       "      <td>NaN</td>\n",
       "      <td>NaN</td>\n",
       "    </tr>\n",
       "    <tr>\n",
       "      <th>84</th>\n",
       "      <td>NaN</td>\n",
       "      <td>NaN</td>\n",
       "      <td>NaN</td>\n",
       "      <td>MUSC - S/P</td>\n",
       "      <td>A - MUSCULAÇÃO SEM PERSONAL</td>\n",
       "      <td>seg, ter, qua, qui, sex</td>\n",
       "      <td>22:00:00</td>\n",
       "      <td>22:00</td>\n",
       "      <td>NOITE</td>\n",
       "      <td>A - MUSCULAÇÃO SEM PERSONAL - 22:00</td>\n",
       "      <td>...</td>\n",
       "      <td>NaN</td>\n",
       "      <td>NaN</td>\n",
       "      <td>NaN</td>\n",
       "      <td>NaN</td>\n",
       "      <td>NaN</td>\n",
       "      <td>NaN</td>\n",
       "      <td>NaN</td>\n",
       "      <td>NaN</td>\n",
       "      <td>NaN</td>\n",
       "      <td>NaN</td>\n",
       "    </tr>\n",
       "    <tr>\n",
       "      <th>85</th>\n",
       "      <td>NaN</td>\n",
       "      <td>NaN</td>\n",
       "      <td>NaN</td>\n",
       "      <td>MUSC - C/P</td>\n",
       "      <td>A - MUSCULAÇÃO COM PERSONAL</td>\n",
       "      <td>seg, ter, qua, qui, sex</td>\n",
       "      <td>22:00:00</td>\n",
       "      <td>22:00</td>\n",
       "      <td>NOITE</td>\n",
       "      <td>A - MUSCULAÇÃO COM PERSONAL - 22:00</td>\n",
       "      <td>...</td>\n",
       "      <td>NaN</td>\n",
       "      <td>NaN</td>\n",
       "      <td>NaN</td>\n",
       "      <td>NaN</td>\n",
       "      <td>NaN</td>\n",
       "      <td>NaN</td>\n",
       "      <td>NaN</td>\n",
       "      <td>NaN</td>\n",
       "      <td>NaN</td>\n",
       "      <td>NaN</td>\n",
       "    </tr>\n",
       "    <tr>\n",
       "      <th>86</th>\n",
       "      <td>NaN</td>\n",
       "      <td>NaN</td>\n",
       "      <td>NaN</td>\n",
       "      <td>MUSC - C/P</td>\n",
       "      <td>A - MUSCULAÇÃO COM PERSONAL</td>\n",
       "      <td>seg, ter, qua, qui, sex</td>\n",
       "      <td>22:30:00</td>\n",
       "      <td>22:30</td>\n",
       "      <td>NOITE</td>\n",
       "      <td>A - MUSCULAÇÃO COM PERSONAL - 22:30</td>\n",
       "      <td>...</td>\n",
       "      <td>NaN</td>\n",
       "      <td>NaN</td>\n",
       "      <td>NaN</td>\n",
       "      <td>NaN</td>\n",
       "      <td>NaN</td>\n",
       "      <td>NaN</td>\n",
       "      <td>NaN</td>\n",
       "      <td>NaN</td>\n",
       "      <td>NaN</td>\n",
       "      <td>NaN</td>\n",
       "    </tr>\n",
       "  </tbody>\n",
       "</table>\n",
       "<p>5 rows × 48 columns</p>\n",
       "</div>"
      ],
      "text/plain": [
       "    Unnamed: 0  Unnamed: 1  Unnamed: 2   CATEGORIA  \\\n",
       "82         NaN         NaN         NaN  MUSC - C/P   \n",
       "83         NaN         NaN         NaN  MUSC - S/P   \n",
       "84         NaN         NaN         NaN  MUSC - S/P   \n",
       "85         NaN         NaN         NaN  MUSC - C/P   \n",
       "86         NaN         NaN         NaN  MUSC - C/P   \n",
       "\n",
       "                     MODALIDADE            DIA DA SEMANA   HORÁRIO  AUX.1  \\\n",
       "82  A - MUSCULAÇÃO COM PERSONAL  seg, ter, qua, qui, sex  21:00:00  21:00   \n",
       "83  A - MUSCULAÇÃO SEM PERSONAL  seg, ter, qua, qui, sex  21:00:00  21:00   \n",
       "84  A - MUSCULAÇÃO SEM PERSONAL  seg, ter, qua, qui, sex  22:00:00  22:00   \n",
       "85  A - MUSCULAÇÃO COM PERSONAL  seg, ter, qua, qui, sex  22:00:00  22:00   \n",
       "86  A - MUSCULAÇÃO COM PERSONAL  seg, ter, qua, qui, sex  22:30:00  22:30   \n",
       "\n",
       "    TURNO                                AUX 2  ... Ocupação Máxima Professor  \\\n",
       "82  NOITE  A - MUSCULAÇÃO COM PERSONAL - 21:00  ...             NaN       NaN   \n",
       "83  NOITE  A - MUSCULAÇÃO SEM PERSONAL - 21:00  ...             NaN       NaN   \n",
       "84  NOITE  A - MUSCULAÇÃO SEM PERSONAL - 22:00  ...             NaN       NaN   \n",
       "85  NOITE  A - MUSCULAÇÃO COM PERSONAL - 22:00  ...             NaN       NaN   \n",
       "86  NOITE  A - MUSCULAÇÃO COM PERSONAL - 22:30  ...             NaN       NaN   \n",
       "\n",
       "   Unnamed: 40 Unnamed: 41 Unnamed: 42 Unnamed: 43 Unnamed: 44 Unnamed: 45  \\\n",
       "82         NaN         NaN         NaN         NaN         NaN         NaN   \n",
       "83         NaN         NaN         NaN         NaN         NaN         NaN   \n",
       "84         NaN         NaN         NaN         NaN         NaN         NaN   \n",
       "85         NaN         NaN         NaN         NaN         NaN         NaN   \n",
       "86         NaN         NaN         NaN         NaN         NaN         NaN   \n",
       "\n",
       "   Unnamed: 46 Unnamed: 47  \n",
       "82         NaN         NaN  \n",
       "83         NaN         NaN  \n",
       "84         NaN         NaN  \n",
       "85         NaN         NaN  \n",
       "86         NaN         NaN  \n",
       "\n",
       "[5 rows x 48 columns]"
      ]
     },
     "execution_count": 102,
     "metadata": {},
     "output_type": "execute_result"
    }
   ],
   "source": [
    "dataCAMB.tail()"
   ]
  },
  {
   "cell_type": "code",
   "execution_count": 103,
   "id": "703b5c45-2997-436a-a410-262341f45f6f",
   "metadata": {},
   "outputs": [
    {
     "data": {
      "text/plain": [
       "Unnamed: 0                                                   NaN\n",
       "Unnamed: 1                                                   NaN\n",
       "Unnamed: 2                                                   NaN\n",
       "CATEGORIA                                             MUSC - C/P\n",
       "MODALIDADE                           A - MUSCULAÇÃO COM PERSONAL\n",
       "DIA DA SEMANA                            seg, ter, qua, qui, sex\n",
       "HORÁRIO                                                 22:00:00\n",
       "AUX.1                                                      22:00\n",
       "TURNO                                                      NOITE\n",
       "AUX 2                        A - MUSCULAÇÃO COM PERSONAL - 22:00\n",
       "PROFESSOR                                                  ADLEY\n",
       "AUX 3                        A - MUSCULAÇÃO COM PERSONAL - ADLEY\n",
       "2024-10-01 00:00:00                                            2\n",
       "2024-10-02 00:00:00                                            0\n",
       "2024-10-03 00:00:00                                            0\n",
       "2024-10-04 00:00:00                                            0\n",
       "2024-10-07 00:00:00                                            0\n",
       "2024-10-08 00:00:00                                            2\n",
       "2024-10-09 00:00:00                                            0\n",
       "2024-10-10 00:00:00                                            0\n",
       "2024-10-11 00:00:00                                            0\n",
       "2024-10-14 00:00:00                                            0\n",
       "2024-10-15 00:00:00                                            0\n",
       "2024-10-16 00:00:00                                            2\n",
       "2024-10-17 00:00:00                                            0\n",
       "2024-10-18 00:00:00                                            0\n",
       "2024-10-21 00:00:00                                            0\n",
       "2024-10-22 00:00:00                                            2\n",
       "2024-10-23 00:00:00                                            2\n",
       "2024-10-24 00:00:00                                            0\n",
       "2024-10-25 00:00:00                                            3\n",
       "2024-10-28 00:00:00                                            3\n",
       "2024-10-29 00:00:00                                            0\n",
       "2024-10-30 00:00:00                                            3\n",
       "2024-10-31 00:00:00                                          NaN\n",
       "Média alunos p/ professor                                     22\n",
       "Média                                                   0.863636\n",
       "Alunos/professor                                             NaN\n",
       "Ocupação Máxima                                              NaN\n",
       "Professor                                                    NaN\n",
       "Unnamed: 40                                                  NaN\n",
       "Unnamed: 41                                                  NaN\n",
       "Unnamed: 42                                                  NaN\n",
       "Unnamed: 43                                                  NaN\n",
       "Unnamed: 44                                                  NaN\n",
       "Unnamed: 45                                                  NaN\n",
       "Unnamed: 46                                                  NaN\n",
       "Unnamed: 47                                                  NaN\n",
       "Name: 85, dtype: object"
      ]
     },
     "execution_count": 103,
     "metadata": {},
     "output_type": "execute_result"
    }
   ],
   "source": [
    "# verificando a series de index pra saber a ultima linha\n",
    "dataCAMB.iloc[-2]"
   ]
  },
  {
   "cell_type": "code",
   "execution_count": null,
   "id": "4b6bb2ff-fe5a-4cc4-98db-d94e37c24668",
   "metadata": {},
   "outputs": [],
   "source": []
  },
  {
   "cell_type": "code",
   "execution_count": null,
   "id": "9803e956-e8ff-49d4-8e74-06c7b9df2470",
   "metadata": {},
   "outputs": [],
   "source": []
  },
  {
   "cell_type": "code",
   "execution_count": null,
   "id": "1764ccd5-eb2b-4e3c-b85f-748a93dcd0f0",
   "metadata": {},
   "outputs": [],
   "source": []
  },
  {
   "cell_type": "code",
   "execution_count": 104,
   "id": "16ac072a-5c2c-4484-b644-f95929345975",
   "metadata": {},
   "outputs": [],
   "source": [
    "# selecionando colunas para o drop\n",
    "dropColumns = ['Unnamed: 0', 'Unnamed: 1', 'Unnamed: 2', 'HORÁRIO', 'AUX 2', 'AUX 3',\n",
    "           'Unnamed: 40', 'Unnamed: 41', 'Unnamed: 42', 'Unnamed: 43', 'Unnamed: 44', 'Unnamed: 45', 'Unnamed: 46', 'Unnamed: 47']"
   ]
  },
  {
   "cell_type": "code",
   "execution_count": 105,
   "id": "4c93f0fc-4e34-49e1-b7c2-356ccc1715be",
   "metadata": {},
   "outputs": [],
   "source": [
    "dataCAMB.drop(columns= dropColumns, inplace=True)"
   ]
  },
  {
   "cell_type": "markdown",
   "id": "111f646c-9a9c-486d-a471-5b7222777a78",
   "metadata": {},
   "source": [
    "- PRECISAMOS RENOMEAR A COLUNA AUX.1 COMO HORARIO"
   ]
  },
  {
   "cell_type": "code",
   "execution_count": 106,
   "id": "5474bcc1-c951-4221-a13c-b3601760a190",
   "metadata": {},
   "outputs": [],
   "source": [
    "dataCAMB.rename(columns={'AUX.1': 'HORÁRIO'}, inplace=True)"
   ]
  },
  {
   "cell_type": "code",
   "execution_count": null,
   "id": "f8b7ddef-a6d8-4cf0-aaf5-c6eb5ac8853d",
   "metadata": {},
   "outputs": [],
   "source": []
  },
  {
   "cell_type": "code",
   "execution_count": 107,
   "id": "c2ba9093-285b-434f-8053-da5aa78ad533",
   "metadata": {},
   "outputs": [
    {
     "data": {
      "text/html": [
       "<div>\n",
       "<style scoped>\n",
       "    .dataframe tbody tr th:only-of-type {\n",
       "        vertical-align: middle;\n",
       "    }\n",
       "\n",
       "    .dataframe tbody tr th {\n",
       "        vertical-align: top;\n",
       "    }\n",
       "\n",
       "    .dataframe thead th {\n",
       "        text-align: right;\n",
       "    }\n",
       "</style>\n",
       "<table border=\"1\" class=\"dataframe\">\n",
       "  <thead>\n",
       "    <tr style=\"text-align: right;\">\n",
       "      <th></th>\n",
       "      <th>CATEGORIA</th>\n",
       "      <th>MODALIDADE</th>\n",
       "      <th>DIA DA SEMANA</th>\n",
       "      <th>HORÁRIO</th>\n",
       "      <th>TURNO</th>\n",
       "      <th>PROFESSOR</th>\n",
       "      <th>2024-10-01 00:00:00</th>\n",
       "      <th>2024-10-02 00:00:00</th>\n",
       "      <th>2024-10-03 00:00:00</th>\n",
       "      <th>2024-10-04 00:00:00</th>\n",
       "      <th>...</th>\n",
       "      <th>2024-10-25 00:00:00</th>\n",
       "      <th>2024-10-28 00:00:00</th>\n",
       "      <th>2024-10-29 00:00:00</th>\n",
       "      <th>2024-10-30 00:00:00</th>\n",
       "      <th>2024-10-31 00:00:00</th>\n",
       "      <th>Média alunos p/ professor</th>\n",
       "      <th>Média</th>\n",
       "      <th>Alunos/professor</th>\n",
       "      <th>Ocupação Máxima</th>\n",
       "      <th>Professor</th>\n",
       "    </tr>\n",
       "  </thead>\n",
       "  <tbody>\n",
       "    <tr>\n",
       "      <th>0</th>\n",
       "      <td>QUADRA</td>\n",
       "      <td>BEACH TENNIS</td>\n",
       "      <td>seg, ter,  qua, qui, sex</td>\n",
       "      <td>05:30</td>\n",
       "      <td>MANHÃ</td>\n",
       "      <td>WASHINGTON</td>\n",
       "      <td>3</td>\n",
       "      <td>4</td>\n",
       "      <td>3</td>\n",
       "      <td>5</td>\n",
       "      <td>...</td>\n",
       "      <td>5</td>\n",
       "      <td>5</td>\n",
       "      <td>3</td>\n",
       "      <td>3</td>\n",
       "      <td>NaN</td>\n",
       "      <td>22</td>\n",
       "      <td>4.000000</td>\n",
       "      <td>NaN</td>\n",
       "      <td>NaN</td>\n",
       "      <td>0.0</td>\n",
       "    </tr>\n",
       "    <tr>\n",
       "      <th>1</th>\n",
       "      <td>MUSC - C/P</td>\n",
       "      <td>A - MUSCULAÇÃO COM PERSONAL</td>\n",
       "      <td>seg, ter, qua, qui, sex</td>\n",
       "      <td>06:00</td>\n",
       "      <td>MANHÃ</td>\n",
       "      <td>TAYNAN</td>\n",
       "      <td>20</td>\n",
       "      <td>35</td>\n",
       "      <td>29</td>\n",
       "      <td>15</td>\n",
       "      <td>...</td>\n",
       "      <td>28</td>\n",
       "      <td>33</td>\n",
       "      <td>37</td>\n",
       "      <td>33</td>\n",
       "      <td>NaN</td>\n",
       "      <td>22</td>\n",
       "      <td>27.181818</td>\n",
       "      <td>NaN</td>\n",
       "      <td>NaN</td>\n",
       "      <td>NaN</td>\n",
       "    </tr>\n",
       "    <tr>\n",
       "      <th>2</th>\n",
       "      <td>MUSC - S/P</td>\n",
       "      <td>A - MUSCULAÇÃO SEM PERSONAL</td>\n",
       "      <td>seg, ter, qua, qui, sex</td>\n",
       "      <td>06:00</td>\n",
       "      <td>MANHÃ</td>\n",
       "      <td>TAYNAN</td>\n",
       "      <td>76</td>\n",
       "      <td>60</td>\n",
       "      <td>63</td>\n",
       "      <td>48</td>\n",
       "      <td>...</td>\n",
       "      <td>45</td>\n",
       "      <td>64</td>\n",
       "      <td>71</td>\n",
       "      <td>65</td>\n",
       "      <td>NaN</td>\n",
       "      <td>22</td>\n",
       "      <td>58.909091</td>\n",
       "      <td>NaN</td>\n",
       "      <td>NaN</td>\n",
       "      <td>NaN</td>\n",
       "    </tr>\n",
       "    <tr>\n",
       "      <th>3</th>\n",
       "      <td>ADULTO</td>\n",
       "      <td>CROSSFIT</td>\n",
       "      <td>seg, ter, qua, qui, sex</td>\n",
       "      <td>06:00</td>\n",
       "      <td>MANHÃ</td>\n",
       "      <td>SAULLO</td>\n",
       "      <td>11</td>\n",
       "      <td>13</td>\n",
       "      <td>12</td>\n",
       "      <td>11</td>\n",
       "      <td>...</td>\n",
       "      <td>9</td>\n",
       "      <td>7</td>\n",
       "      <td>8</td>\n",
       "      <td>NaN</td>\n",
       "      <td>NaN</td>\n",
       "      <td>21</td>\n",
       "      <td>10.619048</td>\n",
       "      <td>NaN</td>\n",
       "      <td>NaN</td>\n",
       "      <td>NaN</td>\n",
       "    </tr>\n",
       "    <tr>\n",
       "      <th>4</th>\n",
       "      <td>ADULTO</td>\n",
       "      <td>GREENZONE</td>\n",
       "      <td>seg, ter, qua, qui, sex</td>\n",
       "      <td>06:00</td>\n",
       "      <td>MANHÃ</td>\n",
       "      <td>RARISSON</td>\n",
       "      <td>6</td>\n",
       "      <td>7</td>\n",
       "      <td>2</td>\n",
       "      <td>4</td>\n",
       "      <td>...</td>\n",
       "      <td>4</td>\n",
       "      <td>3</td>\n",
       "      <td>5</td>\n",
       "      <td>3</td>\n",
       "      <td>NaN</td>\n",
       "      <td>22</td>\n",
       "      <td>5.363636</td>\n",
       "      <td>NaN</td>\n",
       "      <td>NaN</td>\n",
       "      <td>0.0</td>\n",
       "    </tr>\n",
       "    <tr>\n",
       "      <th>...</th>\n",
       "      <td>...</td>\n",
       "      <td>...</td>\n",
       "      <td>...</td>\n",
       "      <td>...</td>\n",
       "      <td>...</td>\n",
       "      <td>...</td>\n",
       "      <td>...</td>\n",
       "      <td>...</td>\n",
       "      <td>...</td>\n",
       "      <td>...</td>\n",
       "      <td>...</td>\n",
       "      <td>...</td>\n",
       "      <td>...</td>\n",
       "      <td>...</td>\n",
       "      <td>...</td>\n",
       "      <td>...</td>\n",
       "      <td>...</td>\n",
       "      <td>...</td>\n",
       "      <td>...</td>\n",
       "      <td>...</td>\n",
       "      <td>...</td>\n",
       "    </tr>\n",
       "    <tr>\n",
       "      <th>82</th>\n",
       "      <td>MUSC - C/P</td>\n",
       "      <td>A - MUSCULAÇÃO COM PERSONAL</td>\n",
       "      <td>seg, ter, qua, qui, sex</td>\n",
       "      <td>21:00</td>\n",
       "      <td>NOITE</td>\n",
       "      <td>ADLEY</td>\n",
       "      <td>14</td>\n",
       "      <td>8</td>\n",
       "      <td>4</td>\n",
       "      <td>0</td>\n",
       "      <td>...</td>\n",
       "      <td>3</td>\n",
       "      <td>6</td>\n",
       "      <td>2</td>\n",
       "      <td>8</td>\n",
       "      <td>NaN</td>\n",
       "      <td>22</td>\n",
       "      <td>4.909091</td>\n",
       "      <td>NaN</td>\n",
       "      <td>NaN</td>\n",
       "      <td>NaN</td>\n",
       "    </tr>\n",
       "    <tr>\n",
       "      <th>83</th>\n",
       "      <td>MUSC - S/P</td>\n",
       "      <td>A - MUSCULAÇÃO SEM PERSONAL</td>\n",
       "      <td>seg, ter, qua, qui, sex</td>\n",
       "      <td>21:00</td>\n",
       "      <td>NOITE</td>\n",
       "      <td>ADLEY</td>\n",
       "      <td>62</td>\n",
       "      <td>52</td>\n",
       "      <td>36</td>\n",
       "      <td>46</td>\n",
       "      <td>...</td>\n",
       "      <td>17</td>\n",
       "      <td>51</td>\n",
       "      <td>58</td>\n",
       "      <td>46</td>\n",
       "      <td>NaN</td>\n",
       "      <td>22</td>\n",
       "      <td>49.136364</td>\n",
       "      <td>NaN</td>\n",
       "      <td>NaN</td>\n",
       "      <td>NaN</td>\n",
       "    </tr>\n",
       "    <tr>\n",
       "      <th>84</th>\n",
       "      <td>MUSC - S/P</td>\n",
       "      <td>A - MUSCULAÇÃO SEM PERSONAL</td>\n",
       "      <td>seg, ter, qua, qui, sex</td>\n",
       "      <td>22:00</td>\n",
       "      <td>NOITE</td>\n",
       "      <td>ADLEY</td>\n",
       "      <td>26</td>\n",
       "      <td>28</td>\n",
       "      <td>13</td>\n",
       "      <td>13</td>\n",
       "      <td>...</td>\n",
       "      <td>8</td>\n",
       "      <td>22</td>\n",
       "      <td>16</td>\n",
       "      <td>10</td>\n",
       "      <td>NaN</td>\n",
       "      <td>22</td>\n",
       "      <td>19.363636</td>\n",
       "      <td>NaN</td>\n",
       "      <td>NaN</td>\n",
       "      <td>NaN</td>\n",
       "    </tr>\n",
       "    <tr>\n",
       "      <th>85</th>\n",
       "      <td>MUSC - C/P</td>\n",
       "      <td>A - MUSCULAÇÃO COM PERSONAL</td>\n",
       "      <td>seg, ter, qua, qui, sex</td>\n",
       "      <td>22:00</td>\n",
       "      <td>NOITE</td>\n",
       "      <td>ADLEY</td>\n",
       "      <td>2</td>\n",
       "      <td>0</td>\n",
       "      <td>0</td>\n",
       "      <td>0</td>\n",
       "      <td>...</td>\n",
       "      <td>3</td>\n",
       "      <td>3</td>\n",
       "      <td>0</td>\n",
       "      <td>3</td>\n",
       "      <td>NaN</td>\n",
       "      <td>22</td>\n",
       "      <td>0.863636</td>\n",
       "      <td>NaN</td>\n",
       "      <td>NaN</td>\n",
       "      <td>NaN</td>\n",
       "    </tr>\n",
       "    <tr>\n",
       "      <th>86</th>\n",
       "      <td>MUSC - C/P</td>\n",
       "      <td>A - MUSCULAÇÃO COM PERSONAL</td>\n",
       "      <td>seg, ter, qua, qui, sex</td>\n",
       "      <td>22:30</td>\n",
       "      <td>NOITE</td>\n",
       "      <td>ADLEY</td>\n",
       "      <td>0</td>\n",
       "      <td>0</td>\n",
       "      <td>0</td>\n",
       "      <td>0</td>\n",
       "      <td>...</td>\n",
       "      <td>0</td>\n",
       "      <td>0</td>\n",
       "      <td>0</td>\n",
       "      <td>0</td>\n",
       "      <td>NaN</td>\n",
       "      <td>22</td>\n",
       "      <td>0.000000</td>\n",
       "      <td>NaN</td>\n",
       "      <td>NaN</td>\n",
       "      <td>NaN</td>\n",
       "    </tr>\n",
       "  </tbody>\n",
       "</table>\n",
       "<p>87 rows × 34 columns</p>\n",
       "</div>"
      ],
      "text/plain": [
       "     CATEGORIA                   MODALIDADE             DIA DA SEMANA HORÁRIO  \\\n",
       "0       QUADRA                BEACH TENNIS   seg, ter,  qua, qui, sex   05:30   \n",
       "1   MUSC - C/P  A - MUSCULAÇÃO COM PERSONAL   seg, ter, qua, qui, sex   06:00   \n",
       "2   MUSC - S/P  A - MUSCULAÇÃO SEM PERSONAL   seg, ter, qua, qui, sex   06:00   \n",
       "3       ADULTO                     CROSSFIT   seg, ter, qua, qui, sex   06:00   \n",
       "4       ADULTO                    GREENZONE   seg, ter, qua, qui, sex   06:00   \n",
       "..         ...                          ...                       ...     ...   \n",
       "82  MUSC - C/P  A - MUSCULAÇÃO COM PERSONAL   seg, ter, qua, qui, sex   21:00   \n",
       "83  MUSC - S/P  A - MUSCULAÇÃO SEM PERSONAL   seg, ter, qua, qui, sex   21:00   \n",
       "84  MUSC - S/P  A - MUSCULAÇÃO SEM PERSONAL   seg, ter, qua, qui, sex   22:00   \n",
       "85  MUSC - C/P  A - MUSCULAÇÃO COM PERSONAL   seg, ter, qua, qui, sex   22:00   \n",
       "86  MUSC - C/P  A - MUSCULAÇÃO COM PERSONAL   seg, ter, qua, qui, sex   22:30   \n",
       "\n",
       "    TURNO   PROFESSOR 2024-10-01 00:00:00 2024-10-02 00:00:00  \\\n",
       "0   MANHÃ  WASHINGTON                   3                   4   \n",
       "1   MANHÃ      TAYNAN                  20                  35   \n",
       "2   MANHÃ      TAYNAN                  76                  60   \n",
       "3   MANHÃ      SAULLO                  11                  13   \n",
       "4   MANHÃ   RARISSON                    6                   7   \n",
       "..    ...         ...                 ...                 ...   \n",
       "82  NOITE       ADLEY                  14                   8   \n",
       "83  NOITE       ADLEY                  62                  52   \n",
       "84  NOITE       ADLEY                  26                  28   \n",
       "85  NOITE       ADLEY                   2                   0   \n",
       "86  NOITE       ADLEY                   0                   0   \n",
       "\n",
       "   2024-10-03 00:00:00 2024-10-04 00:00:00  ... 2024-10-25 00:00:00  \\\n",
       "0                    3                   5  ...                   5   \n",
       "1                   29                  15  ...                  28   \n",
       "2                   63                  48  ...                  45   \n",
       "3                   12                  11  ...                   9   \n",
       "4                    2                   4  ...                   4   \n",
       "..                 ...                 ...  ...                 ...   \n",
       "82                   4                   0  ...                   3   \n",
       "83                  36                  46  ...                  17   \n",
       "84                  13                  13  ...                   8   \n",
       "85                   0                   0  ...                   3   \n",
       "86                   0                   0  ...                   0   \n",
       "\n",
       "   2024-10-28 00:00:00 2024-10-29 00:00:00 2024-10-30 00:00:00  \\\n",
       "0                    5                   3                   3   \n",
       "1                   33                  37                  33   \n",
       "2                   64                  71                  65   \n",
       "3                    7                   8                 NaN   \n",
       "4                    3                   5                   3   \n",
       "..                 ...                 ...                 ...   \n",
       "82                   6                   2                   8   \n",
       "83                  51                  58                  46   \n",
       "84                  22                  16                  10   \n",
       "85                   3                   0                   3   \n",
       "86                   0                   0                   0   \n",
       "\n",
       "   2024-10-31 00:00:00 Média alunos p/ professor      Média Alunos/professor  \\\n",
       "0                  NaN                        22   4.000000              NaN   \n",
       "1                  NaN                        22  27.181818              NaN   \n",
       "2                  NaN                        22  58.909091              NaN   \n",
       "3                  NaN                        21  10.619048              NaN   \n",
       "4                  NaN                        22   5.363636              NaN   \n",
       "..                 ...                       ...        ...              ...   \n",
       "82                 NaN                        22   4.909091              NaN   \n",
       "83                 NaN                        22  49.136364              NaN   \n",
       "84                 NaN                        22  19.363636              NaN   \n",
       "85                 NaN                        22   0.863636              NaN   \n",
       "86                 NaN                        22   0.000000              NaN   \n",
       "\n",
       "   Ocupação Máxima Professor  \n",
       "0              NaN       0.0  \n",
       "1              NaN       NaN  \n",
       "2              NaN       NaN  \n",
       "3              NaN       NaN  \n",
       "4              NaN       0.0  \n",
       "..             ...       ...  \n",
       "82             NaN       NaN  \n",
       "83             NaN       NaN  \n",
       "84             NaN       NaN  \n",
       "85             NaN       NaN  \n",
       "86             NaN       NaN  \n",
       "\n",
       "[87 rows x 34 columns]"
      ]
     },
     "execution_count": 107,
     "metadata": {},
     "output_type": "execute_result"
    }
   ],
   "source": [
    "dataCAMB"
   ]
  },
  {
   "cell_type": "code",
   "execution_count": null,
   "id": "8446bfbc-3dfd-4391-a337-27287ef482e7",
   "metadata": {},
   "outputs": [],
   "source": []
  },
  {
   "cell_type": "code",
   "execution_count": null,
   "id": "b5665ee8-a6a4-4155-8ec3-55752b044ba7",
   "metadata": {},
   "outputs": [],
   "source": []
  },
  {
   "cell_type": "code",
   "execution_count": null,
   "id": "0141a1ee-cd65-48a7-b57e-0fee5bddc648",
   "metadata": {},
   "outputs": [],
   "source": []
  },
  {
   "cell_type": "markdown",
   "id": "94ec032a-4d7c-449e-be0a-bc22c7d74f5f",
   "metadata": {},
   "source": [
    "### 2 PASSO: Renomeando strings de datas, para que o pandas possa aceitar como colunas"
   ]
  },
  {
   "cell_type": "code",
   "execution_count": 108,
   "id": "a743675e-3291-4b5a-95fb-281191c53814",
   "metadata": {},
   "outputs": [
    {
     "name": "stdout",
     "output_type": "stream",
     "text": [
      "CATEGORIA\n",
      "MODALIDADE\n",
      "DIA DA SEMANA\n",
      "HORÁRIO\n",
      "TURNO\n",
      "PROFESSOR\n",
      "2024-10-01 00:00:00\n",
      "2024-10-02 00:00:00\n",
      "2024-10-03 00:00:00\n",
      "2024-10-04 00:00:00\n",
      "2024-10-07 00:00:00\n",
      "2024-10-08 00:00:00\n",
      "2024-10-09 00:00:00\n",
      "2024-10-10 00:00:00\n",
      "2024-10-11 00:00:00\n",
      "2024-10-14 00:00:00\n",
      "2024-10-15 00:00:00\n",
      "2024-10-16 00:00:00\n",
      "2024-10-17 00:00:00\n",
      "2024-10-18 00:00:00\n",
      "2024-10-21 00:00:00\n",
      "2024-10-22 00:00:00\n",
      "2024-10-23 00:00:00\n",
      "2024-10-24 00:00:00\n",
      "2024-10-25 00:00:00\n",
      "2024-10-28 00:00:00\n",
      "2024-10-29 00:00:00\n",
      "2024-10-30 00:00:00\n",
      "2024-10-31 00:00:00\n",
      "Média alunos p/ professor\n",
      "Média\n",
      "Alunos/professor\n",
      "Ocupação Máxima\n",
      "Professor\n"
     ]
    }
   ],
   "source": [
    "for columns in dataCAMB.columns:\n",
    "    print(columns)"
   ]
  },
  {
   "cell_type": "code",
   "execution_count": 109,
   "id": "0fd94681-fc02-4f16-a102-82b536bd6ba5",
   "metadata": {},
   "outputs": [],
   "source": [
    "dataCAMB.columns = [\n",
    "'CATEGORIA',\n",
    "'MODALIDADE',\n",
    "'DIA DA SEMANA',\n",
    "'HORÁRIO',\n",
    "'TURNO',\n",
    "'PROFESSOR',\n",
    "'2024-10-01 00:00:00',\n",
    "'2024-10-02 00:00:00',\n",
    "'2024-10-03 00:00:00',\n",
    "'2024-10-04 00:00:00',\n",
    "'2024-10-07 00:00:00',\n",
    "'2024-10-08 00:00:00',\n",
    "'2024-10-09 00:00:00',\n",
    "'2024-10-10 00:00:00',\n",
    "'2024-10-11 00:00:00',\n",
    "'2024-10-14 00:00:00',\n",
    "'2024-10-15 00:00:00',\n",
    "'2024-10-16 00:00:00',\n",
    "'2024-10-17 00:00:00',\n",
    "'2024-10-18 00:00:00',\n",
    "'2024-10-21 00:00:00',\n",
    "'2024-10-22 00:00:00',\n",
    "'2024-10-23 00:00:00',\n",
    "'2024-10-24 00:00:00',\n",
    "'2024-10-25 00:00:00',\n",
    "'2024-10-28 00:00:00',\n",
    "'2024-10-29 00:00:00',\n",
    "'2024-10-30 00:00:00',\n",
    "'2024-10-31 00:00:00',\n",
    "'Média alunos p/ professor',\n",
    "'Média',\n",
    "'Alunos/professor',\n",
    "'Ocupação Máxima',\n",
    "'Professor']"
   ]
  },
  {
   "cell_type": "code",
   "execution_count": 110,
   "id": "1cec6606-b1fe-4b04-ab84-f28440eff685",
   "metadata": {},
   "outputs": [
    {
     "data": {
      "text/plain": [
       "Index(['CATEGORIA', 'MODALIDADE', 'DIA DA SEMANA', 'HORÁRIO', 'TURNO',\n",
       "       'PROFESSOR', '2024-10-01 00:00:00', '2024-10-02 00:00:00',\n",
       "       '2024-10-03 00:00:00', '2024-10-04 00:00:00', '2024-10-07 00:00:00',\n",
       "       '2024-10-08 00:00:00', '2024-10-09 00:00:00', '2024-10-10 00:00:00',\n",
       "       '2024-10-11 00:00:00', '2024-10-14 00:00:00', '2024-10-15 00:00:00',\n",
       "       '2024-10-16 00:00:00', '2024-10-17 00:00:00', '2024-10-18 00:00:00',\n",
       "       '2024-10-21 00:00:00', '2024-10-22 00:00:00', '2024-10-23 00:00:00',\n",
       "       '2024-10-24 00:00:00', '2024-10-25 00:00:00', '2024-10-28 00:00:00',\n",
       "       '2024-10-29 00:00:00', '2024-10-30 00:00:00', '2024-10-31 00:00:00',\n",
       "       'Média alunos p/ professor', 'Média', 'Alunos/professor',\n",
       "       'Ocupação Máxima', 'Professor'],\n",
       "      dtype='object')"
      ]
     },
     "execution_count": 110,
     "metadata": {},
     "output_type": "execute_result"
    }
   ],
   "source": [
    "dataCAMB.columns"
   ]
  },
  {
   "cell_type": "code",
   "execution_count": null,
   "id": "f5e9aff2-f3ff-4656-94aa-cff50227c2db",
   "metadata": {},
   "outputs": [],
   "source": []
  },
  {
   "cell_type": "code",
   "execution_count": null,
   "id": "a592e014-9d24-404b-89c8-742e2543eb95",
   "metadata": {},
   "outputs": [],
   "source": []
  },
  {
   "cell_type": "code",
   "execution_count": null,
   "id": "18b57d24-9981-4221-a3e6-1e424e855b13",
   "metadata": {},
   "outputs": [],
   "source": []
  },
  {
   "cell_type": "markdown",
   "id": "c7f89d6d-81bd-4341-a95f-bcb5feddbb30",
   "metadata": {},
   "source": [
    "### PASSO 3: Escolhendo colunas com o nome de 'datas', para renomear pelo o tipo dia, mês e ano. e removendo os 00 de horas"
   ]
  },
  {
   "cell_type": "code",
   "execution_count": 111,
   "id": "70a61dee-a19c-4f83-a75a-0dc407719814",
   "metadata": {},
   "outputs": [],
   "source": [
    "colunas = [\n",
    "'2024-10-01 00:00:00',\n",
    "'2024-10-02 00:00:00',\n",
    "'2024-10-03 00:00:00',\n",
    "'2024-10-04 00:00:00',\n",
    "'2024-10-07 00:00:00',\n",
    "'2024-10-08 00:00:00',\n",
    "'2024-10-09 00:00:00',\n",
    "'2024-10-10 00:00:00',\n",
    "'2024-10-11 00:00:00',\n",
    "'2024-10-14 00:00:00',\n",
    "'2024-10-15 00:00:00',\n",
    "'2024-10-16 00:00:00',\n",
    "'2024-10-17 00:00:00',\n",
    "'2024-10-18 00:00:00',\n",
    "'2024-10-21 00:00:00',\n",
    "'2024-10-22 00:00:00',\n",
    "'2024-10-23 00:00:00',\n",
    "'2024-10-24 00:00:00',\n",
    "'2024-10-25 00:00:00',\n",
    "'2024-10-28 00:00:00',\n",
    "'2024-10-29 00:00:00',\n",
    "'2024-10-30 00:00:00',\n",
    "'2024-10-31 00:00:00',\n",
    "]"
   ]
  },
  {
   "cell_type": "code",
   "execution_count": 112,
   "id": "44f41f87-0991-45b1-890b-8fd61041d9d1",
   "metadata": {},
   "outputs": [],
   "source": [
    "novas_colunas_CAMB = []"
   ]
  },
  {
   "cell_type": "code",
   "execution_count": 113,
   "id": "4a147306-4de3-4647-8788-db1ffa0fed74",
   "metadata": {},
   "outputs": [],
   "source": [
    "for columns in colunas:\n",
    "    # Remove a parte da hora\n",
    "    data_sem_hora = columns.split(' ')[0]\n",
    "    \n",
    "    # Formata para o formato DD-MM-YYYY\n",
    "    ano, mes, dia = data_sem_hora.split('-')\n",
    "    novo_nome = f'{dia}-{mes}-{ano}'\n",
    "    novas_colunas_CAMB.append(novo_nome)"
   ]
  },
  {
   "cell_type": "code",
   "execution_count": 114,
   "id": "c792dfb8-109d-47c5-b02f-ba8aef4325a3",
   "metadata": {},
   "outputs": [
    {
     "data": {
      "text/plain": [
       "['01-10-2024',\n",
       " '02-10-2024',\n",
       " '03-10-2024',\n",
       " '04-10-2024',\n",
       " '07-10-2024',\n",
       " '08-10-2024',\n",
       " '09-10-2024',\n",
       " '10-10-2024',\n",
       " '11-10-2024',\n",
       " '14-10-2024',\n",
       " '15-10-2024',\n",
       " '16-10-2024',\n",
       " '17-10-2024',\n",
       " '18-10-2024',\n",
       " '21-10-2024',\n",
       " '22-10-2024',\n",
       " '23-10-2024',\n",
       " '24-10-2024',\n",
       " '25-10-2024',\n",
       " '28-10-2024',\n",
       " '29-10-2024',\n",
       " '30-10-2024',\n",
       " '31-10-2024']"
      ]
     },
     "execution_count": 114,
     "metadata": {},
     "output_type": "execute_result"
    }
   ],
   "source": [
    "novas_colunas_CAMB"
   ]
  },
  {
   "cell_type": "code",
   "execution_count": null,
   "id": "e1295225-eb89-46be-80ae-ce3f3ac14dd4",
   "metadata": {},
   "outputs": [],
   "source": []
  },
  {
   "cell_type": "code",
   "execution_count": null,
   "id": "6934580f-1c0c-4f0f-91cc-97b04fde8ea2",
   "metadata": {},
   "outputs": [],
   "source": []
  },
  {
   "cell_type": "code",
   "execution_count": null,
   "id": "27a66572-cdf0-445f-b97d-1632f5d75ead",
   "metadata": {},
   "outputs": [],
   "source": []
  },
  {
   "cell_type": "markdown",
   "id": "5624e154-221d-44c5-bfd6-1981b2a095f1",
   "metadata": {},
   "source": [
    "### PASSO 4 renomeando colunas e acrescentando o novo formato "
   ]
  },
  {
   "cell_type": "markdown",
   "id": "cb0b0a65-5f98-4a79-8d1f-70a7d921c521",
   "metadata": {},
   "source": [
    "copie as colunas que escolheu para renomear, e cole o formato novo no lugar das velhas"
   ]
  },
  {
   "cell_type": "code",
   "execution_count": 115,
   "id": "1cd5d63f-674a-4aa1-8a7b-9e7e27a212b6",
   "metadata": {},
   "outputs": [
    {
     "name": "stdout",
     "output_type": "stream",
     "text": [
      "CATEGORIA\n",
      "MODALIDADE\n",
      "DIA DA SEMANA\n",
      "HORÁRIO\n",
      "TURNO\n",
      "PROFESSOR\n",
      "2024-10-01 00:00:00\n",
      "2024-10-02 00:00:00\n",
      "2024-10-03 00:00:00\n",
      "2024-10-04 00:00:00\n",
      "2024-10-07 00:00:00\n",
      "2024-10-08 00:00:00\n",
      "2024-10-09 00:00:00\n",
      "2024-10-10 00:00:00\n",
      "2024-10-11 00:00:00\n",
      "2024-10-14 00:00:00\n",
      "2024-10-15 00:00:00\n",
      "2024-10-16 00:00:00\n",
      "2024-10-17 00:00:00\n",
      "2024-10-18 00:00:00\n",
      "2024-10-21 00:00:00\n",
      "2024-10-22 00:00:00\n",
      "2024-10-23 00:00:00\n",
      "2024-10-24 00:00:00\n",
      "2024-10-25 00:00:00\n",
      "2024-10-28 00:00:00\n",
      "2024-10-29 00:00:00\n",
      "2024-10-30 00:00:00\n",
      "2024-10-31 00:00:00\n",
      "Média alunos p/ professor\n",
      "Média\n",
      "Alunos/professor\n",
      "Ocupação Máxima\n",
      "Professor\n"
     ]
    }
   ],
   "source": [
    "for columns in dataCAMB.columns:\n",
    "    print (columns)"
   ]
  },
  {
   "cell_type": "code",
   "execution_count": null,
   "id": "51fd50c5-15f8-4ccb-a350-11eb54cf5858",
   "metadata": {},
   "outputs": [],
   "source": []
  },
  {
   "cell_type": "code",
   "execution_count": 116,
   "id": "393d290e-0c83-4c0e-814b-1e58c16aacbd",
   "metadata": {},
   "outputs": [],
   "source": [
    "# Adicionando as datas formatadas as colunas, copiando e colando"
   ]
  },
  {
   "cell_type": "code",
   "execution_count": 117,
   "id": "0a200933-2e84-4012-8571-29987b0056c5",
   "metadata": {},
   "outputs": [],
   "source": [
    "dataCAMB.columns = [\n",
    "'CATEGORIA',\n",
    "'MODALIDADE',\n",
    "'DIA DA SEMANA',\n",
    "'HORÁRIO',\n",
    "'TURNO',\n",
    "'PROFESSOR',\n",
    "'01-10-2024',\n",
    "'02-10-2024',\n",
    "'03-10-2024',\n",
    "'04-10-2024',\n",
    "'07-10-2024',\n",
    "'08-10-2024',\n",
    "'09-10-2024',\n",
    "'10-10-2024',\n",
    "'11-10-2024',\n",
    "'14-10-2024',\n",
    "'15-10-2024',\n",
    "'16-10-2024',\n",
    "'17-10-2024',\n",
    "'18-10-2024',\n",
    "'21-10-2024',\n",
    "'22-10-2024',\n",
    "'23-10-2024',\n",
    "'24-10-2024',\n",
    "'25-10-2024',\n",
    "'28-10-2024',\n",
    "'29-10-2024',\n",
    "'30-10-2024',\n",
    "'31-10-2024',    \n",
    "'Média alunos p/ professor',\n",
    "'Média',\n",
    "'Alunos/professor',\n",
    "'Ocupação Máxima',\n",
    "'Professor'\n",
    "]"
   ]
  },
  {
   "cell_type": "code",
   "execution_count": null,
   "id": "d66bae9d-74f4-490a-86c2-a58a7e5f2733",
   "metadata": {},
   "outputs": [],
   "source": []
  },
  {
   "cell_type": "code",
   "execution_count": null,
   "id": "071d834d-91e5-40d5-9978-7f634c5331d0",
   "metadata": {},
   "outputs": [],
   "source": []
  },
  {
   "cell_type": "code",
   "execution_count": null,
   "id": "df91e4b6-3efe-43aa-8b86-90eb97850f62",
   "metadata": {},
   "outputs": [],
   "source": []
  },
  {
   "cell_type": "markdown",
   "id": "96db1918-47ac-4396-94b7-5d79bc40c716",
   "metadata": {},
   "source": [
    "### 5 PASSO: Usar o Loop for para substitituir os valores das frequencia de 'x' e 'X' por zero, com o método do pd.to_numeric) "
   ]
  },
  {
   "cell_type": "markdown",
   "id": "a4f0fd38-1ca2-431a-a169-ae618cfc23ec",
   "metadata": {},
   "source": [
    "Escolhendo apenas as colunas de datas"
   ]
  },
  {
   "cell_type": "code",
   "execution_count": 118,
   "id": "5eb4b0e1-288d-49d7-9754-2e4603c58023",
   "metadata": {},
   "outputs": [],
   "source": [
    "colunas = [\n",
    "'01-10-2024',\n",
    "'02-10-2024',\n",
    "'03-10-2024',\n",
    "'04-10-2024',\n",
    "'07-10-2024',\n",
    "'08-10-2024',\n",
    "'09-10-2024',\n",
    "'10-10-2024',\n",
    "'11-10-2024',\n",
    "'14-10-2024',\n",
    "'15-10-2024',\n",
    "'16-10-2024',\n",
    "'17-10-2024',\n",
    "'18-10-2024',\n",
    "'21-10-2024',\n",
    "'22-10-2024',\n",
    "'23-10-2024',\n",
    "'24-10-2024',\n",
    "'25-10-2024',\n",
    "'28-10-2024',\n",
    "'29-10-2024',\n",
    "'30-10-2024',\n",
    "'31-10-2024',    \n",
    "]"
   ]
  },
  {
   "cell_type": "markdown",
   "id": "53303d86-7866-494d-9bee-3c9808447224",
   "metadata": {},
   "source": [
    "Fazendo a limpeza profunda, formatando valores para numeros, preenchendo com zeros os nulos e transformando em inteiros"
   ]
  },
  {
   "cell_type": "code",
   "execution_count": 119,
   "id": "988f493f-634a-4b04-8c1a-9d414b31ce6f",
   "metadata": {},
   "outputs": [],
   "source": [
    "for columns in colunas:\n",
    "    # dataMES[columns] = pd.to_numeric(dataMES[columns], errors='coerce')\n",
    "    dataCAMB[columns] = pd.to_numeric(dataCAMB[columns], errors='coerce').fillna(0).astype(int)"
   ]
  },
  {
   "cell_type": "code",
   "execution_count": null,
   "id": "2a105033-831f-4217-8d75-32037aab8e35",
   "metadata": {},
   "outputs": [],
   "source": []
  },
  {
   "cell_type": "code",
   "execution_count": null,
   "id": "c9ae4f10-a04d-432d-85bd-2d324ac4c9bc",
   "metadata": {},
   "outputs": [],
   "source": []
  },
  {
   "cell_type": "code",
   "execution_count": null,
   "id": "cee0e571-3e51-47d9-9bc0-0d4cdb93fdd4",
   "metadata": {},
   "outputs": [],
   "source": []
  },
  {
   "cell_type": "markdown",
   "id": "708835c9-74fd-40ea-a16a-4d7e4ddd6853",
   "metadata": {},
   "source": [
    "### PASSO 6: MELT derretendo as colunas em formato de datas"
   ]
  },
  {
   "cell_type": "markdown",
   "id": "6e9cc97e-34dc-46b6-bab0-7c7af71b2694",
   "metadata": {},
   "source": [
    "o MELT ele pega as colunas que estão na horizontal e cria uma coluna de categorias, e depois ele cria outra coluna com os valores dessas colunas que foram transformadas em dados categóricos"
   ]
  },
  {
   "cell_type": "code",
   "execution_count": 120,
   "id": "f72b212d-18ec-4464-b52d-22b88e1f1874",
   "metadata": {},
   "outputs": [],
   "source": [
    "colunas_para_melt = [\n",
    "'01-10-2024',\n",
    "'02-10-2024',\n",
    "'03-10-2024',\n",
    "'04-10-2024',\n",
    "'07-10-2024',\n",
    "'08-10-2024',\n",
    "'09-10-2024',\n",
    "'10-10-2024',\n",
    "'11-10-2024',\n",
    "'14-10-2024',\n",
    "'15-10-2024',\n",
    "'16-10-2024',\n",
    "'17-10-2024',\n",
    "'18-10-2024',\n",
    "'21-10-2024',\n",
    "'22-10-2024',\n",
    "'23-10-2024',\n",
    "'24-10-2024',\n",
    "'25-10-2024',\n",
    "'28-10-2024',\n",
    "'29-10-2024',\n",
    "'30-10-2024',\n",
    "'31-10-2024',\n",
    "]"
   ]
  },
  {
   "cell_type": "code",
   "execution_count": null,
   "id": "8ceb0ae3-d6b3-499b-a319-19f9688a2ba2",
   "metadata": {},
   "outputs": [],
   "source": []
  },
  {
   "cell_type": "code",
   "execution_count": null,
   "id": "1b84fc6c-db56-427e-aee8-d9df3cdd48af",
   "metadata": {},
   "outputs": [],
   "source": []
  },
  {
   "cell_type": "code",
   "execution_count": null,
   "id": "980d5489-145e-4ec9-9ea2-509472edcaf2",
   "metadata": {},
   "outputs": [],
   "source": []
  },
  {
   "cell_type": "markdown",
   "id": "ecba9fc4-962d-4353-a10b-873cc709ff1c",
   "metadata": {},
   "source": [
    "#### Indentificando as colunas que Eu quero manter em meu dataframe"
   ]
  },
  {
   "cell_type": "code",
   "execution_count": 121,
   "id": "5b7b0d1e-5b51-45d8-8977-f00f05e3f4dd",
   "metadata": {},
   "outputs": [],
   "source": [
    "# Identifica as colunas que você quer manter como identificadoras (id_vars)\n",
    "# São as colunas que não serão \"unpivoted\"\n",
    "id_vars_cols = [columns for columns in dataCAMB.columns if columns not in colunas_para_melt]"
   ]
  },
  {
   "cell_type": "code",
   "execution_count": null,
   "id": "b6593e21-7596-46a5-9eea-91a103ae8a1d",
   "metadata": {},
   "outputs": [],
   "source": []
  },
  {
   "cell_type": "code",
   "execution_count": null,
   "id": "f0eb21ae-9f9b-4c8f-97bd-7e97015a87d6",
   "metadata": {},
   "outputs": [],
   "source": []
  },
  {
   "cell_type": "code",
   "execution_count": null,
   "id": "783606ff-c856-4384-b011-a8096ec6dff7",
   "metadata": {},
   "outputs": [],
   "source": []
  },
  {
   "cell_type": "markdown",
   "id": "31d27408-2fe6-4450-959a-4b65812246c9",
   "metadata": {},
   "source": [
    "#### Realiza o melt apenas nas colunas de datas"
   ]
  },
  {
   "cell_type": "code",
   "execution_count": 122,
   "id": "dfc300f0-d2ff-408c-b205-8cf5c3468ee2",
   "metadata": {},
   "outputs": [],
   "source": [
    "dataCAMB_melted = pd.melt(dataCAMB,\n",
    "                      id_vars=id_vars_cols, #colunas que Eu deixei, que ficaram.\n",
    "                      value_vars=colunas_para_melt, #colunas que vão se transformar.\n",
    "                      var_name='Dias de Aulas', # nome da coluna categorica\n",
    "                      value_name='Frequencia de Alunos') # nome da coluna de valores"
   ]
  },
  {
   "cell_type": "code",
   "execution_count": 123,
   "id": "62e11cc5-5c55-4fea-b621-428eb8b93c48",
   "metadata": {},
   "outputs": [
    {
     "data": {
      "text/html": [
       "<div>\n",
       "<style scoped>\n",
       "    .dataframe tbody tr th:only-of-type {\n",
       "        vertical-align: middle;\n",
       "    }\n",
       "\n",
       "    .dataframe tbody tr th {\n",
       "        vertical-align: top;\n",
       "    }\n",
       "\n",
       "    .dataframe thead th {\n",
       "        text-align: right;\n",
       "    }\n",
       "</style>\n",
       "<table border=\"1\" class=\"dataframe\">\n",
       "  <thead>\n",
       "    <tr style=\"text-align: right;\">\n",
       "      <th></th>\n",
       "      <th>CATEGORIA</th>\n",
       "      <th>MODALIDADE</th>\n",
       "      <th>DIA DA SEMANA</th>\n",
       "      <th>HORÁRIO</th>\n",
       "      <th>TURNO</th>\n",
       "      <th>PROFESSOR</th>\n",
       "      <th>Média alunos p/ professor</th>\n",
       "      <th>Média</th>\n",
       "      <th>Alunos/professor</th>\n",
       "      <th>Ocupação Máxima</th>\n",
       "      <th>Professor</th>\n",
       "      <th>Dias de Aulas</th>\n",
       "      <th>Frequencia de Alunos</th>\n",
       "    </tr>\n",
       "  </thead>\n",
       "  <tbody>\n",
       "    <tr>\n",
       "      <th>0</th>\n",
       "      <td>QUADRA</td>\n",
       "      <td>BEACH TENNIS</td>\n",
       "      <td>seg, ter,  qua, qui, sex</td>\n",
       "      <td>05:30</td>\n",
       "      <td>MANHÃ</td>\n",
       "      <td>WASHINGTON</td>\n",
       "      <td>22</td>\n",
       "      <td>4.000000</td>\n",
       "      <td>NaN</td>\n",
       "      <td>NaN</td>\n",
       "      <td>0.0</td>\n",
       "      <td>01-10-2024</td>\n",
       "      <td>3</td>\n",
       "    </tr>\n",
       "    <tr>\n",
       "      <th>1</th>\n",
       "      <td>MUSC - C/P</td>\n",
       "      <td>A - MUSCULAÇÃO COM PERSONAL</td>\n",
       "      <td>seg, ter, qua, qui, sex</td>\n",
       "      <td>06:00</td>\n",
       "      <td>MANHÃ</td>\n",
       "      <td>TAYNAN</td>\n",
       "      <td>22</td>\n",
       "      <td>27.181818</td>\n",
       "      <td>NaN</td>\n",
       "      <td>NaN</td>\n",
       "      <td>NaN</td>\n",
       "      <td>01-10-2024</td>\n",
       "      <td>20</td>\n",
       "    </tr>\n",
       "    <tr>\n",
       "      <th>2</th>\n",
       "      <td>MUSC - S/P</td>\n",
       "      <td>A - MUSCULAÇÃO SEM PERSONAL</td>\n",
       "      <td>seg, ter, qua, qui, sex</td>\n",
       "      <td>06:00</td>\n",
       "      <td>MANHÃ</td>\n",
       "      <td>TAYNAN</td>\n",
       "      <td>22</td>\n",
       "      <td>58.909091</td>\n",
       "      <td>NaN</td>\n",
       "      <td>NaN</td>\n",
       "      <td>NaN</td>\n",
       "      <td>01-10-2024</td>\n",
       "      <td>76</td>\n",
       "    </tr>\n",
       "  </tbody>\n",
       "</table>\n",
       "</div>"
      ],
      "text/plain": [
       "    CATEGORIA                   MODALIDADE             DIA DA SEMANA HORÁRIO  \\\n",
       "0      QUADRA                BEACH TENNIS   seg, ter,  qua, qui, sex   05:30   \n",
       "1  MUSC - C/P  A - MUSCULAÇÃO COM PERSONAL   seg, ter, qua, qui, sex   06:00   \n",
       "2  MUSC - S/P  A - MUSCULAÇÃO SEM PERSONAL   seg, ter, qua, qui, sex   06:00   \n",
       "\n",
       "   TURNO   PROFESSOR  Média alunos p/ professor      Média  Alunos/professor  \\\n",
       "0  MANHÃ  WASHINGTON                         22   4.000000               NaN   \n",
       "1  MANHÃ      TAYNAN                         22  27.181818               NaN   \n",
       "2  MANHÃ      TAYNAN                         22  58.909091               NaN   \n",
       "\n",
       "   Ocupação Máxima  Professor Dias de Aulas  Frequencia de Alunos  \n",
       "0              NaN        0.0    01-10-2024                     3  \n",
       "1              NaN        NaN    01-10-2024                    20  \n",
       "2              NaN        NaN    01-10-2024                    76  "
      ]
     },
     "execution_count": 123,
     "metadata": {},
     "output_type": "execute_result"
    }
   ],
   "source": [
    "dataCAMB_melted.head(3)"
   ]
  },
  {
   "cell_type": "code",
   "execution_count": 124,
   "id": "6df2065c-d761-4d36-8835-1418e234f30c",
   "metadata": {},
   "outputs": [
    {
     "data": {
      "text/plain": [
       "33220"
      ]
     },
     "execution_count": 124,
     "metadata": {},
     "output_type": "execute_result"
    }
   ],
   "source": [
    "dataCAMB_melted['Frequencia de Alunos'].sum()"
   ]
  },
  {
   "cell_type": "markdown",
   "id": "cf371340-b88f-4e0a-9b85-1298ed597644",
   "metadata": {},
   "source": [
    "____"
   ]
  },
  {
   "cell_type": "code",
   "execution_count": null,
   "id": "b1bb4f44-e578-4c3a-9383-44d43eb84240",
   "metadata": {},
   "outputs": [],
   "source": []
  },
  {
   "cell_type": "code",
   "execution_count": null,
   "id": "d303a868-dcbe-43d9-b7c0-fab8280c763d",
   "metadata": {},
   "outputs": [],
   "source": []
  },
  {
   "cell_type": "code",
   "execution_count": null,
   "id": "b0472003-cdf1-46ec-a99e-8a88a0934392",
   "metadata": {},
   "outputs": [],
   "source": []
  },
  {
   "cell_type": "markdown",
   "id": "f3ba45f5-abad-44c6-8c97-8ca8ac665643",
   "metadata": {},
   "source": [
    "_____"
   ]
  },
  {
   "cell_type": "markdown",
   "id": "87d85787-bbaa-4fdc-b017-c3469f98253e",
   "metadata": {},
   "source": [
    "# EUSEBIO [EUS] - PREPROCESSING 6"
   ]
  },
  {
   "cell_type": "code",
   "execution_count": 125,
   "id": "11ac01a9-3a94-4056-9f27-6f32c43dea03",
   "metadata": {},
   "outputs": [],
   "source": [
    "data6 = pd.read_excel('3.2 Mapa de Ocupação - OUT 2024.xlsx', sheet_name='EUS', skiprows=1, nrows=100)"
   ]
  },
  {
   "cell_type": "code",
   "execution_count": 126,
   "id": "d27ba71e-fd79-44b4-9148-7c6517b8fd82",
   "metadata": {},
   "outputs": [],
   "source": [
    "dataEUS = data6.copy()"
   ]
  },
  {
   "cell_type": "code",
   "execution_count": null,
   "id": "9f107aee-ae62-4ab0-9efe-f6877b6565f1",
   "metadata": {},
   "outputs": [],
   "source": []
  },
  {
   "cell_type": "code",
   "execution_count": null,
   "id": "eb21761b-7b46-491c-84ae-ddb7ab6aef76",
   "metadata": {},
   "outputs": [],
   "source": []
  },
  {
   "cell_type": "code",
   "execution_count": null,
   "id": "6fddfb0e-7964-4f8e-ba6d-0d4afb7c4b0e",
   "metadata": {},
   "outputs": [],
   "source": []
  },
  {
   "cell_type": "markdown",
   "id": "efae5397-f5f2-4d7c-a4dc-baab74a1e43a",
   "metadata": {},
   "source": [
    "### 1 PASSO: Removendo colunas desnecessárias"
   ]
  },
  {
   "cell_type": "code",
   "execution_count": 127,
   "id": "72c3a116-90bc-454c-aaec-08a897fc4e31",
   "metadata": {},
   "outputs": [
    {
     "data": {
      "text/html": [
       "<div>\n",
       "<style scoped>\n",
       "    .dataframe tbody tr th:only-of-type {\n",
       "        vertical-align: middle;\n",
       "    }\n",
       "\n",
       "    .dataframe tbody tr th {\n",
       "        vertical-align: top;\n",
       "    }\n",
       "\n",
       "    .dataframe thead th {\n",
       "        text-align: right;\n",
       "    }\n",
       "</style>\n",
       "<table border=\"1\" class=\"dataframe\">\n",
       "  <thead>\n",
       "    <tr style=\"text-align: right;\">\n",
       "      <th></th>\n",
       "      <th>Unnamed: 0</th>\n",
       "      <th>Unnamed: 1</th>\n",
       "      <th>Unnamed: 2</th>\n",
       "      <th>CATEGORIA</th>\n",
       "      <th>MODALIDADE</th>\n",
       "      <th>DIA DA SEMANA</th>\n",
       "      <th>HORÁRIO</th>\n",
       "      <th>AUX.1</th>\n",
       "      <th>TURNO</th>\n",
       "      <th>AUX 2</th>\n",
       "      <th>...</th>\n",
       "      <th>2024-10-25 00:00:00</th>\n",
       "      <th>2024-10-28 00:00:00</th>\n",
       "      <th>2024-10-29 00:00:00</th>\n",
       "      <th>2024-10-30 00:00:00</th>\n",
       "      <th>2024-10-31 00:00:00</th>\n",
       "      <th>Média alunos p/ professor</th>\n",
       "      <th>Média</th>\n",
       "      <th>Alunos/professor</th>\n",
       "      <th>Ocupação Máxima</th>\n",
       "      <th>Professor</th>\n",
       "    </tr>\n",
       "  </thead>\n",
       "  <tbody>\n",
       "    <tr>\n",
       "      <th>95</th>\n",
       "      <td>NaN</td>\n",
       "      <td>NaN</td>\n",
       "      <td>NaN</td>\n",
       "      <td>MUSC - C/P</td>\n",
       "      <td>A - MUSCULAÇÃO COM PERSONAL</td>\n",
       "      <td>seg, ter, qua, qui, sex</td>\n",
       "      <td>21:00:00</td>\n",
       "      <td>21:00</td>\n",
       "      <td>NOITE</td>\n",
       "      <td>A - MUSCULAÇÃO COM PERSONAL - 21:00</td>\n",
       "      <td>...</td>\n",
       "      <td>7</td>\n",
       "      <td>6</td>\n",
       "      <td>8</td>\n",
       "      <td>NaN</td>\n",
       "      <td>NaN</td>\n",
       "      <td>21</td>\n",
       "      <td>7.380952</td>\n",
       "      <td>NaN</td>\n",
       "      <td>NaN</td>\n",
       "      <td>0.0</td>\n",
       "    </tr>\n",
       "    <tr>\n",
       "      <th>96</th>\n",
       "      <td>NaN</td>\n",
       "      <td>NaN</td>\n",
       "      <td>NaN</td>\n",
       "      <td>MUSC - S/P</td>\n",
       "      <td>A - MUSCULAÇÃO SEM PERSONAL</td>\n",
       "      <td>seg, ter, qua, qui, sex</td>\n",
       "      <td>21:00:00</td>\n",
       "      <td>21:00</td>\n",
       "      <td>NOITE</td>\n",
       "      <td>A - MUSCULAÇÃO SEM PERSONAL - 21:00</td>\n",
       "      <td>...</td>\n",
       "      <td>25</td>\n",
       "      <td>29</td>\n",
       "      <td>35</td>\n",
       "      <td>NaN</td>\n",
       "      <td>NaN</td>\n",
       "      <td>21</td>\n",
       "      <td>30.095238</td>\n",
       "      <td>10.5</td>\n",
       "      <td>NaN</td>\n",
       "      <td>2.0</td>\n",
       "    </tr>\n",
       "    <tr>\n",
       "      <th>97</th>\n",
       "      <td>NaN</td>\n",
       "      <td>NaN</td>\n",
       "      <td>NaN</td>\n",
       "      <td>MUSC - S/P</td>\n",
       "      <td>A - MUSCULAÇÃO SEM PERSONAL</td>\n",
       "      <td>seg, ter, qua, qui, sex</td>\n",
       "      <td>22:00:00</td>\n",
       "      <td>22:00</td>\n",
       "      <td>NOITE</td>\n",
       "      <td>A - MUSCULAÇÃO SEM PERSONAL - 22:00</td>\n",
       "      <td>...</td>\n",
       "      <td>6</td>\n",
       "      <td>11</td>\n",
       "      <td>12</td>\n",
       "      <td>NaN</td>\n",
       "      <td>NaN</td>\n",
       "      <td>21</td>\n",
       "      <td>9.619048</td>\n",
       "      <td>21.0</td>\n",
       "      <td>NaN</td>\n",
       "      <td>1.0</td>\n",
       "    </tr>\n",
       "  </tbody>\n",
       "</table>\n",
       "<p>3 rows × 40 columns</p>\n",
       "</div>"
      ],
      "text/plain": [
       "    Unnamed: 0  Unnamed: 1  Unnamed: 2   CATEGORIA  \\\n",
       "95         NaN         NaN         NaN  MUSC - C/P   \n",
       "96         NaN         NaN         NaN  MUSC - S/P   \n",
       "97         NaN         NaN         NaN  MUSC - S/P   \n",
       "\n",
       "                     MODALIDADE            DIA DA SEMANA   HORÁRIO  AUX.1  \\\n",
       "95  A - MUSCULAÇÃO COM PERSONAL  seg, ter, qua, qui, sex  21:00:00  21:00   \n",
       "96  A - MUSCULAÇÃO SEM PERSONAL  seg, ter, qua, qui, sex  21:00:00  21:00   \n",
       "97  A - MUSCULAÇÃO SEM PERSONAL  seg, ter, qua, qui, sex  22:00:00  22:00   \n",
       "\n",
       "    TURNO                                AUX 2  ... 2024-10-25 00:00:00  \\\n",
       "95  NOITE  A - MUSCULAÇÃO COM PERSONAL - 21:00  ...                   7   \n",
       "96  NOITE  A - MUSCULAÇÃO SEM PERSONAL - 21:00  ...                  25   \n",
       "97  NOITE  A - MUSCULAÇÃO SEM PERSONAL - 22:00  ...                   6   \n",
       "\n",
       "   2024-10-28 00:00:00 2024-10-29 00:00:00 2024-10-30 00:00:00  \\\n",
       "95                   6                   8                 NaN   \n",
       "96                  29                  35                 NaN   \n",
       "97                  11                  12                 NaN   \n",
       "\n",
       "   2024-10-31 00:00:00 Média alunos p/ professor      Média Alunos/professor  \\\n",
       "95                 NaN                        21   7.380952              NaN   \n",
       "96                 NaN                        21  30.095238             10.5   \n",
       "97                 NaN                        21   9.619048             21.0   \n",
       "\n",
       "   Ocupação Máxima Professor  \n",
       "95             NaN       0.0  \n",
       "96             NaN       2.0  \n",
       "97             NaN       1.0  \n",
       "\n",
       "[3 rows x 40 columns]"
      ]
     },
     "execution_count": 127,
     "metadata": {},
     "output_type": "execute_result"
    }
   ],
   "source": [
    "dataEUS.tail(3)"
   ]
  },
  {
   "cell_type": "code",
   "execution_count": 128,
   "id": "557ffebc-07d5-4a5b-a806-85ef4c5fff45",
   "metadata": {},
   "outputs": [
    {
     "data": {
      "text/plain": [
       "Unnamed: 0                                                   NaN\n",
       "Unnamed: 1                                                   NaN\n",
       "Unnamed: 2                                                   NaN\n",
       "CATEGORIA                                             MUSC - S/P\n",
       "MODALIDADE                           A - MUSCULAÇÃO SEM PERSONAL\n",
       "DIA DA SEMANA                            seg, ter, qua, qui, sex\n",
       "HORÁRIO                                                 22:00:00\n",
       "AUX.1                                                      22:00\n",
       "TURNO                                                      NOITE\n",
       "AUX 2                        A - MUSCULAÇÃO SEM PERSONAL - 22:00\n",
       "PROFESSOR                                                   JUAN\n",
       "AUX 3                         A - MUSCULAÇÃO SEM PERSONAL - JUAN\n",
       "2024-10-01 00:00:00                                           15\n",
       "2024-10-02 00:00:00                                           10\n",
       "2024-10-03 00:00:00                                           19\n",
       "2024-10-04 00:00:00                                           12\n",
       "2024-10-07 00:00:00                                            8\n",
       "2024-10-08 00:00:00                                            7\n",
       "2024-10-09 00:00:00                                           10\n",
       "2024-10-10 00:00:00                                            7\n",
       "2024-10-11 00:00:00                                            9\n",
       "2024-10-14 00:00:00                                           12\n",
       "2024-10-15 00:00:00                                            8\n",
       "2024-10-16 00:00:00                                           11\n",
       "2024-10-17 00:00:00                                            7\n",
       "2024-10-18 00:00:00                                            6\n",
       "2024-10-21 00:00:00                                            6\n",
       "2024-10-22 00:00:00                                            8\n",
       "2024-10-23 00:00:00                                           11\n",
       "2024-10-24 00:00:00                                            7\n",
       "2024-10-25 00:00:00                                            6\n",
       "2024-10-28 00:00:00                                           11\n",
       "2024-10-29 00:00:00                                           12\n",
       "2024-10-30 00:00:00                                          NaN\n",
       "2024-10-31 00:00:00                                          NaN\n",
       "Média alunos p/ professor                                     21\n",
       "Média                                                   9.619048\n",
       "Alunos/professor                                            21.0\n",
       "Ocupação Máxima                                              NaN\n",
       "Professor                                                    1.0\n",
       "Name: 97, dtype: object"
      ]
     },
     "execution_count": 128,
     "metadata": {},
     "output_type": "execute_result"
    }
   ],
   "source": [
    "dataEUS.iloc[97]"
   ]
  },
  {
   "cell_type": "code",
   "execution_count": null,
   "id": "1e71c60b-3f7c-407b-a0da-e5eb2a44abdc",
   "metadata": {},
   "outputs": [],
   "source": []
  },
  {
   "cell_type": "code",
   "execution_count": null,
   "id": "4b85386c-b80e-460d-a3e3-0fdb56bb1404",
   "metadata": {},
   "outputs": [],
   "source": []
  },
  {
   "cell_type": "code",
   "execution_count": null,
   "id": "d06ace34-6a4d-4868-b0bc-740750d549b3",
   "metadata": {},
   "outputs": [],
   "source": []
  },
  {
   "cell_type": "code",
   "execution_count": 129,
   "id": "4df8bf4e-d156-487b-a36e-9ec51c858f23",
   "metadata": {},
   "outputs": [
    {
     "data": {
      "text/plain": [
       "Index([               'Unnamed: 0',                'Unnamed: 1',\n",
       "                      'Unnamed: 2',                 'CATEGORIA',\n",
       "                      'MODALIDADE',             'DIA DA SEMANA',\n",
       "                         'HORÁRIO',                     'AUX.1',\n",
       "                           'TURNO',                     'AUX 2',\n",
       "                       'PROFESSOR',                     'AUX 3',\n",
       "               2024-10-01 00:00:00,         2024-10-02 00:00:00,\n",
       "               2024-10-03 00:00:00,         2024-10-04 00:00:00,\n",
       "               2024-10-07 00:00:00,         2024-10-08 00:00:00,\n",
       "               2024-10-09 00:00:00,         2024-10-10 00:00:00,\n",
       "               2024-10-11 00:00:00,         2024-10-14 00:00:00,\n",
       "               2024-10-15 00:00:00,         2024-10-16 00:00:00,\n",
       "               2024-10-17 00:00:00,         2024-10-18 00:00:00,\n",
       "               2024-10-21 00:00:00,         2024-10-22 00:00:00,\n",
       "               2024-10-23 00:00:00,         2024-10-24 00:00:00,\n",
       "               2024-10-25 00:00:00,         2024-10-28 00:00:00,\n",
       "               2024-10-29 00:00:00,         2024-10-30 00:00:00,\n",
       "               2024-10-31 00:00:00, 'Média alunos p/ professor',\n",
       "                           'Média',          'Alunos/professor',\n",
       "                 'Ocupação Máxima',                 'Professor'],\n",
       "      dtype='object')"
      ]
     },
     "execution_count": 129,
     "metadata": {},
     "output_type": "execute_result"
    }
   ],
   "source": [
    "dataEUS.columns"
   ]
  },
  {
   "cell_type": "code",
   "execution_count": 130,
   "id": "7914ac8c-d922-435f-81f4-db6c18927e7b",
   "metadata": {},
   "outputs": [
    {
     "data": {
      "text/html": [
       "<div>\n",
       "<style scoped>\n",
       "    .dataframe tbody tr th:only-of-type {\n",
       "        vertical-align: middle;\n",
       "    }\n",
       "\n",
       "    .dataframe tbody tr th {\n",
       "        vertical-align: top;\n",
       "    }\n",
       "\n",
       "    .dataframe thead th {\n",
       "        text-align: right;\n",
       "    }\n",
       "</style>\n",
       "<table border=\"1\" class=\"dataframe\">\n",
       "  <thead>\n",
       "    <tr style=\"text-align: right;\">\n",
       "      <th></th>\n",
       "      <th>Unnamed: 0</th>\n",
       "      <th>Unnamed: 1</th>\n",
       "      <th>Unnamed: 2</th>\n",
       "      <th>HORÁRIO</th>\n",
       "      <th>AUX 2</th>\n",
       "      <th>AUX 3</th>\n",
       "    </tr>\n",
       "  </thead>\n",
       "  <tbody>\n",
       "    <tr>\n",
       "      <th>0</th>\n",
       "      <td>NaN</td>\n",
       "      <td>NaN</td>\n",
       "      <td>NaN</td>\n",
       "      <td>06:00:00</td>\n",
       "      <td>A - MUSCULAÇÃO COM PERSONAL - 06:00</td>\n",
       "      <td>A - MUSCULAÇÃO COM PERSONAL - ISAQUIEL</td>\n",
       "    </tr>\n",
       "    <tr>\n",
       "      <th>1</th>\n",
       "      <td>NaN</td>\n",
       "      <td>NaN</td>\n",
       "      <td>NaN</td>\n",
       "      <td>06:00:00</td>\n",
       "      <td>A - MUSCULAÇÃO SEM PERSONAL - 06:00</td>\n",
       "      <td>A - MUSCULAÇÃO SEM PERSONAL - ISAQUIEL</td>\n",
       "    </tr>\n",
       "    <tr>\n",
       "      <th>2</th>\n",
       "      <td>NaN</td>\n",
       "      <td>NaN</td>\n",
       "      <td>NaN</td>\n",
       "      <td>06:00:00</td>\n",
       "      <td>CROSSFIT - 06:00</td>\n",
       "      <td>CROSSFIT - BRUNO</td>\n",
       "    </tr>\n",
       "  </tbody>\n",
       "</table>\n",
       "</div>"
      ],
      "text/plain": [
       "   Unnamed: 0  Unnamed: 1  Unnamed: 2   HORÁRIO  \\\n",
       "0         NaN         NaN         NaN  06:00:00   \n",
       "1         NaN         NaN         NaN  06:00:00   \n",
       "2         NaN         NaN         NaN  06:00:00   \n",
       "\n",
       "                                 AUX 2                                   AUX 3  \n",
       "0  A - MUSCULAÇÃO COM PERSONAL - 06:00  A - MUSCULAÇÃO COM PERSONAL - ISAQUIEL  \n",
       "1  A - MUSCULAÇÃO SEM PERSONAL - 06:00  A - MUSCULAÇÃO SEM PERSONAL - ISAQUIEL  \n",
       "2                     CROSSFIT - 06:00                        CROSSFIT - BRUNO  "
      ]
     },
     "execution_count": 130,
     "metadata": {},
     "output_type": "execute_result"
    }
   ],
   "source": [
    "dataEUS[['Unnamed: 0', 'Unnamed: 1', 'Unnamed: 2', 'HORÁRIO', 'AUX 2', 'AUX 3']].head(3)"
   ]
  },
  {
   "cell_type": "code",
   "execution_count": null,
   "id": "8014291f-e8c9-4e7b-87f8-8dcfbf42607a",
   "metadata": {},
   "outputs": [],
   "source": []
  },
  {
   "cell_type": "code",
   "execution_count": null,
   "id": "e09f44c2-9d46-4714-bcfa-9ad610487f0f",
   "metadata": {},
   "outputs": [],
   "source": []
  },
  {
   "cell_type": "code",
   "execution_count": null,
   "id": "02e04192-83ed-41c7-92bb-a3e8fbcf9112",
   "metadata": {},
   "outputs": [],
   "source": []
  },
  {
   "cell_type": "code",
   "execution_count": 131,
   "id": "28f54317-be52-4a0a-b99b-110560ff04dc",
   "metadata": {},
   "outputs": [],
   "source": [
    "dropColumns = ['Unnamed: 0', 'Unnamed: 1', 'Unnamed: 2', 'HORÁRIO', 'AUX 2', 'AUX 3']"
   ]
  },
  {
   "cell_type": "code",
   "execution_count": 132,
   "id": "4243755b-f3fa-4712-8072-b4e59dca4367",
   "metadata": {},
   "outputs": [],
   "source": [
    "dataEUS.drop(columns=dropColumns, inplace=True)"
   ]
  },
  {
   "cell_type": "markdown",
   "id": "12c86ca0-1f8e-4cff-9f4e-af7a0d31636c",
   "metadata": {},
   "source": [
    "- PRECISAMOS RENOMEAR A COLUNA AUX.1 COMO HORARIO"
   ]
  },
  {
   "cell_type": "code",
   "execution_count": 133,
   "id": "5b7a2f11-f16b-4635-babd-c481fb71e823",
   "metadata": {},
   "outputs": [],
   "source": [
    "dataEUS.rename(columns={'AUX.1': 'HORÁRIO'}, inplace=True)"
   ]
  },
  {
   "cell_type": "code",
   "execution_count": 134,
   "id": "d072e6f3-8456-4243-8485-5756074bf37d",
   "metadata": {},
   "outputs": [
    {
     "data": {
      "text/html": [
       "<div>\n",
       "<style scoped>\n",
       "    .dataframe tbody tr th:only-of-type {\n",
       "        vertical-align: middle;\n",
       "    }\n",
       "\n",
       "    .dataframe tbody tr th {\n",
       "        vertical-align: top;\n",
       "    }\n",
       "\n",
       "    .dataframe thead th {\n",
       "        text-align: right;\n",
       "    }\n",
       "</style>\n",
       "<table border=\"1\" class=\"dataframe\">\n",
       "  <thead>\n",
       "    <tr style=\"text-align: right;\">\n",
       "      <th></th>\n",
       "      <th>CATEGORIA</th>\n",
       "      <th>MODALIDADE</th>\n",
       "      <th>DIA DA SEMANA</th>\n",
       "      <th>HORÁRIO</th>\n",
       "      <th>TURNO</th>\n",
       "      <th>PROFESSOR</th>\n",
       "      <th>2024-10-01 00:00:00</th>\n",
       "      <th>2024-10-02 00:00:00</th>\n",
       "      <th>2024-10-03 00:00:00</th>\n",
       "      <th>2024-10-04 00:00:00</th>\n",
       "      <th>...</th>\n",
       "      <th>2024-10-25 00:00:00</th>\n",
       "      <th>2024-10-28 00:00:00</th>\n",
       "      <th>2024-10-29 00:00:00</th>\n",
       "      <th>2024-10-30 00:00:00</th>\n",
       "      <th>2024-10-31 00:00:00</th>\n",
       "      <th>Média alunos p/ professor</th>\n",
       "      <th>Média</th>\n",
       "      <th>Alunos/professor</th>\n",
       "      <th>Ocupação Máxima</th>\n",
       "      <th>Professor</th>\n",
       "    </tr>\n",
       "  </thead>\n",
       "  <tbody>\n",
       "    <tr>\n",
       "      <th>0</th>\n",
       "      <td>MUSC - C/P</td>\n",
       "      <td>A - MUSCULAÇÃO COM PERSONAL</td>\n",
       "      <td>seg, ter, qua, qui, sex</td>\n",
       "      <td>06:00</td>\n",
       "      <td>MANHÃ</td>\n",
       "      <td>ISAQUIEL</td>\n",
       "      <td>47</td>\n",
       "      <td>58</td>\n",
       "      <td>52</td>\n",
       "      <td>50</td>\n",
       "      <td>...</td>\n",
       "      <td>52</td>\n",
       "      <td>44</td>\n",
       "      <td>37</td>\n",
       "      <td>NaN</td>\n",
       "      <td>16</td>\n",
       "      <td>22</td>\n",
       "      <td>41.727273</td>\n",
       "      <td>NaN</td>\n",
       "      <td>NaN</td>\n",
       "      <td>0.0</td>\n",
       "    </tr>\n",
       "    <tr>\n",
       "      <th>1</th>\n",
       "      <td>MUSC - S/P</td>\n",
       "      <td>A - MUSCULAÇÃO SEM PERSONAL</td>\n",
       "      <td>seg, ter, qua, qui, sex</td>\n",
       "      <td>06:00</td>\n",
       "      <td>MANHÃ</td>\n",
       "      <td>ISAQUIEL</td>\n",
       "      <td>40</td>\n",
       "      <td>66</td>\n",
       "      <td>39</td>\n",
       "      <td>42</td>\n",
       "      <td>...</td>\n",
       "      <td>50</td>\n",
       "      <td>40</td>\n",
       "      <td>42</td>\n",
       "      <td>NaN</td>\n",
       "      <td>24</td>\n",
       "      <td>22</td>\n",
       "      <td>37.636364</td>\n",
       "      <td>7.333333</td>\n",
       "      <td>NaN</td>\n",
       "      <td>3.0</td>\n",
       "    </tr>\n",
       "    <tr>\n",
       "      <th>2</th>\n",
       "      <td>ADULTO</td>\n",
       "      <td>CROSSFIT</td>\n",
       "      <td>seg, ter, qua, qui, sex</td>\n",
       "      <td>06:00</td>\n",
       "      <td>MANHÃ</td>\n",
       "      <td>BRUNO</td>\n",
       "      <td>10</td>\n",
       "      <td>12</td>\n",
       "      <td>11</td>\n",
       "      <td>8</td>\n",
       "      <td>...</td>\n",
       "      <td>11</td>\n",
       "      <td>10</td>\n",
       "      <td>9</td>\n",
       "      <td>NaN</td>\n",
       "      <td>NaN</td>\n",
       "      <td>21</td>\n",
       "      <td>10.285714</td>\n",
       "      <td>NaN</td>\n",
       "      <td>NaN</td>\n",
       "      <td>0.0</td>\n",
       "    </tr>\n",
       "  </tbody>\n",
       "</table>\n",
       "<p>3 rows × 34 columns</p>\n",
       "</div>"
      ],
      "text/plain": [
       "    CATEGORIA                   MODALIDADE            DIA DA SEMANA HORÁRIO  \\\n",
       "0  MUSC - C/P  A - MUSCULAÇÃO COM PERSONAL  seg, ter, qua, qui, sex   06:00   \n",
       "1  MUSC - S/P  A - MUSCULAÇÃO SEM PERSONAL  seg, ter, qua, qui, sex   06:00   \n",
       "2      ADULTO                     CROSSFIT  seg, ter, qua, qui, sex   06:00   \n",
       "\n",
       "   TURNO PROFESSOR 2024-10-01 00:00:00 2024-10-02 00:00:00  \\\n",
       "0  MANHÃ  ISAQUIEL                  47                  58   \n",
       "1  MANHÃ  ISAQUIEL                  40                  66   \n",
       "2  MANHÃ     BRUNO                  10                  12   \n",
       "\n",
       "  2024-10-03 00:00:00 2024-10-04 00:00:00  ... 2024-10-25 00:00:00  \\\n",
       "0                  52                  50  ...                  52   \n",
       "1                  39                  42  ...                  50   \n",
       "2                  11                   8  ...                  11   \n",
       "\n",
       "  2024-10-28 00:00:00 2024-10-29 00:00:00 2024-10-30 00:00:00  \\\n",
       "0                  44                  37                 NaN   \n",
       "1                  40                  42                 NaN   \n",
       "2                  10                   9                 NaN   \n",
       "\n",
       "  2024-10-31 00:00:00 Média alunos p/ professor      Média Alunos/professor  \\\n",
       "0                  16                        22  41.727273              NaN   \n",
       "1                  24                        22  37.636364         7.333333   \n",
       "2                 NaN                        21  10.285714              NaN   \n",
       "\n",
       "  Ocupação Máxima Professor  \n",
       "0             NaN       0.0  \n",
       "1             NaN       3.0  \n",
       "2             NaN       0.0  \n",
       "\n",
       "[3 rows x 34 columns]"
      ]
     },
     "execution_count": 134,
     "metadata": {},
     "output_type": "execute_result"
    }
   ],
   "source": [
    "dataEUS.head(3)"
   ]
  },
  {
   "cell_type": "code",
   "execution_count": null,
   "id": "3d1460e7-c9a2-4462-a9f2-22df236dd038",
   "metadata": {},
   "outputs": [],
   "source": []
  },
  {
   "cell_type": "code",
   "execution_count": null,
   "id": "3446c72b-78a0-4411-8d77-ad38b99ed59a",
   "metadata": {},
   "outputs": [],
   "source": []
  },
  {
   "cell_type": "code",
   "execution_count": null,
   "id": "8d886434-9e69-48fa-b7f7-25253a5724d9",
   "metadata": {},
   "outputs": [],
   "source": []
  },
  {
   "cell_type": "markdown",
   "id": "99cc950d-b611-4fe7-8c56-3c61894df8fd",
   "metadata": {},
   "source": [
    "### 2 PASSO: Renomeando strings de datas, para que o pandas possa aceitar como colunas"
   ]
  },
  {
   "cell_type": "code",
   "execution_count": 135,
   "id": "77024e6e-a061-4fb1-938b-0cacb5885b76",
   "metadata": {},
   "outputs": [
    {
     "name": "stdout",
     "output_type": "stream",
     "text": [
      "CATEGORIA\n",
      "MODALIDADE\n",
      "DIA DA SEMANA\n",
      "HORÁRIO\n",
      "TURNO\n",
      "PROFESSOR\n",
      "2024-10-01 00:00:00\n",
      "2024-10-02 00:00:00\n",
      "2024-10-03 00:00:00\n",
      "2024-10-04 00:00:00\n",
      "2024-10-07 00:00:00\n",
      "2024-10-08 00:00:00\n",
      "2024-10-09 00:00:00\n",
      "2024-10-10 00:00:00\n",
      "2024-10-11 00:00:00\n",
      "2024-10-14 00:00:00\n",
      "2024-10-15 00:00:00\n",
      "2024-10-16 00:00:00\n",
      "2024-10-17 00:00:00\n",
      "2024-10-18 00:00:00\n",
      "2024-10-21 00:00:00\n",
      "2024-10-22 00:00:00\n",
      "2024-10-23 00:00:00\n",
      "2024-10-24 00:00:00\n",
      "2024-10-25 00:00:00\n",
      "2024-10-28 00:00:00\n",
      "2024-10-29 00:00:00\n",
      "2024-10-30 00:00:00\n",
      "2024-10-31 00:00:00\n",
      "Média alunos p/ professor\n",
      "Média\n",
      "Alunos/professor\n",
      "Ocupação Máxima\n",
      "Professor\n"
     ]
    }
   ],
   "source": [
    "for columns in dataEUS.columns:\n",
    "    print(columns)"
   ]
  },
  {
   "cell_type": "code",
   "execution_count": 136,
   "id": "53772efa-e03f-4a2e-90e4-4c42cd1a0647",
   "metadata": {},
   "outputs": [],
   "source": [
    "dataEUS.columns = [\n",
    "'CATEGORIA',\n",
    "'MODALIDADE',\n",
    "'DIA DA SEMANA',\n",
    "'HORÁRIO',\n",
    "'TURNO',\n",
    "'PROFESSOR',\n",
    "'2024-10-01 00:00:00',\n",
    "'2024-10-02 00:00:00',\n",
    "'2024-10-03 00:00:00',\n",
    "'2024-10-04 00:00:00',\n",
    "'2024-10-07 00:00:00',\n",
    "'2024-10-08 00:00:00',\n",
    "'2024-10-09 00:00:00',\n",
    "'2024-10-10 00:00:00',\n",
    "'2024-10-11 00:00:00',\n",
    "'2024-10-14 00:00:00',\n",
    "'2024-10-15 00:00:00',\n",
    "'2024-10-16 00:00:00',\n",
    "'2024-10-17 00:00:00',\n",
    "'2024-10-18 00:00:00',\n",
    "'2024-10-21 00:00:00',\n",
    "'2024-10-22 00:00:00',\n",
    "'2024-10-23 00:00:00',\n",
    "'2024-10-24 00:00:00',\n",
    "'2024-10-25 00:00:00',\n",
    "'2024-10-28 00:00:00',\n",
    "'2024-10-29 00:00:00',\n",
    "'2024-10-30 00:00:00',\n",
    "'2024-10-31 00:00:00',\n",
    "'Média alunos p/ professor',\n",
    "'Média',\n",
    "'Alunos/professor',\n",
    "'Ocupação Máxima',\n",
    "'Professor',\n",
    "]"
   ]
  },
  {
   "cell_type": "code",
   "execution_count": 137,
   "id": "cced19a1-0dc3-4a97-a012-1d22535dffc0",
   "metadata": {},
   "outputs": [
    {
     "data": {
      "text/plain": [
       "Index(['CATEGORIA', 'MODALIDADE', 'DIA DA SEMANA', 'HORÁRIO', 'TURNO',\n",
       "       'PROFESSOR', '2024-10-01 00:00:00', '2024-10-02 00:00:00',\n",
       "       '2024-10-03 00:00:00', '2024-10-04 00:00:00', '2024-10-07 00:00:00',\n",
       "       '2024-10-08 00:00:00', '2024-10-09 00:00:00', '2024-10-10 00:00:00',\n",
       "       '2024-10-11 00:00:00', '2024-10-14 00:00:00', '2024-10-15 00:00:00',\n",
       "       '2024-10-16 00:00:00', '2024-10-17 00:00:00', '2024-10-18 00:00:00',\n",
       "       '2024-10-21 00:00:00', '2024-10-22 00:00:00', '2024-10-23 00:00:00',\n",
       "       '2024-10-24 00:00:00', '2024-10-25 00:00:00', '2024-10-28 00:00:00',\n",
       "       '2024-10-29 00:00:00', '2024-10-30 00:00:00', '2024-10-31 00:00:00',\n",
       "       'Média alunos p/ professor', 'Média', 'Alunos/professor',\n",
       "       'Ocupação Máxima', 'Professor'],\n",
       "      dtype='object')"
      ]
     },
     "execution_count": 137,
     "metadata": {},
     "output_type": "execute_result"
    }
   ],
   "source": [
    "dataEUS.columns"
   ]
  },
  {
   "cell_type": "code",
   "execution_count": null,
   "id": "d81ccaeb-d720-48f3-9515-263488811143",
   "metadata": {},
   "outputs": [],
   "source": []
  },
  {
   "cell_type": "code",
   "execution_count": null,
   "id": "924fe11b-4a3b-448a-83e6-a22c591c2338",
   "metadata": {},
   "outputs": [],
   "source": []
  },
  {
   "cell_type": "code",
   "execution_count": null,
   "id": "77337784-b7d8-4c13-8f68-6f0af8b05d82",
   "metadata": {},
   "outputs": [],
   "source": []
  },
  {
   "cell_type": "markdown",
   "id": "cf40e3b9-8005-4fad-bb16-f611d120ecf5",
   "metadata": {},
   "source": [
    "### PASSO 3: Escolhendo colunas com o nome de 'datas', para renomear pelo o tipo dia, mês e ano. e removendo os 00 de horas"
   ]
  },
  {
   "cell_type": "code",
   "execution_count": 138,
   "id": "b0e94cb3-5f25-444d-a926-6f0302739eda",
   "metadata": {},
   "outputs": [],
   "source": [
    "colunas = [\n",
    "'2024-10-01 00:00:00',\n",
    "'2024-10-02 00:00:00',\n",
    "'2024-10-03 00:00:00',\n",
    "'2024-10-04 00:00:00',\n",
    "'2024-10-07 00:00:00',\n",
    "'2024-10-08 00:00:00',\n",
    "'2024-10-09 00:00:00',\n",
    "'2024-10-10 00:00:00',\n",
    "'2024-10-11 00:00:00',\n",
    "'2024-10-14 00:00:00',\n",
    "'2024-10-15 00:00:00',\n",
    "'2024-10-16 00:00:00',\n",
    "'2024-10-17 00:00:00',\n",
    "'2024-10-18 00:00:00',\n",
    "'2024-10-21 00:00:00',\n",
    "'2024-10-22 00:00:00',\n",
    "'2024-10-23 00:00:00',\n",
    "'2024-10-24 00:00:00',\n",
    "'2024-10-25 00:00:00',\n",
    "'2024-10-28 00:00:00',\n",
    "'2024-10-29 00:00:00',\n",
    "'2024-10-30 00:00:00',\n",
    "'2024-10-31 00:00:00',\n",
    "]"
   ]
  },
  {
   "cell_type": "code",
   "execution_count": 139,
   "id": "7b7343b5-8b3d-43a1-a942-9558448938ed",
   "metadata": {},
   "outputs": [],
   "source": [
    "novas_colunas_EUS = []"
   ]
  },
  {
   "cell_type": "code",
   "execution_count": 140,
   "id": "e53a61e3-3b7e-48f6-91b6-a672ff695608",
   "metadata": {},
   "outputs": [],
   "source": [
    "for columns in colunas:\n",
    "    # Remove a parte da hora\n",
    "    data_sem_hora = columns.split(' ')[0]\n",
    "    \n",
    "    # Formata para o formato DD-MM-YYYY\n",
    "    ano, mes, dia = data_sem_hora.split('-')\n",
    "    novo_nome = f'{dia}-{mes}-{ano}'\n",
    "    novas_colunas_EUS.append(novo_nome)"
   ]
  },
  {
   "cell_type": "code",
   "execution_count": 141,
   "id": "0b5c50eb-d19f-43df-9fd4-7e385553eec7",
   "metadata": {},
   "outputs": [
    {
     "data": {
      "text/plain": [
       "['01-10-2024',\n",
       " '02-10-2024',\n",
       " '03-10-2024',\n",
       " '04-10-2024',\n",
       " '07-10-2024',\n",
       " '08-10-2024',\n",
       " '09-10-2024',\n",
       " '10-10-2024',\n",
       " '11-10-2024',\n",
       " '14-10-2024',\n",
       " '15-10-2024',\n",
       " '16-10-2024',\n",
       " '17-10-2024',\n",
       " '18-10-2024',\n",
       " '21-10-2024',\n",
       " '22-10-2024',\n",
       " '23-10-2024',\n",
       " '24-10-2024',\n",
       " '25-10-2024',\n",
       " '28-10-2024',\n",
       " '29-10-2024',\n",
       " '30-10-2024',\n",
       " '31-10-2024']"
      ]
     },
     "execution_count": 141,
     "metadata": {},
     "output_type": "execute_result"
    }
   ],
   "source": [
    "novas_colunas_EUS"
   ]
  },
  {
   "cell_type": "code",
   "execution_count": null,
   "id": "bb5aea01-2183-496d-a6fb-18cf7941c78c",
   "metadata": {},
   "outputs": [],
   "source": []
  },
  {
   "cell_type": "code",
   "execution_count": null,
   "id": "7d8f7932-b3d6-437c-a276-45e862f9912c",
   "metadata": {},
   "outputs": [],
   "source": []
  },
  {
   "cell_type": "code",
   "execution_count": null,
   "id": "93002ca3-a3a8-47c2-bfca-b816cc8d3699",
   "metadata": {},
   "outputs": [],
   "source": []
  },
  {
   "cell_type": "markdown",
   "id": "a3b285a9-cc05-46a8-9bbb-4e31f5cf9e2b",
   "metadata": {},
   "source": [
    "### PASSO 4 renomeando colunas e acrescentando o novo formato "
   ]
  },
  {
   "cell_type": "markdown",
   "id": "e9f0f8ce-47fd-4b09-a61f-c8ed53ab74e6",
   "metadata": {},
   "source": [
    "copie as colunas que escolheu para renomear, e cole o formato novo no lugar das velhas"
   ]
  },
  {
   "cell_type": "code",
   "execution_count": null,
   "id": "490d16a4-602b-4a75-bbe4-a63956cdaf13",
   "metadata": {},
   "outputs": [],
   "source": []
  },
  {
   "cell_type": "code",
   "execution_count": 142,
   "id": "c25bc84e-9608-455c-bb66-11de5b017a16",
   "metadata": {},
   "outputs": [],
   "source": [
    "# Adicionando as datas formatadas as colunas, copiando e colando"
   ]
  },
  {
   "cell_type": "code",
   "execution_count": 143,
   "id": "fdf91e1f-8659-4dcc-a9e3-164fda4abbda",
   "metadata": {},
   "outputs": [
    {
     "name": "stdout",
     "output_type": "stream",
     "text": [
      "CATEGORIA\n",
      "MODALIDADE\n",
      "DIA DA SEMANA\n",
      "HORÁRIO\n",
      "TURNO\n",
      "PROFESSOR\n",
      "2024-10-01 00:00:00\n",
      "2024-10-02 00:00:00\n",
      "2024-10-03 00:00:00\n",
      "2024-10-04 00:00:00\n",
      "2024-10-07 00:00:00\n",
      "2024-10-08 00:00:00\n",
      "2024-10-09 00:00:00\n",
      "2024-10-10 00:00:00\n",
      "2024-10-11 00:00:00\n",
      "2024-10-14 00:00:00\n",
      "2024-10-15 00:00:00\n",
      "2024-10-16 00:00:00\n",
      "2024-10-17 00:00:00\n",
      "2024-10-18 00:00:00\n",
      "2024-10-21 00:00:00\n",
      "2024-10-22 00:00:00\n",
      "2024-10-23 00:00:00\n",
      "2024-10-24 00:00:00\n",
      "2024-10-25 00:00:00\n",
      "2024-10-28 00:00:00\n",
      "2024-10-29 00:00:00\n",
      "2024-10-30 00:00:00\n",
      "2024-10-31 00:00:00\n",
      "Média alunos p/ professor\n",
      "Média\n",
      "Alunos/professor\n",
      "Ocupação Máxima\n",
      "Professor\n"
     ]
    }
   ],
   "source": [
    "for columns in dataEUS.columns:\n",
    "    print (columns)"
   ]
  },
  {
   "cell_type": "code",
   "execution_count": 144,
   "id": "e9d5557e-0d72-417c-82f4-5744f645e525",
   "metadata": {},
   "outputs": [],
   "source": [
    "dataEUS.columns = [\n",
    "'CATEGORIA',\n",
    "'MODALIDADE',\n",
    "'DIA DA SEMANA',\n",
    "'HORÁRIO',\n",
    "'TURNO',\n",
    "'PROFESSOR',\n",
    "'01-10-2024',\n",
    "'02-10-2024',\n",
    "'03-10-2024',\n",
    "'04-10-2024',\n",
    "'07-10-2024',\n",
    "'08-10-2024',\n",
    "'09-10-2024',\n",
    "'10-10-2024',\n",
    "'11-10-2024',\n",
    "'14-10-2024',\n",
    "'15-10-2024',\n",
    "'16-10-2024',\n",
    "'17-10-2024',\n",
    "'18-10-2024',\n",
    "'21-10-2024',\n",
    "'22-10-2024',\n",
    "'23-10-2024',\n",
    "'24-10-2024',\n",
    "'25-10-2024',\n",
    "'28-10-2024',\n",
    "'29-10-2024',\n",
    "'30-10-2024',\n",
    "'31-10-2024',\n",
    "'Média alunos p/ professor',\n",
    "'Média',\n",
    "'Alunos/professor',\n",
    "'Ocupação Máxima',\n",
    "'Professor'\n",
    "]"
   ]
  },
  {
   "cell_type": "code",
   "execution_count": null,
   "id": "92a03f6e-7dd5-4f26-84ed-d2c05c885caa",
   "metadata": {},
   "outputs": [],
   "source": []
  },
  {
   "cell_type": "code",
   "execution_count": null,
   "id": "7e8eb5a7-d1f5-4945-9cf6-0aafa46b3958",
   "metadata": {},
   "outputs": [],
   "source": []
  },
  {
   "cell_type": "code",
   "execution_count": null,
   "id": "d81aaee3-589c-496b-a39f-f33fc0f68a7c",
   "metadata": {},
   "outputs": [],
   "source": []
  },
  {
   "cell_type": "markdown",
   "id": "5f566854-af4a-432f-8329-7f0bdc50adf5",
   "metadata": {},
   "source": [
    "### 5 PASSO: Usar o Loop for para substitituir os valores das frequencia de 'x' e 'X' por zero, com o método do pd.to_numeric) "
   ]
  },
  {
   "cell_type": "markdown",
   "id": "1bd4592b-bae0-4b0f-a0f0-f805078074a0",
   "metadata": {},
   "source": [
    "Escolhendo apenas as colunas de datas"
   ]
  },
  {
   "cell_type": "code",
   "execution_count": 145,
   "id": "938457d4-a736-44f7-aa97-cea7bb574665",
   "metadata": {},
   "outputs": [],
   "source": [
    "colunas = [\n",
    "'01-10-2024',\n",
    "'02-10-2024',\n",
    "'03-10-2024',\n",
    "'04-10-2024',\n",
    "'07-10-2024',\n",
    "'08-10-2024',\n",
    "'09-10-2024',\n",
    "'10-10-2024',\n",
    "'11-10-2024',\n",
    "'14-10-2024',\n",
    "'15-10-2024',\n",
    "'16-10-2024',\n",
    "'17-10-2024',\n",
    "'18-10-2024',\n",
    "'21-10-2024',\n",
    "'22-10-2024',\n",
    "'23-10-2024',\n",
    "'24-10-2024',\n",
    "'25-10-2024',\n",
    "'28-10-2024',\n",
    "'29-10-2024',\n",
    "'30-10-2024',\n",
    "'31-10-2024',   \n",
    "]"
   ]
  },
  {
   "cell_type": "markdown",
   "id": "fd677226-00db-4e03-b1de-a05767afe9ec",
   "metadata": {},
   "source": [
    "Fazendo a limpeza profunda, formatando valores para numeros, preenchendo com zeros os nulos e transformando em inteiros"
   ]
  },
  {
   "cell_type": "code",
   "execution_count": 146,
   "id": "c85dbb00-0fa2-4228-8043-f9c511880e52",
   "metadata": {},
   "outputs": [],
   "source": [
    "for columns in colunas:\n",
    "    # dataMES[columns] = pd.to_numeric(dataMES[columns], errors='coerce')\n",
    "    dataEUS[columns] = pd.to_numeric(dataEUS[columns], errors='coerce').fillna(0).astype(int)"
   ]
  },
  {
   "cell_type": "code",
   "execution_count": null,
   "id": "64df2807-d456-4d2e-aa7a-ce71ecc7ba83",
   "metadata": {},
   "outputs": [],
   "source": []
  },
  {
   "cell_type": "code",
   "execution_count": null,
   "id": "71ad7eea-f661-4605-a961-8bdf023c1876",
   "metadata": {},
   "outputs": [],
   "source": []
  },
  {
   "cell_type": "code",
   "execution_count": null,
   "id": "6d3d6a17-c3d6-43d4-b367-af317c0ab37e",
   "metadata": {},
   "outputs": [],
   "source": []
  },
  {
   "cell_type": "markdown",
   "id": "a6866763-c7f0-4342-998b-6849b492e134",
   "metadata": {},
   "source": [
    "### PASSO 6: MELT derretendo as colunas em formato de datas"
   ]
  },
  {
   "cell_type": "markdown",
   "id": "b4c0906c-6bfa-4722-bc87-e4de3646f73f",
   "metadata": {},
   "source": [
    "o MELT ele pega as colunas que estão na horizontal e cria uma coluna de categorias, e depois ele cria outra coluna com os valores dessas colunas que foram transformadas em dados categóricos"
   ]
  },
  {
   "cell_type": "code",
   "execution_count": 147,
   "id": "7796d794-158a-4de6-8da8-15889f529c03",
   "metadata": {},
   "outputs": [],
   "source": [
    "colunas_para_melt = [\n",
    "'01-10-2024',\n",
    "'02-10-2024',\n",
    "'03-10-2024',\n",
    "'04-10-2024',\n",
    "'07-10-2024',\n",
    "'08-10-2024',\n",
    "'09-10-2024',\n",
    "'10-10-2024',\n",
    "'11-10-2024',\n",
    "'14-10-2024',\n",
    "'15-10-2024',\n",
    "'16-10-2024',\n",
    "'17-10-2024',\n",
    "'18-10-2024',\n",
    "'21-10-2024',\n",
    "'22-10-2024',\n",
    "'23-10-2024',\n",
    "'24-10-2024',\n",
    "'25-10-2024',\n",
    "'28-10-2024',\n",
    "'29-10-2024',\n",
    "'30-10-2024',\n",
    "'31-10-2024', \n",
    "]"
   ]
  },
  {
   "cell_type": "code",
   "execution_count": null,
   "id": "6d9d468e-5364-413a-b5ab-d060de0b2ce8",
   "metadata": {},
   "outputs": [],
   "source": []
  },
  {
   "cell_type": "code",
   "execution_count": null,
   "id": "6f52a031-565d-4b40-92c2-82eb6d84e6cb",
   "metadata": {},
   "outputs": [],
   "source": []
  },
  {
   "cell_type": "code",
   "execution_count": null,
   "id": "0a631aaf-d80f-4eed-9872-50ae1d0eda0e",
   "metadata": {},
   "outputs": [],
   "source": []
  },
  {
   "cell_type": "markdown",
   "id": "013df1b5-c6c5-4d40-973f-f7bac02ceb8c",
   "metadata": {},
   "source": [
    "#### Indentificando as colunas que Eu quero manter em meu dataframe"
   ]
  },
  {
   "cell_type": "code",
   "execution_count": 148,
   "id": "7076e282-f6d1-4ee4-ad0e-35ec9ebd9f9a",
   "metadata": {},
   "outputs": [],
   "source": [
    "# Identifica as colunas que você quer manter como identificadoras (id_vars)\n",
    "# São as colunas que não serão \"unpivoted\"\n",
    "id_vars_cols = [columns for columns in dataEUS.columns if columns not in colunas_para_melt]"
   ]
  },
  {
   "cell_type": "code",
   "execution_count": null,
   "id": "50c89f07-e616-4cd4-8420-872ffa568c4e",
   "metadata": {},
   "outputs": [],
   "source": []
  },
  {
   "cell_type": "code",
   "execution_count": null,
   "id": "259310c6-76ee-4c08-b7ca-20b48c394d6c",
   "metadata": {},
   "outputs": [],
   "source": []
  },
  {
   "cell_type": "code",
   "execution_count": null,
   "id": "4fc9e8e8-56c1-4503-9ef2-8dac3b1072a2",
   "metadata": {},
   "outputs": [],
   "source": []
  },
  {
   "cell_type": "code",
   "execution_count": 149,
   "id": "1a5e5d91-0830-4e2f-942f-9b81e00829a9",
   "metadata": {},
   "outputs": [],
   "source": [
    "dataEUS_melted = pd.melt(dataEUS,\n",
    "                      id_vars=id_vars_cols, #colunas que Eu deixei, que ficaram.\n",
    "                      value_vars=colunas_para_melt, #colunas que vão se transformar.\n",
    "                      var_name='Dias de Aulas', # nome da coluna categorica\n",
    "                      value_name='Frequencia de Alunos') # nome da coluna de valores"
   ]
  },
  {
   "cell_type": "code",
   "execution_count": 150,
   "id": "4a6acde6-e45f-4c4e-8fca-9858a6b3ef19",
   "metadata": {},
   "outputs": [
    {
     "data": {
      "text/html": [
       "<div>\n",
       "<style scoped>\n",
       "    .dataframe tbody tr th:only-of-type {\n",
       "        vertical-align: middle;\n",
       "    }\n",
       "\n",
       "    .dataframe tbody tr th {\n",
       "        vertical-align: top;\n",
       "    }\n",
       "\n",
       "    .dataframe thead th {\n",
       "        text-align: right;\n",
       "    }\n",
       "</style>\n",
       "<table border=\"1\" class=\"dataframe\">\n",
       "  <thead>\n",
       "    <tr style=\"text-align: right;\">\n",
       "      <th></th>\n",
       "      <th>CATEGORIA</th>\n",
       "      <th>MODALIDADE</th>\n",
       "      <th>DIA DA SEMANA</th>\n",
       "      <th>HORÁRIO</th>\n",
       "      <th>TURNO</th>\n",
       "      <th>PROFESSOR</th>\n",
       "      <th>Média alunos p/ professor</th>\n",
       "      <th>Média</th>\n",
       "      <th>Alunos/professor</th>\n",
       "      <th>Ocupação Máxima</th>\n",
       "      <th>Professor</th>\n",
       "      <th>Dias de Aulas</th>\n",
       "      <th>Frequencia de Alunos</th>\n",
       "    </tr>\n",
       "  </thead>\n",
       "  <tbody>\n",
       "    <tr>\n",
       "      <th>0</th>\n",
       "      <td>MUSC - C/P</td>\n",
       "      <td>A - MUSCULAÇÃO COM PERSONAL</td>\n",
       "      <td>seg, ter, qua, qui, sex</td>\n",
       "      <td>06:00</td>\n",
       "      <td>MANHÃ</td>\n",
       "      <td>ISAQUIEL</td>\n",
       "      <td>22</td>\n",
       "      <td>41.727273</td>\n",
       "      <td>NaN</td>\n",
       "      <td>NaN</td>\n",
       "      <td>0.0</td>\n",
       "      <td>01-10-2024</td>\n",
       "      <td>47</td>\n",
       "    </tr>\n",
       "    <tr>\n",
       "      <th>1</th>\n",
       "      <td>MUSC - S/P</td>\n",
       "      <td>A - MUSCULAÇÃO SEM PERSONAL</td>\n",
       "      <td>seg, ter, qua, qui, sex</td>\n",
       "      <td>06:00</td>\n",
       "      <td>MANHÃ</td>\n",
       "      <td>ISAQUIEL</td>\n",
       "      <td>22</td>\n",
       "      <td>37.636364</td>\n",
       "      <td>7.333333</td>\n",
       "      <td>NaN</td>\n",
       "      <td>3.0</td>\n",
       "      <td>01-10-2024</td>\n",
       "      <td>40</td>\n",
       "    </tr>\n",
       "    <tr>\n",
       "      <th>2</th>\n",
       "      <td>ADULTO</td>\n",
       "      <td>CROSSFIT</td>\n",
       "      <td>seg, ter, qua, qui, sex</td>\n",
       "      <td>06:00</td>\n",
       "      <td>MANHÃ</td>\n",
       "      <td>BRUNO</td>\n",
       "      <td>21</td>\n",
       "      <td>10.285714</td>\n",
       "      <td>NaN</td>\n",
       "      <td>NaN</td>\n",
       "      <td>0.0</td>\n",
       "      <td>01-10-2024</td>\n",
       "      <td>10</td>\n",
       "    </tr>\n",
       "  </tbody>\n",
       "</table>\n",
       "</div>"
      ],
      "text/plain": [
       "    CATEGORIA                   MODALIDADE            DIA DA SEMANA HORÁRIO  \\\n",
       "0  MUSC - C/P  A - MUSCULAÇÃO COM PERSONAL  seg, ter, qua, qui, sex   06:00   \n",
       "1  MUSC - S/P  A - MUSCULAÇÃO SEM PERSONAL  seg, ter, qua, qui, sex   06:00   \n",
       "2      ADULTO                     CROSSFIT  seg, ter, qua, qui, sex   06:00   \n",
       "\n",
       "   TURNO PROFESSOR  Média alunos p/ professor      Média  Alunos/professor  \\\n",
       "0  MANHÃ  ISAQUIEL                         22  41.727273               NaN   \n",
       "1  MANHÃ  ISAQUIEL                         22  37.636364          7.333333   \n",
       "2  MANHÃ     BRUNO                         21  10.285714               NaN   \n",
       "\n",
       "   Ocupação Máxima  Professor Dias de Aulas  Frequencia de Alunos  \n",
       "0              NaN        0.0    01-10-2024                    47  \n",
       "1              NaN        3.0    01-10-2024                    40  \n",
       "2              NaN        0.0    01-10-2024                    10  "
      ]
     },
     "execution_count": 150,
     "metadata": {},
     "output_type": "execute_result"
    }
   ],
   "source": [
    "dataEUS_melted.head(3)"
   ]
  },
  {
   "cell_type": "code",
   "execution_count": 151,
   "id": "f84ccd53-f581-46a6-b9a9-9cd8909f5766",
   "metadata": {},
   "outputs": [
    {
     "data": {
      "text/plain": [
       "25089"
      ]
     },
     "execution_count": 151,
     "metadata": {},
     "output_type": "execute_result"
    }
   ],
   "source": [
    "dataEUS_melted['Frequencia de Alunos'].sum()"
   ]
  },
  {
   "cell_type": "markdown",
   "id": "e4b000be-125c-4338-9684-15a89846203b",
   "metadata": {},
   "source": [
    "____"
   ]
  },
  {
   "cell_type": "code",
   "execution_count": null,
   "id": "394d6dc2-1073-4d26-853b-5a37989a5bf9",
   "metadata": {},
   "outputs": [],
   "source": []
  },
  {
   "cell_type": "code",
   "execution_count": null,
   "id": "958526db-310d-4bef-874a-c6e5b6975464",
   "metadata": {},
   "outputs": [],
   "source": []
  },
  {
   "cell_type": "code",
   "execution_count": null,
   "id": "a3df92ad-7158-4ffa-8932-943f78b51e64",
   "metadata": {},
   "outputs": [],
   "source": []
  },
  {
   "cell_type": "markdown",
   "id": "041272a3-e847-4f1c-9639-454b556d55c3",
   "metadata": {},
   "source": [
    "\n",
    "_____"
   ]
  },
  {
   "cell_type": "markdown",
   "id": "69f46955-95b7-48a8-ba79-9f81ef427161",
   "metadata": {},
   "source": [
    "# GUARARÁPES [GUA] - PREPROCESSING 7"
   ]
  },
  {
   "cell_type": "code",
   "execution_count": 152,
   "id": "9a2daf45-ff16-4aef-8292-1c3597c9b6b0",
   "metadata": {},
   "outputs": [],
   "source": [
    "data7 = pd.read_excel('3.2 Mapa de Ocupação - OUT 2024.xlsx', sheet_name='GUA', skiprows=1, nrows=165)"
   ]
  },
  {
   "cell_type": "code",
   "execution_count": 153,
   "id": "9c96e6f4-c9d6-41c8-9f99-fb40a0fd16f3",
   "metadata": {},
   "outputs": [],
   "source": [
    "dataGUA = data7.copy()"
   ]
  },
  {
   "cell_type": "code",
   "execution_count": null,
   "id": "72617312-f18c-48a4-9cdf-159e40ba1dc6",
   "metadata": {},
   "outputs": [],
   "source": []
  },
  {
   "cell_type": "code",
   "execution_count": null,
   "id": "a836a82c-7b9c-4170-8ebd-2d13ed6de9ad",
   "metadata": {},
   "outputs": [],
   "source": []
  },
  {
   "cell_type": "code",
   "execution_count": null,
   "id": "93eb6dab-a934-4c8f-b9cc-e6be20f17034",
   "metadata": {},
   "outputs": [],
   "source": []
  },
  {
   "cell_type": "markdown",
   "id": "d41d649c-a822-4fb4-bb49-ebf2f86425a1",
   "metadata": {},
   "source": [
    "### 1 PASSO: Removendo colunas desnecessárias"
   ]
  },
  {
   "cell_type": "code",
   "execution_count": 154,
   "id": "9026dc42-754b-45aa-b2ae-c938558de2cd",
   "metadata": {},
   "outputs": [
    {
     "data": {
      "text/html": [
       "<div>\n",
       "<style scoped>\n",
       "    .dataframe tbody tr th:only-of-type {\n",
       "        vertical-align: middle;\n",
       "    }\n",
       "\n",
       "    .dataframe tbody tr th {\n",
       "        vertical-align: top;\n",
       "    }\n",
       "\n",
       "    .dataframe thead th {\n",
       "        text-align: right;\n",
       "    }\n",
       "</style>\n",
       "<table border=\"1\" class=\"dataframe\">\n",
       "  <thead>\n",
       "    <tr style=\"text-align: right;\">\n",
       "      <th></th>\n",
       "      <th></th>\n",
       "      <th>Unnamed: 1</th>\n",
       "      <th>Unnamed: 2</th>\n",
       "      <th>CATEGORIA</th>\n",
       "      <th>MODALIDADE</th>\n",
       "      <th>DIA DA SEMANA</th>\n",
       "      <th>HORÁRIO</th>\n",
       "      <th>AUX.1</th>\n",
       "      <th>TURNO</th>\n",
       "      <th>AUX 2</th>\n",
       "      <th>...</th>\n",
       "      <th>2024-10-25 00:00:00</th>\n",
       "      <th>2024-10-28 00:00:00</th>\n",
       "      <th>2024-10-29 00:00:00</th>\n",
       "      <th>2024-10-30 00:00:00</th>\n",
       "      <th>2024-10-31 00:00:00</th>\n",
       "      <th>Média alunos p/ professor</th>\n",
       "      <th>Média</th>\n",
       "      <th>Alunos/professor</th>\n",
       "      <th>Ocupação Máxima</th>\n",
       "      <th>Professor</th>\n",
       "    </tr>\n",
       "  </thead>\n",
       "  <tbody>\n",
       "    <tr>\n",
       "      <th>161</th>\n",
       "      <td>NaN</td>\n",
       "      <td>NaN</td>\n",
       "      <td>NaN</td>\n",
       "      <td>MUSC - C/P</td>\n",
       "      <td>A - MUSCULAÇÃO COM PERSONAL</td>\n",
       "      <td>seg, ter, qua, qui, sex</td>\n",
       "      <td>21:00:00</td>\n",
       "      <td>21:00</td>\n",
       "      <td>NOITE</td>\n",
       "      <td>A - MUSCULAÇÃO COM PERSONAL - 21:00</td>\n",
       "      <td>...</td>\n",
       "      <td>0</td>\n",
       "      <td>0</td>\n",
       "      <td>6</td>\n",
       "      <td>NaN</td>\n",
       "      <td>NaN</td>\n",
       "      <td>21</td>\n",
       "      <td>2.190476</td>\n",
       "      <td>NaN</td>\n",
       "      <td>NaN</td>\n",
       "      <td>0.0</td>\n",
       "    </tr>\n",
       "    <tr>\n",
       "      <th>162</th>\n",
       "      <td>NaN</td>\n",
       "      <td>NaN</td>\n",
       "      <td>NaN</td>\n",
       "      <td>MUSC - S/P</td>\n",
       "      <td>A - MUSCULAÇÃO SEM PERSONAL</td>\n",
       "      <td>seg, ter, qua, qui, sex</td>\n",
       "      <td>21:00:00</td>\n",
       "      <td>21:00</td>\n",
       "      <td>NOITE</td>\n",
       "      <td>A - MUSCULAÇÃO SEM PERSONAL - 21:00</td>\n",
       "      <td>...</td>\n",
       "      <td>20</td>\n",
       "      <td>25</td>\n",
       "      <td>17</td>\n",
       "      <td>NaN</td>\n",
       "      <td>NaN</td>\n",
       "      <td>21</td>\n",
       "      <td>19.619048</td>\n",
       "      <td>10.500000</td>\n",
       "      <td>NaN</td>\n",
       "      <td>2.0</td>\n",
       "    </tr>\n",
       "    <tr>\n",
       "      <th>163</th>\n",
       "      <td>NaN</td>\n",
       "      <td>NaN</td>\n",
       "      <td>NaN</td>\n",
       "      <td>MUSC - S/P</td>\n",
       "      <td>A - MUSCULAÇÃO SEM PERSONAL</td>\n",
       "      <td>seg, ter, qua, qui, sex</td>\n",
       "      <td>22:00:00</td>\n",
       "      <td>22:00</td>\n",
       "      <td>NOITE</td>\n",
       "      <td>A - MUSCULAÇÃO SEM PERSONAL - 22:00</td>\n",
       "      <td>...</td>\n",
       "      <td>3</td>\n",
       "      <td>23</td>\n",
       "      <td>13</td>\n",
       "      <td>NaN</td>\n",
       "      <td>NaN</td>\n",
       "      <td>21</td>\n",
       "      <td>9.428571</td>\n",
       "      <td>4.714286</td>\n",
       "      <td>NaN</td>\n",
       "      <td>2.0</td>\n",
       "    </tr>\n",
       "  </tbody>\n",
       "</table>\n",
       "<p>3 rows × 40 columns</p>\n",
       "</div>"
      ],
      "text/plain": [
       "          Unnamed: 1 Unnamed: 2   CATEGORIA                   MODALIDADE  \\\n",
       "161  NaN         NaN        NaN  MUSC - C/P  A - MUSCULAÇÃO COM PERSONAL   \n",
       "162  NaN         NaN        NaN  MUSC - S/P  A - MUSCULAÇÃO SEM PERSONAL   \n",
       "163  NaN         NaN        NaN  MUSC - S/P  A - MUSCULAÇÃO SEM PERSONAL   \n",
       "\n",
       "               DIA DA SEMANA   HORÁRIO  AUX.1  TURNO  \\\n",
       "161  seg, ter, qua, qui, sex  21:00:00  21:00  NOITE   \n",
       "162  seg, ter, qua, qui, sex  21:00:00  21:00  NOITE   \n",
       "163  seg, ter, qua, qui, sex  22:00:00  22:00  NOITE   \n",
       "\n",
       "                                   AUX 2  ... 2024-10-25 00:00:00  \\\n",
       "161  A - MUSCULAÇÃO COM PERSONAL - 21:00  ...                   0   \n",
       "162  A - MUSCULAÇÃO SEM PERSONAL - 21:00  ...                  20   \n",
       "163  A - MUSCULAÇÃO SEM PERSONAL - 22:00  ...                   3   \n",
       "\n",
       "    2024-10-28 00:00:00 2024-10-29 00:00:00 2024-10-30 00:00:00  \\\n",
       "161                   0                   6                 NaN   \n",
       "162                  25                  17                 NaN   \n",
       "163                  23                  13                 NaN   \n",
       "\n",
       "    2024-10-31 00:00:00 Média alunos p/ professor      Média Alunos/professor  \\\n",
       "161                 NaN                        21   2.190476              NaN   \n",
       "162                 NaN                        21  19.619048        10.500000   \n",
       "163                 NaN                        21   9.428571         4.714286   \n",
       "\n",
       "    Ocupação Máxima Professor  \n",
       "161             NaN       0.0  \n",
       "162             NaN       2.0  \n",
       "163             NaN       2.0  \n",
       "\n",
       "[3 rows x 40 columns]"
      ]
     },
     "execution_count": 154,
     "metadata": {},
     "output_type": "execute_result"
    }
   ],
   "source": [
    "dataGUA.tail(3)"
   ]
  },
  {
   "cell_type": "code",
   "execution_count": 155,
   "id": "83cb35ea-44df-4558-9af5-f5ac1079106e",
   "metadata": {},
   "outputs": [
    {
     "data": {
      "text/plain": [
       "                                                               NaN\n",
       "Unnamed: 1                                                     NaN\n",
       "Unnamed: 2                                                     NaN\n",
       "CATEGORIA                                               MUSC - S/P\n",
       "MODALIDADE                             A - MUSCULAÇÃO SEM PERSONAL\n",
       "DIA DA SEMANA                              seg, ter, qua, qui, sex\n",
       "HORÁRIO                                                   22:00:00\n",
       "AUX.1                                                        22:00\n",
       "TURNO                                                        NOITE\n",
       "AUX 2                          A - MUSCULAÇÃO SEM PERSONAL - 22:00\n",
       "PROFESSOR                                                  GILJOAN\n",
       "AUX 3                        A - MUSCULAÇÃO SEM PERSONAL - GILJOAN\n",
       "2024-10-01 00:00:00                                              8\n",
       "2024-10-02 00:00:00                                             11\n",
       "2024-10-03 00:00:00                                             14\n",
       "2024-10-04 00:00:00                                              4\n",
       "2024-10-07 00:00:00                                             14\n",
       "2024-10-08 00:00:00                                              7\n",
       "2024-10-09 00:00:00                                              6\n",
       "2024-10-10 00:00:00                                              7\n",
       "2024-10-11 00:00:00                                              7\n",
       "2024-10-14 00:00:00                                             12\n",
       "2024-10-15 00:00:00                                             13\n",
       "2024-10-16 00:00:00                                              6\n",
       "2024-10-17 00:00:00                                             10\n",
       "2024-10-18 00:00:00                                              8\n",
       "2024-10-21 00:00:00                                             10\n",
       "2024-10-22 00:00:00                                             12\n",
       "2024-10-23 00:00:00                                              3\n",
       "2024-10-24 00:00:00                                              7\n",
       "2024-10-25 00:00:00                                              3\n",
       "2024-10-28 00:00:00                                             23\n",
       "2024-10-29 00:00:00                                             13\n",
       "2024-10-30 00:00:00                                            NaN\n",
       "2024-10-31 00:00:00                                            NaN\n",
       "Média alunos p/ professor                                       21\n",
       "Média                                                     9.428571\n",
       "Alunos/professor                                          4.714286\n",
       "Ocupação Máxima                                                NaN\n",
       "Professor                                                      2.0\n",
       "Name: 163, dtype: object"
      ]
     },
     "execution_count": 155,
     "metadata": {},
     "output_type": "execute_result"
    }
   ],
   "source": [
    "dataGUA.iloc[-1]"
   ]
  },
  {
   "cell_type": "code",
   "execution_count": 156,
   "id": "042737c0-5a5f-40f9-b05d-759a0de36870",
   "metadata": {},
   "outputs": [
    {
     "data": {
      "text/html": [
       "<div>\n",
       "<style scoped>\n",
       "    .dataframe tbody tr th:only-of-type {\n",
       "        vertical-align: middle;\n",
       "    }\n",
       "\n",
       "    .dataframe tbody tr th {\n",
       "        vertical-align: top;\n",
       "    }\n",
       "\n",
       "    .dataframe thead th {\n",
       "        text-align: right;\n",
       "    }\n",
       "</style>\n",
       "<table border=\"1\" class=\"dataframe\">\n",
       "  <thead>\n",
       "    <tr style=\"text-align: right;\">\n",
       "      <th></th>\n",
       "      <th></th>\n",
       "      <th>Unnamed: 1</th>\n",
       "      <th>Unnamed: 2</th>\n",
       "      <th>AUX 2</th>\n",
       "      <th>AUX 3</th>\n",
       "    </tr>\n",
       "  </thead>\n",
       "  <tbody>\n",
       "    <tr>\n",
       "      <th>0</th>\n",
       "      <td>NaN</td>\n",
       "      <td>NaN</td>\n",
       "      <td>NaN</td>\n",
       "      <td>CROSSFIT - 05:30</td>\n",
       "      <td>CROSSFIT - WESLEY NATAN</td>\n",
       "    </tr>\n",
       "    <tr>\n",
       "      <th>1</th>\n",
       "      <td>NaN</td>\n",
       "      <td>NaN</td>\n",
       "      <td>NaN</td>\n",
       "      <td>A - MUSCULAÇÃO COM PERSONAL - 06:00</td>\n",
       "      <td>A - MUSCULAÇÃO COM PERSONAL - GILJOAN</td>\n",
       "    </tr>\n",
       "  </tbody>\n",
       "</table>\n",
       "</div>"
      ],
      "text/plain": [
       "        Unnamed: 1 Unnamed: 2                                AUX 2  \\\n",
       "0  NaN         NaN        NaN                     CROSSFIT - 05:30   \n",
       "1  NaN         NaN        NaN  A - MUSCULAÇÃO COM PERSONAL - 06:00   \n",
       "\n",
       "                                   AUX 3  \n",
       "0                CROSSFIT - WESLEY NATAN  \n",
       "1  A - MUSCULAÇÃO COM PERSONAL - GILJOAN  "
      ]
     },
     "execution_count": 156,
     "metadata": {},
     "output_type": "execute_result"
    }
   ],
   "source": [
    "dataGUA[[' ', 'Unnamed: 1', 'Unnamed: 2', 'AUX 2', 'AUX 3']].head(2)"
   ]
  },
  {
   "cell_type": "code",
   "execution_count": null,
   "id": "05f3c5a7-a1f5-4ca9-a8f0-78603b92ce93",
   "metadata": {},
   "outputs": [],
   "source": []
  },
  {
   "cell_type": "code",
   "execution_count": null,
   "id": "ed9e8092-a955-413c-842c-97dc588bd8db",
   "metadata": {},
   "outputs": [],
   "source": []
  },
  {
   "cell_type": "code",
   "execution_count": null,
   "id": "098ef3cb-e017-468e-a694-462e22082827",
   "metadata": {},
   "outputs": [],
   "source": []
  },
  {
   "cell_type": "code",
   "execution_count": 157,
   "id": "2fdd30dc-5410-420f-a364-30245445b4ba",
   "metadata": {},
   "outputs": [],
   "source": [
    "dropColuns = [' ', 'Unnamed: 1', 'Unnamed: 2', 'AUX 2', 'AUX 3', 'HORÁRIO']"
   ]
  },
  {
   "cell_type": "code",
   "execution_count": 158,
   "id": "869b90d3-53e2-4003-8f25-69b7cacb35c3",
   "metadata": {},
   "outputs": [],
   "source": [
    "dataGUA.drop(columns=dropColuns, inplace=True)"
   ]
  },
  {
   "cell_type": "markdown",
   "id": "cb1c40ac-8fe8-4729-9452-94edbb4e0add",
   "metadata": {},
   "source": [
    "- PRECISAMOS RENOMEAR A COLUNA AUX.1 COMO HORARIO"
   ]
  },
  {
   "cell_type": "code",
   "execution_count": 159,
   "id": "e291ff6b-4ef3-4db6-99a9-43228532343b",
   "metadata": {},
   "outputs": [],
   "source": [
    "dataGUA.rename(columns={'AUX.1': 'HORÁRIO'}, inplace=True)"
   ]
  },
  {
   "cell_type": "code",
   "execution_count": 160,
   "id": "b9ba64d2-9ad5-41ac-8c89-cb63004aeeb9",
   "metadata": {},
   "outputs": [
    {
     "data": {
      "text/html": [
       "<div>\n",
       "<style scoped>\n",
       "    .dataframe tbody tr th:only-of-type {\n",
       "        vertical-align: middle;\n",
       "    }\n",
       "\n",
       "    .dataframe tbody tr th {\n",
       "        vertical-align: top;\n",
       "    }\n",
       "\n",
       "    .dataframe thead th {\n",
       "        text-align: right;\n",
       "    }\n",
       "</style>\n",
       "<table border=\"1\" class=\"dataframe\">\n",
       "  <thead>\n",
       "    <tr style=\"text-align: right;\">\n",
       "      <th></th>\n",
       "      <th>CATEGORIA</th>\n",
       "      <th>MODALIDADE</th>\n",
       "      <th>DIA DA SEMANA</th>\n",
       "      <th>HORÁRIO</th>\n",
       "      <th>TURNO</th>\n",
       "      <th>PROFESSOR</th>\n",
       "      <th>2024-10-01 00:00:00</th>\n",
       "      <th>2024-10-02 00:00:00</th>\n",
       "      <th>2024-10-03 00:00:00</th>\n",
       "      <th>2024-10-04 00:00:00</th>\n",
       "      <th>...</th>\n",
       "      <th>2024-10-25 00:00:00</th>\n",
       "      <th>2024-10-28 00:00:00</th>\n",
       "      <th>2024-10-29 00:00:00</th>\n",
       "      <th>2024-10-30 00:00:00</th>\n",
       "      <th>2024-10-31 00:00:00</th>\n",
       "      <th>Média alunos p/ professor</th>\n",
       "      <th>Média</th>\n",
       "      <th>Alunos/professor</th>\n",
       "      <th>Ocupação Máxima</th>\n",
       "      <th>Professor</th>\n",
       "    </tr>\n",
       "  </thead>\n",
       "  <tbody>\n",
       "    <tr>\n",
       "      <th>0</th>\n",
       "      <td>ADULTO</td>\n",
       "      <td>CROSSFIT</td>\n",
       "      <td>seg, ter, qua, qui, sex</td>\n",
       "      <td>05:30</td>\n",
       "      <td>MANHÃ</td>\n",
       "      <td>WESLEY NATAN</td>\n",
       "      <td>10</td>\n",
       "      <td>5</td>\n",
       "      <td>10</td>\n",
       "      <td>12</td>\n",
       "      <td>...</td>\n",
       "      <td>11</td>\n",
       "      <td>10</td>\n",
       "      <td>12</td>\n",
       "      <td>10</td>\n",
       "      <td>NaN</td>\n",
       "      <td>22</td>\n",
       "      <td>11.227273</td>\n",
       "      <td>NaN</td>\n",
       "      <td>NaN</td>\n",
       "      <td>0.0</td>\n",
       "    </tr>\n",
       "    <tr>\n",
       "      <th>1</th>\n",
       "      <td>MUSC - C/P</td>\n",
       "      <td>A - MUSCULAÇÃO COM PERSONAL</td>\n",
       "      <td>seg, ter, qua, qui, sex</td>\n",
       "      <td>06:00</td>\n",
       "      <td>MANHÃ</td>\n",
       "      <td>GILJOAN</td>\n",
       "      <td>26</td>\n",
       "      <td>20</td>\n",
       "      <td>22</td>\n",
       "      <td>24</td>\n",
       "      <td>...</td>\n",
       "      <td>24</td>\n",
       "      <td>28</td>\n",
       "      <td>34</td>\n",
       "      <td>28</td>\n",
       "      <td>NaN</td>\n",
       "      <td>22</td>\n",
       "      <td>26.772727</td>\n",
       "      <td>NaN</td>\n",
       "      <td>NaN</td>\n",
       "      <td>0.0</td>\n",
       "    </tr>\n",
       "  </tbody>\n",
       "</table>\n",
       "<p>2 rows × 34 columns</p>\n",
       "</div>"
      ],
      "text/plain": [
       "    CATEGORIA                   MODALIDADE            DIA DA SEMANA HORÁRIO  \\\n",
       "0      ADULTO                     CROSSFIT  seg, ter, qua, qui, sex   05:30   \n",
       "1  MUSC - C/P  A - MUSCULAÇÃO COM PERSONAL  seg, ter, qua, qui, sex   06:00   \n",
       "\n",
       "   TURNO     PROFESSOR 2024-10-01 00:00:00 2024-10-02 00:00:00  \\\n",
       "0  MANHÃ  WESLEY NATAN                  10                   5   \n",
       "1  MANHÃ       GILJOAN                  26                  20   \n",
       "\n",
       "  2024-10-03 00:00:00 2024-10-04 00:00:00  ... 2024-10-25 00:00:00  \\\n",
       "0                  10                  12  ...                  11   \n",
       "1                  22                  24  ...                  24   \n",
       "\n",
       "  2024-10-28 00:00:00 2024-10-29 00:00:00 2024-10-30 00:00:00  \\\n",
       "0                  10                  12                  10   \n",
       "1                  28                  34                  28   \n",
       "\n",
       "  2024-10-31 00:00:00 Média alunos p/ professor      Média Alunos/professor  \\\n",
       "0                 NaN                        22  11.227273              NaN   \n",
       "1                 NaN                        22  26.772727              NaN   \n",
       "\n",
       "  Ocupação Máxima Professor  \n",
       "0             NaN       0.0  \n",
       "1             NaN       0.0  \n",
       "\n",
       "[2 rows x 34 columns]"
      ]
     },
     "execution_count": 160,
     "metadata": {},
     "output_type": "execute_result"
    }
   ],
   "source": [
    "dataGUA.head(2)"
   ]
  },
  {
   "cell_type": "code",
   "execution_count": null,
   "id": "930a48ce-3277-4f9a-b85d-c723fcefa7f6",
   "metadata": {},
   "outputs": [],
   "source": []
  },
  {
   "cell_type": "code",
   "execution_count": null,
   "id": "744fbca1-732a-46e8-857c-9e016504439b",
   "metadata": {},
   "outputs": [],
   "source": []
  },
  {
   "cell_type": "code",
   "execution_count": null,
   "id": "4cd3c5e6-9e3c-417e-9004-cb181d7fdc74",
   "metadata": {},
   "outputs": [],
   "source": []
  },
  {
   "cell_type": "markdown",
   "id": "2fb99fb0-cd6a-47af-bc0b-4c0999d42fde",
   "metadata": {},
   "source": [
    "### 2 PASSO: Renomeando strings de datas, para que o pandas possa aceitar como colunas"
   ]
  },
  {
   "cell_type": "code",
   "execution_count": 161,
   "id": "353b1fc3-a219-4275-8c1d-128ec3d00ff5",
   "metadata": {},
   "outputs": [
    {
     "name": "stdout",
     "output_type": "stream",
     "text": [
      "CATEGORIA\n",
      "MODALIDADE\n",
      "DIA DA SEMANA\n",
      "HORÁRIO\n",
      "TURNO\n",
      "PROFESSOR\n",
      "2024-10-01 00:00:00\n",
      "2024-10-02 00:00:00\n",
      "2024-10-03 00:00:00\n",
      "2024-10-04 00:00:00\n",
      "2024-10-07 00:00:00\n",
      "2024-10-08 00:00:00\n",
      "2024-10-09 00:00:00\n",
      "2024-10-10 00:00:00\n",
      "2024-10-11 00:00:00\n",
      "2024-10-14 00:00:00\n",
      "2024-10-15 00:00:00\n",
      "2024-10-16 00:00:00\n",
      "2024-10-17 00:00:00\n",
      "2024-10-18 00:00:00\n",
      "2024-10-21 00:00:00\n",
      "2024-10-22 00:00:00\n",
      "2024-10-23 00:00:00\n",
      "2024-10-24 00:00:00\n",
      "2024-10-25 00:00:00\n",
      "2024-10-28 00:00:00\n",
      "2024-10-29 00:00:00\n",
      "2024-10-30 00:00:00\n",
      "2024-10-31 00:00:00\n",
      "Média alunos p/ professor\n",
      "Média\n",
      "Alunos/professor\n",
      "Ocupação Máxima\n",
      "Professor\n"
     ]
    }
   ],
   "source": [
    "for columns in dataGUA.columns:\n",
    "    print(columns)"
   ]
  },
  {
   "cell_type": "code",
   "execution_count": 162,
   "id": "6828a99b-aeee-4768-9ca6-a8a5d3a21a39",
   "metadata": {},
   "outputs": [],
   "source": [
    "dataGUA.columns = [\n",
    "'CATEGORIA',\n",
    "'MODALIDADE',\n",
    "'DIA DA SEMANA',\n",
    "'HORÁRIO',\n",
    "'TURNO',\n",
    "'PROFESSOR',\n",
    "'2024-10-01 00:00:00',\n",
    "'2024-10-02 00:00:00',\n",
    "'2024-10-03 00:00:00',\n",
    "'2024-10-04 00:00:00',\n",
    "'2024-10-07 00:00:00',\n",
    "'2024-10-08 00:00:00',\n",
    "'2024-10-09 00:00:00',\n",
    "'2024-10-10 00:00:00',\n",
    "'2024-10-11 00:00:00',\n",
    "'2024-10-14 00:00:00',\n",
    "'2024-10-15 00:00:00',\n",
    "'2024-10-16 00:00:00',\n",
    "'2024-10-17 00:00:00',\n",
    "'2024-10-18 00:00:00',\n",
    "'2024-10-21 00:00:00',\n",
    "'2024-10-22 00:00:00',\n",
    "'2024-10-23 00:00:00',\n",
    "'2024-10-24 00:00:00',\n",
    "'2024-10-25 00:00:00',\n",
    "'2024-10-28 00:00:00',\n",
    "'2024-10-29 00:00:00',\n",
    "'2024-10-30 00:00:00',\n",
    "'2024-10-31 00:00:00',\n",
    "'Média alunos p/ professor',\n",
    "'Média',\n",
    "'Alunos/professor',\n",
    "'Ocupação Máxima',\n",
    "'Professor',\n",
    "]"
   ]
  },
  {
   "cell_type": "code",
   "execution_count": 163,
   "id": "514806e3-4a6a-4893-8fd2-fb8e237f7251",
   "metadata": {},
   "outputs": [
    {
     "data": {
      "text/plain": [
       "Index(['CATEGORIA', 'MODALIDADE', 'DIA DA SEMANA', 'HORÁRIO', 'TURNO',\n",
       "       'PROFESSOR', '2024-10-01 00:00:00', '2024-10-02 00:00:00',\n",
       "       '2024-10-03 00:00:00', '2024-10-04 00:00:00', '2024-10-07 00:00:00',\n",
       "       '2024-10-08 00:00:00', '2024-10-09 00:00:00', '2024-10-10 00:00:00',\n",
       "       '2024-10-11 00:00:00', '2024-10-14 00:00:00', '2024-10-15 00:00:00',\n",
       "       '2024-10-16 00:00:00', '2024-10-17 00:00:00', '2024-10-18 00:00:00',\n",
       "       '2024-10-21 00:00:00', '2024-10-22 00:00:00', '2024-10-23 00:00:00',\n",
       "       '2024-10-24 00:00:00', '2024-10-25 00:00:00', '2024-10-28 00:00:00',\n",
       "       '2024-10-29 00:00:00', '2024-10-30 00:00:00', '2024-10-31 00:00:00',\n",
       "       'Média alunos p/ professor', 'Média', 'Alunos/professor',\n",
       "       'Ocupação Máxima', 'Professor'],\n",
       "      dtype='object')"
      ]
     },
     "execution_count": 163,
     "metadata": {},
     "output_type": "execute_result"
    }
   ],
   "source": [
    "dataGUA.columns"
   ]
  },
  {
   "cell_type": "code",
   "execution_count": null,
   "id": "a24de11e-ee75-4fc3-8ff5-0b7a45e9e3c6",
   "metadata": {},
   "outputs": [],
   "source": []
  },
  {
   "cell_type": "code",
   "execution_count": null,
   "id": "8e0010c0-1495-48a4-afcb-5c28946e4cb6",
   "metadata": {},
   "outputs": [],
   "source": []
  },
  {
   "cell_type": "code",
   "execution_count": null,
   "id": "5bb70663-637c-4e1e-8502-b2810093a273",
   "metadata": {},
   "outputs": [],
   "source": []
  },
  {
   "cell_type": "markdown",
   "id": "4747c28b-c3cb-43ab-a8e5-d6a0b68e5cc6",
   "metadata": {},
   "source": [
    "### PASSO 3: Escolhendo colunas com o nome de 'datas', para renomear pelo o tipo dia, mês e ano. e removendo os 00 de horas"
   ]
  },
  {
   "cell_type": "code",
   "execution_count": 164,
   "id": "a12de310-f3fd-4ff4-a082-b9b6c133c87f",
   "metadata": {},
   "outputs": [],
   "source": [
    "colunas = [\n",
    "'2024-10-01 00:00:00',\n",
    "'2024-10-02 00:00:00',\n",
    "'2024-10-03 00:00:00',\n",
    "'2024-10-04 00:00:00',\n",
    "'2024-10-07 00:00:00',\n",
    "'2024-10-08 00:00:00',\n",
    "'2024-10-09 00:00:00',\n",
    "'2024-10-10 00:00:00',\n",
    "'2024-10-11 00:00:00',\n",
    "'2024-10-14 00:00:00',\n",
    "'2024-10-15 00:00:00',\n",
    "'2024-10-16 00:00:00',\n",
    "'2024-10-17 00:00:00',\n",
    "'2024-10-18 00:00:00',\n",
    "'2024-10-21 00:00:00',\n",
    "'2024-10-22 00:00:00',\n",
    "'2024-10-23 00:00:00',\n",
    "'2024-10-24 00:00:00',\n",
    "'2024-10-25 00:00:00',\n",
    "'2024-10-28 00:00:00',\n",
    "'2024-10-29 00:00:00',\n",
    "'2024-10-30 00:00:00',\n",
    "'2024-10-31 00:00:00',\n",
    "]"
   ]
  },
  {
   "cell_type": "code",
   "execution_count": 165,
   "id": "75e6351f-0208-40fc-b681-69dc3140b053",
   "metadata": {},
   "outputs": [],
   "source": [
    "novas_colunas_GUA = []"
   ]
  },
  {
   "cell_type": "code",
   "execution_count": 166,
   "id": "bb33cf96-eb5e-4a66-99ab-849244a65b71",
   "metadata": {},
   "outputs": [],
   "source": [
    "for columns in colunas:\n",
    "    # Remove a parte da hora\n",
    "    data_sem_hora = columns.split(' ')[0]\n",
    "    \n",
    "    # Formata para o formato DD-MM-YYYY\n",
    "    ano, mes, dia = data_sem_hora.split('-')\n",
    "    novo_nome = f'{dia}-{mes}-{ano}'\n",
    "    novas_colunas_GUA.append(novo_nome)"
   ]
  },
  {
   "cell_type": "code",
   "execution_count": 167,
   "id": "4e591f02-69ed-4467-8c40-d9bbe1093f32",
   "metadata": {},
   "outputs": [
    {
     "data": {
      "text/plain": [
       "['01-10-2024',\n",
       " '02-10-2024',\n",
       " '03-10-2024',\n",
       " '04-10-2024',\n",
       " '07-10-2024',\n",
       " '08-10-2024',\n",
       " '09-10-2024',\n",
       " '10-10-2024',\n",
       " '11-10-2024',\n",
       " '14-10-2024',\n",
       " '15-10-2024',\n",
       " '16-10-2024',\n",
       " '17-10-2024',\n",
       " '18-10-2024',\n",
       " '21-10-2024',\n",
       " '22-10-2024',\n",
       " '23-10-2024',\n",
       " '24-10-2024',\n",
       " '25-10-2024',\n",
       " '28-10-2024',\n",
       " '29-10-2024',\n",
       " '30-10-2024',\n",
       " '31-10-2024']"
      ]
     },
     "execution_count": 167,
     "metadata": {},
     "output_type": "execute_result"
    }
   ],
   "source": [
    "novas_colunas_GUA"
   ]
  },
  {
   "cell_type": "code",
   "execution_count": null,
   "id": "324a41f5-4540-43bb-989d-971e98847ac5",
   "metadata": {},
   "outputs": [],
   "source": []
  },
  {
   "cell_type": "code",
   "execution_count": null,
   "id": "c371f457-88eb-4122-94b9-d2fc9104b2cb",
   "metadata": {},
   "outputs": [],
   "source": []
  },
  {
   "cell_type": "code",
   "execution_count": null,
   "id": "ad651edd-1ff4-4c1b-ab2f-df81dc51174b",
   "metadata": {},
   "outputs": [],
   "source": []
  },
  {
   "cell_type": "markdown",
   "id": "255d7f5a-3972-4b6b-9dcd-b2a7ad231438",
   "metadata": {},
   "source": [
    "### PASSO 4 renomeando colunas e acrescentando o novo formato "
   ]
  },
  {
   "cell_type": "markdown",
   "id": "eafc71f4-f836-4318-9a50-a5ef6b313826",
   "metadata": {},
   "source": [
    "copie as colunas que escolheu para renomear, e cole o formato novo no lugar das velhas"
   ]
  },
  {
   "cell_type": "code",
   "execution_count": null,
   "id": "f97bc6f2-2447-4376-9133-4ead0b8b7766",
   "metadata": {},
   "outputs": [],
   "source": []
  },
  {
   "cell_type": "code",
   "execution_count": 168,
   "id": "6038f1fc-a11b-4cdc-b92b-37171f843552",
   "metadata": {},
   "outputs": [],
   "source": [
    "# Adicionando as datas formatadas as colunas, copiando e colando"
   ]
  },
  {
   "cell_type": "code",
   "execution_count": 169,
   "id": "53378b8c-0c57-481d-8b65-58c726877e4d",
   "metadata": {},
   "outputs": [
    {
     "name": "stdout",
     "output_type": "stream",
     "text": [
      "CATEGORIA\n",
      "MODALIDADE\n",
      "DIA DA SEMANA\n",
      "HORÁRIO\n",
      "TURNO\n",
      "PROFESSOR\n",
      "2024-10-01 00:00:00\n",
      "2024-10-02 00:00:00\n",
      "2024-10-03 00:00:00\n",
      "2024-10-04 00:00:00\n",
      "2024-10-07 00:00:00\n",
      "2024-10-08 00:00:00\n",
      "2024-10-09 00:00:00\n",
      "2024-10-10 00:00:00\n",
      "2024-10-11 00:00:00\n",
      "2024-10-14 00:00:00\n",
      "2024-10-15 00:00:00\n",
      "2024-10-16 00:00:00\n",
      "2024-10-17 00:00:00\n",
      "2024-10-18 00:00:00\n",
      "2024-10-21 00:00:00\n",
      "2024-10-22 00:00:00\n",
      "2024-10-23 00:00:00\n",
      "2024-10-24 00:00:00\n",
      "2024-10-25 00:00:00\n",
      "2024-10-28 00:00:00\n",
      "2024-10-29 00:00:00\n",
      "2024-10-30 00:00:00\n",
      "2024-10-31 00:00:00\n",
      "Média alunos p/ professor\n",
      "Média\n",
      "Alunos/professor\n",
      "Ocupação Máxima\n",
      "Professor\n"
     ]
    }
   ],
   "source": [
    "for columns in dataGUA.columns:\n",
    "    print (columns)"
   ]
  },
  {
   "cell_type": "code",
   "execution_count": 170,
   "id": "b0db46a6-9630-4804-94bc-c1237b02d81a",
   "metadata": {},
   "outputs": [],
   "source": [
    "dataGUA.columns = [\n",
    "'CATEGORIA',\n",
    "'MODALIDADE',\n",
    "'DIA DA SEMANA',\n",
    "'HORÁRIO',\n",
    "'TURNO',\n",
    "'PROFESSOR',\n",
    "'01-10-2024',\n",
    "'02-10-2024',\n",
    "'03-10-2024',\n",
    "'04-10-2024',\n",
    "'07-10-2024',\n",
    "'08-10-2024',\n",
    "'09-10-2024',\n",
    "'10-10-2024',\n",
    "'11-10-2024',\n",
    "'14-10-2024',\n",
    "'15-10-2024',\n",
    "'16-10-2024',\n",
    "'17-10-2024',\n",
    "'18-10-2024',\n",
    "'21-10-2024',\n",
    "'22-10-2024',\n",
    "'23-10-2024',\n",
    "'24-10-2024',\n",
    "'25-10-2024',\n",
    "'28-10-2024',\n",
    "'29-10-2024',\n",
    "'30-10-2024',\n",
    "'31-10-2024',\n",
    "'Média alunos p/ professor',\n",
    "'Média',\n",
    "'Alunos/professor',\n",
    "'Ocupação Máxima',\n",
    "'Professor',\n",
    "]"
   ]
  },
  {
   "cell_type": "code",
   "execution_count": null,
   "id": "156d385b-d8c8-4359-99ac-a8c79c489f1b",
   "metadata": {},
   "outputs": [],
   "source": []
  },
  {
   "cell_type": "code",
   "execution_count": null,
   "id": "450b35bc-b252-4a72-b620-f7d305b8d825",
   "metadata": {},
   "outputs": [],
   "source": []
  },
  {
   "cell_type": "code",
   "execution_count": null,
   "id": "3781f9de-f19e-4aec-ba98-1e85e4e0d62c",
   "metadata": {},
   "outputs": [],
   "source": []
  },
  {
   "cell_type": "markdown",
   "id": "2b05aae9-72ba-44be-a967-436c6628b121",
   "metadata": {},
   "source": [
    "### 5 PASSO: Usar o Loop for para substitituir os valores das frequencia de 'x' e 'X' por zero, com o método do pd.to_numeric) "
   ]
  },
  {
   "cell_type": "code",
   "execution_count": 171,
   "id": "d7845f1a-c71f-4d77-ade5-2acf9e119d8d",
   "metadata": {},
   "outputs": [],
   "source": [
    "colunas = [\n",
    "'01-10-2024',\n",
    "'02-10-2024',\n",
    "'03-10-2024',\n",
    "'04-10-2024',\n",
    "'07-10-2024',\n",
    "'08-10-2024',\n",
    "'09-10-2024',\n",
    "'10-10-2024',\n",
    "'11-10-2024',\n",
    "'14-10-2024',\n",
    "'15-10-2024',\n",
    "'16-10-2024',\n",
    "'17-10-2024',\n",
    "'18-10-2024',\n",
    "'21-10-2024',\n",
    "'22-10-2024',\n",
    "'23-10-2024',\n",
    "'24-10-2024',\n",
    "'25-10-2024',\n",
    "'28-10-2024',\n",
    "'29-10-2024',\n",
    "'30-10-2024',\n",
    "'31-10-2024',\n",
    "]"
   ]
  },
  {
   "cell_type": "markdown",
   "id": "2e88a9ff-c784-4d38-bd39-fba9740641a9",
   "metadata": {},
   "source": [
    "Fazendo a limpeza profunda, formatando valores para numeros, preenchendo com zeros os nulos e transformando em inteiros"
   ]
  },
  {
   "cell_type": "code",
   "execution_count": 172,
   "id": "b97b9bc8-cc39-49ba-92ab-3d18a91e7dd1",
   "metadata": {},
   "outputs": [],
   "source": [
    "for columns in colunas:\n",
    "    # dataMES[columns] = pd.to_numeric(dataMES[columns], errors='coerce')\n",
    "    dataGUA[columns] = pd.to_numeric(dataGUA[columns], errors='coerce').fillna(0).astype(int)"
   ]
  },
  {
   "cell_type": "code",
   "execution_count": null,
   "id": "66bf6d3a-216f-4aed-8f29-547b9208c2f7",
   "metadata": {},
   "outputs": [],
   "source": []
  },
  {
   "cell_type": "code",
   "execution_count": null,
   "id": "86b678e7-6ec9-4117-af59-5c1997119840",
   "metadata": {},
   "outputs": [],
   "source": []
  },
  {
   "cell_type": "code",
   "execution_count": null,
   "id": "f1dfd3a7-c190-447b-88d2-0a7942d5e42b",
   "metadata": {},
   "outputs": [],
   "source": []
  },
  {
   "cell_type": "markdown",
   "id": "6163db65-1a12-44d7-a4c6-fef111e45d08",
   "metadata": {},
   "source": [
    "### PASSO 6: MELT derretendo as colunas em formato de datas"
   ]
  },
  {
   "cell_type": "markdown",
   "id": "da634d18-47c0-40db-8263-892cb2a57e64",
   "metadata": {},
   "source": [
    "o MELT ele pega as colunas que estão na horizontal e cria uma coluna de categorias, e depois ele cria outra coluna com os valores dessas colunas que foram transformadas em dados categóricos"
   ]
  },
  {
   "cell_type": "code",
   "execution_count": 173,
   "id": "2694d505-6e05-415b-8485-193f07bf6566",
   "metadata": {},
   "outputs": [],
   "source": [
    "colunas_para_melt = [\n",
    "'01-10-2024',\n",
    "'02-10-2024',\n",
    "'03-10-2024',\n",
    "'04-10-2024',\n",
    "'07-10-2024',\n",
    "'08-10-2024',\n",
    "'09-10-2024',\n",
    "'10-10-2024',\n",
    "'11-10-2024',\n",
    "'14-10-2024',\n",
    "'15-10-2024',\n",
    "'16-10-2024',\n",
    "'17-10-2024',\n",
    "'18-10-2024',\n",
    "'21-10-2024',\n",
    "'22-10-2024',\n",
    "'23-10-2024',\n",
    "'24-10-2024',\n",
    "'25-10-2024',\n",
    "'28-10-2024',\n",
    "'29-10-2024',\n",
    "'30-10-2024',\n",
    "'31-10-2024', \n",
    "]"
   ]
  },
  {
   "cell_type": "code",
   "execution_count": null,
   "id": "2054326c-5155-42da-b61e-cda243111f1f",
   "metadata": {},
   "outputs": [],
   "source": []
  },
  {
   "cell_type": "code",
   "execution_count": null,
   "id": "94486c08-7030-4da5-a3e8-6cfbf5f3df8f",
   "metadata": {},
   "outputs": [],
   "source": []
  },
  {
   "cell_type": "code",
   "execution_count": null,
   "id": "d9caf99d-6949-4a1c-901b-560b432692b4",
   "metadata": {},
   "outputs": [],
   "source": []
  },
  {
   "cell_type": "markdown",
   "id": "c8b3efd9-7ae6-47bd-a36f-d02966062c7c",
   "metadata": {},
   "source": [
    "#### Indentificando as colunas que Eu quero manter em meu dataframe"
   ]
  },
  {
   "cell_type": "code",
   "execution_count": 174,
   "id": "92f1e827-38c4-4f28-8e04-a862386f3079",
   "metadata": {},
   "outputs": [],
   "source": [
    "# Identifica as colunas que você quer manter como identificadoras (id_vars)\n",
    "# São as colunas que não serão \"unpivoted\"\n",
    "id_vars_cols = [columns for columns in dataGUA.columns if columns not in colunas_para_melt]"
   ]
  },
  {
   "cell_type": "code",
   "execution_count": null,
   "id": "915aa966-edfd-4784-982f-2a2ad191ca11",
   "metadata": {},
   "outputs": [],
   "source": []
  },
  {
   "cell_type": "code",
   "execution_count": null,
   "id": "74e76602-f6d7-4ee9-8053-6386cce43521",
   "metadata": {},
   "outputs": [],
   "source": []
  },
  {
   "cell_type": "code",
   "execution_count": 175,
   "id": "9d980ebb-cecb-44a0-a2ff-565f9c546d84",
   "metadata": {},
   "outputs": [],
   "source": [
    "dataGUA_melted = pd.melt(dataGUA,\n",
    "                      id_vars=id_vars_cols, #colunas que Eu deixei, que ficaram.\n",
    "                      value_vars=colunas_para_melt, #colunas que vão se transformar.\n",
    "                      var_name='Dias de Aulas', # nome da coluna categorica\n",
    "                      value_name='Frequencia de Alunos') # nome da coluna de valores"
   ]
  },
  {
   "cell_type": "code",
   "execution_count": 176,
   "id": "0bbc0acf-4749-40ea-ba93-ff2795505dc0",
   "metadata": {},
   "outputs": [
    {
     "data": {
      "text/html": [
       "<div>\n",
       "<style scoped>\n",
       "    .dataframe tbody tr th:only-of-type {\n",
       "        vertical-align: middle;\n",
       "    }\n",
       "\n",
       "    .dataframe tbody tr th {\n",
       "        vertical-align: top;\n",
       "    }\n",
       "\n",
       "    .dataframe thead th {\n",
       "        text-align: right;\n",
       "    }\n",
       "</style>\n",
       "<table border=\"1\" class=\"dataframe\">\n",
       "  <thead>\n",
       "    <tr style=\"text-align: right;\">\n",
       "      <th></th>\n",
       "      <th>CATEGORIA</th>\n",
       "      <th>MODALIDADE</th>\n",
       "      <th>DIA DA SEMANA</th>\n",
       "      <th>HORÁRIO</th>\n",
       "      <th>TURNO</th>\n",
       "      <th>PROFESSOR</th>\n",
       "      <th>Média alunos p/ professor</th>\n",
       "      <th>Média</th>\n",
       "      <th>Alunos/professor</th>\n",
       "      <th>Ocupação Máxima</th>\n",
       "      <th>Professor</th>\n",
       "      <th>Dias de Aulas</th>\n",
       "      <th>Frequencia de Alunos</th>\n",
       "    </tr>\n",
       "  </thead>\n",
       "  <tbody>\n",
       "    <tr>\n",
       "      <th>0</th>\n",
       "      <td>ADULTO</td>\n",
       "      <td>CROSSFIT</td>\n",
       "      <td>seg, ter, qua, qui, sex</td>\n",
       "      <td>05:30</td>\n",
       "      <td>MANHÃ</td>\n",
       "      <td>WESLEY NATAN</td>\n",
       "      <td>22</td>\n",
       "      <td>11.227273</td>\n",
       "      <td>NaN</td>\n",
       "      <td>NaN</td>\n",
       "      <td>0.0</td>\n",
       "      <td>01-10-2024</td>\n",
       "      <td>10</td>\n",
       "    </tr>\n",
       "    <tr>\n",
       "      <th>1</th>\n",
       "      <td>MUSC - C/P</td>\n",
       "      <td>A - MUSCULAÇÃO COM PERSONAL</td>\n",
       "      <td>seg, ter, qua, qui, sex</td>\n",
       "      <td>06:00</td>\n",
       "      <td>MANHÃ</td>\n",
       "      <td>GILJOAN</td>\n",
       "      <td>22</td>\n",
       "      <td>26.772727</td>\n",
       "      <td>NaN</td>\n",
       "      <td>NaN</td>\n",
       "      <td>0.0</td>\n",
       "      <td>01-10-2024</td>\n",
       "      <td>26</td>\n",
       "    </tr>\n",
       "    <tr>\n",
       "      <th>2</th>\n",
       "      <td>MUSC - S/P</td>\n",
       "      <td>A - MUSCULAÇÃO SEM PERSONAL</td>\n",
       "      <td>seg, ter, qua, qui, sex</td>\n",
       "      <td>06:00</td>\n",
       "      <td>MANHÃ</td>\n",
       "      <td>GILJOAN</td>\n",
       "      <td>22</td>\n",
       "      <td>30.590909</td>\n",
       "      <td>7.333333</td>\n",
       "      <td>NaN</td>\n",
       "      <td>3.0</td>\n",
       "      <td>01-10-2024</td>\n",
       "      <td>40</td>\n",
       "    </tr>\n",
       "  </tbody>\n",
       "</table>\n",
       "</div>"
      ],
      "text/plain": [
       "    CATEGORIA                   MODALIDADE            DIA DA SEMANA HORÁRIO  \\\n",
       "0      ADULTO                     CROSSFIT  seg, ter, qua, qui, sex   05:30   \n",
       "1  MUSC - C/P  A - MUSCULAÇÃO COM PERSONAL  seg, ter, qua, qui, sex   06:00   \n",
       "2  MUSC - S/P  A - MUSCULAÇÃO SEM PERSONAL  seg, ter, qua, qui, sex   06:00   \n",
       "\n",
       "   TURNO     PROFESSOR  Média alunos p/ professor      Média  \\\n",
       "0  MANHÃ  WESLEY NATAN                         22  11.227273   \n",
       "1  MANHÃ       GILJOAN                         22  26.772727   \n",
       "2  MANHÃ       GILJOAN                         22  30.590909   \n",
       "\n",
       "   Alunos/professor  Ocupação Máxima  Professor Dias de Aulas  \\\n",
       "0               NaN              NaN        0.0    01-10-2024   \n",
       "1               NaN              NaN        0.0    01-10-2024   \n",
       "2          7.333333              NaN        3.0    01-10-2024   \n",
       "\n",
       "   Frequencia de Alunos  \n",
       "0                    10  \n",
       "1                    26  \n",
       "2                    40  "
      ]
     },
     "execution_count": 176,
     "metadata": {},
     "output_type": "execute_result"
    }
   ],
   "source": [
    "dataGUA_melted.head(3)"
   ]
  },
  {
   "cell_type": "code",
   "execution_count": 177,
   "id": "399f3a1a-9ee1-470d-8ccf-d87122c731e7",
   "metadata": {},
   "outputs": [
    {
     "data": {
      "text/plain": [
       "23860"
      ]
     },
     "execution_count": 177,
     "metadata": {},
     "output_type": "execute_result"
    }
   ],
   "source": [
    "dataGUA_melted['Frequencia de Alunos'].sum()"
   ]
  },
  {
   "cell_type": "code",
   "execution_count": null,
   "id": "2ef33373-4fa6-4c3a-855f-87acd61217ef",
   "metadata": {},
   "outputs": [],
   "source": []
  },
  {
   "cell_type": "code",
   "execution_count": null,
   "id": "9574b58f-e938-4f3f-8ac2-90a0b5bb03a9",
   "metadata": {},
   "outputs": [],
   "source": []
  },
  {
   "cell_type": "code",
   "execution_count": null,
   "id": "d61161ce-a77a-477b-855d-1109acb6a03f",
   "metadata": {},
   "outputs": [],
   "source": []
  },
  {
   "cell_type": "code",
   "execution_count": 178,
   "id": "7ebfdaf1-dbb5-4aa2-9970-539cb25c5127",
   "metadata": {},
   "outputs": [],
   "source": [
    "# Aplica a lógica condicional para criar a coluna 'TURNO' usando .loc e comparação de strings\n",
    "dataGUA_melted.loc[dataGUA_melted['HORÁRIO'] <= '12:30', 'TURNO'] = 'MANHÃ'\n",
    "dataGUA_melted.loc[dataGUA_melted['HORÁRIO'] > '12:30', 'TURNO'] = 'NOITE'"
   ]
  },
  {
   "cell_type": "code",
   "execution_count": 179,
   "id": "daec9347-4502-49d5-9ece-fd45a3f85ba8",
   "metadata": {},
   "outputs": [
    {
     "data": {
      "text/html": [
       "<div>\n",
       "<style scoped>\n",
       "    .dataframe tbody tr th:only-of-type {\n",
       "        vertical-align: middle;\n",
       "    }\n",
       "\n",
       "    .dataframe tbody tr th {\n",
       "        vertical-align: top;\n",
       "    }\n",
       "\n",
       "    .dataframe thead th {\n",
       "        text-align: right;\n",
       "    }\n",
       "</style>\n",
       "<table border=\"1\" class=\"dataframe\">\n",
       "  <thead>\n",
       "    <tr style=\"text-align: right;\">\n",
       "      <th></th>\n",
       "      <th>CATEGORIA</th>\n",
       "      <th>MODALIDADE</th>\n",
       "      <th>DIA DA SEMANA</th>\n",
       "      <th>HORÁRIO</th>\n",
       "      <th>TURNO</th>\n",
       "      <th>PROFESSOR</th>\n",
       "      <th>Média alunos p/ professor</th>\n",
       "      <th>Média</th>\n",
       "      <th>Alunos/professor</th>\n",
       "      <th>Ocupação Máxima</th>\n",
       "      <th>Professor</th>\n",
       "      <th>Dias de Aulas</th>\n",
       "      <th>Frequencia de Alunos</th>\n",
       "    </tr>\n",
       "  </thead>\n",
       "  <tbody>\n",
       "    <tr>\n",
       "      <th>0</th>\n",
       "      <td>ADULTO</td>\n",
       "      <td>CROSSFIT</td>\n",
       "      <td>seg, ter, qua, qui, sex</td>\n",
       "      <td>05:30</td>\n",
       "      <td>MANHÃ</td>\n",
       "      <td>WESLEY NATAN</td>\n",
       "      <td>22</td>\n",
       "      <td>11.227273</td>\n",
       "      <td>NaN</td>\n",
       "      <td>NaN</td>\n",
       "      <td>0.0</td>\n",
       "      <td>01-10-2024</td>\n",
       "      <td>10</td>\n",
       "    </tr>\n",
       "    <tr>\n",
       "      <th>1</th>\n",
       "      <td>MUSC - C/P</td>\n",
       "      <td>A - MUSCULAÇÃO COM PERSONAL</td>\n",
       "      <td>seg, ter, qua, qui, sex</td>\n",
       "      <td>06:00</td>\n",
       "      <td>MANHÃ</td>\n",
       "      <td>GILJOAN</td>\n",
       "      <td>22</td>\n",
       "      <td>26.772727</td>\n",
       "      <td>NaN</td>\n",
       "      <td>NaN</td>\n",
       "      <td>0.0</td>\n",
       "      <td>01-10-2024</td>\n",
       "      <td>26</td>\n",
       "    </tr>\n",
       "  </tbody>\n",
       "</table>\n",
       "</div>"
      ],
      "text/plain": [
       "    CATEGORIA                   MODALIDADE            DIA DA SEMANA HORÁRIO  \\\n",
       "0      ADULTO                     CROSSFIT  seg, ter, qua, qui, sex   05:30   \n",
       "1  MUSC - C/P  A - MUSCULAÇÃO COM PERSONAL  seg, ter, qua, qui, sex   06:00   \n",
       "\n",
       "   TURNO     PROFESSOR  Média alunos p/ professor      Média  \\\n",
       "0  MANHÃ  WESLEY NATAN                         22  11.227273   \n",
       "1  MANHÃ       GILJOAN                         22  26.772727   \n",
       "\n",
       "   Alunos/professor  Ocupação Máxima  Professor Dias de Aulas  \\\n",
       "0               NaN              NaN        0.0    01-10-2024   \n",
       "1               NaN              NaN        0.0    01-10-2024   \n",
       "\n",
       "   Frequencia de Alunos  \n",
       "0                    10  \n",
       "1                    26  "
      ]
     },
     "execution_count": 179,
     "metadata": {},
     "output_type": "execute_result"
    }
   ],
   "source": [
    "dataGUA_melted.head(2)"
   ]
  },
  {
   "cell_type": "code",
   "execution_count": null,
   "id": "9dc65926-dce8-46d3-9c99-a37741a05bda",
   "metadata": {},
   "outputs": [],
   "source": []
  },
  {
   "cell_type": "markdown",
   "id": "ca3374a7-4796-4c15-9f86-695a2ba4b0f8",
   "metadata": {},
   "source": [
    "____"
   ]
  },
  {
   "cell_type": "code",
   "execution_count": null,
   "id": "9df7c735-0869-4244-b8a4-1727d7c8dd85",
   "metadata": {},
   "outputs": [],
   "source": []
  },
  {
   "cell_type": "code",
   "execution_count": null,
   "id": "a4a85952-6036-4f66-a228-dd16a8a172af",
   "metadata": {},
   "outputs": [],
   "source": []
  },
  {
   "cell_type": "code",
   "execution_count": null,
   "id": "3dca0054-d54a-4b60-9b7b-010613c3d002",
   "metadata": {},
   "outputs": [],
   "source": []
  },
  {
   "cell_type": "markdown",
   "id": "bf37fb72-ac68-4d7e-83fa-e0ad3c720c09",
   "metadata": {},
   "source": [
    "____"
   ]
  },
  {
   "cell_type": "markdown",
   "id": "ccfe4952-c415-4663-b15d-39cdfdcb855a",
   "metadata": {},
   "source": [
    "# KENNEDY [KEN] - PREPROCESSING 8"
   ]
  },
  {
   "cell_type": "code",
   "execution_count": 180,
   "id": "1d30ece4-d895-4593-b7c5-f45cfeab39ad",
   "metadata": {},
   "outputs": [],
   "source": [
    "data8 = pd.read_excel('3.2 Mapa de Ocupação - OUT 2024.xlsx', sheet_name='KEN', skiprows=1, nrows=99)"
   ]
  },
  {
   "cell_type": "code",
   "execution_count": 181,
   "id": "73c53335-0b0c-4840-b759-02a36f21b727",
   "metadata": {},
   "outputs": [],
   "source": [
    "dataKEN = data8.copy()"
   ]
  },
  {
   "cell_type": "code",
   "execution_count": null,
   "id": "b8e5a935-8b68-49f5-b66e-b735f4e87ce5",
   "metadata": {},
   "outputs": [],
   "source": []
  },
  {
   "cell_type": "code",
   "execution_count": null,
   "id": "cf3de8a0-c138-40d5-84d3-cd327213a512",
   "metadata": {},
   "outputs": [],
   "source": []
  },
  {
   "cell_type": "code",
   "execution_count": null,
   "id": "3e6e2f77-969e-456b-81f3-373bec323a0e",
   "metadata": {},
   "outputs": [],
   "source": []
  },
  {
   "cell_type": "markdown",
   "id": "02c90be0-bec6-45d8-9372-9d571b43c897",
   "metadata": {},
   "source": [
    "### 1 PASSO: Removendo colunas desnecessárias"
   ]
  },
  {
   "cell_type": "code",
   "execution_count": 182,
   "id": "7cd641da-5a53-48b1-bbe1-7532df529a89",
   "metadata": {},
   "outputs": [
    {
     "data": {
      "text/html": [
       "<div>\n",
       "<style scoped>\n",
       "    .dataframe tbody tr th:only-of-type {\n",
       "        vertical-align: middle;\n",
       "    }\n",
       "\n",
       "    .dataframe tbody tr th {\n",
       "        vertical-align: top;\n",
       "    }\n",
       "\n",
       "    .dataframe thead th {\n",
       "        text-align: right;\n",
       "    }\n",
       "</style>\n",
       "<table border=\"1\" class=\"dataframe\">\n",
       "  <thead>\n",
       "    <tr style=\"text-align: right;\">\n",
       "      <th></th>\n",
       "      <th>Unnamed: 0</th>\n",
       "      <th>Unnamed: 1</th>\n",
       "      <th>Unnamed: 2</th>\n",
       "      <th>CATEGORIA</th>\n",
       "      <th>MODALIDADE</th>\n",
       "      <th>DIA DA SEMANA</th>\n",
       "      <th>HORÁRIO</th>\n",
       "      <th>AUX.1</th>\n",
       "      <th>TURNO</th>\n",
       "      <th>AUX 2</th>\n",
       "      <th>...</th>\n",
       "      <th>Ocupação Máxima</th>\n",
       "      <th>Professor</th>\n",
       "      <th>Unnamed: 40</th>\n",
       "      <th>Unnamed: 41</th>\n",
       "      <th>Unnamed: 42</th>\n",
       "      <th>Unnamed: 43</th>\n",
       "      <th>Unnamed: 44</th>\n",
       "      <th>Unnamed: 45</th>\n",
       "      <th>Unnamed: 46</th>\n",
       "      <th>Unnamed: 47</th>\n",
       "    </tr>\n",
       "  </thead>\n",
       "  <tbody>\n",
       "    <tr>\n",
       "      <th>96</th>\n",
       "      <td>NaN</td>\n",
       "      <td>NaN</td>\n",
       "      <td>NaN</td>\n",
       "      <td>QUADRA</td>\n",
       "      <td>BEACH TENIS INICIANTE</td>\n",
       "      <td>seg, ter, qua, qui, sex</td>\n",
       "      <td>21:00:00</td>\n",
       "      <td>21:00</td>\n",
       "      <td>NOITE</td>\n",
       "      <td>BEACH TENIS INICIANTE - 21:00</td>\n",
       "      <td>...</td>\n",
       "      <td>NaN</td>\n",
       "      <td>0.0</td>\n",
       "      <td>NaN</td>\n",
       "      <td>NaN</td>\n",
       "      <td>NaN</td>\n",
       "      <td>NaN</td>\n",
       "      <td>NaN</td>\n",
       "      <td>NaN</td>\n",
       "      <td>NaN</td>\n",
       "      <td>NaN</td>\n",
       "    </tr>\n",
       "    <tr>\n",
       "      <th>97</th>\n",
       "      <td>NaN</td>\n",
       "      <td>NaN</td>\n",
       "      <td>NaN</td>\n",
       "      <td>MUSC - C/P</td>\n",
       "      <td>A - MUSCULAÇÃO COM PERSONAL</td>\n",
       "      <td>seg, ter, qua, qui, sex</td>\n",
       "      <td>22:00:00</td>\n",
       "      <td>22:00</td>\n",
       "      <td>NOITE</td>\n",
       "      <td>A - MUSCULAÇÃO COM PERSONAL - 22:00</td>\n",
       "      <td>...</td>\n",
       "      <td>NaN</td>\n",
       "      <td>NaN</td>\n",
       "      <td>NaN</td>\n",
       "      <td>NaN</td>\n",
       "      <td>NaN</td>\n",
       "      <td>NaN</td>\n",
       "      <td>NaN</td>\n",
       "      <td>NaN</td>\n",
       "      <td>NaN</td>\n",
       "      <td>NaN</td>\n",
       "    </tr>\n",
       "    <tr>\n",
       "      <th>98</th>\n",
       "      <td>NaN</td>\n",
       "      <td>NaN</td>\n",
       "      <td>NaN</td>\n",
       "      <td>MUSC - S/P</td>\n",
       "      <td>A - MUSCULAÇÃO SEM PERSONAL</td>\n",
       "      <td>seg, ter, qua, qui, sex</td>\n",
       "      <td>22:00:00</td>\n",
       "      <td>22:00</td>\n",
       "      <td>NOITE</td>\n",
       "      <td>A - MUSCULAÇÃO SEM PERSONAL - 22:00</td>\n",
       "      <td>...</td>\n",
       "      <td>NaN</td>\n",
       "      <td>NaN</td>\n",
       "      <td>NaN</td>\n",
       "      <td>NaN</td>\n",
       "      <td>NaN</td>\n",
       "      <td>NaN</td>\n",
       "      <td>NaN</td>\n",
       "      <td>NaN</td>\n",
       "      <td>NaN</td>\n",
       "      <td>NaN</td>\n",
       "    </tr>\n",
       "  </tbody>\n",
       "</table>\n",
       "<p>3 rows × 48 columns</p>\n",
       "</div>"
      ],
      "text/plain": [
       "    Unnamed: 0  Unnamed: 1  Unnamed: 2   CATEGORIA  \\\n",
       "96         NaN         NaN         NaN      QUADRA   \n",
       "97         NaN         NaN         NaN  MUSC - C/P   \n",
       "98         NaN         NaN         NaN  MUSC - S/P   \n",
       "\n",
       "                     MODALIDADE            DIA DA SEMANA   HORÁRIO  AUX.1  \\\n",
       "96        BEACH TENIS INICIANTE  seg, ter, qua, qui, sex  21:00:00  21:00   \n",
       "97  A - MUSCULAÇÃO COM PERSONAL  seg, ter, qua, qui, sex  22:00:00  22:00   \n",
       "98  A - MUSCULAÇÃO SEM PERSONAL  seg, ter, qua, qui, sex  22:00:00  22:00   \n",
       "\n",
       "    TURNO                                AUX 2  ... Ocupação Máxima Professor  \\\n",
       "96  NOITE        BEACH TENIS INICIANTE - 21:00  ...             NaN       0.0   \n",
       "97  NOITE  A - MUSCULAÇÃO COM PERSONAL - 22:00  ...             NaN       NaN   \n",
       "98  NOITE  A - MUSCULAÇÃO SEM PERSONAL - 22:00  ...             NaN       NaN   \n",
       "\n",
       "   Unnamed: 40 Unnamed: 41 Unnamed: 42 Unnamed: 43 Unnamed: 44 Unnamed: 45  \\\n",
       "96         NaN         NaN         NaN         NaN         NaN         NaN   \n",
       "97         NaN         NaN         NaN         NaN         NaN         NaN   \n",
       "98         NaN         NaN         NaN         NaN         NaN         NaN   \n",
       "\n",
       "   Unnamed: 46 Unnamed: 47  \n",
       "96         NaN         NaN  \n",
       "97         NaN         NaN  \n",
       "98         NaN         NaN  \n",
       "\n",
       "[3 rows x 48 columns]"
      ]
     },
     "execution_count": 182,
     "metadata": {},
     "output_type": "execute_result"
    }
   ],
   "source": [
    "dataKEN.tail(3)"
   ]
  },
  {
   "cell_type": "code",
   "execution_count": 183,
   "id": "35df1dc0-7cc9-4916-b1dd-a4e0465bd980",
   "metadata": {},
   "outputs": [
    {
     "data": {
      "text/plain": [
       "Unnamed: 0                                               NaN\n",
       "Unnamed: 1                                               NaN\n",
       "Unnamed: 2                                               NaN\n",
       "CATEGORIA                                         MUSC - S/P\n",
       "MODALIDADE                       A - MUSCULAÇÃO SEM PERSONAL\n",
       "DIA DA SEMANA                        seg, ter, qua, qui, sex\n",
       "HORÁRIO                                             22:00:00\n",
       "AUX.1                                                  22:00\n",
       "TURNO                                                  NOITE\n",
       "AUX 2                    A - MUSCULAÇÃO SEM PERSONAL - 22:00\n",
       "PROFESSOR                                            DOUGLAS\n",
       "AUX 3                  A - MUSCULAÇÃO SEM PERSONAL - DOUGLAS\n",
       "2024-10-01 00:00:00                                       52\n",
       "2024-10-02 00:00:00                                        6\n",
       "2024-10-03 00:00:00                                       38\n",
       "2024-10-04 00:00:00                                        3\n",
       "2024-10-07 00:00:00                                        2\n",
       "2024-10-08 00:00:00                                        6\n",
       "2024-10-09 00:00:00                                       35\n",
       "2024-10-10 00:00:00                                       39\n",
       "2024-10-11 00:00:00                                       28\n",
       "2024-10-14 00:00:00                                       29\n",
       "2024-10-15 00:00:00                                       41\n",
       "2024-10-16 00:00:00                                       30\n",
       "2024-10-17 00:00:00                                       35\n",
       "2024-10-18 00:00:00                                       28\n",
       "2024-10-21 00:00:00                                       42\n",
       "2024-10-22 00:00:00                                       31\n",
       "2024-10-23 00:00:00                                       33\n",
       "2024-10-24 00:00:00                                       22\n",
       "2024-10-25 00:00:00                                       26\n",
       "2024-10-28 00:00:00                                       35\n",
       "2024-10-29 00:00:00                                       24\n",
       "2024-10-30 00:00:00                                       35\n",
       "2024-10-31 00:00:00                                      NaN\n",
       "Aulas/mês                                                 22\n",
       "Média                                              28.181818\n",
       "Alunos/professor                                         NaN\n",
       "Ocupação Máxima                                          NaN\n",
       "Professor                                                NaN\n",
       "Unnamed: 40                                              NaN\n",
       "Unnamed: 41                                              NaN\n",
       "Unnamed: 42                                              NaN\n",
       "Unnamed: 43                                              NaN\n",
       "Unnamed: 44                                              NaN\n",
       "Unnamed: 45                                              NaN\n",
       "Unnamed: 46                                              NaN\n",
       "Unnamed: 47                                              NaN\n",
       "Name: 98, dtype: object"
      ]
     },
     "execution_count": 183,
     "metadata": {},
     "output_type": "execute_result"
    }
   ],
   "source": [
    "dataKEN.iloc[-1]"
   ]
  },
  {
   "cell_type": "code",
   "execution_count": null,
   "id": "c13cd14a-6bf8-4acb-9c78-ca7bb52d7c86",
   "metadata": {},
   "outputs": [],
   "source": []
  },
  {
   "cell_type": "code",
   "execution_count": null,
   "id": "d52972bb-1f50-448b-84fa-5cdbc07b20e1",
   "metadata": {},
   "outputs": [],
   "source": []
  },
  {
   "cell_type": "code",
   "execution_count": null,
   "id": "e658040f-3ec6-416f-a9da-90b8c65c38dd",
   "metadata": {},
   "outputs": [],
   "source": []
  },
  {
   "cell_type": "code",
   "execution_count": 184,
   "id": "7c8a3ace-161b-44d9-8f5d-44ed69e20c14",
   "metadata": {},
   "outputs": [],
   "source": [
    "dropColumns = ['Unnamed: 0', 'Unnamed: 1','Unnamed: 2', 'HORÁRIO', 'AUX 2', 'AUX 3',\n",
    "              'Unnamed: 40', 'Unnamed: 41', 'Unnamed: 42', 'Unnamed: 43', 'Unnamed: 44', 'Unnamed: 45', 'Unnamed: 46','Unnamed: 47']    "
   ]
  },
  {
   "cell_type": "code",
   "execution_count": 185,
   "id": "b607583c-cb77-4697-bc77-d140832f7fea",
   "metadata": {},
   "outputs": [],
   "source": [
    "dataKEN.drop(columns=dropColumns, inplace=True)"
   ]
  },
  {
   "cell_type": "markdown",
   "id": "7a1bc7fc-6608-4116-90a2-234d0b1d87e1",
   "metadata": {},
   "source": [
    "- PRECISAMOS RENOMEAR A COLUNA AUX.1 COMO HORARIO"
   ]
  },
  {
   "cell_type": "code",
   "execution_count": 186,
   "id": "e1dbeb4e-ce04-40bd-b40d-d4dbe66544d0",
   "metadata": {},
   "outputs": [],
   "source": [
    "dataKEN.rename(columns={'AUX.1': 'HORÁRIO'}, inplace=True)"
   ]
  },
  {
   "cell_type": "code",
   "execution_count": 187,
   "id": "383c6048-98f1-40cd-8621-25214b809dc2",
   "metadata": {},
   "outputs": [
    {
     "data": {
      "text/html": [
       "<div>\n",
       "<style scoped>\n",
       "    .dataframe tbody tr th:only-of-type {\n",
       "        vertical-align: middle;\n",
       "    }\n",
       "\n",
       "    .dataframe tbody tr th {\n",
       "        vertical-align: top;\n",
       "    }\n",
       "\n",
       "    .dataframe thead th {\n",
       "        text-align: right;\n",
       "    }\n",
       "</style>\n",
       "<table border=\"1\" class=\"dataframe\">\n",
       "  <thead>\n",
       "    <tr style=\"text-align: right;\">\n",
       "      <th></th>\n",
       "      <th>CATEGORIA</th>\n",
       "      <th>MODALIDADE</th>\n",
       "      <th>DIA DA SEMANA</th>\n",
       "      <th>HORÁRIO</th>\n",
       "      <th>TURNO</th>\n",
       "      <th>PROFESSOR</th>\n",
       "      <th>2024-10-01 00:00:00</th>\n",
       "      <th>2024-10-02 00:00:00</th>\n",
       "      <th>2024-10-03 00:00:00</th>\n",
       "      <th>2024-10-04 00:00:00</th>\n",
       "      <th>...</th>\n",
       "      <th>2024-10-25 00:00:00</th>\n",
       "      <th>2024-10-28 00:00:00</th>\n",
       "      <th>2024-10-29 00:00:00</th>\n",
       "      <th>2024-10-30 00:00:00</th>\n",
       "      <th>2024-10-31 00:00:00</th>\n",
       "      <th>Aulas/mês</th>\n",
       "      <th>Média</th>\n",
       "      <th>Alunos/professor</th>\n",
       "      <th>Ocupação Máxima</th>\n",
       "      <th>Professor</th>\n",
       "    </tr>\n",
       "  </thead>\n",
       "  <tbody>\n",
       "    <tr>\n",
       "      <th>0</th>\n",
       "      <td>MUSC - C/P</td>\n",
       "      <td>A - MUSCULAÇÃO COM PERSONAL</td>\n",
       "      <td>seg, ter, qua, qui, sex</td>\n",
       "      <td>06:00</td>\n",
       "      <td>MANHÃ</td>\n",
       "      <td>FRANCYS JOADMAR</td>\n",
       "      <td>30</td>\n",
       "      <td>28</td>\n",
       "      <td>28</td>\n",
       "      <td>34</td>\n",
       "      <td>...</td>\n",
       "      <td>26</td>\n",
       "      <td>24</td>\n",
       "      <td>22</td>\n",
       "      <td>26</td>\n",
       "      <td>22</td>\n",
       "      <td>23</td>\n",
       "      <td>25.782609</td>\n",
       "      <td>NaN</td>\n",
       "      <td>NaN</td>\n",
       "      <td>0.0</td>\n",
       "    </tr>\n",
       "    <tr>\n",
       "      <th>1</th>\n",
       "      <td>MUSC - S/P</td>\n",
       "      <td>A - MUSCULAÇÃO SEM PERSONAL</td>\n",
       "      <td>seg, ter, qua, qui, sex</td>\n",
       "      <td>06:00</td>\n",
       "      <td>MANHÃ</td>\n",
       "      <td>FRANCYS JOADMAR</td>\n",
       "      <td>75</td>\n",
       "      <td>80</td>\n",
       "      <td>70</td>\n",
       "      <td>55</td>\n",
       "      <td>...</td>\n",
       "      <td>55</td>\n",
       "      <td>69</td>\n",
       "      <td>64</td>\n",
       "      <td>60</td>\n",
       "      <td>55</td>\n",
       "      <td>23</td>\n",
       "      <td>65.826087</td>\n",
       "      <td>NaN</td>\n",
       "      <td>NaN</td>\n",
       "      <td>NaN</td>\n",
       "    </tr>\n",
       "  </tbody>\n",
       "</table>\n",
       "<p>2 rows × 34 columns</p>\n",
       "</div>"
      ],
      "text/plain": [
       "    CATEGORIA                   MODALIDADE            DIA DA SEMANA HORÁRIO  \\\n",
       "0  MUSC - C/P  A - MUSCULAÇÃO COM PERSONAL  seg, ter, qua, qui, sex   06:00   \n",
       "1  MUSC - S/P  A - MUSCULAÇÃO SEM PERSONAL  seg, ter, qua, qui, sex   06:00   \n",
       "\n",
       "   TURNO        PROFESSOR 2024-10-01 00:00:00 2024-10-02 00:00:00  \\\n",
       "0  MANHÃ  FRANCYS JOADMAR                  30                  28   \n",
       "1  MANHÃ  FRANCYS JOADMAR                  75                  80   \n",
       "\n",
       "  2024-10-03 00:00:00 2024-10-04 00:00:00  ... 2024-10-25 00:00:00  \\\n",
       "0                  28                  34  ...                  26   \n",
       "1                  70                  55  ...                  55   \n",
       "\n",
       "  2024-10-28 00:00:00 2024-10-29 00:00:00 2024-10-30 00:00:00  \\\n",
       "0                  24                  22                  26   \n",
       "1                  69                  64                  60   \n",
       "\n",
       "  2024-10-31 00:00:00 Aulas/mês      Média Alunos/professor Ocupação Máxima  \\\n",
       "0                  22        23  25.782609              NaN             NaN   \n",
       "1                  55        23  65.826087              NaN             NaN   \n",
       "\n",
       "  Professor  \n",
       "0       0.0  \n",
       "1       NaN  \n",
       "\n",
       "[2 rows x 34 columns]"
      ]
     },
     "execution_count": 187,
     "metadata": {},
     "output_type": "execute_result"
    }
   ],
   "source": [
    "dataKEN.head(2)"
   ]
  },
  {
   "cell_type": "code",
   "execution_count": null,
   "id": "62e0806c-d9a1-4764-9cbd-e678faf37bf8",
   "metadata": {},
   "outputs": [],
   "source": []
  },
  {
   "cell_type": "code",
   "execution_count": null,
   "id": "b917245b-72d3-4c02-b856-3453c0f502cd",
   "metadata": {},
   "outputs": [],
   "source": []
  },
  {
   "cell_type": "code",
   "execution_count": null,
   "id": "7a7640e0-1ef0-4e3a-ab35-862055392508",
   "metadata": {},
   "outputs": [],
   "source": []
  },
  {
   "cell_type": "markdown",
   "id": "92c91215-39cf-454a-80e8-c16c4c85939d",
   "metadata": {},
   "source": [
    "### 2 PASSO: Renomeando strings de datas, para que o pandas possa aceitar como colunas"
   ]
  },
  {
   "cell_type": "code",
   "execution_count": 188,
   "id": "3fed63cc-1bab-4f0c-9da8-38dec90f0057",
   "metadata": {},
   "outputs": [
    {
     "name": "stdout",
     "output_type": "stream",
     "text": [
      "CATEGORIA\n",
      "MODALIDADE\n",
      "DIA DA SEMANA\n",
      "HORÁRIO\n",
      "TURNO\n",
      "PROFESSOR\n",
      "2024-10-01 00:00:00\n",
      "2024-10-02 00:00:00\n",
      "2024-10-03 00:00:00\n",
      "2024-10-04 00:00:00\n",
      "2024-10-07 00:00:00\n",
      "2024-10-08 00:00:00\n",
      "2024-10-09 00:00:00\n",
      "2024-10-10 00:00:00\n",
      "2024-10-11 00:00:00\n",
      "2024-10-14 00:00:00\n",
      "2024-10-15 00:00:00\n",
      "2024-10-16 00:00:00\n",
      "2024-10-17 00:00:00\n",
      "2024-10-18 00:00:00\n",
      "2024-10-21 00:00:00\n",
      "2024-10-22 00:00:00\n",
      "2024-10-23 00:00:00\n",
      "2024-10-24 00:00:00\n",
      "2024-10-25 00:00:00\n",
      "2024-10-28 00:00:00\n",
      "2024-10-29 00:00:00\n",
      "2024-10-30 00:00:00\n",
      "2024-10-31 00:00:00\n",
      "Aulas/mês\n",
      "Média\n",
      "Alunos/professor\n",
      "Ocupação Máxima\n",
      "Professor\n"
     ]
    }
   ],
   "source": [
    "for columns in dataKEN.columns:\n",
    "    print(columns)"
   ]
  },
  {
   "cell_type": "code",
   "execution_count": 189,
   "id": "249fd77d-4bf2-459e-8275-d463845f866f",
   "metadata": {},
   "outputs": [],
   "source": [
    "dataKEN.columns = [\n",
    "'CATEGORIA',\n",
    "'MODALIDADE',\n",
    "'DIA DA SEMANA',\n",
    "'HORÁRIO',\n",
    "'TURNO',\n",
    "'PROFESSOR',\n",
    "'2024-10-01 00:00:00',\n",
    "'2024-10-02 00:00:00',\n",
    "'2024-10-03 00:00:00',\n",
    "'2024-10-04 00:00:00',\n",
    "'2024-10-07 00:00:00',\n",
    "'2024-10-08 00:00:00',\n",
    "'2024-10-09 00:00:00',\n",
    "'2024-10-10 00:00:00',\n",
    "'2024-10-11 00:00:00',\n",
    "'2024-10-14 00:00:00',\n",
    "'2024-10-15 00:00:00',\n",
    "'2024-10-16 00:00:00',\n",
    "'2024-10-17 00:00:00',\n",
    "'2024-10-18 00:00:00',\n",
    "'2024-10-21 00:00:00',\n",
    "'2024-10-22 00:00:00',\n",
    "'2024-10-23 00:00:00',\n",
    "'2024-10-24 00:00:00',\n",
    "'2024-10-25 00:00:00',\n",
    "'2024-10-28 00:00:00',\n",
    "'2024-10-29 00:00:00',\n",
    "'2024-10-30 00:00:00',\n",
    "'2024-10-31 00:00:00',\n",
    "'Aulas/mês',\n",
    "'Média',\n",
    "'Alunos/professor',\n",
    "'Ocupação Máxima',\n",
    "'Professor',\n",
    "]"
   ]
  },
  {
   "cell_type": "code",
   "execution_count": 190,
   "id": "9bf4df5e-e0f3-45c6-9fda-1846b00da13d",
   "metadata": {},
   "outputs": [
    {
     "data": {
      "text/plain": [
       "Index(['CATEGORIA', 'MODALIDADE', 'DIA DA SEMANA', 'HORÁRIO', 'TURNO',\n",
       "       'PROFESSOR', '2024-10-01 00:00:00', '2024-10-02 00:00:00',\n",
       "       '2024-10-03 00:00:00', '2024-10-04 00:00:00', '2024-10-07 00:00:00',\n",
       "       '2024-10-08 00:00:00', '2024-10-09 00:00:00', '2024-10-10 00:00:00',\n",
       "       '2024-10-11 00:00:00', '2024-10-14 00:00:00', '2024-10-15 00:00:00',\n",
       "       '2024-10-16 00:00:00', '2024-10-17 00:00:00', '2024-10-18 00:00:00',\n",
       "       '2024-10-21 00:00:00', '2024-10-22 00:00:00', '2024-10-23 00:00:00',\n",
       "       '2024-10-24 00:00:00', '2024-10-25 00:00:00', '2024-10-28 00:00:00',\n",
       "       '2024-10-29 00:00:00', '2024-10-30 00:00:00', '2024-10-31 00:00:00',\n",
       "       'Aulas/mês', 'Média', 'Alunos/professor', 'Ocupação Máxima',\n",
       "       'Professor'],\n",
       "      dtype='object')"
      ]
     },
     "execution_count": 190,
     "metadata": {},
     "output_type": "execute_result"
    }
   ],
   "source": [
    "dataKEN.columns"
   ]
  },
  {
   "cell_type": "code",
   "execution_count": null,
   "id": "fcc85b7a-2e87-4566-af1e-61ac2bddb50c",
   "metadata": {},
   "outputs": [],
   "source": []
  },
  {
   "cell_type": "code",
   "execution_count": null,
   "id": "0b7ea162-fb5e-4baf-a52d-14d9c96f17e5",
   "metadata": {},
   "outputs": [],
   "source": []
  },
  {
   "cell_type": "code",
   "execution_count": null,
   "id": "23590aaa-b6ea-4591-b1c2-f80864bc94f8",
   "metadata": {},
   "outputs": [],
   "source": []
  },
  {
   "cell_type": "markdown",
   "id": "3a8f6dc6-5b12-4eb4-bdf6-565851b0a624",
   "metadata": {},
   "source": [
    "### PASSO 3: Escolhendo colunas com o nome de 'datas', para renomear pelo o tipo dia, mês e ano. e removendo os 00 de horas"
   ]
  },
  {
   "cell_type": "code",
   "execution_count": 191,
   "id": "91cb8d17-3918-483f-aab2-2e93d30c4303",
   "metadata": {},
   "outputs": [],
   "source": [
    "colunas = [\n",
    "'2024-10-01 00:00:00',\n",
    "'2024-10-02 00:00:00',\n",
    "'2024-10-03 00:00:00',\n",
    "'2024-10-04 00:00:00',\n",
    "'2024-10-07 00:00:00',\n",
    "'2024-10-08 00:00:00',\n",
    "'2024-10-09 00:00:00',\n",
    "'2024-10-10 00:00:00',\n",
    "'2024-10-11 00:00:00',\n",
    "'2024-10-14 00:00:00',\n",
    "'2024-10-15 00:00:00',\n",
    "'2024-10-16 00:00:00',\n",
    "'2024-10-17 00:00:00',\n",
    "'2024-10-18 00:00:00',\n",
    "'2024-10-21 00:00:00',\n",
    "'2024-10-22 00:00:00',\n",
    "'2024-10-23 00:00:00',\n",
    "'2024-10-24 00:00:00',\n",
    "'2024-10-25 00:00:00',\n",
    "'2024-10-28 00:00:00',\n",
    "'2024-10-29 00:00:00',\n",
    "'2024-10-30 00:00:00',\n",
    "'2024-10-31 00:00:00',\n",
    "]   "
   ]
  },
  {
   "cell_type": "code",
   "execution_count": 192,
   "id": "33ff7f4a-2f44-4360-bf1e-65a55468ad4e",
   "metadata": {},
   "outputs": [],
   "source": [
    "novas_colunas_KEN = []"
   ]
  },
  {
   "cell_type": "code",
   "execution_count": 193,
   "id": "74247604-cdf1-4e6a-8b45-58888fab054e",
   "metadata": {},
   "outputs": [],
   "source": [
    "for columns in colunas:\n",
    "    # Remove a parte da hora\n",
    "    data_sem_hora = columns.split(' ')[0]\n",
    "    \n",
    "    # Formata para o formato DD-MM-YYYY\n",
    "    ano, mes, dia = data_sem_hora.split('-')\n",
    "    novo_nome = f'{dia}-{mes}-{ano}'\n",
    "    novas_colunas_KEN.append(novo_nome)"
   ]
  },
  {
   "cell_type": "code",
   "execution_count": 194,
   "id": "7f650718-7e2c-4375-9965-1c40f8eb3faa",
   "metadata": {},
   "outputs": [
    {
     "data": {
      "text/plain": [
       "['01-10-2024',\n",
       " '02-10-2024',\n",
       " '03-10-2024',\n",
       " '04-10-2024',\n",
       " '07-10-2024',\n",
       " '08-10-2024',\n",
       " '09-10-2024',\n",
       " '10-10-2024',\n",
       " '11-10-2024',\n",
       " '14-10-2024',\n",
       " '15-10-2024',\n",
       " '16-10-2024',\n",
       " '17-10-2024',\n",
       " '18-10-2024',\n",
       " '21-10-2024',\n",
       " '22-10-2024',\n",
       " '23-10-2024',\n",
       " '24-10-2024',\n",
       " '25-10-2024',\n",
       " '28-10-2024',\n",
       " '29-10-2024',\n",
       " '30-10-2024',\n",
       " '31-10-2024']"
      ]
     },
     "execution_count": 194,
     "metadata": {},
     "output_type": "execute_result"
    }
   ],
   "source": [
    "novas_colunas_KEN"
   ]
  },
  {
   "cell_type": "code",
   "execution_count": null,
   "id": "1a7ead93-d888-41df-b6da-ca84298347ed",
   "metadata": {},
   "outputs": [],
   "source": []
  },
  {
   "cell_type": "code",
   "execution_count": null,
   "id": "806ed0bf-dd97-456e-826b-ac97ee74d950",
   "metadata": {},
   "outputs": [],
   "source": []
  },
  {
   "cell_type": "code",
   "execution_count": null,
   "id": "c1476613-5f3b-4d14-b01c-4ed15c1ad2dd",
   "metadata": {},
   "outputs": [],
   "source": []
  },
  {
   "cell_type": "markdown",
   "id": "5bbe2776-8ebd-4587-afaa-d89301cef612",
   "metadata": {},
   "source": [
    "### PASSO 4 renomeando colunas e acrescentando o novo formato "
   ]
  },
  {
   "cell_type": "markdown",
   "id": "17ef14be-b003-4aab-b4dd-58db6f2b4e7e",
   "metadata": {},
   "source": [
    "copie as colunas que escolheu para renomear, e cole o formato novo no lugar das velhas"
   ]
  },
  {
   "cell_type": "code",
   "execution_count": null,
   "id": "f8b60bf1-b4bd-4043-958d-2fdd7d81719a",
   "metadata": {},
   "outputs": [],
   "source": []
  },
  {
   "cell_type": "code",
   "execution_count": 195,
   "id": "d116071a-bebb-485c-af94-29ec20017be7",
   "metadata": {},
   "outputs": [],
   "source": [
    "# Adicionando as datas formatadas as colunas, copiando e colando"
   ]
  },
  {
   "cell_type": "code",
   "execution_count": 196,
   "id": "8a5b9f01-df4d-4595-b2e9-19c863e267a9",
   "metadata": {},
   "outputs": [
    {
     "name": "stdout",
     "output_type": "stream",
     "text": [
      "CATEGORIA\n",
      "MODALIDADE\n",
      "DIA DA SEMANA\n",
      "HORÁRIO\n",
      "TURNO\n",
      "PROFESSOR\n",
      "2024-10-01 00:00:00\n",
      "2024-10-02 00:00:00\n",
      "2024-10-03 00:00:00\n",
      "2024-10-04 00:00:00\n",
      "2024-10-07 00:00:00\n",
      "2024-10-08 00:00:00\n",
      "2024-10-09 00:00:00\n",
      "2024-10-10 00:00:00\n",
      "2024-10-11 00:00:00\n",
      "2024-10-14 00:00:00\n",
      "2024-10-15 00:00:00\n",
      "2024-10-16 00:00:00\n",
      "2024-10-17 00:00:00\n",
      "2024-10-18 00:00:00\n",
      "2024-10-21 00:00:00\n",
      "2024-10-22 00:00:00\n",
      "2024-10-23 00:00:00\n",
      "2024-10-24 00:00:00\n",
      "2024-10-25 00:00:00\n",
      "2024-10-28 00:00:00\n",
      "2024-10-29 00:00:00\n",
      "2024-10-30 00:00:00\n",
      "2024-10-31 00:00:00\n",
      "Aulas/mês\n",
      "Média\n",
      "Alunos/professor\n",
      "Ocupação Máxima\n",
      "Professor\n"
     ]
    }
   ],
   "source": [
    "for columns in dataKEN.columns:\n",
    "    print (columns)"
   ]
  },
  {
   "cell_type": "code",
   "execution_count": 197,
   "id": "dd0e51ff-09e2-4da4-81ab-d872284dc2f5",
   "metadata": {},
   "outputs": [],
   "source": [
    "dataKEN.columns =[\n",
    "'CATEGORIA',\n",
    "'MODALIDADE',\n",
    "'DIA DA SEMANA',\n",
    "'HORÁRIO',\n",
    "'TURNO',\n",
    "'PROFESSOR',\n",
    "'01-10-2024',\n",
    "'02-10-2024',\n",
    "'03-10-2024',\n",
    "'04-10-2024',\n",
    "'07-10-2024',\n",
    "'08-10-2024',\n",
    "'09-10-2024',\n",
    "'10-10-2024',\n",
    "'11-10-2024',\n",
    "'14-10-2024',\n",
    "'15-10-2024',\n",
    "'16-10-2024',\n",
    "'17-10-2024',\n",
    "'18-10-2024',\n",
    "'21-10-2024',\n",
    "'22-10-2024',\n",
    "'23-10-2024',\n",
    "'24-10-2024',\n",
    "'25-10-2024',\n",
    "'28-10-2024',\n",
    "'29-10-2024',\n",
    "'30-10-2024',\n",
    "'31-10-2024',\n",
    "'Aulas/mês',\n",
    "'Média',\n",
    "'Alunos/professor',\n",
    "'Ocupação Máxima',\n",
    "'Professor'\n",
    "]"
   ]
  },
  {
   "cell_type": "code",
   "execution_count": null,
   "id": "e81bae11-fade-45db-9c31-cd3f3bc33879",
   "metadata": {},
   "outputs": [],
   "source": []
  },
  {
   "cell_type": "code",
   "execution_count": null,
   "id": "45d29981-a343-4b6b-90fb-a234b5bab6de",
   "metadata": {},
   "outputs": [],
   "source": []
  },
  {
   "cell_type": "code",
   "execution_count": null,
   "id": "70fc4e00-9648-41ba-a3c5-57a4e5c51c76",
   "metadata": {},
   "outputs": [],
   "source": []
  },
  {
   "cell_type": "markdown",
   "id": "88ada582-d271-4c3f-9c22-07b10db4c2b3",
   "metadata": {},
   "source": [
    "### 5 PASSO: Usar o Loop for para substitituir os valores das frequencia de 'x' e 'X' por zero, com o método do pd.to_numeric) "
   ]
  },
  {
   "cell_type": "code",
   "execution_count": 198,
   "id": "32fd90e8-f096-4810-a73d-7a473407089d",
   "metadata": {},
   "outputs": [],
   "source": [
    "colunas = [\n",
    "'01-10-2024',\n",
    "'02-10-2024',\n",
    "'03-10-2024',\n",
    "'04-10-2024',\n",
    "'07-10-2024',\n",
    "'08-10-2024',\n",
    "'09-10-2024',\n",
    "'10-10-2024',\n",
    "'11-10-2024',\n",
    "'14-10-2024',\n",
    "'15-10-2024',\n",
    "'16-10-2024',\n",
    "'17-10-2024',\n",
    "'18-10-2024',\n",
    "'21-10-2024',\n",
    "'22-10-2024',\n",
    "'23-10-2024',\n",
    "'24-10-2024',\n",
    "'25-10-2024',\n",
    "'28-10-2024',\n",
    "'29-10-2024',\n",
    "'30-10-2024',\n",
    "'31-10-2024'\n",
    "]"
   ]
  },
  {
   "cell_type": "markdown",
   "id": "639f85cb-131b-4eae-820f-34435e514bb4",
   "metadata": {},
   "source": [
    "Fazendo a limpeza profunda, formatando valores para numeros, preenchendo com zeros os nulos e transformando em inteiros"
   ]
  },
  {
   "cell_type": "code",
   "execution_count": 199,
   "id": "c18e3578-8b2d-40f0-9023-81d34d3e1559",
   "metadata": {},
   "outputs": [],
   "source": [
    "for columns in colunas:\n",
    "    # dataMES[columns] = pd.to_numeric(dataMES[columns], errors='coerce')\n",
    "    dataKEN[columns] = pd.to_numeric(dataKEN[columns], errors='coerce').fillna(0).astype(int)"
   ]
  },
  {
   "cell_type": "code",
   "execution_count": null,
   "id": "f0f53101-9675-45aa-9158-3bcdecee663c",
   "metadata": {},
   "outputs": [],
   "source": []
  },
  {
   "cell_type": "code",
   "execution_count": null,
   "id": "117accab-92cd-4237-a392-6df47945b59f",
   "metadata": {},
   "outputs": [],
   "source": []
  },
  {
   "cell_type": "code",
   "execution_count": null,
   "id": "d314debb-d7bb-4f35-9b8b-ef09a0c6899a",
   "metadata": {},
   "outputs": [],
   "source": []
  },
  {
   "cell_type": "markdown",
   "id": "469ac1a0-9343-4a0d-ab0d-48f0a8da86ed",
   "metadata": {},
   "source": [
    "### PASSO 6: MELT derretendo as colunas em formato de datas"
   ]
  },
  {
   "cell_type": "markdown",
   "id": "18c1d767-b667-4238-b0e0-f150d00011ad",
   "metadata": {},
   "source": [
    "o MELT ele pega as colunas que estão na horizontal e cria uma coluna de categorias, e depois ele cria outra coluna com os valores dessas colunas que foram transformadas em dados categóricos"
   ]
  },
  {
   "cell_type": "code",
   "execution_count": 200,
   "id": "7e00057c-8c89-447f-9026-a869aa1c7292",
   "metadata": {},
   "outputs": [],
   "source": [
    "colunas_para_melt = [\n",
    "'01-10-2024',\n",
    "'02-10-2024',\n",
    "'03-10-2024',\n",
    "'04-10-2024',\n",
    "'07-10-2024',\n",
    "'08-10-2024',\n",
    "'09-10-2024',\n",
    "'10-10-2024',\n",
    "'11-10-2024',\n",
    "'14-10-2024',\n",
    "'15-10-2024',\n",
    "'16-10-2024',\n",
    "'17-10-2024',\n",
    "'18-10-2024',\n",
    "'21-10-2024',\n",
    "'22-10-2024',\n",
    "'23-10-2024',\n",
    "'24-10-2024',\n",
    "'25-10-2024',\n",
    "'28-10-2024',\n",
    "'29-10-2024',\n",
    "'30-10-2024',\n",
    "'31-10-2024'\n",
    "]"
   ]
  },
  {
   "cell_type": "code",
   "execution_count": null,
   "id": "6eb1d9c6-d7af-45dc-b9e4-e1fdc1924442",
   "metadata": {},
   "outputs": [],
   "source": []
  },
  {
   "cell_type": "code",
   "execution_count": null,
   "id": "91df7568-64af-4303-a20c-37071febf7a3",
   "metadata": {},
   "outputs": [],
   "source": []
  },
  {
   "cell_type": "code",
   "execution_count": null,
   "id": "54e4aa85-1663-46ad-b799-23095a5d097c",
   "metadata": {},
   "outputs": [],
   "source": []
  },
  {
   "cell_type": "markdown",
   "id": "7b43f1f9-5715-492b-9e4c-d1ab083c3ffe",
   "metadata": {},
   "source": [
    "#### Indentificando as colunas que Eu quero manter em meu dataframe"
   ]
  },
  {
   "cell_type": "code",
   "execution_count": 201,
   "id": "fef0cfa9-0bd2-4937-97a4-f13d2b3bd868",
   "metadata": {},
   "outputs": [],
   "source": [
    "# Identifica as colunas que você quer manter como identificadoras (id_vars)\n",
    "# São as colunas que não serão \"unpivoted\"\n",
    "id_vars_cols = [columns for columns in dataKEN.columns if columns not in colunas_para_melt]"
   ]
  },
  {
   "cell_type": "code",
   "execution_count": null,
   "id": "a92cab56-11cb-4a56-8f2c-1328f506966d",
   "metadata": {},
   "outputs": [],
   "source": []
  },
  {
   "cell_type": "code",
   "execution_count": null,
   "id": "dfc3adbe-6ec3-4c77-ae6b-0decc18a0b27",
   "metadata": {},
   "outputs": [],
   "source": []
  },
  {
   "cell_type": "code",
   "execution_count": null,
   "id": "c06ac815-e91d-4b7b-9e3a-b7fffb06c5d2",
   "metadata": {},
   "outputs": [],
   "source": []
  },
  {
   "cell_type": "code",
   "execution_count": 202,
   "id": "9968f605-4b4d-4495-80ec-31c91290f859",
   "metadata": {},
   "outputs": [],
   "source": [
    "dataKEN_melted = pd.melt(dataKEN,\n",
    "                      id_vars=id_vars_cols, #colunas que Eu deixei, que ficaram.\n",
    "                      value_vars=colunas_para_melt, #colunas que vão se transformar.\n",
    "                      var_name='Dias de Aulas', # nome da coluna categorica\n",
    "                      value_name='Frequencia de Alunos') # nome da coluna de valores"
   ]
  },
  {
   "cell_type": "code",
   "execution_count": 203,
   "id": "2924027a-d0d3-4211-9d62-51d5386e6540",
   "metadata": {},
   "outputs": [
    {
     "data": {
      "text/html": [
       "<div>\n",
       "<style scoped>\n",
       "    .dataframe tbody tr th:only-of-type {\n",
       "        vertical-align: middle;\n",
       "    }\n",
       "\n",
       "    .dataframe tbody tr th {\n",
       "        vertical-align: top;\n",
       "    }\n",
       "\n",
       "    .dataframe thead th {\n",
       "        text-align: right;\n",
       "    }\n",
       "</style>\n",
       "<table border=\"1\" class=\"dataframe\">\n",
       "  <thead>\n",
       "    <tr style=\"text-align: right;\">\n",
       "      <th></th>\n",
       "      <th>CATEGORIA</th>\n",
       "      <th>MODALIDADE</th>\n",
       "      <th>DIA DA SEMANA</th>\n",
       "      <th>HORÁRIO</th>\n",
       "      <th>TURNO</th>\n",
       "      <th>PROFESSOR</th>\n",
       "      <th>Aulas/mês</th>\n",
       "      <th>Média</th>\n",
       "      <th>Alunos/professor</th>\n",
       "      <th>Ocupação Máxima</th>\n",
       "      <th>Professor</th>\n",
       "      <th>Dias de Aulas</th>\n",
       "      <th>Frequencia de Alunos</th>\n",
       "    </tr>\n",
       "  </thead>\n",
       "  <tbody>\n",
       "    <tr>\n",
       "      <th>0</th>\n",
       "      <td>MUSC - C/P</td>\n",
       "      <td>A - MUSCULAÇÃO COM PERSONAL</td>\n",
       "      <td>seg, ter, qua, qui, sex</td>\n",
       "      <td>06:00</td>\n",
       "      <td>MANHÃ</td>\n",
       "      <td>FRANCYS JOADMAR</td>\n",
       "      <td>23</td>\n",
       "      <td>25.782609</td>\n",
       "      <td>NaN</td>\n",
       "      <td>NaN</td>\n",
       "      <td>0.0</td>\n",
       "      <td>01-10-2024</td>\n",
       "      <td>30</td>\n",
       "    </tr>\n",
       "    <tr>\n",
       "      <th>1</th>\n",
       "      <td>MUSC - S/P</td>\n",
       "      <td>A - MUSCULAÇÃO SEM PERSONAL</td>\n",
       "      <td>seg, ter, qua, qui, sex</td>\n",
       "      <td>06:00</td>\n",
       "      <td>MANHÃ</td>\n",
       "      <td>FRANCYS JOADMAR</td>\n",
       "      <td>23</td>\n",
       "      <td>65.826087</td>\n",
       "      <td>NaN</td>\n",
       "      <td>NaN</td>\n",
       "      <td>NaN</td>\n",
       "      <td>01-10-2024</td>\n",
       "      <td>75</td>\n",
       "    </tr>\n",
       "  </tbody>\n",
       "</table>\n",
       "</div>"
      ],
      "text/plain": [
       "    CATEGORIA                   MODALIDADE            DIA DA SEMANA HORÁRIO  \\\n",
       "0  MUSC - C/P  A - MUSCULAÇÃO COM PERSONAL  seg, ter, qua, qui, sex   06:00   \n",
       "1  MUSC - S/P  A - MUSCULAÇÃO SEM PERSONAL  seg, ter, qua, qui, sex   06:00   \n",
       "\n",
       "   TURNO        PROFESSOR  Aulas/mês      Média  Alunos/professor  \\\n",
       "0  MANHÃ  FRANCYS JOADMAR         23  25.782609               NaN   \n",
       "1  MANHÃ  FRANCYS JOADMAR         23  65.826087               NaN   \n",
       "\n",
       "   Ocupação Máxima  Professor Dias de Aulas  Frequencia de Alunos  \n",
       "0              NaN        0.0    01-10-2024                    30  \n",
       "1              NaN        NaN    01-10-2024                    75  "
      ]
     },
     "execution_count": 203,
     "metadata": {},
     "output_type": "execute_result"
    }
   ],
   "source": [
    "dataKEN_melted.head(2)"
   ]
  },
  {
   "cell_type": "code",
   "execution_count": 204,
   "id": "9e8e13b2-1400-43c6-a09f-a26d2c84234b",
   "metadata": {},
   "outputs": [
    {
     "data": {
      "text/plain": [
       "45687"
      ]
     },
     "execution_count": 204,
     "metadata": {},
     "output_type": "execute_result"
    }
   ],
   "source": [
    "dataKEN_melted['Frequencia de Alunos'].sum()"
   ]
  },
  {
   "cell_type": "markdown",
   "id": "298016cc-4dfa-4131-a4ad-f4cda5873cba",
   "metadata": {},
   "source": [
    "____"
   ]
  },
  {
   "cell_type": "code",
   "execution_count": null,
   "id": "8dfccef7-6ee3-4da5-947a-e9b1b852f69a",
   "metadata": {},
   "outputs": [],
   "source": []
  },
  {
   "cell_type": "code",
   "execution_count": null,
   "id": "7a831f49-651a-4ed6-a68e-f6325388e19e",
   "metadata": {},
   "outputs": [],
   "source": []
  },
  {
   "cell_type": "code",
   "execution_count": null,
   "id": "7561f45c-15e4-4c65-a9f5-8ed8417149ea",
   "metadata": {},
   "outputs": [],
   "source": []
  },
  {
   "cell_type": "markdown",
   "id": "049f06e6-316f-48a8-99ba-eb5fb64fc6ea",
   "metadata": {},
   "source": [
    "____"
   ]
  },
  {
   "cell_type": "markdown",
   "id": "39fffdf1-ae18-4f08-848b-178da1110f5e",
   "metadata": {},
   "source": [
    "# MARANGUAPE [MPE] - PREPROCESSING 9"
   ]
  },
  {
   "cell_type": "code",
   "execution_count": 205,
   "id": "428af907-4a34-4987-bca0-4d5f16d74ed7",
   "metadata": {},
   "outputs": [],
   "source": [
    "data9 = pd.read_excel('3.2 Mapa de Ocupação - OUT 2024.xlsx', sheet_name='MPE', skiprows=1, nrows=77)"
   ]
  },
  {
   "cell_type": "code",
   "execution_count": 206,
   "id": "9dad8a1b-d7b2-49f3-ae9e-68a93b0ae130",
   "metadata": {},
   "outputs": [],
   "source": [
    "dataMPE = data9.copy()"
   ]
  },
  {
   "cell_type": "code",
   "execution_count": null,
   "id": "f689e549-d0b0-46ec-b1f5-0b01054324e8",
   "metadata": {},
   "outputs": [],
   "source": []
  },
  {
   "cell_type": "code",
   "execution_count": null,
   "id": "7c0e502d-80d7-4ba0-ad48-8e85cf6d0cc1",
   "metadata": {},
   "outputs": [],
   "source": []
  },
  {
   "cell_type": "code",
   "execution_count": null,
   "id": "c990fc11-5e64-4ffa-a24a-d54c66dcb2a9",
   "metadata": {},
   "outputs": [],
   "source": []
  },
  {
   "cell_type": "markdown",
   "id": "68be9f0b-7998-488c-bfbf-e194fc077e78",
   "metadata": {},
   "source": [
    "### 1 PASSO: Removendo colunas desnecessárias"
   ]
  },
  {
   "cell_type": "code",
   "execution_count": 207,
   "id": "ccd297e8-2587-4e1a-8691-bb5f6979234a",
   "metadata": {},
   "outputs": [
    {
     "data": {
      "text/html": [
       "<div>\n",
       "<style scoped>\n",
       "    .dataframe tbody tr th:only-of-type {\n",
       "        vertical-align: middle;\n",
       "    }\n",
       "\n",
       "    .dataframe tbody tr th {\n",
       "        vertical-align: top;\n",
       "    }\n",
       "\n",
       "    .dataframe thead th {\n",
       "        text-align: right;\n",
       "    }\n",
       "</style>\n",
       "<table border=\"1\" class=\"dataframe\">\n",
       "  <thead>\n",
       "    <tr style=\"text-align: right;\">\n",
       "      <th></th>\n",
       "      <th>Unnamed: 0</th>\n",
       "      <th>Unnamed: 1</th>\n",
       "      <th>Unnamed: 2</th>\n",
       "      <th>CATEGORIA</th>\n",
       "      <th>MODALIDADE</th>\n",
       "      <th>DIA DA SEMANA</th>\n",
       "      <th>HORÁRIO</th>\n",
       "      <th>AUX.1</th>\n",
       "      <th>TURNO</th>\n",
       "      <th>AUX 2</th>\n",
       "      <th>...</th>\n",
       "      <th>2024-10-25 00:00:00</th>\n",
       "      <th>2024-10-28 00:00:00</th>\n",
       "      <th>2024-10-29 00:00:00</th>\n",
       "      <th>2024-10-30 00:00:00</th>\n",
       "      <th>2024-10-31 00:00:00</th>\n",
       "      <th>Aulas/mês</th>\n",
       "      <th>Média</th>\n",
       "      <th>Alunos/professor</th>\n",
       "      <th>Ocupação Máxima</th>\n",
       "      <th>Professor</th>\n",
       "    </tr>\n",
       "  </thead>\n",
       "  <tbody>\n",
       "    <tr>\n",
       "      <th>72</th>\n",
       "      <td>NaN</td>\n",
       "      <td>NaN</td>\n",
       "      <td>NaN</td>\n",
       "      <td>QUADRA</td>\n",
       "      <td>BEACH TENNIS INICIANTE</td>\n",
       "      <td>seg,ter,qua,qui,sex</td>\n",
       "      <td>21:00:00</td>\n",
       "      <td>21:00</td>\n",
       "      <td>NOITE</td>\n",
       "      <td>BEACH TENNIS INICIANTE - 21:00</td>\n",
       "      <td>...</td>\n",
       "      <td>10</td>\n",
       "      <td>15</td>\n",
       "      <td>16</td>\n",
       "      <td>9</td>\n",
       "      <td>NaN</td>\n",
       "      <td>22</td>\n",
       "      <td>15.000000</td>\n",
       "      <td>NaN</td>\n",
       "      <td>NaN</td>\n",
       "      <td>0.0</td>\n",
       "    </tr>\n",
       "    <tr>\n",
       "      <th>73</th>\n",
       "      <td>NaN</td>\n",
       "      <td>NaN</td>\n",
       "      <td>NaN</td>\n",
       "      <td>MUSC - C/P</td>\n",
       "      <td>A - MUSCULAÇÃO COM PERSONAL</td>\n",
       "      <td>seg, ter, qua, qui, sex</td>\n",
       "      <td>22:00:00</td>\n",
       "      <td>22:00</td>\n",
       "      <td>NOITE</td>\n",
       "      <td>A - MUSCULAÇÃO COM PERSONAL - 22:00</td>\n",
       "      <td>...</td>\n",
       "      <td>0</td>\n",
       "      <td>0</td>\n",
       "      <td>0</td>\n",
       "      <td>2</td>\n",
       "      <td>NaN</td>\n",
       "      <td>22</td>\n",
       "      <td>1.090909</td>\n",
       "      <td>NaN</td>\n",
       "      <td>NaN</td>\n",
       "      <td>0.0</td>\n",
       "    </tr>\n",
       "    <tr>\n",
       "      <th>74</th>\n",
       "      <td>NaN</td>\n",
       "      <td>NaN</td>\n",
       "      <td>NaN</td>\n",
       "      <td>MUSC - S/P</td>\n",
       "      <td>A - MUSCULAÇÃO SEM PERSONAL</td>\n",
       "      <td>seg, ter, qua, qui, sex</td>\n",
       "      <td>22:00:00</td>\n",
       "      <td>22:00</td>\n",
       "      <td>NOITE</td>\n",
       "      <td>A - MUSCULAÇÃO SEM PERSONAL - 22:00</td>\n",
       "      <td>...</td>\n",
       "      <td>3</td>\n",
       "      <td>16</td>\n",
       "      <td>31</td>\n",
       "      <td>14</td>\n",
       "      <td>NaN</td>\n",
       "      <td>22</td>\n",
       "      <td>12.318182</td>\n",
       "      <td>6.159091</td>\n",
       "      <td>NaN</td>\n",
       "      <td>2.0</td>\n",
       "    </tr>\n",
       "  </tbody>\n",
       "</table>\n",
       "<p>3 rows × 40 columns</p>\n",
       "</div>"
      ],
      "text/plain": [
       "    Unnamed: 0  Unnamed: 1  Unnamed: 2   CATEGORIA  \\\n",
       "72         NaN         NaN         NaN      QUADRA   \n",
       "73         NaN         NaN         NaN  MUSC - C/P   \n",
       "74         NaN         NaN         NaN  MUSC - S/P   \n",
       "\n",
       "                     MODALIDADE            DIA DA SEMANA   HORÁRIO  AUX.1  \\\n",
       "72       BEACH TENNIS INICIANTE      seg,ter,qua,qui,sex  21:00:00  21:00   \n",
       "73  A - MUSCULAÇÃO COM PERSONAL  seg, ter, qua, qui, sex  22:00:00  22:00   \n",
       "74  A - MUSCULAÇÃO SEM PERSONAL  seg, ter, qua, qui, sex  22:00:00  22:00   \n",
       "\n",
       "    TURNO                                AUX 2  ... 2024-10-25 00:00:00  \\\n",
       "72  NOITE       BEACH TENNIS INICIANTE - 21:00  ...                  10   \n",
       "73  NOITE  A - MUSCULAÇÃO COM PERSONAL - 22:00  ...                   0   \n",
       "74  NOITE  A - MUSCULAÇÃO SEM PERSONAL - 22:00  ...                   3   \n",
       "\n",
       "   2024-10-28 00:00:00 2024-10-29 00:00:00 2024-10-30 00:00:00  \\\n",
       "72                  15                  16                   9   \n",
       "73                   0                   0                   2   \n",
       "74                  16                  31                  14   \n",
       "\n",
       "   2024-10-31 00:00:00 Aulas/mês      Média Alunos/professor Ocupação Máxima  \\\n",
       "72                 NaN        22  15.000000              NaN             NaN   \n",
       "73                 NaN        22   1.090909              NaN             NaN   \n",
       "74                 NaN        22  12.318182         6.159091             NaN   \n",
       "\n",
       "   Professor  \n",
       "72       0.0  \n",
       "73       0.0  \n",
       "74       2.0  \n",
       "\n",
       "[3 rows x 40 columns]"
      ]
     },
     "execution_count": 207,
     "metadata": {},
     "output_type": "execute_result"
    }
   ],
   "source": [
    "dataMPE.tail(3)"
   ]
  },
  {
   "cell_type": "code",
   "execution_count": 208,
   "id": "9979f4b7-70a9-410f-89e7-efd581ebccb8",
   "metadata": {},
   "outputs": [
    {
     "data": {
      "text/plain": [
       "Unnamed: 0                                             NaN\n",
       "Unnamed: 1                                             NaN\n",
       "Unnamed: 2                                             NaN\n",
       "CATEGORIA                                       MUSC - S/P\n",
       "MODALIDADE                     A - MUSCULAÇÃO SEM PERSONAL\n",
       "DIA DA SEMANA                      seg, ter, qua, qui, sex\n",
       "HORÁRIO                                           22:00:00\n",
       "AUX.1                                                22:00\n",
       "TURNO                                                NOITE\n",
       "AUX 2                  A - MUSCULAÇÃO SEM PERSONAL - 22:00\n",
       "PROFESSOR                                             NILO\n",
       "AUX 3                   A - MUSCULAÇÃO SEM PERSONAL - NILO\n",
       "2024-10-01 00:00:00                                     14\n",
       "2024-10-02 00:00:00                                     11\n",
       "2024-10-03 00:00:00                                      5\n",
       "2024-10-04 00:00:00                                      3\n",
       "2024-10-07 00:00:00                                     12\n",
       "2024-10-08 00:00:00                                     19\n",
       "2024-10-09 00:00:00                                     11\n",
       "2024-10-10 00:00:00                                     11\n",
       "2024-10-11 00:00:00                                      6\n",
       "2024-10-14 00:00:00                                     26\n",
       "2024-10-15 00:00:00                                     13\n",
       "2024-10-16 00:00:00                                     14\n",
       "2024-10-17 00:00:00                                      2\n",
       "2024-10-18 00:00:00                                     10\n",
       "2024-10-21 00:00:00                                     15\n",
       "2024-10-22 00:00:00                                      7\n",
       "2024-10-23 00:00:00                                     21\n",
       "2024-10-24 00:00:00                                      7\n",
       "2024-10-25 00:00:00                                      3\n",
       "2024-10-28 00:00:00                                     16\n",
       "2024-10-29 00:00:00                                     31\n",
       "2024-10-30 00:00:00                                     14\n",
       "2024-10-31 00:00:00                                    NaN\n",
       "Aulas/mês                                               22\n",
       "Média                                            12.318182\n",
       "Alunos/professor                                  6.159091\n",
       "Ocupação Máxima                                        NaN\n",
       "Professor                                              2.0\n",
       "Name: 74, dtype: object"
      ]
     },
     "execution_count": 208,
     "metadata": {},
     "output_type": "execute_result"
    }
   ],
   "source": [
    "dataMPE.iloc[-1]"
   ]
  },
  {
   "cell_type": "code",
   "execution_count": 209,
   "id": "b6d718d8-1f46-420f-be35-6124df358c65",
   "metadata": {},
   "outputs": [
    {
     "data": {
      "text/plain": [
       "Index([       'Unnamed: 0',        'Unnamed: 1',        'Unnamed: 2',\n",
       "               'CATEGORIA',        'MODALIDADE',     'DIA DA SEMANA',\n",
       "                 'HORÁRIO',             'AUX.1',             'TURNO',\n",
       "                   'AUX 2',         'PROFESSOR',             'AUX 3',\n",
       "       2024-10-01 00:00:00, 2024-10-02 00:00:00, 2024-10-03 00:00:00,\n",
       "       2024-10-04 00:00:00, 2024-10-07 00:00:00, 2024-10-08 00:00:00,\n",
       "       2024-10-09 00:00:00, 2024-10-10 00:00:00, 2024-10-11 00:00:00,\n",
       "       2024-10-14 00:00:00, 2024-10-15 00:00:00, 2024-10-16 00:00:00,\n",
       "       2024-10-17 00:00:00, 2024-10-18 00:00:00, 2024-10-21 00:00:00,\n",
       "       2024-10-22 00:00:00, 2024-10-23 00:00:00, 2024-10-24 00:00:00,\n",
       "       2024-10-25 00:00:00, 2024-10-28 00:00:00, 2024-10-29 00:00:00,\n",
       "       2024-10-30 00:00:00, 2024-10-31 00:00:00,         'Aulas/mês',\n",
       "                   'Média',  'Alunos/professor',   'Ocupação Máxima',\n",
       "               'Professor'],\n",
       "      dtype='object')"
      ]
     },
     "execution_count": 209,
     "metadata": {},
     "output_type": "execute_result"
    }
   ],
   "source": [
    "dataMPE.columns"
   ]
  },
  {
   "cell_type": "code",
   "execution_count": null,
   "id": "f3dcd94e-2f2a-46ed-bfe5-73b3938b86b1",
   "metadata": {},
   "outputs": [],
   "source": []
  },
  {
   "cell_type": "code",
   "execution_count": null,
   "id": "ef1c2489-17bc-4331-a5f0-da35faa037ae",
   "metadata": {},
   "outputs": [],
   "source": []
  },
  {
   "cell_type": "code",
   "execution_count": 210,
   "id": "7fd5911a-c3ae-431e-bf5c-508822caf54b",
   "metadata": {},
   "outputs": [],
   "source": [
    "dropColumns = ['Unnamed: 0', 'Unnamed: 1', 'Unnamed: 2', 'AUX 2', 'AUX 3', 'HORÁRIO']"
   ]
  },
  {
   "cell_type": "code",
   "execution_count": 211,
   "id": "24455c72-d3bc-4ffb-b112-752981cf4b49",
   "metadata": {},
   "outputs": [],
   "source": [
    "dataMPE.drop(columns=dropColumns, inplace=True)"
   ]
  },
  {
   "cell_type": "markdown",
   "id": "835ef168-0c4b-4d52-859a-c97ad8fbff3b",
   "metadata": {},
   "source": [
    "- PRECISAMOS RENOMEAR A COLUNA AUX.1 COMO HORARIO"
   ]
  },
  {
   "cell_type": "code",
   "execution_count": 212,
   "id": "c1cd8fbe-db66-424c-97b9-e1eeefa9314d",
   "metadata": {},
   "outputs": [],
   "source": [
    "dataMPE.rename(columns={'AUX.1': 'HORÁRIO'}, inplace=True)"
   ]
  },
  {
   "cell_type": "code",
   "execution_count": 213,
   "id": "06911d51-15b3-49c2-8e01-4329bd6adf96",
   "metadata": {},
   "outputs": [
    {
     "data": {
      "text/html": [
       "<div>\n",
       "<style scoped>\n",
       "    .dataframe tbody tr th:only-of-type {\n",
       "        vertical-align: middle;\n",
       "    }\n",
       "\n",
       "    .dataframe tbody tr th {\n",
       "        vertical-align: top;\n",
       "    }\n",
       "\n",
       "    .dataframe thead th {\n",
       "        text-align: right;\n",
       "    }\n",
       "</style>\n",
       "<table border=\"1\" class=\"dataframe\">\n",
       "  <thead>\n",
       "    <tr style=\"text-align: right;\">\n",
       "      <th></th>\n",
       "      <th>CATEGORIA</th>\n",
       "      <th>MODALIDADE</th>\n",
       "      <th>DIA DA SEMANA</th>\n",
       "      <th>HORÁRIO</th>\n",
       "      <th>TURNO</th>\n",
       "      <th>PROFESSOR</th>\n",
       "      <th>2024-10-01 00:00:00</th>\n",
       "      <th>2024-10-02 00:00:00</th>\n",
       "      <th>2024-10-03 00:00:00</th>\n",
       "      <th>2024-10-04 00:00:00</th>\n",
       "      <th>...</th>\n",
       "      <th>2024-10-25 00:00:00</th>\n",
       "      <th>2024-10-28 00:00:00</th>\n",
       "      <th>2024-10-29 00:00:00</th>\n",
       "      <th>2024-10-30 00:00:00</th>\n",
       "      <th>2024-10-31 00:00:00</th>\n",
       "      <th>Aulas/mês</th>\n",
       "      <th>Média</th>\n",
       "      <th>Alunos/professor</th>\n",
       "      <th>Ocupação Máxima</th>\n",
       "      <th>Professor</th>\n",
       "    </tr>\n",
       "  </thead>\n",
       "  <tbody>\n",
       "    <tr>\n",
       "      <th>0</th>\n",
       "      <td>MUSC - C/P</td>\n",
       "      <td>A - MUSCULAÇÃO COM PERSONAL</td>\n",
       "      <td>seg, ter, qua, qui, sex</td>\n",
       "      <td>06:00</td>\n",
       "      <td>MANHÃ</td>\n",
       "      <td>NELSON</td>\n",
       "      <td>12</td>\n",
       "      <td>12</td>\n",
       "      <td>13</td>\n",
       "      <td>12</td>\n",
       "      <td>...</td>\n",
       "      <td>10</td>\n",
       "      <td>17</td>\n",
       "      <td>12</td>\n",
       "      <td>17</td>\n",
       "      <td>7</td>\n",
       "      <td>23</td>\n",
       "      <td>12.652174</td>\n",
       "      <td>NaN</td>\n",
       "      <td>NaN</td>\n",
       "      <td>0.0</td>\n",
       "    </tr>\n",
       "    <tr>\n",
       "      <th>1</th>\n",
       "      <td>MUSC - S/P</td>\n",
       "      <td>A - MUSCULAÇÃO SEM PERSONAL</td>\n",
       "      <td>seg, ter, qua, qui, sex</td>\n",
       "      <td>06:00</td>\n",
       "      <td>MANHÃ</td>\n",
       "      <td>NELSON</td>\n",
       "      <td>56</td>\n",
       "      <td>48</td>\n",
       "      <td>45</td>\n",
       "      <td>60</td>\n",
       "      <td>...</td>\n",
       "      <td>48</td>\n",
       "      <td>57</td>\n",
       "      <td>48</td>\n",
       "      <td>51</td>\n",
       "      <td>42</td>\n",
       "      <td>23</td>\n",
       "      <td>49.565217</td>\n",
       "      <td>24.782609</td>\n",
       "      <td>NaN</td>\n",
       "      <td>2.0</td>\n",
       "    </tr>\n",
       "  </tbody>\n",
       "</table>\n",
       "<p>2 rows × 34 columns</p>\n",
       "</div>"
      ],
      "text/plain": [
       "    CATEGORIA                   MODALIDADE            DIA DA SEMANA HORÁRIO  \\\n",
       "0  MUSC - C/P  A - MUSCULAÇÃO COM PERSONAL  seg, ter, qua, qui, sex   06:00   \n",
       "1  MUSC - S/P  A - MUSCULAÇÃO SEM PERSONAL  seg, ter, qua, qui, sex   06:00   \n",
       "\n",
       "   TURNO PROFESSOR 2024-10-01 00:00:00 2024-10-02 00:00:00  \\\n",
       "0  MANHÃ    NELSON                  12                  12   \n",
       "1  MANHÃ    NELSON                  56                  48   \n",
       "\n",
       "  2024-10-03 00:00:00 2024-10-04 00:00:00  ... 2024-10-25 00:00:00  \\\n",
       "0                  13                  12  ...                  10   \n",
       "1                  45                  60  ...                  48   \n",
       "\n",
       "  2024-10-28 00:00:00 2024-10-29 00:00:00 2024-10-30 00:00:00  \\\n",
       "0                  17                  12                  17   \n",
       "1                  57                  48                  51   \n",
       "\n",
       "  2024-10-31 00:00:00 Aulas/mês      Média Alunos/professor Ocupação Máxima  \\\n",
       "0                   7        23  12.652174              NaN             NaN   \n",
       "1                  42        23  49.565217        24.782609             NaN   \n",
       "\n",
       "  Professor  \n",
       "0       0.0  \n",
       "1       2.0  \n",
       "\n",
       "[2 rows x 34 columns]"
      ]
     },
     "execution_count": 213,
     "metadata": {},
     "output_type": "execute_result"
    }
   ],
   "source": [
    "dataMPE.head(2)"
   ]
  },
  {
   "cell_type": "code",
   "execution_count": null,
   "id": "5862a272-46b5-428b-96df-826d6e262f45",
   "metadata": {},
   "outputs": [],
   "source": []
  },
  {
   "cell_type": "code",
   "execution_count": null,
   "id": "846dd81b-0954-4943-9146-3e64612e6f39",
   "metadata": {},
   "outputs": [],
   "source": []
  },
  {
   "cell_type": "code",
   "execution_count": null,
   "id": "b908bcc0-c1b8-4e31-944d-10cf557248e0",
   "metadata": {},
   "outputs": [],
   "source": []
  },
  {
   "cell_type": "markdown",
   "id": "c12388bb-1510-4603-9f4e-574d88970c00",
   "metadata": {},
   "source": [
    "### 2 PASSO: Renomeando strings de datas, para que o pandas possa aceitar como colunas"
   ]
  },
  {
   "cell_type": "code",
   "execution_count": 214,
   "id": "234eda33-d6e3-47b0-9e5e-4001f475225a",
   "metadata": {},
   "outputs": [
    {
     "name": "stdout",
     "output_type": "stream",
     "text": [
      "CATEGORIA\n",
      "MODALIDADE\n",
      "DIA DA SEMANA\n",
      "HORÁRIO\n",
      "TURNO\n",
      "PROFESSOR\n",
      "2024-10-01 00:00:00\n",
      "2024-10-02 00:00:00\n",
      "2024-10-03 00:00:00\n",
      "2024-10-04 00:00:00\n",
      "2024-10-07 00:00:00\n",
      "2024-10-08 00:00:00\n",
      "2024-10-09 00:00:00\n",
      "2024-10-10 00:00:00\n",
      "2024-10-11 00:00:00\n",
      "2024-10-14 00:00:00\n",
      "2024-10-15 00:00:00\n",
      "2024-10-16 00:00:00\n",
      "2024-10-17 00:00:00\n",
      "2024-10-18 00:00:00\n",
      "2024-10-21 00:00:00\n",
      "2024-10-22 00:00:00\n",
      "2024-10-23 00:00:00\n",
      "2024-10-24 00:00:00\n",
      "2024-10-25 00:00:00\n",
      "2024-10-28 00:00:00\n",
      "2024-10-29 00:00:00\n",
      "2024-10-30 00:00:00\n",
      "2024-10-31 00:00:00\n",
      "Aulas/mês\n",
      "Média\n",
      "Alunos/professor\n",
      "Ocupação Máxima\n",
      "Professor\n"
     ]
    }
   ],
   "source": [
    "for columns in dataMPE.columns:\n",
    "    print(columns)"
   ]
  },
  {
   "cell_type": "code",
   "execution_count": 215,
   "id": "cccf6cc2-305e-4b78-bc30-baeed98eeaa5",
   "metadata": {},
   "outputs": [],
   "source": [
    "dataMPE.columns = [\n",
    "'CATEGORIA',\n",
    "'MODALIDADE',\n",
    "'DIA DA SEMANA',\n",
    "'HORÁRIO',\n",
    "'TURNO',\n",
    "'PROFESSOR',\n",
    "'2024-10-01 00:00:00',\n",
    "'2024-10-02 00:00:00',\n",
    "'2024-10-03 00:00:00',\n",
    "'2024-10-04 00:00:00',\n",
    "'2024-10-07 00:00:00',\n",
    "'2024-10-08 00:00:00',\n",
    "'2024-10-09 00:00:00',\n",
    "'2024-10-10 00:00:00',\n",
    "'2024-10-11 00:00:00',\n",
    "'2024-10-14 00:00:00',\n",
    "'2024-10-15 00:00:00',\n",
    "'2024-10-16 00:00:00',\n",
    "'2024-10-17 00:00:00',\n",
    "'2024-10-18 00:00:00',\n",
    "'2024-10-21 00:00:00',\n",
    "'2024-10-22 00:00:00',\n",
    "'2024-10-23 00:00:00',\n",
    "'2024-10-24 00:00:00',\n",
    "'2024-10-25 00:00:00',\n",
    "'2024-10-28 00:00:00',\n",
    "'2024-10-29 00:00:00',\n",
    "'2024-10-30 00:00:00',\n",
    "'2024-10-31 00:00:00',\n",
    "'Aulas/mês',\n",
    "'Média',\n",
    "'Alunos/professor',\n",
    "'Ocupação Máxima',\n",
    "'Professor'\n",
    "]"
   ]
  },
  {
   "cell_type": "code",
   "execution_count": 216,
   "id": "c9c1bfa5-9166-4ebb-a2c8-64a151a38c8d",
   "metadata": {},
   "outputs": [
    {
     "data": {
      "text/plain": [
       "Index(['CATEGORIA', 'MODALIDADE', 'DIA DA SEMANA', 'HORÁRIO', 'TURNO',\n",
       "       'PROFESSOR', '2024-10-01 00:00:00', '2024-10-02 00:00:00',\n",
       "       '2024-10-03 00:00:00', '2024-10-04 00:00:00', '2024-10-07 00:00:00',\n",
       "       '2024-10-08 00:00:00', '2024-10-09 00:00:00', '2024-10-10 00:00:00',\n",
       "       '2024-10-11 00:00:00', '2024-10-14 00:00:00', '2024-10-15 00:00:00',\n",
       "       '2024-10-16 00:00:00', '2024-10-17 00:00:00', '2024-10-18 00:00:00',\n",
       "       '2024-10-21 00:00:00', '2024-10-22 00:00:00', '2024-10-23 00:00:00',\n",
       "       '2024-10-24 00:00:00', '2024-10-25 00:00:00', '2024-10-28 00:00:00',\n",
       "       '2024-10-29 00:00:00', '2024-10-30 00:00:00', '2024-10-31 00:00:00',\n",
       "       'Aulas/mês', 'Média', 'Alunos/professor', 'Ocupação Máxima',\n",
       "       'Professor'],\n",
       "      dtype='object')"
      ]
     },
     "execution_count": 216,
     "metadata": {},
     "output_type": "execute_result"
    }
   ],
   "source": [
    "dataMPE.columns"
   ]
  },
  {
   "cell_type": "code",
   "execution_count": null,
   "id": "35ed010e-fe9a-49d3-a0b3-80784f7f0570",
   "metadata": {},
   "outputs": [],
   "source": []
  },
  {
   "cell_type": "code",
   "execution_count": null,
   "id": "2eb334cc-d5e7-426b-b892-8692e3262d08",
   "metadata": {},
   "outputs": [],
   "source": []
  },
  {
   "cell_type": "code",
   "execution_count": null,
   "id": "a69afd66-29be-44ec-85b7-4c05e3e4ca21",
   "metadata": {},
   "outputs": [],
   "source": []
  },
  {
   "cell_type": "markdown",
   "id": "30025253-12e9-4a7a-a48e-651362421250",
   "metadata": {},
   "source": [
    "### PASSO 3: Escolhendo colunas com o nome de 'datas', para renomear pelo o tipo dia, mês e ano. e removendo os 00 de horas"
   ]
  },
  {
   "cell_type": "code",
   "execution_count": 217,
   "id": "252aa052-419b-4c65-b0d9-864ce3c662a6",
   "metadata": {},
   "outputs": [],
   "source": [
    "colunas = [\n",
    "'2024-10-01 00:00:00',\n",
    "'2024-10-02 00:00:00',\n",
    "'2024-10-03 00:00:00',\n",
    "'2024-10-04 00:00:00',\n",
    "'2024-10-07 00:00:00',\n",
    "'2024-10-08 00:00:00',\n",
    "'2024-10-09 00:00:00',\n",
    "'2024-10-10 00:00:00',\n",
    "'2024-10-11 00:00:00',\n",
    "'2024-10-14 00:00:00',\n",
    "'2024-10-15 00:00:00',\n",
    "'2024-10-16 00:00:00',\n",
    "'2024-10-17 00:00:00',\n",
    "'2024-10-18 00:00:00',\n",
    "'2024-10-21 00:00:00',\n",
    "'2024-10-22 00:00:00',\n",
    "'2024-10-23 00:00:00',\n",
    "'2024-10-24 00:00:00',\n",
    "'2024-10-25 00:00:00',\n",
    "'2024-10-28 00:00:00',\n",
    "'2024-10-29 00:00:00',\n",
    "'2024-10-30 00:00:00',\n",
    "'2024-10-31 00:00:00',\n",
    "]"
   ]
  },
  {
   "cell_type": "code",
   "execution_count": 218,
   "id": "0c17aba7-685f-4508-8761-c625adeb4fcf",
   "metadata": {},
   "outputs": [],
   "source": [
    "novas_colunas_MPE = []"
   ]
  },
  {
   "cell_type": "code",
   "execution_count": 219,
   "id": "0ed67f71-c4d7-407b-8407-5c92ea450419",
   "metadata": {},
   "outputs": [],
   "source": [
    "for columns in colunas:\n",
    "    # Remove a parte da hora\n",
    "    data_sem_hora = columns.split(' ')[0]\n",
    "    \n",
    "    # Formata para o formato DD-MM-YYYY\n",
    "    ano, mes, dia = data_sem_hora.split('-')\n",
    "    novo_nome = f'{dia}-{mes}-{ano}'\n",
    "    novas_colunas_MPE.append(novo_nome)"
   ]
  },
  {
   "cell_type": "code",
   "execution_count": 220,
   "id": "76c4b11f-fdb3-45b3-9644-973fbee36d1d",
   "metadata": {},
   "outputs": [
    {
     "data": {
      "text/plain": [
       "['01-10-2024',\n",
       " '02-10-2024',\n",
       " '03-10-2024',\n",
       " '04-10-2024',\n",
       " '07-10-2024',\n",
       " '08-10-2024',\n",
       " '09-10-2024',\n",
       " '10-10-2024',\n",
       " '11-10-2024',\n",
       " '14-10-2024',\n",
       " '15-10-2024',\n",
       " '16-10-2024',\n",
       " '17-10-2024',\n",
       " '18-10-2024',\n",
       " '21-10-2024',\n",
       " '22-10-2024',\n",
       " '23-10-2024',\n",
       " '24-10-2024',\n",
       " '25-10-2024',\n",
       " '28-10-2024',\n",
       " '29-10-2024',\n",
       " '30-10-2024',\n",
       " '31-10-2024']"
      ]
     },
     "execution_count": 220,
     "metadata": {},
     "output_type": "execute_result"
    }
   ],
   "source": [
    "novas_colunas_MPE"
   ]
  },
  {
   "cell_type": "code",
   "execution_count": null,
   "id": "2d3533fd-93c2-42d1-b449-4b12450b867c",
   "metadata": {},
   "outputs": [],
   "source": []
  },
  {
   "cell_type": "code",
   "execution_count": null,
   "id": "bafcd2e3-976d-4ff2-9838-1067b8ad3b10",
   "metadata": {},
   "outputs": [],
   "source": []
  },
  {
   "cell_type": "code",
   "execution_count": null,
   "id": "ab2a58f2-fb8f-4348-bb01-16ef6212bf41",
   "metadata": {},
   "outputs": [],
   "source": []
  },
  {
   "cell_type": "markdown",
   "id": "a68620c8-1ff9-4331-87cb-b4bb23f59df9",
   "metadata": {},
   "source": [
    "### PASSO 4 renomeando colunas e acrescentando o novo formato "
   ]
  },
  {
   "cell_type": "markdown",
   "id": "b2069b69-89fa-4833-8eb0-0db52479a81c",
   "metadata": {},
   "source": [
    "copie as colunas que escolheu para renomear, e cole o formato novo no lugar das velhas"
   ]
  },
  {
   "cell_type": "code",
   "execution_count": null,
   "id": "5ec4bac3-f52b-4139-867c-05d5eb8d23b7",
   "metadata": {},
   "outputs": [],
   "source": []
  },
  {
   "cell_type": "code",
   "execution_count": 221,
   "id": "fc2e6524-99e1-4606-87c7-929d41752125",
   "metadata": {},
   "outputs": [],
   "source": [
    "# Adicionando as datas formatadas as colunas, copiando e colando"
   ]
  },
  {
   "cell_type": "code",
   "execution_count": 222,
   "id": "3c51cc7e-be96-4a4e-b7aa-2e5d6fe0f6db",
   "metadata": {},
   "outputs": [
    {
     "name": "stdout",
     "output_type": "stream",
     "text": [
      "CATEGORIA\n",
      "MODALIDADE\n",
      "DIA DA SEMANA\n",
      "HORÁRIO\n",
      "TURNO\n",
      "PROFESSOR\n",
      "2024-10-01 00:00:00\n",
      "2024-10-02 00:00:00\n",
      "2024-10-03 00:00:00\n",
      "2024-10-04 00:00:00\n",
      "2024-10-07 00:00:00\n",
      "2024-10-08 00:00:00\n",
      "2024-10-09 00:00:00\n",
      "2024-10-10 00:00:00\n",
      "2024-10-11 00:00:00\n",
      "2024-10-14 00:00:00\n",
      "2024-10-15 00:00:00\n",
      "2024-10-16 00:00:00\n",
      "2024-10-17 00:00:00\n",
      "2024-10-18 00:00:00\n",
      "2024-10-21 00:00:00\n",
      "2024-10-22 00:00:00\n",
      "2024-10-23 00:00:00\n",
      "2024-10-24 00:00:00\n",
      "2024-10-25 00:00:00\n",
      "2024-10-28 00:00:00\n",
      "2024-10-29 00:00:00\n",
      "2024-10-30 00:00:00\n",
      "2024-10-31 00:00:00\n",
      "Aulas/mês\n",
      "Média\n",
      "Alunos/professor\n",
      "Ocupação Máxima\n",
      "Professor\n"
     ]
    }
   ],
   "source": [
    "for columns in dataMPE.columns:\n",
    "    print (columns)"
   ]
  },
  {
   "cell_type": "code",
   "execution_count": 223,
   "id": "7d5a43a3-f5ec-4c2a-ba20-3c8e50118714",
   "metadata": {},
   "outputs": [],
   "source": [
    "dataMPE.columns = [\n",
    "'CATEGORIA',\n",
    "'MODALIDADE',\n",
    "'DIA DA SEMANA',\n",
    "'HORÁRIO',\n",
    "'TURNO',\n",
    "'PROFESSOR',\n",
    "'01-10-2024',\n",
    "'02-10-2024',\n",
    "'03-10-2024',\n",
    "'04-10-2024',\n",
    "'07-10-2024',\n",
    "'08-10-2024',\n",
    "'09-10-2024',\n",
    "'10-10-2024',\n",
    "'11-10-2024',\n",
    "'14-10-2024',\n",
    "'15-10-2024',\n",
    "'16-10-2024',\n",
    "'17-10-2024',\n",
    "'18-10-2024',\n",
    "'21-10-2024',\n",
    "'22-10-2024',\n",
    "'23-10-2024',\n",
    "'24-10-2024',\n",
    "'25-10-2024',\n",
    "'28-10-2024',\n",
    "'29-10-2024',\n",
    "'30-10-2024',\n",
    "'31-10-2024',\n",
    "'Aulas/mês',\n",
    "'Média',\n",
    "'Alunos/professor',\n",
    "'Ocupação Máxima',\n",
    "'Professor'\n",
    "]"
   ]
  },
  {
   "cell_type": "code",
   "execution_count": null,
   "id": "5c19471f-a20e-494b-9d6a-5dcb5032bde5",
   "metadata": {},
   "outputs": [],
   "source": []
  },
  {
   "cell_type": "code",
   "execution_count": null,
   "id": "8ae8ce64-568e-482f-a0f8-dd96bba3ab0e",
   "metadata": {},
   "outputs": [],
   "source": []
  },
  {
   "cell_type": "code",
   "execution_count": null,
   "id": "c8688cec-721d-4dd5-8b39-089716661b7b",
   "metadata": {},
   "outputs": [],
   "source": []
  },
  {
   "cell_type": "markdown",
   "id": "0af9e70f-71fe-4e2f-8ee7-0a63b404db87",
   "metadata": {},
   "source": [
    "### 5 PASSO: Usar o Loop for para substitituir os valores das frequencia de 'x' e 'X' por zero, com o método do pd.to_numeric) "
   ]
  },
  {
   "cell_type": "code",
   "execution_count": 224,
   "id": "ee2721f2-9964-4eba-98e3-814300e87b94",
   "metadata": {},
   "outputs": [],
   "source": [
    "colunas = [\n",
    "'01-10-2024',\n",
    "'02-10-2024',\n",
    "'03-10-2024',\n",
    "'04-10-2024',\n",
    "'07-10-2024',\n",
    "'08-10-2024',\n",
    "'09-10-2024',\n",
    "'10-10-2024',\n",
    "'11-10-2024',\n",
    "'14-10-2024',\n",
    "'15-10-2024',\n",
    "'16-10-2024',\n",
    "'17-10-2024',\n",
    "'18-10-2024',\n",
    "'21-10-2024',\n",
    "'22-10-2024',\n",
    "'23-10-2024',\n",
    "'24-10-2024',\n",
    "'25-10-2024',\n",
    "'28-10-2024',\n",
    "'29-10-2024',\n",
    "'30-10-2024',\n",
    "'31-10-2024'\n",
    "]"
   ]
  },
  {
   "cell_type": "markdown",
   "id": "af7111be-9418-43fe-bdbf-9367f1c79ede",
   "metadata": {},
   "source": [
    "Fazendo a limpeza profunda, formatando valores para numeros, preenchendo com zeros os nulos e transformando em inteiros"
   ]
  },
  {
   "cell_type": "code",
   "execution_count": 225,
   "id": "6c60f26e-04b8-45ca-b97b-48c7274e56ca",
   "metadata": {},
   "outputs": [],
   "source": [
    "for columns in colunas:\n",
    "    # dataMES[columns] = pd.to_numeric(dataMES[columns], errors='coerce')\n",
    "    dataMPE[columns] = pd.to_numeric(dataMPE[columns], errors='coerce').fillna(0).astype(int)"
   ]
  },
  {
   "cell_type": "code",
   "execution_count": null,
   "id": "2db9ed5a-cbe0-486d-8656-8be5f3d91ef5",
   "metadata": {},
   "outputs": [],
   "source": []
  },
  {
   "cell_type": "code",
   "execution_count": null,
   "id": "e332389d-9d52-41b1-a187-2d2c4d797ea4",
   "metadata": {},
   "outputs": [],
   "source": []
  },
  {
   "cell_type": "code",
   "execution_count": null,
   "id": "dc4c6237-b69a-447c-928d-c817417e1f94",
   "metadata": {},
   "outputs": [],
   "source": []
  },
  {
   "cell_type": "markdown",
   "id": "a6274c9e-c224-48f9-991a-f88e37d59958",
   "metadata": {},
   "source": [
    "### PASSO 6: MELT derretendo as colunas em formato de datas"
   ]
  },
  {
   "cell_type": "markdown",
   "id": "026d9403-2956-4ebe-9bed-a2ee790cdcc2",
   "metadata": {},
   "source": [
    "o MELT ele pega as colunas que estão na horizontal e cria uma coluna de categorias, e depois ele cria outra coluna com os valores dessas colunas que foram transformadas em dados categóricos"
   ]
  },
  {
   "cell_type": "code",
   "execution_count": 226,
   "id": "037c7675-37b2-4191-af9b-7bc80a3de158",
   "metadata": {},
   "outputs": [],
   "source": [
    "colunas_para_melt = [\n",
    "'01-10-2024',\n",
    "'02-10-2024',\n",
    "'03-10-2024',\n",
    "'04-10-2024',\n",
    "'07-10-2024',\n",
    "'08-10-2024',\n",
    "'09-10-2024',\n",
    "'10-10-2024',\n",
    "'11-10-2024',\n",
    "'14-10-2024',\n",
    "'15-10-2024',\n",
    "'16-10-2024',\n",
    "'17-10-2024',\n",
    "'18-10-2024',\n",
    "'21-10-2024',\n",
    "'22-10-2024',\n",
    "'23-10-2024',\n",
    "'24-10-2024',\n",
    "'25-10-2024',\n",
    "'28-10-2024',\n",
    "'29-10-2024',\n",
    "'30-10-2024',\n",
    "'31-10-2024'\n",
    "]"
   ]
  },
  {
   "cell_type": "markdown",
   "id": "a1ccdb84-95ad-4ba2-8921-7c6b7ebcd9ec",
   "metadata": {},
   "source": [
    "#### Indentificando as colunas que Eu quero manter em meu dataframe"
   ]
  },
  {
   "cell_type": "code",
   "execution_count": 227,
   "id": "f913b8ec-d91a-4e2d-af4f-cfe8fff735b3",
   "metadata": {},
   "outputs": [],
   "source": [
    "# Identifica as colunas que você quer manter como identificadoras (id_vars)\n",
    "# São as colunas que não serão \"unpivoted\"\n",
    "id_vars_cols = [columns for columns in dataMPE.columns if columns not in colunas_para_melt]"
   ]
  },
  {
   "cell_type": "code",
   "execution_count": null,
   "id": "f7cecd47-2a85-4820-8c2d-2cee9367d821",
   "metadata": {},
   "outputs": [],
   "source": []
  },
  {
   "cell_type": "code",
   "execution_count": null,
   "id": "71a8db85-47f7-45d9-b9dd-52b94c29b124",
   "metadata": {},
   "outputs": [],
   "source": []
  },
  {
   "cell_type": "code",
   "execution_count": null,
   "id": "e9d2ae30-b68f-4b80-be43-b76aadefe712",
   "metadata": {},
   "outputs": [],
   "source": []
  },
  {
   "cell_type": "code",
   "execution_count": 228,
   "id": "4646691b-bff0-4100-b5a5-37b7f745d1c8",
   "metadata": {},
   "outputs": [],
   "source": [
    "dataMPE_melted = pd.melt(dataMPE,\n",
    "                      id_vars=id_vars_cols, #colunas que Eu deixei, que ficaram.\n",
    "                      value_vars=colunas_para_melt, #colunas que vão se transformar.\n",
    "                      var_name='Dias de Aulas', # nome da coluna categorica\n",
    "                      value_name='Frequencia de Alunos') # nome da coluna de valores"
   ]
  },
  {
   "cell_type": "code",
   "execution_count": 229,
   "id": "a8aa274d-0083-43d9-969d-4873e83c5b43",
   "metadata": {},
   "outputs": [
    {
     "data": {
      "text/html": [
       "<div>\n",
       "<style scoped>\n",
       "    .dataframe tbody tr th:only-of-type {\n",
       "        vertical-align: middle;\n",
       "    }\n",
       "\n",
       "    .dataframe tbody tr th {\n",
       "        vertical-align: top;\n",
       "    }\n",
       "\n",
       "    .dataframe thead th {\n",
       "        text-align: right;\n",
       "    }\n",
       "</style>\n",
       "<table border=\"1\" class=\"dataframe\">\n",
       "  <thead>\n",
       "    <tr style=\"text-align: right;\">\n",
       "      <th></th>\n",
       "      <th>CATEGORIA</th>\n",
       "      <th>MODALIDADE</th>\n",
       "      <th>DIA DA SEMANA</th>\n",
       "      <th>HORÁRIO</th>\n",
       "      <th>TURNO</th>\n",
       "      <th>PROFESSOR</th>\n",
       "      <th>Aulas/mês</th>\n",
       "      <th>Média</th>\n",
       "      <th>Alunos/professor</th>\n",
       "      <th>Ocupação Máxima</th>\n",
       "      <th>Professor</th>\n",
       "      <th>Dias de Aulas</th>\n",
       "      <th>Frequencia de Alunos</th>\n",
       "    </tr>\n",
       "  </thead>\n",
       "  <tbody>\n",
       "    <tr>\n",
       "      <th>0</th>\n",
       "      <td>MUSC - C/P</td>\n",
       "      <td>A - MUSCULAÇÃO COM PERSONAL</td>\n",
       "      <td>seg, ter, qua, qui, sex</td>\n",
       "      <td>06:00</td>\n",
       "      <td>MANHÃ</td>\n",
       "      <td>NELSON</td>\n",
       "      <td>23</td>\n",
       "      <td>12.652174</td>\n",
       "      <td>NaN</td>\n",
       "      <td>NaN</td>\n",
       "      <td>0.0</td>\n",
       "      <td>01-10-2024</td>\n",
       "      <td>12</td>\n",
       "    </tr>\n",
       "    <tr>\n",
       "      <th>1</th>\n",
       "      <td>MUSC - S/P</td>\n",
       "      <td>A - MUSCULAÇÃO SEM PERSONAL</td>\n",
       "      <td>seg, ter, qua, qui, sex</td>\n",
       "      <td>06:00</td>\n",
       "      <td>MANHÃ</td>\n",
       "      <td>NELSON</td>\n",
       "      <td>23</td>\n",
       "      <td>49.565217</td>\n",
       "      <td>24.782609</td>\n",
       "      <td>NaN</td>\n",
       "      <td>2.0</td>\n",
       "      <td>01-10-2024</td>\n",
       "      <td>56</td>\n",
       "    </tr>\n",
       "  </tbody>\n",
       "</table>\n",
       "</div>"
      ],
      "text/plain": [
       "    CATEGORIA                   MODALIDADE            DIA DA SEMANA HORÁRIO  \\\n",
       "0  MUSC - C/P  A - MUSCULAÇÃO COM PERSONAL  seg, ter, qua, qui, sex   06:00   \n",
       "1  MUSC - S/P  A - MUSCULAÇÃO SEM PERSONAL  seg, ter, qua, qui, sex   06:00   \n",
       "\n",
       "   TURNO PROFESSOR  Aulas/mês      Média  Alunos/professor  Ocupação Máxima  \\\n",
       "0  MANHÃ    NELSON         23  12.652174               NaN              NaN   \n",
       "1  MANHÃ    NELSON         23  49.565217         24.782609              NaN   \n",
       "\n",
       "   Professor Dias de Aulas  Frequencia de Alunos  \n",
       "0        0.0    01-10-2024                    12  \n",
       "1        2.0    01-10-2024                    56  "
      ]
     },
     "execution_count": 229,
     "metadata": {},
     "output_type": "execute_result"
    }
   ],
   "source": [
    "dataMPE_melted.head(2)"
   ]
  },
  {
   "cell_type": "code",
   "execution_count": 230,
   "id": "20407cf2-fc31-4a6f-9f08-67f0fa3ea375",
   "metadata": {},
   "outputs": [
    {
     "data": {
      "text/plain": [
       "26108"
      ]
     },
     "execution_count": 230,
     "metadata": {},
     "output_type": "execute_result"
    }
   ],
   "source": [
    "dataMPE_melted['Frequencia de Alunos'].sum()"
   ]
  },
  {
   "cell_type": "markdown",
   "id": "53f34891-0892-4a24-a6ff-f34d60898f0f",
   "metadata": {},
   "source": [
    "____"
   ]
  },
  {
   "cell_type": "code",
   "execution_count": null,
   "id": "603865f3-435f-43b9-b100-337fc51b3ca4",
   "metadata": {},
   "outputs": [],
   "source": []
  },
  {
   "cell_type": "code",
   "execution_count": null,
   "id": "73ffba7f-732e-430d-bc09-824da361742d",
   "metadata": {},
   "outputs": [],
   "source": []
  },
  {
   "cell_type": "code",
   "execution_count": null,
   "id": "0810295c-e74e-484e-a585-6d2d9f59299e",
   "metadata": {},
   "outputs": [],
   "source": []
  },
  {
   "cell_type": "markdown",
   "id": "f9c589a8-acc1-477d-bf70-f98a1744e78e",
   "metadata": {},
   "source": [
    "____"
   ]
  },
  {
   "cell_type": "markdown",
   "id": "1454e142-6bd6-4b90-b683-249d4cdd4e1c",
   "metadata": {},
   "source": [
    "# MARAPONGA [MAR] - PREPROCESSING 10"
   ]
  },
  {
   "cell_type": "code",
   "execution_count": 231,
   "id": "a90a506c-4d35-46cc-9114-ff7bbed4d4c6",
   "metadata": {},
   "outputs": [],
   "source": [
    "data10 = pd.read_excel('3.2 Mapa de Ocupação - OUT 2024.xlsx', sheet_name='MAR', skiprows=1, nrows=86)"
   ]
  },
  {
   "cell_type": "code",
   "execution_count": 232,
   "id": "34c515c8-43f3-4288-bc07-aca8c452d1ec",
   "metadata": {},
   "outputs": [],
   "source": [
    "dataMAR = data10.copy()"
   ]
  },
  {
   "cell_type": "code",
   "execution_count": null,
   "id": "aff9b5b4-78a1-44aa-bb23-84385308adac",
   "metadata": {},
   "outputs": [],
   "source": []
  },
  {
   "cell_type": "code",
   "execution_count": null,
   "id": "37a81869-b0f6-4695-9f3b-ca5c2507b467",
   "metadata": {},
   "outputs": [],
   "source": []
  },
  {
   "cell_type": "code",
   "execution_count": null,
   "id": "e343d111-d08e-4a1c-97e4-17969d27a203",
   "metadata": {},
   "outputs": [],
   "source": []
  },
  {
   "cell_type": "markdown",
   "id": "28ce4492-2dc0-4b13-854c-7e583595688f",
   "metadata": {},
   "source": [
    "### 1 PASSO: Removendo colunas desnecessárias"
   ]
  },
  {
   "cell_type": "code",
   "execution_count": 233,
   "id": "210a7736-27ae-4861-b935-b48f24c1bbb3",
   "metadata": {},
   "outputs": [
    {
     "data": {
      "text/html": [
       "<div>\n",
       "<style scoped>\n",
       "    .dataframe tbody tr th:only-of-type {\n",
       "        vertical-align: middle;\n",
       "    }\n",
       "\n",
       "    .dataframe tbody tr th {\n",
       "        vertical-align: top;\n",
       "    }\n",
       "\n",
       "    .dataframe thead th {\n",
       "        text-align: right;\n",
       "    }\n",
       "</style>\n",
       "<table border=\"1\" class=\"dataframe\">\n",
       "  <thead>\n",
       "    <tr style=\"text-align: right;\">\n",
       "      <th></th>\n",
       "      <th>Unnamed: 0</th>\n",
       "      <th>Unnamed: 1</th>\n",
       "      <th>Unnamed: 2</th>\n",
       "      <th>CATEGORIA</th>\n",
       "      <th>MODALIDADE</th>\n",
       "      <th>DIA DA SEMANA</th>\n",
       "      <th>HORÁRIO</th>\n",
       "      <th>AUX.1</th>\n",
       "      <th>TURNO</th>\n",
       "      <th>AUX 2</th>\n",
       "      <th>...</th>\n",
       "      <th>2024-10-25 00:00:00</th>\n",
       "      <th>2024-10-28 00:00:00</th>\n",
       "      <th>2024-10-29 00:00:00</th>\n",
       "      <th>2024-10-30 00:00:00</th>\n",
       "      <th>2024-10-31 00:00:00</th>\n",
       "      <th>Média alunos p/ professor</th>\n",
       "      <th>Média</th>\n",
       "      <th>Alunos/professor</th>\n",
       "      <th>Ocupação Máxima</th>\n",
       "      <th>Professor</th>\n",
       "    </tr>\n",
       "  </thead>\n",
       "  <tbody>\n",
       "    <tr>\n",
       "      <th>83</th>\n",
       "      <td>NaN</td>\n",
       "      <td>NaN</td>\n",
       "      <td>NaN</td>\n",
       "      <td>QUADRA</td>\n",
       "      <td>BEACH TENIS</td>\n",
       "      <td>seg, ter, qua, qui, sex</td>\n",
       "      <td>21:00:00</td>\n",
       "      <td>21:00</td>\n",
       "      <td>NOITE</td>\n",
       "      <td>BEACH TENIS  - 21:00</td>\n",
       "      <td>...</td>\n",
       "      <td>7</td>\n",
       "      <td>8</td>\n",
       "      <td>14</td>\n",
       "      <td>NaN</td>\n",
       "      <td>NaN</td>\n",
       "      <td>18</td>\n",
       "      <td>9.444444</td>\n",
       "      <td>NaN</td>\n",
       "      <td>NaN</td>\n",
       "      <td>NaN</td>\n",
       "    </tr>\n",
       "    <tr>\n",
       "      <th>84</th>\n",
       "      <td>NaN</td>\n",
       "      <td>NaN</td>\n",
       "      <td>NaN</td>\n",
       "      <td>MUSC - C/P</td>\n",
       "      <td>A - MUSCULAÇÃO COM PERSONAL</td>\n",
       "      <td>seg, ter, qua, qui, sex</td>\n",
       "      <td>22:00:00</td>\n",
       "      <td>22:00</td>\n",
       "      <td>NOITE</td>\n",
       "      <td>A - MUSCULAÇÃO COM PERSONAL - 22:00</td>\n",
       "      <td>...</td>\n",
       "      <td>2</td>\n",
       "      <td>0</td>\n",
       "      <td>NaN</td>\n",
       "      <td>NaN</td>\n",
       "      <td>NaN</td>\n",
       "      <td>20</td>\n",
       "      <td>1.950000</td>\n",
       "      <td>NaN</td>\n",
       "      <td>NaN</td>\n",
       "      <td>NaN</td>\n",
       "    </tr>\n",
       "    <tr>\n",
       "      <th>85</th>\n",
       "      <td>NaN</td>\n",
       "      <td>NaN</td>\n",
       "      <td>NaN</td>\n",
       "      <td>MUSC - S/P</td>\n",
       "      <td>A - MUSCULAÇÃO SEM PERSONAL</td>\n",
       "      <td>seg, ter, qua, qui, sex</td>\n",
       "      <td>22:00:00</td>\n",
       "      <td>22:00</td>\n",
       "      <td>NOITE</td>\n",
       "      <td>A - MUSCULAÇÃO SEM PERSONAL - 22:00</td>\n",
       "      <td>...</td>\n",
       "      <td>35</td>\n",
       "      <td>32</td>\n",
       "      <td>NaN</td>\n",
       "      <td>NaN</td>\n",
       "      <td>NaN</td>\n",
       "      <td>20</td>\n",
       "      <td>43.750000</td>\n",
       "      <td>21.875</td>\n",
       "      <td>NaN</td>\n",
       "      <td>2.0</td>\n",
       "    </tr>\n",
       "  </tbody>\n",
       "</table>\n",
       "<p>3 rows × 40 columns</p>\n",
       "</div>"
      ],
      "text/plain": [
       "    Unnamed: 0  Unnamed: 1  Unnamed: 2   CATEGORIA  \\\n",
       "83         NaN         NaN         NaN      QUADRA   \n",
       "84         NaN         NaN         NaN  MUSC - C/P   \n",
       "85         NaN         NaN         NaN  MUSC - S/P   \n",
       "\n",
       "                     MODALIDADE            DIA DA SEMANA   HORÁRIO  AUX.1  \\\n",
       "83                 BEACH TENIS   seg, ter, qua, qui, sex  21:00:00  21:00   \n",
       "84  A - MUSCULAÇÃO COM PERSONAL  seg, ter, qua, qui, sex  22:00:00  22:00   \n",
       "85  A - MUSCULAÇÃO SEM PERSONAL  seg, ter, qua, qui, sex  22:00:00  22:00   \n",
       "\n",
       "    TURNO                                AUX 2  ... 2024-10-25 00:00:00  \\\n",
       "83  NOITE                 BEACH TENIS  - 21:00  ...                   7   \n",
       "84  NOITE  A - MUSCULAÇÃO COM PERSONAL - 22:00  ...                   2   \n",
       "85  NOITE  A - MUSCULAÇÃO SEM PERSONAL - 22:00  ...                  35   \n",
       "\n",
       "   2024-10-28 00:00:00 2024-10-29 00:00:00 2024-10-30 00:00:00  \\\n",
       "83                   8                  14                 NaN   \n",
       "84                   0                 NaN                 NaN   \n",
       "85                  32                 NaN                 NaN   \n",
       "\n",
       "   2024-10-31 00:00:00 Média alunos p/ professor      Média Alunos/professor  \\\n",
       "83                 NaN                        18   9.444444              NaN   \n",
       "84                 NaN                        20   1.950000              NaN   \n",
       "85                 NaN                        20  43.750000           21.875   \n",
       "\n",
       "   Ocupação Máxima Professor  \n",
       "83             NaN       NaN  \n",
       "84             NaN       NaN  \n",
       "85             NaN       2.0  \n",
       "\n",
       "[3 rows x 40 columns]"
      ]
     },
     "execution_count": 233,
     "metadata": {},
     "output_type": "execute_result"
    }
   ],
   "source": [
    "dataMAR.tail(3)"
   ]
  },
  {
   "cell_type": "code",
   "execution_count": 234,
   "id": "0f404dff-4584-4fcc-8fac-558547655519",
   "metadata": {},
   "outputs": [
    {
     "data": {
      "text/plain": [
       "Unnamed: 0                                                   NaN\n",
       "Unnamed: 1                                                   NaN\n",
       "Unnamed: 2                                                   NaN\n",
       "CATEGORIA                                             MUSC - S/P\n",
       "MODALIDADE                           A - MUSCULAÇÃO SEM PERSONAL\n",
       "DIA DA SEMANA                            seg, ter, qua, qui, sex\n",
       "HORÁRIO                                                 22:00:00\n",
       "AUX.1                                                      22:00\n",
       "TURNO                                                      NOITE\n",
       "AUX 2                        A - MUSCULAÇÃO SEM PERSONAL - 22:00\n",
       "PROFESSOR                                                  ALCEU\n",
       "AUX 3                        A - MUSCULAÇÃO SEM PERSONAL - ALCEU\n",
       "2024-10-01 00:00:00                                           46\n",
       "2024-10-02 00:00:00                                           37\n",
       "2024-10-03 00:00:00                                           29\n",
       "2024-10-04 00:00:00                                           39\n",
       "2024-10-07 00:00:00                                           61\n",
       "2024-10-08 00:00:00                                           58\n",
       "2024-10-09 00:00:00                                           49\n",
       "2024-10-10 00:00:00                                           38\n",
       "2024-10-11 00:00:00                                           30\n",
       "2024-10-14 00:00:00                                           45\n",
       "2024-10-15 00:00:00                                           38\n",
       "2024-10-16 00:00:00                                           50\n",
       "2024-10-17 00:00:00                                           45\n",
       "2024-10-18 00:00:00                                           40\n",
       "2024-10-21 00:00:00                                           62\n",
       "2024-10-22 00:00:00                                           53\n",
       "2024-10-23 00:00:00                                           48\n",
       "2024-10-24 00:00:00                                           40\n",
       "2024-10-25 00:00:00                                           35\n",
       "2024-10-28 00:00:00                                           32\n",
       "2024-10-29 00:00:00                                          NaN\n",
       "2024-10-30 00:00:00                                          NaN\n",
       "2024-10-31 00:00:00                                          NaN\n",
       "Média alunos p/ professor                                     20\n",
       "Média                                                      43.75\n",
       "Alunos/professor                                          21.875\n",
       "Ocupação Máxima                                              NaN\n",
       "Professor                                                    2.0\n",
       "Name: 85, dtype: object"
      ]
     },
     "execution_count": 234,
     "metadata": {},
     "output_type": "execute_result"
    }
   ],
   "source": [
    "dataMAR.iloc[-1]"
   ]
  },
  {
   "cell_type": "code",
   "execution_count": null,
   "id": "6e6acdcb-bb78-428e-8022-248767fe2180",
   "metadata": {},
   "outputs": [],
   "source": []
  },
  {
   "cell_type": "code",
   "execution_count": null,
   "id": "1213c2c7-baec-4757-8507-8632b6e5c471",
   "metadata": {},
   "outputs": [],
   "source": []
  },
  {
   "cell_type": "code",
   "execution_count": null,
   "id": "9a3a4a40-cae7-4c5e-a17d-6e482a0f8ba1",
   "metadata": {},
   "outputs": [],
   "source": []
  },
  {
   "cell_type": "code",
   "execution_count": 235,
   "id": "d1bf5177-aa34-46af-8304-479000ed5109",
   "metadata": {},
   "outputs": [],
   "source": [
    "dropColumns = ['Unnamed: 0', 'Unnamed: 1', 'Unnamed: 2', 'AUX 2', 'AUX 3', 'HORÁRIO']   "
   ]
  },
  {
   "cell_type": "code",
   "execution_count": 236,
   "id": "65544420-b383-4037-a61d-c61fe72677ee",
   "metadata": {},
   "outputs": [],
   "source": [
    "dataMAR.drop(columns=dropColumns, inplace=True)"
   ]
  },
  {
   "cell_type": "markdown",
   "id": "7681432d-223f-4ba0-90f1-c16d481b586c",
   "metadata": {},
   "source": [
    "- PRECISAMOS RENOMEAR A COLUNA AUX.1 COMO HORARIO"
   ]
  },
  {
   "cell_type": "code",
   "execution_count": 237,
   "id": "0ba4927e-40c3-47f7-94dd-1833bc0c25cb",
   "metadata": {},
   "outputs": [],
   "source": [
    "dataMAR.rename(columns={'AUX.1': 'HORÁRIO'}, inplace=True) "
   ]
  },
  {
   "cell_type": "code",
   "execution_count": 238,
   "id": "1960aeaa-8fd4-4749-9446-48451d02a0bf",
   "metadata": {},
   "outputs": [
    {
     "data": {
      "text/html": [
       "<div>\n",
       "<style scoped>\n",
       "    .dataframe tbody tr th:only-of-type {\n",
       "        vertical-align: middle;\n",
       "    }\n",
       "\n",
       "    .dataframe tbody tr th {\n",
       "        vertical-align: top;\n",
       "    }\n",
       "\n",
       "    .dataframe thead th {\n",
       "        text-align: right;\n",
       "    }\n",
       "</style>\n",
       "<table border=\"1\" class=\"dataframe\">\n",
       "  <thead>\n",
       "    <tr style=\"text-align: right;\">\n",
       "      <th></th>\n",
       "      <th>CATEGORIA</th>\n",
       "      <th>MODALIDADE</th>\n",
       "      <th>DIA DA SEMANA</th>\n",
       "      <th>HORÁRIO</th>\n",
       "      <th>TURNO</th>\n",
       "      <th>PROFESSOR</th>\n",
       "      <th>2024-10-01 00:00:00</th>\n",
       "      <th>2024-10-02 00:00:00</th>\n",
       "      <th>2024-10-03 00:00:00</th>\n",
       "      <th>2024-10-04 00:00:00</th>\n",
       "      <th>...</th>\n",
       "      <th>2024-10-25 00:00:00</th>\n",
       "      <th>2024-10-28 00:00:00</th>\n",
       "      <th>2024-10-29 00:00:00</th>\n",
       "      <th>2024-10-30 00:00:00</th>\n",
       "      <th>2024-10-31 00:00:00</th>\n",
       "      <th>Média alunos p/ professor</th>\n",
       "      <th>Média</th>\n",
       "      <th>Alunos/professor</th>\n",
       "      <th>Ocupação Máxima</th>\n",
       "      <th>Professor</th>\n",
       "    </tr>\n",
       "  </thead>\n",
       "  <tbody>\n",
       "    <tr>\n",
       "      <th>0</th>\n",
       "      <td>MUSC - C/P</td>\n",
       "      <td>A - MUSCULAÇÃO COM PERSONAL</td>\n",
       "      <td>seg, ter, qua, qui, sex</td>\n",
       "      <td>06:00</td>\n",
       "      <td>MANHÃ</td>\n",
       "      <td>SEBASTIAN</td>\n",
       "      <td>12</td>\n",
       "      <td>19</td>\n",
       "      <td>16</td>\n",
       "      <td>15</td>\n",
       "      <td>...</td>\n",
       "      <td>18</td>\n",
       "      <td>16</td>\n",
       "      <td>14</td>\n",
       "      <td>19</td>\n",
       "      <td>NaN</td>\n",
       "      <td>22</td>\n",
       "      <td>17.272727</td>\n",
       "      <td>NaN</td>\n",
       "      <td>NaN</td>\n",
       "      <td>0.0</td>\n",
       "    </tr>\n",
       "    <tr>\n",
       "      <th>1</th>\n",
       "      <td>ADULTO</td>\n",
       "      <td>CROSSFIT</td>\n",
       "      <td>seg, ter, qua, qui, sex</td>\n",
       "      <td>06:00</td>\n",
       "      <td>MANHÃ</td>\n",
       "      <td>PETTERSON</td>\n",
       "      <td>11</td>\n",
       "      <td>11</td>\n",
       "      <td>10</td>\n",
       "      <td>10</td>\n",
       "      <td>...</td>\n",
       "      <td>6</td>\n",
       "      <td>6</td>\n",
       "      <td>6</td>\n",
       "      <td>7</td>\n",
       "      <td>NaN</td>\n",
       "      <td>22</td>\n",
       "      <td>8.863636</td>\n",
       "      <td>NaN</td>\n",
       "      <td>NaN</td>\n",
       "      <td>0.0</td>\n",
       "    </tr>\n",
       "  </tbody>\n",
       "</table>\n",
       "<p>2 rows × 34 columns</p>\n",
       "</div>"
      ],
      "text/plain": [
       "    CATEGORIA                   MODALIDADE            DIA DA SEMANA HORÁRIO  \\\n",
       "0  MUSC - C/P  A - MUSCULAÇÃO COM PERSONAL  seg, ter, qua, qui, sex   06:00   \n",
       "1      ADULTO                     CROSSFIT  seg, ter, qua, qui, sex   06:00   \n",
       "\n",
       "   TURNO   PROFESSOR 2024-10-01 00:00:00 2024-10-02 00:00:00  \\\n",
       "0  MANHÃ  SEBASTIAN                   12                  19   \n",
       "1  MANHÃ   PETTERSON                  11                  11   \n",
       "\n",
       "  2024-10-03 00:00:00 2024-10-04 00:00:00  ... 2024-10-25 00:00:00  \\\n",
       "0                  16                  15  ...                  18   \n",
       "1                  10                  10  ...                   6   \n",
       "\n",
       "  2024-10-28 00:00:00 2024-10-29 00:00:00 2024-10-30 00:00:00  \\\n",
       "0                  16                  14                  19   \n",
       "1                   6                   6                   7   \n",
       "\n",
       "  2024-10-31 00:00:00 Média alunos p/ professor      Média Alunos/professor  \\\n",
       "0                 NaN                        22  17.272727              NaN   \n",
       "1                 NaN                        22   8.863636              NaN   \n",
       "\n",
       "  Ocupação Máxima Professor  \n",
       "0             NaN       0.0  \n",
       "1             NaN       0.0  \n",
       "\n",
       "[2 rows x 34 columns]"
      ]
     },
     "execution_count": 238,
     "metadata": {},
     "output_type": "execute_result"
    }
   ],
   "source": [
    "dataMAR.head(2)"
   ]
  },
  {
   "cell_type": "code",
   "execution_count": null,
   "id": "ad58b8c0-fc1b-4dbe-bc83-1ac49df415bb",
   "metadata": {},
   "outputs": [],
   "source": []
  },
  {
   "cell_type": "code",
   "execution_count": null,
   "id": "81f4a7bf-0b6a-4b59-ab87-21c8b370e72e",
   "metadata": {},
   "outputs": [],
   "source": []
  },
  {
   "cell_type": "code",
   "execution_count": null,
   "id": "3656a039-bdfc-4016-ae47-55fd6d6f3045",
   "metadata": {},
   "outputs": [],
   "source": []
  },
  {
   "cell_type": "markdown",
   "id": "c8daca21-b982-4ac3-a468-2e4f0df949c2",
   "metadata": {},
   "source": [
    "### 2 PASSO: Renomeando strings de datas, para que o pandas possa aceitar como colunas"
   ]
  },
  {
   "cell_type": "code",
   "execution_count": 239,
   "id": "3b2d7180-f74b-4aac-b010-edee2663143b",
   "metadata": {},
   "outputs": [
    {
     "name": "stdout",
     "output_type": "stream",
     "text": [
      "CATEGORIA\n",
      "MODALIDADE\n",
      "DIA DA SEMANA\n",
      "HORÁRIO\n",
      "TURNO\n",
      "PROFESSOR\n",
      "2024-10-01 00:00:00\n",
      "2024-10-02 00:00:00\n",
      "2024-10-03 00:00:00\n",
      "2024-10-04 00:00:00\n",
      "2024-10-07 00:00:00\n",
      "2024-10-08 00:00:00\n",
      "2024-10-09 00:00:00\n",
      "2024-10-10 00:00:00\n",
      "2024-10-11 00:00:00\n",
      "2024-10-14 00:00:00\n",
      "2024-10-15 00:00:00\n",
      "2024-10-16 00:00:00\n",
      "2024-10-17 00:00:00\n",
      "2024-10-18 00:00:00\n",
      "2024-10-21 00:00:00\n",
      "2024-10-22 00:00:00\n",
      "2024-10-23 00:00:00\n",
      "2024-10-24 00:00:00\n",
      "2024-10-25 00:00:00\n",
      "2024-10-28 00:00:00\n",
      "2024-10-29 00:00:00\n",
      "2024-10-30 00:00:00\n",
      "2024-10-31 00:00:00\n",
      "Média alunos p/ professor\n",
      "Média\n",
      "Alunos/professor\n",
      "Ocupação Máxima\n",
      "Professor\n"
     ]
    }
   ],
   "source": [
    "for columns in dataMAR.columns:\n",
    "    print(columns)"
   ]
  },
  {
   "cell_type": "code",
   "execution_count": 240,
   "id": "79556fe0-c035-4290-ba60-1714287f7367",
   "metadata": {},
   "outputs": [],
   "source": [
    "dataMAR.columns = [\n",
    "'CATEGORIA',\n",
    "'MODALIDADE',\n",
    "'DIA DA SEMANA',\n",
    "'HORÁRIO',\n",
    "'TURNO',\n",
    "'PROFESSOR',\n",
    "'2024-10-01 00:00:00',\n",
    "'2024-10-02 00:00:00',\n",
    "'2024-10-03 00:00:00',\n",
    "'2024-10-04 00:00:00',\n",
    "'2024-10-07 00:00:00',\n",
    "'2024-10-08 00:00:00',\n",
    "'2024-10-09 00:00:00',\n",
    "'2024-10-10 00:00:00',\n",
    "'2024-10-11 00:00:00',\n",
    "'2024-10-14 00:00:00',\n",
    "'2024-10-15 00:00:00',\n",
    "'2024-10-16 00:00:00',\n",
    "'2024-10-17 00:00:00',\n",
    "'2024-10-18 00:00:00',\n",
    "'2024-10-21 00:00:00',\n",
    "'2024-10-22 00:00:00',\n",
    "'2024-10-23 00:00:00',\n",
    "'2024-10-24 00:00:00',\n",
    "'2024-10-25 00:00:00',\n",
    "'2024-10-28 00:00:00',\n",
    "'2024-10-29 00:00:00',\n",
    "'2024-10-30 00:00:00',\n",
    "'2024-10-31 00:00:00',\n",
    "'Média alunos p/ professor',\n",
    "'Média',\n",
    "'Alunos/professor',\n",
    "'Ocupação Máxima',\n",
    "'Professor',\n",
    "]"
   ]
  },
  {
   "cell_type": "code",
   "execution_count": 241,
   "id": "2e847c3c-1c7e-47ac-832b-095235f4ef01",
   "metadata": {},
   "outputs": [
    {
     "data": {
      "text/plain": [
       "Index(['CATEGORIA', 'MODALIDADE', 'DIA DA SEMANA', 'HORÁRIO', 'TURNO',\n",
       "       'PROFESSOR', '2024-10-01 00:00:00', '2024-10-02 00:00:00',\n",
       "       '2024-10-03 00:00:00', '2024-10-04 00:00:00', '2024-10-07 00:00:00',\n",
       "       '2024-10-08 00:00:00', '2024-10-09 00:00:00', '2024-10-10 00:00:00',\n",
       "       '2024-10-11 00:00:00', '2024-10-14 00:00:00', '2024-10-15 00:00:00',\n",
       "       '2024-10-16 00:00:00', '2024-10-17 00:00:00', '2024-10-18 00:00:00',\n",
       "       '2024-10-21 00:00:00', '2024-10-22 00:00:00', '2024-10-23 00:00:00',\n",
       "       '2024-10-24 00:00:00', '2024-10-25 00:00:00', '2024-10-28 00:00:00',\n",
       "       '2024-10-29 00:00:00', '2024-10-30 00:00:00', '2024-10-31 00:00:00',\n",
       "       'Média alunos p/ professor', 'Média', 'Alunos/professor',\n",
       "       'Ocupação Máxima', 'Professor'],\n",
       "      dtype='object')"
      ]
     },
     "execution_count": 241,
     "metadata": {},
     "output_type": "execute_result"
    }
   ],
   "source": [
    "dataMAR.columns"
   ]
  },
  {
   "cell_type": "code",
   "execution_count": null,
   "id": "9990cc0f-2b06-42a2-bccb-d112af570bc0",
   "metadata": {},
   "outputs": [],
   "source": []
  },
  {
   "cell_type": "code",
   "execution_count": null,
   "id": "6b4016d1-1364-4554-af59-896f2983e0e9",
   "metadata": {},
   "outputs": [],
   "source": []
  },
  {
   "cell_type": "code",
   "execution_count": null,
   "id": "86e426eb-0ee4-4ae7-8754-7dfe22a84e27",
   "metadata": {},
   "outputs": [],
   "source": []
  },
  {
   "cell_type": "markdown",
   "id": "7dfc596a-5b4c-44a3-8602-80b5a8c494d6",
   "metadata": {},
   "source": [
    "### PASSO 3: Escolhendo colunas com o nome de 'datas', para renomear pelo o tipo dia, mês e ano. e removendo os 00 de horas"
   ]
  },
  {
   "cell_type": "code",
   "execution_count": 242,
   "id": "6f27fd88-6a87-4d0a-a7c4-07b20a56e98c",
   "metadata": {},
   "outputs": [],
   "source": [
    "colunas = [\n",
    "'2024-10-01 00:00:00',\n",
    "'2024-10-02 00:00:00',\n",
    "'2024-10-03 00:00:00',\n",
    "'2024-10-04 00:00:00',\n",
    "'2024-10-07 00:00:00',\n",
    "'2024-10-08 00:00:00',\n",
    "'2024-10-09 00:00:00',\n",
    "'2024-10-10 00:00:00',\n",
    "'2024-10-11 00:00:00',\n",
    "'2024-10-14 00:00:00',\n",
    "'2024-10-15 00:00:00',\n",
    "'2024-10-16 00:00:00',\n",
    "'2024-10-17 00:00:00',\n",
    "'2024-10-18 00:00:00',\n",
    "'2024-10-21 00:00:00',\n",
    "'2024-10-22 00:00:00',\n",
    "'2024-10-23 00:00:00',\n",
    "'2024-10-24 00:00:00',\n",
    "'2024-10-25 00:00:00',\n",
    "'2024-10-28 00:00:00',\n",
    "'2024-10-29 00:00:00',\n",
    "'2024-10-30 00:00:00',\n",
    "'2024-10-31 00:00:00',\n",
    "]"
   ]
  },
  {
   "cell_type": "code",
   "execution_count": 243,
   "id": "0ead7c07-2133-4ead-9cb8-30c0bf1ac2e9",
   "metadata": {},
   "outputs": [],
   "source": [
    "novas_colunas_MAR = []"
   ]
  },
  {
   "cell_type": "code",
   "execution_count": 244,
   "id": "37b87a5e-cf7a-44ec-a73e-bf1b6afd8f20",
   "metadata": {},
   "outputs": [],
   "source": [
    "for columns in colunas:\n",
    "    # Remove a parte da hora\n",
    "    data_sem_hora = columns.split(' ')[0]\n",
    "    \n",
    "    # Formata para o formato DD-MM-YYYY\n",
    "    ano, mes, dia = data_sem_hora.split('-')\n",
    "    novo_nome = f'{dia}-{mes}-{ano}'\n",
    "    novas_colunas_MAR.append(novo_nome)"
   ]
  },
  {
   "cell_type": "code",
   "execution_count": 245,
   "id": "d8728430-6b37-46f6-b753-3012f16b3d9c",
   "metadata": {},
   "outputs": [
    {
     "data": {
      "text/plain": [
       "['01-10-2024',\n",
       " '02-10-2024',\n",
       " '03-10-2024',\n",
       " '04-10-2024',\n",
       " '07-10-2024',\n",
       " '08-10-2024',\n",
       " '09-10-2024',\n",
       " '10-10-2024',\n",
       " '11-10-2024',\n",
       " '14-10-2024',\n",
       " '15-10-2024',\n",
       " '16-10-2024',\n",
       " '17-10-2024',\n",
       " '18-10-2024',\n",
       " '21-10-2024',\n",
       " '22-10-2024',\n",
       " '23-10-2024',\n",
       " '24-10-2024',\n",
       " '25-10-2024',\n",
       " '28-10-2024',\n",
       " '29-10-2024',\n",
       " '30-10-2024',\n",
       " '31-10-2024']"
      ]
     },
     "execution_count": 245,
     "metadata": {},
     "output_type": "execute_result"
    }
   ],
   "source": [
    "novas_colunas_MAR"
   ]
  },
  {
   "cell_type": "code",
   "execution_count": null,
   "id": "2ad1d23c-31d3-4096-97e4-e3485f342faf",
   "metadata": {},
   "outputs": [],
   "source": []
  },
  {
   "cell_type": "code",
   "execution_count": null,
   "id": "02becae7-ef58-4c4c-a8e5-cfc59a966c6b",
   "metadata": {},
   "outputs": [],
   "source": []
  },
  {
   "cell_type": "code",
   "execution_count": null,
   "id": "c1b03ccf-da79-4817-8770-ebe4b4a2e5ed",
   "metadata": {},
   "outputs": [],
   "source": []
  },
  {
   "cell_type": "markdown",
   "id": "4ff0d392-c23e-47f2-a246-cef8a7f5e2ae",
   "metadata": {},
   "source": [
    "### PASSO 4 renomeando colunas e acrescentando o novo formato "
   ]
  },
  {
   "cell_type": "markdown",
   "id": "4d376d8a-8b01-4a34-9111-e9ff3af484d7",
   "metadata": {},
   "source": [
    "copie as colunas que escolheu para renomear, e cole o formato novo no lugar das velhas"
   ]
  },
  {
   "cell_type": "code",
   "execution_count": 246,
   "id": "6fde1834-fd84-4f38-8ff1-4a576a6f39a2",
   "metadata": {},
   "outputs": [],
   "source": [
    "# Adicionando as datas formatadas as colunas, copiando e colando"
   ]
  },
  {
   "cell_type": "code",
   "execution_count": 247,
   "id": "04638f70-5ce3-4740-a85b-1a88eee7a7d9",
   "metadata": {},
   "outputs": [
    {
     "name": "stdout",
     "output_type": "stream",
     "text": [
      "CATEGORIA\n",
      "MODALIDADE\n",
      "DIA DA SEMANA\n",
      "HORÁRIO\n",
      "TURNO\n",
      "PROFESSOR\n",
      "2024-10-01 00:00:00\n",
      "2024-10-02 00:00:00\n",
      "2024-10-03 00:00:00\n",
      "2024-10-04 00:00:00\n",
      "2024-10-07 00:00:00\n",
      "2024-10-08 00:00:00\n",
      "2024-10-09 00:00:00\n",
      "2024-10-10 00:00:00\n",
      "2024-10-11 00:00:00\n",
      "2024-10-14 00:00:00\n",
      "2024-10-15 00:00:00\n",
      "2024-10-16 00:00:00\n",
      "2024-10-17 00:00:00\n",
      "2024-10-18 00:00:00\n",
      "2024-10-21 00:00:00\n",
      "2024-10-22 00:00:00\n",
      "2024-10-23 00:00:00\n",
      "2024-10-24 00:00:00\n",
      "2024-10-25 00:00:00\n",
      "2024-10-28 00:00:00\n",
      "2024-10-29 00:00:00\n",
      "2024-10-30 00:00:00\n",
      "2024-10-31 00:00:00\n",
      "Média alunos p/ professor\n",
      "Média\n",
      "Alunos/professor\n",
      "Ocupação Máxima\n",
      "Professor\n"
     ]
    }
   ],
   "source": [
    "for columns in dataMAR.columns:\n",
    "    print (columns)"
   ]
  },
  {
   "cell_type": "code",
   "execution_count": 248,
   "id": "39b0b1ca-5d66-40b0-9523-064ebba0070e",
   "metadata": {},
   "outputs": [],
   "source": [
    "dataMAR.columns = [\n",
    "'CATEGORIA',\n",
    "'MODALIDADE',\n",
    "'DIA DA SEMANA',\n",
    "'HORÁRIO',\n",
    "'TURNO',\n",
    "'PROFESSOR',\n",
    "'01-10-2024',\n",
    "'02-10-2024',\n",
    "'03-10-2024',\n",
    "'04-10-2024',\n",
    "'07-10-2024',\n",
    "'08-10-2024',\n",
    "'09-10-2024',\n",
    "'10-10-2024',\n",
    "'11-10-2024',\n",
    "'14-10-2024',\n",
    "'15-10-2024',\n",
    "'16-10-2024',\n",
    "'17-10-2024',\n",
    "'18-10-2024',\n",
    "'21-10-2024',\n",
    "'22-10-2024',\n",
    "'23-10-2024',\n",
    "'24-10-2024',\n",
    "'25-10-2024',\n",
    "'28-10-2024',\n",
    "'29-10-2024',\n",
    "'30-10-2024',\n",
    "'31-10-2024',\n",
    "'Média alunos p/ professor',\n",
    "'Média',\n",
    "'Alunos/professor',\n",
    "'Ocupação Máxima',\n",
    "'Professor'\n",
    "]"
   ]
  },
  {
   "cell_type": "code",
   "execution_count": null,
   "id": "f97f70b0-3c6d-4f89-9eb6-952067174fa1",
   "metadata": {},
   "outputs": [],
   "source": []
  },
  {
   "cell_type": "code",
   "execution_count": null,
   "id": "c29b45a6-5c61-4ee0-b6ca-3a7c2c91d915",
   "metadata": {},
   "outputs": [],
   "source": []
  },
  {
   "cell_type": "code",
   "execution_count": null,
   "id": "27674562-56b6-451e-b855-99b76376a7b5",
   "metadata": {},
   "outputs": [],
   "source": []
  },
  {
   "cell_type": "markdown",
   "id": "cd8a5b52-091b-408f-b0f0-fcadf206b279",
   "metadata": {},
   "source": [
    "### 5 PASSO: Usar o Loop for para substitituir os valores das frequencia de 'x' e 'X' por zero, com o método do pd.to_numeric) "
   ]
  },
  {
   "cell_type": "code",
   "execution_count": 249,
   "id": "e2b6a51d-842f-44ea-b8b3-e7e6ee7883bf",
   "metadata": {},
   "outputs": [],
   "source": [
    "colunas = [\n",
    "'01-10-2024',\n",
    "'02-10-2024',\n",
    "'03-10-2024',\n",
    "'04-10-2024',\n",
    "'07-10-2024',\n",
    "'08-10-2024',\n",
    "'09-10-2024',\n",
    "'10-10-2024',\n",
    "'11-10-2024',\n",
    "'14-10-2024',\n",
    "'15-10-2024',\n",
    "'16-10-2024',\n",
    "'17-10-2024',\n",
    "'18-10-2024',\n",
    "'21-10-2024',\n",
    "'22-10-2024',\n",
    "'23-10-2024',\n",
    "'24-10-2024',\n",
    "'25-10-2024',\n",
    "'28-10-2024',\n",
    "'29-10-2024',\n",
    "'30-10-2024',\n",
    "'31-10-2024'\n",
    "]"
   ]
  },
  {
   "cell_type": "markdown",
   "id": "66776ee9-7cf8-4937-893d-88cd7072ad5f",
   "metadata": {},
   "source": [
    "Fazendo a limpeza profunda, formatando valores para numeros, preenchendo com zeros os nulos e transformando em inteiros"
   ]
  },
  {
   "cell_type": "code",
   "execution_count": 250,
   "id": "5ab20093-a2aa-42fc-ac0b-c76af301f7de",
   "metadata": {},
   "outputs": [],
   "source": [
    "for columns in colunas:\n",
    "    # dataMES[columns] = pd.to_numeric(dataMES[columns], errors='coerce')\n",
    "    dataMAR[columns] = pd.to_numeric(dataMAR[columns], errors='coerce').fillna(0).astype(int)"
   ]
  },
  {
   "cell_type": "code",
   "execution_count": null,
   "id": "8947376d-c261-4202-b0c9-8b739ac6ec13",
   "metadata": {},
   "outputs": [],
   "source": []
  },
  {
   "cell_type": "code",
   "execution_count": null,
   "id": "abb02207-dbca-49ca-9049-b57bcac8d3b9",
   "metadata": {},
   "outputs": [],
   "source": []
  },
  {
   "cell_type": "code",
   "execution_count": null,
   "id": "a8be5310-09b5-4a74-a95c-55d94ab0ac4a",
   "metadata": {},
   "outputs": [],
   "source": []
  },
  {
   "cell_type": "markdown",
   "id": "f93cbebd-04bb-4cfa-a06a-f6a8c623ecce",
   "metadata": {},
   "source": [
    "### PASSO 6: MELT derretendo as colunas em formato de datas"
   ]
  },
  {
   "cell_type": "markdown",
   "id": "b1e85dda-23d4-45cb-b916-a506db6b1474",
   "metadata": {},
   "source": [
    "o MELT ele pega as colunas que estão na horizontal e cria uma coluna de categorias, e depois ele cria outra coluna com os valores dessas colunas que foram transformadas em dados categóricos"
   ]
  },
  {
   "cell_type": "code",
   "execution_count": 251,
   "id": "ce31849e-e2e1-4c63-babd-7a02f2c08027",
   "metadata": {},
   "outputs": [],
   "source": [
    "colunas_para_melt = [\n",
    "'01-10-2024',\n",
    "'02-10-2024',\n",
    "'03-10-2024',\n",
    "'04-10-2024',\n",
    "'07-10-2024',\n",
    "'08-10-2024',\n",
    "'09-10-2024',\n",
    "'10-10-2024',\n",
    "'11-10-2024',\n",
    "'14-10-2024',\n",
    "'15-10-2024',\n",
    "'16-10-2024',\n",
    "'17-10-2024',\n",
    "'18-10-2024',\n",
    "'21-10-2024',\n",
    "'22-10-2024',\n",
    "'23-10-2024',\n",
    "'24-10-2024',\n",
    "'25-10-2024',\n",
    "'28-10-2024',\n",
    "'29-10-2024',\n",
    "'30-10-2024',\n",
    "'31-10-2024'\n",
    "]"
   ]
  },
  {
   "cell_type": "markdown",
   "id": "3f7e9a15-5ae8-4a73-b88e-5417dfa924d9",
   "metadata": {},
   "source": [
    "#### Indentificando as colunas que Eu quero manter em meu dataframe"
   ]
  },
  {
   "cell_type": "code",
   "execution_count": 252,
   "id": "af4046cf-771c-4663-9ee0-6272c0bc5149",
   "metadata": {},
   "outputs": [],
   "source": [
    "# Identifica as colunas que você quer manter como identificadoras (id_vars)\n",
    "# São as colunas que não serão \"unpivoted\"\n",
    "id_vars_cols = [columns for columns in dataMAR.columns if columns not in colunas_para_melt]"
   ]
  },
  {
   "cell_type": "code",
   "execution_count": null,
   "id": "b55d8dd1-1508-41ec-a2ed-1e894a50c11b",
   "metadata": {},
   "outputs": [],
   "source": []
  },
  {
   "cell_type": "code",
   "execution_count": null,
   "id": "9dd03fe8-ca78-4b84-bf60-61d2a7ad10fc",
   "metadata": {},
   "outputs": [],
   "source": []
  },
  {
   "cell_type": "code",
   "execution_count": null,
   "id": "d75f7ec3-3a1c-4b51-84a7-6f9765c8af4e",
   "metadata": {},
   "outputs": [],
   "source": []
  },
  {
   "cell_type": "code",
   "execution_count": 253,
   "id": "ed3623e8-e54a-45e1-a6c6-8a01a72bfea5",
   "metadata": {},
   "outputs": [],
   "source": [
    "dataMAR_melted = pd.melt(dataMAR,\n",
    "                      id_vars=id_vars_cols, #colunas que Eu deixei, que ficaram.\n",
    "                      value_vars=colunas_para_melt, #colunas que vão se transformar.\n",
    "                      var_name='Dias de Aulas', # nome da coluna categorica\n",
    "                      value_name='Frequencia de Alunos') # nome da coluna de valores"
   ]
  },
  {
   "cell_type": "code",
   "execution_count": 254,
   "id": "dafd7345-4f4b-48a0-abd8-dc2cfd172e13",
   "metadata": {},
   "outputs": [
    {
     "data": {
      "text/html": [
       "<div>\n",
       "<style scoped>\n",
       "    .dataframe tbody tr th:only-of-type {\n",
       "        vertical-align: middle;\n",
       "    }\n",
       "\n",
       "    .dataframe tbody tr th {\n",
       "        vertical-align: top;\n",
       "    }\n",
       "\n",
       "    .dataframe thead th {\n",
       "        text-align: right;\n",
       "    }\n",
       "</style>\n",
       "<table border=\"1\" class=\"dataframe\">\n",
       "  <thead>\n",
       "    <tr style=\"text-align: right;\">\n",
       "      <th></th>\n",
       "      <th>CATEGORIA</th>\n",
       "      <th>MODALIDADE</th>\n",
       "      <th>DIA DA SEMANA</th>\n",
       "      <th>HORÁRIO</th>\n",
       "      <th>TURNO</th>\n",
       "      <th>PROFESSOR</th>\n",
       "      <th>Média alunos p/ professor</th>\n",
       "      <th>Média</th>\n",
       "      <th>Alunos/professor</th>\n",
       "      <th>Ocupação Máxima</th>\n",
       "      <th>Professor</th>\n",
       "      <th>Dias de Aulas</th>\n",
       "      <th>Frequencia de Alunos</th>\n",
       "    </tr>\n",
       "  </thead>\n",
       "  <tbody>\n",
       "    <tr>\n",
       "      <th>0</th>\n",
       "      <td>MUSC - C/P</td>\n",
       "      <td>A - MUSCULAÇÃO COM PERSONAL</td>\n",
       "      <td>seg, ter, qua, qui, sex</td>\n",
       "      <td>06:00</td>\n",
       "      <td>MANHÃ</td>\n",
       "      <td>SEBASTIAN</td>\n",
       "      <td>22</td>\n",
       "      <td>17.272727</td>\n",
       "      <td>NaN</td>\n",
       "      <td>NaN</td>\n",
       "      <td>0.0</td>\n",
       "      <td>01-10-2024</td>\n",
       "      <td>12</td>\n",
       "    </tr>\n",
       "    <tr>\n",
       "      <th>1</th>\n",
       "      <td>ADULTO</td>\n",
       "      <td>CROSSFIT</td>\n",
       "      <td>seg, ter, qua, qui, sex</td>\n",
       "      <td>06:00</td>\n",
       "      <td>MANHÃ</td>\n",
       "      <td>PETTERSON</td>\n",
       "      <td>22</td>\n",
       "      <td>8.863636</td>\n",
       "      <td>NaN</td>\n",
       "      <td>NaN</td>\n",
       "      <td>0.0</td>\n",
       "      <td>01-10-2024</td>\n",
       "      <td>11</td>\n",
       "    </tr>\n",
       "  </tbody>\n",
       "</table>\n",
       "</div>"
      ],
      "text/plain": [
       "    CATEGORIA                   MODALIDADE            DIA DA SEMANA HORÁRIO  \\\n",
       "0  MUSC - C/P  A - MUSCULAÇÃO COM PERSONAL  seg, ter, qua, qui, sex   06:00   \n",
       "1      ADULTO                     CROSSFIT  seg, ter, qua, qui, sex   06:00   \n",
       "\n",
       "   TURNO   PROFESSOR  Média alunos p/ professor      Média  Alunos/professor  \\\n",
       "0  MANHÃ  SEBASTIAN                          22  17.272727               NaN   \n",
       "1  MANHÃ   PETTERSON                         22   8.863636               NaN   \n",
       "\n",
       "   Ocupação Máxima  Professor Dias de Aulas  Frequencia de Alunos  \n",
       "0              NaN        0.0    01-10-2024                    12  \n",
       "1              NaN        0.0    01-10-2024                    11  "
      ]
     },
     "execution_count": 254,
     "metadata": {},
     "output_type": "execute_result"
    }
   ],
   "source": [
    "dataMAR_melted.head(2)"
   ]
  },
  {
   "cell_type": "code",
   "execution_count": 255,
   "id": "a95125fa-5f84-47ff-84f9-6e781c14fd45",
   "metadata": {},
   "outputs": [
    {
     "data": {
      "text/plain": [
       "31364"
      ]
     },
     "execution_count": 255,
     "metadata": {},
     "output_type": "execute_result"
    }
   ],
   "source": [
    "dataMAR_melted['Frequencia de Alunos'].sum()"
   ]
  },
  {
   "cell_type": "markdown",
   "id": "2b1dcc7c-19cf-4739-a2ef-51a41e355896",
   "metadata": {},
   "source": [
    "___"
   ]
  },
  {
   "cell_type": "code",
   "execution_count": null,
   "id": "30dc0817-25f3-4d7c-a3aa-b55567ab3d9e",
   "metadata": {},
   "outputs": [],
   "source": []
  },
  {
   "cell_type": "code",
   "execution_count": null,
   "id": "12868aaa-6017-4329-b6d7-532c49064c7d",
   "metadata": {},
   "outputs": [],
   "source": []
  },
  {
   "cell_type": "code",
   "execution_count": null,
   "id": "b86a1c96-bcce-4ad1-ba70-dc0da128c3a9",
   "metadata": {},
   "outputs": [],
   "source": []
  },
  {
   "cell_type": "markdown",
   "id": "7be084e2-1daa-483d-a1e8-9d25bdafec2d",
   "metadata": {},
   "source": [
    "____"
   ]
  },
  {
   "cell_type": "markdown",
   "id": "ef54b813-11b2-4165-a044-544b55c60a78",
   "metadata": {},
   "source": [
    "# SUL [SUL] - PREPROCESSING 11"
   ]
  },
  {
   "cell_type": "code",
   "execution_count": 256,
   "id": "ef5c8c83-c602-4200-b0fa-4e153037d716",
   "metadata": {},
   "outputs": [],
   "source": [
    "data11 = pd.read_excel('3.2 Mapa de Ocupação - OUT 2024.xlsx', sheet_name='SUL', skiprows=1, nrows=110)"
   ]
  },
  {
   "cell_type": "code",
   "execution_count": 257,
   "id": "60736a25-c9a8-4ab6-b4a0-545aa2d35ac4",
   "metadata": {},
   "outputs": [],
   "source": [
    "dataSUL = data11.copy()"
   ]
  },
  {
   "cell_type": "code",
   "execution_count": null,
   "id": "25a5ab76-3085-4602-b469-2d1d0b88bdc6",
   "metadata": {},
   "outputs": [],
   "source": []
  },
  {
   "cell_type": "code",
   "execution_count": null,
   "id": "c04ad75d-c841-42d5-8092-bc43030ef405",
   "metadata": {},
   "outputs": [],
   "source": []
  },
  {
   "cell_type": "markdown",
   "id": "39db6959-0158-46da-8034-04cb705ea12e",
   "metadata": {},
   "source": [
    "### 1 PASSO: Removendo colunas desnecessárias"
   ]
  },
  {
   "cell_type": "code",
   "execution_count": 258,
   "id": "7d47efe5-cb50-497b-a09b-14e09fc58ab3",
   "metadata": {},
   "outputs": [
    {
     "data": {
      "text/html": [
       "<div>\n",
       "<style scoped>\n",
       "    .dataframe tbody tr th:only-of-type {\n",
       "        vertical-align: middle;\n",
       "    }\n",
       "\n",
       "    .dataframe tbody tr th {\n",
       "        vertical-align: top;\n",
       "    }\n",
       "\n",
       "    .dataframe thead th {\n",
       "        text-align: right;\n",
       "    }\n",
       "</style>\n",
       "<table border=\"1\" class=\"dataframe\">\n",
       "  <thead>\n",
       "    <tr style=\"text-align: right;\">\n",
       "      <th></th>\n",
       "      <th>Unnamed: 0</th>\n",
       "      <th>Unnamed: 1</th>\n",
       "      <th>Unnamed: 2</th>\n",
       "      <th>CATEGORIA</th>\n",
       "      <th>MODALIDADE</th>\n",
       "      <th>DIA DA SEMANA</th>\n",
       "      <th>HORÁRIO</th>\n",
       "      <th>AUX.1</th>\n",
       "      <th>TURNO</th>\n",
       "      <th>AUX 2</th>\n",
       "      <th>...</th>\n",
       "      <th>2024-10-28 00:00:00</th>\n",
       "      <th>2024-10-29 00:00:00</th>\n",
       "      <th>2024-10-30 00:00:00</th>\n",
       "      <th>2024-10-31 00:00:00</th>\n",
       "      <th>Média alunos p/ professor</th>\n",
       "      <th>Média</th>\n",
       "      <th>Alunos/professor</th>\n",
       "      <th>Ocupação Máxima</th>\n",
       "      <th>Professor</th>\n",
       "      <th>Unnamed: 40</th>\n",
       "    </tr>\n",
       "  </thead>\n",
       "  <tbody>\n",
       "    <tr>\n",
       "      <th>108</th>\n",
       "      <td>NaN</td>\n",
       "      <td>NaN</td>\n",
       "      <td>NaN</td>\n",
       "      <td>MUSC - S/P</td>\n",
       "      <td>A - MUSCULAÇÃO SEM PERSONAL</td>\n",
       "      <td>seg, ter, qua, qui, sex</td>\n",
       "      <td>21:00:00</td>\n",
       "      <td>21:00</td>\n",
       "      <td>NOITE</td>\n",
       "      <td>A - MUSCULAÇÃO SEM PERSONAL - 21:00</td>\n",
       "      <td>...</td>\n",
       "      <td>36</td>\n",
       "      <td>35</td>\n",
       "      <td>26</td>\n",
       "      <td>NaN</td>\n",
       "      <td>22</td>\n",
       "      <td>31.363636</td>\n",
       "      <td>NaN</td>\n",
       "      <td>NaN</td>\n",
       "      <td>NaN</td>\n",
       "      <td>NaN</td>\n",
       "    </tr>\n",
       "    <tr>\n",
       "      <th>109</th>\n",
       "      <td>NaN</td>\n",
       "      <td>NaN</td>\n",
       "      <td>NaN</td>\n",
       "      <td>MUSC - S/P</td>\n",
       "      <td>A - MUSCULAÇÃO SEM PERSONAL</td>\n",
       "      <td>seg, ter, qua, qui, sex</td>\n",
       "      <td>22:00:00</td>\n",
       "      <td>22:00</td>\n",
       "      <td>NOITE</td>\n",
       "      <td>A - MUSCULAÇÃO SEM PERSONAL - 22:00</td>\n",
       "      <td>...</td>\n",
       "      <td>15</td>\n",
       "      <td>NaN</td>\n",
       "      <td>18</td>\n",
       "      <td>NaN</td>\n",
       "      <td>21</td>\n",
       "      <td>10.952381</td>\n",
       "      <td>NaN</td>\n",
       "      <td>NaN</td>\n",
       "      <td>NaN</td>\n",
       "      <td>NaN</td>\n",
       "    </tr>\n",
       "  </tbody>\n",
       "</table>\n",
       "<p>2 rows × 41 columns</p>\n",
       "</div>"
      ],
      "text/plain": [
       "     Unnamed: 0  Unnamed: 1  Unnamed: 2   CATEGORIA  \\\n",
       "108         NaN         NaN         NaN  MUSC - S/P   \n",
       "109         NaN         NaN         NaN  MUSC - S/P   \n",
       "\n",
       "                      MODALIDADE            DIA DA SEMANA   HORÁRIO  AUX.1  \\\n",
       "108  A - MUSCULAÇÃO SEM PERSONAL  seg, ter, qua, qui, sex  21:00:00  21:00   \n",
       "109  A - MUSCULAÇÃO SEM PERSONAL  seg, ter, qua, qui, sex  22:00:00  22:00   \n",
       "\n",
       "     TURNO                                AUX 2  ... 2024-10-28 00:00:00  \\\n",
       "108  NOITE  A - MUSCULAÇÃO SEM PERSONAL - 21:00  ...                  36   \n",
       "109  NOITE  A - MUSCULAÇÃO SEM PERSONAL - 22:00  ...                  15   \n",
       "\n",
       "    2024-10-29 00:00:00 2024-10-30 00:00:00 2024-10-31 00:00:00  \\\n",
       "108                  35                  26                 NaN   \n",
       "109                 NaN                  18                 NaN   \n",
       "\n",
       "    Média alunos p/ professor      Média Alunos/professor Ocupação Máxima  \\\n",
       "108                        22  31.363636              NaN             NaN   \n",
       "109                        21  10.952381              NaN             NaN   \n",
       "\n",
       "    Professor Unnamed: 40  \n",
       "108       NaN         NaN  \n",
       "109       NaN         NaN  \n",
       "\n",
       "[2 rows x 41 columns]"
      ]
     },
     "execution_count": 258,
     "metadata": {},
     "output_type": "execute_result"
    }
   ],
   "source": [
    "dataSUL.tail(2)"
   ]
  },
  {
   "cell_type": "code",
   "execution_count": 259,
   "id": "652c5a34-18b4-4018-9756-383520a0331c",
   "metadata": {},
   "outputs": [
    {
     "data": {
      "text/plain": [
       "Unnamed: 0                                                        NaN\n",
       "Unnamed: 1                                                        NaN\n",
       "Unnamed: 2                                                        NaN\n",
       "CATEGORIA                                                  MUSC - S/P\n",
       "MODALIDADE                                A - MUSCULAÇÃO SEM PERSONAL\n",
       "DIA DA SEMANA                                 seg, ter, qua, qui, sex\n",
       "HORÁRIO                                                      22:00:00\n",
       "AUX.1                                                           22:00\n",
       "TURNO                                                           NOITE\n",
       "AUX 2                             A - MUSCULAÇÃO SEM PERSONAL - 22:00\n",
       "PROFESSOR                                                  JOÃO PEDRO\n",
       "AUX 3                        A - MUSCULAÇÃO SEM PERSONAL - JOÃO PEDRO\n",
       "2024-10-01 00:00:00                                                 1\n",
       "2024-10-02 00:00:00                                                 2\n",
       "2024-10-03 00:00:00                                                 3\n",
       "2024-10-04 00:00:00                                                 3\n",
       "2024-10-07 00:00:00                                                11\n",
       "2024-10-08 00:00:00                                                11\n",
       "2024-10-09 00:00:00                                                11\n",
       "2024-10-10 00:00:00                                                11\n",
       "2024-10-11 00:00:00                                                10\n",
       "2024-10-14 00:00:00                                                10\n",
       "2024-10-15 00:00:00                                                10\n",
       "2024-10-16 00:00:00                                                10\n",
       "2024-10-17 00:00:00                                                 9\n",
       "2024-10-18 00:00:00                                                10\n",
       "2024-10-21 00:00:00                                                22\n",
       "2024-10-22 00:00:00                                                18\n",
       "2024-10-23 00:00:00                                                15\n",
       "2024-10-24 00:00:00                                                15\n",
       "2024-10-25 00:00:00                                                15\n",
       "2024-10-28 00:00:00                                                15\n",
       "2024-10-29 00:00:00                                               NaN\n",
       "2024-10-30 00:00:00                                                18\n",
       "2024-10-31 00:00:00                                               NaN\n",
       "Média alunos p/ professor                                          21\n",
       "Média                                                       10.952381\n",
       "Alunos/professor                                                  NaN\n",
       "Ocupação Máxima                                                   NaN\n",
       "Professor                                                         NaN\n",
       "Unnamed: 40                                                       NaN\n",
       "Name: 109, dtype: object"
      ]
     },
     "execution_count": 259,
     "metadata": {},
     "output_type": "execute_result"
    }
   ],
   "source": [
    "dataSUL.iloc[-1]"
   ]
  },
  {
   "cell_type": "code",
   "execution_count": 260,
   "id": "6953782f-d688-4985-9d91-38d2b7b9cf4e",
   "metadata": {},
   "outputs": [
    {
     "data": {
      "text/plain": [
       "Unnamed: 0                                                         NaN\n",
       "Unnamed: 1                                                         NaN\n",
       "Unnamed: 2                                                         NaN\n",
       "CATEGORIA                                                       QUADRA\n",
       "MODALIDADE                                    BEACH TENNIS - INICIANTE\n",
       "DIA DA SEMANA                                              seg,qua,sex\n",
       "HORÁRIO                                                       05:30:00\n",
       "AUX.1                                                            05:30\n",
       "TURNO                                                            MANHÃ\n",
       "AUX 2                                 BEACH TENNIS - INICIANTE - 05:30\n",
       "PROFESSOR                                               ELIAS OLIVEIRA\n",
       "AUX 3                        BEACH TENNIS - INICIANTE - ELIAS OLIVEIRA\n",
       "2024-10-01 00:00:00                                                  x\n",
       "2024-10-02 00:00:00                                                  5\n",
       "2024-10-03 00:00:00                                                  x\n",
       "2024-10-04 00:00:00                                                  7\n",
       "2024-10-07 00:00:00                                                  4\n",
       "2024-10-08 00:00:00                                                  x\n",
       "2024-10-09 00:00:00                                                  7\n",
       "2024-10-10 00:00:00                                                  x\n",
       "2024-10-11 00:00:00                                                  7\n",
       "2024-10-14 00:00:00                                                  5\n",
       "2024-10-15 00:00:00                                                  x\n",
       "2024-10-16 00:00:00                                                 10\n",
       "2024-10-17 00:00:00                                                  x\n",
       "2024-10-18 00:00:00                                                  9\n",
       "2024-10-21 00:00:00                                                 10\n",
       "2024-10-22 00:00:00                                                  x\n",
       "2024-10-23 00:00:00                                                  9\n",
       "2024-10-24 00:00:00                                                  x\n",
       "2024-10-25 00:00:00                                                 25\n",
       "2024-10-28 00:00:00                                                  4\n",
       "2024-10-29 00:00:00                                                  x\n",
       "2024-10-30 00:00:00                                                  8\n",
       "2024-10-31 00:00:00                                                  x\n",
       "Média alunos p/ professor                                           13\n",
       "Média                                                         8.461538\n",
       "Alunos/professor                                                   NaN\n",
       "Ocupação Máxima                                                    NaN\n",
       "Professor                                                          0.0\n",
       "Unnamed: 40                                                        NaN\n",
       "Name: 0, dtype: object"
      ]
     },
     "execution_count": 260,
     "metadata": {},
     "output_type": "execute_result"
    }
   ],
   "source": [
    "dataSUL.iloc[0]"
   ]
  },
  {
   "cell_type": "code",
   "execution_count": null,
   "id": "f4430cc2-eaaf-4e12-8545-0a6962673648",
   "metadata": {},
   "outputs": [],
   "source": []
  },
  {
   "cell_type": "code",
   "execution_count": null,
   "id": "cfd45de1-6708-4d74-8dbe-7c9605569c24",
   "metadata": {},
   "outputs": [],
   "source": []
  },
  {
   "cell_type": "code",
   "execution_count": null,
   "id": "1ab46c4a-e95b-46ba-9c64-00118b82c0d2",
   "metadata": {},
   "outputs": [],
   "source": []
  },
  {
   "cell_type": "code",
   "execution_count": 261,
   "id": "2a46382f-bdc0-4a43-9a80-1dcd2121885d",
   "metadata": {},
   "outputs": [],
   "source": [
    "dropColumns = ['Unnamed: 0' , 'Unnamed: 1', 'Unnamed: 2', 'Unnamed: 40',\n",
    "               'HORÁRIO', 'AUX 2', 'AUX 3']"
   ]
  },
  {
   "cell_type": "code",
   "execution_count": 262,
   "id": "44cc3378-05b1-49d1-9f3e-d6dc627bf82f",
   "metadata": {},
   "outputs": [],
   "source": [
    "dataSUL.drop(columns=dropColumns, inplace=True)"
   ]
  },
  {
   "cell_type": "markdown",
   "id": "efbe09b1-ac5e-41fb-b3ec-153c6f81ffa2",
   "metadata": {},
   "source": [
    "- PRECISAMOS RENOMEAR A COLUNA AUX.1 COMO HORARIO"
   ]
  },
  {
   "cell_type": "code",
   "execution_count": 263,
   "id": "eff114f7-c4e7-43d7-9f6b-15d63189c37f",
   "metadata": {},
   "outputs": [],
   "source": [
    "dataSUL.rename(columns={'AUX.1': 'HORÁRIO'}, inplace=True)"
   ]
  },
  {
   "cell_type": "code",
   "execution_count": null,
   "id": "549f29a3-9591-492d-ab66-f34f8efc0c81",
   "metadata": {},
   "outputs": [],
   "source": []
  },
  {
   "cell_type": "code",
   "execution_count": null,
   "id": "d939b71e-31ac-4303-bb22-2b59cb030d77",
   "metadata": {},
   "outputs": [],
   "source": []
  },
  {
   "cell_type": "code",
   "execution_count": null,
   "id": "c12f6955-18fc-419b-be18-a1385d9c6bfd",
   "metadata": {},
   "outputs": [],
   "source": []
  },
  {
   "cell_type": "markdown",
   "id": "d4c73b8d-0877-4e91-a0b2-e3a6fa8ec129",
   "metadata": {},
   "source": [
    "### 2 PASSO: Renomeando strings de datas, para que o pandas possa aceitar como colunas"
   ]
  },
  {
   "cell_type": "code",
   "execution_count": 264,
   "id": "c79c8479-b73a-4798-8b03-f67661522507",
   "metadata": {},
   "outputs": [
    {
     "name": "stdout",
     "output_type": "stream",
     "text": [
      "CATEGORIA\n",
      "MODALIDADE\n",
      "DIA DA SEMANA\n",
      "HORÁRIO\n",
      "TURNO\n",
      "PROFESSOR\n",
      "2024-10-01 00:00:00\n",
      "2024-10-02 00:00:00\n",
      "2024-10-03 00:00:00\n",
      "2024-10-04 00:00:00\n",
      "2024-10-07 00:00:00\n",
      "2024-10-08 00:00:00\n",
      "2024-10-09 00:00:00\n",
      "2024-10-10 00:00:00\n",
      "2024-10-11 00:00:00\n",
      "2024-10-14 00:00:00\n",
      "2024-10-15 00:00:00\n",
      "2024-10-16 00:00:00\n",
      "2024-10-17 00:00:00\n",
      "2024-10-18 00:00:00\n",
      "2024-10-21 00:00:00\n",
      "2024-10-22 00:00:00\n",
      "2024-10-23 00:00:00\n",
      "2024-10-24 00:00:00\n",
      "2024-10-25 00:00:00\n",
      "2024-10-28 00:00:00\n",
      "2024-10-29 00:00:00\n",
      "2024-10-30 00:00:00\n",
      "2024-10-31 00:00:00\n",
      "Média alunos p/ professor\n",
      "Média\n",
      "Alunos/professor\n",
      "Ocupação Máxima\n",
      "Professor\n"
     ]
    }
   ],
   "source": [
    "for columns in dataSUL.columns:\n",
    "    print(columns)"
   ]
  },
  {
   "cell_type": "code",
   "execution_count": 265,
   "id": "98d907c7-fb3a-45c7-9a6e-0fbdc13a024a",
   "metadata": {},
   "outputs": [],
   "source": [
    "dataSUL.columns = [\n",
    "'CATEGORIA',\n",
    "'MODALIDADE',\n",
    "'DIA DA SEMANA',\n",
    "'HORÁRIO',\n",
    "'TURNO',\n",
    "'PROFESSOR',\n",
    "'2024-10-01 00:00:00',\n",
    "'2024-10-02 00:00:00',\n",
    "'2024-10-03 00:00:00',\n",
    "'2024-10-04 00:00:00',\n",
    "'2024-10-07 00:00:00',\n",
    "'2024-10-08 00:00:00',\n",
    "'2024-10-09 00:00:00',\n",
    "'2024-10-10 00:00:00',\n",
    "'2024-10-11 00:00:00',\n",
    "'2024-10-14 00:00:00',\n",
    "'2024-10-15 00:00:00',\n",
    "'2024-10-16 00:00:00',\n",
    "'2024-10-17 00:00:00',\n",
    "'2024-10-18 00:00:00',\n",
    "'2024-10-21 00:00:00',\n",
    "'2024-10-22 00:00:00',\n",
    "'2024-10-23 00:00:00',\n",
    "'2024-10-24 00:00:00',\n",
    "'2024-10-25 00:00:00',\n",
    "'2024-10-28 00:00:00',\n",
    "'2024-10-29 00:00:00',\n",
    "'2024-10-30 00:00:00',\n",
    "'2024-10-31 00:00:00',\n",
    "'Média alunos p/ professor',\n",
    "'Média',\n",
    "'Alunos/professor',\n",
    "'Ocupação Máxima',\n",
    "'Professor'\n",
    "]"
   ]
  },
  {
   "cell_type": "code",
   "execution_count": 266,
   "id": "8834a11c-41a4-4d53-88b3-bd63d2137dbb",
   "metadata": {},
   "outputs": [
    {
     "data": {
      "text/plain": [
       "Index(['CATEGORIA', 'MODALIDADE', 'DIA DA SEMANA', 'HORÁRIO', 'TURNO',\n",
       "       'PROFESSOR', '2024-10-01 00:00:00', '2024-10-02 00:00:00',\n",
       "       '2024-10-03 00:00:00', '2024-10-04 00:00:00', '2024-10-07 00:00:00',\n",
       "       '2024-10-08 00:00:00', '2024-10-09 00:00:00', '2024-10-10 00:00:00',\n",
       "       '2024-10-11 00:00:00', '2024-10-14 00:00:00', '2024-10-15 00:00:00',\n",
       "       '2024-10-16 00:00:00', '2024-10-17 00:00:00', '2024-10-18 00:00:00',\n",
       "       '2024-10-21 00:00:00', '2024-10-22 00:00:00', '2024-10-23 00:00:00',\n",
       "       '2024-10-24 00:00:00', '2024-10-25 00:00:00', '2024-10-28 00:00:00',\n",
       "       '2024-10-29 00:00:00', '2024-10-30 00:00:00', '2024-10-31 00:00:00',\n",
       "       'Média alunos p/ professor', 'Média', 'Alunos/professor',\n",
       "       'Ocupação Máxima', 'Professor'],\n",
       "      dtype='object')"
      ]
     },
     "execution_count": 266,
     "metadata": {},
     "output_type": "execute_result"
    }
   ],
   "source": [
    "dataSUL.columns"
   ]
  },
  {
   "cell_type": "code",
   "execution_count": null,
   "id": "2dd95ab5-f025-4880-b392-b0e3b3fe3ff2",
   "metadata": {},
   "outputs": [],
   "source": []
  },
  {
   "cell_type": "code",
   "execution_count": null,
   "id": "f17e482b-d853-4a41-aa99-377b11f5bfa2",
   "metadata": {},
   "outputs": [],
   "source": []
  },
  {
   "cell_type": "code",
   "execution_count": null,
   "id": "02e839a6-3370-4d48-bbf8-beb3224992e7",
   "metadata": {},
   "outputs": [],
   "source": []
  },
  {
   "cell_type": "markdown",
   "id": "d02c4fec-14be-48c0-8cea-f75e97dd9e00",
   "metadata": {},
   "source": [
    "### PASSO 3: Escolhendo colunas com o nome de 'datas', para renomear pelo o tipo dia, mês e ano. e removendo os 00 de horas"
   ]
  },
  {
   "cell_type": "code",
   "execution_count": 267,
   "id": "7695777c-4708-414c-b75f-631dea359d72",
   "metadata": {},
   "outputs": [],
   "source": [
    "colunas = [\n",
    "'2024-10-01 00:00:00',\n",
    "'2024-10-02 00:00:00',\n",
    "'2024-10-03 00:00:00',\n",
    "'2024-10-04 00:00:00',\n",
    "'2024-10-07 00:00:00',\n",
    "'2024-10-08 00:00:00',\n",
    "'2024-10-09 00:00:00',\n",
    "'2024-10-10 00:00:00',\n",
    "'2024-10-11 00:00:00',\n",
    "'2024-10-14 00:00:00',\n",
    "'2024-10-15 00:00:00',\n",
    "'2024-10-16 00:00:00',\n",
    "'2024-10-17 00:00:00',\n",
    "'2024-10-18 00:00:00',\n",
    "'2024-10-21 00:00:00',\n",
    "'2024-10-22 00:00:00',\n",
    "'2024-10-23 00:00:00',\n",
    "'2024-10-24 00:00:00',\n",
    "'2024-10-25 00:00:00',\n",
    "'2024-10-28 00:00:00',\n",
    "'2024-10-29 00:00:00',\n",
    "'2024-10-30 00:00:00',\n",
    "'2024-10-31 00:00:00',\n",
    "]"
   ]
  },
  {
   "cell_type": "code",
   "execution_count": 268,
   "id": "63ebb360-29f7-4e28-913a-d6981c77080b",
   "metadata": {},
   "outputs": [],
   "source": [
    "novas_colunas_SUL = []"
   ]
  },
  {
   "cell_type": "code",
   "execution_count": 269,
   "id": "654e2034-b903-47f4-ac1a-4b9997074719",
   "metadata": {},
   "outputs": [],
   "source": [
    "for columns in colunas:\n",
    "    # Remove a parte da hora\n",
    "    data_sem_hora = columns.split(' ')[0]\n",
    "    \n",
    "    # Formata para o formato DD-MM-YYYY\n",
    "    ano, mes, dia = data_sem_hora.split('-')\n",
    "    novo_nome = f'{dia}-{mes}-{ano}'\n",
    "    novas_colunas_SUL.append(novo_nome)"
   ]
  },
  {
   "cell_type": "code",
   "execution_count": 270,
   "id": "6dc7c337-e432-4e09-8aa0-7c735c9bd034",
   "metadata": {},
   "outputs": [
    {
     "data": {
      "text/plain": [
       "['01-10-2024',\n",
       " '02-10-2024',\n",
       " '03-10-2024',\n",
       " '04-10-2024',\n",
       " '07-10-2024',\n",
       " '08-10-2024',\n",
       " '09-10-2024',\n",
       " '10-10-2024',\n",
       " '11-10-2024',\n",
       " '14-10-2024',\n",
       " '15-10-2024',\n",
       " '16-10-2024',\n",
       " '17-10-2024',\n",
       " '18-10-2024',\n",
       " '21-10-2024',\n",
       " '22-10-2024',\n",
       " '23-10-2024',\n",
       " '24-10-2024',\n",
       " '25-10-2024',\n",
       " '28-10-2024',\n",
       " '29-10-2024',\n",
       " '30-10-2024',\n",
       " '31-10-2024']"
      ]
     },
     "execution_count": 270,
     "metadata": {},
     "output_type": "execute_result"
    }
   ],
   "source": [
    "novas_colunas_SUL"
   ]
  },
  {
   "cell_type": "code",
   "execution_count": null,
   "id": "d99919d7-c9e1-4c78-a633-eba09fefe4e3",
   "metadata": {},
   "outputs": [],
   "source": []
  },
  {
   "cell_type": "code",
   "execution_count": null,
   "id": "0c342823-57f9-420e-979e-bb66cb42dac2",
   "metadata": {},
   "outputs": [],
   "source": []
  },
  {
   "cell_type": "code",
   "execution_count": null,
   "id": "5eaf22ac-5a38-40be-977f-f8fb31577b14",
   "metadata": {},
   "outputs": [],
   "source": []
  },
  {
   "cell_type": "markdown",
   "id": "87228fb7-b386-4520-b487-54ab727c3bc3",
   "metadata": {},
   "source": [
    "### PASSO 4 renomeando colunas e acrescentando o novo formato "
   ]
  },
  {
   "cell_type": "markdown",
   "id": "b74e7efd-3c38-4239-af94-c5863b0353a6",
   "metadata": {},
   "source": [
    "copie as colunas que escolheu para renomear, e cole o formato novo no lugar das velhas"
   ]
  },
  {
   "cell_type": "code",
   "execution_count": 271,
   "id": "494aca86-eea0-49d0-9f82-10b7c3f6e561",
   "metadata": {},
   "outputs": [],
   "source": [
    "# Adicionando as datas formatadas as colunas, copiando e colando"
   ]
  },
  {
   "cell_type": "code",
   "execution_count": 272,
   "id": "d5747728-4a6f-43b8-8b22-45c940b1435e",
   "metadata": {},
   "outputs": [
    {
     "name": "stdout",
     "output_type": "stream",
     "text": [
      "CATEGORIA\n",
      "MODALIDADE\n",
      "DIA DA SEMANA\n",
      "HORÁRIO\n",
      "TURNO\n",
      "PROFESSOR\n",
      "2024-10-01 00:00:00\n",
      "2024-10-02 00:00:00\n",
      "2024-10-03 00:00:00\n",
      "2024-10-04 00:00:00\n",
      "2024-10-07 00:00:00\n",
      "2024-10-08 00:00:00\n",
      "2024-10-09 00:00:00\n",
      "2024-10-10 00:00:00\n",
      "2024-10-11 00:00:00\n",
      "2024-10-14 00:00:00\n",
      "2024-10-15 00:00:00\n",
      "2024-10-16 00:00:00\n",
      "2024-10-17 00:00:00\n",
      "2024-10-18 00:00:00\n",
      "2024-10-21 00:00:00\n",
      "2024-10-22 00:00:00\n",
      "2024-10-23 00:00:00\n",
      "2024-10-24 00:00:00\n",
      "2024-10-25 00:00:00\n",
      "2024-10-28 00:00:00\n",
      "2024-10-29 00:00:00\n",
      "2024-10-30 00:00:00\n",
      "2024-10-31 00:00:00\n",
      "Média alunos p/ professor\n",
      "Média\n",
      "Alunos/professor\n",
      "Ocupação Máxima\n",
      "Professor\n"
     ]
    }
   ],
   "source": [
    "for columns in dataSUL.columns:\n",
    "    print (columns)"
   ]
  },
  {
   "cell_type": "code",
   "execution_count": 273,
   "id": "a510990e-1b6a-430f-8a8e-ff0884eef0d6",
   "metadata": {},
   "outputs": [],
   "source": [
    "dataSUL.columns = [\n",
    "'CATEGORIA',\n",
    "'MODALIDADE',\n",
    "'DIA DA SEMANA',\n",
    "'HORÁRIO',\n",
    "'TURNO',\n",
    "'PROFESSOR',\n",
    "'01-10-2024',\n",
    "'02-10-2024',\n",
    "'03-10-2024',\n",
    "'04-10-2024',\n",
    "'07-10-2024',\n",
    "'08-10-2024',\n",
    "'09-10-2024',\n",
    "'10-10-2024',\n",
    "'11-10-2024',\n",
    "'14-10-2024',\n",
    "'15-10-2024',\n",
    "'16-10-2024',\n",
    "'17-10-2024',\n",
    "'18-10-2024',\n",
    "'21-10-2024',\n",
    "'22-10-2024',\n",
    "'23-10-2024',\n",
    "'24-10-2024',\n",
    "'25-10-2024',\n",
    "'28-10-2024',\n",
    "'29-10-2024',\n",
    "'30-10-2024',\n",
    "'31-10-2024',\n",
    "'Média alunos p/ professor',\n",
    "'Média',\n",
    "'Alunos/professor',\n",
    "'Ocupação Máxima',\n",
    "'Professor',\n",
    "]"
   ]
  },
  {
   "cell_type": "code",
   "execution_count": null,
   "id": "27b23109-cacb-448b-8241-41d82c7f9182",
   "metadata": {},
   "outputs": [],
   "source": []
  },
  {
   "cell_type": "code",
   "execution_count": null,
   "id": "5947fc59-1e7b-4b7e-9058-1d0e4c845cf5",
   "metadata": {},
   "outputs": [],
   "source": []
  },
  {
   "cell_type": "code",
   "execution_count": null,
   "id": "1420af21-2ac7-46d6-bcb9-a2f03b567732",
   "metadata": {},
   "outputs": [],
   "source": []
  },
  {
   "cell_type": "markdown",
   "id": "8e42a6fc-96e6-4a36-8154-f543ae5d1dd3",
   "metadata": {},
   "source": [
    "### 5 PASSO: Usar o Loop for para substitituir os valores das frequencia de 'x' e 'X' por zero, com o método do pd.to_numeric) "
   ]
  },
  {
   "cell_type": "code",
   "execution_count": 274,
   "id": "6f2390ab-5833-4ecd-bf03-072881e3b7f6",
   "metadata": {},
   "outputs": [],
   "source": [
    "colunas = [\n",
    "'01-10-2024',\n",
    "'02-10-2024',\n",
    "'03-10-2024',\n",
    "'04-10-2024',\n",
    "'07-10-2024',\n",
    "'08-10-2024',\n",
    "'09-10-2024',\n",
    "'10-10-2024',\n",
    "'11-10-2024',\n",
    "'14-10-2024',\n",
    "'15-10-2024',\n",
    "'16-10-2024',\n",
    "'17-10-2024',\n",
    "'18-10-2024',\n",
    "'21-10-2024',\n",
    "'22-10-2024',\n",
    "'23-10-2024',\n",
    "'24-10-2024',\n",
    "'25-10-2024',\n",
    "'28-10-2024',\n",
    "'29-10-2024',\n",
    "'30-10-2024',\n",
    "'31-10-2024',\n",
    "]"
   ]
  },
  {
   "cell_type": "markdown",
   "id": "13200922-80c3-4cd0-b467-5ec95fdd5e81",
   "metadata": {},
   "source": [
    "Fazendo a limpeza profunda, formatando valores para numeros, preenchendo com zeros os nulos e transformando em inteiros"
   ]
  },
  {
   "cell_type": "code",
   "execution_count": 275,
   "id": "c6b742bc-c460-4d4c-a34f-32a3ba6460dc",
   "metadata": {},
   "outputs": [],
   "source": [
    "for columns in colunas:\n",
    "    # dataMES[columns] = pd.to_numeric(dataMES[columns], errors='coerce')\n",
    "    dataSUL[columns] = pd.to_numeric(dataSUL[columns], errors='coerce').fillna(0).astype(int)"
   ]
  },
  {
   "cell_type": "code",
   "execution_count": null,
   "id": "6b212d6e-26da-4799-a57f-1782b47ae188",
   "metadata": {},
   "outputs": [],
   "source": []
  },
  {
   "cell_type": "code",
   "execution_count": null,
   "id": "c868ca42-f826-44f1-85a7-fb50c921999a",
   "metadata": {},
   "outputs": [],
   "source": []
  },
  {
   "cell_type": "code",
   "execution_count": null,
   "id": "2c591e88-2f76-4054-9441-c79c7dd3c005",
   "metadata": {},
   "outputs": [],
   "source": []
  },
  {
   "cell_type": "markdown",
   "id": "e9441a64-62d2-4a1e-9b0b-d0d82567437a",
   "metadata": {},
   "source": [
    "### PASSO 6: MELT derretendo as colunas em formato de datas"
   ]
  },
  {
   "cell_type": "markdown",
   "id": "4c37bb8d-0f2c-4abd-919b-16a8054a6f1a",
   "metadata": {},
   "source": [
    "o MELT ele pega as colunas que estão na horizontal e cria uma coluna de categorias, e depois ele cria outra coluna com os valores dessas colunas que foram transformadas em dados categóricos"
   ]
  },
  {
   "cell_type": "code",
   "execution_count": 276,
   "id": "0ae0c93f-86a1-41b4-93b3-b2fa704c6d45",
   "metadata": {},
   "outputs": [],
   "source": [
    "colunas_para_melt = [\n",
    "'01-10-2024',\n",
    "'02-10-2024',\n",
    "'03-10-2024',\n",
    "'04-10-2024',\n",
    "'07-10-2024',\n",
    "'08-10-2024',\n",
    "'09-10-2024',\n",
    "'10-10-2024',\n",
    "'11-10-2024',\n",
    "'14-10-2024',\n",
    "'15-10-2024',\n",
    "'16-10-2024',\n",
    "'17-10-2024',\n",
    "'18-10-2024',\n",
    "'21-10-2024',\n",
    "'22-10-2024',\n",
    "'23-10-2024',\n",
    "'24-10-2024',\n",
    "'25-10-2024',\n",
    "'28-10-2024',\n",
    "'29-10-2024',\n",
    "'30-10-2024',\n",
    "'31-10-2024',\n",
    "]"
   ]
  },
  {
   "cell_type": "markdown",
   "id": "9d566f92-c311-4b4d-a08e-8118d194e78c",
   "metadata": {},
   "source": [
    "#### Indentificando as colunas que Eu quero manter em meu dataframe"
   ]
  },
  {
   "cell_type": "code",
   "execution_count": 277,
   "id": "9f929b9a-8fef-49b3-9587-6c85091904e6",
   "metadata": {},
   "outputs": [],
   "source": [
    "# Identifica as colunas que você quer manter como identificadoras (id_vars)\n",
    "# São as colunas que não serão \"unpivoted\"\n",
    "id_vars_cols = [columns for columns in dataSUL.columns if columns not in colunas_para_melt]"
   ]
  },
  {
   "cell_type": "code",
   "execution_count": null,
   "id": "c7109905-3c43-47f3-b7b8-e491f2b728fe",
   "metadata": {},
   "outputs": [],
   "source": []
  },
  {
   "cell_type": "code",
   "execution_count": null,
   "id": "934c5979-f248-4d5c-b29d-e559ec6b3ad1",
   "metadata": {},
   "outputs": [],
   "source": []
  },
  {
   "cell_type": "code",
   "execution_count": null,
   "id": "d76be4a4-0656-468c-bc10-b09a5153fbe7",
   "metadata": {},
   "outputs": [],
   "source": []
  },
  {
   "cell_type": "code",
   "execution_count": 278,
   "id": "c8bd3a95-7d99-41d3-a586-cd8edaa15825",
   "metadata": {},
   "outputs": [],
   "source": [
    "dataSUL_melted = pd.melt(dataSUL,\n",
    "                      id_vars=id_vars_cols, #colunas que Eu deixei, que ficaram.\n",
    "                      value_vars=colunas_para_melt, #colunas que vão se transformar.\n",
    "                      var_name='Dias de Aulas', # nome da coluna categorica\n",
    "                      value_name='Frequencia de Alunos') # nome da coluna de valores"
   ]
  },
  {
   "cell_type": "code",
   "execution_count": 279,
   "id": "1ada7234-9473-40d0-abe4-f4f9f9e9f297",
   "metadata": {},
   "outputs": [
    {
     "data": {
      "text/html": [
       "<div>\n",
       "<style scoped>\n",
       "    .dataframe tbody tr th:only-of-type {\n",
       "        vertical-align: middle;\n",
       "    }\n",
       "\n",
       "    .dataframe tbody tr th {\n",
       "        vertical-align: top;\n",
       "    }\n",
       "\n",
       "    .dataframe thead th {\n",
       "        text-align: right;\n",
       "    }\n",
       "</style>\n",
       "<table border=\"1\" class=\"dataframe\">\n",
       "  <thead>\n",
       "    <tr style=\"text-align: right;\">\n",
       "      <th></th>\n",
       "      <th>CATEGORIA</th>\n",
       "      <th>MODALIDADE</th>\n",
       "      <th>DIA DA SEMANA</th>\n",
       "      <th>HORÁRIO</th>\n",
       "      <th>TURNO</th>\n",
       "      <th>PROFESSOR</th>\n",
       "      <th>Média alunos p/ professor</th>\n",
       "      <th>Média</th>\n",
       "      <th>Alunos/professor</th>\n",
       "      <th>Ocupação Máxima</th>\n",
       "      <th>Professor</th>\n",
       "      <th>Dias de Aulas</th>\n",
       "      <th>Frequencia de Alunos</th>\n",
       "    </tr>\n",
       "  </thead>\n",
       "  <tbody>\n",
       "    <tr>\n",
       "      <th>0</th>\n",
       "      <td>QUADRA</td>\n",
       "      <td>BEACH TENNIS - INICIANTE</td>\n",
       "      <td>seg,qua,sex</td>\n",
       "      <td>05:30</td>\n",
       "      <td>MANHÃ</td>\n",
       "      <td>ELIAS OLIVEIRA</td>\n",
       "      <td>13</td>\n",
       "      <td>8.461538</td>\n",
       "      <td>NaN</td>\n",
       "      <td>NaN</td>\n",
       "      <td>0.0</td>\n",
       "      <td>01-10-2024</td>\n",
       "      <td>0</td>\n",
       "    </tr>\n",
       "    <tr>\n",
       "      <th>1</th>\n",
       "      <td>QUADRA</td>\n",
       "      <td>BEACH TENNIS - INTERMEDIÁRIO</td>\n",
       "      <td>ter, qui</td>\n",
       "      <td>05:30</td>\n",
       "      <td>MANHÃ</td>\n",
       "      <td>ELIAS OLIVEIRA</td>\n",
       "      <td>9</td>\n",
       "      <td>5.111111</td>\n",
       "      <td>NaN</td>\n",
       "      <td>NaN</td>\n",
       "      <td>NaN</td>\n",
       "      <td>01-10-2024</td>\n",
       "      <td>4</td>\n",
       "    </tr>\n",
       "  </tbody>\n",
       "</table>\n",
       "</div>"
      ],
      "text/plain": [
       "  CATEGORIA                    MODALIDADE DIA DA SEMANA HORÁRIO  TURNO  \\\n",
       "0    QUADRA      BEACH TENNIS - INICIANTE   seg,qua,sex   05:30  MANHÃ   \n",
       "1    QUADRA  BEACH TENNIS - INTERMEDIÁRIO      ter, qui   05:30  MANHÃ   \n",
       "\n",
       "        PROFESSOR Média alunos p/ professor     Média  Alunos/professor  \\\n",
       "0  ELIAS OLIVEIRA                        13  8.461538               NaN   \n",
       "1  ELIAS OLIVEIRA                         9  5.111111               NaN   \n",
       "\n",
       "   Ocupação Máxima  Professor Dias de Aulas  Frequencia de Alunos  \n",
       "0              NaN        0.0    01-10-2024                     0  \n",
       "1              NaN        NaN    01-10-2024                     4  "
      ]
     },
     "execution_count": 279,
     "metadata": {},
     "output_type": "execute_result"
    }
   ],
   "source": [
    "dataSUL_melted.head(2)"
   ]
  },
  {
   "cell_type": "code",
   "execution_count": 280,
   "id": "9f2baba1-a305-487d-af0b-841913e62213",
   "metadata": {},
   "outputs": [
    {
     "data": {
      "text/plain": [
       "34269"
      ]
     },
     "execution_count": 280,
     "metadata": {},
     "output_type": "execute_result"
    }
   ],
   "source": [
    "dataSUL_melted['Frequencia de Alunos'].sum()"
   ]
  },
  {
   "cell_type": "markdown",
   "id": "af38e8e2-ffdc-482d-9336-228d9111e6e4",
   "metadata": {},
   "source": [
    "___"
   ]
  },
  {
   "cell_type": "code",
   "execution_count": null,
   "id": "75d7c73c-2980-4039-851f-9a44d2a8b3b3",
   "metadata": {},
   "outputs": [],
   "source": []
  },
  {
   "cell_type": "code",
   "execution_count": null,
   "id": "ea65655f-3b91-4b53-9bc5-4098a8e6bb44",
   "metadata": {},
   "outputs": [],
   "source": []
  },
  {
   "cell_type": "code",
   "execution_count": null,
   "id": "80191bf8-ed5c-4aaa-b8a8-7be444a8abe8",
   "metadata": {},
   "outputs": [],
   "source": []
  },
  {
   "cell_type": "markdown",
   "id": "10fa3ece-840b-46d0-9329-91280727bddb",
   "metadata": {},
   "source": [
    "____"
   ]
  },
  {
   "cell_type": "markdown",
   "id": "94f6b094-2f9f-4ae7-9120-5d045990b584",
   "metadata": {
    "tags": []
   },
   "source": [
    "# RUI BARBOSA [RUI] - PREPROCESSING 12"
   ]
  },
  {
   "cell_type": "code",
   "execution_count": 281,
   "id": "b8051bed-5d61-4692-8304-2fd048eb2b7d",
   "metadata": {},
   "outputs": [],
   "source": [
    "data12 = pd.read_excel('3.2 Mapa de Ocupação - OUT 2024.xlsx', sheet_name='RUI', skiprows=1, nrows=88)"
   ]
  },
  {
   "cell_type": "code",
   "execution_count": 282,
   "id": "b63f8c8e-e3e7-4339-b7c2-d344fd1fcd43",
   "metadata": {},
   "outputs": [],
   "source": [
    "dataRUI = data12.copy()"
   ]
  },
  {
   "cell_type": "code",
   "execution_count": null,
   "id": "eaae5ec3-280c-4612-a3c5-dcea52d0bf37",
   "metadata": {},
   "outputs": [],
   "source": []
  },
  {
   "cell_type": "code",
   "execution_count": null,
   "id": "a8650a32-b93e-4988-8f70-bad3ce3d9c83",
   "metadata": {},
   "outputs": [],
   "source": []
  },
  {
   "cell_type": "code",
   "execution_count": null,
   "id": "3cd7c230-6926-49d9-878e-a0b936b3563d",
   "metadata": {},
   "outputs": [],
   "source": []
  },
  {
   "cell_type": "markdown",
   "id": "6a71630d-9137-40e9-a588-f3ff7e3f93b9",
   "metadata": {},
   "source": [
    "### 1 PASSO: Removendo colunas desnecessárias"
   ]
  },
  {
   "cell_type": "code",
   "execution_count": 283,
   "id": "ee95a500-7e54-4fca-a291-d084a38b8a6e",
   "metadata": {},
   "outputs": [
    {
     "data": {
      "text/html": [
       "<div>\n",
       "<style scoped>\n",
       "    .dataframe tbody tr th:only-of-type {\n",
       "        vertical-align: middle;\n",
       "    }\n",
       "\n",
       "    .dataframe tbody tr th {\n",
       "        vertical-align: top;\n",
       "    }\n",
       "\n",
       "    .dataframe thead th {\n",
       "        text-align: right;\n",
       "    }\n",
       "</style>\n",
       "<table border=\"1\" class=\"dataframe\">\n",
       "  <thead>\n",
       "    <tr style=\"text-align: right;\">\n",
       "      <th></th>\n",
       "      <th>Unnamed: 0</th>\n",
       "      <th>Unnamed: 1</th>\n",
       "      <th>Unnamed: 2</th>\n",
       "      <th>CATEGORIA</th>\n",
       "      <th>MODALIDADE</th>\n",
       "      <th>DIA DA SEMANA</th>\n",
       "      <th>HORÁRIO</th>\n",
       "      <th>AUX.1</th>\n",
       "      <th>TURNO</th>\n",
       "      <th>AUX 2</th>\n",
       "      <th>...</th>\n",
       "      <th>2024-10-25 00:00:00</th>\n",
       "      <th>2024-10-28 00:00:00</th>\n",
       "      <th>2024-10-29 00:00:00</th>\n",
       "      <th>2024-10-30 00:00:00</th>\n",
       "      <th>2024-10-31 00:00:00</th>\n",
       "      <th>Média alunos p/ professor</th>\n",
       "      <th>Média</th>\n",
       "      <th>Alunos/professor</th>\n",
       "      <th>Ocupação Máxima</th>\n",
       "      <th>Professor</th>\n",
       "    </tr>\n",
       "  </thead>\n",
       "  <tbody>\n",
       "    <tr>\n",
       "      <th>0</th>\n",
       "      <td>NaN</td>\n",
       "      <td>NaN</td>\n",
       "      <td>NaN</td>\n",
       "      <td>MUSC - C/P</td>\n",
       "      <td>A - MUSCULAÇÃO COM PERSONAL</td>\n",
       "      <td>seg, ter, qua, qui, sex</td>\n",
       "      <td>06:00:00</td>\n",
       "      <td>06:00</td>\n",
       "      <td>MANHÃ</td>\n",
       "      <td>A - MUSCULAÇÃO COM PERSONAL - 06:00</td>\n",
       "      <td>...</td>\n",
       "      <td>42</td>\n",
       "      <td>54</td>\n",
       "      <td>54</td>\n",
       "      <td>50</td>\n",
       "      <td>52</td>\n",
       "      <td>23</td>\n",
       "      <td>54.130435</td>\n",
       "      <td>NaN</td>\n",
       "      <td>NaN</td>\n",
       "      <td>0.0</td>\n",
       "    </tr>\n",
       "    <tr>\n",
       "      <th>1</th>\n",
       "      <td>NaN</td>\n",
       "      <td>NaN</td>\n",
       "      <td>NaN</td>\n",
       "      <td>MUSC - S/P</td>\n",
       "      <td>A - MUSCULAÇÃO SEM PERSONAL</td>\n",
       "      <td>seg, ter, qua, qui, sex</td>\n",
       "      <td>06:00:00</td>\n",
       "      <td>06:00</td>\n",
       "      <td>MANHÃ</td>\n",
       "      <td>A - MUSCULAÇÃO SEM PERSONAL - 06:00</td>\n",
       "      <td>...</td>\n",
       "      <td>45</td>\n",
       "      <td>48</td>\n",
       "      <td>65</td>\n",
       "      <td>59</td>\n",
       "      <td>51</td>\n",
       "      <td>23</td>\n",
       "      <td>49.043478</td>\n",
       "      <td>7.666667</td>\n",
       "      <td>NaN</td>\n",
       "      <td>3.0</td>\n",
       "    </tr>\n",
       "  </tbody>\n",
       "</table>\n",
       "<p>2 rows × 40 columns</p>\n",
       "</div>"
      ],
      "text/plain": [
       "   Unnamed: 0  Unnamed: 1 Unnamed: 2   CATEGORIA                   MODALIDADE  \\\n",
       "0         NaN         NaN        NaN  MUSC - C/P  A - MUSCULAÇÃO COM PERSONAL   \n",
       "1         NaN         NaN        NaN  MUSC - S/P  A - MUSCULAÇÃO SEM PERSONAL   \n",
       "\n",
       "             DIA DA SEMANA   HORÁRIO  AUX.1  TURNO  \\\n",
       "0  seg, ter, qua, qui, sex  06:00:00  06:00  MANHÃ   \n",
       "1  seg, ter, qua, qui, sex  06:00:00  06:00  MANHÃ   \n",
       "\n",
       "                                 AUX 2  ... 2024-10-25 00:00:00  \\\n",
       "0  A - MUSCULAÇÃO COM PERSONAL - 06:00  ...                  42   \n",
       "1  A - MUSCULAÇÃO SEM PERSONAL - 06:00  ...                  45   \n",
       "\n",
       "  2024-10-28 00:00:00 2024-10-29 00:00:00 2024-10-30 00:00:00  \\\n",
       "0                  54                  54                  50   \n",
       "1                  48                  65                  59   \n",
       "\n",
       "  2024-10-31 00:00:00 Média alunos p/ professor      Média Alunos/professor  \\\n",
       "0                  52                        23  54.130435              NaN   \n",
       "1                  51                        23  49.043478         7.666667   \n",
       "\n",
       "  Ocupação Máxima Professor  \n",
       "0             NaN       0.0  \n",
       "1             NaN       3.0  \n",
       "\n",
       "[2 rows x 40 columns]"
      ]
     },
     "execution_count": 283,
     "metadata": {},
     "output_type": "execute_result"
    }
   ],
   "source": [
    "dataRUI.head(2)"
   ]
  },
  {
   "cell_type": "code",
   "execution_count": 284,
   "id": "4d8f73fe-4a11-4b2f-873a-2a11b9fdf5e5",
   "metadata": {},
   "outputs": [
    {
     "data": {
      "text/plain": [
       "Unnamed: 0                                                   NaN\n",
       "Unnamed: 1                                                   NaN\n",
       "Unnamed: 2                                                   NaN\n",
       "CATEGORIA                                             MUSC - C/P\n",
       "MODALIDADE                           A - MUSCULAÇÃO COM PERSONAL\n",
       "DIA DA SEMANA                            seg, ter, qua, qui, sex\n",
       "HORÁRIO                                                 06:00:00\n",
       "AUX.1                                                      06:00\n",
       "TURNO                                                      MANHÃ\n",
       "AUX 2                        A - MUSCULAÇÃO COM PERSONAL - 06:00\n",
       "PROFESSOR                                                  PABLO\n",
       "AUX 3                        A - MUSCULAÇÃO COM PERSONAL - PABLO\n",
       "2024-10-01 00:00:00                                           66\n",
       "2024-10-02 00:00:00                                           40\n",
       "2024-10-03 00:00:00                                           40\n",
       "2024-10-04 00:00:00                                           52\n",
       "2024-10-07 00:00:00                                           54\n",
       "2024-10-08 00:00:00                                           48\n",
       "2024-10-09 00:00:00                                           54\n",
       "2024-10-10 00:00:00                                           74\n",
       "2024-10-11 00:00:00                                           48\n",
       "2024-10-14 00:00:00                                           70\n",
       "2024-10-15 00:00:00                                           53\n",
       "2024-10-16 00:00:00                                           60\n",
       "2024-10-17 00:00:00                                           52\n",
       "2024-10-18 00:00:00                                           62\n",
       "2024-10-21 00:00:00                                           68\n",
       "2024-10-22 00:00:00                                           47\n",
       "2024-10-23 00:00:00                                           51\n",
       "2024-10-24 00:00:00                                           54\n",
       "2024-10-25 00:00:00                                           42\n",
       "2024-10-28 00:00:00                                           54\n",
       "2024-10-29 00:00:00                                           54\n",
       "2024-10-30 00:00:00                                           50\n",
       "2024-10-31 00:00:00                                           52\n",
       "Média alunos p/ professor                                     23\n",
       "Média                                                  54.130435\n",
       "Alunos/professor                                             NaN\n",
       "Ocupação Máxima                                              NaN\n",
       "Professor                                                    0.0\n",
       "Name: 0, dtype: object"
      ]
     },
     "execution_count": 284,
     "metadata": {},
     "output_type": "execute_result"
    }
   ],
   "source": [
    "dataRUI.iloc[0]"
   ]
  },
  {
   "cell_type": "code",
   "execution_count": 285,
   "id": "07cfc068-58e1-4a5e-9c64-119d29938145",
   "metadata": {},
   "outputs": [
    {
     "data": {
      "text/plain": [
       "Unnamed: 0                                                    NaN\n",
       "Unnamed: 1                                                    NaN\n",
       "Unnamed: 2                                                    NaN\n",
       "CATEGORIA                                              MUSC - S/P\n",
       "MODALIDADE                            A - MUSCULAÇÃO SEM PERSONAL\n",
       "DIA DA SEMANA                             seg, ter, qua, qui, sex\n",
       "HORÁRIO                                                  22:00:00\n",
       "AUX.1                                                       22:00\n",
       "TURNO                                                       NOITE\n",
       "AUX 2                         A - MUSCULAÇÃO SEM PERSONAL - 22:00\n",
       "PROFESSOR                                                  JAMARA\n",
       "AUX 3                        A - MUSCULAÇÃO SEM PERSONAL - JAMARA\n",
       "2024-10-01 00:00:00                                           NaN\n",
       "2024-10-02 00:00:00                                           NaN\n",
       "2024-10-03 00:00:00                                           NaN\n",
       "2024-10-04 00:00:00                                             3\n",
       "2024-10-07 00:00:00                                           NaN\n",
       "2024-10-08 00:00:00                                           NaN\n",
       "2024-10-09 00:00:00                                           NaN\n",
       "2024-10-10 00:00:00                                           NaN\n",
       "2024-10-11 00:00:00                                           NaN\n",
       "2024-10-14 00:00:00                                           NaN\n",
       "2024-10-15 00:00:00                                           NaN\n",
       "2024-10-16 00:00:00                                           NaN\n",
       "2024-10-17 00:00:00                                           NaN\n",
       "2024-10-18 00:00:00                                           NaN\n",
       "2024-10-21 00:00:00                                           NaN\n",
       "2024-10-22 00:00:00                                           NaN\n",
       "2024-10-23 00:00:00                                           NaN\n",
       "2024-10-24 00:00:00                                           NaN\n",
       "2024-10-25 00:00:00                                           NaN\n",
       "2024-10-28 00:00:00                                           NaN\n",
       "2024-10-29 00:00:00                                           NaN\n",
       "2024-10-30 00:00:00                                           NaN\n",
       "2024-10-31 00:00:00                                           NaN\n",
       "Média alunos p/ professor                                       1\n",
       "Média                                                         3.0\n",
       "Alunos/professor                                              NaN\n",
       "Ocupação Máxima                                               NaN\n",
       "Professor                                                     NaN\n",
       "Name: 87, dtype: object"
      ]
     },
     "execution_count": 285,
     "metadata": {},
     "output_type": "execute_result"
    }
   ],
   "source": [
    "dataRUI.iloc[-1]"
   ]
  },
  {
   "cell_type": "code",
   "execution_count": null,
   "id": "4bd24995-6292-414d-a755-bb185c76ae00",
   "metadata": {},
   "outputs": [],
   "source": []
  },
  {
   "cell_type": "code",
   "execution_count": null,
   "id": "eb5857be-41d8-43f0-9886-e1956e0788a9",
   "metadata": {},
   "outputs": [],
   "source": []
  },
  {
   "cell_type": "code",
   "execution_count": null,
   "id": "f3ee86e0-1564-46a7-bfe0-aa5cd38d7108",
   "metadata": {},
   "outputs": [],
   "source": []
  },
  {
   "cell_type": "code",
   "execution_count": 286,
   "id": "c9ea1f22-45c2-49b6-bbaf-7fb28b9fdacf",
   "metadata": {},
   "outputs": [],
   "source": [
    "dropColumns = ['Unnamed: 0', 'Unnamed: 1', 'Unnamed: 2', 'AUX 2',\n",
    "               'AUX 3', 'HORÁRIO']"
   ]
  },
  {
   "cell_type": "code",
   "execution_count": 287,
   "id": "8ef36fb9-c9eb-4908-87d8-ccc6597b72eb",
   "metadata": {},
   "outputs": [],
   "source": [
    "dataRUI.drop(columns=dropColumns, inplace=True)"
   ]
  },
  {
   "cell_type": "markdown",
   "id": "dbf99fd3-d110-4132-bd2d-d5addfad5f93",
   "metadata": {},
   "source": [
    "- PRECISAMOS RENOMEAR A COLUNA AUX.1 COMO HORARIO"
   ]
  },
  {
   "cell_type": "code",
   "execution_count": 288,
   "id": "67580531-0a1a-4ea2-a24b-e8852739ceb0",
   "metadata": {},
   "outputs": [],
   "source": [
    "dataRUI.rename(columns={'AUX.1': 'HORÁRIO'}, inplace=True)"
   ]
  },
  {
   "cell_type": "code",
   "execution_count": null,
   "id": "1692a992-f8f9-4704-8827-9b65f1409f10",
   "metadata": {},
   "outputs": [],
   "source": []
  },
  {
   "cell_type": "code",
   "execution_count": null,
   "id": "48f38551-ddff-4061-9a22-fb9463e3b24d",
   "metadata": {},
   "outputs": [],
   "source": []
  },
  {
   "cell_type": "code",
   "execution_count": null,
   "id": "151cf03f-624f-44f3-92cd-d0c8b95d0586",
   "metadata": {},
   "outputs": [],
   "source": []
  },
  {
   "cell_type": "markdown",
   "id": "ce8410c2-d07b-4d78-9c85-72d441aac201",
   "metadata": {},
   "source": [
    "### 2 PASSO: Renomeando strings de datas, para que o pandas possa aceitar como colunas"
   ]
  },
  {
   "cell_type": "code",
   "execution_count": 289,
   "id": "8bd01326-18f7-4c71-80f2-79e5ce0f22ce",
   "metadata": {},
   "outputs": [
    {
     "name": "stdout",
     "output_type": "stream",
     "text": [
      "CATEGORIA\n",
      "MODALIDADE\n",
      "DIA DA SEMANA\n",
      "HORÁRIO\n",
      "TURNO\n",
      "PROFESSOR\n",
      "2024-10-01 00:00:00\n",
      "2024-10-02 00:00:00\n",
      "2024-10-03 00:00:00\n",
      "2024-10-04 00:00:00\n",
      "2024-10-07 00:00:00\n",
      "2024-10-08 00:00:00\n",
      "2024-10-09 00:00:00\n",
      "2024-10-10 00:00:00\n",
      "2024-10-11 00:00:00\n",
      "2024-10-14 00:00:00\n",
      "2024-10-15 00:00:00\n",
      "2024-10-16 00:00:00\n",
      "2024-10-17 00:00:00\n",
      "2024-10-18 00:00:00\n",
      "2024-10-21 00:00:00\n",
      "2024-10-22 00:00:00\n",
      "2024-10-23 00:00:00\n",
      "2024-10-24 00:00:00\n",
      "2024-10-25 00:00:00\n",
      "2024-10-28 00:00:00\n",
      "2024-10-29 00:00:00\n",
      "2024-10-30 00:00:00\n",
      "2024-10-31 00:00:00\n",
      "Média alunos p/ professor\n",
      "Média\n",
      "Alunos/professor\n",
      "Ocupação Máxima\n",
      "Professor\n"
     ]
    }
   ],
   "source": [
    "for columns in dataRUI.columns:\n",
    "    print(columns)"
   ]
  },
  {
   "cell_type": "code",
   "execution_count": 290,
   "id": "819ced85-36f5-409a-9462-f1a7c2e87616",
   "metadata": {},
   "outputs": [],
   "source": [
    "dataRUI.columns=[\n",
    "'CATEGORIA',\n",
    "'MODALIDADE',\n",
    "'DIA DA SEMANA',\n",
    "'HORÁRIO',\n",
    "'TURNO',\n",
    "'PROFESSOR',\n",
    "'2024-10-01 00:00:00',\n",
    "'2024-10-02 00:00:00',\n",
    "'2024-10-03 00:00:00',\n",
    "'2024-10-04 00:00:00',\n",
    "'2024-10-07 00:00:00',\n",
    "'2024-10-08 00:00:00',\n",
    "'2024-10-09 00:00:00',\n",
    "'2024-10-10 00:00:00',\n",
    "'2024-10-11 00:00:00',\n",
    "'2024-10-14 00:00:00',\n",
    "'2024-10-15 00:00:00',\n",
    "'2024-10-16 00:00:00',\n",
    "'2024-10-17 00:00:00',\n",
    "'2024-10-18 00:00:00',\n",
    "'2024-10-21 00:00:00',\n",
    "'2024-10-22 00:00:00',\n",
    "'2024-10-23 00:00:00',\n",
    "'2024-10-24 00:00:00',\n",
    "'2024-10-25 00:00:00',\n",
    "'2024-10-28 00:00:00',\n",
    "'2024-10-29 00:00:00',\n",
    "'2024-10-30 00:00:00',\n",
    "'2024-10-31 00:00:00',\n",
    "'Média alunos p/ professor',\n",
    "'Média',\n",
    "'Alunos/professor',\n",
    "'Ocupação Máxima',\n",
    "'Professor',\n",
    "]"
   ]
  },
  {
   "cell_type": "code",
   "execution_count": 291,
   "id": "f58a5cec-47d2-4a0d-8e87-7419e55d362f",
   "metadata": {},
   "outputs": [
    {
     "data": {
      "text/plain": [
       "Index(['CATEGORIA', 'MODALIDADE', 'DIA DA SEMANA', 'HORÁRIO', 'TURNO',\n",
       "       'PROFESSOR', '2024-10-01 00:00:00', '2024-10-02 00:00:00',\n",
       "       '2024-10-03 00:00:00', '2024-10-04 00:00:00', '2024-10-07 00:00:00',\n",
       "       '2024-10-08 00:00:00', '2024-10-09 00:00:00', '2024-10-10 00:00:00',\n",
       "       '2024-10-11 00:00:00', '2024-10-14 00:00:00', '2024-10-15 00:00:00',\n",
       "       '2024-10-16 00:00:00', '2024-10-17 00:00:00', '2024-10-18 00:00:00',\n",
       "       '2024-10-21 00:00:00', '2024-10-22 00:00:00', '2024-10-23 00:00:00',\n",
       "       '2024-10-24 00:00:00', '2024-10-25 00:00:00', '2024-10-28 00:00:00',\n",
       "       '2024-10-29 00:00:00', '2024-10-30 00:00:00', '2024-10-31 00:00:00',\n",
       "       'Média alunos p/ professor', 'Média', 'Alunos/professor',\n",
       "       'Ocupação Máxima', 'Professor'],\n",
       "      dtype='object')"
      ]
     },
     "execution_count": 291,
     "metadata": {},
     "output_type": "execute_result"
    }
   ],
   "source": [
    "dataRUI.columns"
   ]
  },
  {
   "cell_type": "code",
   "execution_count": null,
   "id": "4fef8921-3c0a-43f8-94cf-22abcf120b47",
   "metadata": {},
   "outputs": [],
   "source": []
  },
  {
   "cell_type": "code",
   "execution_count": null,
   "id": "9450f3c5-f4b8-44f4-a6e2-81d6d5cd1452",
   "metadata": {},
   "outputs": [],
   "source": []
  },
  {
   "cell_type": "code",
   "execution_count": null,
   "id": "71a54165-c9b7-4e33-b638-9b1a109b37a4",
   "metadata": {},
   "outputs": [],
   "source": []
  },
  {
   "cell_type": "markdown",
   "id": "4cf708f7-0e2f-49e2-bf0f-d9a5ef9255a5",
   "metadata": {},
   "source": [
    "### PASSO 3: Escolhendo colunas com o nome de 'datas', para renomear pelo o tipo dia, mês e ano. e removendo os 00 de horas"
   ]
  },
  {
   "cell_type": "code",
   "execution_count": 292,
   "id": "e541b703-b6de-43ca-9623-8e2e8ca2e13d",
   "metadata": {},
   "outputs": [],
   "source": [
    "colunas = [\n",
    "'2024-10-01 00:00:00',\n",
    "'2024-10-02 00:00:00',\n",
    "'2024-10-03 00:00:00',\n",
    "'2024-10-04 00:00:00',\n",
    "'2024-10-07 00:00:00',\n",
    "'2024-10-08 00:00:00',\n",
    "'2024-10-09 00:00:00',\n",
    "'2024-10-10 00:00:00',\n",
    "'2024-10-11 00:00:00',\n",
    "'2024-10-14 00:00:00',\n",
    "'2024-10-15 00:00:00',\n",
    "'2024-10-16 00:00:00',\n",
    "'2024-10-17 00:00:00',\n",
    "'2024-10-18 00:00:00',\n",
    "'2024-10-21 00:00:00',\n",
    "'2024-10-22 00:00:00',\n",
    "'2024-10-23 00:00:00',\n",
    "'2024-10-24 00:00:00',\n",
    "'2024-10-25 00:00:00',\n",
    "'2024-10-28 00:00:00',\n",
    "'2024-10-29 00:00:00',\n",
    "'2024-10-30 00:00:00',\n",
    "'2024-10-31 00:00:00',\n",
    "]\n"
   ]
  },
  {
   "cell_type": "code",
   "execution_count": 293,
   "id": "a5300ca5-10ba-413c-8836-9898850b6a40",
   "metadata": {},
   "outputs": [],
   "source": [
    "novas_colunas_RUI = []"
   ]
  },
  {
   "cell_type": "code",
   "execution_count": 294,
   "id": "674a1c68-4ac5-473a-838a-34fa1670412b",
   "metadata": {},
   "outputs": [],
   "source": [
    "for columns in colunas:\n",
    "    # Remove a parte da hora\n",
    "    data_sem_hora = columns.split(' ')[0]\n",
    "    \n",
    "    # Formata para o formato DD-MM-YYYY\n",
    "    ano, mes, dia = data_sem_hora.split('-')\n",
    "    novo_nome = f'{dia}-{mes}-{ano}'\n",
    "    novas_colunas_RUI.append(novo_nome)"
   ]
  },
  {
   "cell_type": "code",
   "execution_count": 295,
   "id": "3d27b139-3e10-47ff-a68d-8fd27f336a81",
   "metadata": {},
   "outputs": [
    {
     "data": {
      "text/plain": [
       "['01-10-2024',\n",
       " '02-10-2024',\n",
       " '03-10-2024',\n",
       " '04-10-2024',\n",
       " '07-10-2024',\n",
       " '08-10-2024',\n",
       " '09-10-2024',\n",
       " '10-10-2024',\n",
       " '11-10-2024',\n",
       " '14-10-2024',\n",
       " '15-10-2024',\n",
       " '16-10-2024',\n",
       " '17-10-2024',\n",
       " '18-10-2024',\n",
       " '21-10-2024',\n",
       " '22-10-2024',\n",
       " '23-10-2024',\n",
       " '24-10-2024',\n",
       " '25-10-2024',\n",
       " '28-10-2024',\n",
       " '29-10-2024',\n",
       " '30-10-2024',\n",
       " '31-10-2024']"
      ]
     },
     "execution_count": 295,
     "metadata": {},
     "output_type": "execute_result"
    }
   ],
   "source": [
    "novas_colunas_RUI"
   ]
  },
  {
   "cell_type": "code",
   "execution_count": null,
   "id": "cc035af3-df46-403d-be10-ec75f0ba00c1",
   "metadata": {},
   "outputs": [],
   "source": []
  },
  {
   "cell_type": "code",
   "execution_count": null,
   "id": "1a9b8ef1-2606-40cd-b6a0-8c2282fae2e5",
   "metadata": {},
   "outputs": [],
   "source": []
  },
  {
   "cell_type": "code",
   "execution_count": null,
   "id": "ad01a85f-86cf-4c76-9a19-11b070d79ef7",
   "metadata": {},
   "outputs": [],
   "source": []
  },
  {
   "cell_type": "markdown",
   "id": "a11c3d32-20aa-4875-95ae-9dde460e4898",
   "metadata": {},
   "source": [
    "### PASSO 4 renomeando colunas e acrescentando o novo formato "
   ]
  },
  {
   "cell_type": "markdown",
   "id": "6193652a-629e-42eb-90e6-91dc1802852a",
   "metadata": {},
   "source": [
    "copie as colunas que escolheu para renomear, e cole o formato novo no lugar das velhas"
   ]
  },
  {
   "cell_type": "code",
   "execution_count": 296,
   "id": "e2967f6e-e8bc-44c8-b058-97f3cee30906",
   "metadata": {},
   "outputs": [],
   "source": [
    "# Adicionando as datas formatadas as colunas, copiando e colando"
   ]
  },
  {
   "cell_type": "code",
   "execution_count": 297,
   "id": "64c3736f-8090-4063-a0c0-3a9a52dced32",
   "metadata": {},
   "outputs": [
    {
     "name": "stdout",
     "output_type": "stream",
     "text": [
      "CATEGORIA\n",
      "MODALIDADE\n",
      "DIA DA SEMANA\n",
      "HORÁRIO\n",
      "TURNO\n",
      "PROFESSOR\n",
      "2024-10-01 00:00:00\n",
      "2024-10-02 00:00:00\n",
      "2024-10-03 00:00:00\n",
      "2024-10-04 00:00:00\n",
      "2024-10-07 00:00:00\n",
      "2024-10-08 00:00:00\n",
      "2024-10-09 00:00:00\n",
      "2024-10-10 00:00:00\n",
      "2024-10-11 00:00:00\n",
      "2024-10-14 00:00:00\n",
      "2024-10-15 00:00:00\n",
      "2024-10-16 00:00:00\n",
      "2024-10-17 00:00:00\n",
      "2024-10-18 00:00:00\n",
      "2024-10-21 00:00:00\n",
      "2024-10-22 00:00:00\n",
      "2024-10-23 00:00:00\n",
      "2024-10-24 00:00:00\n",
      "2024-10-25 00:00:00\n",
      "2024-10-28 00:00:00\n",
      "2024-10-29 00:00:00\n",
      "2024-10-30 00:00:00\n",
      "2024-10-31 00:00:00\n",
      "Média alunos p/ professor\n",
      "Média\n",
      "Alunos/professor\n",
      "Ocupação Máxima\n",
      "Professor\n"
     ]
    }
   ],
   "source": [
    "for columns in dataRUI.columns:\n",
    "    print (columns)"
   ]
  },
  {
   "cell_type": "code",
   "execution_count": 298,
   "id": "1421d029-0a62-4227-b904-511a90b87260",
   "metadata": {},
   "outputs": [],
   "source": [
    "dataRUI.columns = [\n",
    "'CATEGORIA',\n",
    "'MODALIDADE',\n",
    "'DIA DA SEMANA',\n",
    "'HORÁRIO',\n",
    "'TURNO',\n",
    "'PROFESSOR',\n",
    "'01-10-2024',\n",
    "'02-10-2024',\n",
    "'03-10-2024',\n",
    "'04-10-2024',\n",
    "'07-10-2024',\n",
    "'08-10-2024',\n",
    "'09-10-2024',\n",
    "'10-10-2024',\n",
    "'11-10-2024',\n",
    "'14-10-2024',\n",
    "'15-10-2024',\n",
    "'16-10-2024',\n",
    "'17-10-2024',\n",
    "'18-10-2024',\n",
    "'21-10-2024',\n",
    "'22-10-2024',\n",
    "'23-10-2024',\n",
    "'24-10-2024',\n",
    "'25-10-2024',\n",
    "'28-10-2024',\n",
    "'29-10-2024',\n",
    "'30-10-2024',\n",
    "'31-10-2024',\n",
    "'Média alunos p/ professor',\n",
    "'Média',\n",
    "'Alunos/professor',\n",
    "'Ocupação Máxima',\n",
    "'Professor'\n",
    "]"
   ]
  },
  {
   "cell_type": "code",
   "execution_count": null,
   "id": "9d1cfefd-266e-40ea-919b-6ff988ad388f",
   "metadata": {},
   "outputs": [],
   "source": []
  },
  {
   "cell_type": "code",
   "execution_count": null,
   "id": "11acdec2-11b7-438e-acf1-a43ad9798e9d",
   "metadata": {},
   "outputs": [],
   "source": []
  },
  {
   "cell_type": "code",
   "execution_count": null,
   "id": "047bd9bf-6d74-400b-8ad5-b279956cbbc6",
   "metadata": {},
   "outputs": [],
   "source": []
  },
  {
   "cell_type": "markdown",
   "id": "1b64dfa6-232c-4948-81fb-0fc3b8d2c60f",
   "metadata": {},
   "source": [
    "### 5 PASSO: Usar o Loop for para substitituir os valores das frequencia de 'x' e 'X' por zero, com o método do pd.to_numeric) "
   ]
  },
  {
   "cell_type": "code",
   "execution_count": 299,
   "id": "67ca2212-4613-4108-ade7-7b3d4e6962d8",
   "metadata": {},
   "outputs": [],
   "source": [
    "colunas = [\n",
    "'01-10-2024',\n",
    "'02-10-2024',\n",
    "'03-10-2024',\n",
    "'04-10-2024',\n",
    "'07-10-2024',\n",
    "'08-10-2024',\n",
    "'09-10-2024',\n",
    "'10-10-2024',\n",
    "'11-10-2024',\n",
    "'14-10-2024',\n",
    "'15-10-2024',\n",
    "'16-10-2024',\n",
    "'17-10-2024',\n",
    "'18-10-2024',\n",
    "'21-10-2024',\n",
    "'22-10-2024',\n",
    "'23-10-2024',\n",
    "'24-10-2024',\n",
    "'25-10-2024',\n",
    "'28-10-2024',\n",
    "'29-10-2024',\n",
    "'30-10-2024',\n",
    "'31-10-2024',\n",
    "]"
   ]
  },
  {
   "cell_type": "markdown",
   "id": "6e4881bd-49ec-4d0d-bfc8-8ee71e129d80",
   "metadata": {},
   "source": [
    "Fazendo a limpeza profunda, formatando valores para numeros, preenchendo com zeros os nulos e transformando em inteiros"
   ]
  },
  {
   "cell_type": "code",
   "execution_count": 300,
   "id": "a5366c49-5102-4f48-8386-da9be49b10b4",
   "metadata": {},
   "outputs": [],
   "source": [
    "for columns in colunas:\n",
    "    # dataMES[columns] = pd.to_numeric(dataMES[columns], errors='coerce')\n",
    "    dataRUI[columns] = pd.to_numeric(dataRUI[columns], errors='coerce').fillna(0).astype(int)"
   ]
  },
  {
   "cell_type": "code",
   "execution_count": null,
   "id": "2288bf2f-5784-46ab-bf73-fa3a4b629f0d",
   "metadata": {},
   "outputs": [],
   "source": []
  },
  {
   "cell_type": "code",
   "execution_count": null,
   "id": "af055fa9-6e1b-4c81-97a3-f2eb9231b169",
   "metadata": {},
   "outputs": [],
   "source": []
  },
  {
   "cell_type": "code",
   "execution_count": null,
   "id": "93f21284-023d-4f45-82f3-cb207592ae47",
   "metadata": {},
   "outputs": [],
   "source": []
  },
  {
   "cell_type": "markdown",
   "id": "4d0ec9eb-f417-4ff1-a47e-9c0f0632b4b5",
   "metadata": {},
   "source": [
    "### PASSO 6: MELT derretendo as colunas em formato de datas"
   ]
  },
  {
   "cell_type": "markdown",
   "id": "bc5e9170-400a-4f6e-a7aa-8783486f5d8d",
   "metadata": {},
   "source": [
    "o MELT ele pega as colunas que estão na horizontal e cria uma coluna de categorias, e depois ele cria outra coluna com os valores dessas colunas que foram transformadas em dados categóricos"
   ]
  },
  {
   "cell_type": "code",
   "execution_count": 301,
   "id": "88194eec-c6f4-49a4-a15f-b5ef53ae301d",
   "metadata": {},
   "outputs": [],
   "source": [
    "colunas_para_melt = [\n",
    "'01-10-2024',\n",
    "'02-10-2024',\n",
    "'03-10-2024',\n",
    "'04-10-2024',\n",
    "'07-10-2024',\n",
    "'08-10-2024',\n",
    "'09-10-2024',\n",
    "'10-10-2024',\n",
    "'11-10-2024',\n",
    "'14-10-2024',\n",
    "'15-10-2024',\n",
    "'16-10-2024',\n",
    "'17-10-2024',\n",
    "'18-10-2024',\n",
    "'21-10-2024',\n",
    "'22-10-2024',\n",
    "'23-10-2024',\n",
    "'24-10-2024',\n",
    "'25-10-2024',\n",
    "'28-10-2024',\n",
    "'29-10-2024',\n",
    "'30-10-2024',\n",
    "'31-10-2024',\n",
    "]"
   ]
  },
  {
   "cell_type": "code",
   "execution_count": null,
   "id": "18fb9aa5-971a-4c5a-987f-24c3233deb22",
   "metadata": {},
   "outputs": [],
   "source": []
  },
  {
   "cell_type": "code",
   "execution_count": null,
   "id": "20f571f7-a01e-4564-b4ed-830deee1b0c0",
   "metadata": {},
   "outputs": [],
   "source": []
  },
  {
   "cell_type": "code",
   "execution_count": null,
   "id": "a19d490f-c27c-4c9b-adc2-1a0939cb3ff2",
   "metadata": {},
   "outputs": [],
   "source": []
  },
  {
   "cell_type": "markdown",
   "id": "3c6e888f-aac8-4abb-8712-b1dd596e181c",
   "metadata": {},
   "source": [
    "#### Indentificando as colunas que Eu quero manter em meu dataframe"
   ]
  },
  {
   "cell_type": "code",
   "execution_count": 302,
   "id": "4d43519f-96c3-4b40-a8a2-7bfb788a2bd8",
   "metadata": {},
   "outputs": [],
   "source": [
    "# Identifica as colunas que você quer manter como identificadoras (id_vars)\n",
    "# São as colunas que não serão \"unpivoted\"\n",
    "id_vars_cols = [columns for columns in dataRUI.columns if columns not in colunas_para_melt]"
   ]
  },
  {
   "cell_type": "code",
   "execution_count": null,
   "id": "94fb95a2-ef40-4b3d-80d3-c609e16ab391",
   "metadata": {},
   "outputs": [],
   "source": []
  },
  {
   "cell_type": "code",
   "execution_count": null,
   "id": "30b68879-105a-463c-8af9-421ffcb33a09",
   "metadata": {},
   "outputs": [],
   "source": []
  },
  {
   "cell_type": "code",
   "execution_count": null,
   "id": "cfcd14e1-5a69-4ba4-9c84-15dcf537a496",
   "metadata": {},
   "outputs": [],
   "source": []
  },
  {
   "cell_type": "code",
   "execution_count": 303,
   "id": "4ce7dd98-d8ba-49c8-b386-94a0a0bee4d2",
   "metadata": {},
   "outputs": [],
   "source": [
    "dataRUI_melted = pd.melt(dataRUI,\n",
    "                      id_vars=id_vars_cols, #colunas que Eu deixei, que ficaram.\n",
    "                      value_vars=colunas_para_melt, #colunas que vão se transformar.\n",
    "                      var_name='Dias de Aulas', # nome da coluna categorica\n",
    "                      value_name='Frequencia de Alunos') # nome da coluna de valores"
   ]
  },
  {
   "cell_type": "code",
   "execution_count": 304,
   "id": "901209dc-6913-4af3-b329-48e9ead438db",
   "metadata": {},
   "outputs": [
    {
     "data": {
      "text/html": [
       "<div>\n",
       "<style scoped>\n",
       "    .dataframe tbody tr th:only-of-type {\n",
       "        vertical-align: middle;\n",
       "    }\n",
       "\n",
       "    .dataframe tbody tr th {\n",
       "        vertical-align: top;\n",
       "    }\n",
       "\n",
       "    .dataframe thead th {\n",
       "        text-align: right;\n",
       "    }\n",
       "</style>\n",
       "<table border=\"1\" class=\"dataframe\">\n",
       "  <thead>\n",
       "    <tr style=\"text-align: right;\">\n",
       "      <th></th>\n",
       "      <th>CATEGORIA</th>\n",
       "      <th>MODALIDADE</th>\n",
       "      <th>DIA DA SEMANA</th>\n",
       "      <th>HORÁRIO</th>\n",
       "      <th>TURNO</th>\n",
       "      <th>PROFESSOR</th>\n",
       "      <th>Média alunos p/ professor</th>\n",
       "      <th>Média</th>\n",
       "      <th>Alunos/professor</th>\n",
       "      <th>Ocupação Máxima</th>\n",
       "      <th>Professor</th>\n",
       "      <th>Dias de Aulas</th>\n",
       "      <th>Frequencia de Alunos</th>\n",
       "    </tr>\n",
       "  </thead>\n",
       "  <tbody>\n",
       "    <tr>\n",
       "      <th>0</th>\n",
       "      <td>MUSC - C/P</td>\n",
       "      <td>A - MUSCULAÇÃO COM PERSONAL</td>\n",
       "      <td>seg, ter, qua, qui, sex</td>\n",
       "      <td>06:00</td>\n",
       "      <td>MANHÃ</td>\n",
       "      <td>PABLO</td>\n",
       "      <td>23</td>\n",
       "      <td>54.130435</td>\n",
       "      <td>NaN</td>\n",
       "      <td>NaN</td>\n",
       "      <td>0.0</td>\n",
       "      <td>01-10-2024</td>\n",
       "      <td>66</td>\n",
       "    </tr>\n",
       "    <tr>\n",
       "      <th>1</th>\n",
       "      <td>MUSC - S/P</td>\n",
       "      <td>A - MUSCULAÇÃO SEM PERSONAL</td>\n",
       "      <td>seg, ter, qua, qui, sex</td>\n",
       "      <td>06:00</td>\n",
       "      <td>MANHÃ</td>\n",
       "      <td>PABLO</td>\n",
       "      <td>23</td>\n",
       "      <td>49.043478</td>\n",
       "      <td>7.666667</td>\n",
       "      <td>NaN</td>\n",
       "      <td>3.0</td>\n",
       "      <td>01-10-2024</td>\n",
       "      <td>62</td>\n",
       "    </tr>\n",
       "  </tbody>\n",
       "</table>\n",
       "</div>"
      ],
      "text/plain": [
       "    CATEGORIA                   MODALIDADE            DIA DA SEMANA HORÁRIO  \\\n",
       "0  MUSC - C/P  A - MUSCULAÇÃO COM PERSONAL  seg, ter, qua, qui, sex   06:00   \n",
       "1  MUSC - S/P  A - MUSCULAÇÃO SEM PERSONAL  seg, ter, qua, qui, sex   06:00   \n",
       "\n",
       "   TURNO PROFESSOR  Média alunos p/ professor      Média  Alunos/professor  \\\n",
       "0  MANHÃ     PABLO                         23  54.130435               NaN   \n",
       "1  MANHÃ     PABLO                         23  49.043478          7.666667   \n",
       "\n",
       "   Ocupação Máxima  Professor Dias de Aulas  Frequencia de Alunos  \n",
       "0              NaN        0.0    01-10-2024                    66  \n",
       "1              NaN        3.0    01-10-2024                    62  "
      ]
     },
     "execution_count": 304,
     "metadata": {},
     "output_type": "execute_result"
    }
   ],
   "source": [
    "dataRUI_melted.head(2)"
   ]
  },
  {
   "cell_type": "code",
   "execution_count": 305,
   "id": "35ba4435-eca7-4a6e-8f2a-5d25b7b86b85",
   "metadata": {},
   "outputs": [
    {
     "data": {
      "text/plain": [
       "27373"
      ]
     },
     "execution_count": 305,
     "metadata": {},
     "output_type": "execute_result"
    }
   ],
   "source": [
    "dataRUI_melted['Frequencia de Alunos'].sum()"
   ]
  },
  {
   "cell_type": "markdown",
   "id": "6c80f8e7-7141-4b61-83ad-288bc917a09e",
   "metadata": {},
   "source": [
    "___"
   ]
  },
  {
   "cell_type": "code",
   "execution_count": null,
   "id": "0fb49b33-2244-4943-8c25-4492e36f887f",
   "metadata": {},
   "outputs": [],
   "source": []
  },
  {
   "cell_type": "code",
   "execution_count": null,
   "id": "88633c76-e8ff-4508-846f-021eb9ba5be8",
   "metadata": {},
   "outputs": [],
   "source": []
  },
  {
   "cell_type": "code",
   "execution_count": null,
   "id": "67bd7e04-093e-4a27-96de-5c5a17a88cf1",
   "metadata": {},
   "outputs": [],
   "source": []
  },
  {
   "cell_type": "markdown",
   "id": "71b5c5f4-a6ca-4f87-8bfb-41d1a85a5806",
   "metadata": {},
   "source": [
    "____"
   ]
  },
  {
   "cell_type": "markdown",
   "id": "a12552fa-bef3-449c-b0bf-2d9055bcc922",
   "metadata": {
    "tags": []
   },
   "source": [
    "# PASSARÉ [PAS] - PREPROCESSING 13"
   ]
  },
  {
   "cell_type": "code",
   "execution_count": 306,
   "id": "e2a11cd7-8519-4177-9744-c59f0317fe40",
   "metadata": {},
   "outputs": [],
   "source": [
    "data13 = pd.read_excel('3.2 Mapa de Ocupação - OUT 2024.xlsx', sheet_name='PAS', skiprows=1, nrows=89)"
   ]
  },
  {
   "cell_type": "code",
   "execution_count": 307,
   "id": "4651b873-bac1-4909-b167-a4ce03237134",
   "metadata": {},
   "outputs": [],
   "source": [
    "dataPAS = data13.copy()"
   ]
  },
  {
   "cell_type": "code",
   "execution_count": null,
   "id": "00a63989-d0e6-4ff0-b0e1-6450e63dee32",
   "metadata": {},
   "outputs": [],
   "source": []
  },
  {
   "cell_type": "code",
   "execution_count": null,
   "id": "aa84e848-f0d4-4673-ad1b-7c2dc71a8912",
   "metadata": {},
   "outputs": [],
   "source": []
  },
  {
   "cell_type": "code",
   "execution_count": null,
   "id": "f09741e4-abdd-4933-8893-67c12d8c3e76",
   "metadata": {},
   "outputs": [],
   "source": []
  },
  {
   "cell_type": "markdown",
   "id": "864185ac-3d65-4233-8d9f-13070f85cb4c",
   "metadata": {},
   "source": [
    "### 1 PASSO: Removendo colunas desnecessárias"
   ]
  },
  {
   "cell_type": "code",
   "execution_count": 308,
   "id": "c5d04c06-ca8a-4a0f-9461-4a43221650dc",
   "metadata": {},
   "outputs": [
    {
     "data": {
      "text/html": [
       "<div>\n",
       "<style scoped>\n",
       "    .dataframe tbody tr th:only-of-type {\n",
       "        vertical-align: middle;\n",
       "    }\n",
       "\n",
       "    .dataframe tbody tr th {\n",
       "        vertical-align: top;\n",
       "    }\n",
       "\n",
       "    .dataframe thead th {\n",
       "        text-align: right;\n",
       "    }\n",
       "</style>\n",
       "<table border=\"1\" class=\"dataframe\">\n",
       "  <thead>\n",
       "    <tr style=\"text-align: right;\">\n",
       "      <th></th>\n",
       "      <th>Unnamed: 0</th>\n",
       "      <th>Unnamed: 1</th>\n",
       "      <th>Unnamed: 2</th>\n",
       "      <th>CATEGORIA</th>\n",
       "      <th>MODALIDADE</th>\n",
       "      <th>DIA DA SEMANA</th>\n",
       "      <th>HORÁRIO</th>\n",
       "      <th>AUX.1</th>\n",
       "      <th>TURNO</th>\n",
       "      <th>AUX 2</th>\n",
       "      <th>...</th>\n",
       "      <th>2024-10-28 00:00:00</th>\n",
       "      <th>2024-10-29 00:00:00</th>\n",
       "      <th>2024-10-30 00:00:00</th>\n",
       "      <th>2024-10-31 00:00:00</th>\n",
       "      <th>Média alunos p/ professor</th>\n",
       "      <th>Média</th>\n",
       "      <th>Alunos/professor</th>\n",
       "      <th>Ocupação Máxima</th>\n",
       "      <th>Professor</th>\n",
       "      <th>Unnamed: 40</th>\n",
       "    </tr>\n",
       "  </thead>\n",
       "  <tbody>\n",
       "    <tr>\n",
       "      <th>0</th>\n",
       "      <td>NaN</td>\n",
       "      <td>NaN</td>\n",
       "      <td>NaN</td>\n",
       "      <td>MUSC - C/P</td>\n",
       "      <td>A - MUSCULAÇÃO COM PERSONAL</td>\n",
       "      <td>seg, ter, qua, qui, sex</td>\n",
       "      <td>06:00:00</td>\n",
       "      <td>06:00</td>\n",
       "      <td>MANHÃ</td>\n",
       "      <td>A - MUSCULAÇÃO COM PERSONAL - 06:00</td>\n",
       "      <td>...</td>\n",
       "      <td>19</td>\n",
       "      <td>16</td>\n",
       "      <td>24</td>\n",
       "      <td>10</td>\n",
       "      <td>19</td>\n",
       "      <td>19.263158</td>\n",
       "      <td>NaN</td>\n",
       "      <td>NaN</td>\n",
       "      <td>0.0</td>\n",
       "      <td>NaN</td>\n",
       "    </tr>\n",
       "    <tr>\n",
       "      <th>1</th>\n",
       "      <td>NaN</td>\n",
       "      <td>NaN</td>\n",
       "      <td>NaN</td>\n",
       "      <td>MUSC - S/P</td>\n",
       "      <td>A - MUSCULAÇÃO SEM PERSONAL</td>\n",
       "      <td>seg, ter, qua, qui, sex</td>\n",
       "      <td>06:00:00</td>\n",
       "      <td>06:00</td>\n",
       "      <td>MANHÃ</td>\n",
       "      <td>A - MUSCULAÇÃO SEM PERSONAL - 06:00</td>\n",
       "      <td>...</td>\n",
       "      <td>68</td>\n",
       "      <td>90</td>\n",
       "      <td>85</td>\n",
       "      <td>50</td>\n",
       "      <td>19</td>\n",
       "      <td>77.894737</td>\n",
       "      <td>6.333333</td>\n",
       "      <td>NaN</td>\n",
       "      <td>3.0</td>\n",
       "      <td>NaN</td>\n",
       "    </tr>\n",
       "  </tbody>\n",
       "</table>\n",
       "<p>2 rows × 41 columns</p>\n",
       "</div>"
      ],
      "text/plain": [
       "   Unnamed: 0  Unnamed: 1  Unnamed: 2   CATEGORIA  \\\n",
       "0         NaN         NaN         NaN  MUSC - C/P   \n",
       "1         NaN         NaN         NaN  MUSC - S/P   \n",
       "\n",
       "                    MODALIDADE            DIA DA SEMANA   HORÁRIO  AUX.1  \\\n",
       "0  A - MUSCULAÇÃO COM PERSONAL  seg, ter, qua, qui, sex  06:00:00  06:00   \n",
       "1  A - MUSCULAÇÃO SEM PERSONAL  seg, ter, qua, qui, sex  06:00:00  06:00   \n",
       "\n",
       "   TURNO                                AUX 2  ... 2024-10-28 00:00:00  \\\n",
       "0  MANHÃ  A - MUSCULAÇÃO COM PERSONAL - 06:00  ...                  19   \n",
       "1  MANHÃ  A - MUSCULAÇÃO SEM PERSONAL - 06:00  ...                  68   \n",
       "\n",
       "  2024-10-29 00:00:00 2024-10-30 00:00:00 2024-10-31 00:00:00  \\\n",
       "0                  16                  24                  10   \n",
       "1                  90                  85                  50   \n",
       "\n",
       "  Média alunos p/ professor      Média Alunos/professor Ocupação Máxima  \\\n",
       "0                        19  19.263158              NaN             NaN   \n",
       "1                        19  77.894737         6.333333             NaN   \n",
       "\n",
       "  Professor Unnamed: 40  \n",
       "0       0.0         NaN  \n",
       "1       3.0         NaN  \n",
       "\n",
       "[2 rows x 41 columns]"
      ]
     },
     "execution_count": 308,
     "metadata": {},
     "output_type": "execute_result"
    }
   ],
   "source": [
    "dataPAS.head(2)"
   ]
  },
  {
   "cell_type": "code",
   "execution_count": 309,
   "id": "4c483f7b-ec80-416b-bea0-c19740f729b3",
   "metadata": {},
   "outputs": [
    {
     "data": {
      "text/plain": [
       "Unnamed: 0                                                    NaN\n",
       "Unnamed: 1                                                    NaN\n",
       "Unnamed: 2                                                    NaN\n",
       "CATEGORIA                                              MUSC - C/P\n",
       "MODALIDADE                            A - MUSCULAÇÃO COM PERSONAL\n",
       "DIA DA SEMANA                             seg, ter, qua, qui, sex\n",
       "HORÁRIO                                                  06:00:00\n",
       "AUX.1                                                       06:00\n",
       "TURNO                                                       MANHÃ\n",
       "AUX 2                         A - MUSCULAÇÃO COM PERSONAL - 06:00\n",
       "PROFESSOR                                                  MARCOS\n",
       "AUX 3                        A - MUSCULAÇÃO COM PERSONAL - MARCOS\n",
       "2024-10-01 00:00:00                                           NaN\n",
       "2024-10-02 00:00:00                                            12\n",
       "2024-10-03 00:00:00                                            22\n",
       "2024-10-04 00:00:00                                            18\n",
       "2024-10-07 00:00:00                                            22\n",
       "2024-10-08 00:00:00                                            18\n",
       "2024-10-09 00:00:00                                            18\n",
       "2024-10-10 00:00:00                                            20\n",
       "2024-10-11 00:00:00                                            22\n",
       "2024-10-14 00:00:00                                            20\n",
       "2024-10-15 00:00:00                                           NaN\n",
       "2024-10-16 00:00:00                                           NaN\n",
       "2024-10-17 00:00:00                                            26\n",
       "2024-10-18 00:00:00                                           NaN\n",
       "2024-10-21 00:00:00                                            23\n",
       "2024-10-22 00:00:00                                            23\n",
       "2024-10-23 00:00:00                                            18\n",
       "2024-10-24 00:00:00                                            16\n",
       "2024-10-25 00:00:00                                            19\n",
       "2024-10-28 00:00:00                                            19\n",
       "2024-10-29 00:00:00                                            16\n",
       "2024-10-30 00:00:00                                            24\n",
       "2024-10-31 00:00:00                                            10\n",
       "Média alunos p/ professor                                      19\n",
       "Média                                                   19.263158\n",
       "Alunos/professor                                              NaN\n",
       "Ocupação Máxima                                               NaN\n",
       "Professor                                                     0.0\n",
       "Unnamed: 40                                                   NaN\n",
       "Name: 0, dtype: object"
      ]
     },
     "execution_count": 309,
     "metadata": {},
     "output_type": "execute_result"
    }
   ],
   "source": [
    "dataPAS.iloc[0]"
   ]
  },
  {
   "cell_type": "code",
   "execution_count": 310,
   "id": "03459142-e188-405c-9e7d-f93bfc7dde90",
   "metadata": {},
   "outputs": [
    {
     "data": {
      "text/plain": [
       "Unnamed: 0                                                   NaN\n",
       "Unnamed: 1                                                   NaN\n",
       "Unnamed: 2                                                   NaN\n",
       "CATEGORIA                                             MUSC - S/P\n",
       "MODALIDADE                           A - MUSCULAÇÃO SEM PERSONAL\n",
       "DIA DA SEMANA                            seg, ter, qua, qui, sex\n",
       "HORÁRIO                                                 22:00:00\n",
       "AUX.1                                                      22:00\n",
       "TURNO                                                      NOITE\n",
       "AUX 2                        A - MUSCULAÇÃO SEM PERSONAL - 22:00\n",
       "PROFESSOR                                                    ANA\n",
       "AUX 3                                                        NaN\n",
       "2024-10-01 00:00:00                                           37\n",
       "2024-10-02 00:00:00                                           39\n",
       "2024-10-03 00:00:00                                           34\n",
       "2024-10-04 00:00:00                                           17\n",
       "2024-10-07 00:00:00                                           37\n",
       "2024-10-08 00:00:00                                           44\n",
       "2024-10-09 00:00:00                                           39\n",
       "2024-10-10 00:00:00                                           38\n",
       "2024-10-11 00:00:00                                           30\n",
       "2024-10-14 00:00:00                                           44\n",
       "2024-10-15 00:00:00                                           38\n",
       "2024-10-16 00:00:00                                           32\n",
       "2024-10-17 00:00:00                                          NaN\n",
       "2024-10-18 00:00:00                                          NaN\n",
       "2024-10-21 00:00:00                                           46\n",
       "2024-10-22 00:00:00                                           38\n",
       "2024-10-23 00:00:00                                           44\n",
       "2024-10-24 00:00:00                                          NaN\n",
       "2024-10-25 00:00:00                                            x\n",
       "2024-10-28 00:00:00                                          NaN\n",
       "2024-10-29 00:00:00                                          NaN\n",
       "2024-10-30 00:00:00                                           22\n",
       "2024-10-31 00:00:00                                          NaN\n",
       "Média alunos p/ professor                                     16\n",
       "Média                                                    36.1875\n",
       "Alunos/professor                                             NaN\n",
       "Ocupação Máxima                                              NaN\n",
       "Professor                                                    NaN\n",
       "Unnamed: 40                                                  NaN\n",
       "Name: 88, dtype: object"
      ]
     },
     "execution_count": 310,
     "metadata": {},
     "output_type": "execute_result"
    }
   ],
   "source": [
    "dataPAS.iloc[-1]"
   ]
  },
  {
   "cell_type": "code",
   "execution_count": null,
   "id": "61195470-b94e-4b02-9d07-4714cbcccd14",
   "metadata": {},
   "outputs": [],
   "source": []
  },
  {
   "cell_type": "code",
   "execution_count": null,
   "id": "ebfe879b-eb6a-45eb-a38b-700b6e0de7ae",
   "metadata": {},
   "outputs": [],
   "source": []
  },
  {
   "cell_type": "code",
   "execution_count": null,
   "id": "a8e5602a-b08f-417e-ba67-edd92f60fb57",
   "metadata": {},
   "outputs": [],
   "source": []
  },
  {
   "cell_type": "code",
   "execution_count": 311,
   "id": "9ef3ea06-70bf-4f58-b25e-fcb8b3fe86f1",
   "metadata": {},
   "outputs": [],
   "source": [
    "dropColumns = ['Unnamed: 0', 'Unnamed: 1', 'Unnamed: 2', 'HORÁRIO',\n",
    "               'AUX 2', 'AUX 3', 'Unnamed: 40']"
   ]
  },
  {
   "cell_type": "code",
   "execution_count": 312,
   "id": "ec716c7a-4cc8-4d0c-86e1-0c2ac6e59609",
   "metadata": {},
   "outputs": [],
   "source": [
    "dataPAS.drop(columns=dropColumns, inplace=True)"
   ]
  },
  {
   "cell_type": "markdown",
   "id": "1ba6a6a1-cc59-49b0-b6d8-b796c378760c",
   "metadata": {},
   "source": [
    "- PRECISAMOS RENOMEAR A COLUNA AUX.1 COMO HORARIO"
   ]
  },
  {
   "cell_type": "code",
   "execution_count": 313,
   "id": "fa3c448c-cf4c-4e3b-8d8e-b95e4ec66748",
   "metadata": {},
   "outputs": [],
   "source": [
    "dataPAS.rename(columns={'AUX.1': 'HORÁRIO'}, inplace=True)"
   ]
  },
  {
   "cell_type": "code",
   "execution_count": null,
   "id": "07902915-74e0-4004-9167-cf9939ddc4c2",
   "metadata": {},
   "outputs": [],
   "source": []
  },
  {
   "cell_type": "code",
   "execution_count": null,
   "id": "dafe4c0b-a8a4-42ad-94a5-fe7fa066ad12",
   "metadata": {},
   "outputs": [],
   "source": []
  },
  {
   "cell_type": "code",
   "execution_count": null,
   "id": "75dd45ca-a715-4c20-a90c-f984d2fc0695",
   "metadata": {},
   "outputs": [],
   "source": []
  },
  {
   "cell_type": "markdown",
   "id": "82321486-ba76-4f40-aa59-04ff727f75ff",
   "metadata": {},
   "source": [
    "### 2 PASSO: Renomeando strings de datas, para que o pandas possa aceitar como colunas"
   ]
  },
  {
   "cell_type": "code",
   "execution_count": 314,
   "id": "0b8b834c-cd4a-4692-af05-b8a600664e57",
   "metadata": {},
   "outputs": [
    {
     "name": "stdout",
     "output_type": "stream",
     "text": [
      "CATEGORIA\n",
      "MODALIDADE\n",
      "DIA DA SEMANA\n",
      "HORÁRIO\n",
      "TURNO\n",
      "PROFESSOR\n",
      "2024-10-01 00:00:00\n",
      "2024-10-02 00:00:00\n",
      "2024-10-03 00:00:00\n",
      "2024-10-04 00:00:00\n",
      "2024-10-07 00:00:00\n",
      "2024-10-08 00:00:00\n",
      "2024-10-09 00:00:00\n",
      "2024-10-10 00:00:00\n",
      "2024-10-11 00:00:00\n",
      "2024-10-14 00:00:00\n",
      "2024-10-15 00:00:00\n",
      "2024-10-16 00:00:00\n",
      "2024-10-17 00:00:00\n",
      "2024-10-18 00:00:00\n",
      "2024-10-21 00:00:00\n",
      "2024-10-22 00:00:00\n",
      "2024-10-23 00:00:00\n",
      "2024-10-24 00:00:00\n",
      "2024-10-25 00:00:00\n",
      "2024-10-28 00:00:00\n",
      "2024-10-29 00:00:00\n",
      "2024-10-30 00:00:00\n",
      "2024-10-31 00:00:00\n",
      "Média alunos p/ professor\n",
      "Média\n",
      "Alunos/professor\n",
      "Ocupação Máxima\n",
      "Professor\n"
     ]
    }
   ],
   "source": [
    "for columns in dataPAS.columns:\n",
    "    print(columns)"
   ]
  },
  {
   "cell_type": "code",
   "execution_count": 315,
   "id": "c088bf37-8164-4128-b182-7d833c788818",
   "metadata": {},
   "outputs": [],
   "source": [
    "dataPAS.columns = [\n",
    "'CATEGORIA',\n",
    "'MODALIDADE',\n",
    "'DIA DA SEMANA',\n",
    "'HORÁRIO',\n",
    "'TURNO',\n",
    "'PROFESSOR',\n",
    "'2024-10-01 00:00:00',\n",
    "'2024-10-02 00:00:00',\n",
    "'2024-10-03 00:00:00',\n",
    "'2024-10-04 00:00:00',\n",
    "'2024-10-07 00:00:00',\n",
    "'2024-10-08 00:00:00',\n",
    "'2024-10-09 00:00:00',\n",
    "'2024-10-10 00:00:00',\n",
    "'2024-10-11 00:00:00',\n",
    "'2024-10-14 00:00:00',\n",
    "'2024-10-15 00:00:00',\n",
    "'2024-10-16 00:00:00',\n",
    "'2024-10-17 00:00:00',\n",
    "'2024-10-18 00:00:00',\n",
    "'2024-10-21 00:00:00',\n",
    "'2024-10-22 00:00:00',\n",
    "'2024-10-23 00:00:00',\n",
    "'2024-10-24 00:00:00',\n",
    "'2024-10-25 00:00:00',\n",
    "'2024-10-28 00:00:00',\n",
    "'2024-10-29 00:00:00',\n",
    "'2024-10-30 00:00:00',\n",
    "'2024-10-31 00:00:00',\n",
    "'Média alunos p/ professor',\n",
    "'Média',\n",
    "'Alunos/professor',\n",
    "'Ocupação Máxima',\n",
    "'Professor'\n",
    "]"
   ]
  },
  {
   "cell_type": "code",
   "execution_count": 316,
   "id": "46ffb681-aa6e-43c9-a3b5-1fbddb0c3368",
   "metadata": {},
   "outputs": [
    {
     "data": {
      "text/plain": [
       "Index(['CATEGORIA', 'MODALIDADE', 'DIA DA SEMANA', 'HORÁRIO', 'TURNO',\n",
       "       'PROFESSOR', '2024-10-01 00:00:00', '2024-10-02 00:00:00',\n",
       "       '2024-10-03 00:00:00', '2024-10-04 00:00:00', '2024-10-07 00:00:00',\n",
       "       '2024-10-08 00:00:00', '2024-10-09 00:00:00', '2024-10-10 00:00:00',\n",
       "       '2024-10-11 00:00:00', '2024-10-14 00:00:00', '2024-10-15 00:00:00',\n",
       "       '2024-10-16 00:00:00', '2024-10-17 00:00:00', '2024-10-18 00:00:00',\n",
       "       '2024-10-21 00:00:00', '2024-10-22 00:00:00', '2024-10-23 00:00:00',\n",
       "       '2024-10-24 00:00:00', '2024-10-25 00:00:00', '2024-10-28 00:00:00',\n",
       "       '2024-10-29 00:00:00', '2024-10-30 00:00:00', '2024-10-31 00:00:00',\n",
       "       'Média alunos p/ professor', 'Média', 'Alunos/professor',\n",
       "       'Ocupação Máxima', 'Professor'],\n",
       "      dtype='object')"
      ]
     },
     "execution_count": 316,
     "metadata": {},
     "output_type": "execute_result"
    }
   ],
   "source": [
    "dataPAS.columns"
   ]
  },
  {
   "cell_type": "code",
   "execution_count": null,
   "id": "0b24934f-f841-4c90-94f7-07a282f8ff6b",
   "metadata": {},
   "outputs": [],
   "source": []
  },
  {
   "cell_type": "code",
   "execution_count": null,
   "id": "97114edb-e7ee-4112-a57e-13cd5a195caa",
   "metadata": {},
   "outputs": [],
   "source": []
  },
  {
   "cell_type": "code",
   "execution_count": null,
   "id": "785402a7-73e6-41d3-bba9-c54b6e43836b",
   "metadata": {},
   "outputs": [],
   "source": []
  },
  {
   "cell_type": "markdown",
   "id": "d171e464-ea19-4af0-9e48-f298b650abf5",
   "metadata": {},
   "source": [
    "### PASSO 3: Escolhendo colunas com o nome de 'datas', para renomear pelo o tipo dia, mês e ano. e removendo os 00 de horas"
   ]
  },
  {
   "cell_type": "code",
   "execution_count": 317,
   "id": "fab8646c-2da0-4dbd-8659-0e8bd4bb3ad2",
   "metadata": {},
   "outputs": [],
   "source": [
    "colunas = [\n",
    "'2024-10-01 00:00:00',\n",
    "'2024-10-02 00:00:00',\n",
    "'2024-10-03 00:00:00',\n",
    "'2024-10-04 00:00:00',\n",
    "'2024-10-07 00:00:00',\n",
    "'2024-10-08 00:00:00',\n",
    "'2024-10-09 00:00:00',\n",
    "'2024-10-10 00:00:00',\n",
    "'2024-10-11 00:00:00',\n",
    "'2024-10-14 00:00:00',\n",
    "'2024-10-15 00:00:00',\n",
    "'2024-10-16 00:00:00',\n",
    "'2024-10-17 00:00:00',\n",
    "'2024-10-18 00:00:00',\n",
    "'2024-10-21 00:00:00',\n",
    "'2024-10-22 00:00:00',\n",
    "'2024-10-23 00:00:00',\n",
    "'2024-10-24 00:00:00',\n",
    "'2024-10-25 00:00:00',\n",
    "'2024-10-28 00:00:00',\n",
    "'2024-10-29 00:00:00',\n",
    "'2024-10-30 00:00:00',\n",
    "'2024-10-31 00:00:00'\n",
    "]"
   ]
  },
  {
   "cell_type": "code",
   "execution_count": 318,
   "id": "3d4e9bfe-3b4e-4b38-951d-4f14f129e9bc",
   "metadata": {},
   "outputs": [],
   "source": [
    "novas_colunas_PAS = []"
   ]
  },
  {
   "cell_type": "code",
   "execution_count": 319,
   "id": "b52ae172-1769-49e2-b645-25a622554084",
   "metadata": {},
   "outputs": [],
   "source": [
    "for columns in colunas:\n",
    "    # Remove a parte da hora\n",
    "    data_sem_hora = columns.split(' ')[0]\n",
    "    \n",
    "    # Formata para o formato DD-MM-YYYY\n",
    "    ano, mes, dia = data_sem_hora.split('-')\n",
    "    novo_nome = f'{dia}-{mes}-{ano}'\n",
    "    novas_colunas_PAS.append(novo_nome)"
   ]
  },
  {
   "cell_type": "code",
   "execution_count": 320,
   "id": "00ff2e3a-6a8d-4d75-a966-ea9a4bfa2226",
   "metadata": {},
   "outputs": [
    {
     "data": {
      "text/plain": [
       "['01-10-2024',\n",
       " '02-10-2024',\n",
       " '03-10-2024',\n",
       " '04-10-2024',\n",
       " '07-10-2024',\n",
       " '08-10-2024',\n",
       " '09-10-2024',\n",
       " '10-10-2024',\n",
       " '11-10-2024',\n",
       " '14-10-2024',\n",
       " '15-10-2024',\n",
       " '16-10-2024',\n",
       " '17-10-2024',\n",
       " '18-10-2024',\n",
       " '21-10-2024',\n",
       " '22-10-2024',\n",
       " '23-10-2024',\n",
       " '24-10-2024',\n",
       " '25-10-2024',\n",
       " '28-10-2024',\n",
       " '29-10-2024',\n",
       " '30-10-2024',\n",
       " '31-10-2024']"
      ]
     },
     "execution_count": 320,
     "metadata": {},
     "output_type": "execute_result"
    }
   ],
   "source": [
    "novas_colunas_PAS"
   ]
  },
  {
   "cell_type": "code",
   "execution_count": null,
   "id": "f88c4234-d608-40bc-b952-71839a14a7df",
   "metadata": {},
   "outputs": [],
   "source": []
  },
  {
   "cell_type": "code",
   "execution_count": null,
   "id": "b27c1b9d-01bf-4521-8f92-3dadc97f3d1d",
   "metadata": {},
   "outputs": [],
   "source": []
  },
  {
   "cell_type": "code",
   "execution_count": null,
   "id": "c5522325-b8c7-4768-8815-f3bcee9bdc7f",
   "metadata": {},
   "outputs": [],
   "source": []
  },
  {
   "cell_type": "markdown",
   "id": "9ddf481e-d398-4590-b432-7513b99372f3",
   "metadata": {},
   "source": [
    "### PASSO 4 renomeando colunas e acrescentando o novo formato "
   ]
  },
  {
   "cell_type": "markdown",
   "id": "15f1daf9-3be4-4e9e-819a-23a4d0164f8d",
   "metadata": {},
   "source": [
    "copie as colunas que escolheu para renomear, e cole o formato novo no lugar das velhas"
   ]
  },
  {
   "cell_type": "code",
   "execution_count": 321,
   "id": "52b64b30-25b3-43a7-ae0d-c4f5eaa52b12",
   "metadata": {},
   "outputs": [],
   "source": [
    "# Adicionando as datas formatadas as colunas, copiando e colando"
   ]
  },
  {
   "cell_type": "code",
   "execution_count": 322,
   "id": "3d69f992-1ba1-4c74-b805-139c7dac3580",
   "metadata": {},
   "outputs": [
    {
     "name": "stdout",
     "output_type": "stream",
     "text": [
      "CATEGORIA\n",
      "MODALIDADE\n",
      "DIA DA SEMANA\n",
      "HORÁRIO\n",
      "TURNO\n",
      "PROFESSOR\n",
      "2024-10-01 00:00:00\n",
      "2024-10-02 00:00:00\n",
      "2024-10-03 00:00:00\n",
      "2024-10-04 00:00:00\n",
      "2024-10-07 00:00:00\n",
      "2024-10-08 00:00:00\n",
      "2024-10-09 00:00:00\n",
      "2024-10-10 00:00:00\n",
      "2024-10-11 00:00:00\n",
      "2024-10-14 00:00:00\n",
      "2024-10-15 00:00:00\n",
      "2024-10-16 00:00:00\n",
      "2024-10-17 00:00:00\n",
      "2024-10-18 00:00:00\n",
      "2024-10-21 00:00:00\n",
      "2024-10-22 00:00:00\n",
      "2024-10-23 00:00:00\n",
      "2024-10-24 00:00:00\n",
      "2024-10-25 00:00:00\n",
      "2024-10-28 00:00:00\n",
      "2024-10-29 00:00:00\n",
      "2024-10-30 00:00:00\n",
      "2024-10-31 00:00:00\n",
      "Média alunos p/ professor\n",
      "Média\n",
      "Alunos/professor\n",
      "Ocupação Máxima\n",
      "Professor\n"
     ]
    }
   ],
   "source": [
    "for columns in dataPAS.columns:\n",
    "    print (columns)"
   ]
  },
  {
   "cell_type": "code",
   "execution_count": 323,
   "id": "b9917b9d-1337-40e1-9062-703e9127a63c",
   "metadata": {},
   "outputs": [],
   "source": [
    "dataPAS.columns = [\n",
    "'CATEGORIA',\n",
    "'MODALIDADE',\n",
    "'DIA DA SEMANA',\n",
    "'HORÁRIO',\n",
    "'TURNO',\n",
    "'PROFESSOR',\n",
    "'01-10-2024',\n",
    "'02-10-2024',\n",
    "'03-10-2024',\n",
    "'04-10-2024',\n",
    "'07-10-2024',\n",
    "'08-10-2024',\n",
    "'09-10-2024',\n",
    "'10-10-2024',\n",
    "'11-10-2024',\n",
    "'14-10-2024',\n",
    "'15-10-2024',\n",
    "'16-10-2024',\n",
    "'17-10-2024',\n",
    "'18-10-2024',\n",
    "'21-10-2024',\n",
    "'22-10-2024',\n",
    "'23-10-2024',\n",
    "'24-10-2024',\n",
    "'25-10-2024',\n",
    "'28-10-2024',\n",
    "'29-10-2024',\n",
    "'30-10-2024',\n",
    "'31-10-2024', \n",
    "'Média alunos p/ professor',\n",
    "'Média',\n",
    "'Alunos/professor',\n",
    "'Ocupação Máxima',\n",
    "'Professor']"
   ]
  },
  {
   "cell_type": "code",
   "execution_count": null,
   "id": "081c3953-8735-475b-9a32-d4872ec22736",
   "metadata": {},
   "outputs": [],
   "source": []
  },
  {
   "cell_type": "code",
   "execution_count": null,
   "id": "1fb818de-a97b-4d96-877d-2c667e8c6de9",
   "metadata": {},
   "outputs": [],
   "source": []
  },
  {
   "cell_type": "code",
   "execution_count": null,
   "id": "ec699b04-1318-48ba-a307-a9582e8cd67b",
   "metadata": {},
   "outputs": [],
   "source": []
  },
  {
   "cell_type": "markdown",
   "id": "9b8b7b06-a61b-4f31-af15-cf81043f9032",
   "metadata": {},
   "source": [
    "### 5 PASSO: Usar o Loop for para substitituir os valores das frequencia de 'x' e 'X' por zero, com o método do pd.to_numeric) "
   ]
  },
  {
   "cell_type": "code",
   "execution_count": 324,
   "id": "42f622ae-048f-4bb1-adb0-acf10c22c044",
   "metadata": {},
   "outputs": [],
   "source": [
    "colunas = [\n",
    "'01-10-2024',\n",
    "'02-10-2024',\n",
    "'03-10-2024',\n",
    "'04-10-2024',\n",
    "'07-10-2024',\n",
    "'08-10-2024',\n",
    "'09-10-2024',\n",
    "'10-10-2024',\n",
    "'11-10-2024',\n",
    "'14-10-2024',\n",
    "'15-10-2024',\n",
    "'16-10-2024',\n",
    "'17-10-2024',\n",
    "'18-10-2024',\n",
    "'21-10-2024',\n",
    "'22-10-2024',\n",
    "'23-10-2024',\n",
    "'24-10-2024',\n",
    "'25-10-2024',\n",
    "'28-10-2024',\n",
    "'29-10-2024',\n",
    "'30-10-2024',\n",
    "'31-10-2024',\n",
    "]"
   ]
  },
  {
   "cell_type": "markdown",
   "id": "1afa8135-f57d-4d32-96b9-c879e4abe165",
   "metadata": {},
   "source": [
    "Fazendo a limpeza profunda, formatando valores para numeros, preenchendo com zeros os nulos e transformando em inteiros"
   ]
  },
  {
   "cell_type": "code",
   "execution_count": 325,
   "id": "957e4152-cbb1-4c5d-a302-21ca49b72e27",
   "metadata": {},
   "outputs": [],
   "source": [
    "for columns in colunas:\n",
    "    # dataMES[columns] = pd.to_numeric(dataMES[columns], errors='coerce')\n",
    "    dataPAS[columns] = pd.to_numeric(dataPAS[columns], errors='coerce').fillna(0).astype(int)"
   ]
  },
  {
   "cell_type": "code",
   "execution_count": null,
   "id": "f7fa4e02-b0a8-40a2-a463-83e0632644b4",
   "metadata": {},
   "outputs": [],
   "source": []
  },
  {
   "cell_type": "code",
   "execution_count": null,
   "id": "ee774e41-3db9-443c-bf76-4a2a823d5493",
   "metadata": {},
   "outputs": [],
   "source": []
  },
  {
   "cell_type": "code",
   "execution_count": null,
   "id": "d3f3c8e9-ed71-4501-81f9-df57f333a7f9",
   "metadata": {},
   "outputs": [],
   "source": []
  },
  {
   "cell_type": "markdown",
   "id": "b1c78c71-931d-4e11-b01f-0a5fc9f1991f",
   "metadata": {},
   "source": [
    "### PASSO 6: MELT derretendo as colunas em formato de datas"
   ]
  },
  {
   "cell_type": "markdown",
   "id": "e0dc5dee-12a7-43fd-b4ba-79027800c0a6",
   "metadata": {},
   "source": [
    "o MELT ele pega as colunas que estão na horizontal e cria uma coluna de categorias, e depois ele cria outra coluna com os valores dessas colunas que foram transformadas em dados categóricos"
   ]
  },
  {
   "cell_type": "code",
   "execution_count": 326,
   "id": "5991a45b-8348-45ce-8c41-dd12891bd7b0",
   "metadata": {},
   "outputs": [],
   "source": [
    "colunas_para_melt = [\n",
    "'01-10-2024',\n",
    "'02-10-2024',\n",
    "'03-10-2024',\n",
    "'04-10-2024',\n",
    "'07-10-2024',\n",
    "'08-10-2024',\n",
    "'09-10-2024',\n",
    "'10-10-2024',\n",
    "'11-10-2024',\n",
    "'14-10-2024',\n",
    "'15-10-2024',\n",
    "'16-10-2024',\n",
    "'17-10-2024',\n",
    "'18-10-2024',\n",
    "'21-10-2024',\n",
    "'22-10-2024',\n",
    "'23-10-2024',\n",
    "'24-10-2024',\n",
    "'25-10-2024',\n",
    "'28-10-2024',\n",
    "'29-10-2024',\n",
    "'30-10-2024',\n",
    "'31-10-2024'\n",
    "]"
   ]
  },
  {
   "cell_type": "code",
   "execution_count": null,
   "id": "ac8b17bd-3fe5-4ce1-a8bd-0cf24a366337",
   "metadata": {},
   "outputs": [],
   "source": []
  },
  {
   "cell_type": "code",
   "execution_count": null,
   "id": "499d2cf2-81b5-446d-b22a-9bcd27030e91",
   "metadata": {},
   "outputs": [],
   "source": []
  },
  {
   "cell_type": "code",
   "execution_count": null,
   "id": "5e47773d-84f0-4f95-b4a2-4fcee936759f",
   "metadata": {},
   "outputs": [],
   "source": []
  },
  {
   "cell_type": "markdown",
   "id": "dc717f14-e735-4560-a45e-69b2afbcd3b0",
   "metadata": {},
   "source": [
    "#### Indentificando as colunas que Eu quero manter em meu dataframe"
   ]
  },
  {
   "cell_type": "code",
   "execution_count": 327,
   "id": "e2257ef9-592d-4caf-bc4a-92b0ceb025a4",
   "metadata": {},
   "outputs": [],
   "source": [
    "# Identifica as colunas que você quer manter como identificadoras (id_vars)\n",
    "# São as colunas que não serão \"unpivoted\"\n",
    "id_vars_cols = [columns for columns in dataPAS.columns if columns not in colunas_para_melt]"
   ]
  },
  {
   "cell_type": "code",
   "execution_count": null,
   "id": "663fe123-6677-4970-9bfa-6f0f0dbb5ec4",
   "metadata": {},
   "outputs": [],
   "source": []
  },
  {
   "cell_type": "code",
   "execution_count": null,
   "id": "ab4fb5da-aa40-4338-8695-df4d417fe59a",
   "metadata": {},
   "outputs": [],
   "source": []
  },
  {
   "cell_type": "code",
   "execution_count": null,
   "id": "568fbe40-af07-4ae7-89ca-09dd5d997092",
   "metadata": {},
   "outputs": [],
   "source": []
  },
  {
   "cell_type": "code",
   "execution_count": 328,
   "id": "3f17423e-df3b-46f6-89b7-27c6a5a01d69",
   "metadata": {},
   "outputs": [],
   "source": [
    "dataPAS_melted = pd.melt(dataPAS,\n",
    "                      id_vars=id_vars_cols, #colunas que Eu deixei, que ficaram.\n",
    "                      value_vars=colunas_para_melt, #colunas que vão se transformar.\n",
    "                      var_name='Dias de Aulas', # nome da coluna categorica\n",
    "                      value_name='Frequencia de Alunos') # nome da coluna de valores"
   ]
  },
  {
   "cell_type": "code",
   "execution_count": 329,
   "id": "0f3f1681-fac2-4009-9b4d-12567b6a9672",
   "metadata": {},
   "outputs": [
    {
     "data": {
      "text/html": [
       "<div>\n",
       "<style scoped>\n",
       "    .dataframe tbody tr th:only-of-type {\n",
       "        vertical-align: middle;\n",
       "    }\n",
       "\n",
       "    .dataframe tbody tr th {\n",
       "        vertical-align: top;\n",
       "    }\n",
       "\n",
       "    .dataframe thead th {\n",
       "        text-align: right;\n",
       "    }\n",
       "</style>\n",
       "<table border=\"1\" class=\"dataframe\">\n",
       "  <thead>\n",
       "    <tr style=\"text-align: right;\">\n",
       "      <th></th>\n",
       "      <th>CATEGORIA</th>\n",
       "      <th>MODALIDADE</th>\n",
       "      <th>DIA DA SEMANA</th>\n",
       "      <th>HORÁRIO</th>\n",
       "      <th>TURNO</th>\n",
       "      <th>PROFESSOR</th>\n",
       "      <th>Média alunos p/ professor</th>\n",
       "      <th>Média</th>\n",
       "      <th>Alunos/professor</th>\n",
       "      <th>Ocupação Máxima</th>\n",
       "      <th>Professor</th>\n",
       "      <th>Dias de Aulas</th>\n",
       "      <th>Frequencia de Alunos</th>\n",
       "    </tr>\n",
       "  </thead>\n",
       "  <tbody>\n",
       "    <tr>\n",
       "      <th>0</th>\n",
       "      <td>MUSC - C/P</td>\n",
       "      <td>A - MUSCULAÇÃO COM PERSONAL</td>\n",
       "      <td>seg, ter, qua, qui, sex</td>\n",
       "      <td>06:00</td>\n",
       "      <td>MANHÃ</td>\n",
       "      <td>MARCOS</td>\n",
       "      <td>19</td>\n",
       "      <td>19.263158</td>\n",
       "      <td>NaN</td>\n",
       "      <td>NaN</td>\n",
       "      <td>0.0</td>\n",
       "      <td>01-10-2024</td>\n",
       "      <td>0</td>\n",
       "    </tr>\n",
       "    <tr>\n",
       "      <th>1</th>\n",
       "      <td>MUSC - S/P</td>\n",
       "      <td>A - MUSCULAÇÃO SEM PERSONAL</td>\n",
       "      <td>seg, ter, qua, qui, sex</td>\n",
       "      <td>06:00</td>\n",
       "      <td>MANHÃ</td>\n",
       "      <td>MARCOS</td>\n",
       "      <td>19</td>\n",
       "      <td>77.894737</td>\n",
       "      <td>6.333333</td>\n",
       "      <td>NaN</td>\n",
       "      <td>3.0</td>\n",
       "      <td>01-10-2024</td>\n",
       "      <td>0</td>\n",
       "    </tr>\n",
       "  </tbody>\n",
       "</table>\n",
       "</div>"
      ],
      "text/plain": [
       "    CATEGORIA                   MODALIDADE            DIA DA SEMANA HORÁRIO  \\\n",
       "0  MUSC - C/P  A - MUSCULAÇÃO COM PERSONAL  seg, ter, qua, qui, sex   06:00   \n",
       "1  MUSC - S/P  A - MUSCULAÇÃO SEM PERSONAL  seg, ter, qua, qui, sex   06:00   \n",
       "\n",
       "   TURNO PROFESSOR  Média alunos p/ professor      Média  Alunos/professor  \\\n",
       "0  MANHÃ    MARCOS                         19  19.263158               NaN   \n",
       "1  MANHÃ    MARCOS                         19  77.894737          6.333333   \n",
       "\n",
       "   Ocupação Máxima  Professor Dias de Aulas  Frequencia de Alunos  \n",
       "0              NaN        0.0    01-10-2024                     0  \n",
       "1              NaN        3.0    01-10-2024                     0  "
      ]
     },
     "execution_count": 329,
     "metadata": {},
     "output_type": "execute_result"
    }
   ],
   "source": [
    "dataPAS_melted.head(2)"
   ]
  },
  {
   "cell_type": "code",
   "execution_count": 330,
   "id": "b670a7d3-5f74-40f2-8bdc-a302c623a287",
   "metadata": {},
   "outputs": [
    {
     "data": {
      "text/plain": [
       "25667"
      ]
     },
     "execution_count": 330,
     "metadata": {},
     "output_type": "execute_result"
    }
   ],
   "source": [
    "dataPAS_melted['Frequencia de Alunos'].sum()"
   ]
  },
  {
   "cell_type": "markdown",
   "id": "9a7f08a9-b321-4182-9d5e-2db63877df36",
   "metadata": {},
   "source": [
    "____"
   ]
  },
  {
   "cell_type": "code",
   "execution_count": null,
   "id": "01e54f68-e84b-4001-8e15-efa5c22db884",
   "metadata": {},
   "outputs": [],
   "source": []
  },
  {
   "cell_type": "code",
   "execution_count": null,
   "id": "dd3af4a1-ea67-4f4c-bff4-ef0ed933db00",
   "metadata": {},
   "outputs": [],
   "source": []
  },
  {
   "cell_type": "code",
   "execution_count": null,
   "id": "655668e8-0268-41ba-9a11-a639dd6df062",
   "metadata": {},
   "outputs": [],
   "source": []
  },
  {
   "cell_type": "markdown",
   "id": "040a357e-3fa8-4860-a420-e7cac46b29ac",
   "metadata": {},
   "source": [
    "____"
   ]
  },
  {
   "cell_type": "markdown",
   "id": "7f9c1f71-7e0a-42c8-91ad-86d67dc1059a",
   "metadata": {},
   "source": [
    "# PARQUELÂNDIA [PARQ] - PREPROCESSING 14"
   ]
  },
  {
   "cell_type": "code",
   "execution_count": 331,
   "id": "18de50cc-6156-49cd-a85e-1ff9dfd25fa6",
   "metadata": {},
   "outputs": [],
   "source": [
    "data14 = pd.read_excel('3.2 Mapa de Ocupação - OUT 2024.xlsx', sheet_name='PARQ', skiprows=1, nrows=66)"
   ]
  },
  {
   "cell_type": "code",
   "execution_count": 332,
   "id": "b4003c18-ab57-4e5b-b0be-c47a628071e4",
   "metadata": {},
   "outputs": [],
   "source": [
    "dataPARQ = data14.copy()"
   ]
  },
  {
   "cell_type": "code",
   "execution_count": null,
   "id": "f265f533-7195-440e-b5be-923d0e1b6941",
   "metadata": {},
   "outputs": [],
   "source": []
  },
  {
   "cell_type": "code",
   "execution_count": null,
   "id": "25c76c17-fd00-4a77-a729-fd88f08bb20f",
   "metadata": {},
   "outputs": [],
   "source": []
  },
  {
   "cell_type": "code",
   "execution_count": null,
   "id": "3c470c50-3fef-43ed-92ca-63bc8a1ee2dc",
   "metadata": {},
   "outputs": [],
   "source": []
  },
  {
   "cell_type": "markdown",
   "id": "344cab16-6bd6-4345-a16e-ad0d284a6a7d",
   "metadata": {},
   "source": [
    "### 1 PASSO: Removendo colunas desnecessárias"
   ]
  },
  {
   "cell_type": "code",
   "execution_count": 333,
   "id": "93276041-d1d4-4fd0-9e60-d5b4cf2cb2b3",
   "metadata": {},
   "outputs": [
    {
     "data": {
      "text/html": [
       "<div>\n",
       "<style scoped>\n",
       "    .dataframe tbody tr th:only-of-type {\n",
       "        vertical-align: middle;\n",
       "    }\n",
       "\n",
       "    .dataframe tbody tr th {\n",
       "        vertical-align: top;\n",
       "    }\n",
       "\n",
       "    .dataframe thead th {\n",
       "        text-align: right;\n",
       "    }\n",
       "</style>\n",
       "<table border=\"1\" class=\"dataframe\">\n",
       "  <thead>\n",
       "    <tr style=\"text-align: right;\">\n",
       "      <th></th>\n",
       "      <th>Unnamed: 0</th>\n",
       "      <th>Unnamed: 1</th>\n",
       "      <th>Unnamed: 2</th>\n",
       "      <th>Unnamed: 3</th>\n",
       "      <th>CATEGORIA</th>\n",
       "      <th>MODALIDADE</th>\n",
       "      <th>DIA DA SEMANA</th>\n",
       "      <th>HORÁRIO</th>\n",
       "      <th>AUX.1</th>\n",
       "      <th>TURNO</th>\n",
       "      <th>...</th>\n",
       "      <th>Ocupação Máxima</th>\n",
       "      <th>Professor</th>\n",
       "      <th>Unnamed: 41</th>\n",
       "      <th>Unnamed: 42</th>\n",
       "      <th>Unnamed: 43</th>\n",
       "      <th>Unnamed: 44</th>\n",
       "      <th>Unnamed: 45</th>\n",
       "      <th>Unnamed: 46</th>\n",
       "      <th>Unnamed: 47</th>\n",
       "      <th>Unnamed: 48</th>\n",
       "    </tr>\n",
       "  </thead>\n",
       "  <tbody>\n",
       "    <tr>\n",
       "      <th>0</th>\n",
       "      <td>NaN</td>\n",
       "      <td>NaN</td>\n",
       "      <td>NaN</td>\n",
       "      <td>NaN</td>\n",
       "      <td>MUSC - C/P</td>\n",
       "      <td>A - MUSCULAÇÃO COM PERSONAL</td>\n",
       "      <td>seg, ter, qua, qui, sex</td>\n",
       "      <td>06:00:00</td>\n",
       "      <td>06:00</td>\n",
       "      <td>MANHÃ</td>\n",
       "      <td>...</td>\n",
       "      <td>NaN</td>\n",
       "      <td>0.0</td>\n",
       "      <td>NaN</td>\n",
       "      <td>NaN</td>\n",
       "      <td>NaN</td>\n",
       "      <td>NaN</td>\n",
       "      <td>NaN</td>\n",
       "      <td>NaN</td>\n",
       "      <td>NaN</td>\n",
       "      <td>NaN</td>\n",
       "    </tr>\n",
       "    <tr>\n",
       "      <th>1</th>\n",
       "      <td>NaN</td>\n",
       "      <td>NaN</td>\n",
       "      <td>NaN</td>\n",
       "      <td>NaN</td>\n",
       "      <td>MUSC - S/P</td>\n",
       "      <td>A - MUSCULAÇÃO SEM PERSONAL</td>\n",
       "      <td>seg, ter, qua, qui, sex</td>\n",
       "      <td>06:00:00</td>\n",
       "      <td>06:00</td>\n",
       "      <td>MANHÃ</td>\n",
       "      <td>...</td>\n",
       "      <td>NaN</td>\n",
       "      <td>3.0</td>\n",
       "      <td>NaN</td>\n",
       "      <td>NaN</td>\n",
       "      <td>NaN</td>\n",
       "      <td>NaN</td>\n",
       "      <td>NaN</td>\n",
       "      <td>NaN</td>\n",
       "      <td>NaN</td>\n",
       "      <td>NaN</td>\n",
       "    </tr>\n",
       "  </tbody>\n",
       "</table>\n",
       "<p>2 rows × 49 columns</p>\n",
       "</div>"
      ],
      "text/plain": [
       "   Unnamed: 0 Unnamed: 1  Unnamed: 2  Unnamed: 3   CATEGORIA  \\\n",
       "0         NaN        NaN         NaN         NaN  MUSC - C/P   \n",
       "1         NaN        NaN         NaN         NaN  MUSC - S/P   \n",
       "\n",
       "                    MODALIDADE            DIA DA SEMANA   HORÁRIO  AUX.1  \\\n",
       "0  A - MUSCULAÇÃO COM PERSONAL  seg, ter, qua, qui, sex  06:00:00  06:00   \n",
       "1  A - MUSCULAÇÃO SEM PERSONAL  seg, ter, qua, qui, sex  06:00:00  06:00   \n",
       "\n",
       "   TURNO  ... Ocupação Máxima Professor Unnamed: 41 Unnamed: 42 Unnamed: 43  \\\n",
       "0  MANHÃ  ...             NaN       0.0         NaN         NaN         NaN   \n",
       "1  MANHÃ  ...             NaN       3.0         NaN         NaN         NaN   \n",
       "\n",
       "  Unnamed: 44 Unnamed: 45 Unnamed: 46 Unnamed: 47 Unnamed: 48  \n",
       "0         NaN         NaN         NaN         NaN         NaN  \n",
       "1         NaN         NaN         NaN         NaN         NaN  \n",
       "\n",
       "[2 rows x 49 columns]"
      ]
     },
     "execution_count": 333,
     "metadata": {},
     "output_type": "execute_result"
    }
   ],
   "source": [
    "dataPARQ.head(2)"
   ]
  },
  {
   "cell_type": "code",
   "execution_count": 334,
   "id": "5ef6148a-14c7-40aa-a2e9-1955a42de649",
   "metadata": {},
   "outputs": [
    {
     "data": {
      "text/plain": [
       "Unnamed: 0                                                           NaN\n",
       "Unnamed: 1                                                           NaN\n",
       "Unnamed: 2                                                           NaN\n",
       "Unnamed: 3                                                           NaN\n",
       "CATEGORIA                                                     MUSC - C/P\n",
       "MODALIDADE                                   A - MUSCULAÇÃO COM PERSONAL\n",
       "DIA DA SEMANA                                    seg, ter, qua, qui, sex\n",
       "HORÁRIO                                                         06:00:00\n",
       "AUX.1                                                              06:00\n",
       "TURNO                                                              MANHÃ\n",
       "AUX 2                                A - MUSCULAÇÃO COM PERSONAL - 06:00\n",
       "PROFESSOR                                                  DANIEL CHAVES\n",
       "AUX 3                        A - MUSCULAÇÃO COM PERSONAL - DANIEL CHAVES\n",
       "2024-10-01 00:00:00                                                   21\n",
       "2024-10-02 00:00:00                                                   32\n",
       "2024-10-03 00:00:00                                                   23\n",
       "2024-10-04 00:00:00                                                   24\n",
       "2024-10-07 00:00:00                                                   23\n",
       "2024-10-08 00:00:00                                                   26\n",
       "2024-10-09 00:00:00                                                   30\n",
       "2024-10-10 00:00:00                                                   18\n",
       "2024-10-11 00:00:00                                                   25\n",
       "2024-10-14 00:00:00                                                   30\n",
       "2024-10-15 00:00:00                                                   23\n",
       "2024-10-16 00:00:00                                                   30\n",
       "2024-10-17 00:00:00                                                   28\n",
       "2024-10-18 00:00:00                                                   18\n",
       "2024-10-21 00:00:00                                                   26\n",
       "2024-10-22 00:00:00                                                   17\n",
       "2024-10-23 00:00:00                                                   30\n",
       "2024-10-24 00:00:00                                                   28\n",
       "2024-10-25 00:00:00                                                   23\n",
       "2024-10-28 00:00:00                                                    8\n",
       "2024-10-29 00:00:00                                                   21\n",
       "2024-10-30 00:00:00                                                   25\n",
       "2024-10-31 00:00:00                                                   20\n",
       "Média alunos p/ professor                                             23\n",
       "Média                                                          23.869565\n",
       "Alunos/professor                                                     NaN\n",
       "Ocupação Máxima                                                      NaN\n",
       "Professor                                                            0.0\n",
       "Unnamed: 41                                                          NaN\n",
       "Unnamed: 42                                                          NaN\n",
       "Unnamed: 43                                                          NaN\n",
       "Unnamed: 44                                                          NaN\n",
       "Unnamed: 45                                                          NaN\n",
       "Unnamed: 46                                                          NaN\n",
       "Unnamed: 47                                                          NaN\n",
       "Unnamed: 48                                                          NaN\n",
       "Name: 0, dtype: object"
      ]
     },
     "execution_count": 334,
     "metadata": {},
     "output_type": "execute_result"
    }
   ],
   "source": [
    "dataPARQ.iloc[0]"
   ]
  },
  {
   "cell_type": "code",
   "execution_count": 335,
   "id": "b00bf0d0-bad7-4095-9f7e-c4517a8f724e",
   "metadata": {},
   "outputs": [
    {
     "data": {
      "text/plain": [
       "Unnamed: 0                                                             NaN\n",
       "Unnamed: 1                                                             NaN\n",
       "Unnamed: 2                                                             NaN\n",
       "Unnamed: 3                                                             NaN\n",
       "CATEGORIA                                                       MUSC - S/P\n",
       "MODALIDADE                                     A - MUSCULAÇÃO SEM PERSONAL\n",
       "DIA DA SEMANA                                      seg, ter, qua, qui, sex\n",
       "HORÁRIO                                                           22:00:00\n",
       "AUX.1                                                                22:00\n",
       "TURNO                                                                NOITE\n",
       "AUX 2                                  A - MUSCULAÇÃO SEM PERSONAL - 22:00\n",
       "PROFESSOR                                                  ALEXANDRE SALES\n",
       "AUX 3                        A - MUSCULAÇÃO SEM PERSONAL - ALEXANDRE SALES\n",
       "2024-10-01 00:00:00                                                     15\n",
       "2024-10-02 00:00:00                                                     12\n",
       "2024-10-03 00:00:00                                                     26\n",
       "2024-10-04 00:00:00                                                      6\n",
       "2024-10-07 00:00:00                                                     12\n",
       "2024-10-08 00:00:00                                                     15\n",
       "2024-10-09 00:00:00                                                     13\n",
       "2024-10-10 00:00:00                                                     14\n",
       "2024-10-11 00:00:00                                                      9\n",
       "2024-10-14 00:00:00                                                      8\n",
       "2024-10-15 00:00:00                                                      5\n",
       "2024-10-16 00:00:00                                                      9\n",
       "2024-10-17 00:00:00                                                     12\n",
       "2024-10-18 00:00:00                                                      8\n",
       "2024-10-21 00:00:00                                                      3\n",
       "2024-10-22 00:00:00                                                      8\n",
       "2024-10-23 00:00:00                                                     14\n",
       "2024-10-24 00:00:00                                                      8\n",
       "2024-10-25 00:00:00                                                      8\n",
       "2024-10-28 00:00:00                                                      9\n",
       "2024-10-29 00:00:00                                                    NaN\n",
       "2024-10-30 00:00:00                                                    NaN\n",
       "2024-10-31 00:00:00                                                    NaN\n",
       "Média alunos p/ professor                                               20\n",
       "Média                                                                 10.7\n",
       "Alunos/professor                                                      10.0\n",
       "Ocupação Máxima                                                        NaN\n",
       "Professor                                                              2.0\n",
       "Unnamed: 41                                                            NaN\n",
       "Unnamed: 42                                                            NaN\n",
       "Unnamed: 43                                                            NaN\n",
       "Unnamed: 44                                                            NaN\n",
       "Unnamed: 45                                                            NaN\n",
       "Unnamed: 46                                                            NaN\n",
       "Unnamed: 47                                                            NaN\n",
       "Unnamed: 48                                                            NaN\n",
       "Name: 65, dtype: object"
      ]
     },
     "execution_count": 335,
     "metadata": {},
     "output_type": "execute_result"
    }
   ],
   "source": [
    "dataPARQ.iloc[-1]"
   ]
  },
  {
   "cell_type": "code",
   "execution_count": null,
   "id": "dd76c065-6418-4be9-aee6-b5b4a8e3e81a",
   "metadata": {},
   "outputs": [],
   "source": []
  },
  {
   "cell_type": "code",
   "execution_count": null,
   "id": "b2379b5a-f125-491d-9700-95390225a343",
   "metadata": {},
   "outputs": [],
   "source": []
  },
  {
   "cell_type": "code",
   "execution_count": null,
   "id": "15486e30-8e6e-4046-90e2-7281a77c0440",
   "metadata": {},
   "outputs": [],
   "source": []
  },
  {
   "cell_type": "code",
   "execution_count": 336,
   "id": "e61e5421-c2b6-4cdf-8b46-2460f61c8835",
   "metadata": {},
   "outputs": [],
   "source": [
    "dropColumns = ['Unnamed: 0', 'Unnamed: 1', 'Unnamed: 2', 'Unnamed: 3',\n",
    " 'HORÁRIO', 'AUX 2', 'AUX 3', 'Unnamed: 41', 'Unnamed: 42',\n",
    " 'Unnamed: 43', 'Unnamed: 44', 'Unnamed: 45', 'Unnamed: 46',\n",
    " 'Unnamed: 47', 'Unnamed: 48']"
   ]
  },
  {
   "cell_type": "code",
   "execution_count": 337,
   "id": "2492dd98-9569-4c4d-8f0e-5a5b36ad4722",
   "metadata": {},
   "outputs": [],
   "source": [
    "dataPARQ.drop(columns=dropColumns, inplace=True)"
   ]
  },
  {
   "cell_type": "markdown",
   "id": "e62e2861-cab7-4fc8-835b-f098c23e72f9",
   "metadata": {},
   "source": [
    "- PRECISAMOS RENOMEAR A COLUNA AUX.1 COMO HORARIO"
   ]
  },
  {
   "cell_type": "code",
   "execution_count": 338,
   "id": "0d8c2cc7-a281-404b-bbdb-223b0aadad74",
   "metadata": {},
   "outputs": [],
   "source": [
    "dataPARQ.rename(columns={'AUX.1': 'HORÁRIO'}, inplace=True)"
   ]
  },
  {
   "cell_type": "code",
   "execution_count": null,
   "id": "4733d79b-5608-43dd-b8df-c830e85a9c12",
   "metadata": {},
   "outputs": [],
   "source": []
  },
  {
   "cell_type": "code",
   "execution_count": null,
   "id": "a3e1781a-fdae-4e65-a535-9bd153b18f50",
   "metadata": {},
   "outputs": [],
   "source": []
  },
  {
   "cell_type": "markdown",
   "id": "65bcbc70-6295-403f-b28f-5f1fb3131c7f",
   "metadata": {},
   "source": [
    "### 2 PASSO: Renomeando strings de datas, para que o pandas possa aceitar como colunas"
   ]
  },
  {
   "cell_type": "code",
   "execution_count": 339,
   "id": "f8bd9f05-379b-415b-8c93-3aa2f1a8c151",
   "metadata": {},
   "outputs": [
    {
     "name": "stdout",
     "output_type": "stream",
     "text": [
      "CATEGORIA\n",
      "MODALIDADE\n",
      "DIA DA SEMANA\n",
      "HORÁRIO\n",
      "TURNO\n",
      "PROFESSOR\n",
      "2024-10-01 00:00:00\n",
      "2024-10-02 00:00:00\n",
      "2024-10-03 00:00:00\n",
      "2024-10-04 00:00:00\n",
      "2024-10-07 00:00:00\n",
      "2024-10-08 00:00:00\n",
      "2024-10-09 00:00:00\n",
      "2024-10-10 00:00:00\n",
      "2024-10-11 00:00:00\n",
      "2024-10-14 00:00:00\n",
      "2024-10-15 00:00:00\n",
      "2024-10-16 00:00:00\n",
      "2024-10-17 00:00:00\n",
      "2024-10-18 00:00:00\n",
      "2024-10-21 00:00:00\n",
      "2024-10-22 00:00:00\n",
      "2024-10-23 00:00:00\n",
      "2024-10-24 00:00:00\n",
      "2024-10-25 00:00:00\n",
      "2024-10-28 00:00:00\n",
      "2024-10-29 00:00:00\n",
      "2024-10-30 00:00:00\n",
      "2024-10-31 00:00:00\n",
      "Média alunos p/ professor\n",
      "Média\n",
      "Alunos/professor\n",
      "Ocupação Máxima\n",
      "Professor\n"
     ]
    }
   ],
   "source": [
    "for columns in dataPARQ.columns:\n",
    "    print(columns)"
   ]
  },
  {
   "cell_type": "code",
   "execution_count": 340,
   "id": "18627a58-aaab-4390-a9bd-ceb1f9f4ad76",
   "metadata": {},
   "outputs": [],
   "source": [
    "dataPARQ.columns = [\n",
    "'CATEGORIA',\n",
    "'MODALIDADE',\n",
    "'DIA DA SEMANA',\n",
    "'HORÁRIO',\n",
    "'TURNO',\n",
    "'PROFESSOR',\n",
    "'2024-10-01 00:00:00',\n",
    "'2024-10-02 00:00:00',\n",
    "'2024-10-03 00:00:00',\n",
    "'2024-10-04 00:00:00',\n",
    "'2024-10-07 00:00:00',\n",
    "'2024-10-08 00:00:00',\n",
    "'2024-10-09 00:00:00',\n",
    "'2024-10-10 00:00:00',\n",
    "'2024-10-11 00:00:00',\n",
    "'2024-10-14 00:00:00',\n",
    "'2024-10-15 00:00:00',\n",
    "'2024-10-16 00:00:00',\n",
    "'2024-10-17 00:00:00',\n",
    "'2024-10-18 00:00:00',\n",
    "'2024-10-21 00:00:00',\n",
    "'2024-10-22 00:00:00',\n",
    "'2024-10-23 00:00:00',\n",
    "'2024-10-24 00:00:00',\n",
    "'2024-10-25 00:00:00',\n",
    "'2024-10-28 00:00:00',\n",
    "'2024-10-29 00:00:00',\n",
    "'2024-10-30 00:00:00',\n",
    "'2024-10-31 00:00:00',\n",
    "'Média alunos p/ professor',\n",
    "'Média',\n",
    "'Alunos/professor',\n",
    "'Ocupação Máxima',\n",
    "'Professor']"
   ]
  },
  {
   "cell_type": "code",
   "execution_count": 341,
   "id": "6634ce6d-c3ab-44a5-b2c1-d2b5f4a4e1a7",
   "metadata": {},
   "outputs": [
    {
     "data": {
      "text/plain": [
       "Index(['CATEGORIA', 'MODALIDADE', 'DIA DA SEMANA', 'HORÁRIO', 'TURNO',\n",
       "       'PROFESSOR', '2024-10-01 00:00:00', '2024-10-02 00:00:00',\n",
       "       '2024-10-03 00:00:00', '2024-10-04 00:00:00', '2024-10-07 00:00:00',\n",
       "       '2024-10-08 00:00:00', '2024-10-09 00:00:00', '2024-10-10 00:00:00',\n",
       "       '2024-10-11 00:00:00', '2024-10-14 00:00:00', '2024-10-15 00:00:00',\n",
       "       '2024-10-16 00:00:00', '2024-10-17 00:00:00', '2024-10-18 00:00:00',\n",
       "       '2024-10-21 00:00:00', '2024-10-22 00:00:00', '2024-10-23 00:00:00',\n",
       "       '2024-10-24 00:00:00', '2024-10-25 00:00:00', '2024-10-28 00:00:00',\n",
       "       '2024-10-29 00:00:00', '2024-10-30 00:00:00', '2024-10-31 00:00:00',\n",
       "       'Média alunos p/ professor', 'Média', 'Alunos/professor',\n",
       "       'Ocupação Máxima', 'Professor'],\n",
       "      dtype='object')"
      ]
     },
     "execution_count": 341,
     "metadata": {},
     "output_type": "execute_result"
    }
   ],
   "source": [
    "dataPARQ.columns"
   ]
  },
  {
   "cell_type": "code",
   "execution_count": null,
   "id": "0097e6e8-1997-4d31-98b1-065a66626826",
   "metadata": {},
   "outputs": [],
   "source": []
  },
  {
   "cell_type": "code",
   "execution_count": null,
   "id": "25113554-5c6a-41cc-9815-f53c3647dcb2",
   "metadata": {},
   "outputs": [],
   "source": []
  },
  {
   "cell_type": "code",
   "execution_count": null,
   "id": "c162217b-5c78-4ac8-9ef4-a43d4d6a2e74",
   "metadata": {},
   "outputs": [],
   "source": []
  },
  {
   "cell_type": "markdown",
   "id": "6e244ab1-f0c2-45c3-a85a-329e6fdabdfd",
   "metadata": {},
   "source": [
    "### PASSO 3: Escolhendo colunas com o nome de 'datas', para renomear pelo o tipo dia, mês e ano. e removendo os 00 de horas"
   ]
  },
  {
   "cell_type": "code",
   "execution_count": 342,
   "id": "ef6dc480-97ea-498c-a4cd-b7f910364ad8",
   "metadata": {},
   "outputs": [],
   "source": [
    "colunas = [\n",
    "'2024-10-01 00:00:00',\n",
    "'2024-10-02 00:00:00',\n",
    "'2024-10-03 00:00:00',\n",
    "'2024-10-04 00:00:00',\n",
    "'2024-10-07 00:00:00',\n",
    "'2024-10-08 00:00:00',\n",
    "'2024-10-09 00:00:00',\n",
    "'2024-10-10 00:00:00',\n",
    "'2024-10-11 00:00:00',\n",
    "'2024-10-14 00:00:00',\n",
    "'2024-10-15 00:00:00',\n",
    "'2024-10-16 00:00:00',\n",
    "'2024-10-17 00:00:00',\n",
    "'2024-10-18 00:00:00',\n",
    "'2024-10-21 00:00:00',\n",
    "'2024-10-22 00:00:00',\n",
    "'2024-10-23 00:00:00',\n",
    "'2024-10-24 00:00:00',\n",
    "'2024-10-25 00:00:00',\n",
    "'2024-10-28 00:00:00',\n",
    "'2024-10-29 00:00:00',\n",
    "'2024-10-30 00:00:00',\n",
    "'2024-10-31 00:00:00',]"
   ]
  },
  {
   "cell_type": "code",
   "execution_count": 343,
   "id": "a53ee76d-db32-4796-9d4e-1f9d40795f48",
   "metadata": {},
   "outputs": [],
   "source": [
    "novas_colunas_PARQ = []"
   ]
  },
  {
   "cell_type": "code",
   "execution_count": 344,
   "id": "8e1817ac-b760-4ee6-b53d-060c32982912",
   "metadata": {},
   "outputs": [],
   "source": [
    "for columns in colunas:\n",
    "    # Remove a parte da hora\n",
    "    data_sem_hora = columns.split(' ')[0]\n",
    "    \n",
    "    # Formata para o formato DD-MM-YYYY\n",
    "    ano, mes, dia = data_sem_hora.split('-')\n",
    "    novo_nome = f'{dia}-{mes}-{ano}'\n",
    "    novas_colunas_PARQ.append(novo_nome)"
   ]
  },
  {
   "cell_type": "code",
   "execution_count": 345,
   "id": "1c39deff-f9b9-445b-ac02-4888d4843f2e",
   "metadata": {},
   "outputs": [
    {
     "data": {
      "text/plain": [
       "['01-10-2024',\n",
       " '02-10-2024',\n",
       " '03-10-2024',\n",
       " '04-10-2024',\n",
       " '07-10-2024',\n",
       " '08-10-2024',\n",
       " '09-10-2024',\n",
       " '10-10-2024',\n",
       " '11-10-2024',\n",
       " '14-10-2024',\n",
       " '15-10-2024',\n",
       " '16-10-2024',\n",
       " '17-10-2024',\n",
       " '18-10-2024',\n",
       " '21-10-2024',\n",
       " '22-10-2024',\n",
       " '23-10-2024',\n",
       " '24-10-2024',\n",
       " '25-10-2024',\n",
       " '28-10-2024',\n",
       " '29-10-2024',\n",
       " '30-10-2024',\n",
       " '31-10-2024']"
      ]
     },
     "execution_count": 345,
     "metadata": {},
     "output_type": "execute_result"
    }
   ],
   "source": [
    "novas_colunas_PARQ"
   ]
  },
  {
   "cell_type": "code",
   "execution_count": null,
   "id": "b31d9c8e-7c1d-4b8d-9025-74e9dd63a7d0",
   "metadata": {},
   "outputs": [],
   "source": []
  },
  {
   "cell_type": "code",
   "execution_count": null,
   "id": "a4bad6a3-f472-41d8-b141-c31962f52fca",
   "metadata": {},
   "outputs": [],
   "source": []
  },
  {
   "cell_type": "code",
   "execution_count": null,
   "id": "61e7c023-98b2-4289-8018-49ee1c0b1f35",
   "metadata": {},
   "outputs": [],
   "source": []
  },
  {
   "cell_type": "markdown",
   "id": "871f9bb1-b101-4a44-81f2-175710626857",
   "metadata": {},
   "source": [
    "### PASSO 4 renomeando colunas e acrescentando o novo formato "
   ]
  },
  {
   "cell_type": "markdown",
   "id": "06d5d582-7dbe-4d57-8efc-482073b5e4d3",
   "metadata": {},
   "source": [
    "copie as colunas que escolheu para renomear, e cole o formato novo no lugar das velhas"
   ]
  },
  {
   "cell_type": "code",
   "execution_count": 346,
   "id": "26decd53-a536-403d-83f7-1f2ffcad98a3",
   "metadata": {},
   "outputs": [],
   "source": [
    "# Adicionando as datas formatadas as colunas, copiando e colando"
   ]
  },
  {
   "cell_type": "code",
   "execution_count": 347,
   "id": "f9b0ae20-fa64-4624-8563-940bdc06c63c",
   "metadata": {},
   "outputs": [
    {
     "name": "stdout",
     "output_type": "stream",
     "text": [
      "CATEGORIA\n",
      "MODALIDADE\n",
      "DIA DA SEMANA\n",
      "HORÁRIO\n",
      "TURNO\n",
      "PROFESSOR\n",
      "2024-10-01 00:00:00\n",
      "2024-10-02 00:00:00\n",
      "2024-10-03 00:00:00\n",
      "2024-10-04 00:00:00\n",
      "2024-10-07 00:00:00\n",
      "2024-10-08 00:00:00\n",
      "2024-10-09 00:00:00\n",
      "2024-10-10 00:00:00\n",
      "2024-10-11 00:00:00\n",
      "2024-10-14 00:00:00\n",
      "2024-10-15 00:00:00\n",
      "2024-10-16 00:00:00\n",
      "2024-10-17 00:00:00\n",
      "2024-10-18 00:00:00\n",
      "2024-10-21 00:00:00\n",
      "2024-10-22 00:00:00\n",
      "2024-10-23 00:00:00\n",
      "2024-10-24 00:00:00\n",
      "2024-10-25 00:00:00\n",
      "2024-10-28 00:00:00\n",
      "2024-10-29 00:00:00\n",
      "2024-10-30 00:00:00\n",
      "2024-10-31 00:00:00\n",
      "Média alunos p/ professor\n",
      "Média\n",
      "Alunos/professor\n",
      "Ocupação Máxima\n",
      "Professor\n"
     ]
    }
   ],
   "source": [
    "for columns in dataPARQ.columns:\n",
    "    print (columns)"
   ]
  },
  {
   "cell_type": "code",
   "execution_count": 348,
   "id": "feb2215c-0a14-4f80-bb76-8d4ecaf8af83",
   "metadata": {},
   "outputs": [],
   "source": [
    "dataPARQ.columns = [\n",
    "'CATEGORIA',\n",
    "'MODALIDADE',\n",
    "'DIA DA SEMANA',\n",
    "'HORÁRIO',\n",
    "'TURNO',\n",
    "'PROFESSOR',\n",
    "'01-10-2024',\n",
    "'02-10-2024',\n",
    "'03-10-2024',\n",
    "'04-10-2024',\n",
    "'07-10-2024',\n",
    "'08-10-2024',\n",
    "'09-10-2024',\n",
    "'10-10-2024',\n",
    "'11-10-2024',\n",
    "'14-10-2024',\n",
    "'15-10-2024',\n",
    "'16-10-2024',\n",
    "'17-10-2024',\n",
    "'18-10-2024',\n",
    "'21-10-2024',\n",
    "'22-10-2024',\n",
    "'23-10-2024',\n",
    "'24-10-2024',\n",
    "'25-10-2024',\n",
    "'28-10-2024',\n",
    "'29-10-2024',\n",
    "'30-10-2024',\n",
    "'31-10-2024',\n",
    "'Média alunos p/ professor',\n",
    "'Média',\n",
    "'Alunos/professor',\n",
    "'Ocupação Máxima',\n",
    "'Professor',\n",
    "]"
   ]
  },
  {
   "cell_type": "code",
   "execution_count": null,
   "id": "41548f66-579c-4125-9308-222daeb6c6fc",
   "metadata": {},
   "outputs": [],
   "source": [
    "          "
   ]
  },
  {
   "cell_type": "code",
   "execution_count": null,
   "id": "281a96b9-4ea5-4d9f-9587-d8b6809fb8a1",
   "metadata": {},
   "outputs": [],
   "source": []
  },
  {
   "cell_type": "code",
   "execution_count": null,
   "id": "c5d78ab0-3ae6-4a51-a53c-74937b2e3fdd",
   "metadata": {},
   "outputs": [],
   "source": []
  },
  {
   "cell_type": "markdown",
   "id": "7a78d8ca-6e7c-469c-bea1-2c481870e9b6",
   "metadata": {},
   "source": [
    "### 5 PASSO: Usar o Loop for para substitituir os valores das frequencia de 'x' e 'X' por zero, com o método do pd.to_numeric) "
   ]
  },
  {
   "cell_type": "code",
   "execution_count": 349,
   "id": "f4a2eb5e-974d-4783-9861-a6fa32e138de",
   "metadata": {},
   "outputs": [],
   "source": [
    "colunas = [\n",
    "'01-10-2024',\n",
    "'02-10-2024',\n",
    "'03-10-2024',\n",
    "'04-10-2024',\n",
    "'07-10-2024',\n",
    "'08-10-2024',\n",
    "'09-10-2024',\n",
    "'10-10-2024',\n",
    "'11-10-2024',\n",
    "'14-10-2024',\n",
    "'15-10-2024',\n",
    "'16-10-2024',\n",
    "'17-10-2024',\n",
    "'18-10-2024',\n",
    "'21-10-2024',\n",
    "'22-10-2024',\n",
    "'23-10-2024',\n",
    "'24-10-2024',\n",
    "'25-10-2024',\n",
    "'28-10-2024',\n",
    "'29-10-2024',\n",
    "'30-10-2024',\n",
    "'31-10-2024',\n",
    "]"
   ]
  },
  {
   "cell_type": "markdown",
   "id": "7a375f21-0d9f-4a68-afff-18144013efc8",
   "metadata": {},
   "source": [
    "Fazendo a limpeza profunda, formatando valores para numeros, preenchendo com zeros os nulos e transformando em inteiros"
   ]
  },
  {
   "cell_type": "code",
   "execution_count": 350,
   "id": "20e1c344-c1ad-4e71-bbe7-a4100dd5fdce",
   "metadata": {},
   "outputs": [],
   "source": [
    "for columns in colunas:\n",
    "    # dataMES[columns] = pd.to_numeric(dataMES[columns], errors='coerce')\n",
    "    dataPARQ[columns] = pd.to_numeric(dataPARQ[columns], errors='coerce').fillna(0).astype(int)"
   ]
  },
  {
   "cell_type": "code",
   "execution_count": null,
   "id": "16fea033-3890-4c60-9ec1-6c5a32bdbf27",
   "metadata": {},
   "outputs": [],
   "source": []
  },
  {
   "cell_type": "code",
   "execution_count": null,
   "id": "42edae6c-1082-4952-939e-fb55471ecc4c",
   "metadata": {},
   "outputs": [],
   "source": []
  },
  {
   "cell_type": "code",
   "execution_count": null,
   "id": "e47dc123-3582-4b84-9913-ec729c20ab1e",
   "metadata": {},
   "outputs": [],
   "source": []
  },
  {
   "cell_type": "markdown",
   "id": "ef37bf80-721d-4303-ab9b-e59a25c4a8df",
   "metadata": {},
   "source": [
    "### PASSO 6: MELT derretendo as colunas em formato de datas"
   ]
  },
  {
   "cell_type": "markdown",
   "id": "12fb2186-32e7-4b26-b6d7-ce4f1f3dd0ee",
   "metadata": {},
   "source": [
    "o MELT ele pega as colunas que estão na horizontal e cria uma coluna de categorias, e depois ele cria outra coluna com os valores dessas colunas que foram transformadas em dados categóricosM"
   ]
  },
  {
   "cell_type": "code",
   "execution_count": 351,
   "id": "2d349980-7868-4fb2-b20c-bacc1d72db29",
   "metadata": {},
   "outputs": [],
   "source": [
    "colunas_para_melt = [\n",
    "'01-10-2024',\n",
    "'02-10-2024',\n",
    "'03-10-2024',\n",
    "'04-10-2024',\n",
    "'07-10-2024',\n",
    "'08-10-2024',\n",
    "'09-10-2024',\n",
    "'10-10-2024',\n",
    "'11-10-2024',\n",
    "'14-10-2024',\n",
    "'15-10-2024',\n",
    "'16-10-2024',\n",
    "'17-10-2024',\n",
    "'18-10-2024',\n",
    "'21-10-2024',\n",
    "'22-10-2024',\n",
    "'23-10-2024',\n",
    "'24-10-2024',\n",
    "'25-10-2024',\n",
    "'28-10-2024',\n",
    "'29-10-2024',\n",
    "'30-10-2024',\n",
    "'31-10-2024',\n",
    "]"
   ]
  },
  {
   "cell_type": "code",
   "execution_count": null,
   "id": "46fb8b94-17a0-4c68-b898-2767061e1733",
   "metadata": {},
   "outputs": [],
   "source": []
  },
  {
   "cell_type": "code",
   "execution_count": null,
   "id": "c63cb428-a274-4934-9864-444fba690dc0",
   "metadata": {},
   "outputs": [],
   "source": []
  },
  {
   "cell_type": "code",
   "execution_count": null,
   "id": "7744467d-57d0-493b-9df7-485a7bd0a8b8",
   "metadata": {},
   "outputs": [],
   "source": []
  },
  {
   "cell_type": "markdown",
   "id": "e06a6393-8d79-4c1a-b1ed-ceafe40230bd",
   "metadata": {},
   "source": [
    "#### Indentificando as colunas que Eu quero manter em meu dataframe"
   ]
  },
  {
   "cell_type": "code",
   "execution_count": 352,
   "id": "a98c09a9-97c1-4ac7-accb-264d90cf28f9",
   "metadata": {},
   "outputs": [],
   "source": [
    "# Identifica as colunas que você quer manter como identificadoras (id_vars)\n",
    "# São as colunas que não serão \"unpivoted\"\n",
    "id_vars_cols = [columns for columns in dataPARQ.columns if columns not in colunas_para_melt]"
   ]
  },
  {
   "cell_type": "code",
   "execution_count": null,
   "id": "63aebba0-478e-4a25-b375-9910be907782",
   "metadata": {},
   "outputs": [],
   "source": []
  },
  {
   "cell_type": "code",
   "execution_count": null,
   "id": "a242d2ae-1f35-4b5d-862a-54e236f3333b",
   "metadata": {},
   "outputs": [],
   "source": []
  },
  {
   "cell_type": "code",
   "execution_count": null,
   "id": "3aa2e0b9-8452-4a2c-abef-3f07922e7793",
   "metadata": {},
   "outputs": [],
   "source": []
  },
  {
   "cell_type": "code",
   "execution_count": 353,
   "id": "3f30476e-fd10-4b65-bfc3-6f7dc2b4d08d",
   "metadata": {},
   "outputs": [],
   "source": [
    "dataPARQ_melted = pd.melt(dataPARQ,\n",
    "                      id_vars=id_vars_cols, #colunas que Eu deixei, que ficaram.\n",
    "                      value_vars=colunas_para_melt, #colunas que vão se transformar.\n",
    "                      var_name='Dias de Aulas', # nome da coluna categorica\n",
    "                      value_name='Frequencia de Alunos') # nome da coluna de valores"
   ]
  },
  {
   "cell_type": "code",
   "execution_count": 354,
   "id": "15270e3c-1cf8-4161-b386-047a727938e6",
   "metadata": {},
   "outputs": [
    {
     "data": {
      "text/html": [
       "<div>\n",
       "<style scoped>\n",
       "    .dataframe tbody tr th:only-of-type {\n",
       "        vertical-align: middle;\n",
       "    }\n",
       "\n",
       "    .dataframe tbody tr th {\n",
       "        vertical-align: top;\n",
       "    }\n",
       "\n",
       "    .dataframe thead th {\n",
       "        text-align: right;\n",
       "    }\n",
       "</style>\n",
       "<table border=\"1\" class=\"dataframe\">\n",
       "  <thead>\n",
       "    <tr style=\"text-align: right;\">\n",
       "      <th></th>\n",
       "      <th>CATEGORIA</th>\n",
       "      <th>MODALIDADE</th>\n",
       "      <th>DIA DA SEMANA</th>\n",
       "      <th>HORÁRIO</th>\n",
       "      <th>TURNO</th>\n",
       "      <th>PROFESSOR</th>\n",
       "      <th>Média alunos p/ professor</th>\n",
       "      <th>Média</th>\n",
       "      <th>Alunos/professor</th>\n",
       "      <th>Ocupação Máxima</th>\n",
       "      <th>Professor</th>\n",
       "      <th>Dias de Aulas</th>\n",
       "      <th>Frequencia de Alunos</th>\n",
       "    </tr>\n",
       "  </thead>\n",
       "  <tbody>\n",
       "    <tr>\n",
       "      <th>0</th>\n",
       "      <td>MUSC - C/P</td>\n",
       "      <td>A - MUSCULAÇÃO COM PERSONAL</td>\n",
       "      <td>seg, ter, qua, qui, sex</td>\n",
       "      <td>06:00</td>\n",
       "      <td>MANHÃ</td>\n",
       "      <td>DANIEL CHAVES</td>\n",
       "      <td>23</td>\n",
       "      <td>23.869565</td>\n",
       "      <td>NaN</td>\n",
       "      <td>NaN</td>\n",
       "      <td>0.0</td>\n",
       "      <td>01-10-2024</td>\n",
       "      <td>21</td>\n",
       "    </tr>\n",
       "    <tr>\n",
       "      <th>1</th>\n",
       "      <td>MUSC - S/P</td>\n",
       "      <td>A - MUSCULAÇÃO SEM PERSONAL</td>\n",
       "      <td>seg, ter, qua, qui, sex</td>\n",
       "      <td>06:00</td>\n",
       "      <td>MANHÃ</td>\n",
       "      <td>DANIEL CHAVES</td>\n",
       "      <td>23</td>\n",
       "      <td>31.043478</td>\n",
       "      <td>7.666667</td>\n",
       "      <td>NaN</td>\n",
       "      <td>3.0</td>\n",
       "      <td>01-10-2024</td>\n",
       "      <td>31</td>\n",
       "    </tr>\n",
       "  </tbody>\n",
       "</table>\n",
       "</div>"
      ],
      "text/plain": [
       "    CATEGORIA                   MODALIDADE            DIA DA SEMANA HORÁRIO  \\\n",
       "0  MUSC - C/P  A - MUSCULAÇÃO COM PERSONAL  seg, ter, qua, qui, sex   06:00   \n",
       "1  MUSC - S/P  A - MUSCULAÇÃO SEM PERSONAL  seg, ter, qua, qui, sex   06:00   \n",
       "\n",
       "   TURNO      PROFESSOR  Média alunos p/ professor      Média  \\\n",
       "0  MANHÃ  DANIEL CHAVES                         23  23.869565   \n",
       "1  MANHÃ  DANIEL CHAVES                         23  31.043478   \n",
       "\n",
       "   Alunos/professor  Ocupação Máxima  Professor Dias de Aulas  \\\n",
       "0               NaN              NaN        0.0    01-10-2024   \n",
       "1          7.666667              NaN        3.0    01-10-2024   \n",
       "\n",
       "   Frequencia de Alunos  \n",
       "0                    21  \n",
       "1                    31  "
      ]
     },
     "execution_count": 354,
     "metadata": {},
     "output_type": "execute_result"
    }
   ],
   "source": [
    "dataPARQ_melted.head(2)"
   ]
  },
  {
   "cell_type": "code",
   "execution_count": 355,
   "id": "8ac02773-187d-49dd-951d-f7bf1249b7fb",
   "metadata": {},
   "outputs": [
    {
     "data": {
      "text/plain": [
       "19982"
      ]
     },
     "execution_count": 355,
     "metadata": {},
     "output_type": "execute_result"
    }
   ],
   "source": [
    "dataPARQ_melted['Frequencia de Alunos'].sum()"
   ]
  },
  {
   "cell_type": "markdown",
   "id": "146f6a13-047a-47c0-abbf-a106cb624e3b",
   "metadata": {},
   "source": [
    "____"
   ]
  },
  {
   "cell_type": "code",
   "execution_count": null,
   "id": "0ee1be0b-3f79-4013-b80d-4ef6b63ebc77",
   "metadata": {},
   "outputs": [],
   "source": []
  },
  {
   "cell_type": "code",
   "execution_count": null,
   "id": "20d2f322-994b-4cd3-84df-8d68fa1aa3f2",
   "metadata": {},
   "outputs": [],
   "source": []
  },
  {
   "cell_type": "code",
   "execution_count": null,
   "id": "9287f44a-707f-4464-a72c-d9478fc3f7d4",
   "metadata": {},
   "outputs": [],
   "source": []
  },
  {
   "cell_type": "markdown",
   "id": "bc71000e-78fc-42a6-bf0b-bfb784e2eb34",
   "metadata": {},
   "source": [
    "____"
   ]
  },
  {
   "cell_type": "markdown",
   "id": "795ff8c9-343a-4efc-b89f-d93902c785bd",
   "metadata": {},
   "source": [
    "# PERSONAL [PERS] - PREPROCESSING 15"
   ]
  },
  {
   "cell_type": "code",
   "execution_count": 356,
   "id": "b9f6ca55-9f56-4b6d-afa3-dc5d09aa1a85",
   "metadata": {},
   "outputs": [],
   "source": [
    "data15 = pd.read_excel('3.2 Mapa de Ocupação - OUT 2024.xlsx', sheet_name='PERS', skiprows=2, nrows=180)"
   ]
  },
  {
   "cell_type": "code",
   "execution_count": 357,
   "id": "16d7e117-11af-4abc-87da-ad17efcfbe77",
   "metadata": {},
   "outputs": [],
   "source": [
    "dataPERS = data15.copy()"
   ]
  },
  {
   "cell_type": "code",
   "execution_count": null,
   "id": "d7c957b9-7e94-4532-b119-5d9d27c2c2d6",
   "metadata": {},
   "outputs": [],
   "source": []
  },
  {
   "cell_type": "code",
   "execution_count": null,
   "id": "386213f0-8a13-4f3a-88e1-b1828b99048e",
   "metadata": {},
   "outputs": [],
   "source": []
  },
  {
   "cell_type": "code",
   "execution_count": null,
   "id": "f00d3d69-2dea-4adc-a25f-228f09aa7e23",
   "metadata": {},
   "outputs": [],
   "source": []
  },
  {
   "cell_type": "markdown",
   "id": "787ebf13-e80d-4dc5-9a81-edb0b1d1cb6b",
   "metadata": {},
   "source": [
    "### 1 PASSO: Removendo colunas desnecessárias"
   ]
  },
  {
   "cell_type": "code",
   "execution_count": 358,
   "id": "c4f30753-877a-40e8-8f80-d0986b129c37",
   "metadata": {},
   "outputs": [
    {
     "data": {
      "text/html": [
       "<div>\n",
       "<style scoped>\n",
       "    .dataframe tbody tr th:only-of-type {\n",
       "        vertical-align: middle;\n",
       "    }\n",
       "\n",
       "    .dataframe tbody tr th {\n",
       "        vertical-align: top;\n",
       "    }\n",
       "\n",
       "    .dataframe thead th {\n",
       "        text-align: right;\n",
       "    }\n",
       "</style>\n",
       "<table border=\"1\" class=\"dataframe\">\n",
       "  <thead>\n",
       "    <tr style=\"text-align: right;\">\n",
       "      <th></th>\n",
       "      <th>Unnamed: 0</th>\n",
       "      <th>Unnamed: 1</th>\n",
       "      <th>Unnamed: 2</th>\n",
       "      <th>CATEGORIA</th>\n",
       "      <th>MODALIDADE</th>\n",
       "      <th>DIA DA SEMANA</th>\n",
       "      <th>HORÁRIO</th>\n",
       "      <th>AUX.1</th>\n",
       "      <th>TURNO</th>\n",
       "      <th>AUX 2</th>\n",
       "      <th>...</th>\n",
       "      <th>2024-10-25 00:00:00</th>\n",
       "      <th>2024-10-28 00:00:00</th>\n",
       "      <th>2024-10-29 00:00:00</th>\n",
       "      <th>2024-10-30 00:00:00</th>\n",
       "      <th>2024-10-31 00:00:00</th>\n",
       "      <th>Média alunos p/ professor</th>\n",
       "      <th>Média</th>\n",
       "      <th>Unnamed: 37</th>\n",
       "      <th>Unnamed: 38</th>\n",
       "      <th>0</th>\n",
       "    </tr>\n",
       "  </thead>\n",
       "  <tbody>\n",
       "    <tr>\n",
       "      <th>0</th>\n",
       "      <td>NaN</td>\n",
       "      <td>NaN</td>\n",
       "      <td>NaN</td>\n",
       "      <td>MUSC</td>\n",
       "      <td>A - MUSCULAÇÃO</td>\n",
       "      <td>seg, ter, qua, qui, sex</td>\n",
       "      <td>07:00:00</td>\n",
       "      <td>07:00</td>\n",
       "      <td>MANHÃ</td>\n",
       "      <td>A - MUSCULAÇÃO - 07:00</td>\n",
       "      <td>...</td>\n",
       "      <td>NaN</td>\n",
       "      <td>1</td>\n",
       "      <td>3</td>\n",
       "      <td>2.0</td>\n",
       "      <td>NaN</td>\n",
       "      <td>19</td>\n",
       "      <td>1.631579</td>\n",
       "      <td>NaN</td>\n",
       "      <td>NaN</td>\n",
       "      <td>NaN</td>\n",
       "    </tr>\n",
       "    <tr>\n",
       "      <th>1</th>\n",
       "      <td>NaN</td>\n",
       "      <td>NaN</td>\n",
       "      <td>NaN</td>\n",
       "      <td>MUSC</td>\n",
       "      <td>A - MUSCULAÇÃO</td>\n",
       "      <td>seg, ter, qua, qui, sex</td>\n",
       "      <td>08:00:00</td>\n",
       "      <td>08:00</td>\n",
       "      <td>MANHÃ</td>\n",
       "      <td>A - MUSCULAÇÃO - 08:00</td>\n",
       "      <td>...</td>\n",
       "      <td>S\\P</td>\n",
       "      <td>1</td>\n",
       "      <td>3</td>\n",
       "      <td>2.0</td>\n",
       "      <td>NaN</td>\n",
       "      <td>20</td>\n",
       "      <td>1.800000</td>\n",
       "      <td>NaN</td>\n",
       "      <td>NaN</td>\n",
       "      <td>NaN</td>\n",
       "    </tr>\n",
       "  </tbody>\n",
       "</table>\n",
       "<p>2 rows × 40 columns</p>\n",
       "</div>"
      ],
      "text/plain": [
       "   Unnamed: 0  Unnamed: 1  Unnamed: 2 CATEGORIA      MODALIDADE  \\\n",
       "0         NaN         NaN         NaN      MUSC  A - MUSCULAÇÃO   \n",
       "1         NaN         NaN         NaN      MUSC  A - MUSCULAÇÃO   \n",
       "\n",
       "             DIA DA SEMANA   HORÁRIO  AUX.1  TURNO                   AUX 2  \\\n",
       "0  seg, ter, qua, qui, sex  07:00:00  07:00  MANHÃ  A - MUSCULAÇÃO - 07:00   \n",
       "1  seg, ter, qua, qui, sex  08:00:00  08:00  MANHÃ  A - MUSCULAÇÃO - 08:00   \n",
       "\n",
       "   ... 2024-10-25 00:00:00 2024-10-28 00:00:00 2024-10-29 00:00:00  \\\n",
       "0  ...                 NaN                   1                   3   \n",
       "1  ...                 S\\P                   1                   3   \n",
       "\n",
       "  2024-10-30 00:00:00 2024-10-31 00:00:00 Média alunos p/ professor     Média  \\\n",
       "0                 2.0                 NaN                        19  1.631579   \n",
       "1                 2.0                 NaN                        20  1.800000   \n",
       "\n",
       "  Unnamed: 37 Unnamed: 38    0  \n",
       "0         NaN         NaN  NaN  \n",
       "1         NaN         NaN  NaN  \n",
       "\n",
       "[2 rows x 40 columns]"
      ]
     },
     "execution_count": 358,
     "metadata": {},
     "output_type": "execute_result"
    }
   ],
   "source": [
    "dataPERS.head(2)"
   ]
  },
  {
   "cell_type": "code",
   "execution_count": 359,
   "id": "46e76a84-4ab7-4664-b879-3ea4c768cc8e",
   "metadata": {},
   "outputs": [
    {
     "data": {
      "text/plain": [
       "Unnamed: 0                                                  NaN\n",
       "Unnamed: 1                                                  NaN\n",
       "Unnamed: 2                                                  NaN\n",
       "CATEGORIA                                                  MUSC\n",
       "MODALIDADE                                       A - MUSCULAÇÃO\n",
       "DIA DA SEMANA                           seg, ter, qua, qui, sex\n",
       "HORÁRIO                                                07:00:00\n",
       "AUX.1                                                     07:00\n",
       "TURNO                                                     MANHÃ\n",
       "AUX 2                                    A - MUSCULAÇÃO - 07:00\n",
       "PROFESSOR                                             AGOSTINHO\n",
       "AUX 3                        A - MUSCULAÇÃO - AGOSTINHO - 07:00\n",
       "2024-10-01 00:00:00                                           4\n",
       "2024-10-02 00:00:00                                         NaN\n",
       "2024-10-03 00:00:00                                           1\n",
       "2024-10-04 00:00:00                                           1\n",
       "2024-10-07 00:00:00                                           1\n",
       "2024-10-08 00:00:00                                           1\n",
       "2024-10-09 00:00:00                                           1\n",
       "2024-10-10 00:00:00                                           1\n",
       "2024-10-11 00:00:00                                           3\n",
       "2024-10-14 00:00:00                                           1\n",
       "2024-10-15 00:00:00                                           3\n",
       "2024-10-16 00:00:00                                           1\n",
       "2024-10-17 00:00:00                                         NaN\n",
       "2024-10-18 00:00:00                                         2.0\n",
       "2024-10-21 00:00:00                                           1\n",
       "2024-10-22 00:00:00                                         1.0\n",
       "2024-10-23 00:00:00                                         1.0\n",
       "2024-10-24 00:00:00                                         2.0\n",
       "2024-10-25 00:00:00                                         NaN\n",
       "2024-10-28 00:00:00                                           1\n",
       "2024-10-29 00:00:00                                           3\n",
       "2024-10-30 00:00:00                                         2.0\n",
       "2024-10-31 00:00:00                                         NaN\n",
       "Média alunos p/ professor                                    19\n",
       "Média                                                  1.631579\n",
       "Unnamed: 37                                                 NaN\n",
       "Unnamed: 38                                                 NaN\n",
       "0                                                           NaN\n",
       "Name: 0, dtype: object"
      ]
     },
     "execution_count": 359,
     "metadata": {},
     "output_type": "execute_result"
    }
   ],
   "source": [
    "dataPERS.iloc[0]"
   ]
  },
  {
   "cell_type": "code",
   "execution_count": 360,
   "id": "518f55c1-7eef-4b6b-a32b-a0efa44b9b3d",
   "metadata": {},
   "outputs": [
    {
     "data": {
      "text/plain": [
       "Unnamed: 0                                       NaN\n",
       "Unnamed: 1                                       NaN\n",
       "Unnamed: 2                                       NaN\n",
       "CATEGORIA                                       MUSC\n",
       "MODALIDADE                               ALONGAMENTO\n",
       "DIA DA SEMANA                seg, ter, qua, qui, sex\n",
       "HORÁRIO                                     20:00:00\n",
       "AUX.1                                          20:00\n",
       "TURNO                                          NOITE\n",
       "AUX 2                            ALONGAMENTO - 20:00\n",
       "PROFESSOR                                        NaN\n",
       "AUX 3                         ALONGAMENTO -  - 20:00\n",
       "2024-10-01 00:00:00                                2\n",
       "2024-10-02 00:00:00                              NaN\n",
       "2024-10-03 00:00:00                              NaN\n",
       "2024-10-04 00:00:00                                1\n",
       "2024-10-07 00:00:00                                4\n",
       "2024-10-08 00:00:00                                4\n",
       "2024-10-09 00:00:00                              NaN\n",
       "2024-10-10 00:00:00                              NaN\n",
       "2024-10-11 00:00:00                              NaN\n",
       "2024-10-14 00:00:00                              NaN\n",
       "2024-10-15 00:00:00                              NaN\n",
       "2024-10-16 00:00:00                              NaN\n",
       "2024-10-17 00:00:00                              NaN\n",
       "2024-10-18 00:00:00                              NaN\n",
       "2024-10-21 00:00:00                              NaN\n",
       "2024-10-22 00:00:00                              NaN\n",
       "2024-10-23 00:00:00                              NaN\n",
       "2024-10-24 00:00:00                              NaN\n",
       "2024-10-25 00:00:00                              NaN\n",
       "2024-10-28 00:00:00                              NaN\n",
       "2024-10-29 00:00:00                              NaN\n",
       "2024-10-30 00:00:00                              NaN\n",
       "2024-10-31 00:00:00                              NaN\n",
       "Média alunos p/ professor                          4\n",
       "Média                                           2.75\n",
       "Unnamed: 37                                      NaN\n",
       "Unnamed: 38                                      NaN\n",
       "0                                                NaN\n",
       "Name: 178, dtype: object"
      ]
     },
     "execution_count": 360,
     "metadata": {},
     "output_type": "execute_result"
    }
   ],
   "source": [
    "dataPERS.iloc[-1]"
   ]
  },
  {
   "cell_type": "code",
   "execution_count": null,
   "id": "ebf20efe-f2dd-413c-9417-7ce94a8d9f63",
   "metadata": {},
   "outputs": [],
   "source": []
  },
  {
   "cell_type": "code",
   "execution_count": null,
   "id": "c6f0ee08-bfda-41e4-aa25-19f02264e5e4",
   "metadata": {},
   "outputs": [],
   "source": []
  },
  {
   "cell_type": "code",
   "execution_count": null,
   "id": "c9d53d4a-2865-450a-bba0-b23cd2d29eda",
   "metadata": {},
   "outputs": [],
   "source": []
  },
  {
   "cell_type": "code",
   "execution_count": 361,
   "id": "57269a3a-25ea-4912-a076-92da688919f0",
   "metadata": {},
   "outputs": [],
   "source": [
    "dropColumns = [\n",
    "'Unnamed: 0', 'Unnamed: 1', 'Unnamed: 2', 'HORÁRIO',\n",
    "'AUX 2', 'AUX 3', 'Unnamed: 37', 'Unnamed: 38']"
   ]
  },
  {
   "cell_type": "code",
   "execution_count": 362,
   "id": "9cd13579-d36a-47d7-b349-e27128c6ac70",
   "metadata": {},
   "outputs": [],
   "source": [
    "dataPERS.drop(columns=dropColumns, inplace=True)"
   ]
  },
  {
   "cell_type": "markdown",
   "id": "3b84b0c2-8199-4ee2-ab02-9222817d176b",
   "metadata": {},
   "source": [
    "- PRECISAMOS RENOMEAR A COLUNA AUX.1 COMO HORARIO"
   ]
  },
  {
   "cell_type": "code",
   "execution_count": 363,
   "id": "7b8a7008-8582-449a-aaa1-ee77e00e7844",
   "metadata": {},
   "outputs": [],
   "source": [
    "dataPERS.rename(columns={'AUX.1': 'HORÁRIO'}, inplace=True)"
   ]
  },
  {
   "cell_type": "code",
   "execution_count": null,
   "id": "f3e8ee85-910e-4fcf-860f-0369fc2b991a",
   "metadata": {},
   "outputs": [],
   "source": []
  },
  {
   "cell_type": "code",
   "execution_count": null,
   "id": "32a640b9-8510-46b4-8bbf-47e6a2647665",
   "metadata": {},
   "outputs": [],
   "source": []
  },
  {
   "cell_type": "code",
   "execution_count": null,
   "id": "1e2d483c-944d-4359-a6d3-bcf2c8bcc50f",
   "metadata": {},
   "outputs": [],
   "source": []
  },
  {
   "cell_type": "markdown",
   "id": "f273833c-dbdb-4a79-a699-b8d82c3795c1",
   "metadata": {},
   "source": [
    "### 2 PASSO: Renomeando strings de datas, para que o pandas possa aceitar como colunas"
   ]
  },
  {
   "cell_type": "code",
   "execution_count": 364,
   "id": "f552ae2f-aca2-4c3b-ba0c-18fb803ee6df",
   "metadata": {},
   "outputs": [
    {
     "name": "stdout",
     "output_type": "stream",
     "text": [
      "CATEGORIA\n",
      "MODALIDADE\n",
      "DIA DA SEMANA\n",
      "HORÁRIO\n",
      "TURNO\n",
      "PROFESSOR\n",
      "2024-10-01 00:00:00\n",
      "2024-10-02 00:00:00\n",
      "2024-10-03 00:00:00\n",
      "2024-10-04 00:00:00\n",
      "2024-10-07 00:00:00\n",
      "2024-10-08 00:00:00\n",
      "2024-10-09 00:00:00\n",
      "2024-10-10 00:00:00\n",
      "2024-10-11 00:00:00\n",
      "2024-10-14 00:00:00\n",
      "2024-10-15 00:00:00\n",
      "2024-10-16 00:00:00\n",
      "2024-10-17 00:00:00\n",
      "2024-10-18 00:00:00\n",
      "2024-10-21 00:00:00\n",
      "2024-10-22 00:00:00\n",
      "2024-10-23 00:00:00\n",
      "2024-10-24 00:00:00\n",
      "2024-10-25 00:00:00\n",
      "2024-10-28 00:00:00\n",
      "2024-10-29 00:00:00\n",
      "2024-10-30 00:00:00\n",
      "2024-10-31 00:00:00\n",
      "Média alunos p/ professor\n",
      "Média\n",
      "0\n"
     ]
    }
   ],
   "source": [
    "for columns in dataPERS.columns:\n",
    "    print(columns)"
   ]
  },
  {
   "cell_type": "code",
   "execution_count": 365,
   "id": "f94cd533-5958-4673-8b72-1b7559a0baed",
   "metadata": {},
   "outputs": [],
   "source": [
    "dataPERS.columns = [\n",
    "'CATEGORIA',\n",
    "'MODALIDADE',\n",
    "'DIA DA SEMANA',\n",
    "'HORÁRIO',\n",
    "'TURNO',\n",
    "'PROFESSOR',\n",
    "'2024-10-01 00:00:00',\n",
    "'2024-10-02 00:00:00',\n",
    "'2024-10-03 00:00:00',\n",
    "'2024-10-04 00:00:00',\n",
    "'2024-10-07 00:00:00',\n",
    "'2024-10-08 00:00:00',\n",
    "'2024-10-09 00:00:00',\n",
    "'2024-10-10 00:00:00',\n",
    "'2024-10-11 00:00:00',\n",
    "'2024-10-14 00:00:00',\n",
    "'2024-10-15 00:00:00',\n",
    "'2024-10-16 00:00:00',\n",
    "'2024-10-17 00:00:00',\n",
    "'2024-10-18 00:00:00',\n",
    "'2024-10-21 00:00:00',\n",
    "'2024-10-22 00:00:00',\n",
    "'2024-10-23 00:00:00',\n",
    "'2024-10-24 00:00:00',\n",
    "'2024-10-25 00:00:00',\n",
    "'2024-10-28 00:00:00',\n",
    "'2024-10-29 00:00:00',\n",
    "'2024-10-30 00:00:00',\n",
    "'2024-10-31 00:00:00',\n",
    "'Média alunos p/ professor',\n",
    "'Média',\n",
    "'0']"
   ]
  },
  {
   "cell_type": "code",
   "execution_count": 366,
   "id": "d3b72894-620b-438f-9e74-5523e12730ec",
   "metadata": {},
   "outputs": [
    {
     "data": {
      "text/plain": [
       "array([nan, 0, 'Professor'], dtype=object)"
      ]
     },
     "execution_count": 366,
     "metadata": {},
     "output_type": "execute_result"
    }
   ],
   "source": [
    "dataPERS['0'].unique()"
   ]
  },
  {
   "cell_type": "code",
   "execution_count": 367,
   "id": "15fb079a-4c90-404a-b665-433afe4cc752",
   "metadata": {},
   "outputs": [
    {
     "data": {
      "text/plain": [
       "Index(['CATEGORIA', 'MODALIDADE', 'DIA DA SEMANA', 'HORÁRIO', 'TURNO',\n",
       "       'PROFESSOR', '2024-10-01 00:00:00', '2024-10-02 00:00:00',\n",
       "       '2024-10-03 00:00:00', '2024-10-04 00:00:00', '2024-10-07 00:00:00',\n",
       "       '2024-10-08 00:00:00', '2024-10-09 00:00:00', '2024-10-10 00:00:00',\n",
       "       '2024-10-11 00:00:00', '2024-10-14 00:00:00', '2024-10-15 00:00:00',\n",
       "       '2024-10-16 00:00:00', '2024-10-17 00:00:00', '2024-10-18 00:00:00',\n",
       "       '2024-10-21 00:00:00', '2024-10-22 00:00:00', '2024-10-23 00:00:00',\n",
       "       '2024-10-24 00:00:00', '2024-10-25 00:00:00', '2024-10-28 00:00:00',\n",
       "       '2024-10-29 00:00:00', '2024-10-30 00:00:00', '2024-10-31 00:00:00',\n",
       "       'Média alunos p/ professor', 'Média', '0'],\n",
       "      dtype='object')"
      ]
     },
     "execution_count": 367,
     "metadata": {},
     "output_type": "execute_result"
    }
   ],
   "source": [
    "dataPERS.columns"
   ]
  },
  {
   "cell_type": "code",
   "execution_count": 368,
   "id": "876c57e7-3e20-49da-a46f-534bd283368f",
   "metadata": {},
   "outputs": [
    {
     "data": {
      "text/html": [
       "<div>\n",
       "<style scoped>\n",
       "    .dataframe tbody tr th:only-of-type {\n",
       "        vertical-align: middle;\n",
       "    }\n",
       "\n",
       "    .dataframe tbody tr th {\n",
       "        vertical-align: top;\n",
       "    }\n",
       "\n",
       "    .dataframe thead th {\n",
       "        text-align: right;\n",
       "    }\n",
       "</style>\n",
       "<table border=\"1\" class=\"dataframe\">\n",
       "  <thead>\n",
       "    <tr style=\"text-align: right;\">\n",
       "      <th></th>\n",
       "      <th>CATEGORIA</th>\n",
       "      <th>MODALIDADE</th>\n",
       "      <th>DIA DA SEMANA</th>\n",
       "      <th>HORÁRIO</th>\n",
       "      <th>TURNO</th>\n",
       "      <th>PROFESSOR</th>\n",
       "      <th>2024-10-01 00:00:00</th>\n",
       "      <th>2024-10-02 00:00:00</th>\n",
       "      <th>2024-10-03 00:00:00</th>\n",
       "      <th>2024-10-04 00:00:00</th>\n",
       "      <th>...</th>\n",
       "      <th>2024-10-23 00:00:00</th>\n",
       "      <th>2024-10-24 00:00:00</th>\n",
       "      <th>2024-10-25 00:00:00</th>\n",
       "      <th>2024-10-28 00:00:00</th>\n",
       "      <th>2024-10-29 00:00:00</th>\n",
       "      <th>2024-10-30 00:00:00</th>\n",
       "      <th>2024-10-31 00:00:00</th>\n",
       "      <th>Média alunos p/ professor</th>\n",
       "      <th>Média</th>\n",
       "      <th>0</th>\n",
       "    </tr>\n",
       "  </thead>\n",
       "  <tbody>\n",
       "    <tr>\n",
       "      <th>102</th>\n",
       "      <td>MUSC</td>\n",
       "      <td>A - MUSCULAÇÃO</td>\n",
       "      <td>seg, ter, qua, qui, sex</td>\n",
       "      <td>12:00</td>\n",
       "      <td>MANHÃ</td>\n",
       "      <td>LINCOLN</td>\n",
       "      <td>2</td>\n",
       "      <td>1</td>\n",
       "      <td>NaN</td>\n",
       "      <td>1</td>\n",
       "      <td>...</td>\n",
       "      <td>1.0</td>\n",
       "      <td>NaN</td>\n",
       "      <td>1</td>\n",
       "      <td>2</td>\n",
       "      <td>1</td>\n",
       "      <td>1.0</td>\n",
       "      <td>NaN</td>\n",
       "      <td>17</td>\n",
       "      <td>1.411765</td>\n",
       "      <td>Professor</td>\n",
       "    </tr>\n",
       "  </tbody>\n",
       "</table>\n",
       "<p>1 rows × 32 columns</p>\n",
       "</div>"
      ],
      "text/plain": [
       "    CATEGORIA      MODALIDADE            DIA DA SEMANA HORÁRIO  TURNO  \\\n",
       "102      MUSC  A - MUSCULAÇÃO  seg, ter, qua, qui, sex   12:00  MANHÃ   \n",
       "\n",
       "    PROFESSOR 2024-10-01 00:00:00 2024-10-02 00:00:00 2024-10-03 00:00:00  \\\n",
       "102   LINCOLN                   2                   1                 NaN   \n",
       "\n",
       "    2024-10-04 00:00:00  ... 2024-10-23 00:00:00 2024-10-24 00:00:00  \\\n",
       "102                   1  ...                 1.0                 NaN   \n",
       "\n",
       "    2024-10-25 00:00:00 2024-10-28 00:00:00 2024-10-29 00:00:00  \\\n",
       "102                   1                   2                   1   \n",
       "\n",
       "    2024-10-30 00:00:00 2024-10-31 00:00:00 Média alunos p/ professor  \\\n",
       "102                 1.0                 NaN                        17   \n",
       "\n",
       "        Média          0  \n",
       "102  1.411765  Professor  \n",
       "\n",
       "[1 rows x 32 columns]"
      ]
     },
     "execution_count": 368,
     "metadata": {},
     "output_type": "execute_result"
    }
   ],
   "source": [
    "search = (dataPERS['0'] == 'Professor')\n",
    "dataPERS[search]"
   ]
  },
  {
   "cell_type": "code",
   "execution_count": null,
   "id": "acc9fa0a-f188-4e54-b29e-0f928b681711",
   "metadata": {},
   "outputs": [],
   "source": []
  },
  {
   "cell_type": "code",
   "execution_count": null,
   "id": "a6c3d09b-5f5b-402d-8a00-e71f7342de37",
   "metadata": {},
   "outputs": [],
   "source": []
  },
  {
   "cell_type": "code",
   "execution_count": null,
   "id": "7185b634-0541-4a83-8454-36451d3582d7",
   "metadata": {},
   "outputs": [],
   "source": []
  },
  {
   "cell_type": "markdown",
   "id": "da306cf2-6f95-447e-99d6-1e15bc1e54ab",
   "metadata": {},
   "source": [
    "### PASSO 3: Escolhendo colunas com o nome de 'datas', para renomear pelo o tipo dia, mês e ano. e removendo os 00 de horas"
   ]
  },
  {
   "cell_type": "code",
   "execution_count": 369,
   "id": "f46f4e58-fadc-4314-bfeb-57322dd305ca",
   "metadata": {},
   "outputs": [],
   "source": [
    "colunas = [\n",
    "'2024-10-01 00:00:00',\n",
    "'2024-10-02 00:00:00',\n",
    "'2024-10-03 00:00:00',\n",
    "'2024-10-04 00:00:00',\n",
    "'2024-10-07 00:00:00',\n",
    "'2024-10-08 00:00:00',\n",
    "'2024-10-09 00:00:00',\n",
    "'2024-10-10 00:00:00',\n",
    "'2024-10-11 00:00:00',\n",
    "'2024-10-14 00:00:00',\n",
    "'2024-10-15 00:00:00',\n",
    "'2024-10-16 00:00:00',\n",
    "'2024-10-17 00:00:00',\n",
    "'2024-10-18 00:00:00',\n",
    "'2024-10-21 00:00:00',\n",
    "'2024-10-22 00:00:00',\n",
    "'2024-10-23 00:00:00',\n",
    "'2024-10-24 00:00:00',\n",
    "'2024-10-25 00:00:00',\n",
    "'2024-10-28 00:00:00',\n",
    "'2024-10-29 00:00:00',\n",
    "'2024-10-30 00:00:00',\n",
    "'2024-10-31 00:00:00',\n",
    "]"
   ]
  },
  {
   "cell_type": "code",
   "execution_count": 370,
   "id": "c148f10f-1b95-41e1-be0d-39a753c113b5",
   "metadata": {},
   "outputs": [],
   "source": [
    "novas_colunas_PERS = []"
   ]
  },
  {
   "cell_type": "code",
   "execution_count": 371,
   "id": "aece2886-bfe7-4d35-881a-323b6e51c091",
   "metadata": {},
   "outputs": [],
   "source": [
    "for columns in colunas:\n",
    "    # Remove a parte da hora\n",
    "    data_sem_hora = columns.split(' ')[0]\n",
    "    \n",
    "    # Formata para o formato DD-MM-YYYY\n",
    "    ano, mes, dia = data_sem_hora.split('-')\n",
    "    novo_nome = f'{dia}-{mes}-{ano}'\n",
    "    novas_colunas_PERS.append(novo_nome)"
   ]
  },
  {
   "cell_type": "code",
   "execution_count": 372,
   "id": "c5aae134-54cc-4637-a2b5-740ae9a1889e",
   "metadata": {},
   "outputs": [
    {
     "data": {
      "text/plain": [
       "['01-10-2024',\n",
       " '02-10-2024',\n",
       " '03-10-2024',\n",
       " '04-10-2024',\n",
       " '07-10-2024',\n",
       " '08-10-2024',\n",
       " '09-10-2024',\n",
       " '10-10-2024',\n",
       " '11-10-2024',\n",
       " '14-10-2024',\n",
       " '15-10-2024',\n",
       " '16-10-2024',\n",
       " '17-10-2024',\n",
       " '18-10-2024',\n",
       " '21-10-2024',\n",
       " '22-10-2024',\n",
       " '23-10-2024',\n",
       " '24-10-2024',\n",
       " '25-10-2024',\n",
       " '28-10-2024',\n",
       " '29-10-2024',\n",
       " '30-10-2024',\n",
       " '31-10-2024']"
      ]
     },
     "execution_count": 372,
     "metadata": {},
     "output_type": "execute_result"
    }
   ],
   "source": [
    "novas_colunas_PERS"
   ]
  },
  {
   "cell_type": "code",
   "execution_count": null,
   "id": "4a913e44-9ac4-4b28-a5f7-cbccf2fa24da",
   "metadata": {},
   "outputs": [],
   "source": []
  },
  {
   "cell_type": "code",
   "execution_count": null,
   "id": "51d23e6c-b9cb-47dc-8917-2c2ecda6e083",
   "metadata": {},
   "outputs": [],
   "source": []
  },
  {
   "cell_type": "code",
   "execution_count": null,
   "id": "51b4481b-a725-4b85-bf2f-dcc7f572c673",
   "metadata": {},
   "outputs": [],
   "source": []
  },
  {
   "cell_type": "markdown",
   "id": "a0f83893-1856-4760-9c2f-cf6c0b90ff11",
   "metadata": {},
   "source": [
    "### PASSO 4 renomeando colunas e acrescentando o novo formato "
   ]
  },
  {
   "cell_type": "markdown",
   "id": "9fc54169-5185-4bc2-ac41-472722fa715c",
   "metadata": {},
   "source": [
    "copie as colunas que escolheu para renomear, e cole o formato novo no lugar das velhas"
   ]
  },
  {
   "cell_type": "code",
   "execution_count": 373,
   "id": "cf16fb1a-00b9-423b-868f-2bf10e782e5a",
   "metadata": {},
   "outputs": [],
   "source": [
    "# Adicionando as datas formatadas as colunas, copiando e colando"
   ]
  },
  {
   "cell_type": "code",
   "execution_count": 374,
   "id": "011f403b-d798-4b9a-9817-d944050ad63a",
   "metadata": {},
   "outputs": [
    {
     "name": "stdout",
     "output_type": "stream",
     "text": [
      "CATEGORIA\n",
      "MODALIDADE\n",
      "DIA DA SEMANA\n",
      "HORÁRIO\n",
      "TURNO\n",
      "PROFESSOR\n",
      "2024-10-01 00:00:00\n",
      "2024-10-02 00:00:00\n",
      "2024-10-03 00:00:00\n",
      "2024-10-04 00:00:00\n",
      "2024-10-07 00:00:00\n",
      "2024-10-08 00:00:00\n",
      "2024-10-09 00:00:00\n",
      "2024-10-10 00:00:00\n",
      "2024-10-11 00:00:00\n",
      "2024-10-14 00:00:00\n",
      "2024-10-15 00:00:00\n",
      "2024-10-16 00:00:00\n",
      "2024-10-17 00:00:00\n",
      "2024-10-18 00:00:00\n",
      "2024-10-21 00:00:00\n",
      "2024-10-22 00:00:00\n",
      "2024-10-23 00:00:00\n",
      "2024-10-24 00:00:00\n",
      "2024-10-25 00:00:00\n",
      "2024-10-28 00:00:00\n",
      "2024-10-29 00:00:00\n",
      "2024-10-30 00:00:00\n",
      "2024-10-31 00:00:00\n",
      "Média alunos p/ professor\n",
      "Média\n",
      "0\n"
     ]
    }
   ],
   "source": [
    "for columns in dataPERS.columns:\n",
    "    print (columns)"
   ]
  },
  {
   "cell_type": "code",
   "execution_count": 375,
   "id": "5df988a5-cca8-4003-9b94-6369fd3cc85e",
   "metadata": {},
   "outputs": [],
   "source": [
    "dataPERS.columns = [\n",
    "'CATEGORIA',\n",
    "'MODALIDADE',\n",
    "'DIA DA SEMANA',\n",
    "'HORÁRIO',\n",
    "'TURNO',\n",
    "'PROFESSOR',\n",
    "'2024-10-01',\n",
    "'2024-10-02',\n",
    "'2024-10-03',\n",
    "'2024-10-04',\n",
    "'2024-10-07',\n",
    "'2024-10-08',\n",
    "'2024-10-09',\n",
    "'2024-10-10',\n",
    "'2024-10-11',\n",
    "'2024-10-14',\n",
    "'2024-10-15',\n",
    "'2024-10-16',\n",
    "'2024-10-17',\n",
    "'2024-10-18',\n",
    "'2024-10-21',\n",
    "'2024-10-22',\n",
    "'2024-10-23',\n",
    "'2024-10-24',\n",
    "'2024-10-25',\n",
    "'2024-10-28',\n",
    "'2024-10-29',\n",
    "'2024-10-30',\n",
    "'2024-10-31',\n",
    "'Média alunos p/ professor',\n",
    "'Média',\n",
    "'0']"
   ]
  },
  {
   "cell_type": "code",
   "execution_count": null,
   "id": "ab0d5e40-2932-42a7-a0d7-32bcd99afe64",
   "metadata": {},
   "outputs": [],
   "source": []
  },
  {
   "cell_type": "code",
   "execution_count": null,
   "id": "ad2232ad-b981-4c25-99a9-1b7cc7bc0db4",
   "metadata": {},
   "outputs": [],
   "source": []
  },
  {
   "cell_type": "code",
   "execution_count": null,
   "id": "8f0c0e78-3fe3-482a-bc0d-dcab5d4779da",
   "metadata": {},
   "outputs": [],
   "source": []
  },
  {
   "cell_type": "markdown",
   "id": "0fcb0cab-7e6e-42c8-ac31-d43fbc17c14c",
   "metadata": {},
   "source": [
    "### 5 PASSO: Usar o Loop for para substitituir os valores das frequencia de 'x' e 'X' por zero, com o método do pd.to_numeric) "
   ]
  },
  {
   "cell_type": "code",
   "execution_count": 376,
   "id": "d6314e42-282d-47c4-afd4-e597eecf6df0",
   "metadata": {},
   "outputs": [],
   "source": [
    "colunas = [\n",
    "'2024-10-01',\n",
    "'2024-10-02',\n",
    "'2024-10-03',\n",
    "'2024-10-04',\n",
    "'2024-10-07',\n",
    "'2024-10-08',\n",
    "'2024-10-09',\n",
    "'2024-10-10',\n",
    "'2024-10-11',\n",
    "'2024-10-14',\n",
    "'2024-10-15',\n",
    "'2024-10-16',\n",
    "'2024-10-17',\n",
    "'2024-10-18',\n",
    "'2024-10-21',\n",
    "'2024-10-22',\n",
    "'2024-10-23',\n",
    "'2024-10-24',\n",
    "'2024-10-25',\n",
    "'2024-10-28',\n",
    "'2024-10-29',\n",
    "'2024-10-30',\n",
    "'2024-10-31',\n",
    "]"
   ]
  },
  {
   "cell_type": "markdown",
   "id": "bcf9414d-3f3a-4f9a-86b2-0bb9a46b0a22",
   "metadata": {},
   "source": [
    "Fazendo a limpeza profunda, formatando valores para numeros, preenchendo com zeros os nulos e transformando em inteiros"
   ]
  },
  {
   "cell_type": "code",
   "execution_count": 377,
   "id": "92be3ff4-5045-4a7f-8506-9829bf42566b",
   "metadata": {},
   "outputs": [],
   "source": [
    "for columns in colunas:\n",
    "    # dataMES[columns] = pd.to_numeric(dataMES[columns], errors='coerce')\n",
    "    dataPERS[columns] = pd.to_numeric(dataPERS[columns], errors='coerce').fillna(0).astype(int)"
   ]
  },
  {
   "cell_type": "code",
   "execution_count": null,
   "id": "d6111b68-b6e7-4e89-9bd2-3bf9f53f073b",
   "metadata": {},
   "outputs": [],
   "source": []
  },
  {
   "cell_type": "code",
   "execution_count": null,
   "id": "b2ae6cab-090b-4b70-91f5-b30ecf0d2d23",
   "metadata": {},
   "outputs": [],
   "source": []
  },
  {
   "cell_type": "code",
   "execution_count": null,
   "id": "2b500f8a-d1a2-4b4b-8808-22943ce46d99",
   "metadata": {},
   "outputs": [],
   "source": []
  },
  {
   "cell_type": "markdown",
   "id": "bf836b6c-0aad-4b63-a3c5-64f2cc316df0",
   "metadata": {},
   "source": [
    "### PASSO 6: MELT derretendo as colunas em formato de datas"
   ]
  },
  {
   "cell_type": "markdown",
   "id": "0b40de59-6186-4f99-9577-7a9815225133",
   "metadata": {},
   "source": [
    "o MELT ele pega as colunas que estão na horizontal e cria uma coluna de categorias, e depois ele cria outra coluna com os valores dessas colunas que foram transformadas em dados categóricos"
   ]
  },
  {
   "cell_type": "code",
   "execution_count": 378,
   "id": "8bff8264-4e6c-4828-b15c-a7c05a523aa1",
   "metadata": {},
   "outputs": [],
   "source": [
    "colunas_para_melt = [\n",
    "'2024-10-01',\n",
    "'2024-10-02',\n",
    "'2024-10-03',\n",
    "'2024-10-04',\n",
    "'2024-10-07',\n",
    "'2024-10-08',\n",
    "'2024-10-09',\n",
    "'2024-10-10',\n",
    "'2024-10-11',\n",
    "'2024-10-14',\n",
    "'2024-10-15',\n",
    "'2024-10-16',\n",
    "'2024-10-17',\n",
    "'2024-10-18',\n",
    "'2024-10-21',\n",
    "'2024-10-22',\n",
    "'2024-10-23',\n",
    "'2024-10-24',\n",
    "'2024-10-25',\n",
    "'2024-10-28',\n",
    "'2024-10-29',\n",
    "'2024-10-30',\n",
    "'2024-10-31',\n",
    "]"
   ]
  },
  {
   "cell_type": "code",
   "execution_count": null,
   "id": "b825a6c9-7843-4874-bf8c-6eaff9dea60f",
   "metadata": {},
   "outputs": [],
   "source": []
  },
  {
   "cell_type": "code",
   "execution_count": null,
   "id": "b2d945e9-ab9d-47e5-97d0-3336356fee58",
   "metadata": {},
   "outputs": [],
   "source": []
  },
  {
   "cell_type": "code",
   "execution_count": null,
   "id": "08301471-f15b-4054-936f-4ddadf297d2e",
   "metadata": {},
   "outputs": [],
   "source": []
  },
  {
   "cell_type": "markdown",
   "id": "8d1025ae-4de4-4de9-89b0-7d854f9ab09d",
   "metadata": {},
   "source": [
    "#### Indentificando as colunas que Eu quero manter em meu dataframe"
   ]
  },
  {
   "cell_type": "code",
   "execution_count": 379,
   "id": "857d1ad0-933c-487b-b689-402f7b41fc7b",
   "metadata": {},
   "outputs": [],
   "source": [
    "# Identifica as colunas que você quer manter como identificadoras (id_vars)\n",
    "# São as colunas que não serão \"unpivoted\"\n",
    "id_vars_cols = [columns for columns in dataPERS.columns if columns not in colunas_para_melt]"
   ]
  },
  {
   "cell_type": "code",
   "execution_count": null,
   "id": "323a820c-32dc-4a58-907c-bb5ddb941390",
   "metadata": {},
   "outputs": [],
   "source": []
  },
  {
   "cell_type": "code",
   "execution_count": null,
   "id": "b57001e2-cc6a-4045-b822-901eba0fdb1d",
   "metadata": {},
   "outputs": [],
   "source": []
  },
  {
   "cell_type": "code",
   "execution_count": null,
   "id": "1ca7796b-f4c1-4674-b519-78bae3ae3a7e",
   "metadata": {},
   "outputs": [],
   "source": []
  },
  {
   "cell_type": "code",
   "execution_count": 380,
   "id": "5cdbf96e-59c8-4ade-9cd4-1d78bac4c49e",
   "metadata": {},
   "outputs": [],
   "source": [
    "dataPERS_melted = pd.melt(dataPERS,\n",
    "                      id_vars=id_vars_cols, #colunas que Eu deixei, que ficaram.\n",
    "                      value_vars=colunas_para_melt, #colunas que vão se transformar.\n",
    "                      var_name='Dias de Aulas', # nome da coluna categorica\n",
    "                      value_name='Frequencia de Alunos') # nome da coluna de valores"
   ]
  },
  {
   "cell_type": "code",
   "execution_count": 381,
   "id": "c620486a-89bc-4eaf-b7a6-4080d95cb4bb",
   "metadata": {},
   "outputs": [
    {
     "data": {
      "text/html": [
       "<div>\n",
       "<style scoped>\n",
       "    .dataframe tbody tr th:only-of-type {\n",
       "        vertical-align: middle;\n",
       "    }\n",
       "\n",
       "    .dataframe tbody tr th {\n",
       "        vertical-align: top;\n",
       "    }\n",
       "\n",
       "    .dataframe thead th {\n",
       "        text-align: right;\n",
       "    }\n",
       "</style>\n",
       "<table border=\"1\" class=\"dataframe\">\n",
       "  <thead>\n",
       "    <tr style=\"text-align: right;\">\n",
       "      <th></th>\n",
       "      <th>CATEGORIA</th>\n",
       "      <th>MODALIDADE</th>\n",
       "      <th>DIA DA SEMANA</th>\n",
       "      <th>HORÁRIO</th>\n",
       "      <th>TURNO</th>\n",
       "      <th>PROFESSOR</th>\n",
       "      <th>Média alunos p/ professor</th>\n",
       "      <th>Média</th>\n",
       "      <th>0</th>\n",
       "      <th>Dias de Aulas</th>\n",
       "      <th>Frequencia de Alunos</th>\n",
       "    </tr>\n",
       "  </thead>\n",
       "  <tbody>\n",
       "    <tr>\n",
       "      <th>0</th>\n",
       "      <td>MUSC</td>\n",
       "      <td>A - MUSCULAÇÃO</td>\n",
       "      <td>seg, ter, qua, qui, sex</td>\n",
       "      <td>07:00</td>\n",
       "      <td>MANHÃ</td>\n",
       "      <td>AGOSTINHO</td>\n",
       "      <td>19</td>\n",
       "      <td>1.631579</td>\n",
       "      <td>NaN</td>\n",
       "      <td>2024-10-01</td>\n",
       "      <td>4</td>\n",
       "    </tr>\n",
       "    <tr>\n",
       "      <th>1</th>\n",
       "      <td>MUSC</td>\n",
       "      <td>A - MUSCULAÇÃO</td>\n",
       "      <td>seg, ter, qua, qui, sex</td>\n",
       "      <td>08:00</td>\n",
       "      <td>MANHÃ</td>\n",
       "      <td>AGOSTINHO</td>\n",
       "      <td>20</td>\n",
       "      <td>1.800000</td>\n",
       "      <td>NaN</td>\n",
       "      <td>2024-10-01</td>\n",
       "      <td>1</td>\n",
       "    </tr>\n",
       "  </tbody>\n",
       "</table>\n",
       "</div>"
      ],
      "text/plain": [
       "  CATEGORIA      MODALIDADE            DIA DA SEMANA HORÁRIO  TURNO  \\\n",
       "0      MUSC  A - MUSCULAÇÃO  seg, ter, qua, qui, sex   07:00  MANHÃ   \n",
       "1      MUSC  A - MUSCULAÇÃO  seg, ter, qua, qui, sex   08:00  MANHÃ   \n",
       "\n",
       "   PROFESSOR Média alunos p/ professor     Média    0 Dias de Aulas  \\\n",
       "0  AGOSTINHO                        19  1.631579  NaN    2024-10-01   \n",
       "1  AGOSTINHO                        20  1.800000  NaN    2024-10-01   \n",
       "\n",
       "   Frequencia de Alunos  \n",
       "0                     4  \n",
       "1                     1  "
      ]
     },
     "execution_count": 381,
     "metadata": {},
     "output_type": "execute_result"
    }
   ],
   "source": [
    "dataPERS_melted.head(2)"
   ]
  },
  {
   "cell_type": "code",
   "execution_count": 382,
   "id": "6a7d800c-fc02-4e51-bfc0-30f8da2ac1be",
   "metadata": {},
   "outputs": [],
   "source": [
    "del dataPERS_melted['0']"
   ]
  },
  {
   "cell_type": "code",
   "execution_count": 383,
   "id": "bc3795b3-6e3c-4cbb-bfa7-357e3e03ce47",
   "metadata": {},
   "outputs": [
    {
     "data": {
      "text/plain": [
       "4990"
      ]
     },
     "execution_count": 383,
     "metadata": {},
     "output_type": "execute_result"
    }
   ],
   "source": [
    "dataPERS_melted['Frequencia de Alunos'].sum()"
   ]
  },
  {
   "cell_type": "code",
   "execution_count": null,
   "id": "d6fbbbbf-96bb-41d5-bbfc-0aedc3a39919",
   "metadata": {},
   "outputs": [],
   "source": []
  },
  {
   "cell_type": "code",
   "execution_count": null,
   "id": "a801dba9-d6d3-418b-b1c8-48f08d2a27e3",
   "metadata": {},
   "outputs": [],
   "source": []
  },
  {
   "cell_type": "markdown",
   "id": "0b6f997f-9004-454b-803e-87d3d5ca9aa2",
   "metadata": {},
   "source": [
    "____"
   ]
  },
  {
   "cell_type": "code",
   "execution_count": null,
   "id": "e580216d-a0d9-4f63-aebb-6d496f2c07ce",
   "metadata": {},
   "outputs": [],
   "source": []
  },
  {
   "cell_type": "code",
   "execution_count": null,
   "id": "2f68a05d-b945-43a3-940d-11c30efa85f5",
   "metadata": {},
   "outputs": [],
   "source": []
  },
  {
   "cell_type": "code",
   "execution_count": null,
   "id": "03e6a378-a8d7-43a1-8036-481847d4551e",
   "metadata": {},
   "outputs": [],
   "source": []
  },
  {
   "cell_type": "markdown",
   "id": "422ed591-e1a1-43b7-adc6-f995a813836c",
   "metadata": {},
   "source": [
    "____"
   ]
  },
  {
   "cell_type": "markdown",
   "id": "f43fc27a-6abc-4287-800f-f1c6f3757a6b",
   "metadata": {},
   "source": [
    "# JÓQUEI [JÓQ] - PREPROCESSING 16"
   ]
  },
  {
   "cell_type": "code",
   "execution_count": 384,
   "id": "4807ade6-b18b-4d13-9431-0d107576b3a7",
   "metadata": {},
   "outputs": [],
   "source": [
    "data16 = pd.read_excel('3.2 Mapa de Ocupação - OUT 2024.xlsx', sheet_name='JÓQ', skiprows=1, nrows=106)"
   ]
  },
  {
   "cell_type": "code",
   "execution_count": 385,
   "id": "e9d40ecc-e7db-45d4-9719-101619e5407a",
   "metadata": {},
   "outputs": [],
   "source": [
    "dataJOQ = data16.copy()"
   ]
  },
  {
   "cell_type": "code",
   "execution_count": null,
   "id": "1b8d7c65-10da-426c-a658-569e0c7b3e9f",
   "metadata": {},
   "outputs": [],
   "source": []
  },
  {
   "cell_type": "code",
   "execution_count": null,
   "id": "c01f8933-629e-4955-b3f0-70fe86ab8411",
   "metadata": {},
   "outputs": [],
   "source": []
  },
  {
   "cell_type": "code",
   "execution_count": null,
   "id": "f8d033f5-5fd9-4ec0-ba96-f97458255cb6",
   "metadata": {},
   "outputs": [],
   "source": []
  },
  {
   "cell_type": "markdown",
   "id": "cb6f9ddb-3362-408e-a5b3-c83e5b1d7681",
   "metadata": {},
   "source": [
    "### 1 PASSO: Removendo colunas desnecessárias"
   ]
  },
  {
   "cell_type": "code",
   "execution_count": 386,
   "id": "c636f94c-e8b4-461b-9047-69467861c811",
   "metadata": {},
   "outputs": [
    {
     "data": {
      "text/html": [
       "<div>\n",
       "<style scoped>\n",
       "    .dataframe tbody tr th:only-of-type {\n",
       "        vertical-align: middle;\n",
       "    }\n",
       "\n",
       "    .dataframe tbody tr th {\n",
       "        vertical-align: top;\n",
       "    }\n",
       "\n",
       "    .dataframe thead th {\n",
       "        text-align: right;\n",
       "    }\n",
       "</style>\n",
       "<table border=\"1\" class=\"dataframe\">\n",
       "  <thead>\n",
       "    <tr style=\"text-align: right;\">\n",
       "      <th></th>\n",
       "      <th>Unnamed: 0</th>\n",
       "      <th>Unnamed: 1</th>\n",
       "      <th>Unnamed: 2</th>\n",
       "      <th>CATEGORIA</th>\n",
       "      <th>MODALIDADE</th>\n",
       "      <th>DIA DA SEMANA</th>\n",
       "      <th>HORÁRIO</th>\n",
       "      <th>AUX.1</th>\n",
       "      <th>TURNO</th>\n",
       "      <th>AUX 2</th>\n",
       "      <th>...</th>\n",
       "      <th>2024-10-25 00:00:00</th>\n",
       "      <th>2024-10-28 00:00:00</th>\n",
       "      <th>2024-10-29 00:00:00</th>\n",
       "      <th>2024-10-30 00:00:00</th>\n",
       "      <th>2024-10-31 00:00:00</th>\n",
       "      <th>Aulas/mês</th>\n",
       "      <th>Média</th>\n",
       "      <th>Alunos/professor</th>\n",
       "      <th>Ocupação Máxima</th>\n",
       "      <th>Professor</th>\n",
       "    </tr>\n",
       "  </thead>\n",
       "  <tbody>\n",
       "    <tr>\n",
       "      <th>0</th>\n",
       "      <td>NaN</td>\n",
       "      <td>NaN</td>\n",
       "      <td>NaN</td>\n",
       "      <td>QUADRA</td>\n",
       "      <td>BEACH TENIS INICIANTE</td>\n",
       "      <td>seg, ter, qua, qui, sex</td>\n",
       "      <td>06:00:00</td>\n",
       "      <td>06:00</td>\n",
       "      <td>MANHÃ</td>\n",
       "      <td>BEACH TENIS INICIANTE - 06:00</td>\n",
       "      <td>...</td>\n",
       "      <td>1</td>\n",
       "      <td>1</td>\n",
       "      <td>0</td>\n",
       "      <td>1</td>\n",
       "      <td>0</td>\n",
       "      <td>23</td>\n",
       "      <td>0.391304</td>\n",
       "      <td>NaN</td>\n",
       "      <td>NaN</td>\n",
       "      <td>0.0</td>\n",
       "    </tr>\n",
       "    <tr>\n",
       "      <th>1</th>\n",
       "      <td>NaN</td>\n",
       "      <td>NaN</td>\n",
       "      <td>NaN</td>\n",
       "      <td>ADULTO</td>\n",
       "      <td>CROSSFIT</td>\n",
       "      <td>seg, ter, qua, qui, sex</td>\n",
       "      <td>06:00:00</td>\n",
       "      <td>06:00</td>\n",
       "      <td>MANHÃ</td>\n",
       "      <td>CROSSFIT - 06:00</td>\n",
       "      <td>...</td>\n",
       "      <td>9</td>\n",
       "      <td>7</td>\n",
       "      <td>6</td>\n",
       "      <td>7</td>\n",
       "      <td>5</td>\n",
       "      <td>23</td>\n",
       "      <td>6.826087</td>\n",
       "      <td>NaN</td>\n",
       "      <td>NaN</td>\n",
       "      <td>0.0</td>\n",
       "    </tr>\n",
       "  </tbody>\n",
       "</table>\n",
       "<p>2 rows × 40 columns</p>\n",
       "</div>"
      ],
      "text/plain": [
       "   Unnamed: 0  Unnamed: 1  Unnamed: 2 CATEGORIA             MODALIDADE  \\\n",
       "0         NaN         NaN         NaN    QUADRA  BEACH TENIS INICIANTE   \n",
       "1         NaN         NaN         NaN    ADULTO               CROSSFIT   \n",
       "\n",
       "             DIA DA SEMANA   HORÁRIO  AUX.1  TURNO  \\\n",
       "0  seg, ter, qua, qui, sex  06:00:00  06:00  MANHÃ   \n",
       "1  seg, ter, qua, qui, sex  06:00:00  06:00  MANHÃ   \n",
       "\n",
       "                           AUX 2  ... 2024-10-25 00:00:00 2024-10-28 00:00:00  \\\n",
       "0  BEACH TENIS INICIANTE - 06:00  ...                   1                   1   \n",
       "1               CROSSFIT - 06:00  ...                   9                   7   \n",
       "\n",
       "  2024-10-29 00:00:00 2024-10-30 00:00:00 2024-10-31 00:00:00 Aulas/mês  \\\n",
       "0                   0                   1                   0        23   \n",
       "1                   6                   7                   5        23   \n",
       "\n",
       "      Média Alunos/professor Ocupação Máxima Professor  \n",
       "0  0.391304              NaN             NaN       0.0  \n",
       "1  6.826087              NaN             NaN       0.0  \n",
       "\n",
       "[2 rows x 40 columns]"
      ]
     },
     "execution_count": 386,
     "metadata": {},
     "output_type": "execute_result"
    }
   ],
   "source": [
    "dataJOQ.head(2)"
   ]
  },
  {
   "cell_type": "code",
   "execution_count": 387,
   "id": "f5f744ab-2e9c-4230-b191-822afc6b2976",
   "metadata": {},
   "outputs": [
    {
     "data": {
      "text/plain": [
       "Unnamed: 0                                              NaN\n",
       "Unnamed: 1                                              NaN\n",
       "Unnamed: 2                                              NaN\n",
       "CATEGORIA                                            QUADRA\n",
       "MODALIDADE                            BEACH TENIS INICIANTE\n",
       "DIA DA SEMANA                       seg, ter, qua, qui, sex\n",
       "HORÁRIO                                            06:00:00\n",
       "AUX.1                                                 06:00\n",
       "TURNO                                                 MANHÃ\n",
       "AUX 2                         BEACH TENIS INICIANTE - 06:00\n",
       "PROFESSOR                                      ANTONIO RYAN\n",
       "AUX 3                  BEACH TENIS INICIANTE - ANTONIO RYAN\n",
       "2024-10-01 00:00:00                                       0\n",
       "2024-10-02 00:00:00                                       0\n",
       "2024-10-03 00:00:00                                       1\n",
       "2024-10-04 00:00:00                                       1\n",
       "2024-10-07 00:00:00                                       1\n",
       "2024-10-08 00:00:00                                       0\n",
       "2024-10-09 00:00:00                                       1\n",
       "2024-10-10 00:00:00                                       0\n",
       "2024-10-11 00:00:00                                       0\n",
       "2024-10-14 00:00:00                                       0\n",
       "2024-10-15 00:00:00                                       0\n",
       "2024-10-16 00:00:00                                       1\n",
       "2024-10-17 00:00:00                                       0\n",
       "2024-10-18 00:00:00                                       0\n",
       "2024-10-21 00:00:00                                       0\n",
       "2024-10-22 00:00:00                                       1\n",
       "2024-10-23 00:00:00                                       0\n",
       "2024-10-24 00:00:00                                       0\n",
       "2024-10-25 00:00:00                                       1\n",
       "2024-10-28 00:00:00                                       1\n",
       "2024-10-29 00:00:00                                       0\n",
       "2024-10-30 00:00:00                                       1\n",
       "2024-10-31 00:00:00                                       0\n",
       "Aulas/mês                                                23\n",
       "Média                                              0.391304\n",
       "Alunos/professor                                        NaN\n",
       "Ocupação Máxima                                         NaN\n",
       "Professor                                               0.0\n",
       "Name: 0, dtype: object"
      ]
     },
     "execution_count": 387,
     "metadata": {},
     "output_type": "execute_result"
    }
   ],
   "source": [
    "dataJOQ.iloc[0]"
   ]
  },
  {
   "cell_type": "code",
   "execution_count": 388,
   "id": "53226c97-62d7-459e-8686-829b30e09ea3",
   "metadata": {},
   "outputs": [
    {
     "data": {
      "text/plain": [
       "Unnamed: 0                                             NaN\n",
       "Unnamed: 1                                             NaN\n",
       "Unnamed: 2                                             NaN\n",
       "CATEGORIA                                       MUSC - C/P\n",
       "MODALIDADE                     A - MUSCULAÇÃO COM PERSONAL\n",
       "DIA DA SEMANA                      seg, ter, qua, qui, sex\n",
       "HORÁRIO                                           22:00:00\n",
       "AUX.1                                                22:00\n",
       "TURNO                                                NOITE\n",
       "AUX 2                  A - MUSCULAÇÃO COM PERSONAL - 22:00\n",
       "PROFESSOR                                            LUCAS\n",
       "AUX 3                  A - MUSCULAÇÃO COM PERSONAL - LUCAS\n",
       "2024-10-01 00:00:00                                      0\n",
       "2024-10-02 00:00:00                                      0\n",
       "2024-10-03 00:00:00                                      0\n",
       "2024-10-04 00:00:00                                      0\n",
       "2024-10-07 00:00:00                                      0\n",
       "2024-10-08 00:00:00                                      1\n",
       "2024-10-09 00:00:00                                    NaN\n",
       "2024-10-10 00:00:00                                      1\n",
       "2024-10-11 00:00:00                                      0\n",
       "2024-10-14 00:00:00                                      0\n",
       "2024-10-15 00:00:00                                      1\n",
       "2024-10-16 00:00:00                                      0\n",
       "2024-10-17 00:00:00                                      2\n",
       "2024-10-18 00:00:00                                    NaN\n",
       "2024-10-21 00:00:00                                      2\n",
       "2024-10-22 00:00:00                                      1\n",
       "2024-10-23 00:00:00                                      0\n",
       "2024-10-24 00:00:00                                      1\n",
       "2024-10-25 00:00:00                                      0\n",
       "2024-10-28 00:00:00                                      0\n",
       "2024-10-29 00:00:00                                      1\n",
       "2024-10-30 00:00:00                                      0\n",
       "2024-10-31 00:00:00                                    NaN\n",
       "Aulas/mês                                               20\n",
       "Média                                                  0.5\n",
       "Alunos/professor                                       NaN\n",
       "Ocupação Máxima                                        NaN\n",
       "Professor                                              0.0\n",
       "Name: 105, dtype: object"
      ]
     },
     "execution_count": 388,
     "metadata": {},
     "output_type": "execute_result"
    }
   ],
   "source": [
    "dataJOQ.iloc[-1]"
   ]
  },
  {
   "cell_type": "code",
   "execution_count": null,
   "id": "27277fd3-7834-4db7-8c4f-8fa291d4c00a",
   "metadata": {},
   "outputs": [],
   "source": []
  },
  {
   "cell_type": "code",
   "execution_count": null,
   "id": "d989bf1f-876b-4d21-b4ce-4645e044edfb",
   "metadata": {},
   "outputs": [],
   "source": []
  },
  {
   "cell_type": "code",
   "execution_count": null,
   "id": "b9cdf5c1-43f4-457e-a8a2-c9328de53676",
   "metadata": {},
   "outputs": [],
   "source": []
  },
  {
   "cell_type": "code",
   "execution_count": 389,
   "id": "92e2bcf6-885c-4fec-8eac-2b8f85b45237",
   "metadata": {},
   "outputs": [],
   "source": [
    "dropColumns = [\n",
    "'Unnamed: 0', 'Unnamed: 1', 'Unnamed: 2', 'HORÁRIO',\n",
    "'AUX 2', 'AUX 3']"
   ]
  },
  {
   "cell_type": "code",
   "execution_count": 390,
   "id": "912a9410-6018-4448-994b-b1b1be21aac3",
   "metadata": {},
   "outputs": [],
   "source": [
    "dataJOQ.drop(columns=dropColumns, inplace=True)"
   ]
  },
  {
   "cell_type": "markdown",
   "id": "00dfa1f9-a414-44e4-b708-d9f76b869d09",
   "metadata": {},
   "source": [
    "- PRECISAMOS RENOMEAR A COLUNA AUX.1 COMO HORARIO"
   ]
  },
  {
   "cell_type": "code",
   "execution_count": 391,
   "id": "ab90ead4-2019-4d16-af6d-d95fa9e0408c",
   "metadata": {},
   "outputs": [],
   "source": [
    "dataJOQ.rename(columns={'AUX.1': 'HORÁRIO'}, inplace=True)"
   ]
  },
  {
   "cell_type": "code",
   "execution_count": null,
   "id": "4d673d79-d0dc-4f15-b8a1-0e789349d8b8",
   "metadata": {},
   "outputs": [],
   "source": []
  },
  {
   "cell_type": "code",
   "execution_count": null,
   "id": "10cde29a-3bc7-4ca7-b2fb-4f29fb55bdc0",
   "metadata": {},
   "outputs": [],
   "source": []
  },
  {
   "cell_type": "code",
   "execution_count": null,
   "id": "0ca0e6c4-7a0c-4a81-8d5b-158227b63781",
   "metadata": {},
   "outputs": [],
   "source": []
  },
  {
   "cell_type": "markdown",
   "id": "2306cda3-0107-4917-834a-f4bec797792b",
   "metadata": {},
   "source": [
    "### 2 PASSO: Renomeando strings de datas, para que o pandas possa aceitar como colunas"
   ]
  },
  {
   "cell_type": "code",
   "execution_count": 392,
   "id": "796a0d24-356a-49a7-90f2-0950fc9c63ee",
   "metadata": {},
   "outputs": [
    {
     "name": "stdout",
     "output_type": "stream",
     "text": [
      "CATEGORIA\n",
      "MODALIDADE\n",
      "DIA DA SEMANA\n",
      "HORÁRIO\n",
      "TURNO\n",
      "PROFESSOR\n",
      "2024-10-01 00:00:00\n",
      "2024-10-02 00:00:00\n",
      "2024-10-03 00:00:00\n",
      "2024-10-04 00:00:00\n",
      "2024-10-07 00:00:00\n",
      "2024-10-08 00:00:00\n",
      "2024-10-09 00:00:00\n",
      "2024-10-10 00:00:00\n",
      "2024-10-11 00:00:00\n",
      "2024-10-14 00:00:00\n",
      "2024-10-15 00:00:00\n",
      "2024-10-16 00:00:00\n",
      "2024-10-17 00:00:00\n",
      "2024-10-18 00:00:00\n",
      "2024-10-21 00:00:00\n",
      "2024-10-22 00:00:00\n",
      "2024-10-23 00:00:00\n",
      "2024-10-24 00:00:00\n",
      "2024-10-25 00:00:00\n",
      "2024-10-28 00:00:00\n",
      "2024-10-29 00:00:00\n",
      "2024-10-30 00:00:00\n",
      "2024-10-31 00:00:00\n",
      "Aulas/mês\n",
      "Média\n",
      "Alunos/professor\n",
      "Ocupação Máxima\n",
      "Professor\n"
     ]
    }
   ],
   "source": [
    "for columns in dataJOQ.columns:\n",
    "    print(columns)"
   ]
  },
  {
   "cell_type": "code",
   "execution_count": 393,
   "id": "a5222e6b-d9cb-4baa-bf7d-e331e73118bf",
   "metadata": {},
   "outputs": [],
   "source": [
    "dataJOQ.columns = [\n",
    "'CATEGORIA',\n",
    "'MODALIDADE',\n",
    "'DIA DA SEMANA',\n",
    "'HORÁRIO',\n",
    "'TURNO',\n",
    "'PROFESSOR',\n",
    "'2024-10-01 00:00:00',\n",
    "'2024-10-02 00:00:00',\n",
    "'2024-10-03 00:00:00',\n",
    "'2024-10-04 00:00:00',\n",
    "'2024-10-07 00:00:00',\n",
    "'2024-10-08 00:00:00',\n",
    "'2024-10-09 00:00:00',\n",
    "'2024-10-10 00:00:00',\n",
    "'2024-10-11 00:00:00',\n",
    "'2024-10-14 00:00:00',\n",
    "'2024-10-15 00:00:00',\n",
    "'2024-10-16 00:00:00',\n",
    "'2024-10-17 00:00:00',\n",
    "'2024-10-18 00:00:00',\n",
    "'2024-10-21 00:00:00',\n",
    "'2024-10-22 00:00:00',\n",
    "'2024-10-23 00:00:00',\n",
    "'2024-10-24 00:00:00',\n",
    "'2024-10-25 00:00:00',\n",
    "'2024-10-28 00:00:00',\n",
    "'2024-10-29 00:00:00',\n",
    "'2024-10-30 00:00:00',\n",
    "'2024-10-31 00:00:00',\n",
    "'Aulas/mês',\n",
    "'Média',\n",
    "'Alunos/professor',\n",
    "'Ocupação Máxima',\n",
    "'Professor']"
   ]
  },
  {
   "cell_type": "code",
   "execution_count": 394,
   "id": "a42278d6-e062-4d7d-976c-04c9c2888613",
   "metadata": {},
   "outputs": [
    {
     "data": {
      "text/plain": [
       "Index(['CATEGORIA', 'MODALIDADE', 'DIA DA SEMANA', 'HORÁRIO', 'TURNO',\n",
       "       'PROFESSOR', '2024-10-01 00:00:00', '2024-10-02 00:00:00',\n",
       "       '2024-10-03 00:00:00', '2024-10-04 00:00:00', '2024-10-07 00:00:00',\n",
       "       '2024-10-08 00:00:00', '2024-10-09 00:00:00', '2024-10-10 00:00:00',\n",
       "       '2024-10-11 00:00:00', '2024-10-14 00:00:00', '2024-10-15 00:00:00',\n",
       "       '2024-10-16 00:00:00', '2024-10-17 00:00:00', '2024-10-18 00:00:00',\n",
       "       '2024-10-21 00:00:00', '2024-10-22 00:00:00', '2024-10-23 00:00:00',\n",
       "       '2024-10-24 00:00:00', '2024-10-25 00:00:00', '2024-10-28 00:00:00',\n",
       "       '2024-10-29 00:00:00', '2024-10-30 00:00:00', '2024-10-31 00:00:00',\n",
       "       'Aulas/mês', 'Média', 'Alunos/professor', 'Ocupação Máxima',\n",
       "       'Professor'],\n",
       "      dtype='object')"
      ]
     },
     "execution_count": 394,
     "metadata": {},
     "output_type": "execute_result"
    }
   ],
   "source": [
    "dataJOQ.columns"
   ]
  },
  {
   "cell_type": "code",
   "execution_count": null,
   "id": "a26b7603-8ed9-4f14-a772-c08be10e4777",
   "metadata": {},
   "outputs": [],
   "source": []
  },
  {
   "cell_type": "code",
   "execution_count": null,
   "id": "e9d9bfe9-e4f6-49e3-a72e-f89a0d06ba9f",
   "metadata": {},
   "outputs": [],
   "source": []
  },
  {
   "cell_type": "code",
   "execution_count": null,
   "id": "02c94429-4593-47a7-be31-95c5cab0fbb3",
   "metadata": {},
   "outputs": [],
   "source": []
  },
  {
   "cell_type": "markdown",
   "id": "69fe6524-1172-4228-97ca-231413366491",
   "metadata": {},
   "source": [
    "### PASSO 3: Escolhendo colunas com o nome de 'datas', para renomear pelo o tipo dia, mês e ano. e removendo os 00 de horas"
   ]
  },
  {
   "cell_type": "code",
   "execution_count": 395,
   "id": "8c696286-c244-4869-b3f6-98b5877ff45e",
   "metadata": {},
   "outputs": [],
   "source": [
    "colunas = [\n",
    "'2024-10-01 00:00:00',\n",
    "'2024-10-02 00:00:00',\n",
    "'2024-10-03 00:00:00',\n",
    "'2024-10-04 00:00:00',\n",
    "'2024-10-07 00:00:00',\n",
    "'2024-10-08 00:00:00',\n",
    "'2024-10-09 00:00:00',\n",
    "'2024-10-10 00:00:00',\n",
    "'2024-10-11 00:00:00',\n",
    "'2024-10-14 00:00:00',\n",
    "'2024-10-15 00:00:00',\n",
    "'2024-10-16 00:00:00',\n",
    "'2024-10-17 00:00:00',\n",
    "'2024-10-18 00:00:00',\n",
    "'2024-10-21 00:00:00',\n",
    "'2024-10-22 00:00:00',\n",
    "'2024-10-23 00:00:00',\n",
    "'2024-10-24 00:00:00',\n",
    "'2024-10-25 00:00:00',\n",
    "'2024-10-28 00:00:00',\n",
    "'2024-10-29 00:00:00',\n",
    "'2024-10-30 00:00:00',\n",
    "'2024-10-31 00:00:00']"
   ]
  },
  {
   "cell_type": "code",
   "execution_count": 396,
   "id": "5c1196a1-026e-45e7-8532-98e2abcd1786",
   "metadata": {},
   "outputs": [],
   "source": [
    "novas_colunas_JOQ = []"
   ]
  },
  {
   "cell_type": "code",
   "execution_count": 397,
   "id": "c62f0018-0c31-43da-b814-de0ff3bbb15c",
   "metadata": {},
   "outputs": [],
   "source": [
    "for columns in colunas:\n",
    "    # Remove a parte da hora\n",
    "    data_sem_hora = columns.split(' ')[0]\n",
    "    \n",
    "    # Formata para o formato DD-MM-YYYY\n",
    "    ano, mes, dia = data_sem_hora.split('-')\n",
    "    novo_nome = f'{dia}-{mes}-{ano}'\n",
    "    novas_colunas_JOQ.append(novo_nome)"
   ]
  },
  {
   "cell_type": "code",
   "execution_count": 398,
   "id": "1adada7c-bd57-4f53-8d02-d7f510db173f",
   "metadata": {},
   "outputs": [
    {
     "data": {
      "text/plain": [
       "['01-10-2024',\n",
       " '02-10-2024',\n",
       " '03-10-2024',\n",
       " '04-10-2024',\n",
       " '07-10-2024',\n",
       " '08-10-2024',\n",
       " '09-10-2024',\n",
       " '10-10-2024',\n",
       " '11-10-2024',\n",
       " '14-10-2024',\n",
       " '15-10-2024',\n",
       " '16-10-2024',\n",
       " '17-10-2024',\n",
       " '18-10-2024',\n",
       " '21-10-2024',\n",
       " '22-10-2024',\n",
       " '23-10-2024',\n",
       " '24-10-2024',\n",
       " '25-10-2024',\n",
       " '28-10-2024',\n",
       " '29-10-2024',\n",
       " '30-10-2024',\n",
       " '31-10-2024']"
      ]
     },
     "execution_count": 398,
     "metadata": {},
     "output_type": "execute_result"
    }
   ],
   "source": [
    "novas_colunas_JOQ"
   ]
  },
  {
   "cell_type": "code",
   "execution_count": null,
   "id": "77e2b6a1-b049-4660-b73e-6b6f88367d05",
   "metadata": {},
   "outputs": [],
   "source": []
  },
  {
   "cell_type": "code",
   "execution_count": null,
   "id": "ce43af1c-4b58-48c3-9d40-f52394516f8b",
   "metadata": {},
   "outputs": [],
   "source": []
  },
  {
   "cell_type": "code",
   "execution_count": null,
   "id": "dcc7006c-a897-4b31-ba23-5e6e768fafeb",
   "metadata": {},
   "outputs": [],
   "source": []
  },
  {
   "cell_type": "markdown",
   "id": "8ed72960-8494-4a65-929c-00050a481e16",
   "metadata": {},
   "source": [
    "### PASSO 4 renomeando colunas e acrescentando o novo formato "
   ]
  },
  {
   "cell_type": "markdown",
   "id": "c5b4c990-7327-4deb-aa18-0a1e132e48f0",
   "metadata": {},
   "source": [
    "copie as colunas que escolheu para renomear, e cole o formato novo no lugar das velhas"
   ]
  },
  {
   "cell_type": "code",
   "execution_count": 399,
   "id": "1c612b77-4cfa-482f-87e2-1b14000e3650",
   "metadata": {},
   "outputs": [],
   "source": [
    "# Adicionando as datas formatadas as colunas, copiando e colando"
   ]
  },
  {
   "cell_type": "code",
   "execution_count": 400,
   "id": "2aba338d-2d30-4ed6-ab91-37c14cad33bc",
   "metadata": {},
   "outputs": [
    {
     "name": "stdout",
     "output_type": "stream",
     "text": [
      "CATEGORIA\n",
      "MODALIDADE\n",
      "DIA DA SEMANA\n",
      "HORÁRIO\n",
      "TURNO\n",
      "PROFESSOR\n",
      "2024-10-01 00:00:00\n",
      "2024-10-02 00:00:00\n",
      "2024-10-03 00:00:00\n",
      "2024-10-04 00:00:00\n",
      "2024-10-07 00:00:00\n",
      "2024-10-08 00:00:00\n",
      "2024-10-09 00:00:00\n",
      "2024-10-10 00:00:00\n",
      "2024-10-11 00:00:00\n",
      "2024-10-14 00:00:00\n",
      "2024-10-15 00:00:00\n",
      "2024-10-16 00:00:00\n",
      "2024-10-17 00:00:00\n",
      "2024-10-18 00:00:00\n",
      "2024-10-21 00:00:00\n",
      "2024-10-22 00:00:00\n",
      "2024-10-23 00:00:00\n",
      "2024-10-24 00:00:00\n",
      "2024-10-25 00:00:00\n",
      "2024-10-28 00:00:00\n",
      "2024-10-29 00:00:00\n",
      "2024-10-30 00:00:00\n",
      "2024-10-31 00:00:00\n",
      "Aulas/mês\n",
      "Média\n",
      "Alunos/professor\n",
      "Ocupação Máxima\n",
      "Professor\n"
     ]
    }
   ],
   "source": [
    "for columns in dataJOQ.columns:\n",
    "    print (columns)"
   ]
  },
  {
   "cell_type": "code",
   "execution_count": 401,
   "id": "55b044e6-8227-44c6-9bd3-bb67efd721c6",
   "metadata": {},
   "outputs": [],
   "source": [
    "dataJOQ.columns = [\n",
    "'CATEGORIA',\n",
    "'MODALIDADE',\n",
    "'DIA DA SEMANA',\n",
    "'HORÁRIO',\n",
    "'TURNO',\n",
    "'PROFESSOR',\n",
    "'01-10-2024',\n",
    "'02-10-2024',\n",
    "'03-10-2024',\n",
    "'04-10-2024',\n",
    "'07-10-2024',\n",
    "'08-10-2024',\n",
    "'09-10-2024',\n",
    "'10-10-2024',\n",
    "'11-10-2024',\n",
    "'14-10-2024',\n",
    "'15-10-2024',\n",
    "'16-10-2024',\n",
    "'17-10-2024',\n",
    "'18-10-2024',\n",
    "'21-10-2024',\n",
    "'22-10-2024',\n",
    "'23-10-2024',\n",
    "'24-10-2024',\n",
    "'25-10-2024',\n",
    "'28-10-2024',\n",
    "'29-10-2024',\n",
    "'30-10-2024',\n",
    "'31-10-2024', \n",
    "'Aulas/mês',\n",
    "'Média',\n",
    "'Alunos/professor',\n",
    "'Ocupação Máxima',\n",
    "'Professor']"
   ]
  },
  {
   "cell_type": "code",
   "execution_count": 402,
   "id": "7fdc1de4-7a0a-44bd-8100-51de1087849e",
   "metadata": {},
   "outputs": [
    {
     "data": {
      "text/plain": [
       "Index(['CATEGORIA', 'MODALIDADE', 'DIA DA SEMANA', 'HORÁRIO', 'TURNO',\n",
       "       'PROFESSOR', '01-10-2024', '02-10-2024', '03-10-2024', '04-10-2024',\n",
       "       '07-10-2024', '08-10-2024', '09-10-2024', '10-10-2024', '11-10-2024',\n",
       "       '14-10-2024', '15-10-2024', '16-10-2024', '17-10-2024', '18-10-2024',\n",
       "       '21-10-2024', '22-10-2024', '23-10-2024', '24-10-2024', '25-10-2024',\n",
       "       '28-10-2024', '29-10-2024', '30-10-2024', '31-10-2024', 'Aulas/mês',\n",
       "       'Média', 'Alunos/professor', 'Ocupação Máxima', 'Professor'],\n",
       "      dtype='object')"
      ]
     },
     "execution_count": 402,
     "metadata": {},
     "output_type": "execute_result"
    }
   ],
   "source": [
    "dataJOQ.columns"
   ]
  },
  {
   "cell_type": "code",
   "execution_count": null,
   "id": "2880ec64-d969-4931-9ee5-145d7356d2f6",
   "metadata": {},
   "outputs": [],
   "source": []
  },
  {
   "cell_type": "code",
   "execution_count": null,
   "id": "e45844c7-338c-45b9-bbad-69630941ee64",
   "metadata": {},
   "outputs": [],
   "source": []
  },
  {
   "cell_type": "code",
   "execution_count": null,
   "id": "fb637e71-e354-48a7-a696-a84c1f044e36",
   "metadata": {},
   "outputs": [],
   "source": []
  },
  {
   "cell_type": "markdown",
   "id": "abc5638b-e9b9-481d-bd4d-c47e1514f28e",
   "metadata": {},
   "source": [
    "### 5 PASSO: Usar o Loop for para substitituir os valores das frequencia de 'x' e 'X' por zero, com o método do pd.to_numeric) "
   ]
  },
  {
   "cell_type": "code",
   "execution_count": 403,
   "id": "5c7fe218-040d-43bf-be0c-f477ae4b51ea",
   "metadata": {},
   "outputs": [],
   "source": [
    "colunas = [\n",
    "'01-10-2024',\n",
    "'02-10-2024',\n",
    "'03-10-2024',\n",
    "'04-10-2024',\n",
    "'07-10-2024',\n",
    "'08-10-2024',\n",
    "'09-10-2024',\n",
    "'10-10-2024',\n",
    "'11-10-2024',\n",
    "'14-10-2024',\n",
    "'15-10-2024',\n",
    "'16-10-2024',\n",
    "'17-10-2024',\n",
    "'18-10-2024',\n",
    "'21-10-2024',\n",
    "'22-10-2024',\n",
    "'23-10-2024',\n",
    "'24-10-2024',\n",
    "'25-10-2024',\n",
    "'28-10-2024',\n",
    "'29-10-2024',\n",
    "'30-10-2024',\n",
    "'31-10-2024'\n",
    "]"
   ]
  },
  {
   "cell_type": "markdown",
   "id": "d2173535-9672-4e4e-8827-7a8b6c203c21",
   "metadata": {},
   "source": [
    "Fazendo a limpeza profunda, formatando valores para numeros, preenchendo com zeros os nulos e transformando em inteiros"
   ]
  },
  {
   "cell_type": "code",
   "execution_count": 404,
   "id": "bbc0bd3b-90ca-4168-b069-bda40504372b",
   "metadata": {},
   "outputs": [],
   "source": [
    "for columns in colunas:\n",
    "    # dataMES[columns] = pd.to_numeric(dataMES[columns], errors='coerce')\n",
    "    dataJOQ[columns] = pd.to_numeric(dataJOQ[columns], errors='coerce').fillna(0).astype(int)"
   ]
  },
  {
   "cell_type": "code",
   "execution_count": null,
   "id": "4239154c-2d11-4182-8ca7-ea32de380820",
   "metadata": {},
   "outputs": [],
   "source": []
  },
  {
   "cell_type": "code",
   "execution_count": null,
   "id": "04aae5a5-9faa-4ebf-b20b-c3ad96c363b2",
   "metadata": {},
   "outputs": [],
   "source": []
  },
  {
   "cell_type": "code",
   "execution_count": null,
   "id": "123fc75d-3534-4ca0-865b-6719cd4bc2e9",
   "metadata": {},
   "outputs": [],
   "source": []
  },
  {
   "cell_type": "markdown",
   "id": "55748776-8f69-4728-9ae5-76306b817bb1",
   "metadata": {},
   "source": [
    "### PASSO 6: MELT derretendo as colunas em formato de datas"
   ]
  },
  {
   "cell_type": "markdown",
   "id": "ead0a981-c46a-409c-af7b-dfed4df7c68d",
   "metadata": {},
   "source": [
    "o MELT ele pega as colunas que estão na horizontal e cria uma coluna de categorias, e depois ele cria outra coluna com os valores dessas colunas que foram transformadas em dados categóricos"
   ]
  },
  {
   "cell_type": "code",
   "execution_count": 405,
   "id": "66c4ec3e-38bd-40ca-92f8-e9178d1e11f4",
   "metadata": {},
   "outputs": [],
   "source": [
    "colunas_para_melt = [\n",
    "'01-10-2024',\n",
    "'02-10-2024',\n",
    "'03-10-2024',\n",
    "'04-10-2024',\n",
    "'07-10-2024',\n",
    "'08-10-2024',\n",
    "'09-10-2024',\n",
    "'10-10-2024',\n",
    "'11-10-2024',\n",
    "'14-10-2024',\n",
    "'15-10-2024',\n",
    "'16-10-2024',\n",
    "'17-10-2024',\n",
    "'18-10-2024',\n",
    "'21-10-2024',\n",
    "'22-10-2024',\n",
    "'23-10-2024',\n",
    "'24-10-2024',\n",
    "'25-10-2024',\n",
    "'28-10-2024',\n",
    "'29-10-2024',\n",
    "'30-10-2024',\n",
    "'31-10-2024']"
   ]
  },
  {
   "cell_type": "code",
   "execution_count": null,
   "id": "420a8353-b34e-4747-bcde-382240fca735",
   "metadata": {},
   "outputs": [],
   "source": []
  },
  {
   "cell_type": "code",
   "execution_count": null,
   "id": "8a1e0131-b46f-441d-a524-e7c71613befe",
   "metadata": {},
   "outputs": [],
   "source": []
  },
  {
   "cell_type": "code",
   "execution_count": null,
   "id": "42eb944d-b0c5-4d3a-a224-a89e5e25248c",
   "metadata": {},
   "outputs": [],
   "source": []
  },
  {
   "cell_type": "markdown",
   "id": "1a9b335a-135d-4754-a04d-6bdb44a7e42e",
   "metadata": {},
   "source": [
    "#### Indentificando as colunas que Eu quero manter em meu dataframe"
   ]
  },
  {
   "cell_type": "code",
   "execution_count": 406,
   "id": "2e8b8bb4-5784-42a9-8ed5-513c743772fa",
   "metadata": {},
   "outputs": [],
   "source": [
    "# Identifica as colunas que você quer manter como identificadoras (id_vars)\n",
    "# São as colunas que não serão \"unpivoted\"\n",
    "id_vars_cols = [columns for columns in dataJOQ.columns if columns not in colunas_para_melt]"
   ]
  },
  {
   "cell_type": "code",
   "execution_count": null,
   "id": "da7fb719-ba60-43e0-a449-8f8faacee075",
   "metadata": {},
   "outputs": [],
   "source": []
  },
  {
   "cell_type": "code",
   "execution_count": null,
   "id": "5d368e20-2658-4257-9829-650c9085e19d",
   "metadata": {},
   "outputs": [],
   "source": []
  },
  {
   "cell_type": "code",
   "execution_count": null,
   "id": "c9694bdf-38f5-4606-a348-d284de6bd926",
   "metadata": {},
   "outputs": [],
   "source": []
  },
  {
   "cell_type": "code",
   "execution_count": 407,
   "id": "58bbf645-809b-4401-bab0-4539870b9674",
   "metadata": {},
   "outputs": [],
   "source": [
    "dataJOQ_melted = pd.melt(dataJOQ,\n",
    "                      id_vars=id_vars_cols, #colunas que Eu deixei, que ficaram.\n",
    "                      value_vars=colunas_para_melt, #colunas que vão se transformar.\n",
    "                      var_name='Dias de Aulas', # nome da coluna categorica\n",
    "                      value_name='Frequencia de Alunos') # nome da coluna de valores"
   ]
  },
  {
   "cell_type": "code",
   "execution_count": 408,
   "id": "1b918c16-c3c5-47ad-834c-aafced5850aa",
   "metadata": {},
   "outputs": [
    {
     "data": {
      "text/html": [
       "<div>\n",
       "<style scoped>\n",
       "    .dataframe tbody tr th:only-of-type {\n",
       "        vertical-align: middle;\n",
       "    }\n",
       "\n",
       "    .dataframe tbody tr th {\n",
       "        vertical-align: top;\n",
       "    }\n",
       "\n",
       "    .dataframe thead th {\n",
       "        text-align: right;\n",
       "    }\n",
       "</style>\n",
       "<table border=\"1\" class=\"dataframe\">\n",
       "  <thead>\n",
       "    <tr style=\"text-align: right;\">\n",
       "      <th></th>\n",
       "      <th>CATEGORIA</th>\n",
       "      <th>MODALIDADE</th>\n",
       "      <th>DIA DA SEMANA</th>\n",
       "      <th>HORÁRIO</th>\n",
       "      <th>TURNO</th>\n",
       "      <th>PROFESSOR</th>\n",
       "      <th>Aulas/mês</th>\n",
       "      <th>Média</th>\n",
       "      <th>Alunos/professor</th>\n",
       "      <th>Ocupação Máxima</th>\n",
       "      <th>Professor</th>\n",
       "      <th>Dias de Aulas</th>\n",
       "      <th>Frequencia de Alunos</th>\n",
       "    </tr>\n",
       "  </thead>\n",
       "  <tbody>\n",
       "    <tr>\n",
       "      <th>0</th>\n",
       "      <td>QUADRA</td>\n",
       "      <td>BEACH TENIS INICIANTE</td>\n",
       "      <td>seg, ter, qua, qui, sex</td>\n",
       "      <td>06:00</td>\n",
       "      <td>MANHÃ</td>\n",
       "      <td>ANTONIO RYAN</td>\n",
       "      <td>23</td>\n",
       "      <td>0.391304</td>\n",
       "      <td>NaN</td>\n",
       "      <td>NaN</td>\n",
       "      <td>0.0</td>\n",
       "      <td>01-10-2024</td>\n",
       "      <td>0</td>\n",
       "    </tr>\n",
       "    <tr>\n",
       "      <th>1</th>\n",
       "      <td>ADULTO</td>\n",
       "      <td>CROSSFIT</td>\n",
       "      <td>seg, ter, qua, qui, sex</td>\n",
       "      <td>06:00</td>\n",
       "      <td>MANHÃ</td>\n",
       "      <td>GERALDO</td>\n",
       "      <td>23</td>\n",
       "      <td>6.826087</td>\n",
       "      <td>NaN</td>\n",
       "      <td>NaN</td>\n",
       "      <td>0.0</td>\n",
       "      <td>01-10-2024</td>\n",
       "      <td>5</td>\n",
       "    </tr>\n",
       "  </tbody>\n",
       "</table>\n",
       "</div>"
      ],
      "text/plain": [
       "  CATEGORIA             MODALIDADE            DIA DA SEMANA HORÁRIO  TURNO  \\\n",
       "0    QUADRA  BEACH TENIS INICIANTE  seg, ter, qua, qui, sex   06:00  MANHÃ   \n",
       "1    ADULTO               CROSSFIT  seg, ter, qua, qui, sex   06:00  MANHÃ   \n",
       "\n",
       "      PROFESSOR  Aulas/mês     Média  Alunos/professor  Ocupação Máxima  \\\n",
       "0  ANTONIO RYAN         23  0.391304               NaN              NaN   \n",
       "1       GERALDO         23  6.826087               NaN              NaN   \n",
       "\n",
       "   Professor Dias de Aulas  Frequencia de Alunos  \n",
       "0        0.0    01-10-2024                     0  \n",
       "1        0.0    01-10-2024                     5  "
      ]
     },
     "execution_count": 408,
     "metadata": {},
     "output_type": "execute_result"
    }
   ],
   "source": [
    "dataJOQ_melted.head(2)"
   ]
  },
  {
   "cell_type": "code",
   "execution_count": 409,
   "id": "d03ee4b9-6d9a-465a-983d-028cca3c7d7d",
   "metadata": {},
   "outputs": [
    {
     "data": {
      "text/plain": [
       "27836"
      ]
     },
     "execution_count": 409,
     "metadata": {},
     "output_type": "execute_result"
    }
   ],
   "source": [
    "dataJOQ_melted['Frequencia de Alunos'].sum()"
   ]
  },
  {
   "cell_type": "code",
   "execution_count": null,
   "id": "fa743245-14ca-4518-b260-b8a1655c8705",
   "metadata": {},
   "outputs": [],
   "source": []
  },
  {
   "cell_type": "markdown",
   "id": "170bab9c-15e1-4901-96f8-08ee9e9eb2ca",
   "metadata": {},
   "source": [
    "___"
   ]
  },
  {
   "cell_type": "code",
   "execution_count": null,
   "id": "2e50d305-796a-4622-b861-ceca0f96ed11",
   "metadata": {},
   "outputs": [],
   "source": []
  },
  {
   "cell_type": "code",
   "execution_count": null,
   "id": "f2f30927-fed7-4956-8e8a-f98c40d95478",
   "metadata": {},
   "outputs": [],
   "source": []
  },
  {
   "cell_type": "code",
   "execution_count": null,
   "id": "e66b7cf3-0804-459a-9985-8158d038f953",
   "metadata": {},
   "outputs": [],
   "source": []
  },
  {
   "cell_type": "markdown",
   "id": "57386074-1157-4b1b-a455-05c0202a5b3f",
   "metadata": {},
   "source": [
    "___"
   ]
  },
  {
   "cell_type": "markdown",
   "id": "4b690f6f-10ef-4fdb-9a39-c280e5526444",
   "metadata": {},
   "source": [
    "## RIOMAR [RIOMAR] - PREPROCESSING 17"
   ]
  },
  {
   "cell_type": "code",
   "execution_count": 410,
   "id": "0894e763-8420-4ce2-8e93-a767a96add40",
   "metadata": {},
   "outputs": [],
   "source": [
    "data17 = pd.read_excel('3.2 Mapa de Ocupação - OUT 2024.xlsx', sheet_name='RIOMAR', skiprows=1, nrows=211)"
   ]
  },
  {
   "cell_type": "code",
   "execution_count": 411,
   "id": "44e5fb58-520e-4cd1-9b3a-a92cf75361cf",
   "metadata": {},
   "outputs": [],
   "source": [
    "dataRIOMAR = data17.copy()"
   ]
  },
  {
   "cell_type": "code",
   "execution_count": null,
   "id": "28645bf0-97f2-47c2-ae67-7a3b791d7921",
   "metadata": {},
   "outputs": [],
   "source": []
  },
  {
   "cell_type": "code",
   "execution_count": null,
   "id": "90fef904-627f-4390-ab14-5990fb5b36b9",
   "metadata": {},
   "outputs": [],
   "source": []
  },
  {
   "cell_type": "code",
   "execution_count": null,
   "id": "927da1a6-011d-4aad-9dd6-2051ec8ade7a",
   "metadata": {},
   "outputs": [],
   "source": []
  },
  {
   "cell_type": "markdown",
   "id": "4d470aee-46ed-44c7-bd21-4759d6516e20",
   "metadata": {},
   "source": [
    "### 1 PASSO: Removendo colunas desnecessárias"
   ]
  },
  {
   "cell_type": "code",
   "execution_count": 412,
   "id": "68f56be1-7d6e-4f82-8a9c-be41d7e1bd60",
   "metadata": {},
   "outputs": [
    {
     "data": {
      "text/html": [
       "<div>\n",
       "<style scoped>\n",
       "    .dataframe tbody tr th:only-of-type {\n",
       "        vertical-align: middle;\n",
       "    }\n",
       "\n",
       "    .dataframe tbody tr th {\n",
       "        vertical-align: top;\n",
       "    }\n",
       "\n",
       "    .dataframe thead th {\n",
       "        text-align: right;\n",
       "    }\n",
       "</style>\n",
       "<table border=\"1\" class=\"dataframe\">\n",
       "  <thead>\n",
       "    <tr style=\"text-align: right;\">\n",
       "      <th></th>\n",
       "      <th>Unnamed: 0</th>\n",
       "      <th>CATEGORIA</th>\n",
       "      <th>MODALIDADE</th>\n",
       "      <th>DIA DA SEMANA</th>\n",
       "      <th>HORÁRIO</th>\n",
       "      <th>TURNO</th>\n",
       "      <th>AUX 1</th>\n",
       "      <th>AUX 2</th>\n",
       "      <th>PROFESSOR</th>\n",
       "      <th>AUX 3</th>\n",
       "      <th>...</th>\n",
       "      <th>2024-10-25 00:00:00</th>\n",
       "      <th>2024-10-28 00:00:00</th>\n",
       "      <th>2024-10-29 00:00:00</th>\n",
       "      <th>2024-10-30 00:00:00</th>\n",
       "      <th>2024-10-31 00:00:00</th>\n",
       "      <th>Média alunos p/ professor</th>\n",
       "      <th>Média</th>\n",
       "      <th>Alunos/professor</th>\n",
       "      <th>Ocupação Máxima</th>\n",
       "      <th>Professor</th>\n",
       "    </tr>\n",
       "  </thead>\n",
       "  <tbody>\n",
       "    <tr>\n",
       "      <th>0</th>\n",
       "      <td>NaN</td>\n",
       "      <td>ADULTO</td>\n",
       "      <td>GREENBIKE</td>\n",
       "      <td>ter, qui</td>\n",
       "      <td>06:00:00</td>\n",
       "      <td>06:00</td>\n",
       "      <td>MANHÃ</td>\n",
       "      <td>GREENBIKE - 06:00</td>\n",
       "      <td>ALEXIS</td>\n",
       "      <td>GREENBIKE - ALEXIS</td>\n",
       "      <td>...</td>\n",
       "      <td>x</td>\n",
       "      <td>x</td>\n",
       "      <td>5</td>\n",
       "      <td>x</td>\n",
       "      <td>7</td>\n",
       "      <td>9.0</td>\n",
       "      <td>5.111111</td>\n",
       "      <td>NaN</td>\n",
       "      <td>NaN</td>\n",
       "      <td>0.0</td>\n",
       "    </tr>\n",
       "    <tr>\n",
       "      <th>1</th>\n",
       "      <td>NaN</td>\n",
       "      <td>ADULTO</td>\n",
       "      <td>CROSSFIT</td>\n",
       "      <td>seg, ter, qua, qui, sex</td>\n",
       "      <td>06:00:00</td>\n",
       "      <td>06:00</td>\n",
       "      <td>MANHÃ</td>\n",
       "      <td>CROSSFIT - 06:00</td>\n",
       "      <td>VICTOR</td>\n",
       "      <td>CROSSFIT - VICTOR</td>\n",
       "      <td>...</td>\n",
       "      <td>3</td>\n",
       "      <td>3</td>\n",
       "      <td>9</td>\n",
       "      <td>4</td>\n",
       "      <td>8</td>\n",
       "      <td>21.0</td>\n",
       "      <td>5.333333</td>\n",
       "      <td>NaN</td>\n",
       "      <td>NaN</td>\n",
       "      <td>0.0</td>\n",
       "    </tr>\n",
       "  </tbody>\n",
       "</table>\n",
       "<p>2 rows × 38 columns</p>\n",
       "</div>"
      ],
      "text/plain": [
       "  Unnamed: 0 CATEGORIA MODALIDADE            DIA DA SEMANA   HORÁRIO  TURNO  \\\n",
       "0        NaN    ADULTO  GREENBIKE                 ter, qui  06:00:00  06:00   \n",
       "1        NaN    ADULTO   CROSSFIT  seg, ter, qua, qui, sex  06:00:00  06:00   \n",
       "\n",
       "   AUX 1              AUX 2 PROFESSOR               AUX 3  ...  \\\n",
       "0  MANHÃ  GREENBIKE - 06:00    ALEXIS  GREENBIKE - ALEXIS  ...   \n",
       "1  MANHÃ   CROSSFIT - 06:00    VICTOR   CROSSFIT - VICTOR  ...   \n",
       "\n",
       "  2024-10-25 00:00:00 2024-10-28 00:00:00 2024-10-29 00:00:00  \\\n",
       "0                   x                   x                   5   \n",
       "1                   3                   3                   9   \n",
       "\n",
       "  2024-10-30 00:00:00 2024-10-31 00:00:00 Média alunos p/ professor     Média  \\\n",
       "0                   x                   7                       9.0  5.111111   \n",
       "1                   4                   8                      21.0  5.333333   \n",
       "\n",
       "  Alunos/professor Ocupação Máxima Professor  \n",
       "0              NaN             NaN       0.0  \n",
       "1              NaN             NaN       0.0  \n",
       "\n",
       "[2 rows x 38 columns]"
      ]
     },
     "execution_count": 412,
     "metadata": {},
     "output_type": "execute_result"
    }
   ],
   "source": [
    "dataRIOMAR.head(2)"
   ]
  },
  {
   "cell_type": "code",
   "execution_count": 413,
   "id": "55bd06d8-179b-406a-9ebb-ae64528dbf4a",
   "metadata": {},
   "outputs": [
    {
     "data": {
      "text/plain": [
       "Unnamed: 0                                  NaN\n",
       "CATEGORIA                                ADULTO\n",
       "MODALIDADE                            GREENBIKE\n",
       "DIA DA SEMANA                          ter, qui\n",
       "HORÁRIO                                06:00:00\n",
       "TURNO                                     06:00\n",
       "AUX 1                                     MANHÃ\n",
       "AUX 2                         GREENBIKE - 06:00\n",
       "PROFESSOR                                ALEXIS\n",
       "AUX 3                        GREENBIKE - ALEXIS\n",
       "2024-10-01 00:00:00                           5\n",
       "2024-10-02 00:00:00                           x\n",
       "2024-10-03 00:00:00                           3\n",
       "2024-10-04 00:00:00                           x\n",
       "2024-10-07 00:00:00                           x\n",
       "2024-10-08 00:00:00                           5\n",
       "2024-10-09 00:00:00                           x\n",
       "2024-10-10 00:00:00                           5\n",
       "2024-10-11 00:00:00                           x\n",
       "2024-10-14 00:00:00                           x\n",
       "2024-10-15 00:00:00                           x\n",
       "2024-10-16 00:00:00                           x\n",
       "2024-10-17 00:00:00                           5\n",
       "2024-10-18 00:00:00                           x\n",
       "2024-10-21 00:00:00                           x\n",
       "2024-10-22 00:00:00                           5\n",
       "2024-10-23 00:00:00                           x\n",
       "2024-10-24 00:00:00                           6\n",
       "2024-10-25 00:00:00                           x\n",
       "2024-10-28 00:00:00                           x\n",
       "2024-10-29 00:00:00                           5\n",
       "2024-10-30 00:00:00                           x\n",
       "2024-10-31 00:00:00                           7\n",
       "Média alunos p/ professor                   9.0\n",
       "Média                                  5.111111\n",
       "Alunos/professor                            NaN\n",
       "Ocupação Máxima                             NaN\n",
       "Professor                                   0.0\n",
       "Name: 0, dtype: object"
      ]
     },
     "execution_count": 413,
     "metadata": {},
     "output_type": "execute_result"
    }
   ],
   "source": [
    "dataRIOMAR.iloc[0]"
   ]
  },
  {
   "cell_type": "code",
   "execution_count": 414,
   "id": "d690b78d-d570-4174-a24e-38a7c72aa208",
   "metadata": {},
   "outputs": [
    {
     "data": {
      "text/plain": [
       "Unnamed: 0                                                    NaN\n",
       "CATEGORIA                                              MUSC - S/P\n",
       "MODALIDADE                            A - MUSCULAÇÃO SEM PERSONAL\n",
       "DIA DA SEMANA                             seg, ter, qua, qui, sex\n",
       "HORÁRIO                                                  22:00:00\n",
       "TURNO                                                       22:00\n",
       "AUX 1                                                       NOITE\n",
       "AUX 2                         A - MUSCULAÇÃO SEM PERSONAL - 22:00\n",
       "PROFESSOR                                                  RENATO\n",
       "AUX 3                        A - MUSCULAÇÃO SEM PERSONAL - RENATO\n",
       "2024-10-01 00:00:00                                            10\n",
       "2024-10-02 00:00:00                                            12\n",
       "2024-10-03 00:00:00                                             8\n",
       "2024-10-04 00:00:00                                            10\n",
       "2024-10-07 00:00:00                                            10\n",
       "2024-10-08 00:00:00                                            12\n",
       "2024-10-09 00:00:00                                            14\n",
       "2024-10-10 00:00:00                                            10\n",
       "2024-10-11 00:00:00                                            12\n",
       "2024-10-14 00:00:00                                            15\n",
       "2024-10-15 00:00:00                                            10\n",
       "2024-10-16 00:00:00                                            10\n",
       "2024-10-17 00:00:00                                            12\n",
       "2024-10-18 00:00:00                                            10\n",
       "2024-10-21 00:00:00                                            10\n",
       "2024-10-22 00:00:00                                             8\n",
       "2024-10-23 00:00:00                                             8\n",
       "2024-10-24 00:00:00                                             8\n",
       "2024-10-25 00:00:00                                             5\n",
       "2024-10-28 00:00:00                                             5\n",
       "2024-10-29 00:00:00                                           NaN\n",
       "2024-10-30 00:00:00                                           NaN\n",
       "2024-10-31 00:00:00                                           NaN\n",
       "Média alunos p/ professor                                    20.0\n",
       "Média                                                        9.95\n",
       "Alunos/professor                                              NaN\n",
       "Ocupação Máxima                                               NaN\n",
       "Professor                                                     NaN\n",
       "Name: 210, dtype: object"
      ]
     },
     "execution_count": 414,
     "metadata": {},
     "output_type": "execute_result"
    }
   ],
   "source": [
    "dataRIOMAR.iloc[-1]"
   ]
  },
  {
   "cell_type": "code",
   "execution_count": null,
   "id": "647f6f74-241f-47c7-a5d0-dcd248f10eec",
   "metadata": {},
   "outputs": [],
   "source": []
  },
  {
   "cell_type": "code",
   "execution_count": null,
   "id": "ea70d7b6-01fd-4ee2-b907-b63fa355e5f1",
   "metadata": {},
   "outputs": [],
   "source": []
  },
  {
   "cell_type": "code",
   "execution_count": null,
   "id": "e1338d0f-831a-4ef3-a45b-d9909182e296",
   "metadata": {},
   "outputs": [],
   "source": []
  },
  {
   "cell_type": "code",
   "execution_count": 415,
   "id": "6aba4f5f-d7d1-4abf-9f82-6dd43bde65b9",
   "metadata": {},
   "outputs": [],
   "source": [
    "dropColumns = ['Unnamed: 0', 'AUX 2', 'AUX 3', 'HORÁRIO']"
   ]
  },
  {
   "cell_type": "code",
   "execution_count": 416,
   "id": "69ff4456-4a7e-4a07-bb92-fd7a10b84bd5",
   "metadata": {},
   "outputs": [],
   "source": [
    "dataRIOMAR.drop(columns=dropColumns, inplace=True)"
   ]
  },
  {
   "cell_type": "markdown",
   "id": "4f01c08e-f5ba-4d15-87f2-5b8dbc2dd040",
   "metadata": {},
   "source": [
    "- PRECISAMOS RENOMEAR A COLUNA AUX.1 COMO HORARIO"
   ]
  },
  {
   "cell_type": "code",
   "execution_count": 417,
   "id": "ff71b8d9-a778-49b8-b4f2-986bb6b82f1c",
   "metadata": {},
   "outputs": [],
   "source": [
    "dataRIOMAR.rename(columns={'TURNO': 'HORÁRIO'}, inplace=True)\n",
    "dataRIOMAR.rename(columns={'AUX 1': 'TURNO'}, inplace=True)"
   ]
  },
  {
   "cell_type": "code",
   "execution_count": 418,
   "id": "bec0d82f-c85d-4953-9658-cb776aeb31d9",
   "metadata": {},
   "outputs": [
    {
     "data": {
      "text/html": [
       "<div>\n",
       "<style scoped>\n",
       "    .dataframe tbody tr th:only-of-type {\n",
       "        vertical-align: middle;\n",
       "    }\n",
       "\n",
       "    .dataframe tbody tr th {\n",
       "        vertical-align: top;\n",
       "    }\n",
       "\n",
       "    .dataframe thead th {\n",
       "        text-align: right;\n",
       "    }\n",
       "</style>\n",
       "<table border=\"1\" class=\"dataframe\">\n",
       "  <thead>\n",
       "    <tr style=\"text-align: right;\">\n",
       "      <th></th>\n",
       "      <th>TURNO</th>\n",
       "      <th>HORÁRIO</th>\n",
       "    </tr>\n",
       "  </thead>\n",
       "  <tbody>\n",
       "    <tr>\n",
       "      <th>0</th>\n",
       "      <td>MANHÃ</td>\n",
       "      <td>06:00</td>\n",
       "    </tr>\n",
       "    <tr>\n",
       "      <th>1</th>\n",
       "      <td>MANHÃ</td>\n",
       "      <td>06:00</td>\n",
       "    </tr>\n",
       "  </tbody>\n",
       "</table>\n",
       "</div>"
      ],
      "text/plain": [
       "   TURNO HORÁRIO\n",
       "0  MANHÃ   06:00\n",
       "1  MANHÃ   06:00"
      ]
     },
     "execution_count": 418,
     "metadata": {},
     "output_type": "execute_result"
    }
   ],
   "source": [
    "dataRIOMAR[['TURNO', 'HORÁRIO']].head(2)"
   ]
  },
  {
   "cell_type": "code",
   "execution_count": null,
   "id": "26480da8-1d4b-4bf5-9454-632de0b2f934",
   "metadata": {},
   "outputs": [],
   "source": []
  },
  {
   "cell_type": "code",
   "execution_count": null,
   "id": "21bb380d-ebeb-4d65-8dbb-6a4f9dfd9768",
   "metadata": {},
   "outputs": [],
   "source": []
  },
  {
   "cell_type": "markdown",
   "id": "fa865c0c-fbed-471d-8f92-6865a7ecc86d",
   "metadata": {},
   "source": [
    "### 2 PASSO: Renomeando strings de datas, para que o pandas possa aceitar como colunas"
   ]
  },
  {
   "cell_type": "code",
   "execution_count": 419,
   "id": "75baa022-728e-496f-bbb1-5fabef435d8a",
   "metadata": {},
   "outputs": [
    {
     "name": "stdout",
     "output_type": "stream",
     "text": [
      "CATEGORIA\n",
      "MODALIDADE\n",
      "DIA DA SEMANA\n",
      "HORÁRIO\n",
      "TURNO\n",
      "PROFESSOR\n",
      "2024-10-01 00:00:00\n",
      "2024-10-02 00:00:00\n",
      "2024-10-03 00:00:00\n",
      "2024-10-04 00:00:00\n",
      "2024-10-07 00:00:00\n",
      "2024-10-08 00:00:00\n",
      "2024-10-09 00:00:00\n",
      "2024-10-10 00:00:00\n",
      "2024-10-11 00:00:00\n",
      "2024-10-14 00:00:00\n",
      "2024-10-15 00:00:00\n",
      "2024-10-16 00:00:00\n",
      "2024-10-17 00:00:00\n",
      "2024-10-18 00:00:00\n",
      "2024-10-21 00:00:00\n",
      "2024-10-22 00:00:00\n",
      "2024-10-23 00:00:00\n",
      "2024-10-24 00:00:00\n",
      "2024-10-25 00:00:00\n",
      "2024-10-28 00:00:00\n",
      "2024-10-29 00:00:00\n",
      "2024-10-30 00:00:00\n",
      "2024-10-31 00:00:00\n",
      "Média alunos p/ professor\n",
      "Média\n",
      "Alunos/professor\n",
      "Ocupação Máxima\n",
      "Professor\n"
     ]
    }
   ],
   "source": [
    "for columns in dataRIOMAR.columns:\n",
    "    print(columns)"
   ]
  },
  {
   "cell_type": "code",
   "execution_count": 420,
   "id": "4d4d95f3-a8e0-4a79-9c2f-424b904831b6",
   "metadata": {},
   "outputs": [],
   "source": [
    "dataRIOMAR.columns = [\n",
    "'CATEGORIA',\n",
    "'MODALIDADE',\n",
    "'DIA DA SEMANA',\n",
    "'HORÁRIO',\n",
    "'TURNO',\n",
    "'PROFESSOR',\n",
    "'2024-10-01 00:00:00',\n",
    "'2024-10-02 00:00:00',\n",
    "'2024-10-03 00:00:00',\n",
    "'2024-10-04 00:00:00',\n",
    "'2024-10-07 00:00:00',\n",
    "'2024-10-08 00:00:00',\n",
    "'2024-10-09 00:00:00',\n",
    "'2024-10-10 00:00:00',\n",
    "'2024-10-11 00:00:00',\n",
    "'2024-10-14 00:00:00',\n",
    "'2024-10-15 00:00:00',\n",
    "'2024-10-16 00:00:00',\n",
    "'2024-10-17 00:00:00',\n",
    "'2024-10-18 00:00:00',\n",
    "'2024-10-21 00:00:00',\n",
    "'2024-10-22 00:00:00',\n",
    "'2024-10-23 00:00:00',\n",
    "'2024-10-24 00:00:00',\n",
    "'2024-10-25 00:00:00',\n",
    "'2024-10-28 00:00:00',\n",
    "'2024-10-29 00:00:00',\n",
    "'2024-10-30 00:00:00',\n",
    "'2024-10-31 00:00:00',\n",
    "'Média alunos p/ professor',\n",
    "'Média',\n",
    "'Alunos/professor',\n",
    "'Ocupação Máxima',\n",
    "'Professor']"
   ]
  },
  {
   "cell_type": "code",
   "execution_count": null,
   "id": "02c8dbca-f1a2-4f03-b54c-80b3f7a9b3f4",
   "metadata": {},
   "outputs": [],
   "source": []
  },
  {
   "cell_type": "code",
   "execution_count": null,
   "id": "28937802-da76-4cac-8d7b-b16a0189e65f",
   "metadata": {},
   "outputs": [],
   "source": []
  },
  {
   "cell_type": "code",
   "execution_count": null,
   "id": "64ae4047-f90b-45a5-acd3-89d462e42e2a",
   "metadata": {},
   "outputs": [],
   "source": []
  },
  {
   "cell_type": "markdown",
   "id": "f835483d-6e7e-4fd0-80ec-d6c7a9929193",
   "metadata": {},
   "source": [
    "### PASSO 3: Escolhendo colunas com o nome de 'datas', para renomear pelo o tipo dia, mês e ano. e removendo os 00 de horas"
   ]
  },
  {
   "cell_type": "code",
   "execution_count": 421,
   "id": "698899c5-c605-4cd7-a833-d99a55afa219",
   "metadata": {},
   "outputs": [],
   "source": [
    "colunas = [\n",
    "'2024-10-01 00:00:00',\n",
    "'2024-10-02 00:00:00',\n",
    "'2024-10-03 00:00:00',\n",
    "'2024-10-04 00:00:00',\n",
    "'2024-10-07 00:00:00',\n",
    "'2024-10-08 00:00:00',\n",
    "'2024-10-09 00:00:00',\n",
    "'2024-10-10 00:00:00',\n",
    "'2024-10-11 00:00:00',\n",
    "'2024-10-14 00:00:00',\n",
    "'2024-10-15 00:00:00',\n",
    "'2024-10-16 00:00:00',\n",
    "'2024-10-17 00:00:00',\n",
    "'2024-10-18 00:00:00',\n",
    "'2024-10-21 00:00:00',\n",
    "'2024-10-22 00:00:00',\n",
    "'2024-10-23 00:00:00',\n",
    "'2024-10-24 00:00:00',\n",
    "'2024-10-25 00:00:00',\n",
    "'2024-10-28 00:00:00',\n",
    "'2024-10-29 00:00:00',\n",
    "'2024-10-30 00:00:00',\n",
    "'2024-10-31 00:00:00']"
   ]
  },
  {
   "cell_type": "code",
   "execution_count": 422,
   "id": "19df6af5-c3c2-4b35-a6c8-7f67d641f74f",
   "metadata": {},
   "outputs": [],
   "source": [
    "novas_colunas_RIOMAR = []"
   ]
  },
  {
   "cell_type": "code",
   "execution_count": 423,
   "id": "6f4bc09c-a844-45fb-8bf8-aa4e3fb5d042",
   "metadata": {},
   "outputs": [],
   "source": [
    "for columns in colunas:\n",
    "    # Remove a parte da hora\n",
    "    data_sem_hora = columns.split(' ')[0]\n",
    "    \n",
    "    # Formata para o formato DD-MM-YYYY\n",
    "    ano, mes, dia = data_sem_hora.split('-')\n",
    "    novo_nome = f'{dia}-{mes}-{ano}'\n",
    "    novas_colunas_RIOMAR.append(novo_nome)"
   ]
  },
  {
   "cell_type": "code",
   "execution_count": 424,
   "id": "4bfc3881-17f4-41e9-9885-626f35d4d71d",
   "metadata": {},
   "outputs": [
    {
     "data": {
      "text/plain": [
       "['01-10-2024',\n",
       " '02-10-2024',\n",
       " '03-10-2024',\n",
       " '04-10-2024',\n",
       " '07-10-2024',\n",
       " '08-10-2024',\n",
       " '09-10-2024',\n",
       " '10-10-2024',\n",
       " '11-10-2024',\n",
       " '14-10-2024',\n",
       " '15-10-2024',\n",
       " '16-10-2024',\n",
       " '17-10-2024',\n",
       " '18-10-2024',\n",
       " '21-10-2024',\n",
       " '22-10-2024',\n",
       " '23-10-2024',\n",
       " '24-10-2024',\n",
       " '25-10-2024',\n",
       " '28-10-2024',\n",
       " '29-10-2024',\n",
       " '30-10-2024',\n",
       " '31-10-2024']"
      ]
     },
     "execution_count": 424,
     "metadata": {},
     "output_type": "execute_result"
    }
   ],
   "source": [
    "novas_colunas_RIOMAR"
   ]
  },
  {
   "cell_type": "code",
   "execution_count": null,
   "id": "666f8763-b066-4da4-90c8-4356f0784022",
   "metadata": {},
   "outputs": [],
   "source": []
  },
  {
   "cell_type": "code",
   "execution_count": null,
   "id": "be554772-57ae-410e-8221-7bcfbeef9317",
   "metadata": {},
   "outputs": [],
   "source": []
  },
  {
   "cell_type": "code",
   "execution_count": null,
   "id": "bea5fccf-d511-47ee-9e80-0fdfad155762",
   "metadata": {},
   "outputs": [],
   "source": []
  },
  {
   "cell_type": "markdown",
   "id": "f96c9a60-97f6-4ff2-88c6-2baebde9c865",
   "metadata": {},
   "source": [
    "### PASSO 4 renomeando colunas e acrescentando o novo formato "
   ]
  },
  {
   "cell_type": "markdown",
   "id": "4647b12a-4a14-4315-b4f3-5d535a8e2d2e",
   "metadata": {},
   "source": [
    "copie as colunas que escolheu para renomear, e cole o formato novo no lugar das velhas"
   ]
  },
  {
   "cell_type": "code",
   "execution_count": 425,
   "id": "f21955d9-9890-4c20-ac9b-79019713b86b",
   "metadata": {},
   "outputs": [],
   "source": [
    "# Adicionando as datas formatadas as colunas, copiando e colando"
   ]
  },
  {
   "cell_type": "code",
   "execution_count": 426,
   "id": "6067ebf1-e86d-488a-a054-da22c4e78cc9",
   "metadata": {},
   "outputs": [
    {
     "name": "stdout",
     "output_type": "stream",
     "text": [
      "CATEGORIA\n",
      "MODALIDADE\n",
      "DIA DA SEMANA\n",
      "HORÁRIO\n",
      "TURNO\n",
      "PROFESSOR\n",
      "2024-10-01 00:00:00\n",
      "2024-10-02 00:00:00\n",
      "2024-10-03 00:00:00\n",
      "2024-10-04 00:00:00\n",
      "2024-10-07 00:00:00\n",
      "2024-10-08 00:00:00\n",
      "2024-10-09 00:00:00\n",
      "2024-10-10 00:00:00\n",
      "2024-10-11 00:00:00\n",
      "2024-10-14 00:00:00\n",
      "2024-10-15 00:00:00\n",
      "2024-10-16 00:00:00\n",
      "2024-10-17 00:00:00\n",
      "2024-10-18 00:00:00\n",
      "2024-10-21 00:00:00\n",
      "2024-10-22 00:00:00\n",
      "2024-10-23 00:00:00\n",
      "2024-10-24 00:00:00\n",
      "2024-10-25 00:00:00\n",
      "2024-10-28 00:00:00\n",
      "2024-10-29 00:00:00\n",
      "2024-10-30 00:00:00\n",
      "2024-10-31 00:00:00\n",
      "Média alunos p/ professor\n",
      "Média\n",
      "Alunos/professor\n",
      "Ocupação Máxima\n",
      "Professor\n"
     ]
    }
   ],
   "source": [
    "for columns in dataRIOMAR.columns:\n",
    "    print (columns)"
   ]
  },
  {
   "cell_type": "code",
   "execution_count": 427,
   "id": "358ff8b4-960f-4a9a-9bcf-aa7711ecf798",
   "metadata": {},
   "outputs": [],
   "source": [
    "dataRIOMAR.columns = [\n",
    "'CATEGORIA',\n",
    "'MODALIDADE',\n",
    "'DIA DA SEMANA',\n",
    "'HORÁRIO',\n",
    "'TURNO',\n",
    "'PROFESSOR',\n",
    "'01-10-2024',\n",
    "'02-10-2024',\n",
    "'03-10-2024',\n",
    "'04-10-2024',\n",
    "'07-10-2024',\n",
    "'08-10-2024',\n",
    "'09-10-2024',\n",
    "'10-10-2024',\n",
    "'11-10-2024',\n",
    "'14-10-2024',\n",
    "'15-10-2024',\n",
    "'16-10-2024',\n",
    "'17-10-2024',\n",
    "'18-10-2024',\n",
    "'21-10-2024',\n",
    "'22-10-2024',\n",
    "'23-10-2024',\n",
    "'24-10-2024',\n",
    "'25-10-2024',\n",
    "'28-10-2024',\n",
    "'29-10-2024',\n",
    "'30-10-2024',\n",
    "'31-10-2024',\n",
    "'Média alunos p/ professor',\n",
    "'Média',\n",
    "'Alunos/professor',\n",
    "'Ocupação Máxima',\n",
    "'Professor']"
   ]
  },
  {
   "cell_type": "code",
   "execution_count": 428,
   "id": "751af0be-3168-49c9-b9d1-3d0d10e38996",
   "metadata": {},
   "outputs": [
    {
     "data": {
      "text/plain": [
       "Index(['CATEGORIA', 'MODALIDADE', 'DIA DA SEMANA', 'HORÁRIO', 'TURNO',\n",
       "       'PROFESSOR', '01-10-2024', '02-10-2024', '03-10-2024', '04-10-2024',\n",
       "       '07-10-2024', '08-10-2024', '09-10-2024', '10-10-2024', '11-10-2024',\n",
       "       '14-10-2024', '15-10-2024', '16-10-2024', '17-10-2024', '18-10-2024',\n",
       "       '21-10-2024', '22-10-2024', '23-10-2024', '24-10-2024', '25-10-2024',\n",
       "       '28-10-2024', '29-10-2024', '30-10-2024', '31-10-2024',\n",
       "       'Média alunos p/ professor', 'Média', 'Alunos/professor',\n",
       "       'Ocupação Máxima', 'Professor'],\n",
       "      dtype='object')"
      ]
     },
     "execution_count": 428,
     "metadata": {},
     "output_type": "execute_result"
    }
   ],
   "source": [
    "dataRIOMAR.columns"
   ]
  },
  {
   "cell_type": "code",
   "execution_count": null,
   "id": "930f4f7b-50e5-4afd-81f9-e2c929f1dc85",
   "metadata": {},
   "outputs": [],
   "source": []
  },
  {
   "cell_type": "code",
   "execution_count": null,
   "id": "19058b18-c4f0-4c7f-874e-4150c21a7de1",
   "metadata": {},
   "outputs": [],
   "source": []
  },
  {
   "cell_type": "code",
   "execution_count": null,
   "id": "a1e24a5b-2514-483f-b94f-efa3f36301c0",
   "metadata": {},
   "outputs": [],
   "source": []
  },
  {
   "cell_type": "markdown",
   "id": "79553492-dd46-437c-b249-6bf1cc850b5b",
   "metadata": {},
   "source": [
    "### 5 PASSO: Usar o Loop for para substitituir os valores das frequencia de 'x' e 'X' por zero, com o método do pd.to_numeric) "
   ]
  },
  {
   "cell_type": "code",
   "execution_count": 429,
   "id": "47f040e7-63b7-4d5f-ad78-5986499de671",
   "metadata": {},
   "outputs": [],
   "source": [
    "colunas = [\n",
    "'01-10-2024',\n",
    "'02-10-2024',\n",
    "'03-10-2024',\n",
    "'04-10-2024',\n",
    "'07-10-2024',\n",
    "'08-10-2024',\n",
    "'09-10-2024',\n",
    "'10-10-2024',\n",
    "'11-10-2024',\n",
    "'14-10-2024',\n",
    "'15-10-2024',\n",
    "'16-10-2024',\n",
    "'17-10-2024',\n",
    "'18-10-2024',\n",
    "'21-10-2024',\n",
    "'22-10-2024',\n",
    "'23-10-2024',\n",
    "'24-10-2024',\n",
    "'25-10-2024',\n",
    "'28-10-2024',\n",
    "'29-10-2024',\n",
    "'30-10-2024',\n",
    "'31-10-2024']"
   ]
  },
  {
   "cell_type": "markdown",
   "id": "dfde3f66-6887-4921-b4a3-0fce43470c08",
   "metadata": {},
   "source": [
    "Fazendo a limpeza profunda, formatando valores para numeros, preenchendo com zeros os nulos e transformando em inteiros"
   ]
  },
  {
   "cell_type": "code",
   "execution_count": 430,
   "id": "66134cd8-37f3-4a46-89f3-fc3498114a2d",
   "metadata": {},
   "outputs": [],
   "source": [
    "for columns in colunas:\n",
    "    # dataMES[columns] = pd.to_numeric(dataMES[columns], errors='coerce')\n",
    "    dataRIOMAR[columns] = pd.to_numeric(dataRIOMAR[columns], errors='coerce').fillna(0).astype(int)"
   ]
  },
  {
   "cell_type": "code",
   "execution_count": null,
   "id": "e1f2b3de-2d64-4aab-9506-79b6c54b5918",
   "metadata": {},
   "outputs": [],
   "source": []
  },
  {
   "cell_type": "code",
   "execution_count": null,
   "id": "52bd3d91-7774-43de-8a72-acdd68d40fcb",
   "metadata": {},
   "outputs": [],
   "source": []
  },
  {
   "cell_type": "code",
   "execution_count": null,
   "id": "a7164f9d-2743-4def-ad1c-6e5f1ea8ceee",
   "metadata": {},
   "outputs": [],
   "source": []
  },
  {
   "cell_type": "markdown",
   "id": "34575361-6df5-4824-ab7c-1c19731e38f5",
   "metadata": {},
   "source": [
    "### PASSO 6: MELT derretendo as colunas em formato de datas"
   ]
  },
  {
   "cell_type": "markdown",
   "id": "0d6557cf-3e1d-408a-8127-29e63d8a345d",
   "metadata": {},
   "source": [
    "o MELT ele pega as colunas que estão na horizontal e cria uma coluna de categorias, e depois ele cria outra coluna com os valores dessas colunas que foram transformadas em dados categóricos"
   ]
  },
  {
   "cell_type": "code",
   "execution_count": 431,
   "id": "377040b6-d05e-4a1f-92b2-55d7324e54b1",
   "metadata": {},
   "outputs": [],
   "source": [
    "colunas_para_melt = [\n",
    "'01-10-2024',\n",
    "'02-10-2024',\n",
    "'03-10-2024',\n",
    "'04-10-2024',\n",
    "'07-10-2024',\n",
    "'08-10-2024',\n",
    "'09-10-2024',\n",
    "'10-10-2024',\n",
    "'11-10-2024',\n",
    "'14-10-2024',\n",
    "'15-10-2024',\n",
    "'16-10-2024',\n",
    "'17-10-2024',\n",
    "'18-10-2024',\n",
    "'21-10-2024',\n",
    "'22-10-2024',\n",
    "'23-10-2024',\n",
    "'24-10-2024',\n",
    "'25-10-2024',\n",
    "'28-10-2024',\n",
    "'29-10-2024',\n",
    "'30-10-2024',\n",
    "'31-10-2024']"
   ]
  },
  {
   "cell_type": "code",
   "execution_count": null,
   "id": "bbb2113d-2337-4e79-b869-243b25f979da",
   "metadata": {},
   "outputs": [],
   "source": []
  },
  {
   "cell_type": "code",
   "execution_count": null,
   "id": "c4b6e356-aa2c-4280-9fd0-8078192b0954",
   "metadata": {},
   "outputs": [],
   "source": []
  },
  {
   "cell_type": "code",
   "execution_count": null,
   "id": "04c1454b-7690-4627-a56f-50e50ec38a90",
   "metadata": {},
   "outputs": [],
   "source": []
  },
  {
   "cell_type": "markdown",
   "id": "d130e519-15f7-4e83-a6b6-9c81cf600f26",
   "metadata": {},
   "source": [
    "#### Indentificando as colunas que Eu quero manter em meu dataframe"
   ]
  },
  {
   "cell_type": "code",
   "execution_count": 432,
   "id": "e4ba6011-8301-458e-a461-37802ca9b814",
   "metadata": {},
   "outputs": [],
   "source": [
    "# Identifica as colunas que você quer manter como identificadoras (id_vars)\n",
    "# São as colunas que não serão \"unpivoted\"\n",
    "id_vars_cols = [columns for columns in dataRIOMAR.columns if columns not in colunas_para_melt]"
   ]
  },
  {
   "cell_type": "code",
   "execution_count": null,
   "id": "c6bccd5f-7810-47d3-823f-81b57dc25cc1",
   "metadata": {},
   "outputs": [],
   "source": []
  },
  {
   "cell_type": "code",
   "execution_count": null,
   "id": "dfb247d5-ce9a-45b8-ae46-4c71695f3c0c",
   "metadata": {},
   "outputs": [],
   "source": []
  },
  {
   "cell_type": "code",
   "execution_count": null,
   "id": "545449a9-be7d-4d27-907a-3588fbf75e29",
   "metadata": {},
   "outputs": [],
   "source": []
  },
  {
   "cell_type": "code",
   "execution_count": 433,
   "id": "948a8954-c3ab-42b4-939b-38b4046530d1",
   "metadata": {},
   "outputs": [],
   "source": [
    "dataRIOMAR_melted = pd.melt(dataRIOMAR,\n",
    "                      id_vars=id_vars_cols, #colunas que Eu deixei, que ficaram.\n",
    "                      value_vars=colunas_para_melt, #colunas que vão se transformar.\n",
    "                      var_name='Dias de Aulas', # nome da coluna categorica\n",
    "                      value_name='Frequencia de Alunos') # nome da coluna de valores"
   ]
  },
  {
   "cell_type": "code",
   "execution_count": 434,
   "id": "efe809d2-f5db-4961-8b71-aec734b8bc8a",
   "metadata": {},
   "outputs": [
    {
     "data": {
      "text/html": [
       "<div>\n",
       "<style scoped>\n",
       "    .dataframe tbody tr th:only-of-type {\n",
       "        vertical-align: middle;\n",
       "    }\n",
       "\n",
       "    .dataframe tbody tr th {\n",
       "        vertical-align: top;\n",
       "    }\n",
       "\n",
       "    .dataframe thead th {\n",
       "        text-align: right;\n",
       "    }\n",
       "</style>\n",
       "<table border=\"1\" class=\"dataframe\">\n",
       "  <thead>\n",
       "    <tr style=\"text-align: right;\">\n",
       "      <th></th>\n",
       "      <th>CATEGORIA</th>\n",
       "      <th>MODALIDADE</th>\n",
       "      <th>DIA DA SEMANA</th>\n",
       "      <th>HORÁRIO</th>\n",
       "      <th>TURNO</th>\n",
       "      <th>PROFESSOR</th>\n",
       "      <th>Média alunos p/ professor</th>\n",
       "      <th>Média</th>\n",
       "      <th>Alunos/professor</th>\n",
       "      <th>Ocupação Máxima</th>\n",
       "      <th>Professor</th>\n",
       "      <th>Dias de Aulas</th>\n",
       "      <th>Frequencia de Alunos</th>\n",
       "    </tr>\n",
       "  </thead>\n",
       "  <tbody>\n",
       "    <tr>\n",
       "      <th>0</th>\n",
       "      <td>ADULTO</td>\n",
       "      <td>GREENBIKE</td>\n",
       "      <td>ter, qui</td>\n",
       "      <td>06:00</td>\n",
       "      <td>MANHÃ</td>\n",
       "      <td>ALEXIS</td>\n",
       "      <td>9.0</td>\n",
       "      <td>5.111111</td>\n",
       "      <td>NaN</td>\n",
       "      <td>NaN</td>\n",
       "      <td>0.0</td>\n",
       "      <td>01-10-2024</td>\n",
       "      <td>5</td>\n",
       "    </tr>\n",
       "    <tr>\n",
       "      <th>1</th>\n",
       "      <td>ADULTO</td>\n",
       "      <td>CROSSFIT</td>\n",
       "      <td>seg, ter, qua, qui, sex</td>\n",
       "      <td>06:00</td>\n",
       "      <td>MANHÃ</td>\n",
       "      <td>VICTOR</td>\n",
       "      <td>21.0</td>\n",
       "      <td>5.333333</td>\n",
       "      <td>NaN</td>\n",
       "      <td>NaN</td>\n",
       "      <td>0.0</td>\n",
       "      <td>01-10-2024</td>\n",
       "      <td>11</td>\n",
       "    </tr>\n",
       "  </tbody>\n",
       "</table>\n",
       "</div>"
      ],
      "text/plain": [
       "  CATEGORIA MODALIDADE            DIA DA SEMANA HORÁRIO  TURNO PROFESSOR  \\\n",
       "0    ADULTO  GREENBIKE                 ter, qui   06:00  MANHÃ    ALEXIS   \n",
       "1    ADULTO   CROSSFIT  seg, ter, qua, qui, sex   06:00  MANHÃ    VICTOR   \n",
       "\n",
       "   Média alunos p/ professor     Média Alunos/professor  Ocupação Máxima  \\\n",
       "0                        9.0  5.111111              NaN              NaN   \n",
       "1                       21.0  5.333333              NaN              NaN   \n",
       "\n",
       "   Professor Dias de Aulas  Frequencia de Alunos  \n",
       "0        0.0    01-10-2024                     5  \n",
       "1        0.0    01-10-2024                    11  "
      ]
     },
     "execution_count": 434,
     "metadata": {},
     "output_type": "execute_result"
    }
   ],
   "source": [
    "dataRIOMAR_melted.head(2)"
   ]
  },
  {
   "cell_type": "code",
   "execution_count": 435,
   "id": "3df37f63-0244-40e9-a039-fa070768acd3",
   "metadata": {},
   "outputs": [
    {
     "data": {
      "text/plain": [
       "30839"
      ]
     },
     "execution_count": 435,
     "metadata": {},
     "output_type": "execute_result"
    }
   ],
   "source": [
    "dataRIOMAR_melted['Frequencia de Alunos'].sum()"
   ]
  },
  {
   "cell_type": "markdown",
   "id": "1f7b8b7d-4aaa-4505-bc76-11cb6f7cb199",
   "metadata": {},
   "source": [
    "___"
   ]
  },
  {
   "cell_type": "code",
   "execution_count": null,
   "id": "fd0e067c-9375-4082-80ee-c51d41141835",
   "metadata": {},
   "outputs": [],
   "source": []
  },
  {
   "cell_type": "code",
   "execution_count": null,
   "id": "cf81df18-fd11-4842-8309-2229706a7087",
   "metadata": {},
   "outputs": [],
   "source": []
  },
  {
   "cell_type": "markdown",
   "id": "2d4117f5-9aa2-4e70-9eac-593b3d5c1499",
   "metadata": {},
   "source": [
    "___"
   ]
  },
  {
   "cell_type": "markdown",
   "id": "3d3c1bf7-49fc-4f45-903b-540a673b4ec6",
   "metadata": {},
   "source": [
    "# ULTIMOS AJUSTES PARA CONCATENÇÃO E EXPORTAÇÃO"
   ]
  },
  {
   "cell_type": "markdown",
   "id": "8b01afc2-c321-4965-86d7-d163fac58a4a",
   "metadata": {},
   "source": [
    "checando, são as todas as colunas e as quantidades das frequencias\n",
    "- CATEGORIA\n",
    "- MODALIDADE\n",
    "- DIA DA SEMANA\n",
    "- HORÁRIO\n",
    "- TURNO\n",
    "- PROFESSOR\n",
    "\n"
   ]
  },
  {
   "cell_type": "markdown",
   "id": "00e377b6-ee39-4597-ae6b-94dff2311f94",
   "metadata": {},
   "source": [
    "1. MESSAJANA [MES]\n",
    "- Colunas: OK\n",
    "- Soma das Frequencias: OK"
   ]
  },
  {
   "cell_type": "code",
   "execution_count": null,
   "id": "56d5fb7b-6f85-4889-9355-24f7fc31892e",
   "metadata": {},
   "outputs": [],
   "source": []
  },
  {
   "cell_type": "code",
   "execution_count": null,
   "id": "74ec8ee4-2ce5-4403-a948-28e2f8133e1f",
   "metadata": {},
   "outputs": [],
   "source": []
  },
  {
   "cell_type": "code",
   "execution_count": null,
   "id": "812125ff-3abb-47ff-85c1-7d88ae708b46",
   "metadata": {},
   "outputs": [],
   "source": []
  },
  {
   "cell_type": "markdown",
   "id": "1e5cd0d8-9192-48e0-8cd9-a08a974ca2bc",
   "metadata": {},
   "source": [
    "### Concatenação Final"
   ]
  },
  {
   "cell_type": "code",
   "execution_count": 436,
   "id": "99647cd7-b33d-4e13-ad83-bcfe98076aa6",
   "metadata": {},
   "outputs": [],
   "source": [
    "# Suponha que seus DataFrames (dataMES_melted, etc.) já estejam definidos\n",
    "\n",
    "lista_de_dataframes = [\n",
    "    dataMES_melted, dataALD_melted, dataFAT_melted, dataBOOT_melted, dataCAMB_melted,\n",
    "    dataEUS_melted, dataGUA_melted, dataKEN_melted, dataMPE_melted, dataMAR_melted,\n",
    "    dataSUL_melted, dataRUI_melted, dataPAS_melted, dataPARQ_melted, dataPERS_melted,\n",
    "    dataJOQ_melted, dataRIOMAR_melted]"
   ]
  },
  {
   "cell_type": "code",
   "execution_count": 437,
   "id": "ece330e9-174f-494f-b89d-69061775cf4f",
   "metadata": {},
   "outputs": [],
   "source": [
    "nomes_unidades = [\n",
    "    'MESSEJANA', 'ALDEOTA', 'FATIMA', 'BOOTCAMP', 'CAMBEBA',\n",
    "    'EUSÉBIO', 'GUARARÁPES', 'KENNEDY', 'MARANGUAPE', 'MARAPONGA',\n",
    "    'SUL', 'RUI BARBOSA', 'PASSARÉ', 'PARQUELÂNDIA', 'PERSONAL',\n",
    "    'JÓQUEI', 'RIOMAR'\n",
    "]"
   ]
  },
  {
   "cell_type": "code",
   "execution_count": 438,
   "id": "61af807a-a1ac-4ab2-bd6b-6a18e8aad6c0",
   "metadata": {},
   "outputs": [],
   "source": [
    "dataframe_concatenado = pd.concat(lista_de_dataframes, keys=nomes_unidades, names=['Unidade'], ignore_index=False)\n"
   ]
  },
  {
   "cell_type": "code",
   "execution_count": 439,
   "id": "8c10bda3-a579-43f4-a14d-799d66cf7e4d",
   "metadata": {},
   "outputs": [],
   "source": [
    "dataframe_concatenado = dataframe_concatenado.reset_index(level='Unidade')"
   ]
  },
  {
   "cell_type": "code",
   "execution_count": 440,
   "id": "e2d6c963-9d47-4bd0-862b-21ea578777b6",
   "metadata": {},
   "outputs": [
    {
     "data": {
      "text/html": [
       "<div>\n",
       "<style scoped>\n",
       "    .dataframe tbody tr th:only-of-type {\n",
       "        vertical-align: middle;\n",
       "    }\n",
       "\n",
       "    .dataframe tbody tr th {\n",
       "        vertical-align: top;\n",
       "    }\n",
       "\n",
       "    .dataframe thead th {\n",
       "        text-align: right;\n",
       "    }\n",
       "</style>\n",
       "<table border=\"1\" class=\"dataframe\">\n",
       "  <thead>\n",
       "    <tr style=\"text-align: right;\">\n",
       "      <th></th>\n",
       "      <th>Unidade</th>\n",
       "      <th>CATEGORIA</th>\n",
       "      <th>MODALIDADE</th>\n",
       "      <th>DIA DA SEMANA</th>\n",
       "      <th>HORÁRIO</th>\n",
       "      <th>TURNO</th>\n",
       "      <th>PROFESSOR</th>\n",
       "      <th>Média alunos p/ professor</th>\n",
       "      <th>Média</th>\n",
       "      <th>Alunos/professor</th>\n",
       "      <th>Ocupação Máxima</th>\n",
       "      <th>Professor</th>\n",
       "      <th>Dias de Aulas</th>\n",
       "      <th>Frequencia de Alunos</th>\n",
       "      <th>Aulas/mês</th>\n",
       "      <th>Ocupação Máxima0</th>\n",
       "    </tr>\n",
       "  </thead>\n",
       "  <tbody>\n",
       "    <tr>\n",
       "      <th>0</th>\n",
       "      <td>MESSEJANA</td>\n",
       "      <td>QUADRA</td>\n",
       "      <td>BEACH TENNIS - INICIANTE</td>\n",
       "      <td>seg, qua, sex</td>\n",
       "      <td>05:30</td>\n",
       "      <td>MANHÃ</td>\n",
       "      <td>KELY</td>\n",
       "      <td>13.0</td>\n",
       "      <td>0.923077</td>\n",
       "      <td>NaN</td>\n",
       "      <td>NaN</td>\n",
       "      <td>NaN</td>\n",
       "      <td>01-10-2024</td>\n",
       "      <td>0</td>\n",
       "      <td>NaN</td>\n",
       "      <td>NaN</td>\n",
       "    </tr>\n",
       "    <tr>\n",
       "      <th>1</th>\n",
       "      <td>MESSEJANA</td>\n",
       "      <td>QUADRA</td>\n",
       "      <td>BEACH TENNIS - INTERMEDIÁRIO</td>\n",
       "      <td>ter, qui</td>\n",
       "      <td>05:30</td>\n",
       "      <td>MANHÃ</td>\n",
       "      <td>KELY</td>\n",
       "      <td>11.0</td>\n",
       "      <td>4.636364</td>\n",
       "      <td>NaN</td>\n",
       "      <td>NaN</td>\n",
       "      <td>NaN</td>\n",
       "      <td>01-10-2024</td>\n",
       "      <td>4</td>\n",
       "      <td>NaN</td>\n",
       "      <td>NaN</td>\n",
       "    </tr>\n",
       "  </tbody>\n",
       "</table>\n",
       "</div>"
      ],
      "text/plain": [
       "     Unidade CATEGORIA                    MODALIDADE  DIA DA SEMANA HORÁRIO  \\\n",
       "0  MESSEJANA    QUADRA      BEACH TENNIS - INICIANTE  seg, qua, sex   05:30   \n",
       "1  MESSEJANA    QUADRA  BEACH TENNIS - INTERMEDIÁRIO       ter, qui   05:30   \n",
       "\n",
       "   TURNO PROFESSOR Média alunos p/ professor     Média Alunos/professor  \\\n",
       "0  MANHÃ      KELY                      13.0  0.923077              NaN   \n",
       "1  MANHÃ      KELY                      11.0  4.636364              NaN   \n",
       "\n",
       "   Ocupação Máxima  Professor Dias de Aulas  Frequencia de Alunos  Aulas/mês  \\\n",
       "0              NaN        NaN    01-10-2024                     0        NaN   \n",
       "1              NaN        NaN    01-10-2024                     4        NaN   \n",
       "\n",
       "   Ocupação Máxima0  \n",
       "0               NaN  \n",
       "1               NaN  "
      ]
     },
     "execution_count": 440,
     "metadata": {},
     "output_type": "execute_result"
    }
   ],
   "source": [
    "dataframe_concatenado.head(2)"
   ]
  },
  {
   "cell_type": "markdown",
   "id": "66a26abb-5679-4a4a-9195-d19551e445e0",
   "metadata": {},
   "source": [
    "#### Exportando"
   ]
  },
  {
   "cell_type": "code",
   "execution_count": 443,
   "id": "3fd25f41-b421-4960-907b-c0d8f6d5d3b2",
   "metadata": {},
   "outputs": [],
   "source": [
    "dataframe_concatenado.to_excel('mapa_concatenado_limpo_08-04-2025.xlsx', index=False)"
   ]
  },
  {
   "cell_type": "code",
   "execution_count": null,
   "id": "04cecb95-67d8-4732-8890-7a6dfb051050",
   "metadata": {},
   "outputs": [],
   "source": []
  }
 ],
 "metadata": {
  "kernelspec": {
   "display_name": "Python 3 (ipykernel)",
   "language": "python",
   "name": "python3"
  },
  "language_info": {
   "codemirror_mode": {
    "name": "ipython",
    "version": 3
   },
   "file_extension": ".py",
   "mimetype": "text/x-python",
   "name": "python",
   "nbconvert_exporter": "python",
   "pygments_lexer": "ipython3",
   "version": "3.10.9"
  },
  "toc-autonumbering": false,
  "toc-showcode": false,
  "toc-showtags": true
 },
 "nbformat": 4,
 "nbformat_minor": 5
}
